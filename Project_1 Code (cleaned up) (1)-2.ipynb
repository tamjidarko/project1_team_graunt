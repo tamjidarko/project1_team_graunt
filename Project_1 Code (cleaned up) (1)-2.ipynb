{
 "cells": [
  {
   "cell_type": "code",
   "execution_count": 5,
   "id": "b2eec31a",
   "metadata": {},
   "outputs": [
    {
     "name": "stdout",
     "output_type": "stream",
     "text": [
      "Requirement already satisfied: wbdata in /opt/conda/lib/python3.9/site-packages (0.3.0)\r\n",
      "Requirement already satisfied: decorator>=4.0 in /opt/conda/lib/python3.9/site-packages (from wbdata) (5.0.9)\r\n",
      "Requirement already satisfied: appdirs<2.0,>=1.4 in /opt/conda/lib/python3.9/site-packages (from wbdata) (1.4.4)\r\n",
      "Requirement already satisfied: requests>=2.0 in /opt/conda/lib/python3.9/site-packages (from wbdata) (2.26.0)\r\n",
      "Requirement already satisfied: tabulate>=0.8.5 in /opt/conda/lib/python3.9/site-packages (from wbdata) (0.9.0)\r\n",
      "Requirement already satisfied: idna<4,>=2.5 in /opt/conda/lib/python3.9/site-packages (from requests>=2.0->wbdata) (3.1)\r\n",
      "Requirement already satisfied: charset-normalizer~=2.0.0 in /opt/conda/lib/python3.9/site-packages (from requests>=2.0->wbdata) (2.0.0)\r\n",
      "Requirement already satisfied: urllib3<1.27,>=1.21.1 in /opt/conda/lib/python3.9/site-packages (from requests>=2.0->wbdata) (1.26.7)\r\n",
      "Requirement already satisfied: certifi>=2017.4.17 in /opt/conda/lib/python3.9/site-packages (from requests>=2.0->wbdata) (2021.10.8)\r\n"
     ]
    },
    {
     "name": "stderr",
     "output_type": "stream",
     "text": [
      "/opt/conda/lib/python3.9/site-packages/geopandas/_compat.py:111: UserWarning:\n",
      "\n",
      "The Shapely GEOS version (3.10.3-CAPI-1.16.1) is incompatible with the GEOS version PyGEOS was compiled with (3.10.4-CAPI-1.16.2). Conversions between both will be slow.\n",
      "\n"
     ]
    },
    {
     "data": {
      "text/html": [
       "        <script type=\"text/javascript\">\n",
       "        window.PlotlyConfig = {MathJaxConfig: 'local'};\n",
       "        if (window.MathJax) {MathJax.Hub.Config({SVG: {font: \"STIX-Web\"}});}\n",
       "        if (typeof require !== 'undefined') {\n",
       "        require.undef(\"plotly\");\n",
       "        requirejs.config({\n",
       "            paths: {\n",
       "                'plotly': ['https://cdn.plot.ly/plotly-2.3.1.min']\n",
       "            }\n",
       "        });\n",
       "        require(['plotly'], function(Plotly) {\n",
       "            window._Plotly = Plotly;\n",
       "        });\n",
       "        }\n",
       "        </script>\n",
       "        "
      ]
     },
     "metadata": {},
     "output_type": "display_data"
    }
   ],
   "source": [
    "!pip install wbdata\n",
    "import wbdata\n",
    "import numpy as np\n",
    "import cufflinks as cf\n",
    "import pandas as pd\n",
    "cf.go_offline()"
   ]
  },
  {
   "cell_type": "code",
   "execution_count": 4,
   "id": "6abc52b7",
   "metadata": {},
   "outputs": [],
   "source": [
    "!rm ~/.cache/wbdata/0.3.0"
   ]
  },
  {
   "cell_type": "markdown",
   "id": "1efee038",
   "metadata": {},
   "source": [
    "# Population Statistics: outputs a number of (male/female/people) when parameters, sex, age range and country is inputted."
   ]
  },
  {
   "cell_type": "code",
   "execution_count": 6,
   "id": "33e8d556",
   "metadata": {},
   "outputs": [
    {
     "data": {
      "text/plain": [
       "6969631911.0"
      ]
     },
     "execution_count": 6,
     "metadata": {},
     "output_type": "execute_result"
    }
   ],
   "source": [
    "def population (year, sex, age_range, place):\n",
    "    age_indexes = []\n",
    "    total_pop = 0\n",
    "    \n",
    "    for i in range (0, 80, 5):\n",
    "        age_indexes.append(f'{i:02d}' + f'{i+4:02d}')\n",
    "    age_indexes.append(\"80UP\")\n",
    "\n",
    "# set variable for appropriate sex\n",
    "    male_variable = {\"SP.POP.\"+ age_index+\".MA\":\"Males \"+ age_index for age_index in age_indexes}\n",
    "    female_variable = {\"SP.POP.\"+age_index+\".FE\":\"Females \"+age_index for age_index in age_indexes}\n",
    "    \n",
    "    if sex == 'Male':\n",
    "        variable = male_variable\n",
    "    else:      \n",
    "        variable = female_variable\n",
    "        if sex == 'Total':\n",
    "            variable = female_variable\n",
    "            variable.update(male_variable)\n",
    "# select dataframe with selected variable and narrow it down into the correct country and year\n",
    "\n",
    "    df = wbdata.get_dataframe(variable, country = place)\n",
    "    df.index = df.index.astype(int)\n",
    "    df.reset_index (inplace = True)\n",
    "    df = df[df[\"date\"] == year]\n",
    "#for loop until the correct age_range:\n",
    "    # to prevent size error in the case where the age_range is greater than provided data\n",
    "    loop_count = int(age_range[1]/5)\n",
    "    if sex == 'Total': \n",
    "        if age_range[1] > 85:\n",
    "            loop_count = 34\n",
    "        for i in range(1, loop_count + 1):\n",
    "            total_pop += df.iloc[0][i]\n",
    "    else:\n",
    "        if age_range[1] > 85:\n",
    "            loop_count = 17\n",
    "        for i in range(1, loop_count+ 1):\n",
    "            total_pop += df.iloc[0][i]\n",
    "    return total_pop\n",
    "\n",
    "population(year=2010,sex='Total',age_range=(0,100),place='WLD')"
   ]
  },
  {
   "cell_type": "markdown",
   "id": "bd7fa7f0",
   "metadata": {},
   "source": [
    "# Population DataFrames: returns a pandas dataframe indexed by region/country and year with columns giving counts of people in different age-sex groups."
   ]
  },
  {
   "cell_type": "code",
   "execution_count": 7,
   "id": "1cd8f906",
   "metadata": {},
   "outputs": [
    {
     "data": {
      "text/html": [
       "<div>\n",
       "<style scoped>\n",
       "    .dataframe tbody tr th:only-of-type {\n",
       "        vertical-align: middle;\n",
       "    }\n",
       "\n",
       "    .dataframe tbody tr th {\n",
       "        vertical-align: top;\n",
       "    }\n",
       "\n",
       "    .dataframe thead th {\n",
       "        text-align: right;\n",
       "    }\n",
       "</style>\n",
       "<table border=\"1\" class=\"dataframe\">\n",
       "  <thead>\n",
       "    <tr style=\"text-align: right;\">\n",
       "      <th></th>\n",
       "      <th></th>\n",
       "      <th>Females 0004</th>\n",
       "      <th>Females 0509</th>\n",
       "      <th>Females 1014</th>\n",
       "      <th>Females 1519</th>\n",
       "      <th>Females 2024</th>\n",
       "      <th>Females 2529</th>\n",
       "      <th>Females 3034</th>\n",
       "      <th>Females 3539</th>\n",
       "      <th>Females 4044</th>\n",
       "      <th>Females 4549</th>\n",
       "      <th>...</th>\n",
       "      <th>Males 3539</th>\n",
       "      <th>Males 4044</th>\n",
       "      <th>Males 4549</th>\n",
       "      <th>Males 5054</th>\n",
       "      <th>Males 5559</th>\n",
       "      <th>Males 6064</th>\n",
       "      <th>Males 6569</th>\n",
       "      <th>Males 7074</th>\n",
       "      <th>Males 7579</th>\n",
       "      <th>Males 80UP</th>\n",
       "    </tr>\n",
       "    <tr>\n",
       "      <th>country</th>\n",
       "      <th>date</th>\n",
       "      <th></th>\n",
       "      <th></th>\n",
       "      <th></th>\n",
       "      <th></th>\n",
       "      <th></th>\n",
       "      <th></th>\n",
       "      <th></th>\n",
       "      <th></th>\n",
       "      <th></th>\n",
       "      <th></th>\n",
       "      <th></th>\n",
       "      <th></th>\n",
       "      <th></th>\n",
       "      <th></th>\n",
       "      <th></th>\n",
       "      <th></th>\n",
       "      <th></th>\n",
       "      <th></th>\n",
       "      <th></th>\n",
       "      <th></th>\n",
       "      <th></th>\n",
       "    </tr>\n",
       "  </thead>\n",
       "  <tbody>\n",
       "    <tr>\n",
       "      <th rowspan=\"5\" valign=\"top\">Africa Eastern and Southern</th>\n",
       "      <th>2021</th>\n",
       "      <td>53234090.0</td>\n",
       "      <td>47750830.0</td>\n",
       "      <td>43088865.0</td>\n",
       "      <td>37392619.0</td>\n",
       "      <td>32150758.0</td>\n",
       "      <td>28023647.0</td>\n",
       "      <td>24474164.0</td>\n",
       "      <td>20373836.0</td>\n",
       "      <td>16114329.0</td>\n",
       "      <td>12840580.0</td>\n",
       "      <td>...</td>\n",
       "      <td>19836395.0</td>\n",
       "      <td>15770587.0</td>\n",
       "      <td>12307798.0</td>\n",
       "      <td>9963920.0</td>\n",
       "      <td>7562962.0</td>\n",
       "      <td>5530561.0</td>\n",
       "      <td>4019492.0</td>\n",
       "      <td>2724146.0</td>\n",
       "      <td>1559724.0</td>\n",
       "      <td>1085329.0</td>\n",
       "    </tr>\n",
       "    <tr>\n",
       "      <th>2020</th>\n",
       "      <td>52265991.0</td>\n",
       "      <td>46911818.0</td>\n",
       "      <td>42069398.0</td>\n",
       "      <td>36335804.0</td>\n",
       "      <td>31355868.0</td>\n",
       "      <td>27330572.0</td>\n",
       "      <td>23844536.0</td>\n",
       "      <td>19607075.0</td>\n",
       "      <td>15395913.0</td>\n",
       "      <td>12524773.0</td>\n",
       "      <td>...</td>\n",
       "      <td>19161081.0</td>\n",
       "      <td>15076634.0</td>\n",
       "      <td>11954285.0</td>\n",
       "      <td>9627875.0</td>\n",
       "      <td>7279339.0</td>\n",
       "      <td>5359947.0</td>\n",
       "      <td>3937852.0</td>\n",
       "      <td>2665421.0</td>\n",
       "      <td>1511511.0</td>\n",
       "      <td>1077480.0</td>\n",
       "    </tr>\n",
       "    <tr>\n",
       "      <th>2019</th>\n",
       "      <td>51296626.0</td>\n",
       "      <td>46072800.0</td>\n",
       "      <td>40999618.0</td>\n",
       "      <td>35311876.0</td>\n",
       "      <td>30578412.0</td>\n",
       "      <td>26700947.0</td>\n",
       "      <td>23161560.0</td>\n",
       "      <td>18847517.0</td>\n",
       "      <td>14730960.0</td>\n",
       "      <td>12243730.0</td>\n",
       "      <td>...</td>\n",
       "      <td>18485600.0</td>\n",
       "      <td>14415738.0</td>\n",
       "      <td>11620415.0</td>\n",
       "      <td>9271944.0</td>\n",
       "      <td>6991100.0</td>\n",
       "      <td>5191655.0</td>\n",
       "      <td>3835788.0</td>\n",
       "      <td>2579929.0</td>\n",
       "      <td>1452252.0</td>\n",
       "      <td>1050938.0</td>\n",
       "    </tr>\n",
       "    <tr>\n",
       "      <th>2018</th>\n",
       "      <td>50354295.0</td>\n",
       "      <td>45238285.0</td>\n",
       "      <td>39886015.0</td>\n",
       "      <td>34334491.0</td>\n",
       "      <td>29841888.0</td>\n",
       "      <td>26141601.0</td>\n",
       "      <td>22432247.0</td>\n",
       "      <td>18101141.0</td>\n",
       "      <td>14153659.0</td>\n",
       "      <td>11978368.0</td>\n",
       "      <td>...</td>\n",
       "      <td>17803395.0</td>\n",
       "      <td>13828439.0</td>\n",
       "      <td>11294381.0</td>\n",
       "      <td>8911271.0</td>\n",
       "      <td>6708990.0</td>\n",
       "      <td>5031828.0</td>\n",
       "      <td>3722030.0</td>\n",
       "      <td>2477747.0</td>\n",
       "      <td>1392035.0</td>\n",
       "      <td>1014714.0</td>\n",
       "    </tr>\n",
       "    <tr>\n",
       "      <th>2017</th>\n",
       "      <td>49459497.0</td>\n",
       "      <td>44365105.0</td>\n",
       "      <td>38773390.0</td>\n",
       "      <td>33410378.0</td>\n",
       "      <td>29177045.0</td>\n",
       "      <td>25594212.0</td>\n",
       "      <td>21674320.0</td>\n",
       "      <td>17350716.0</td>\n",
       "      <td>13678514.0</td>\n",
       "      <td>11705198.0</td>\n",
       "      <td>...</td>\n",
       "      <td>17103010.0</td>\n",
       "      <td>13331062.0</td>\n",
       "      <td>10961721.0</td>\n",
       "      <td>8561827.0</td>\n",
       "      <td>6445607.0</td>\n",
       "      <td>4892796.0</td>\n",
       "      <td>3609954.0</td>\n",
       "      <td>2373716.0</td>\n",
       "      <td>1338098.0</td>\n",
       "      <td>980011.0</td>\n",
       "    </tr>\n",
       "    <tr>\n",
       "      <th>...</th>\n",
       "      <th>...</th>\n",
       "      <td>...</td>\n",
       "      <td>...</td>\n",
       "      <td>...</td>\n",
       "      <td>...</td>\n",
       "      <td>...</td>\n",
       "      <td>...</td>\n",
       "      <td>...</td>\n",
       "      <td>...</td>\n",
       "      <td>...</td>\n",
       "      <td>...</td>\n",
       "      <td>...</td>\n",
       "      <td>...</td>\n",
       "      <td>...</td>\n",
       "      <td>...</td>\n",
       "      <td>...</td>\n",
       "      <td>...</td>\n",
       "      <td>...</td>\n",
       "      <td>...</td>\n",
       "      <td>...</td>\n",
       "      <td>...</td>\n",
       "      <td>...</td>\n",
       "    </tr>\n",
       "    <tr>\n",
       "      <th rowspan=\"5\" valign=\"top\">Zimbabwe</th>\n",
       "      <th>1964</th>\n",
       "      <td>415631.0</td>\n",
       "      <td>341230.0</td>\n",
       "      <td>291110.0</td>\n",
       "      <td>204435.0</td>\n",
       "      <td>172015.0</td>\n",
       "      <td>138356.0</td>\n",
       "      <td>119011.0</td>\n",
       "      <td>103374.0</td>\n",
       "      <td>85596.0</td>\n",
       "      <td>78906.0</td>\n",
       "      <td>...</td>\n",
       "      <td>96367.0</td>\n",
       "      <td>79754.0</td>\n",
       "      <td>73593.0</td>\n",
       "      <td>54848.0</td>\n",
       "      <td>44523.0</td>\n",
       "      <td>35794.0</td>\n",
       "      <td>26784.0</td>\n",
       "      <td>18491.0</td>\n",
       "      <td>10362.0</td>\n",
       "      <td>6542.0</td>\n",
       "    </tr>\n",
       "    <tr>\n",
       "      <th>1963</th>\n",
       "      <td>403496.0</td>\n",
       "      <td>331381.0</td>\n",
       "      <td>276213.0</td>\n",
       "      <td>196707.0</td>\n",
       "      <td>165838.0</td>\n",
       "      <td>134779.0</td>\n",
       "      <td>117351.0</td>\n",
       "      <td>99845.0</td>\n",
       "      <td>85673.0</td>\n",
       "      <td>75795.0</td>\n",
       "      <td>...</td>\n",
       "      <td>93470.0</td>\n",
       "      <td>80309.0</td>\n",
       "      <td>71013.0</td>\n",
       "      <td>53388.0</td>\n",
       "      <td>43842.0</td>\n",
       "      <td>35085.0</td>\n",
       "      <td>26346.0</td>\n",
       "      <td>17942.0</td>\n",
       "      <td>10053.0</td>\n",
       "      <td>6238.0</td>\n",
       "    </tr>\n",
       "    <tr>\n",
       "      <th>1962</th>\n",
       "      <td>391764.0</td>\n",
       "      <td>322013.0</td>\n",
       "      <td>256781.0</td>\n",
       "      <td>193933.0</td>\n",
       "      <td>159673.0</td>\n",
       "      <td>131872.0</td>\n",
       "      <td>115790.0</td>\n",
       "      <td>96033.0</td>\n",
       "      <td>86317.0</td>\n",
       "      <td>71982.0</td>\n",
       "      <td>...</td>\n",
       "      <td>90350.0</td>\n",
       "      <td>81382.0</td>\n",
       "      <td>67716.0</td>\n",
       "      <td>52338.0</td>\n",
       "      <td>43203.0</td>\n",
       "      <td>34337.0</td>\n",
       "      <td>25937.0</td>\n",
       "      <td>17347.0</td>\n",
       "      <td>9770.0</td>\n",
       "      <td>5927.0</td>\n",
       "    </tr>\n",
       "    <tr>\n",
       "      <th>1961</th>\n",
       "      <td>380468.0</td>\n",
       "      <td>313078.0</td>\n",
       "      <td>239351.0</td>\n",
       "      <td>189423.0</td>\n",
       "      <td>154060.0</td>\n",
       "      <td>129320.0</td>\n",
       "      <td>113886.0</td>\n",
       "      <td>92892.0</td>\n",
       "      <td>86400.0</td>\n",
       "      <td>68364.0</td>\n",
       "      <td>...</td>\n",
       "      <td>87864.0</td>\n",
       "      <td>81913.0</td>\n",
       "      <td>64543.0</td>\n",
       "      <td>51427.0</td>\n",
       "      <td>42555.0</td>\n",
       "      <td>33630.0</td>\n",
       "      <td>25489.0</td>\n",
       "      <td>16770.0</td>\n",
       "      <td>9485.0</td>\n",
       "      <td>5618.0</td>\n",
       "    </tr>\n",
       "    <tr>\n",
       "      <th>1960</th>\n",
       "      <td>369647.0</td>\n",
       "      <td>304571.0</td>\n",
       "      <td>223221.0</td>\n",
       "      <td>183903.0</td>\n",
       "      <td>149117.0</td>\n",
       "      <td>126929.0</td>\n",
       "      <td>111416.0</td>\n",
       "      <td>90906.0</td>\n",
       "      <td>85262.0</td>\n",
       "      <td>65495.0</td>\n",
       "      <td>...</td>\n",
       "      <td>86458.0</td>\n",
       "      <td>81256.0</td>\n",
       "      <td>62021.0</td>\n",
       "      <td>50489.0</td>\n",
       "      <td>41873.0</td>\n",
       "      <td>33005.0</td>\n",
       "      <td>24956.0</td>\n",
       "      <td>16244.0</td>\n",
       "      <td>9178.0</td>\n",
       "      <td>5316.0</td>\n",
       "    </tr>\n",
       "  </tbody>\n",
       "</table>\n",
       "<p>16492 rows × 34 columns</p>\n",
       "</div>"
      ],
      "text/plain": [
       "                                  Females 0004  Females 0509  Females 1014  \\\n",
       "country                     date                                             \n",
       "Africa Eastern and Southern 2021    53234090.0    47750830.0    43088865.0   \n",
       "                            2020    52265991.0    46911818.0    42069398.0   \n",
       "                            2019    51296626.0    46072800.0    40999618.0   \n",
       "                            2018    50354295.0    45238285.0    39886015.0   \n",
       "                            2017    49459497.0    44365105.0    38773390.0   \n",
       "...                                        ...           ...           ...   \n",
       "Zimbabwe                    1964      415631.0      341230.0      291110.0   \n",
       "                            1963      403496.0      331381.0      276213.0   \n",
       "                            1962      391764.0      322013.0      256781.0   \n",
       "                            1961      380468.0      313078.0      239351.0   \n",
       "                            1960      369647.0      304571.0      223221.0   \n",
       "\n",
       "                                  Females 1519  Females 2024  Females 2529  \\\n",
       "country                     date                                             \n",
       "Africa Eastern and Southern 2021    37392619.0    32150758.0    28023647.0   \n",
       "                            2020    36335804.0    31355868.0    27330572.0   \n",
       "                            2019    35311876.0    30578412.0    26700947.0   \n",
       "                            2018    34334491.0    29841888.0    26141601.0   \n",
       "                            2017    33410378.0    29177045.0    25594212.0   \n",
       "...                                        ...           ...           ...   \n",
       "Zimbabwe                    1964      204435.0      172015.0      138356.0   \n",
       "                            1963      196707.0      165838.0      134779.0   \n",
       "                            1962      193933.0      159673.0      131872.0   \n",
       "                            1961      189423.0      154060.0      129320.0   \n",
       "                            1960      183903.0      149117.0      126929.0   \n",
       "\n",
       "                                  Females 3034  Females 3539  Females 4044  \\\n",
       "country                     date                                             \n",
       "Africa Eastern and Southern 2021    24474164.0    20373836.0    16114329.0   \n",
       "                            2020    23844536.0    19607075.0    15395913.0   \n",
       "                            2019    23161560.0    18847517.0    14730960.0   \n",
       "                            2018    22432247.0    18101141.0    14153659.0   \n",
       "                            2017    21674320.0    17350716.0    13678514.0   \n",
       "...                                        ...           ...           ...   \n",
       "Zimbabwe                    1964      119011.0      103374.0       85596.0   \n",
       "                            1963      117351.0       99845.0       85673.0   \n",
       "                            1962      115790.0       96033.0       86317.0   \n",
       "                            1961      113886.0       92892.0       86400.0   \n",
       "                            1960      111416.0       90906.0       85262.0   \n",
       "\n",
       "                                  Females 4549  ...  Males 3539  Males 4044  \\\n",
       "country                     date                ...                           \n",
       "Africa Eastern and Southern 2021    12840580.0  ...  19836395.0  15770587.0   \n",
       "                            2020    12524773.0  ...  19161081.0  15076634.0   \n",
       "                            2019    12243730.0  ...  18485600.0  14415738.0   \n",
       "                            2018    11978368.0  ...  17803395.0  13828439.0   \n",
       "                            2017    11705198.0  ...  17103010.0  13331062.0   \n",
       "...                                        ...  ...         ...         ...   \n",
       "Zimbabwe                    1964       78906.0  ...     96367.0     79754.0   \n",
       "                            1963       75795.0  ...     93470.0     80309.0   \n",
       "                            1962       71982.0  ...     90350.0     81382.0   \n",
       "                            1961       68364.0  ...     87864.0     81913.0   \n",
       "                            1960       65495.0  ...     86458.0     81256.0   \n",
       "\n",
       "                                  Males 4549  Males 5054  Males 5559  \\\n",
       "country                     date                                       \n",
       "Africa Eastern and Southern 2021  12307798.0   9963920.0   7562962.0   \n",
       "                            2020  11954285.0   9627875.0   7279339.0   \n",
       "                            2019  11620415.0   9271944.0   6991100.0   \n",
       "                            2018  11294381.0   8911271.0   6708990.0   \n",
       "                            2017  10961721.0   8561827.0   6445607.0   \n",
       "...                                      ...         ...         ...   \n",
       "Zimbabwe                    1964     73593.0     54848.0     44523.0   \n",
       "                            1963     71013.0     53388.0     43842.0   \n",
       "                            1962     67716.0     52338.0     43203.0   \n",
       "                            1961     64543.0     51427.0     42555.0   \n",
       "                            1960     62021.0     50489.0     41873.0   \n",
       "\n",
       "                                  Males 6064  Males 6569  Males 7074  \\\n",
       "country                     date                                       \n",
       "Africa Eastern and Southern 2021   5530561.0   4019492.0   2724146.0   \n",
       "                            2020   5359947.0   3937852.0   2665421.0   \n",
       "                            2019   5191655.0   3835788.0   2579929.0   \n",
       "                            2018   5031828.0   3722030.0   2477747.0   \n",
       "                            2017   4892796.0   3609954.0   2373716.0   \n",
       "...                                      ...         ...         ...   \n",
       "Zimbabwe                    1964     35794.0     26784.0     18491.0   \n",
       "                            1963     35085.0     26346.0     17942.0   \n",
       "                            1962     34337.0     25937.0     17347.0   \n",
       "                            1961     33630.0     25489.0     16770.0   \n",
       "                            1960     33005.0     24956.0     16244.0   \n",
       "\n",
       "                                  Males 7579  Males 80UP  \n",
       "country                     date                          \n",
       "Africa Eastern and Southern 2021   1559724.0   1085329.0  \n",
       "                            2020   1511511.0   1077480.0  \n",
       "                            2019   1452252.0   1050938.0  \n",
       "                            2018   1392035.0   1014714.0  \n",
       "                            2017   1338098.0    980011.0  \n",
       "...                                      ...         ...  \n",
       "Zimbabwe                    1964     10362.0      6542.0  \n",
       "                            1963     10053.0      6238.0  \n",
       "                            1962      9770.0      5927.0  \n",
       "                            1961      9485.0      5618.0  \n",
       "                            1960      9178.0      5316.0  \n",
       "\n",
       "[16492 rows x 34 columns]"
      ]
     },
     "execution_count": 7,
     "metadata": {},
     "output_type": "execute_result"
    }
   ],
   "source": [
    "def population_by_sex_age (sex):\n",
    "    age_indexes= []\n",
    "    for i in range (0, 80, 5):\n",
    "        age_indexes.append(f'{i:02d}' + f'{i+4:02d}')\n",
    "    age_indexes.append(\"80UP\")\n",
    "\n",
    "#set variable for appropriate sex\n",
    "    male_variable = {\"SP.POP.\"+ age_index+\".MA\":\"Males \"+ age_index for age_index in age_indexes}\n",
    "    female_variable = {\"SP.POP.\"+age_index+\".FE\":\"Females \"+age_index for age_index in age_indexes}\n",
    "    \n",
    "    if sex == 'Male':\n",
    "        variable = male_variable\n",
    "    else:      \n",
    "        variable = female_variable\n",
    "        if sex == 'Total':\n",
    "            variable = female_variable\n",
    "            variable.update(male_variable)\n",
    "#making country/region and year as index    \n",
    "    df = wbdata.get_dataframe(variable)\n",
    "    return df\n",
    "\n",
    "population_by_sex_age(sex = 'Total')"
   ]
  },
  {
   "cell_type": "markdown",
   "id": "dcdfc902",
   "metadata": {},
   "source": [
    "# Population Pyramids: Function that takes input a DataFrame with columns providing counts of people by age-sex group and constructs a population pyramid graph for visualizing the data"
   ]
  },
  {
   "cell_type": "code",
   "execution_count": 8,
   "id": "95498b0a",
   "metadata": {},
   "outputs": [
    {
     "data": {
      "application/vnd.plotly.v1+json": {
       "config": {
        "plotlyServerURL": "https://plot.ly"
       },
       "data": [
        {
         "hoverinfo": "skip",
         "marker": {
          "color": "blue"
         },
         "name": "Male",
         "orientation": "h",
         "type": "bar",
         "x": [
          344650023,
          351823148,
          340134768,
          321211465,
          309096185,
          304184176,
          308770323,
          283342013,
          252677526,
          238749207,
          223947103,
          196668138,
          154828871,
          129373392,
          91921639,
          56383161,
          58371269
         ],
         "y": [
          1,
          6,
          11,
          16,
          21,
          26,
          31,
          36,
          41,
          46,
          51,
          56,
          61,
          66,
          71,
          76,
          81
         ]
        },
        {
         "hoverinfo": "skip",
         "marker": {
          "color": "pink"
         },
         "name": "Women",
         "orientation": "h",
         "type": "bar",
         "x": [
          -325642464,
          -330431921,
          -318493196,
          -301115793,
          -290347797,
          -288241480,
          -295707176,
          -274082515,
          -246330684,
          -235743243,
          -224896102,
          -202707064,
          -165954976,
          -145660097,
          -109247654,
          -71828549,
          -95845624
         ],
         "y": [
          1,
          6,
          11,
          16,
          21,
          26,
          31,
          36,
          41,
          46,
          51,
          56,
          61,
          66,
          71,
          76,
          81
         ]
        }
       ],
       "layout": {
        "bargap": 0,
        "bargroupgap": 0,
        "barmode": "relative",
        "template": {
         "data": {
          "bar": [
           {
            "error_x": {
             "color": "#2a3f5f"
            },
            "error_y": {
             "color": "#2a3f5f"
            },
            "marker": {
             "line": {
              "color": "white",
              "width": 0.5
             },
             "pattern": {
              "fillmode": "overlay",
              "size": 10,
              "solidity": 0.2
             }
            },
            "type": "bar"
           }
          ],
          "barpolar": [
           {
            "marker": {
             "line": {
              "color": "white",
              "width": 0.5
             },
             "pattern": {
              "fillmode": "overlay",
              "size": 10,
              "solidity": 0.2
             }
            },
            "type": "barpolar"
           }
          ],
          "carpet": [
           {
            "aaxis": {
             "endlinecolor": "#2a3f5f",
             "gridcolor": "#C8D4E3",
             "linecolor": "#C8D4E3",
             "minorgridcolor": "#C8D4E3",
             "startlinecolor": "#2a3f5f"
            },
            "baxis": {
             "endlinecolor": "#2a3f5f",
             "gridcolor": "#C8D4E3",
             "linecolor": "#C8D4E3",
             "minorgridcolor": "#C8D4E3",
             "startlinecolor": "#2a3f5f"
            },
            "type": "carpet"
           }
          ],
          "choropleth": [
           {
            "colorbar": {
             "outlinewidth": 0,
             "ticks": ""
            },
            "type": "choropleth"
           }
          ],
          "contour": [
           {
            "colorbar": {
             "outlinewidth": 0,
             "ticks": ""
            },
            "colorscale": [
             [
              0,
              "#0d0887"
             ],
             [
              0.1111111111111111,
              "#46039f"
             ],
             [
              0.2222222222222222,
              "#7201a8"
             ],
             [
              0.3333333333333333,
              "#9c179e"
             ],
             [
              0.4444444444444444,
              "#bd3786"
             ],
             [
              0.5555555555555556,
              "#d8576b"
             ],
             [
              0.6666666666666666,
              "#ed7953"
             ],
             [
              0.7777777777777778,
              "#fb9f3a"
             ],
             [
              0.8888888888888888,
              "#fdca26"
             ],
             [
              1,
              "#f0f921"
             ]
            ],
            "type": "contour"
           }
          ],
          "contourcarpet": [
           {
            "colorbar": {
             "outlinewidth": 0,
             "ticks": ""
            },
            "type": "contourcarpet"
           }
          ],
          "heatmap": [
           {
            "colorbar": {
             "outlinewidth": 0,
             "ticks": ""
            },
            "colorscale": [
             [
              0,
              "#0d0887"
             ],
             [
              0.1111111111111111,
              "#46039f"
             ],
             [
              0.2222222222222222,
              "#7201a8"
             ],
             [
              0.3333333333333333,
              "#9c179e"
             ],
             [
              0.4444444444444444,
              "#bd3786"
             ],
             [
              0.5555555555555556,
              "#d8576b"
             ],
             [
              0.6666666666666666,
              "#ed7953"
             ],
             [
              0.7777777777777778,
              "#fb9f3a"
             ],
             [
              0.8888888888888888,
              "#fdca26"
             ],
             [
              1,
              "#f0f921"
             ]
            ],
            "type": "heatmap"
           }
          ],
          "heatmapgl": [
           {
            "colorbar": {
             "outlinewidth": 0,
             "ticks": ""
            },
            "colorscale": [
             [
              0,
              "#0d0887"
             ],
             [
              0.1111111111111111,
              "#46039f"
             ],
             [
              0.2222222222222222,
              "#7201a8"
             ],
             [
              0.3333333333333333,
              "#9c179e"
             ],
             [
              0.4444444444444444,
              "#bd3786"
             ],
             [
              0.5555555555555556,
              "#d8576b"
             ],
             [
              0.6666666666666666,
              "#ed7953"
             ],
             [
              0.7777777777777778,
              "#fb9f3a"
             ],
             [
              0.8888888888888888,
              "#fdca26"
             ],
             [
              1,
              "#f0f921"
             ]
            ],
            "type": "heatmapgl"
           }
          ],
          "histogram": [
           {
            "marker": {
             "pattern": {
              "fillmode": "overlay",
              "size": 10,
              "solidity": 0.2
             }
            },
            "type": "histogram"
           }
          ],
          "histogram2d": [
           {
            "colorbar": {
             "outlinewidth": 0,
             "ticks": ""
            },
            "colorscale": [
             [
              0,
              "#0d0887"
             ],
             [
              0.1111111111111111,
              "#46039f"
             ],
             [
              0.2222222222222222,
              "#7201a8"
             ],
             [
              0.3333333333333333,
              "#9c179e"
             ],
             [
              0.4444444444444444,
              "#bd3786"
             ],
             [
              0.5555555555555556,
              "#d8576b"
             ],
             [
              0.6666666666666666,
              "#ed7953"
             ],
             [
              0.7777777777777778,
              "#fb9f3a"
             ],
             [
              0.8888888888888888,
              "#fdca26"
             ],
             [
              1,
              "#f0f921"
             ]
            ],
            "type": "histogram2d"
           }
          ],
          "histogram2dcontour": [
           {
            "colorbar": {
             "outlinewidth": 0,
             "ticks": ""
            },
            "colorscale": [
             [
              0,
              "#0d0887"
             ],
             [
              0.1111111111111111,
              "#46039f"
             ],
             [
              0.2222222222222222,
              "#7201a8"
             ],
             [
              0.3333333333333333,
              "#9c179e"
             ],
             [
              0.4444444444444444,
              "#bd3786"
             ],
             [
              0.5555555555555556,
              "#d8576b"
             ],
             [
              0.6666666666666666,
              "#ed7953"
             ],
             [
              0.7777777777777778,
              "#fb9f3a"
             ],
             [
              0.8888888888888888,
              "#fdca26"
             ],
             [
              1,
              "#f0f921"
             ]
            ],
            "type": "histogram2dcontour"
           }
          ],
          "mesh3d": [
           {
            "colorbar": {
             "outlinewidth": 0,
             "ticks": ""
            },
            "type": "mesh3d"
           }
          ],
          "parcoords": [
           {
            "line": {
             "colorbar": {
              "outlinewidth": 0,
              "ticks": ""
             }
            },
            "type": "parcoords"
           }
          ],
          "pie": [
           {
            "automargin": true,
            "type": "pie"
           }
          ],
          "scatter": [
           {
            "marker": {
             "colorbar": {
              "outlinewidth": 0,
              "ticks": ""
             }
            },
            "type": "scatter"
           }
          ],
          "scatter3d": [
           {
            "line": {
             "colorbar": {
              "outlinewidth": 0,
              "ticks": ""
             }
            },
            "marker": {
             "colorbar": {
              "outlinewidth": 0,
              "ticks": ""
             }
            },
            "type": "scatter3d"
           }
          ],
          "scattercarpet": [
           {
            "marker": {
             "colorbar": {
              "outlinewidth": 0,
              "ticks": ""
             }
            },
            "type": "scattercarpet"
           }
          ],
          "scattergeo": [
           {
            "marker": {
             "colorbar": {
              "outlinewidth": 0,
              "ticks": ""
             }
            },
            "type": "scattergeo"
           }
          ],
          "scattergl": [
           {
            "marker": {
             "colorbar": {
              "outlinewidth": 0,
              "ticks": ""
             }
            },
            "type": "scattergl"
           }
          ],
          "scattermapbox": [
           {
            "marker": {
             "colorbar": {
              "outlinewidth": 0,
              "ticks": ""
             }
            },
            "type": "scattermapbox"
           }
          ],
          "scatterpolar": [
           {
            "marker": {
             "colorbar": {
              "outlinewidth": 0,
              "ticks": ""
             }
            },
            "type": "scatterpolar"
           }
          ],
          "scatterpolargl": [
           {
            "marker": {
             "colorbar": {
              "outlinewidth": 0,
              "ticks": ""
             }
            },
            "type": "scatterpolargl"
           }
          ],
          "scatterternary": [
           {
            "marker": {
             "colorbar": {
              "outlinewidth": 0,
              "ticks": ""
             }
            },
            "type": "scatterternary"
           }
          ],
          "surface": [
           {
            "colorbar": {
             "outlinewidth": 0,
             "ticks": ""
            },
            "colorscale": [
             [
              0,
              "#0d0887"
             ],
             [
              0.1111111111111111,
              "#46039f"
             ],
             [
              0.2222222222222222,
              "#7201a8"
             ],
             [
              0.3333333333333333,
              "#9c179e"
             ],
             [
              0.4444444444444444,
              "#bd3786"
             ],
             [
              0.5555555555555556,
              "#d8576b"
             ],
             [
              0.6666666666666666,
              "#ed7953"
             ],
             [
              0.7777777777777778,
              "#fb9f3a"
             ],
             [
              0.8888888888888888,
              "#fdca26"
             ],
             [
              1,
              "#f0f921"
             ]
            ],
            "type": "surface"
           }
          ],
          "table": [
           {
            "cells": {
             "fill": {
              "color": "#EBF0F8"
             },
             "line": {
              "color": "white"
             }
            },
            "header": {
             "fill": {
              "color": "#C8D4E3"
             },
             "line": {
              "color": "white"
             }
            },
            "type": "table"
           }
          ]
         },
         "layout": {
          "annotationdefaults": {
           "arrowcolor": "#2a3f5f",
           "arrowhead": 0,
           "arrowwidth": 1
          },
          "autotypenumbers": "strict",
          "coloraxis": {
           "colorbar": {
            "outlinewidth": 0,
            "ticks": ""
           }
          },
          "colorscale": {
           "diverging": [
            [
             0,
             "#8e0152"
            ],
            [
             0.1,
             "#c51b7d"
            ],
            [
             0.2,
             "#de77ae"
            ],
            [
             0.3,
             "#f1b6da"
            ],
            [
             0.4,
             "#fde0ef"
            ],
            [
             0.5,
             "#f7f7f7"
            ],
            [
             0.6,
             "#e6f5d0"
            ],
            [
             0.7,
             "#b8e186"
            ],
            [
             0.8,
             "#7fbc41"
            ],
            [
             0.9,
             "#4d9221"
            ],
            [
             1,
             "#276419"
            ]
           ],
           "sequential": [
            [
             0,
             "#0d0887"
            ],
            [
             0.1111111111111111,
             "#46039f"
            ],
            [
             0.2222222222222222,
             "#7201a8"
            ],
            [
             0.3333333333333333,
             "#9c179e"
            ],
            [
             0.4444444444444444,
             "#bd3786"
            ],
            [
             0.5555555555555556,
             "#d8576b"
            ],
            [
             0.6666666666666666,
             "#ed7953"
            ],
            [
             0.7777777777777778,
             "#fb9f3a"
            ],
            [
             0.8888888888888888,
             "#fdca26"
            ],
            [
             1,
             "#f0f921"
            ]
           ],
           "sequentialminus": [
            [
             0,
             "#0d0887"
            ],
            [
             0.1111111111111111,
             "#46039f"
            ],
            [
             0.2222222222222222,
             "#7201a8"
            ],
            [
             0.3333333333333333,
             "#9c179e"
            ],
            [
             0.4444444444444444,
             "#bd3786"
            ],
            [
             0.5555555555555556,
             "#d8576b"
            ],
            [
             0.6666666666666666,
             "#ed7953"
            ],
            [
             0.7777777777777778,
             "#fb9f3a"
            ],
            [
             0.8888888888888888,
             "#fdca26"
            ],
            [
             1,
             "#f0f921"
            ]
           ]
          },
          "colorway": [
           "#636efa",
           "#EF553B",
           "#00cc96",
           "#ab63fa",
           "#FFA15A",
           "#19d3f3",
           "#FF6692",
           "#B6E880",
           "#FF97FF",
           "#FECB52"
          ],
          "font": {
           "color": "#2a3f5f"
          },
          "geo": {
           "bgcolor": "white",
           "lakecolor": "white",
           "landcolor": "white",
           "showlakes": true,
           "showland": true,
           "subunitcolor": "#C8D4E3"
          },
          "hoverlabel": {
           "align": "left"
          },
          "hovermode": "closest",
          "mapbox": {
           "style": "light"
          },
          "paper_bgcolor": "white",
          "plot_bgcolor": "white",
          "polar": {
           "angularaxis": {
            "gridcolor": "#EBF0F8",
            "linecolor": "#EBF0F8",
            "ticks": ""
           },
           "bgcolor": "white",
           "radialaxis": {
            "gridcolor": "#EBF0F8",
            "linecolor": "#EBF0F8",
            "ticks": ""
           }
          },
          "scene": {
           "xaxis": {
            "backgroundcolor": "white",
            "gridcolor": "#DFE8F3",
            "gridwidth": 2,
            "linecolor": "#EBF0F8",
            "showbackground": true,
            "ticks": "",
            "zerolinecolor": "#EBF0F8"
           },
           "yaxis": {
            "backgroundcolor": "white",
            "gridcolor": "#DFE8F3",
            "gridwidth": 2,
            "linecolor": "#EBF0F8",
            "showbackground": true,
            "ticks": "",
            "zerolinecolor": "#EBF0F8"
           },
           "zaxis": {
            "backgroundcolor": "white",
            "gridcolor": "#DFE8F3",
            "gridwidth": 2,
            "linecolor": "#EBF0F8",
            "showbackground": true,
            "ticks": "",
            "zerolinecolor": "#EBF0F8"
           }
          },
          "shapedefaults": {
           "line": {
            "color": "#2a3f5f"
           }
          },
          "ternary": {
           "aaxis": {
            "gridcolor": "#DFE8F3",
            "linecolor": "#A2B1C6",
            "ticks": ""
           },
           "baxis": {
            "gridcolor": "#DFE8F3",
            "linecolor": "#A2B1C6",
            "ticks": ""
           },
           "bgcolor": "white",
           "caxis": {
            "gridcolor": "#DFE8F3",
            "linecolor": "#A2B1C6",
            "ticks": ""
           }
          },
          "title": {
           "x": 0.05
          },
          "xaxis": {
           "automargin": true,
           "gridcolor": "#EBF0F8",
           "linecolor": "#EBF0F8",
           "ticks": "",
           "title": {
            "standoff": 15
           },
           "zerolinecolor": "#EBF0F8",
           "zerolinewidth": 2
          },
          "yaxis": {
           "automargin": true,
           "gridcolor": "#EBF0F8",
           "linecolor": "#EBF0F8",
           "ticks": "",
           "title": {
            "standoff": 15
           },
           "zerolinecolor": "#EBF0F8",
           "zerolinewidth": 2
          }
         }
        },
        "title": {
         "font": {
          "size": 24
         },
         "text": "Age Pyramid World 2021"
        }
       }
      },
      "text/html": [
       "<div>                            <div id=\"0949da79-763b-4206-90a6-c3c67bafba64\" class=\"plotly-graph-div\" style=\"height:525px; width:100%;\"></div>            <script type=\"text/javascript\">                require([\"plotly\"], function(Plotly) {                    window.PLOTLYENV=window.PLOTLYENV || {};                                    if (document.getElementById(\"0949da79-763b-4206-90a6-c3c67bafba64\")) {                    Plotly.newPlot(                        \"0949da79-763b-4206-90a6-c3c67bafba64\",                        [{\"hoverinfo\":\"skip\",\"marker\":{\"color\":\"blue\"},\"name\":\"Male\",\"orientation\":\"h\",\"type\":\"bar\",\"x\":[344650023.0,351823148.0,340134768.0,321211465.0,309096185.0,304184176.0,308770323.0,283342013.0,252677526.0,238749207.0,223947103.0,196668138.0,154828871.0,129373392.0,91921639.0,56383161.0,58371269.0],\"y\":[1,6,11,16,21,26,31,36,41,46,51,56,61,66,71,76,81]},{\"hoverinfo\":\"skip\",\"marker\":{\"color\":\"pink\"},\"name\":\"Women\",\"orientation\":\"h\",\"type\":\"bar\",\"x\":[-325642464.0,-330431921.0,-318493196.0,-301115793.0,-290347797.0,-288241480.0,-295707176.0,-274082515.0,-246330684.0,-235743243.0,-224896102.0,-202707064.0,-165954976.0,-145660097.0,-109247654.0,-71828549.0,-95845624.0],\"y\":[1,6,11,16,21,26,31,36,41,46,51,56,61,66,71,76,81]}],                        {\"bargap\":0.0,\"bargroupgap\":0,\"barmode\":\"relative\",\"template\":{\"data\":{\"bar\":[{\"error_x\":{\"color\":\"#2a3f5f\"},\"error_y\":{\"color\":\"#2a3f5f\"},\"marker\":{\"line\":{\"color\":\"white\",\"width\":0.5},\"pattern\":{\"fillmode\":\"overlay\",\"size\":10,\"solidity\":0.2}},\"type\":\"bar\"}],\"barpolar\":[{\"marker\":{\"line\":{\"color\":\"white\",\"width\":0.5},\"pattern\":{\"fillmode\":\"overlay\",\"size\":10,\"solidity\":0.2}},\"type\":\"barpolar\"}],\"carpet\":[{\"aaxis\":{\"endlinecolor\":\"#2a3f5f\",\"gridcolor\":\"#C8D4E3\",\"linecolor\":\"#C8D4E3\",\"minorgridcolor\":\"#C8D4E3\",\"startlinecolor\":\"#2a3f5f\"},\"baxis\":{\"endlinecolor\":\"#2a3f5f\",\"gridcolor\":\"#C8D4E3\",\"linecolor\":\"#C8D4E3\",\"minorgridcolor\":\"#C8D4E3\",\"startlinecolor\":\"#2a3f5f\"},\"type\":\"carpet\"}],\"choropleth\":[{\"colorbar\":{\"outlinewidth\":0,\"ticks\":\"\"},\"type\":\"choropleth\"}],\"contour\":[{\"colorbar\":{\"outlinewidth\":0,\"ticks\":\"\"},\"colorscale\":[[0.0,\"#0d0887\"],[0.1111111111111111,\"#46039f\"],[0.2222222222222222,\"#7201a8\"],[0.3333333333333333,\"#9c179e\"],[0.4444444444444444,\"#bd3786\"],[0.5555555555555556,\"#d8576b\"],[0.6666666666666666,\"#ed7953\"],[0.7777777777777778,\"#fb9f3a\"],[0.8888888888888888,\"#fdca26\"],[1.0,\"#f0f921\"]],\"type\":\"contour\"}],\"contourcarpet\":[{\"colorbar\":{\"outlinewidth\":0,\"ticks\":\"\"},\"type\":\"contourcarpet\"}],\"heatmap\":[{\"colorbar\":{\"outlinewidth\":0,\"ticks\":\"\"},\"colorscale\":[[0.0,\"#0d0887\"],[0.1111111111111111,\"#46039f\"],[0.2222222222222222,\"#7201a8\"],[0.3333333333333333,\"#9c179e\"],[0.4444444444444444,\"#bd3786\"],[0.5555555555555556,\"#d8576b\"],[0.6666666666666666,\"#ed7953\"],[0.7777777777777778,\"#fb9f3a\"],[0.8888888888888888,\"#fdca26\"],[1.0,\"#f0f921\"]],\"type\":\"heatmap\"}],\"heatmapgl\":[{\"colorbar\":{\"outlinewidth\":0,\"ticks\":\"\"},\"colorscale\":[[0.0,\"#0d0887\"],[0.1111111111111111,\"#46039f\"],[0.2222222222222222,\"#7201a8\"],[0.3333333333333333,\"#9c179e\"],[0.4444444444444444,\"#bd3786\"],[0.5555555555555556,\"#d8576b\"],[0.6666666666666666,\"#ed7953\"],[0.7777777777777778,\"#fb9f3a\"],[0.8888888888888888,\"#fdca26\"],[1.0,\"#f0f921\"]],\"type\":\"heatmapgl\"}],\"histogram\":[{\"marker\":{\"pattern\":{\"fillmode\":\"overlay\",\"size\":10,\"solidity\":0.2}},\"type\":\"histogram\"}],\"histogram2d\":[{\"colorbar\":{\"outlinewidth\":0,\"ticks\":\"\"},\"colorscale\":[[0.0,\"#0d0887\"],[0.1111111111111111,\"#46039f\"],[0.2222222222222222,\"#7201a8\"],[0.3333333333333333,\"#9c179e\"],[0.4444444444444444,\"#bd3786\"],[0.5555555555555556,\"#d8576b\"],[0.6666666666666666,\"#ed7953\"],[0.7777777777777778,\"#fb9f3a\"],[0.8888888888888888,\"#fdca26\"],[1.0,\"#f0f921\"]],\"type\":\"histogram2d\"}],\"histogram2dcontour\":[{\"colorbar\":{\"outlinewidth\":0,\"ticks\":\"\"},\"colorscale\":[[0.0,\"#0d0887\"],[0.1111111111111111,\"#46039f\"],[0.2222222222222222,\"#7201a8\"],[0.3333333333333333,\"#9c179e\"],[0.4444444444444444,\"#bd3786\"],[0.5555555555555556,\"#d8576b\"],[0.6666666666666666,\"#ed7953\"],[0.7777777777777778,\"#fb9f3a\"],[0.8888888888888888,\"#fdca26\"],[1.0,\"#f0f921\"]],\"type\":\"histogram2dcontour\"}],\"mesh3d\":[{\"colorbar\":{\"outlinewidth\":0,\"ticks\":\"\"},\"type\":\"mesh3d\"}],\"parcoords\":[{\"line\":{\"colorbar\":{\"outlinewidth\":0,\"ticks\":\"\"}},\"type\":\"parcoords\"}],\"pie\":[{\"automargin\":true,\"type\":\"pie\"}],\"scatter\":[{\"marker\":{\"colorbar\":{\"outlinewidth\":0,\"ticks\":\"\"}},\"type\":\"scatter\"}],\"scatter3d\":[{\"line\":{\"colorbar\":{\"outlinewidth\":0,\"ticks\":\"\"}},\"marker\":{\"colorbar\":{\"outlinewidth\":0,\"ticks\":\"\"}},\"type\":\"scatter3d\"}],\"scattercarpet\":[{\"marker\":{\"colorbar\":{\"outlinewidth\":0,\"ticks\":\"\"}},\"type\":\"scattercarpet\"}],\"scattergeo\":[{\"marker\":{\"colorbar\":{\"outlinewidth\":0,\"ticks\":\"\"}},\"type\":\"scattergeo\"}],\"scattergl\":[{\"marker\":{\"colorbar\":{\"outlinewidth\":0,\"ticks\":\"\"}},\"type\":\"scattergl\"}],\"scattermapbox\":[{\"marker\":{\"colorbar\":{\"outlinewidth\":0,\"ticks\":\"\"}},\"type\":\"scattermapbox\"}],\"scatterpolar\":[{\"marker\":{\"colorbar\":{\"outlinewidth\":0,\"ticks\":\"\"}},\"type\":\"scatterpolar\"}],\"scatterpolargl\":[{\"marker\":{\"colorbar\":{\"outlinewidth\":0,\"ticks\":\"\"}},\"type\":\"scatterpolargl\"}],\"scatterternary\":[{\"marker\":{\"colorbar\":{\"outlinewidth\":0,\"ticks\":\"\"}},\"type\":\"scatterternary\"}],\"surface\":[{\"colorbar\":{\"outlinewidth\":0,\"ticks\":\"\"},\"colorscale\":[[0.0,\"#0d0887\"],[0.1111111111111111,\"#46039f\"],[0.2222222222222222,\"#7201a8\"],[0.3333333333333333,\"#9c179e\"],[0.4444444444444444,\"#bd3786\"],[0.5555555555555556,\"#d8576b\"],[0.6666666666666666,\"#ed7953\"],[0.7777777777777778,\"#fb9f3a\"],[0.8888888888888888,\"#fdca26\"],[1.0,\"#f0f921\"]],\"type\":\"surface\"}],\"table\":[{\"cells\":{\"fill\":{\"color\":\"#EBF0F8\"},\"line\":{\"color\":\"white\"}},\"header\":{\"fill\":{\"color\":\"#C8D4E3\"},\"line\":{\"color\":\"white\"}},\"type\":\"table\"}]},\"layout\":{\"annotationdefaults\":{\"arrowcolor\":\"#2a3f5f\",\"arrowhead\":0,\"arrowwidth\":1},\"autotypenumbers\":\"strict\",\"coloraxis\":{\"colorbar\":{\"outlinewidth\":0,\"ticks\":\"\"}},\"colorscale\":{\"diverging\":[[0,\"#8e0152\"],[0.1,\"#c51b7d\"],[0.2,\"#de77ae\"],[0.3,\"#f1b6da\"],[0.4,\"#fde0ef\"],[0.5,\"#f7f7f7\"],[0.6,\"#e6f5d0\"],[0.7,\"#b8e186\"],[0.8,\"#7fbc41\"],[0.9,\"#4d9221\"],[1,\"#276419\"]],\"sequential\":[[0.0,\"#0d0887\"],[0.1111111111111111,\"#46039f\"],[0.2222222222222222,\"#7201a8\"],[0.3333333333333333,\"#9c179e\"],[0.4444444444444444,\"#bd3786\"],[0.5555555555555556,\"#d8576b\"],[0.6666666666666666,\"#ed7953\"],[0.7777777777777778,\"#fb9f3a\"],[0.8888888888888888,\"#fdca26\"],[1.0,\"#f0f921\"]],\"sequentialminus\":[[0.0,\"#0d0887\"],[0.1111111111111111,\"#46039f\"],[0.2222222222222222,\"#7201a8\"],[0.3333333333333333,\"#9c179e\"],[0.4444444444444444,\"#bd3786\"],[0.5555555555555556,\"#d8576b\"],[0.6666666666666666,\"#ed7953\"],[0.7777777777777778,\"#fb9f3a\"],[0.8888888888888888,\"#fdca26\"],[1.0,\"#f0f921\"]]},\"colorway\":[\"#636efa\",\"#EF553B\",\"#00cc96\",\"#ab63fa\",\"#FFA15A\",\"#19d3f3\",\"#FF6692\",\"#B6E880\",\"#FF97FF\",\"#FECB52\"],\"font\":{\"color\":\"#2a3f5f\"},\"geo\":{\"bgcolor\":\"white\",\"lakecolor\":\"white\",\"landcolor\":\"white\",\"showlakes\":true,\"showland\":true,\"subunitcolor\":\"#C8D4E3\"},\"hoverlabel\":{\"align\":\"left\"},\"hovermode\":\"closest\",\"mapbox\":{\"style\":\"light\"},\"paper_bgcolor\":\"white\",\"plot_bgcolor\":\"white\",\"polar\":{\"angularaxis\":{\"gridcolor\":\"#EBF0F8\",\"linecolor\":\"#EBF0F8\",\"ticks\":\"\"},\"bgcolor\":\"white\",\"radialaxis\":{\"gridcolor\":\"#EBF0F8\",\"linecolor\":\"#EBF0F8\",\"ticks\":\"\"}},\"scene\":{\"xaxis\":{\"backgroundcolor\":\"white\",\"gridcolor\":\"#DFE8F3\",\"gridwidth\":2,\"linecolor\":\"#EBF0F8\",\"showbackground\":true,\"ticks\":\"\",\"zerolinecolor\":\"#EBF0F8\"},\"yaxis\":{\"backgroundcolor\":\"white\",\"gridcolor\":\"#DFE8F3\",\"gridwidth\":2,\"linecolor\":\"#EBF0F8\",\"showbackground\":true,\"ticks\":\"\",\"zerolinecolor\":\"#EBF0F8\"},\"zaxis\":{\"backgroundcolor\":\"white\",\"gridcolor\":\"#DFE8F3\",\"gridwidth\":2,\"linecolor\":\"#EBF0F8\",\"showbackground\":true,\"ticks\":\"\",\"zerolinecolor\":\"#EBF0F8\"}},\"shapedefaults\":{\"line\":{\"color\":\"#2a3f5f\"}},\"ternary\":{\"aaxis\":{\"gridcolor\":\"#DFE8F3\",\"linecolor\":\"#A2B1C6\",\"ticks\":\"\"},\"baxis\":{\"gridcolor\":\"#DFE8F3\",\"linecolor\":\"#A2B1C6\",\"ticks\":\"\"},\"bgcolor\":\"white\",\"caxis\":{\"gridcolor\":\"#DFE8F3\",\"linecolor\":\"#A2B1C6\",\"ticks\":\"\"}},\"title\":{\"x\":0.05},\"xaxis\":{\"automargin\":true,\"gridcolor\":\"#EBF0F8\",\"linecolor\":\"#EBF0F8\",\"ticks\":\"\",\"title\":{\"standoff\":15},\"zerolinecolor\":\"#EBF0F8\",\"zerolinewidth\":2},\"yaxis\":{\"automargin\":true,\"gridcolor\":\"#EBF0F8\",\"linecolor\":\"#EBF0F8\",\"ticks\":\"\",\"title\":{\"standoff\":15},\"zerolinecolor\":\"#EBF0F8\",\"zerolinewidth\":2}}},\"title\":{\"font\":{\"size\":24},\"text\":\"Age Pyramid World 2021\"}},                        {\"responsive\": true}                    ).then(function(){\n",
       "                            \n",
       "var gd = document.getElementById('0949da79-763b-4206-90a6-c3c67bafba64');\n",
       "var x = new MutationObserver(function (mutations, observer) {{\n",
       "        var display = window.getComputedStyle(gd).display;\n",
       "        if (!display || display === 'none') {{\n",
       "            console.log([gd, 'removed!']);\n",
       "            Plotly.purge(gd);\n",
       "            observer.disconnect();\n",
       "        }}\n",
       "}});\n",
       "\n",
       "// Listen for the removal of the full notebook cells\n",
       "var notebookContainer = gd.closest('#notebook-container');\n",
       "if (notebookContainer) {{\n",
       "    x.observe(notebookContainer, {childList: true});\n",
       "}}\n",
       "\n",
       "// Listen for the clearing of the current output cell\n",
       "var outputEl = gd.closest('.output');\n",
       "if (outputEl) {{\n",
       "    x.observe(outputEl, {childList: true});\n",
       "}}\n",
       "\n",
       "                        })                };                });            </script>        </div>"
      ]
     },
     "metadata": {},
     "output_type": "display_data"
    }
   ],
   "source": [
    "import pandas as pd\n",
    "import plotly.graph_objs as go\n",
    "\n",
    "#creating sample dataframes to run the function\n",
    "age_ranges = []\n",
    "for i in range (0, 80, 5):\n",
    "    age_ranges.append(f'{i:02d}' + f'{i+4:02d}')\n",
    "age_ranges.append(\"80UP\")\n",
    "male_variables = {\"SP.POP.\"+age_range+\".MA\":\"Males \"+age_range for age_range in age_ranges}\n",
    "female_variables = {\"SP.POP.\"+age_range+\".FE\":\"Females \"+age_range for age_range in age_ranges}\n",
    "variables = male_variables\n",
    "variables.update(female_variables)\n",
    "df = wbdata.get_dataframe(variables,country=\"KOR\")\n",
    "\n",
    "def population_pyramids (dataframe, year):\n",
    "\n",
    "    # first sort by age_range for y axis \n",
    "    age_ranges = []\n",
    "    for i in range (0, 80, 5):\n",
    "        age_ranges.append(f'{i:02d}' + f'{i+4:02d}')\n",
    "    age_ranges.append(\"80UP\")\n",
    "\n",
    "    male_variables = {\"SP.POP.\"+age_range+\".MA\":\"Males \"+age_range for age_range in age_ranges}\n",
    "    female_variables = {\"SP.POP.\"+age_range+\".FE\":\"Females \"+age_range for age_range in age_ranges}\n",
    "    variables = male_variables\n",
    "    variables.update(female_variables)\n",
    "\n",
    "    df = wbdata.get_dataframe(variables,country=\"WLD\")\n",
    "    #defined gender bins to contain only the columns of respective gender \n",
    "    men_bins = df.loc[str(year),:].filter(regex=\"Male\").values\n",
    "    women_bins = -df.loc[str(year),:].filter(regex=\"Female\").values\n",
    "    \n",
    "    #make figure\n",
    "    fig = go.Figure()\n",
    "\n",
    "    #Add traces to the figure for men and women, respectively using the defined gender bins\n",
    "    fig.add_trace(go.Bar(\n",
    "                x = men_bins,\n",
    "                y=[int(s[:2])+1 for s in age_ranges],\n",
    "                name = 'Male', \n",
    "                orientation = 'h',\n",
    "                marker = dict(color = 'blue'),\n",
    "                hoverinfo = 'skip'))\n",
    "\n",
    "    fig.add_trace(go.Bar(x = women_bins,\n",
    "                        y=[int(s[:2])+1 for s in age_ranges],\n",
    "                        orientation='h',\n",
    "                        name='Women',\n",
    "                        marker=dict(color='pink'),\n",
    "                        hoverinfo='skip'\n",
    "                       ))\n",
    "    #cleaned up the figure to make it viewer-friendly\n",
    "    fig.update_layout(\n",
    "    template = 'plotly_white',\n",
    "    title = 'Age Pyramid World ' + str(2021),\n",
    "    title_font_size = 24,\n",
    "    barmode = 'relative',\n",
    "    bargap = 0.0,\n",
    "    bargroupgap = 0\n",
    "    )\n",
    "                            \n",
    "    return fig.show()\n",
    "population_pyramids (df, 2021)"
   ]
  },
  {
   "cell_type": "markdown",
   "id": "04084ef4",
   "metadata": {},
   "source": [
    "# Animated Popuolation Pyramid: takes as input as a dataframe with columns providing counts of people by age-sex groups, with rows corresponding to different years, and constructs an animated \"population pyramid\" graph for visualizing how the population changes over time."
   ]
  },
  {
   "cell_type": "code",
   "execution_count": 9,
   "id": "c83a92d4",
   "metadata": {},
   "outputs": [
    {
     "data": {
      "text/html": [
       "<video width=\"1500\" height=\"800\" controls autoplay loop>\n",
       "  <source type=\"video/mp4\" src=\"data:video/mp4;base64,AAAAIGZ0eXBNNFYgAAACAE00ViBpc29taXNvMmF2YzEAAAAIZnJlZQADmNNtZGF0AAACrwYF//+r\n",
       "3EXpvebZSLeWLNgg2SPu73gyNjQgLSBjb3JlIDE2MSByMzAzME0gOGJkNmQyOCAtIEguMjY0L01Q\n",
       "RUctNCBBVkMgY29kZWMgLSBDb3B5bGVmdCAyMDAzLTIwMjAgLSBodHRwOi8vd3d3LnZpZGVvbGFu\n",
       "Lm9yZy94MjY0Lmh0bWwgLSBvcHRpb25zOiBjYWJhYz0xIHJlZj0zIGRlYmxvY2s9MTowOjAgYW5h\n",
       "bHlzZT0weDM6MHgxMTMgbWU9aGV4IHN1Ym1lPTcgcHN5PTEgcHN5X3JkPTEuMDA6MC4wMCBtaXhl\n",
       "ZF9yZWY9MSBtZV9yYW5nZT0xNiBjaHJvbWFfbWU9MSB0cmVsbGlzPTEgOHg4ZGN0PTEgY3FtPTAg\n",
       "ZGVhZHpvbmU9MjEsMTEgZmFzdF9wc2tpcD0xIGNocm9tYV9xcF9vZmZzZXQ9LTIgdGhyZWFkcz0x\n",
       "MiBsb29rYWhlYWRfdGhyZWFkcz0yIHNsaWNlZF90aHJlYWRzPTAgbnI9MCBkZWNpbWF0ZT0xIGlu\n",
       "dGVybGFjZWQ9MCBibHVyYXlfY29tcGF0PTAgY29uc3RyYWluZWRfaW50cmE9MCBiZnJhbWVzPTMg\n",
       "Yl9weXJhbWlkPTIgYl9hZGFwdD0xIGJfYmlhcz0wIGRpcmVjdD0xIHdlaWdodGI9MSBvcGVuX2dv\n",
       "cD0wIHdlaWdodHA9MiBrZXlpbnQ9MjUwIGtleWludF9taW49NSBzY2VuZWN1dD00MCBpbnRyYV9y\n",
       "ZWZyZXNoPTAgcmNfbG9va2FoZWFkPTQwIHJjPWNyZiBtYnRyZWU9MSBjcmY9MjMuMCBxY29tcD0w\n",
       "LjYwIHFwbWluPTAgcXBtYXg9NjkgcXBzdGVwPTQgaXBfcmF0aW89MS40MCBhcT0xOjEuMDAAgAAA\n",
       "ZfhliIQAEv/+963fgU3AQO1rulc4tMurlDQ9UfaUpni2SAAAAwAAAwAAAwAAAwARt/mdecGr+g7h\n",
       "IAAAAwAABaQAAFZAAApA6xf4ijH+YBtxAG3A/iEr4eMqcI7Y7lJ8PU2Ft8sk23hBCxtDjCmj1mpO\n",
       "DJeujwd0PYCeHjCADNHnzHvyQK1cuYxf7+uAhG2G0SEOVoZVlPTz8cMUvHpibESAU/uh2feBFGbW\n",
       "fLMN96BFjlUyRojCbAsyCTJQCTrij0Vr9OZJ45vTkA8zJLf5V+fvJVzillK93UKVLkl+hkre0CnJ\n",
       "WMYu0hUhuStZf8hYScuQldX8GffGZu0jaIwoQldMRdNx2dbh0iQlGjTILugDx0Utp5zjLhMaaoXC\n",
       "EfFH48B93UPRBiVIijwSDrK6pMbxhU+B7UmIDb5RGYSpkIH7j680s+8r8yKohKZNQEeqnEV3RVMX\n",
       "G5jvD7ShpgRLgy8fxril0v2D1LIoXUkbX72bR6AO2tML2/l5WsQVprZEQ+EkhdQCfmk93KRhSdBd\n",
       "bTX642P/L3Fk4JeI+XvN27HiK+7gaiudZcUvNGM+2nwi5FtOpihL+X1dUS1EEOZEGKSlGJtzbNRx\n",
       "nc6hNOAFyhGawkBwbBPCR+5Ix98E6ptBWjQ0JR4+z/p84GU0DufaPon0ZwZzBfSwIDJPybTtHYU4\n",
       "rnfGIcjwYRGPb9omKRRqkdTD0lC/aq8PX9Yj4KIr8Nc15kcCVjp/tdn3AHhsVG051adzNrzrxJax\n",
       "AhekmSSS6nWDmGcojcch53Qzwbn93iTOSGHG7CRNlmx2p8ErsDTcBi3wZ0Rls3C5Bxm7z/e1TQbB\n",
       "Y+qPfYYwjR9eH+r2VpRQtnvJtqdgXzydBdBktKwNoPO/ElAcZ5yKBt2+124aWSdCpL3hrpilziqz\n",
       "Kn/BtuKQWF1kMRvXIRkGhwuTzCiuUj5Rl4QvITQ5nmLRyrKX2tRu0BGuxcp0/E+ASLmb1Odb6d7l\n",
       "xKux1QD+DzW3xV9gE3Rx8JpEstFZ4ffpyYGHgnkcID23nSLGhwapxLWG7Mhq2Dz2WzaWCPEAW7dp\n",
       "5CMlOc70c5fFApxlgA7oYzftfhNSOnwKSSPzF6YQ3pdLD3I0Vu/EFifVDSAlLD9mK+t0KbSIiDu6\n",
       "2gFh7SHOMzBJcMfL6qdE4eaaV4UmoQp/5SZjF1x3bdudqETuemujAwSMao7v/YOl+33QLPcn99RY\n",
       "s85yaSv2Bmo8VmanFc7Vrbf8oqtfmVuLAJUlqiMbNo7lkAMn4hzO1HmptFJrbdYqBm3vYxKCg1Wh\n",
       "7XzBXK+/O45gFxqJyuzKfrViplP76ReCTGG3GCihwRwP90nZuH0Yw9faSC+l3tSsKga7ekK/ocle\n",
       "OJ4gN4x9e27X4BYSWisAgxlfuxFHceax+sdMdCM+LQGuR4XjINuavI+8jMH732uJvxDs8rs96Sh/\n",
       "mKw/KE+DzVrXGrrv3Hbfah3MdkXLQUvNcYonokoS71Fj6gecIdgaw+1hZ2c6qqD1XCrexQqas+gC\n",
       "ey+0MEbPIJfLUkuldaOaA6XuJlNfYbC/G3/VBP9kGW3uPPjTlFuIXyjIiGAcZdykOc4Isd19s4sE\n",
       "uIFKRmUeqdVba2Mif/BoaJpHNfsSLtrUqH4aMXRi/x8UNMpiWtFb8q3WK2MYrLlZfk/a+c2yTuMk\n",
       "HkrRQuutPOJtDY7kaN93fOv0ayKrcv4+ThAhVLtGRQDfb9l6qnlvQxgFiQdRdMog/6ZjmIIKWqxt\n",
       "VNKWU8lfMiBWk5xp+Eow7Z6vCej+sSf/WULpNZD19XsVdXYPOqEsiWGzd5tAkRRwp9mEQTGG56TR\n",
       "Dvyl+Vcro3tWR5WyQ/WHZumT1t0GRYo5Q8EM+a9Csb69JvgTGi0ZZ6CH+v9cwds9mihtYiEDbZMs\n",
       "tSVocAWl3m3AYwnnJM0NVuOwZ8UbkGcBN5ykH8RLzxa3Opveoi26XiFI/WEIEOkCe30+rYCJ2p+S\n",
       "l0BNeyY1xDzvxHSOwzYBXf4gfN5SAAaMCanJTo4FHytm9lv4N8Bz1TuGX+18ZQI5Hhl5k8P+5EoP\n",
       "m1IhD9oxGAZ1yw2imAB5FnYfOPuW6YAOFasdpu8feQQqrqrv0XnCQ1+TBzzrmp9WzDPYNOUwDz0z\n",
       "IfkQD5RbK3mcmtCtt5pkx6G6cy/EYha1bJ64/MMzqtmv+LFn/okAAy+iw+gln/kbXRoZ8psYO3bq\n",
       "p7wpW+0lp/GJyaP4vvTpZqYHV8ysDY3gfACSbX5it3YtS5SSZ14b1c6nr/s/SwJt+rKZOu9wunvo\n",
       "/kNzC8WD+yuG1OUdiBYuC2lWQ140h8+36zCZJ5FvZTvGEn66SjEoGOuymbLaFRvizrfDJwVYzNyT\n",
       "hRvYcbjDQd/6QuY+tkroLIRjBJYSqixot3Gg64Qd/oO+/evgFTXYAAFPBAHOEV97MkYKadzoC767\n",
       "qLcwE/RD4uDy5Rv2ug4VmYlr7EHVCHrVfXteNCqX1u8idWRt7ZyvRe4iuw3YJlG+taeGfxjJ94Px\n",
       "WZfe+dJIn0cgXeDluKkjxaJVa0rlnmwyV/rJmAWuQKuuTcYnOWrtZ34ppT/430kan5iSX2Ehxzub\n",
       "3MzHemlCgXBt4VQX3reCrKW68pq7Q75WP68zMr0vwsrCcZimzy1T/FnIJs7hw6UmskvgmA4hMXdq\n",
       "HAi48WGHWjT0jpR0Qw5JFG1Nx1YtsxOmOxZb6+IiFtKx1eGBVbioG1t7D2SpldN9S9AfJupeydVQ\n",
       "vxGc8HnzIBjnSO0xdppPXchQ6hx6dsROZlp21gCLWlyjv6uopLjbtS63CQxKwEL82S5KnGGXqLlj\n",
       "+Wp54kOZt1xfVAy6R9vJiaXZk/V9uVJLCF/74YZpxxj+j1gSJWyUex1SKMaRK+Lk6QPy4TxelPnK\n",
       "f6e/alLLnEjYgakoTxma4fgGfNJsZhNOtrtb9/uh6sDVygiJcFXhVU+w/cEOFqtb4OybluUeAPRs\n",
       "OUXzne86YWt5/aMObzfVUL/KPHDTdamYtDMnSTz/57Ot/Xhz9+d9q93glgqpWyK+BK5AfGQGIYz1\n",
       "j7BxJB4KfqQEE0Dg2vNBgfAfaj1SsqMQ136g8h8jS4hSnm/PZ2O/Pgz24tFPnvclcTwzG4ACNTju\n",
       "KzaWRz+VHHpDVbRotAZI6V1v7TEdmDyqh75icqRnkVcIlgKMQ/EK459GcDnFZThZzVfdusQj80Jl\n",
       "eTSkteeEkBTKCPxPXzHxTx9u1rt8e92HrkPgWMusn6/m5ckne+vVT/N3+K3kvSoiQwo02RLPsN7x\n",
       "CACv5RF5m9K3ChW4WAcI6ZXR3WGHvWqek8Zo3/+k+WHPePkD+fKl7W70EtyEdEZgQpqJlmwhMZZW\n",
       "MVbJjgpkiO2h67Srg1L9RMkoq7qNE1m40kp/SBwiO7JUY52BIqxnkwiq8UFCu4alZzCpWjr8xE6y\n",
       "+xd40kp6IMt5KNDSSlYoI57PiwTP2R0QW80k+fLG1UmWsTw4nC4MEjs4WEYkQvYLLQ4n1qB2IQdC\n",
       "LVBrxn3yzM1F+z5sXbNL+Y6Li2Vy6TcJ8DjKyRfitXIp+TtoFgx4IrQMgduHo1aSZClQPKzHrqOn\n",
       "Jw3Ep0TGj/C707oXj8LWoB+Czo1ZHkW/gCHZ4js0VlYdQLL4ctN1LhM9cLRQAy3GtdwVFjD1VxXF\n",
       "wAAQUAZcQ9W1Q3YKITfWwR/hr34FCuVvfY+JVX9JIrKDXKOvpjFBf01W3Gw5d496Ta5zga5jhDgX\n",
       "WNWFt+sx5Hm533341YwC6ZfWWx54egHM271kyegDnFlpCHbaL02u3ZF+fEljP79+GdhP/mhPe8cS\n",
       "q/WDe5KSvUJMDHbwExCBhTBbSFKCslDKt3Uf85uFObeHXJlR+NIFOzTY3wX7P6LBI0VcbODh2+LA\n",
       "tAwtAoDCd7v/8vt7iQMKrlcHFt/ig6v77/8+8pSHhym4ERSc4VXkG+mvhv0ecYCzACwFapMoClRS\n",
       "24zL4UTYbe03RnOulwNv4a2fhPQrkUjdPiB3t/RcWoKnjRfhsUnybPZ2tRQpK9urq4+0aSoE5Xn4\n",
       "f6AO+hJIhqOEYeCsp68qsRybIjupRIK5jX6foyO5wuWxniKJOlqmE3Bn8EN3/ZQtZ71uNZjSrQef\n",
       "cWHs47kYANebaWzkF+5p/D0+omZi3ttcPZ8l994xFwAodtq7eVtACaszaC9Anmh4EqEmQBUz4hYP\n",
       "nQyfHH5p7ZhnEvUTryl2oaOsO9mKHJE02g2nxyEy/u0VAV2jX5/hJQNQVvtZVx5P5NrzDs4BmO4L\n",
       "dlDUnuQ+P1vpT0V+eDbsUKqKds4k3LmgEHrCjrhcOpUGu6fhixRUpY7Dev7tAuh805Hn161wLdBD\n",
       "Z4U8bk5gquwWNQgfDiFBPizfAiEVva50vJ1M6OWcVelxqY1iFm/58UJ/gy8vZX5PkkNynqmcuv5Q\n",
       "44mBq4uZNvSs9rIse3rER5KTV/DWkVdiQ/mycyR7DtbRz5H5IwnHih8WHjLyofPlthTbfqjHHLkF\n",
       "lhRv9iC6VTkR8QENIo0oaj3pldxyDsvg8Ch1JVcXof2DUL8oEPVt9aY4h1Hu6WzCBJiaUwQqSE7I\n",
       "wDQePZhlAqld0gsDADZR4Kj1SX2pFuyygwJ+V8GzaTtSYVWicD3/srvBJ88aQ/y34c9SINyPQC5l\n",
       "giHrQEF6kLw8gW42CzGFZZjuLyiBHYLhSZK3C917viXM6Cnx6K7RMS5JIhjHmue8ignEL4+P5yj3\n",
       "8fxcrBqNW/5PnqjD2WmUjwPJ33EM8UoDtCR5W9YeWbZbXUN8gWcmdJg+AGp9xK40Lqax6rBnSu5K\n",
       "FZ5suaKtd/gVu1p5etYh8x65V+T4i54kavby3szqkO6mYxRrY//QuBHf7MLo/9jSYhIFfM4zXOTk\n",
       "z4hWBhPvp1opTf9uIowOI5HizFRmNzshrJXm8K4k1tjl4+UZ43BdazqMxZ3pJD8bl2kQ+lu3lIkA\n",
       "bNKdFMdPh8w0kJwk1YM3D00UotOOBEuOX7inBNWdrMhMjd2ZDLCUT96ok8CdTJj933QmUuDsmb/b\n",
       "3IbKPSH10wOGJrac2xE3/5jriKD9xhxDsBMtXgwFvuZk3kH38jHHn6OgYM8fdLFmb4MVW5T+rd+v\n",
       "BjMr2n9Oio7XfZMGGAjD9FGXx5Rpj2achjdIHLd/ARleeDcBXWzfU5Bw3vUs3nedoLNlIhByozeQ\n",
       "j81LubimR/Uz+ip9/ZVD1gHARqJSNW/LtGvrVGGYkA5/bPIovId/ZqRHpEMhR72UisWzPuDxMYN0\n",
       "/kIIdn5TsfIPXKE7C6l+Wvxb9SZeu7j2FhMROYC/L5DQEe+g2BeKMefpQcZir5+AWxHMDk7pjkfZ\n",
       "GQ4i+8b3HLILfax099cmJQoNuk8TLz3FViQgz/xlz5IAQcQuDmk+1eu6KsjyoXhUKBZrl7Om9roH\n",
       "ig94ICK11RYPj33t54KDPvF0a3VvYQy9TKAxxwLJFzkb5gQ1cjmZjTRgRczKj56ZfxSmKcCwZFrj\n",
       "TZys9Z6rE1iVJi7Ok9RiQIGhFDljcRZMTy2R9pr9wKC7JKVS3sW+59ru/bWZ4DW+9h4o7IzHUCcB\n",
       "lnUrJsQ/PHy+58cfF0dl7eSVIlZ8BlmscJWzdLOlRF5y4SMFerSaao/U1bKP5BDwIEvT+reFxNto\n",
       "7sYRMsNlIytQw0JLdEf6z//fxHYSWV2tudlSmebXhVfXsx8c2k661Yv5+Y2rrDgY1pYOK/pSdcTH\n",
       "66gYW7V7L/Z5wpGqRlH/8s6CZoeufc3N9NPHvciqkm6i3GCn/wj21aKOHMerKDqD/PjyyHxTwAfN\n",
       "Oiu6+VSgUmWsh3rya7Ho8jzcl06I7db0VckkLde81NuEwD1RLyxD2no6Z4SQB9Gg/xfnNOW1LxD/\n",
       "CLlQMFqYuChef5MFOgCFRLPj0CHCwj7YU9GrCY1D3hpLu9xuBetRVDH7xXtMd49fVQxTA4Y9qrnn\n",
       "9qHFPpo1D+trMK5W/fegYS9xzHfC11mRF1kLx3erfzDZ6y+WGnQF1lkUOE0M5GsMw2OvQs5zNTSD\n",
       "yS1aydUil112loG+r5SE+df5t4w/mS/zQ4WxDN+VWf2ut6DBKBKW0c7yFSt/1s47sfw2P7YvqXvH\n",
       "9FRILcI/vw68JtTpY0U9HC++hXspgAlTcIodJVzkNWki/graCkZB1Xmp1WW5yE6ByM//0DbvJjh9\n",
       "h17v933ip/1rwtxK4ORcJxsYhX2pOA1m2FtLDAz48ibnS/qtT6yZhERjhsuVtsqgg0HQ1BPzfjS2\n",
       "5GRHjSCCVPPUp27ub3pBF7yTSorF0vzis+t3piaTRgX2cFA9soWkXaqzcjwB3SztATHusW11sZA/\n",
       "lkxPVUwndHgw1MoWaK7drXpnCYj8xM4LCu/s/8JGgnGO/VB3oWVGUQk5NTlAZY80w3HFjHaz/36C\n",
       "Ik2BuCzdHIv1OJkcnOpdQv/2+lfoKQmpQSZE+w6Kk8ALZ32SMoBzURg3Z+KUkWcrcGf6jZuyZgDS\n",
       "h2ezxFa0Ix66Mkse5meizck6b87gs2/JE8j8e3nIHHVlh2YoEu8jelRQpLD5iedBLjJa9FxQ7gjK\n",
       "CANACD76roJXwVdKiC/KUXLMibtsZ/DxxthppGAuywEdkI5U4Mwzvt2+mir65hnJp7mqFJAojLt+\n",
       "/SM59CEawAfXEAApHnP4gc6AMl2yZCcY5WGoGU0DoLWVzUl/+Z/likLCQ8zXZ8On8gUB3eB+vUt1\n",
       "wj3bFYLw+iIwovvB34bVBxtu4F8QmcyYpjZonie41QgouG+uutQVQLidrq+cgp3/aRLB16V27KfL\n",
       "u/gRXBRaw1MezQn6RhFGFDSv6pbdQypQb0dWTF4sZwHUY5AA8tIPGmsKXaYt3OsnUZkqdfRk0EM5\n",
       "KIupvfPlA+73RSDdSx0HjrcMUcmOu8jBKX/4LpgQ9uZa33srkVhBSShDYASve6jLp+3FoS+DiEDm\n",
       "yxDE9uYJNFfd240HH6xdtAoKWpfH8GiCmS4a5Lj8v9LJpJ4ldNmOGqe+rWipEJdtKTtqHPeVY/Ik\n",
       "dvLyJxz9ScBOvXwf/6E0NpwezM70rfzAKd57wxCQBD/kCv2ITAI9iB735ShsDSfGyqToCM5LtqZ4\n",
       "0i+MBbHC68qsqKhx/NZyoyn3VUmgBHNXNQyKm6bNnjZ/E+ICJKkUAhUPWVCfWxryky885cadbWXa\n",
       "Efk2jdW+XgWzjzCvbeWBX9t63BW9PmNR0DphbjGu0Phqq/KKuwntGi1Z9KPXtZu0dxdKzle3v9cb\n",
       "PIH7LATSCsJyGpIDcOa0nSGgjetVS1NlzFqJkKGzp6pXSV2IOfqP2UTHkwDZVsMXqRuWR7COH8b5\n",
       "FxTTIJ+K7WhSt+4t4XkjkGGjn9H0xiNV79SygFQRBaNhsoCdGwup7YLF7vJZVtHlvmEMv2Giy0S2\n",
       "WPCSC5yXduecoq+OLEFgDvjpiSMtz5MRg1P6RWamLRWopnYTMKmSCjUvwtbBzpYLiPIp9f6Yt0IJ\n",
       "wmBkutLsa/wDN8ckvkXMiG5uORZJn9CFUfCNGbxz0jVFCIgXHooAeV+tjp0vZv70lQ2Rqdlgh/ik\n",
       "yMmU6F8rGG5uFI9gLEF/+wukdSS86Gs1DoAgCypoPE9BnW0Klk5m/eY5wIW/mYsdfP8eU9Ml62wO\n",
       "P/mTqkwaQQgMG+GaL0IM9PPdL7LNVw6+P85RHpnvELzdz4G4sN6BGRta88xl66gkT2t6WvuaTIrY\n",
       "8/wpy/l94gjmyfIaGE8efOCfK5m2/q0jfMXaYelf8Z5qWsZpv81XriOp/2BbCSMLnlLSSkroPD9S\n",
       "k/QFS0wj1GXHKhTJ3E9PH5v694u6CDo/17X+/GyIXWoeg7wmV1v3PIQgGdodN1QJheDFC9timwBM\n",
       "WX3yPKDcL0JhZJYe6XO/ywQGcyHqoD8GqMZVgYJPrGgzlSNWZO5F4W59pNyhIfWISa871iXcf/Wc\n",
       "zuh8f2ZUf7IlPNdXGDGrm/Dd7IdhSqpp+nWmmQwqT2980TY5NRZU2j7Sb3/FW0p3DF7YJpbsS6zh\n",
       "hYpofiJdGWrghN/7uYgsuJOMwBFxWdieO7rIogDTav64V/ja5ItsmUzbFiv4yKRpwL+GsieI8Dcr\n",
       "2h5/eQsjk7KHe7olzimVfLpIYn9LxbgzKEuNZJVJTAzz20lIPbOr3uEHo4K9Cs9I8Liu1uaFn2dA\n",
       "sSWvH5hU83N6j41jYLKvf1q5xskd6KS6MtwnAiYKHLHucVFvPDqvZL3JjKxMdMW6EFRnDoJSmcRv\n",
       "iWh2ogUEIokxuznO0skgoy6DVEVDcWttUarAEhvqlbZCUDRp7LLepmZs38f4nCNfemBv+rQ61MfF\n",
       "TXo+4/XXkItCEkgzD46xWX1APGdy84xIcfgBjiFo9Q5drJfe+d/R1JBJfYTPleLe4AVieMOxmZPr\n",
       "UfQXfx8uSAOZ4ocuKT1ni8UtZFYGq+sMn1TU694l5SIo3ca4k0kt5WSdzeJifsaaeFguTKMesm9g\n",
       "d34bVGI46aMppibZunGCAQImAp5vdSygTy6516XVGYzaD6a2R3ndjvkBBuIWLyTRZ/3WREUJpZM0\n",
       "bPd9jxF15g2lR23cqJjj93BiHZ9mTwPXoDaEHHHNrhyQT10Pc1iLZk6lLaw6Gi1Gv5cL5KtQrobO\n",
       "9eV4nj5tOt37w4dFNlHR6ZWc6I134eutgJ4vjz8Lr/J1TG6gyADCEQ+/1MS4h3tEJj3uELs2IAMx\n",
       "lKBtRPfOQhKoJBlDpZwJ3WLYCuA3QxYZV7NEPGpE1lIJHkw4Ded+RAfIbLNxEy4Dy8mEvVoDBhwv\n",
       "S6dWw8aghOwUt4XwICpw3SaBi0rGMLTvRN/3sXPatWaTI9E59wcF4zjAewt3RiLp/AhA4ayoyVE3\n",
       "nm1azTKHvxFvLhzltNwd8PkVUHgjrDkg/7mO7hHRTZTEPT5pJdunEPYi5bhqase/gIM16y7q3KdT\n",
       "+EZ4qWwNCYXm0ZGL2PM8kbtuLL7zklD3gz61Dd9I9IADPx0cN3g+o7fXL8I+Y3MUXWzxkQ/AdfH8\n",
       "L7q62+g7TCOmkBVtsJEGECs6MUMgrLMSRI0Hp2TtmUfuy/S/rix370px9hxY9mbWew/PTC09S+o0\n",
       "lpy+boU/fmmieyFri607ll1RK7HYqd6tkAAIaG9YzhounaCF2knP5xDX07qvVcuJO3SfHGlTUgAJ\n",
       "NT3MN8gwcZKpzKfgOvEp6N33a07DaFXfht+0gFJrPgFX9Ngm5HOhki/vFSQgMuI0A0ZB649iuZcQ\n",
       "5JLqF1Evsp7Tmajtu/dcvg09TKJb8PUx0ArTNeCxbIgIYezzGTLUOOrFM/0ZPAAQKMRo5j/4NdDe\n",
       "w0qCIlsOGLNPbPNGIj3Aq3tTkLMmoF+3ayPOufVqsh3rOQl6cscIB2bFzQeaQzbLPtPbO9jb670N\n",
       "HWtAc7F525x52fkILc+rPJproA6Yn7OdsNwMQ37V43sW+vRmTi6Ng5iW3GA/a/ntfpjk/hGzhheA\n",
       "BPvlwru0q1ccta8Cwu0Of1y50wgjs6omRIzOwwQBMjGL01x4Fn4KRSF8PXL8GMjwXItflRx+8hXi\n",
       "5Uv4KYsiZBm8eX7fWdiR6zEz2q0CggDP25XbdKIi0sptY5DIYbK/FX5aKG0n1VIs/Y5zQJFzV9qc\n",
       "RTb7HsQQX8SVZ9qhxAmBip4s95AwnzIftju3GIL9wDPv//wp/i8d//yMxTNjfFs5Mz4Oyci114y7\n",
       "Fu7k2KRZz5yfBc3SlcX/4UcNAGhlWA9V+WHd+tIZn6YuHawjE2dbTOGwAnudqObG9uy6Xagm8NVj\n",
       "YxF9olJkhBDhjVD3Oc3N55F4yEay30PA8GGfHBW2aOZWSH1o4mUNthfBlGo6S5FSZYOORTgtUvIv\n",
       "0D9iMyS+s9m/ELmhgWIJLHk8vHh7MO32tsqylpHa7M66eNEvtCxqRbXl0JMrOT0U7vnxw2fYbrac\n",
       "BiHMO6k09WiZThTYWTt9MLBZlqM/zGmkBUYwnBFMMzQ85ht/CaDuHTlnFdmgYAIsvoUb6JoiUDJ0\n",
       "wWvDIAs2CcaxTDOpl5H8gGSraK+VR95NgjSlGuVhZzIxJ9gTOKsQm3BjcIKGVT7fdTGj3Hkofaan\n",
       "EkZmGWC2xYM18+krpfALQbRgR3QmTDxRAzIXyARr1zXnhZ7rZL3MKOptPm8Vh0Na+kYB/of57UZ+\n",
       "top08mlP4WAKMZTYWn9ncAbXf9+ViEhMLlwDI/M7jsWZc7cs59FGI5313kaiXUTOAHn3PP2TE0MX\n",
       "rmQ7XeqTk4xaQ5Up3uJHk9/d2l14AAH6Na4vrr5c1KG2rWm2rv/HdPLlDblhyprH1WxlreLttnct\n",
       "zu8OXN3waUg2WOahTEX8YAAuFajRlNQAAAMAoDfytFofKK582JmUS42JnwHYhcrnOkl+5UZjeQmy\n",
       "VKkAvg4E3oDtjsJ3QsQ/LGUUryu/i9EMl+nuJ+nSsHYOljkNgp6rvvqNmNx7YZfrsM9opNdmFM5G\n",
       "Zeb8RsNyuDmWUgMSwhvOPuz7g+RBUEDsAK/Up7EVz4e+bEU7f/1v08mh68BO08/FbDvnqCGwD66Z\n",
       "+gM87a5fxv647oRen2+0XahzzJitb7gHwYcpmKuMG0vnCuYvYI7G72eM81A2S8nk+dlKWu5WyO4j\n",
       "nvqV8kub9nRc5icUXTyEohZTJ0khPzuS4zMhJfkget4w6yRsW8G+zHo/9y/Zm/TYnKCQI3z1Atv3\n",
       "w6/e1UiepizSH8opsY/oMw3venigvM8yt0Ggr+GNOrI3RH/46sFS+MQcCiyvN0KIt6WDL+Xkflv3\n",
       "6pFWW4P6DyQFx+IC9ya9zkVotwFLXVFK5KXZuMzkVrC13RUzkmdzRaVE7wMP/GNaOysf0lZPkpVZ\n",
       "oMu9/5JqwD9jh5OtD/wh/kbURK6D0yiB9TY66HzxB9EK5izgSeXzsCye3AsvJBstTtX6HFFj8kfH\n",
       "oe8pHmRa61B5l+P0x+wNRjADzp13FleIomOIp5P5XP/Oeh2znsSWkuSbl6K1tMw/uKHBRUiFbeMd\n",
       "RTAxhYgY9BQSglaz0FgS3DIvH8sP92ORYzJY/Fma/mA4+G27DEce1WytKl7asEwSBinC9d6eknF9\n",
       "oakf9avvk7EqCnxiEesckGU2rt0n7kiLlnK2v1/mag3UFcJjLSYfBiUs8GNbRH1bIFPTSHgYQ+q6\n",
       "9sWJHOXFDjS4gLdVnkbk2GJQ/ukOKIdkybmpvQlzKoXZF+k8MZ/pxnYZ91i0HkbwFuMiRkODlu9h\n",
       "dF9kx0e/ymUiXC3hqtSC0atI3X1IpQGMc4vUaoZxYf2rCjT6Gvol2gBNWjcXy3otoG1nYFhVz+w/\n",
       "NyZCtbH2cPg8hmIfOBBpUZGxMbRyyfE97piEg/0OwNhE1QzqVvAP0XhdV/iq/qAD4uJGR9px+fXR\n",
       "prprZJ6CuOMUPhBzkKyUqCzNpJeMzmZDZNbDq+aPqwn44D7Vgmf8Y/OfHsNy8OOYCOepsfmQbfAs\n",
       "ySzJzFQHUlauINSXtamhZP8SYncZdNQUMhfs36RI85ZUNl2qWPImjNABt7hmrbpYXGdo7dSrRoWl\n",
       "0eWSfQGwmnBkT/LGbV5huqfiTOCaUQ+CAVVJQX9SSMxWY+oSXyluaaYBcAwrUWczoHfSrWEexEp1\n",
       "mVHEv+QsrkK5UXhVSEdNBcabLfPTu9LanCFKFsyPZbVPuSwNsA633uVz7RON0f0F8ZeRI44CUotl\n",
       "BXzGox1rhjCaoe5VLeZwxxkSMc4ydfADvpve5SR9nDNX3gkB9AAAAwI6AHLVWE2Sq6yeSiVFKidA\n",
       "CIXnt4e9f6NcY8leHavn3TtrsgfK6az0j3fTlFjC3Kuo19PGJd0jSQOl7s1dxa9tijxPQRWd1bCF\n",
       "oY779vfTlUcb/pd3+ywM8v/K4A0Bd9vL2UL8OYes4oal1bN0JeHNH4nwyfkGpdLQwPTqObXRdVde\n",
       "SUx3TV+IhePRM+sVAoLnmrqG3Rs+QNPP04bUmifea7ehEQWxyZU4XhMOOy1Nwqp0s4dU5xVtXahW\n",
       "nSmphfuSkEzNdqyOTl/XCqglBm0+Ptq8DfFSn6ANYxIMtR2HGNUgeTAvJ/OVO6ODLecYpOPwubKI\n",
       "1I6WiLJq82ULMsIRU9rn0ZvM88upQHoPPXuoCeehjlv3fdTBY43MucFFFl/R+ePxejhI5u+n+Sb/\n",
       "arSFF7RmYEYT+thGDKJMsG84Gy2Gv+klTT96Pp6bFhmueDmNz1+db/lX5jMnjR20uZYwR/7qUzuD\n",
       "LGcbO0pIW5FsvHB4mYQw3ysEubaoHTQbZCsNDS0NZ4g32z4AqUHeGiEuUVtqYdrJ1TXVhT7E61ix\n",
       "IXjRw3BrTwn/C+N0Kl6Xwrfg/KAah6+6d2BKwFJCD/uCxRuS3BF0Ew4Xsur+AIzvIorPPokNqi2R\n",
       "S3c1pi8hj5bDF8cqe0x7PE1TqhwadH43YuQax9fn3f+Snabsd4o3YH8VdkMHlaTe1r+pcoTy0Hfh\n",
       "IrSgwUmgcBAgfSdCY8yPxy4LIQz8W71xBWhkzpc+n6FgaxqKNaoAM01g1RxrtwhLDb7lEAwNVKPZ\n",
       "tTvricBbPCqUna+AP2E5EFTxhu7DIohWtIA+JMfMyAzZ9HMpojsOZOR0U53EHRTuTWQTKAnZ/T18\n",
       "pX04mUpujjBXsllOrkZ8ECFagjyWBEga4QW/bZg8OHLwXtI//wFTid/Lvqh49gow9XOA4HExOXB+\n",
       "+2X//8q9kzquO+gVbFJYdVzoNSykhnvLHGOqvdOMMe5+wG38GJ+Zs+TWOT8ycFY6vQzfUBFCxw5z\n",
       "FxPnGACUs0TbGwlFkEaXKtZVmyCuzgdir8OXy/Z8UCC34roSg9naXzcNfjTDG4d0I+WmJzF+AOwZ\n",
       "WdNwDxo0/I9ESYk0rP7w3j+YBMMQwbSEXbNXHn/I+rmjizW4jI2m4ow76YIdpYeGT95St0pgORQD\n",
       "fr4RLCDhuKuTjBkHkegqElhSAVhLP6hfls+Xt4GHWUrT+V2A6/1HeCL8z0guUmNEOoFjWrWtsn1G\n",
       "8zGm9Soc/HpRadd6jwlEoJUrSmD76IjlfqnUmIGltMfU4IwxCbyMWFMemTCT32Ex03KDVRWBQbEV\n",
       "gSRQH81Fwez8AM6yZr7c887H/+qjOM25R/9up9g+iB0T6tzk7/HLU8Z7lbv2BDfVA6cnpSz/57pR\n",
       "KsXM7UQI+5wppH/TkJ3X9g1oi36GYuU8grziD6evjwmb+j/kv0jMTp9xgIQfRLPk+GYXD2OmuvzX\n",
       "ywY+SSwiKfzFmuYz1MHoNJrSpmBfyE0Vns2ueUlRFv5Ll25TXfotWf/rEE9W80aDUkX+HuifPO86\n",
       "ocpf3aD6YxDy0RqdtOCDNHmmT3YgCg1aiiMPRjtSPrc8o9rhWYP4C3bNtjh1VRSJTk++RHerJvI9\n",
       "AL9KvFiWiQbVf1bnWUv7a22pkFu0AeNW5FQjNY6qoSdQw01GwKghMqlpWJq9QXIHhwvEqwpwmElH\n",
       "ZpkbdEX17PaoG1z0+dno/laL75t11vPyY2rtaQXwAAADAF5q/jKzlg5o0iR15dfj/vrU85SgBC51\n",
       "KuR+hIxU9Y5AvnnsIPED0caVeOhoeBgbRU6ESQSaGlyGNs4d2qqYUSzpkkdGgzBC/Z+ukgvbI9Wd\n",
       "0vwYuGV75Qwo/1IU/VFdV10bIQryOMsjbs+ZCrx1mYjAQ4cnk6CKxn5pNJIsy1hiEgAJuBq/fcj/\n",
       "nPfAhkCKvJoMNGCosfTiYcgKyRgnC/7AS6LSbqWOrU5tDOQZ5yjEjOmoTyATfWhKW+00EZNdepMC\n",
       "IBj8xWes2f+O41k9Z/vWclI1EAy0Y23CBn2/RB9gtvubwZN8+s3UL2/wGLeeln7SljH/tPo3P2XQ\n",
       "pf9k0caCZkSFzFjHiVI1Hiu9nviT8uAt6fDZ4mYJLYTigYMvrQ7YBp6gYbGWQOBhTHhdvdfVtnAX\n",
       "pzS1n05KuCjhps8CbwUpUF41fAEIRWY91ERcZQu0DuaRPXFyt5NtC0WvQ2mfws39b5Yfz2SNC3++\n",
       "gyoRnNJ8Q+p/mvile6Se+s2i85zkIwPk2YxpraBNtZBg5bOFcG5z3KY53mAXc5K3kzD391ZUxIzY\n",
       "7TckfyH+BdIH1Li9nsAULb22NHp4gob+bgpmp23IeoSfa7eqXLI2maJRvLkAk1+3RmYbSgYYSWwj\n",
       "zTaGnAGFQCg/fl4VFi0zS71tR5WfquVtbTCR24OsXKGE8p3/YA9ZwehKWF89V5zTPV44JRc7fH2U\n",
       "UbtUdJHV8veM/NHbpnwX9Q1AwCM6+KyXL9afStxTokk9qrcvDS6jZMTRFON76XrlbgZYr6UVE4YO\n",
       "krsyXMH/9GqUrGKII/n4GGOi42jK8Ig+9S+SwObandtlrqx/uIHX8P/PBh/ep0m82TII21B4HjHY\n",
       "38/qqYlrK6BX7fUQ3zzQkcUb6TxARFv0gdshbfxmH3eWp+0MPRyRHJ46XIxTVgNUx4DI3YckiPDp\n",
       "NaZonVd2tJnW18XDcYbfbef8Mt1YtQd24/Qi5kIwZpnk2lRx9R18nsCZHjCTPDgjlJcPmqAKv8sa\n",
       "Pws17029kQQpq6T3q4cFO7ZChSKO2ksFXStmw0RxSH3oU26Wyi39uD+VsGgNJFBsJ4fEpXoxo7XM\n",
       "JN0FvrsSMjkoZQYJEdyc6xqarNgjsdfXvrge9wrUfNZgqFO4UqA3k8dj33TWvIscGiYTWSjFb7lV\n",
       "Qlv20fqm57u4r17eaVUIw1iXBo/NKLkYhSq6y6gj7iYDqnh8/1Q5jAJ8FIjm4J3cDQ/h4GXgSdjj\n",
       "f+n9vSsExWQcwaBJGGHBH3KRQskKppKbqDklk2hWqZjhLr6xKwoZjy8boAPveNtA6QBN4mSn9oyA\n",
       "kJ+H7cJ2AuhLP+lgLLJwaOO9HPb/aVijM+yTV7uqpqn8bpdjwiMqk1AYSBHeNyqJpOXzvPgczy00\n",
       "ADzkXqeBsMXmrE4ZFuWWN1gPHg7qNe15d2QcxaFNwzX950zPBIcuX7IvjGOxYQu3vt+pMD8nob0O\n",
       "AAADAE7AltAP0V6BL97elwDu7lYadL1Djsb38ahZZN3bZAioN3Qp1OEFOzg/JmQi1h8xvPQ4Bse9\n",
       "hhSOYBqvbswDLDjYX4ZvjAqVQD+jN9EjCdo6JR+pbfcQbLVMPLbL/W9rjhZqSj0hRf5QXZw4AA7E\n",
       "Trra8bINjXWPcsuxisPdm8hoAstGPdzm/SlmaYMwguAatHmeXmBTKEhZ38r0SBY3zdz/s+lnzBVb\n",
       "9dhDzqcz9Sy3sR0fPaiiKindhh35Rx0riPplkBgLz52fP3QfNYPL1UnGYQ0/r13P2cr3On5W668O\n",
       "s0pvwamC8HJzB0ngD95E04Mij89zUnmC8ncHNo4ivb64WlEAlzoMwodrPO0ynHTQeKaPI3l7JsRU\n",
       "lX0mab9OrXCewJ7Esz7keN36kxYd2a8Namo+r0Goxtw9zCEvnrqeqj5EkTrGB1oU5eksgKNdjKrY\n",
       "wUg0fcGIEQqRixk7yFNQuig5gdpuvP7iukKTiH/deJ/q19nZeor/eALehZw/1Q1/zXhXAYx438LE\n",
       "JFt5RpaRrsamwyICQ3NyORrt7aJcY2c467Nky7kAqE3megGZQ/LuBy07Kfq5T1HFi29uXn1VhZd5\n",
       "htk21k9wmIaZyZwJovfdE/bf/D/FALl/i6a2qlG9Q2EvbcGZp+TXoJ6z+xp5BMA4ispJXe2f2BFD\n",
       "JVOpXrpGrrmeVmNFQ+e/acf5fKWVR8DEKP3hEjKjmnfJyAMBjY+WqPb8v3pG6b72K3PaAhoCnSbI\n",
       "BwZtQKi6xNMNsPeME7Ku0bhkEI0d6Qe4+/DNmZy+PXGd5HsHJRghXozYP4YUezOHtwoKxODASB54\n",
       "tfNEGiIoc8sW67eBIzVoXzpvIGgGHcYt3uHM6/Ziztz+1c2WE/j90RPWp34BxFIEYDKZTr7NfutA\n",
       "SsWzFVq8Z7JKm5I6BGg0MM4lQJ2LpMJtb2dl3wHYxIrWTG/lBQ/d38lANAOj14uzkKqCtYXejm9m\n",
       "hca3bi79cfqa52SeMDyG4boLGTN3IeWiQ490p/lWmdF+6HgDl4AA0TbFX76fqVcli78p9J9UpDs0\n",
       "NFzjBO2w12w7SRlgbdfG1+XF6yXoVrmc7GYO/22rah1y3TRmf/cyB0cDn2LiejE2LizLaIiyBTHN\n",
       "2N1RxLoYVjloB98i4Wkya5J1rmSmZLQ1oE7dc370JaR1vv4T12DIoN0g9ZDpcqMdIlVzn3EAAOdd\n",
       "IsUMFaHITE8DXpza1SNWX54SKQAbjq/ze8jSk6Otbzd9xNjMBQdvmJkfnswF+tmrR8zzeFJQCzTV\n",
       "C+r1kkup+Erba56w/5rK0ejrfoAiaCycw0JIRB3SzByeFlSXElt2TdNIR2zRe2UDxnTmWoI/ghLe\n",
       "gi52xLZF+eId+0VvoTLsSNjB4N7Skd6BWQxZyhhhGS63nbkRhesrFOr/srpVsQgeFYaLUHwClEDO\n",
       "t5CCzkQcx1Fl0vq3UJjDa0OSbw0+yO6RwA+3B+Le5gWDteSK3opL/pstH9V1/lt1umrl8GnuDgHy\n",
       "lDRA+AZZoZ4l/zzi+tompv8vLC98DcefHue577ROQC3LpRZzgcgdwMTc0R/eVhuRlxBrzrmiJeMF\n",
       "LiGWZulnk73aaDxTPdczUTYC1nlOtCl5wFHOzI1rPCPP0EDpr/8l+Ws2kyjbisEu8lJaKo9YMtJF\n",
       "+Tut/MGCbhmIJRK8bA4NqamMUW7TiviO421qMVSOkQCopjQ/ISzaSz1e0zUdzzpmzxUSJnYY6gkB\n",
       "RTTYh+lSJbDcbsYqg2jb3GBR4N5XXpZoNbtmm6Q1kfvNMS6JeQtpnmwKM3GUOAMvFX0VV1UNQHgg\n",
       "cuSuMCjkElTmeed9LzstfGq6aCfRGnbzmByE8q9C8TMmS7+dakI/LJArJdy+I+iVQ3BoPgOFIUs+\n",
       "Wz/twFhzF7pLqTOYfTyAEr1djTfiASVA15vhntrGed1Q3ddHqKbuZfT2uwFO2p8Bw1/i9gNv7jFg\n",
       "bMiyr/3stX4NXYW6uGPRvb/QfxQa2GIYUjGFq1M8UzIpNiIotIcWuMAYrFE3Jg+sLW0Nxk/ZCXTv\n",
       "pr1xq6T3gUOtunrN2V+ByZaxE4jSgkFM1Dfk/p01uNsF5tCqqhto7+2pEXoIQ/5cA7iLfxiB+zNB\n",
       "gUWdN+GsV+YmduEqZKWyIRGTZcN9q/p+qgDKoMkjFSeNJszbxIqxYXmOxvAAnRxi8xIGcxV4GFNN\n",
       "ileaNgDzKzCwW1muiUyVF+NngBSU7XIlUqvEvY35WlJwlJoEwNEcU1T7gWefSAwo1zLlmAolTmgA\n",
       "+9RDRik63O88xqEasgyI9vAeWBFyoZzyhElbBl+C8M5K/ZIgdX7SBVwAqo9M3i2Zi2vXGskCt7Kb\n",
       "w8NUC5jSkP0uBNseFFM9fA73phgUj1vSybqdv3eOvWAB2rna+Xb3wsksRVz0uneTCRmZdtiKDGwA\n",
       "4IhmWgGNwxOnlMyjZVv+u2DAIfyZEPEgTe7YMR+vaZGzy0lEy5bA41eJx/tIlkS7JukcBkaDa37G\n",
       "9Hx7/d0CLOJGVk7/LqFGYNaIQXozk4llKfnattoQ92BzFxOC9CQcAwYgiakK/qhW+dzkThBpJtFr\n",
       "D7gkPDtLXWqnlObPluBMmx97TQ6scBxw+XQxHS+oGLYMDlmKBqTmE+ac0Uk8sM+QIMwOyV5UIPOB\n",
       "8cqLFuh8X8nUM5xt1GHidj906whBGJcTMpMmtXMppQfigj6yVCaf7lGJwSFAG3OnKFXwR3Cm/NW0\n",
       "MRxMmYnlNuXL0yFkOTQKhiHWB1qrmPqtB5CgAB7zd7RsYTc4NkbekEPoXY4OuIBd7LuYAgGyb1Vl\n",
       "GqCKQnMpsmBbbnLIPI33YnxzWfMY7MD01GEMApdPD7VcN+4JDrp5+74ussXyouHuxNMrLPXx1WWp\n",
       "3dplBdj+WgNuDIktQm7ieqTNKmemkzu+5z6K4dNyV2iEeeIIZRE5dukLapI6/xXXFgOFFE8hX2+a\n",
       "tGBtFjaXt4xnQ8PHA3kMzEoVGxir55hK3PwvwBNFZ+1DPEQUfOCAF5pDyoKVoMBHJwcO00DU034v\n",
       "//HBs5RqFulNAkmA/un+Yy7P+lrNj7YWMbchi7pbSNMquM87JrtS6ILsFJ/rAMBcMxa00VXvN136\n",
       "7xBuUSLboxKxtqXxmpe0gah3ZfivWfA81qKxJlAaGqiZp+fPcTxkUcNq/EaRP3NPoz6aUcSNm/Gv\n",
       "SJRVk2wMdjpZRuGH+EqzXwSvXQWEbPSZTP0gWDBsoUIPixtUJ5MUM2L/7pbtBWMiHE0aNobd3v9a\n",
       "5XjiP+7hFe+m66XtJTdbHqV9H+f9DRHk/jE7BNeUIlMfXoyp9BfYG43ry6ALZNkaR9K/HSpq2ywL\n",
       "Mu03+ue+jxu0BT1WubHXJdF4Z3WZtQItLgdmsdivCDbZuTNnKbMee4537zAsdidog465gJU5EOWe\n",
       "XlZ+H+6a7reZJzJlLxDDfiGpmxpq7XxwoQRRGAQdVnhbYqUQ4h1UBDg/Oxm5osYJ6pYVoXS85BSJ\n",
       "U4L2P0M2LwI0LPbC2Ll3Ky9pxHl6UFMn+Hl75DPAx6tg/9GqaQC6pcY6gO2VQPTRaXgdE3gVD8ox\n",
       "jdcopd00X52MAJ46f8nWN324UkKMmv0X5uJuszuHXfuhMOqgbjcWHR8RgaWeGjAylNv8H8fDV6x1\n",
       "jGrEXLxgcE7pzH6lwt/egozHWcxQ+gKGBlvcyMaJ1KdSqwnqXAAvLNsYTg/BbYrt/UInr/5CFLPt\n",
       "+5TgQlo22LBUoSlJFCqO81/zZF2jtCbYpRUTPoJgZ230i4F61ZKv8x1V+SA+bQULdDN2NrcFrH+i\n",
       "4zPAQeLbsABKcNTgOog1UpPCEx84GNbtrCTBU97GIS5YGe5iMtKIqcnX3oO6nsFktmAinNaEiGl4\n",
       "ABciO8P1gwCT0dx6UiylONHhQi0RO6uguSSuIFMtIKj8v5xi7UKkHiQeiAo3G/5Q+f9nRSGtugr/\n",
       "iyZ0TP46FgkEB4BXaDX+Dudu+iC3YPLClCiDjavwgfR1Ah14luGaw4+dwiizDD/+6K42Nttx6Ur+\n",
       "/XZgeIoK5yFKGKaS5X5iTokab7FQjdIZYURzDvjMY5pomn1eR721/18wPFXaV+dW1OTB8KwBoCUm\n",
       "AcdjLs92hS9/RI0aCP5o18Beige2GjK+r1N/BW2loxLvEkOhnPKZkBSml8Q/IRsqgGPkH/PWHOoq\n",
       "7PBG8g2rpATagmWTTzBdcEwPgol1I4LTftBOGGO+1vW1LDOetmoVlyi1b8vAK7nF8LgLcyOn1GCl\n",
       "CfPSrFr4Gd0KHdDKSBKQPyD+gG0e+7i6pXwVZyABV0PDW2W6CFSHv/xb0bcuks0e9cBEVgeZa91J\n",
       "h+CbqTWNm0HmkMXBGJHSu4vekAiAbSg0To0XqatvLPSt43ps6n2rs0AsLP/FOW2cNhIrr+cZUfjI\n",
       "6wg13Qi8c3KfWk7yv+BuW7kbu/MypdaUokjneNNzUsLKu4Vt3+GemUmxuBqDagMjZseHkgq2Y7r2\n",
       "okQqgQ3L/Zli+PY1WtlkWrqxtJ1f/4LAZD1ln6tUh+Ea6IXkNL9ndCvqNWHb4O8vXhfn6auEhSKE\n",
       "57qIBpsGOxDzVE8EqI7uvAZmAAY7wGnWXIhBn+8cElAVRuA5MT+BYkricefH1aBAxd4+3w2IVq2P\n",
       "OeuENFNS0jtvvoBpSI6vsx7qFpwEboWcZr/TmrGR5TuTEJpZq4DGvB2KoA9VmL1/dJrpYBKJQpf1\n",
       "bEptDM43tc5JO9sl1RTtHbikbG1KlHxC49+dl3rcmfegHl5/JaM2UrwY0bcdj2szZfkgTc4K9Jjy\n",
       "mDQ/rTldaYLUVdd0Qlm6NkYne+38AZsmSIjCDtORz22JuQFx3aJ1BLVpYboKjyslX4/TE6mgZ4VD\n",
       "IK+sHJyZ9Y5Wuv+hHei3X5rNLZ4gcYvfY293c4n+gxRnIk7W2Ww7THIYFWlFgwEQsdW6II4YBg7E\n",
       "+glpeJSxkK4AMW6Y8s/F+4pWcAq5AxTIn/jHwC8a/OHxVQzOoyQN3z7Ln37OsUhEEP/N23ebax7h\n",
       "zYe1jLcH9xMna7vzRE5omTvYIQ2bbu4m7wHnFBZwavbKLj63P2SUyMtNt2O5TdQf48F8cv8jVdBZ\n",
       "E8GTU9dh4F8HV1U87vP/Q34jjpcEmVu3SGC2F+b7y1iQBAecutYevB7lak/cHl9wcmXAk9ApH1T5\n",
       "IHwCGpjteRKoaKmZlvhXH8j9SvjnLqT5TcVd5kPJuRiQrIMa+ZzA/J7v4oXyfWxE0YBqYaFMVbiL\n",
       "YM7CNbjJHegbnTDcz1GG+AWL5Ccf5QQ28Ejp6PnkfrDwMCNR87JCV5TcYZKw9j4FbeC2294Tbfx5\n",
       "ueImTNnE8lORoqL5+L/FXDjaCnzXO0CzCTr9XPWhpPz5eaV3WMZT4xZwZx/WmeXPR7OvEaG8+Ol1\n",
       "AF0FTTvF71GnyTEE6Gf9vi+NTQ6gDJkTpjnnfzE1BNN60AWw0Av1b+u3uaWjU4pwDfNSMWxnE1bG\n",
       "jB0mpSY8D89jrAPpsg4s5J04qiq5q8th/Vsnt5QoWvnefOYVdfpYcbwTOOyKBVQFYw6mhveO3eZo\n",
       "OKJKjJ09KZSVodFmTAafdkMybA+X+/4ouXWVWU9nztdH8VrpZbAnKP2WFr8OTpDOps/8Hz5tXB72\n",
       "SPBD7BDpgFFx9pb6TZbnQvAooxrOCBmaXtnA8jw3DDi15ndT2jDC1kxhWq/Oeg8VarufhP6dGoKa\n",
       "DdxjgE6iKrgccR306a28PmJC+pT3o7E+f1/vPSb9co13++s8r0iuTW56GNlKabMkD9hh8Gqy/b6h\n",
       "ZqwOlhyWkMZa1bQ45w8t+AnTrKkhibBeJ0zbeELFFOe/gvN8W01iBGWtvO1wr1SasbUmh2aeF8dm\n",
       "Nt0ob3I5x6jqywj52md0odN8TxLol3om9Yh6j55CFjNv0/l62aV1m2yZI+l4H1fhgIpeojolrSIX\n",
       "yJGALOI4x/AFTYo5FUeQ4NP0QcYbEsntYxJXVVNlZYlh//I5jmlDvD5NDDdSoJWT3+CXMPmAvtQ7\n",
       "0AB+xqd6i2cwgooPyCCFb/82Q7PAuuva6jNALIRAschdzW7r/nh7etGSPStHieB58IuOP+k7XfaZ\n",
       "hTM8Q/Opkap4PRbbyo0HMlXE2xlFKbdWyKVw6vNSWgN5GoRyrxVXHvA/7sQzVfLQiElkWvH0QrN6\n",
       "/RaWRy0DN17BNmQBHReppJaNtHhDJWfOidQUVTivTa0sQuIUzA8egTrN58tZh290RD7LkgnRL6Po\n",
       "9fmOwW/+xmL/2Ee3eZvUnVDDoAABiKzxdAAbqfhxGemvJCh5rOSAm+QH5g+ZTCiO/Y7mxzMKvgvC\n",
       "hz50cfbe8TCRa5DJRFpgy5n6ozpdebZQ70Sl395rZliqcWlVNA2W2KtQMtCH857bIJ97eLzJTBIb\n",
       "yunnbnl+nTZC4LT2vjHDn21cD7Phl6UA6sNX9VeE1bZG79+BUfjLnoG/NFhqg836xe+kRj/ygJsU\n",
       "ejaqtRHvEK9r5Nv+wkdsYXc2L5/LJyW1s7a4cDDBBOaZ+n1UGE7LHpvD6TSwLU36yteuSC16nZvz\n",
       "e+77lGP05r+EmM6h00W4oeDSZaVnG7Q4u4/vWZQHEow09tAWwGp+tN48ou9QSZ0RI6zEZXNtdfMv\n",
       "Pw+MmRb62/swYLvNPyhlRL9QbyqkqddWs5vKwEp2UnFRftsTmpcd6tYllfr49JXNIxqzg1IfSQz5\n",
       "OIBoirh5o6zb/IasupKKfXna0PL522+1QvPKup8pVEYvWwkWAp/J0vmuOeehPLQi+pfIoh2kd4c6\n",
       "qWLZfLoUlnAEoH/LWZ+QNR+k0asN+D29+u4NWoXgh08fo/cCb7lPdgci0slmWJ+NSbLg2OpJU03r\n",
       "6Puz9GvF3QyxgphHPPVfUrBJrmNURSH2HP7mp1vuSDbEq2DnyPizuluqmdjSzSnCqfYRha6S+78r\n",
       "I/TSbOgHM9I0rUDJbrfx5Htgte/u0ITqAvuSAYSUz7S0svSfbYtaUKWs+gSSQPtr28q4J8WK8YNf\n",
       "oRCMMKh9uqy0sFa4vvjnuIcJIP/sjFCHHulan8lBHo4uLGs9sDXyYzGw/muyUdDElrJbqwzAaHxD\n",
       "Mb7C5xuunMBVnx5cAORYIrn/wdf2c/lIfc7L3XDzxsNK3jWG6osSDrh+tLFv9DSALFSJTzGxLlBo\n",
       "UJVirr4cZDyOTBXvvNiRkZUweb4dLs+QuSOfDdT+5u0RQMgT+gmpvG13OZ42NB6EreK3V6kz5qdm\n",
       "Zhc7D7Or6VE3GOfv4ZasnpkseXKsV9GzTDvcePwAEmtnhgEtYJ5RMFCaas5UFjfM4QFwBAg4Ft4q\n",
       "Au85mth9LNAQ2uiZCweAqzXfoPs0oPx5QumqQvYQLSxEC88FSAnjPYfXcgLrNQL6OPkAJ6y4bgVg\n",
       "DGTBdDKtzpM+MUfoSF3JMXAxYI+Wet7+dLDK3hk4NxMQXV7/Wy1KJGeD6sLyV9c07QYua5i7yg0M\n",
       "N1ZA/w86TBAS/4mRSeYXEPE842IfVhsVzVGdaInxzpdgp6LQRMPbCiO9Kg1t1Au/1B2M8wLVjKOU\n",
       "r7mwz71U9MrugNBFIr9yfk7/ytaV81eh9Iu1nJz560bMauu3t/im0MgQijr9EHh4cumVlZL8hsLR\n",
       "s3kFoiYNcbJBUTuOEojI5D/rLkTtbjRbuu9Rf8CPoWM6xHhsCJ2Whmp7fLTpfVuZ3Lgoud3Nen3j\n",
       "sNCZ/ea/CRBiBLB9JUnxM83ewndCP0kpOLrMFI6jkfGAVTvPBNztwLNawHpLdW9pKQHosiMSFJNm\n",
       "Yyfp8e788InBZ1AZQFtGxyMzAdBWNja3hDOVlIHCqwQuLwGktGFvSDUc5wrjfy/EFg5fvZKaiilZ\n",
       "huyrGFDsZV8vho8Gy9XyB/dSBusSKxaVP+sjAaMAfwgeg7+xtMOJHvCx0QniKqtDoROux6JYsSOn\n",
       "3+YtOYib+K1fNa0ScgOUAAADAAUaIBVloFs2TQDUUGAAQgGhYi5t3gT3yGaBFQ9bumg7gnrEMjad\n",
       "7ubz3aJRSoDrfZusWvX3ffAXD6GuqP4C8KnhloQ2tFmHtWDhEDmAoZNLbXz+MQSfvxc3ospEirTC\n",
       "Pkj3/iafMMQ1uI9uRNgKdtxKE5efZSDp+Kev7k7+o2QEiu9B2NuX+q9YBtPENvtSTTdqHKf+igGp\n",
       "fW5qpbYCE/JvMfFWqQ68OKjE09bqau1+DLgnKlQv1JVTLEjv+oNscc8Gmy3S5ZoNAc+6TbC7NkqE\n",
       "BMwmPbnKf2GKqWimaEYrJzPxw3WlWGRPS+2jiz6FKyOr5heVyfvPDzfemmj2ZCt8zPh07gyny6mZ\n",
       "gU0Pxrp3sQPgkg4jlV4sCZpv6e9PhKgW9IEeV3X4xnNN/TCJQWDwdsY/sYOfSbRddrlvOKJdc8OF\n",
       "BL39Rg7MmS8ZoNcOCW4FYa0bOl5u2abJO8pyX+sx7HsxUp7wH65qIrKvliZ0Cc/fn1W/X+VRb3+N\n",
       "WMiuXan7RJg2A40f0Ass0qowrZSwoGbp3zaSZbk92+0fPWZAGmyQdiq88WZI9uFeTLwnzRww6uMf\n",
       "XWk6wizsYfkHWlXM1r10rI90zIJ011VmBdk8zO9G0RFZc0gxxg1UDmhbzI4apSSJDeyxvkyX1Fge\n",
       "2CbU0INN8XjVtLtMGuio5HMPQy7qErIkQkJnQu0h8yba7sWLYXU0MDjkIf2SRcf2yEUOu4yt0Vzx\n",
       "gl+fMj8bR++/nqXOB+3YElZRCkpp8RWCewTnPHN236/M0iQYe0p1CppVeolLMnPIrJaO6C66X+Bp\n",
       "W3GF124aAmp+LScGfLprDPf7R6PfUoa9Mpyik14c52aBgcIf9D73eH1TRIS0Vx1hZf169hwN9WVT\n",
       "YR6rGk6x5dkXaVrFNonmJ/yPEd3IGr0RjLhFNobuvA0XMSU7FB4N6bK5wXaz5IetwfBKJKOrm4O1\n",
       "/34uX9ju1fxFvUNyK9nPo1zuYk5QH9BvlBoDSh0efCmKSoiMKMBjgEAzis5a8qahJnYVgYSL0moh\n",
       "zLtqCu2u/fDNS2N3+zVDkSFIDfwVySKhkFZe1RvJ9MDar/Ted2XThq3bCMtTLa/Asf8PXzW5nmdA\n",
       "uexA6MM+PQxIJ2nH7GvQgLvoXbeC+/OPWLnc9Ts5bHauA0M17ixi3KLksTKoM3/g5PB3eA2RbX/9\n",
       "l8CrR2NazuvbNKGKW8Pnf+OMcz0whpmFScXf2oUwTNtnhlUYm9ssXwYXGI2wKev00lV7aAoMnpuf\n",
       "aEKzFhzK1tAFmhZUHGhP7TnQNBmkAY998+ToQx+JGznwbW9Ws/LOXwJPyEu69tCMMTqB2cAbvMBI\n",
       "2bXF33x3PKkTlVeuPHt4DzVCUMFUTAmuxXGdyzX4DDZFapR643OeGNLV9XLv9T8eVy+z7GH8egt8\n",
       "9bqOT0rOz4gBlwdKBLFVen9r6r5ZE6E0Enu+Xe1qru7iF1PBR2wrvVhZKW/ep8rtktiwJljW5Baf\n",
       "XItWFi0YaGVxn5YMeIYbSTQIT1B1D3ZYonSiUSjxVWYEM5L78YFhdjJ8Xgw4HH6no8VRQCP3VdS6\n",
       "dY0Sy5fN7oW7YZiKvMreAukmcUbLIRvlYKdl2uzsCo/sQKHAc2bjmX932stmhkIOX/8sPTFH6AqP\n",
       "jPZm+kn7qjOFB1z7PMXWp7gDmXQ+2ohU2rddNqVsV11iXgvTDa7n4OXyBA4xSEa+fK9EgGQhgRkd\n",
       "Pj6DuM3tm0iIvuV6nUoQ8c+db0ckoYi+6+sTpTddxAyB/tDM4AAADm1ocbKPrC0/zfjdE1d5OjKd\n",
       "uWbFYbpetJGkjd604AEl3SrVk5gUJll+XqOOFyU6HCB4zNS6HJr2Y7yERSn/ttH5rtSHM3HLl0h5\n",
       "66ZGdAODBpDCvX6HXgj8dOxBokecVEPeU35qpQlsBXHfa1xB5sTh0AJyKRtTYthGkxo+KQ/HRYjf\n",
       "tjv5AEy/SWFyaW9uz+IGNSv1zdQO35pAVA7PHyHxLU2f31RyPEYsD5hmWy3kYAjHc1+f+a2SwaGz\n",
       "WRW8whXFcnoPD0vwfgdkEpgAa0YBRsdUa6wvvb56mxvNNCJog6pH89ORUjazTVrxNF53r3pHBRjw\n",
       "2zA6qFhzsuf8sC9hzXNB2xTd83NLdkPclCiy5D6VriybEwpf5cpSQc7vyjDzfYz6Q0c27Hiztp3x\n",
       "+mFqNTpzgYtuQImS7aBgiih7YqljEgKqaJv5qjPPv29lPPKE76006GWv6A4JDfwmOmU1gngLITn3\n",
       "CjzVhCyuZCXYTOmsRNu4sFS9Qz+nr6+f4BRFItVb8RBufqZnuzBZXV1G3VH8/62CVpBKXXMA9ecR\n",
       "aCJi/o8PWtcRRU+MD4puaFhFZIdXKhxNAza8aVddOAa9YhTJVkE5LjW4jKTS8XcuF5wlHsu+ALTf\n",
       "12B+CB46gs9MIKbjNz0FPzELpnDHpAtg6twGfTW3b/ktBQXHTxqkicsaxYgf5A6Q6M9vfUEtYv9y\n",
       "NIPeUDKlU964eOyQTAy9pBp9BFbB4yd+M8KM5GNXwSy3Cykq4iNHkA7sP4iohxWp72PEQ9MOHORA\n",
       "QZ47DJ/Ew7NnRvAIWMWOd/9cHJ32f398IzSZUuTc201DJCsdbIG6K2lnfeg3/0LZlTuBpbs3KFHu\n",
       "VdQpB14AQYBRwGAKCvToHHXeZ/TFW6uV3DNXNniVrKfB7fsuqsqwwmC1LjBFWDSazcwWc9yKiQ2k\n",
       "pfBF8HviYrtNvl9d/bJrvRV7aq+RIE3EzNZaD+P/AtLMrbkYUvSaNk7VDBdryCYBf/dL9Wo0pXEb\n",
       "Oe+y6o6GZrfIuQ0Kk/narv+EgZLAQ4nodBSTtOQ3oOTEzdNPuQwVEkZVM2RU2SQhl+LFO47m1sNL\n",
       "QnMEiCMTT4Ec1jcQzhsBqRZW3yPc3Iyi6FHB6omnT7Q4uwX7/p5P01T0SaAyalKN+vQWRWbn2qHx\n",
       "7Ur/gI4ksKfWWMxI3ZoncsFp21ZZoVqzte2s3rR81G0Dq962tsrXBAOr6EpzStlg4wnJNu1JRJPb\n",
       "nyfcLjP4rUmTFYCQcQA10elS1aT/6raKvgXVr6AEomD4g3p8NZJJlxT/Zxn7f+GPPSE4P3UzSngu\n",
       "RXw69cC5s++B1lVYTEtMd7+wglZh+uxBfmqdqPWOqBuxRGHc/rQdnOcbcwNo3+r5Lsb5NfC1U4Xo\n",
       "sVFzFyfxjWi8FVgLvKabiu2YVNWK2yHvsLCwRD61N3I+ebJrJMWFu5wMPQoOZ0vkcLcZbY/Wh1t8\n",
       "SRY466FqeD9XsiAufS34/nxytNHxMsyyMy7mlWn6r1bCUPwmpdI25NXQ3KS2KLn44cHf3poPb265\n",
       "cF1skqFyB+nYNiwuVI6vEsnq7VjsG9bLQryYLdJoJJjAAAAG2I0Fj03lbhurKoKReZVD0taG8KSP\n",
       "0Soh+6o7NFE7kfr/7kl5ckEfLegWLsS5eoxbaRI+oLIbdBvYayQ5Pg+vxYvA++7NqrihRmc7rtpC\n",
       "Nx94QlcBKUJP1EP7gAD0QfOD846dHiWY0kvEv7vHQQr2y3xdoJBvQ67L1X2X7TtFszjTJC2bVsob\n",
       "NIiH+SpXD/ux/SG67vWkYivfdxzcBGTWxmrLKNIm8/Q4jMVJlaQBA8S0IAsGZ8BefZ6zgX3Ca+Ut\n",
       "3fyZyG4JUVCKJ5MbZaY9QgPc+zWpRBrhMneyWTh36upl4P+lhT52NrCY+S8oXf8Z5Qy5/Ya7R3VX\n",
       "lug8AUOm2T0aYv/itnPUHpNX23LQdhHo5WVQQ+aJSAKCFvy3+33VGIpXKt3v/71lg+j9SxFr+o+C\n",
       "RT1LU95VdjhaVSzeLSC+IBipYaJfJUN0tdE1HcS14qIotYLhHdfGpkljV2LqytlhdS+Kew0J6qUY\n",
       "04BQU7QP1GLYF5xRKch5GZng64l8MvieGijezkhwbt1EyX2azhCRUheKTcujlfWjjE5EBlU4oDVQ\n",
       "reZOAWDcXTJVPNSK/uj6KDb167OVPXc7pa4HJwJm4xFT8HHYjEAF4qeETf3bZk+P1ogaHzYu5uJA\n",
       "EHaBxGzkrmHnVMWKfXuc2pupltC5pkllqKzi1Guu4reUkPs5gF2V7UmW68Dkn7wTfx3ZEGBIwEeM\n",
       "8EfTHxSrRUi4pOcCwPcP2Vc+e9iTjepRDp33nfvBDm+NrP+yau2p2nx87s+qA/+L8jk/RSb02MQu\n",
       "wYGDHHz7fGCCYHbNAjM2dKxRK+gXlc8SQR6MR2E3LAQ9k9k/n+oNrCfkgBrteRqgVn1vUPqkRyYV\n",
       "cgCr43QxclszHYZv4q/GqYWaVkGF0n7BTj4CsmvzbTjLdGzMEMRoQnfW8Nga/C4tNLQTJKi+ZTyn\n",
       "go3vuLoi67AM4fYAAAMABryucjsE31HN6dp0uYL9UO1/ERNwy4xFHbs5iZH9VoBkDx7RaZdJS+qL\n",
       "YL/yWgJrfMwZktTGPP9gxzzF1LAtszVJKGp6MFYdS6AP4fajSvy6/tvs54pxpGe0yMT0DMABfVzq\n",
       "7TAOHYIH1D3xyriCJaxygMLLhZ2lhCUzf4s4U54sFVlWUVob0xbVar3TxFaG9ByAa9fcHNBTDAOD\n",
       "TPSEkNDNLlbGguUXegbbN8ZcXgADTtNPLJvJ0YEZ3GmznRNtt02h9jQzVefd7zDalBIG8EWiFYoe\n",
       "KxBU2/AKunCIFpNIXiwoA1kypdZCZIdwRzJqSIrtAmuWAX20l02Nw6yKtOLeSk9f7ysENXSY2UB0\n",
       "lIMelR/zf3QsGuHzL5A+2QwnkPklKcq2fy9Ly7Bs/amqAT1nYGIR/yPcIPj5AcwT/rcRUNZ4K4a0\n",
       "l+NPCPvzP29iqfXYFXiuOlD4+Dv73wd6Zgm2G4U8E3cK47MOQnQBzAjE4d42p5PAahu27+4wlOm7\n",
       "w0tfUeA/ByJTxcHcjzVcMcXqxycTqMTwAbMpryKBdOeYLKpzT2K7/7FVNh8atDJIdf9x7rQu+a5g\n",
       "/Wa34CsGzbs/s1B9CNi8wJPqt1AhmIMpBppS54g9N9gBBiuFOQYFrfm0tCA/TmaiDIKeyYYyIFXH\n",
       "XlEXXgp1WenUgJsN9cHqWUP2sNgQtnMvz+APkLtpteFYHQsnYnEA8rfV2EN2YS2xiTwSrpKjGIPj\n",
       "oA/owoHcocfbZJFwCt2MUyBGsLJInSGvV/OnpW2Bz0sh8huxBId2Vxml1Tqwa1kMguh4PNFtg2Br\n",
       "ENHeitGFIlE4jqU7L+gS9G8ON3GOc8RYNJ4M6s0igznjmakDgSGu3fjhmlvF0K8urNEkIxInTQCr\n",
       "ygF7MDwRU5Pyt3HV2zpeRylb3PaI4w5i+rknmeKvq/+2SqXjvkaP6lq8pBn0rO2OTq006WV0HNdQ\n",
       "9zWZkqHr3uPA7YA/SL7eOiOX/dSA7a4oXZurSItPhkCc3O1V6U0u1IH8maSNH8GYnedP8FYG4qSA\n",
       "5L7iFjkAt4UH6RN3CjK16PwvrAiXRMD9Zu7LStpcJzTss9azQuja7UjYF0/Ns4WWRDAf6Fox5EeA\n",
       "bFUIcbADSjmO1a0HT1tNltjwBACwCYqkMAybR8vJHHcPO40GHkz5PbveNL0aPPGRx40ZJjpU8VP6\n",
       "H8EMJbCA1r8si3mXXiTWqiNKXDVYEVAYNvl0xcl7Y0n+bu5IvfAv4Z4AC/n903YwFR7y3SM6TZKw\n",
       "+xMaGc9hQgWXhX6R9+12Cz4xWskacSrlPWKir45zUVpi/9amCdrtEYApWVcpqYCGhxVcSpesF7kD\n",
       "F6L7V3vKb+XtXVSS27ZU60FppUVrIHB5APsHQXAZ6AsIVSnhG0oYhpxZlmGmZvGwBNxg/n7rp2VY\n",
       "i7YJheoEYvhW8yxYgpk6IF4zuZYk5ScAAah3almn9xlQQrgzm25UHMwlS9Nzlj8C9dD1O6YKSWbD\n",
       "aVfyQfy8qT29Q5yDKDqeVmI8WERaziKSnTPzvEDLWESf5XpDnv0tOblMHAdzjr0CgFF7G3ov/qDx\n",
       "JX4RmnY8OA7SI35Kk4I+sUZKfVmLj7+ndOtoamRHljD1jw8EcCIcDN0tQsx5ZWqTskzXweUO0Dbe\n",
       "n4JHxoAAyaNorRdKMJqasmufQfxLc/egIKVG9hScEf9VrdWmD5PEuNX/Cc9j8qPMvX0ntSycUfzX\n",
       "6dAGflwmrtrPnRsYSJk3a0KB0JrmIWDR7qAoCcFQVjpUQRB00hA72tp+jylyUA19NzDjF0D7P4nD\n",
       "GG+0Yz//2TOd3HlHCQLLYvf/Etl5WBXHLHXrx9rqxcCjTBb7FY4/m2OBc3/GNRjqynWW8J+9CYhq\n",
       "LT12lRDXBnwFyV1eiO35+yGLiVdgWhDZbK+0TtW4WM9V91oJHVUzQlkXMuZcLOiSDPA7etT0vMhr\n",
       "XkEUKdGMlE6tkbonge93jv9M5wXVU5A3pzj5jI868lHWzaAklQhGY+rp9/S6/scOLjL7FrV5lX3z\n",
       "yCgQ5DjGLghd7vo8oOO77vm4wfSyUiSdnbKRCLUX82nNP/ECBWWkPQfrQ0jGD6ZVNe6IOvJ+ztga\n",
       "7ErujWIX2cFwnc1KkBrnoWeKbbis2Fk0NdrQV1tG1SlNVtDCkqb65fcMT/RL+Ly80+aIsIWTHw//\n",
       "o7YqQQWk7qoa7FTpGIrbTIxdqw1qN8tVAWP71tgJsYZOcKNTP83ZBVb+JPPXEYg88kWLz9QJquW8\n",
       "VMYw96faD8aBdXrD9GT0BSXicXH1HRZLZ+d/cnmxwqg2CVT+Qqba6k3C5crq4Py74H6PhSwYZMDS\n",
       "7qSBoTfK2ZtNCryqEYHdLDkMx7Oq+bWH53DPW2IGwFKK4s1wacQTc/0F9WYN6a/fggAa8TIAMNWu\n",
       "wzwKsp34w11MpCv9+D/EPgV8TnPlItyaQZwbs3MfZgLYpfUr98ot/BYacgom74LiJZcaQ9sb5zk1\n",
       "oTxvqe2OhtMK1vV/hPALB8/w0EqcGvicEsR5cfsVMpzuCtB4NUegiwklDPshNBNbt3gwvextT8KZ\n",
       "qsG/GWlGC2WhDt+f4TlkHSXcUqnvEPpr1R4XvzYSn39POasSHTrT3grdPgjPAJwoPm0K2sspA34E\n",
       "YjHXxTYukNGF/Nm/V3mOzQo2Do+jmS2tn6GIiqvYpmnWYwAgLEPn0duYwTCeieS636+o4kVaH5km\n",
       "kj1Y5VPYh3Ki/LRK/10XBg1N1hX2gX9dbJ3JS4bpBw12nzULWBlJJZIstFkDCJXvjc1x5PKIfCj/\n",
       "63Pr26L2n9DYcLvUkkjJfjR7+UTkNLBl5tt3NTcKZoX2sbnQlZnN3UdaK/whyz5hgQ62B9ZQCnCL\n",
       "jKmh/Z6iDTIGa3HbXUkhN5xUoIPKKuG9OwlKJDs/roMy9vSHqRLBIXvgAseGLXkKqJ6L8dBHAU6A\n",
       "tO/BTJhIm2by3hBrbheCeqX/1Nt4Tuo+6BlkzW7ry6+gdDyGdl12YLmTj/qSHibdVskCZ51AqAsA\n",
       "LDWLXMqhhGOIu9YjJzEu5cgKbK7ttlo4fJYNC4jxbE8plYNCPtePyiReKpvWVKuiD8qccN/3HSWo\n",
       "+sptHU4F9ZNA4Y3UzwurLDoe9b/hnyVneUp4PASwovCfFgTneZjg4T51ASQrucb5bWbxqUw7HnwZ\n",
       "iwYOgWqK7SOKAjLB8TBgmHlKmPafd+wCGi+jqgyK6wpGAJsv//8hiQ+lloKFjiAR+O8HyrpH1fyh\n",
       "ARRdWd6djgcmK4J8yTSLY90bkfYEuep1Lfl/QC/Je2/030Ngx2SJl04DbVm3YDrxF6+fUpqtNGuI\n",
       "pcnZxt8qhA7MAcHHPfwew6q0Mn1QXJFuDsC8IkmFeKEs98lyxxOlwZSwsihedcv37a2FB8HNWc4X\n",
       "SkpNpJm4lRtncDBHs04U7mCIEW+3E452NCP71YHp5hn7J0haLK24kppt1uTtb4xPVosKdSAx6bc4\n",
       "aWuIp+bJ2PqU8+Dn5GEImhVEenP40ELEqytZH7PEZJOxiNtBHy04i0bpRqtyVCa1ApFpnNqzSPNQ\n",
       "DKK+ET5AZeJtg207p34oGrBUlVLd9V/Iz87U14j1QthoM4hVRFO2rxrIADY501ZEbfolfa4u9o34\n",
       "lUKGBjQnDA64CZITJ6F5ZY97wHR37fYtszUi8piGVRhl/YqIJbBkl/cENXoKz9txaZYFhBO32vEZ\n",
       "DRcUztkeSGH0L6YNLwGmTN2bEd2njvUs744ni/HWVOthieQX4DGye65XstNg9bghFCeWxVzf6JL+\n",
       "aQHTfJSXXi99zZ3w3qP1zHEJKpytpc03EhGH9iu/ScVNmH+L0I2bL2TQ2b/PVfN8lm6wNMjTvnYP\n",
       "0ovgDhA7e4jOQbCt9Cj0XDFsmlhRXa676aEbFWaapaNZtSus8YjnUwOTmV3wuZKd45aMfdE1Qp8d\n",
       "8q9kfkiWcXuRlUoMFsgudLn1oJgAxCT32B77FtF2F+RFo0rbPOjgow1OD2LPdzmSYZSAn0L24GI9\n",
       "oxT9WR6ALSacNpfZ0i4hnZGnSSSh8+2YM+2xmgadj0k2oXY8J9mFzoQgFgGgrzPucHMdGTMzx7Wq\n",
       "do94+BH8NTGlrxQIQyDo3jdTcBPvvk3sJ/6xuVpX1lleFZNEwEWZUfCyb+cxgdLIkqDVv6frv8cP\n",
       "OmY6IFOIWgz6gpUwAHrYwlkmXyhREU5gjGkg0/h8q3+uNIVCErEDgU4zajOmTC7ZtlV0eQwpfATy\n",
       "0hIjPI/yqWNX2+9BBHffecONYFUjoirnSWiMph1E0mabYYx29KvCiOx5T7UbDGzO5Qzuzl6H/uxJ\n",
       "plcs8WrB6VyPodjzesCJ3ME6/yah/JQZDIDeu7jxmnIqBvcOwS6Sn3Jomuyde13nEq9BUZ6zhfFX\n",
       "2pBYLIiVE/nIvzYJnYlbAtIcG8JI08m4yR66BFjIHBsiIUNDY7BwdzznhPfqRQAQjiPF7YH03bxK\n",
       "QTIvp5Fofz0tfO1HM1rpxy81PkAcdXj09Xk6g1+UXwf1kkPsq4ipjQpL93ECTNeOM/qPcLnqseOv\n",
       "LD85RBliYTibDtEkY1K/cQM19y1SZt0Xo482vTOHOteo4Bnb8Mrl5+aMF9PO5qsIZMx6AoCwWll3\n",
       "fGNmy8OCjfimNOPVejH7U0BvzNwmUbdSvu5VcTE/qn6A3GIXwb5z7jCWSj3oG4MuwBA5JGr0EmDN\n",
       "xzs9rJfZg71qWKchUmEFbpQe6ZZjXhAxywQbn9CTPb0TLb8L7B+RwUv8gB8OoTdLsxuYkFm4rGgT\n",
       "KGlExl6X6zXaPUTln9+TtLOxwSM0ZwUOTdp1B2fLPnP93+ubHXVdLR9pVJyh/fBWIZPYA81eq33Q\n",
       "rXcnsaZf8g9zQ7z5G5nHA9pvVoDv2+iROLLQv92446/HbdE/eoQLP2nhbrz5CCAFTW3oH4QlfI6I\n",
       "0MGOCriw4Mp6eyKcKF5bB/hWv7nH34NgsIG1kMlezNmBABCUUttQPdhlGmR2ymfjJrn0HLJt61ZZ\n",
       "IuwmrJnDEu28te+A19UPh0aXJCCgaKXgYABn+cbKtmtJR909B9CLZZYhB7oOHcVrL0oRnH4JySRV\n",
       "6VOwqHMIjA/CieoXKNCg3zBXoqvIoP+SzNu7sITYhpxXtCtYJ6w9kGAKXVR4gjBQROWudWiYvrz0\n",
       "lhMFCPvtbdKMA4ZUQJZBOKqZsjf2RSvqsPx0IncOb3D/ccKHT9jRPGQixn7/rWMLfC3OjZeLGgh6\n",
       "L/i0lWB5QEcM5hQ5GiqsYrkqhRhcCZQwjtXaawxp297gzuWXUHjXFX9cPxro/A7gx+2FOxYRcbUi\n",
       "3UL8STSzq2M4YZ3+wzFFFQDm+5RGXP4IXLCnpMn/45vvW2saRA0ABYjJeP3LVnLlOVSW5UIoo0kE\n",
       "5o7nHH7CHdxrNUhhIo5tr8lvOe7zznfO1c/FrhDlEnTRLBvQFsJdkqoz1FKX1E1hCqYYndQBm83A\n",
       "1ghtPjlLQD0JUu2s+UIZHB1aYRSMwSkm1vNXHG4skmCrP0Ip6JOHADIz/HZD+R76UlY65k33wbte\n",
       "EeajHSaGNXNapLgELdGE/odVP2pe6n3hRXyeqI8dlbO1UvChGz3EqkHJCoW04+ZNg0kRvMTDbRhp\n",
       "+da/j4Tx30Ob505Yw+eboTyyauywOXKqADQv7cfrpcYLjh+svd5bF6KSQggvStDpIgAAAwJVwAPT\n",
       "kGClTB5oLdJAOLgP2EAFkKe9rVzRsLsifQyv1vDH/iXQEzdest3K2utX9kUro8nzbQaqfkKjKKnw\n",
       "G0kxKbCrU321KpU/xZvi8e0bEQy1LbnAVpqnmsWN1hLnEpUxFEeTXGX+ijau7P/Qd4iNDrq1TcWT\n",
       "GzDXrsUurkmlg81KLXY7FUAvOUu6+rk89SaXevXunu2nU1L0qI+lULyyQniZdtIMAuIICuTovbsR\n",
       "6t8SibaC7zmRRgJoZw86Rjpq/HEqHZ7YXH3tj20RPvTMtQmmes0fOvejfZqbfb/UDLbcFs5zuG92\n",
       "hm0l7uQL2+HP3w/SQFioUfBBWDNg5vuX92UL7Pd7YqKlBjAiUIVjbnUEbSDqB9DtQ48c5b4/V9uv\n",
       "Hcu34m/7+2dCKghhwaBHPO2nwjM534VgqrS2x+9V0KMh78QxzCeOuc62+WG6qCtTzYJemnld0pzw\n",
       "P7h/utnWOyrfzxhQHtEiU3/+lwbI2DAibgTQbsb3v1yN7d3tPSKFjozranX87DiCUEIOjEdgopmB\n",
       "s+sZasa9wSd8PIEFYaBK48I667sZrGAo7AZJjX8opcYD2FOLqolfQxMMla9GibXzfgstOKHX5R71\n",
       "WYaG+rmywny+wABliZW9QcWQWlC8JByMy+OS19YJqaeMxNuakW6KndzXWy7OuymNYinitnqItT3F\n",
       "/hBdxBWWUJr8NE71HqQP3c7cDeZ0h4sxlsG/k7ohI8/EZaNh/ClagayB69Ib2jl/SyDpol9IiVg7\n",
       "xG7XqQUr8DSyPI4AvYFBEHR2f1xry/5Z2nyiPpVhWd6wVVb0yUY+kwgqv4SPPyjjGPYKBSbq9Zcs\n",
       "ecmDHFnkWXU0o6IF+3nSBM825P7Dvxl7lU9Fy7DcH9l/u9bFE1435Prk6u7vih+jLiTt1wwqQ79F\n",
       "Rci1jIvn+vK7AJj+6/qqxY8hVM6FujUPE+Ap6+06OC2tIWqZHbAd3tQcQCqcrvW5/AzUk9uJEpvv\n",
       "6frkn9fQdl2anuJJPHAWHYblFHvCssTIrkIBoyABjxqcaqgGWE5xAajZvJKsaxKsSIrvWEIbr1tA\n",
       "nPKJTM0+BzpANhWP3fdGBzAktVIrkab91qECFlzGIC1JO+H/003ATNS6rr1hur95WpKsqO9e08eP\n",
       "cs11G416pCFmryt6kEUiz6ZkKZ3IASi4ir4q57/P1+CkBjpdeZ47+ih0qg0WxlwWjgshTSqZRMhC\n",
       "vKmh/ueSn/+QvXCMwjUnjoSRvZO+LQT+n3GuSX2wOs9T2gc6euC0SX32pwahlEyOgeEgX7L8fKw5\n",
       "yXMDHAyu1knwTmu29dAnr73uXSsUCQFZmFQIqcV/dOdPRLElGAOnMgXWwvEZFZ0G304jDdHXCpoo\n",
       "i1o88m0irKgW2fCB3juGB6CFb+4MnHtxQcAQwL7DM3yfpNyGxD6DT0NXniIT9l8U+wd1997gdR66\n",
       "Sxs3IIVKOOTMm2oMjGvymWZVOnLaln+MqsCGjcRDL8WkoT9wMEscvOGmnyZBgqhJd7H9ntn9npzs\n",
       "Fj/GSAVk3CAwjvQ58LK8pv4R4mIcwQcHmA0iGHag/tqE8PlHmtJ+OWQWktSsd/PJYuycRbv61rY3\n",
       "wXropdLBQd05/IL2T3ouWW1A69fPUAc3Ab4Frr3ySfkNId7PN0vdDD5PiwXGw1z4SyTEsC1BJZju\n",
       "7tmkVKr6I6dpSCRoiAEGpVJOcvHJd1VzH1WhHUqIIUlosKSpdtJUMEhZYdvCpP9kZvOq1fnkf+DT\n",
       "DqtxTbPhgj8wtsvG/QRS4ikrc7IKF3KbBgDOqWjjraCeWZpGeszd8F1WjQy2CygAAAMCSzVEmyYY\n",
       "zJFinqLzssjUCDPeXGV4R3ZawsDudmIUSZWCn1Q9Kxc1Nr9yxHbKAxtTznVLRpu2jHms1tXup/X6\n",
       "8J2eRgAukbgmLrRpaSpOtTAXJuDQ9sbAAne0gAAAAwAAAwAAAwAAAwAAAwAAAwAAAwAAAwAABwpH\n",
       "AAAT4kGaIWxBL/61KoAAALuMwYAFCcLWNcEfGG0k5mXwRlvFmKw1IExraebwnW2Taml4+3uE75EC\n",
       "6uFTPoPjIi8fqjdFgn+VQMj4jQDbAgMHUeCFXIjQIZF5Oa54jP8Vx6dGlOAlb4OuV5j144IR5V1F\n",
       "KOzi0opK11VdIyqwVxyk1ugtz9svEII6yi05OVvhyI9YgbicpfOsPRwsfjteMKLd022wm8a9WuwK\n",
       "w3vx1DJKqNFJA2KIVajG45mx6XrkcsCNwFu6dsQDM2oJF/Ug3xeQNsOiLeyXCT0k/iJUmOezqKyC\n",
       "ys6LTUKEqstp5M6hw/vE3fzFJPNVmXH62Qf+eHRvAjJ7o02vhmr/sOqMedafURvCqVEah2Gm7F1N\n",
       "KKWSGHu+8cHZS7qs3u6/hNP7bKjj+a5ClaAkhcTDsuF4KAzgBpa6ZzaANP3Jj6VKqzJfl+Qz0mDr\n",
       "2010RBHrHBPFRdEjJ6kyNkx9qodGLhjzU92Y8kSjIGlSEBI7wmMkDHz2IyM68vA5yFCKoJAShPxU\n",
       "8Cqc8aZGl3SgXugBh+qMhCvcy5aJwDxlnzkcsRNutOh0k66aX4sySUtr2V9XTv5xeGNXILl7tUis\n",
       "8uEBB/5U+dV8apwF8i0RnXmigOOU+h+qiJoyJwVnHuD5M/tP5lK9EONKzpKcg71jZFFkqNzHvbs3\n",
       "UhzOhL1z0QPJQqmFifgkLHnpEOe0T4iUywIeRc/v88HkcGL1d/mtn+vY22emhKaIHVaPtmhK+kTT\n",
       "f/N46PuVRM0IXH/friffBjcfDVJEZLnbuSGqcXW7LIWMECVsK2tVF7+TaFV0Ma2nIgtK3ZGJoLeu\n",
       "OLPo7iCBAgYPmUu354LjwqUcT79kEnW6gAuuZPmiQcINdSipk5NAhc0O09zZMDqZYziv/ei4JQY9\n",
       "Z+5yzAt91cD7wSDkUICk3fOJuzsbsX8TEEQXknfrI4Dm+CIkiheaIGB2VNl7KpJ0ePA+JQ3P1VlN\n",
       "O6ZIu2UQ/PE9B3uO5+dtApzrXOREpHDZKjdCm6E8KuCqmTX6zuntCQdqHhITyCopp86qEjuIeYDz\n",
       "O5ECkeemBnkw5WRvkqp5W0z6qq7wfqj5yZeRCttzF+6hENyojGu9adHjnICRXGrTYYoHADri5Gif\n",
       "rm4t5nHkhEje5F5gbie7wVuLSUjrAhcseccr3BjgLNT513bV/GTsCRf5gyNF4VGKG6+y/Il9uBRS\n",
       "4GZ79Fshc53IOogarBQtdC1crjKhmh50JlnlBgT+FLIq5r26fLyQm5ZadVh+0ybCarnMOGOijFAa\n",
       "zmudRHEmzEOCYIdio53NG3QZnGnGnY5cP8DZNna/9DEa21d15hnZ2Wbv9NwFs79sGQsRP86Nw+4a\n",
       "Xdp9dJvmjVw+qaSbBM0SOsZy2ew/4bxshbOWPy0cN4jOCun2mhEpDaDALz4pF/DHi6yx5TcSwLUl\n",
       "V8KGWvvBbIlsx+mKWhF9duXTa/r5rABr7T/6JTHdcIWK0/zsd0GSCL3QV4u1vESKqy93OWxFQ/lx\n",
       "T579hho08VyMYpusbFSd3rwNZ//sSnTaugTDNYo6uuIPoegdQVBMoJysf/7Y2cd+70WL/ZrJiVqP\n",
       "d/r9SXOhwkY0UBZzLW7MA8vNhxON+Sbpf6srUyxH1B9vXa8kcCbdSVS0YR9Djo4tOWdpq8h2LK5r\n",
       "bc2UJkxKkylltrKXZqbNZhKLSbmQfl87ZvVWV4T6hxT3N669YOWw4C1Gkawa6N9YfemVyDoYc6u0\n",
       "mYdZcWXEueSrGQ0YpsfB4qww3Aa9S4VaDn4uDe8xHxHDLTGGTuswPhyxpHAEhc26yO+E7l2okJbv\n",
       "d8MSFt5K+OhJCZIbYOzK9wFc8p74fAE76vEsVNe4NazMgJTo9r8olxNl2cPgaXSv0JDtmVcAj+3C\n",
       "vMY0xOLsSmJ1c14hd7yu0GrpF5W/3ncQG4vqj2KsB/yFv+x5ViSQ8V7BexegQ6xFAtrNSulEFqGB\n",
       "ZWUtNUv5w19w96RuCfTHr4E/L5jifwKHw5FvbmyoraQhlomPF4bCvwPnoa2SFrQdwZVO4YAEg28A\n",
       "q10zXzGSzsyVTvXS53zPFvphaYzPCoZdkCBNTY005QbuPepc/eDkvl6v89sHeRu6F0K26KscOY9n\n",
       "lQtUWdc66Tj9/jAIhCcKcCfEY/2aEj0/tVNP8qx2jezPhP0BPIJjyj3A0DxI4WLKgtimuonLt3U7\n",
       "oZdL70jOyqt70NW9lk+1DWyX9vspHTquMzubUDtfAmsCiYBmO5YkEEm6dAbqBt3///6plWUuW/oG\n",
       "Wos1LGvkaUr3+FSQs14XVazt2KkjQO1LBMUXG+tv2Ou4PRQmn/Dh3Nzp2xQRAzanQo2jbM6/CIn4\n",
       "2Rg9xiWx4ZBpqQe7ba6HaekwbZB6x9KCtDWh6i724WhkWWku6NenZmdPCxA2dTmRWuOvYgyf/Fq6\n",
       "3n4OKDL5pehJ+U7dVnHP0sOWhuzBCOx50Puy5QrQmpXbxPh3VGc+2gAuAnkxJ8G52TiUZv77INVY\n",
       "+ZUNPCdAYC8vPRmy/4lNWyibiz69da0MN0kSUWjnPUo+nbwjDpoAqhLHCr5Jcbc27N1xko1FWu+E\n",
       "BwGDpZu9qWgfeNA/KoXKwHY5DdwBAAMsnTHj78wqixftOIrpDsc0Uf72LPEqc2pNZiqSUN25Lqn0\n",
       "EDrXnszE2WCOAYKAkheZoNjAIzYEHwIFHbyBis8OZDFRS1y31TSrYEFIfS+GCGqwJGpA7f54EkZY\n",
       "rth5xBu3zollwyJVSaaJg9a0oYL+FLo2CGJaumwSfb7CQKJwsTIvINB5W9nVOf19zbTWoUQqUHN7\n",
       "G2q0MKqKBo3MOCnv7n04r0ujv0VJ7E560PHfY3Jp5CHv3/4H/z+ICtVwoQMsUOAbVHNi/C2Zm7ID\n",
       "5rndVzR8/neHFmd4Ff7aq4b5D6ZwOoxe6kdrQL1EqUdNxR6Uwglv+2SVl8tXazoY4eyjhLSsh3mU\n",
       "CPZRA6D88hXU8EFFkL3Lua5FL5PEu3ITqry0l39mo+cCxPF/urnMd5ip3EAW0WO1AmMT7xvlL/FC\n",
       "6Ixq0fL80IoYry0oRj05UlQhhQPw6aIpsLdmikSC2Zg1N3mvaGcZKElYjjxL+qBAk07JTRcquZOR\n",
       "MNMU8b6L/WedmkTsmQXb3bQofFjn6YAT/dz6z5JuR3ygJGUv1xEGgLaWN3ax7UAlaThe0XuRVpmX\n",
       "i0zW/alOUIjybPlONHCIrXCJLwO/XiKhnUESSCcDpaIJfJOv46jZXeONnxA9cOzojgZvZv5D5q/O\n",
       "TvlQQDBjTiTiXaaepfPpoeCRU0hETsN717rVHIv5O8exoT0dFoYLYHaMvlof/2yj//4D6rRQtYdf\n",
       "4ByzkfvdbuS1/4T188jq1Yhp6TudhqQGBCjw0JwZs4kt5ESAkWweEo7oo935eU6Xl9Dox2OgE8MH\n",
       "7kaBmo9D3jXcPRScOvuwUrAo90X/v9JvVdYFPCb0SWvDZ3cwtu+YSAymI7bOyZD6wGaaGjUUF3U6\n",
       "10hAOX7KB0awxLhIAx0b8u3pWgBHan1sQfvPrPiBLjxdAemsdPOPNa0ZL/1SX5d3PmVLPgq7XaGt\n",
       "Ghz2yu0voiWuRiwD+1KvI3irM2fsY+ifspjHIsLLJol4YigoMO502JWIN4to/m0evfvrj+cnYcXe\n",
       "OIOYWGcAcCkb0744QI8vomMBLV+7WLROMoG1w+QjsVxH9NR/WjGYUW531fFmtsXPDylGmiMvivGP\n",
       "9MfBczYyIOPqMHPO38GOPWH6uTTGYaWcJZidbGlKi97WBbAjPYSIxUveJJZB1rt15QzjBXgwSrMe\n",
       "2iwZEdJ/8zUe1T15SV/7gC/IRgMoNNdaARg+6l6sUlMPQzKRzdkOJbGnr54kxZV7IaWwkp4FEru1\n",
       "ZrGh/MTfQdl4751NvJWpmZqSTCIN3WWvyOWf42x639toULEKEQRix+fVcik7pIpO6HtT36Z9ZFBf\n",
       "tSeUAlM5Yde6u/vOGFnMR5zT/Ok1MoLiCiyuAU2I/PNtQH4dWFU3zNs3r4b7YC9zypHfZ44buuKk\n",
       "PNJSXgI0kypBbW/950BFv/MHvwEC/08IqDmKyIrArwuQkNu2y1jV2uC5aQFjzmcwb+K7pAuuh2jx\n",
       "kJT1wWm3MgvnDNffL9vU2Jy5f7Ue65fFY9GkFwAHIS37mDAPLUCcvOUMW6XK5NKpOqFeh3oIqLUR\n",
       "uemqcUpCOL4n8ApOoZsXlrM6f3t1oGEybqs54bV6zlNvOr1eY1gWohllb7zh9KLGrtIiHR5THRF/\n",
       "NgaCO/Gjlx3RrV1bTbiO5BTZoe4DTlCb+tkCqmakyAuletxRuzc5AivE2kV4oj99r8CDFdJ+TYoj\n",
       "pLrvvpB4c2UmApm1gQpn3TkDtQcwr8mgYOVjd6C7YaGQDovLLM4YDBFvCeLqjHfOZIL9Tuy/8Lok\n",
       "lfBqcCNVQOxoaitY2MWPB8W9Z6IhKrI07D/amJQlR5FQH7J/L5w2T2gWMDD8vhknH6ROCnX2SNGg\n",
       "1qecjMg7mMuml2xa0AC28ihn0ZR2xFti0UZtu5Jca/sNYwxYLwQuCKwxGAgZWBvWwzk1pEMHWud0\n",
       "tRSlNseIWbpFlggQNxJ89WBaTeUPLKPI52rSXhQDV6Glskro6Z33klrMj5CdNPiPQPz3c9cPu7Jd\n",
       "KVa9klWZ6F8HIZfpu+Xb/OVK4I/q3SEhuFa7evPi/V+u84BbQ1KBElfy8zgh3hlKo75f3x2bPkXP\n",
       "ms8GqYY+Q+leQD1l4g9R2E9BiF59hRh7gpxpR73MrcJjHNo/B7LG7oV40MR5PcZOSEMGFbp81m/Y\n",
       "izA92N3I/ygYyXnfJHy4jBrk0tv+JKnZVfcohipdXoeSnfaSRtMtPuE5X7aqwXFWyK/IODni5cZH\n",
       "oW9CYvSsDV9ovZhY1BB2w5qwwRAxhwHe0cmEHhOl9PCr20PgxeF4s43sPb8Qqbm3TdUD3viXt5EI\n",
       "Hz29Wctww+oMa3VxA1D2KabXqLH5V36X6a1qLhx8444T6DwKFlHnbSXyOo3KMZXtrKvvvDEsGzC2\n",
       "a/4PsiYo+nVUzQpDNPGaklMiFMLEY+NBvabkt7SY2Blj+ScnDfKqhA3jL9W5mrVBC+sJ/lGibY2p\n",
       "1XxVnv7lnu5XfmQY77U6Qf41DWzHXhkq0vYvjfYmdSwEQbtvMBO1sZJ5PAPxZNlQGnqGZkNembv7\n",
       "nbtVLaMB2ZD0gicddEEtg9ewrOwRIEX9QA82Pq9syhEyYo3bZCDNAXyh25OYChoexfPQLqV0NK+p\n",
       "mpboeNBNQQeVQxkv/OQN1kzE8kdkkOEGQzXO7NGTUnAUKMEjrtIUg9kmT+ROkC5UdsQg2qZqYZ0d\n",
       "QrOVXrRZYvMFlrJCcITevf0gzVQm+PzAyhnMjt4Pb8TfoZFfZen+n42avHn4oN127a7i+NcHtz7t\n",
       "aOs8YF7IeuU/MOLDwCkQQHQeh5DxJ4wukRLntP1z2deNluxyxMvvcDM3HMNXw6lMVQrnPD8INIeU\n",
       "x+9pNgyKzzdn2PHI2Q0eHPwuafBGoad0ihZj73Ty6LMKHl8ZL44sBuizpyIvE90b33vhM9ZwiAy1\n",
       "gdoeIylTskDx3ja+o4AvrO/WtNlZATWKhNauK+sDRvtsRm1ygNHs2zZ2yErnEnXt5Qo4IyN2z2uh\n",
       "IC1YZeS2dvb5Sjtzi1GqragaB+uQJziH+BKIv1oOluOF7U3oNPZPGYXN6RhHPM7TFJTAldrhQqxg\n",
       "79phzBZZfAIEeT1oWeLZx7MM+ENT8J8RXU+RE2B7Oksj1UwW8tbUvpAloqsny0ND4plhYr/TKTuy\n",
       "yPD4h8u7GnK6Wy8haG8kK7ipefTuFxJ5DMmWzwK/2VqPOErx8lNc1O2+kujKeAXyPYzltLUvX0mc\n",
       "IoGOxoV9nMT2UTGtCnwoXMyD/GnEqdjtK+v6ZughhRnNKtVATuwIcw6fp1hKhb6IZbfaMYx+D5qw\n",
       "yoPytEVutYYAKNq4S+bkVIL9fIBge2ljglDLYsAmb2002HMRf2NenTCIEMuDeXb2BArW1+rz+PC7\n",
       "RW9gSdBsdlkOFmg0l6ZFkuqnxc9b1rwGU/qkPRcT1sShrZD7VN7c+ECo7J7H5wj5em8ohT5Hag2y\n",
       "WUAd45kFGHisrotsrHV8hNEx8KJKt/aMAANqyr+VC7mF0rVvtGdvlyudn0z4Z+ggHwSn2BKkPjey\n",
       "sDWxcoocrTj77rfguvUoVY9pf9URBgR4WDmQs4OUYplz64ZPXHxi/BDSJyGr76iC0UN///BUiwHh\n",
       "3D7/IWCxFJpWxE1cYU4P0pQPOhGZyTW18gb5EoyVb7cvICsV7wKEgF8OeUVTJg48fwZd1Yu5sHea\n",
       "NQSQ4LugPoOGFdo7H+HIicLPrqVIdwTt4F3ReZJ0T6KXr92/bfTARMnWam9PcyfPAOss4QevmxNa\n",
       "rPoJAZTNyr/ZSvV+cbIi7dGVYOmj3L9olTC2tITv+Gps5G3BkARygOM12SBd7HuCMGAVhyJyVNWX\n",
       "Qlec60i/drOFv5xPBVtK1gDbff8DD3oh3abx46vFKkwotDN3oN/vWHpC3UL9e5xCigdskgP3KxIu\n",
       "4A9QEO76o7ege0Px3aoTJ/gcL9TtPnEUEKKkXuEJtEoOfEMQAdQmSjoK7aWrynxuArY7Q/KuWRG5\n",
       "K8KWkZ8c6E7F0fnBqGfVXx/GERYCkOfy+QAmXqL0zuf6+nQodHM+M2puHzEqvdJsogw45nPSEf1T\n",
       "WLf5N2iY9XrYez/9rPErtu23OSbdAdGd9cjI5c54x1pQIClBfkT0GTAC5ZDXg+X6XD72mxIAOz3J\n",
       "ss1E3+T+1z4cDFDsPNkAfbx5WohgAAAPekGaQjwhkymEEv/+tSqAAAB0oNBwAfyDhiSuFkSfQhrr\n",
       "ZU6JNJO8MfC4FzTvoXoaJO2HA2qYDEccaXv117C8tE+EE0bAATlXNK4rEIDVT5oZWy7irDhNPRHm\n",
       "8HlBsdOACMnhI8e5YRtRWxqVHzB/6dqYydjuBpwnSf3gYYjiyYZauD4s3GsbiHnoi+x+VoHa8sH0\n",
       "g8I1rJX1xLMiWd6od/+gu0Olrs6w/QsBObzLPTMBZAz86Xk9nQhhmVHHADe0uLIBvRFsXjdLFYEX\n",
       "BW51LhxTEx2C7OnzcLkkPS5j5TV/j+/cI7AjkC5LNZjCvBEouIoMGQd0RlZS9yD8FCkNo/xvkHKT\n",
       "nih68ishKYmahUr/dPkIXy1rjWcf7ch5DDcSSbBZ8HVKKRldZT3hAJvClGedb5C3dGZwPkzLo+VL\n",
       "8wDbJvJFw4148X+6srcLRcwovBhwFFiRZdN4rTSb7zvTbp2mvdQUTDYH87brDFNWKDnsufhbhsmr\n",
       "9VZHaE+aOQUVrdKnHuYQmm+liHF373U4x/9QKTYErYQKpMdBXow8Z2tQSvBn4WrNV7VebsgtbpHg\n",
       "BS8d8WTbhjwKRP457VvomImO3p6Kc9ESElrkFFPVfIyJ16rUmnrPQ/0mNr13KZ/OLP97uH1iruIx\n",
       "LQaxDHFQR9CrduhZzomc43pYxZuij8lYuAbktMY5xdYEqN09yqD9dPQLYf6QkIaFcVXxXSX+VgSc\n",
       "yxKJO41/dqlYj5Ms1rGlGNk2qVepfdauWnYwKzIQRi0p3C7CNHv34Xu7DhPd4fu59a0AMAkmff7W\n",
       "DSZzvhMX3ogUVoIVRn8TK8C/WbyMgmv0+0YjR4xwnmlGhOYur4JVHR9F8d1sY3zGQn6wEz1mkipw\n",
       "wcDkdBRfoEm+C2hCzcQEspvm5aEV+P9iES8pUawLiI4N5Wb/tKWANUgqU7bMkgE4vhdLbUPjIRN8\n",
       "viivZMjuezS1LTs/w1cjzWMpn9a0nfB7BjwpSNhIkOQf0ckLqr5Xt5mjhPrIIF96i1TQfHpmp4Ri\n",
       "9kRoUF5yL0rL97+YuGXfE0VdsiNbt3crlOOnxqW9CglA2QEfgE8dJ1L+FtDv6TBf+N1rXKf4a2lv\n",
       "fxjgbXkPc37ySU3xgSqlSxhY94njzSEvIA8bZTDofmyuU5GXLXVt8MrsM9GIgH7CV7YZJ8HivMQt\n",
       "DubUa2aMt7236bm2sChVJiWkPU9JeH6OldTyA0gF72n0afRfNbrjM/fLQ1Kmb7gr/ThRmVdrlWF0\n",
       "jNhaPiXNfwX0NhKHB9XI+BnAe6x5zwEmhUY/EwpLoMIcEv4jDbd8OSDMwfTQRZ+CbLNC5AVGBaiL\n",
       "ue8aKb6lfIgEBZrgH65uznfqUsahf8cP46hL54pEb1pJKKkodPcdbS1AKNgiXpXRWYg8i7DKDA0h\n",
       "teJkH8QxizAesgZTRsLvFcZ2EzgeE8FU+SN0pGcuR5f4IUfXV/Vd9khYFC/r08tFL9xUMOZ5x3zT\n",
       "y9JQMeMQ8C4fmmQDPiiBpCUH7WGmY+CuYUjg0ezlxXuur7ggrR53MuckypOAFgvX3OMOS/s73nkF\n",
       "QPzadxwGkOl2e14bh18Pr+BIkmyDUGKZavGqy3YGeADtMegOuw7wHfI88anWVy/RG0FB752+IJWr\n",
       "7JXlyGc1w4TXHN1pI1JsH8LcAayMWTKOjZJI+HZcaj+HebG3mPNhF7f8FPoznwEISDIttW0njTPP\n",
       "7E2MjiXHdEJaVYCzTYoe7KW0lkMHmN738avmQkHHx57KTFXtf0qV7ar99k4i+WzZEBrTfM3VcBIn\n",
       "tf9VN+wINcuOLkarPFGZoc/54EbUvdgzihYuQiDzDPzq/WwGjJzxh/cPsZBYmbQNZPkxjt7QzZc9\n",
       "6YX30PHe7PMCtmD6zc1q50c1ExsED6hIwwzwx5IhQlrwxH1gzb7/v197qJFgrY5jqMahXJnPcha6\n",
       "DmyVpmJi5CoHdVMei6VzIbmgYQjNsOQxiJtFVWq9E9oLHCJ5dhqDZMASPep10S7VFiE9wfKGjR/a\n",
       "AAAd5rRVZ9mIT6xQejr6/t1IhOzDBfaS/QrRBD1Z3A+JfOaTxb7ZFHbYo34uAXqoGP9ZokuKreD6\n",
       "8ImPYn8o8nVQc5tTJpzx6SSCon6sjT5RMMCWrffQFqGMXKtZcPUS0ziaVbGdhDuPqTXd7nw6alC8\n",
       "G3h0Qc6cqeQWZZYLjt8h0e3549xlhPgz029/4osfVfUDyNNkz5TEjZ4vH2GoS70HjzgYD6aBIbN/\n",
       "XI9XBf35xd1eh1WfRN2gIBRn1Gltqt5n7+uRerCMrSVxJs7LWrlCjXrwIdpdjxovJbGoxuXLn3qO\n",
       "duBWCEcUYBZDNtdV92Yg8z4JIbPvOvDsh0GpaGbIDlWmYx0gQxtYraW6VQPs+mBY2I7gFKzo6yJZ\n",
       "Kf4PQ9CYCgiJ+qWXP5p4ayit3fWlfN3lKk4eWrjmXaWO8pP/t+E5p2x0E7liAlhHuH/XuSt4CTb6\n",
       "Z8cl4snlB6pj94HD4zrAbsb354EoHoMzWAUclrg6RNWqqqngYwzm2+guls/vM+8/gNbR0fhrJVIF\n",
       "tT857jmxknXmKDgxIPFU/lpH6vRRcV69kEtl8C4FcTKArvcoe0Qaj3vtr9ED8bwwT4euFydQjEfG\n",
       "5qarwdR/xft/LeiFYyH3a81P/xF/G/5N/x4FBezqieYWmlbfXy9gX76FnwoL52B/mrUA11RgFudg\n",
       "hfUr6zW9MMWE0Pf/z9pzzDYaaCWIipZOsD8Av7ukvzL/itURXo50wtDcdhWxk5+3141FSXS22WcJ\n",
       "mWW+QC6v4UMGShvSMug1QaL1eZvnoVUOJ7skeMOcWT1du74JHeWz8/W17FsSnJOlP6aK3J3fuZ1Y\n",
       "ApmxkSgonBklY2ztZY7qanY4nHR6uAs3itSg097+VeGngn/KYCFUmb507tn1tOVTlQzGQd3ScKFK\n",
       "0XKnGsYw2cFPkwTK4cz91m3Gy0r2RfN8Oa/ZdkMpUIIJg/Qkri2Z5Xj7/Ni47fEY+YmGUnouLXG1\n",
       "HxRuqLhOCCxP4yK6xNc0JVPTctVYfH/qBibDTBvey3nBdAT/jxVgXtFuUY+8derJxHhflXI1Ltsd\n",
       "Dac8ywh+FPZ8z3KNhIGNF0FjvzjTGnhadWLjeHQvSE3D76SBvwckNfS74KQ8Rm0uKgSQcTahb8EB\n",
       "7+vG8lwwsFq5uP9Jl033qUnA/lZViSvAvvhVkRWfzGhG/1alJO7l9y1SdUOMsEIGtqHnCbRnQSt3\n",
       "iRY8zyw55OppMqFgvJMCEZ3rHeFLrY9j5sFeBDGTsJZTWp+p1ul5ZdtHzpgbEVhooZN9AcriUHV0\n",
       "h61UBNqZJGK6kl8QZlQ8HtjcGV6UXXwsoaVcnItuuiibWq3za9fgPY8smPSqafqx4SDtEBTXCXOK\n",
       "Ng+qjf8vypUcXuhCTVsKQVTWSrdKiS6l9KJpD8+KVkFzPpbDUS0xh2kIRVYGLrNwSdmcvAK/hp3P\n",
       "KmG1JI+KVl3iQ4teARK+4CswH1NqxLOixqC+hqVRd6NjjAeEpSzXtIjCcQEZO0ExtOvVsmqKJGKn\n",
       "2SiAZlNZB+GB4qCjyWd3XwqKf/8ZslgEh2x8iOt/k0rFKg4YaaqkSGca/sGfrXYvxNitcKlGOBrS\n",
       "sckLBS6Gef3fyfh9CvXg4kroGQiGTpl2YozDOga2NdD32LOOo+4cCvxbNI6wPmZCW1+gQldvZGcj\n",
       "ZIDBdnwAQDmHCh9J/E5AIs8aNA8x39mVqoipRc8Wf////gOK5s1FEgia8tYSaLNXgqwCX+Z7aSPV\n",
       "0j8A28m4mGIk7si7Z57nTMDhGRsq/ndHvOfQHamzMn5CGibZHsvRxTG+JCpjlI/nUOkMwGtBQArt\n",
       "DWqik9H3Mu9VWe/S/nQOLyFrVEd3TARt7aRW0SlaMGGpCC+XAF3ILiI7lZUsWdrj7GpD6AMVncXe\n",
       "GAKq9EGLu+ubCotzDaopSmFtYTdeamRpfe2IXoIelvpc3DHnchXx+CSRY+/B4AdFGCPuv/wf8wBp\n",
       "jP4TcLfCVYz7UWonkYZJ/17uO5dyb/H4689OQmHpasTuDuaxjnKb7tTagt4WGm01hvJsVIBOQrEz\n",
       "Qmi0IZDutReuYLFybLChkcar4gy8QW/oqlt++aPNX/HwfemAdbnls3rZMvc7LLDH0MPpvkaA93oy\n",
       "FX9DCWCX1oOip8aogElD/7tuK70QMJU8Svy8AjvWubBo6LG9I4JSuPtnckgvHssaGVS1bh1RKpXO\n",
       "aPEDD7MhYmkSzAQO5hhNryKLwrQHc236NTR00I64BzzPCqseNrbh3hEZVhFhe7UfARwBb5a7GJcM\n",
       "qrYHY8pYmvC2MzaZ0P0+SoP4ZtNnBJzHh/BUALmRf3OtLJXAxGq8ZUrcJJKoKJBzpEjGbw97GtDM\n",
       "O6xcV7O4JAtsF70/ImLrHaHgUzqSPZCc8XLd+2vzTPILQfMAYLOUgjbrNOg0lA3lkFqdQwe3QBiu\n",
       "fyOOcZu+hVWtuFoKjoWdJgX1mWQK4588xzYtAWscdSy7dE4hKVCaLDB3ayFArR92kFUstZ9sYpzc\n",
       "Vehw0peOCsvp8SUHskRiVInNWQaOR2IP01/NTOus95eEno4Z/SbjAVuMRcU7RU4WzHTrJeQutuTa\n",
       "8h7DFtUYT1HLxwtthcwjI6ZZl8BNpl5qoAfBc4CanIhswJPK4PBYAFhyAPDTXJwYWYBwDbKlWS/l\n",
       "MMeurNufKOhMgfIrQZejNcnj+jVZYIgOAVTCI2HNd6gstibe8WwBDl9B3j3DmBi+2v3tq6tTi9V+\n",
       "WhyCDf0rDqTNmdEM65EeEG7oj+cACP1W+z9GQMrZs4pF/DGwh3ibwyRWTUBwdYEwZNz7RmFwdOTk\n",
       "kOCpS2+1uvokFGHwISpAfH/R6hg81xbqwgB6bwtcyR5VI2BJbNlIAgIyoXU5RHe4uHqwGueXjhI4\n",
       "1ha5SNcPfNQ5VYHjx0SwXKe75C+qP5HUNvDbIXtC/LhuReie5GV95ObHjsWCGbsnbIn/9QH5Pk0j\n",
       "IZwFbwO3BtTaEK39ajC0rnj7Ww1rdqz08rqUfdHBx1mX27VFVp2V0KYTdZtMA4ZL6wTzivKnQRDb\n",
       "fU/ehwQSSzYXS7yLWMr4VLcfrpOUv1nAVVzEDC9pUeiq5aKOD5JRTIu5DOlNEr74qDQq+u/l8/rf\n",
       "XJs3g8UeP00k/dlQB8yFDlFIdpREyashoN7LrazZjXrDjfzi0WFBqj9Zg9VHJji5MqPdQ1bIFcdo\n",
       "+OiLJEF7mCrfjAjQ6HO50WaVsZTLL7ESa7BYSQtUNVaGz2lMwJeYEAv5qlMSSH7SSO0REUthAAAO\n",
       "I0GaY0nhDyZTAgl//rUqgAAAdKDQcAG0uOSHkqC5G04tdJyHwJ9Vlat/VmKeZdcV+YwKSmMTemip\n",
       "o5aQmNrZ5FdgcIM91mFDCrgaRTqgaLlYmM2ynma8JwXCOsnCFw2hPJtpZv4rYarizsqP0XYPlTXV\n",
       "DKo0YXXGOLLxqc3YYcrhPjlLxb2+BneeKkj2D65j0bE8q53lmzMLP0hOZfsMY9xHn/0hcIo93QCp\n",
       "NUg0/lrfyF/fX78xA1bCDLnKK0VdDbjbm06hrB6flaFB9p4rQuWTW0Wb2pLLjd0Jw08avbd6vq0a\n",
       "B0CocrwNX2dbT5qX+xDmh3zVg6sN4N4jCwBsfk/zwxFjX0KYVPpVGXin6r0s1sN1RE6suJsKOTxs\n",
       "a1/83SzM/KAS9Fjs6AGgFPjCjaMZjRaR+5O8/b259xHJAilC6WsIK/s6Kwk9fo33TS2V/mp7o/OF\n",
       "aAR/UqJWX28eel2GVwwBJrs1w2LBv4wo/RpupSREYEh/gMCZMgWxDimonbaLpr7WFUbHFZA1D4aL\n",
       "vojXbGWzYPQMhPE3ZYaL5m3B+aBl2Wwc9dc1UY1u/9YQvqH47s7VAIWjejUkRCA1iYdXXLxO9/mA\n",
       "YFt7DGkEveQpdO9z4MSkASMJBSpGj2xRhD+X71cRR8d8re4MFZlKYUuTruvaZC+QIdcULHIUp66J\n",
       "wM+XNRsS44kFBNRvWg/NJ0iydQIAJ4dvKvknFWfDTBxQIktYlX8BEry8pl4KPNkeRzCn8tRJEVL2\n",
       "RTCAIaEFdMse1Jz8sxPDj639U0k/JXkYZzfHryFXMkzTzNHaVz17biPuHH5qE9Z42K6Wl6pr0sxg\n",
       "zjtpxYjj1VaqDmskRM+8wQx9naGvVIxcbHE9bHivZRrg4aULs/vAM3JLxVrn6xKNE5OvRHnLvcX5\n",
       "HNARmk65AwCMdUMp/2loXZgWNhp2XTvbVculuv/GyPQxEyPIiC6DrqGUny6eNGcnUCXA95MATJHf\n",
       "sHXUrdvQm7J2Txw2oHZcMkLQ3JMjZ3Gk3e8Q9eYkzsN0KewOSo80OfvWgNrL9zBqjnkVtFFKh35k\n",
       "1djGl8OK+vhN4BMungGE0nBVw3NS0D7rRTBTC8T2NzCwn8zuBRX8+H6gz6tTNsU7SDWaP3q6kkLv\n",
       "FWca0N2u3NZB8GTd/bgSLlThX+bU0eNnwiiTx6K+WBoV8uBWdBSMEkap1dWAdw7PtmQt/ZWelk7r\n",
       "Uc4aVaJt4Rrca1ESX7lDmIqJjKSSSQtHapJdP1qZqeOxezfTt3r1X0t1aMKZW0TzFGqGcXhcm5Uy\n",
       "FLzweX/9cz+vhE6bDpkaIZloWXHJNQ/vhCE8ECVQM3WsGd/18bdqC3m/bV71e/mOuZmchmSrWi69\n",
       "tVW7lJU4+BaDvnqZGDXp4EC7L6ftvNMYwRTiqAnLogP7/qtVZijnViCLWuhSgr1XqWO8yVaQZ8ft\n",
       "bVJrAUZUDWHrZSnffQdjIcOJ7b9fjK1D7y4QLkXd+oUdo2N25vTMMrv5KQbEdnXeRPFuuJZ9RFC+\n",
       "knFBdRADQBkbRWDwQ5z4v5h5YW9vXhhWsVp7gsdJROnK/jIsHG28RVvaxaYn+/YQwZfFWkiHMTaL\n",
       "Li9Q5K4RcKk1NU+ikMuIA9Ls03EZiiHmpXVwVRidcElTqDcF2bdIYT5wBOiKxo/PSgZLGYqiLrOT\n",
       "BGS132XFD7GwBdmL6CzKbPtJ83oBXSMfNX+3aNQHixH+6J7tQXNKKTUXNY8UkXZjmU4HAbOAyPCC\n",
       "DGq+zTV2ApiHoCBoKMRI9SiWQcmxCAuFbv4H73ursl9OCiQ+fPO5n+WVtKavRN5YnN46I9WWKBln\n",
       "lfu9aXgcTudXmK1yrSCprpNEpYqiSN4CKD8hxpRS8ck4bFYorsqD36ofKJybSv2OpqE67HoTlMoo\n",
       "nZnRp1KC15oi8otv/ZPzPOYFuGVKvXxCFtwg3Xo0pOshtgyKxIwrLcYvHW23XgHwh4qN+QyLuiJY\n",
       "SDO9SjL3IH5oCR++fiRN1aqZOXPkgS85FW2ShWFeI7xpCecA46PH4h0j6+ApYRzPkX5DmS1MzIsi\n",
       "rXVbN1VI7J2qKLGC/Da8Ig9fT5GA5nFMLWUK6C6e+C/ri8xvKAT1crgRvgOeqhmkTT4BOudlnTVM\n",
       "N0mI61lU8jpMGCmPeApMJF1NOOa819HiG49h9OZbGb9Cwxdw0rCi0aIQZeomuTKzJQSjyXcTYptO\n",
       "cv1N8INyVk3H+LoxN++H1yg/k2kY3LayWi3MO/NBR2TNv78K+eUnGA4R/vnTUA4uimGh90lZ9wkt\n",
       "SwHOxtrGW9aJijm94o9yQODNBgfNXmxeJ5UCH1gu2YgAhICIZSMSXXbh/FED/af7vgWcva3zJZ3s\n",
       "KkwFjQFcemCJdEnDcE/0HndRvzTeOe00ALiU4BSQJdbVFIYWpRCQHctcrUPXcTG5gcvrJKn6Ml2v\n",
       "6/gXF7CBV79uugvfdQtFvzVVyqSd3g5Edps3AYYVwrWMOvV53Vym1w/8CrkIMNyTg/I7JShWlZwj\n",
       "MnI13nXkiPKFllDynME6ahbs2AAqucxDd9XtgJI1dVGsdcknoyz2GP08DiHaFKo+VYJBgzkfyAyk\n",
       "ZiOGq6dMn/0uhP244f1zXU45LSVYRra1s9YUZWYNZBil+UbX7huM7ZDEPKWOy/mJsZcTBUF9vMM9\n",
       "jkYclhaou5pbc1Qdmxazd/wmFpKclzh1xvl3FLfBmZnG7CIbNDhe47anxmRfzZClLCFrsdjODKhr\n",
       "8lvdmFZI56rI9pqSJZehrrYyC7xDncvdyXJgdTO8ASJigQd3CR5KrBTUY2Bi96zT7ui1X+U6Oxhd\n",
       "4pBKDBPlwGBVaRCFIR+83TgwhirplYvud7ITsojz/trOk94GTTDZ0UiDEqshTyXZzeAQYBwZAUNm\n",
       "L8+iZjeu0ivxqJGWBaIochnOWX5v5xlzfb18WQ433WKB2b7B9ehrfM1B8szVfttQmQml5azI8jYm\n",
       "tErZ/NbWLGNnTrgppUKpAOxREO05Og9ektkc9HwqQnMG5PwLumhhGwCN6CbQE/r4eQLpq3qIX+Dl\n",
       "ty1UQTndaoJJKlLrYI4Hr9RXDyqWm63QWJ67nrDbyZKeWMG5b+v0k6y8yRm2/oDTG3WcuSS7DhHY\n",
       "ACLv1vburU8dH2q5sGiDgYyQNi2Na7gTtXKIpMRzo6H/YgcOUSiya20gWiucTXkrxs9R+sOxtsp2\n",
       "KpWB8QvxBfOERsXlndCqKQYLAWmuczFGUpW/pJvt1IfHKOwhTLXfw+vI0e1JxG9Hmv4TnOap380S\n",
       "b5vqmBSwjM6IGd19HaViKG0YIfgdcro79Sz0U09l+OJlSW31Ed5sppPVW7bE3/S6a9i3RoNE187o\n",
       "kpzKlcLv6a2hIEI/cDxDHccQPmDH9CW0hhtW8veCBTy+/Q32zs9bHAWj+8lDVZl1EGIY+D2Sr9on\n",
       "D/TXZZmCdxG5xA8CKactwx9HEjBbvdS6EmkTlCk9pXUkndmI3okqr6y9++35Dih9L66DMD7/9r//\n",
       "BDxFl1KbKvOk+bnc6iGZV+YYV3OCQuGeGOgSPF+YT4tMbndzE1hJ+7PpOo5d5brpchWoU6/SOmsi\n",
       "l+Hzr9PMK1KHVFNUlrKxBmWQbGRAsqy7muvoi1UjkdnuSK+eKyAm8QGMQVf+UtyRb+J1SZWV7DwC\n",
       "SNdq8GFM4P7c65urhocmnPhDlH+YSNE4KrelwMOB4aXLRF7Aja83gF+LXuX0fQF50QJUf33bbrK5\n",
       "4Ydbow8z1zAOg9tc+Gh78mRCS/9c+mmsU9NAL6WvTN2BMKQMU02rCFXChVZ6p79pRtamn5Jt3s8E\n",
       "NHRma8qI0++JDupMrHsyhetHmRqvOqF4Yad2fE8FBhynQpJkk7gt8pitLt5e/+PBsa0TgMkmP+p2\n",
       "CTKqO8auKvoz1tLKP5DqQ9vs0ZQnns+nKnZl4pI4h+wgjj3l+qrIxDLL0bdq/ZsdJwe4bPhRU1sv\n",
       "EI7qWPJlxB05fAr96HqVBfNjtXnQmvQ8WjVqG7sPfLqQ8KWbxHoD5NZ0cqBVCkMBFI68ihR+0hjD\n",
       "smKwYgiyqw3X2dpDCgB7MkkJbgJAiN2CUPNhCBrV5GEBUcVZX3DYR9ozFCno9VgCnrDc65gU5iuq\n",
       "jZfB7vTKBQYOqygwDOkWc0sp3owDkNpLqVe/iIK1WZzfl5wk43X4IY2xT5PRKkAH2BxtyDLjmgqY\n",
       "GCfClMmw64Hn03sn6ZXh1Be5X+dQLaMtIrPW1rtpKyQEi04BzFEe40Rp0ZBMXm7oIWyby8RvrMdw\n",
       "KJovujOMZcyNGaCnmUIrEplODRnv6FjhTH7VGq21cxHtgJeYUWv7TIHN4p9wcTV2S7vQf2528NyN\n",
       "M2PYPuDfO7s1kHjcNii5C1Cgyld7pQyhbki5aFSbjeKQ1t+n0qJXqI0XlNzvOy3opbvs/60u9Rax\n",
       "Kf4+C2x/2ABy4EZMeoHEu4WnMrDGMWmf87xOQQGBi2B/q9FVxCuguxrKgb3yyAhG2e+AROipXyNf\n",
       "l3SV+1/9i8iF7ijEn6ooVeI/48bTsh07OiFTNPnDgf4tzuEu9PWGymi5SYtLNN+sOMsXI2QqFN8U\n",
       "W1HdiFLqH+RqYweag9bWNqt8rLlGfQbYeJgZ4dFuDL8pd2Xz6mdAINxmO8nGw6czExV+y9RNKa1V\n",
       "SoQIcXO6GrsKC2hbHDxWPOP2za/1sSGoiHg9Xe8hJ1hX+MVE1azE8531XbDuy9RQveQQ6KeN6l6e\n",
       "/OCG/3U6LoA91SDhI0V8v2097jQGDvnMSB/iAp/OFd4gAIlv74RwN4KAfdh4pzT9omU02eIGPt/B\n",
       "xecuAKu/oo9zm1CeyX+Gb+om8PqWzLoJtj73dr0AABFnQZqFSeEPJlMFETwS//61KoAAAHSK8/Ib\n",
       "z2AC+jA0FjVfLizGFN2mXwHLDg5zZXlALadbHi0T/2Wza1pCVn5F+pwiBJHJwJ3+ii4nqUlT/qgX\n",
       "ftR/qFYS+IfeO2GFRnc16bBFsi5YXduDMCAPNzaG+0dMyOpmcuBU9+Ii8T04LChxnr7bA0/F74bB\n",
       "eFPxoywalDffY0ZVgzHxBptbbxOWXQ+ArkgxDVQ2A3r1moLNG2u1muX3BVxySa8iKz/62A3BjvtM\n",
       "q8CuhhYThd3Y7dlIRqPPyEldv0RODsHUFWl3j3fuBYcVVFVyk/s6vrh4XV2kW/HP97P2scHur1nN\n",
       "j8O24v2NloXACW0fqjnTQodau/pU+ozfooY0B4Mnt+kBTH1o7Ba9sldFMgmzpUZFMzFneD3+Rpvt\n",
       "970d44lmZyoSCQKSSqojL5F2dnCwu7YoxR1YYKhIqmJy3kVOtYHEI6a00cc8jlVQK3MyoNCkboXI\n",
       "rTox3G/R/8+i/k+NYQbKfDzwEex/4VtBBRPs8Rg9OnNvwLuRWH4Q6LmX7w+/QkIieRYR+JQXnvPY\n",
       "ZI1zgds6Sp8bRQEzVQcApP/crk4ylUN99zNRcRGRjNkGD6M7jh5N48nJh8p+gdhjKNQ2mXn0D1LD\n",
       "7GD7wiQoNNsPmAfnJH8kLYD120WkWm42u3AiN4RVqyfUIKx3zNqURzmjzaxFlaZvoBowf1YttsaP\n",
       "NYgykwkvUI4IEIHNI/V5wZstofTXP2iiYgfzNpXKeWWBNJ6yd2y1MCwGxQilnT5MOHDuYiCLGn82\n",
       "UE3EFiFIRbd7s9TbwX1M6f6rhsUsepf1cygv7NcVjYlY6fVXxLD/BlIUanRGLnT5APhqzfPA8Feq\n",
       "Ct6/BmTTGGmwjWsn/dAD4Qb/HIcXRYlxkW9XnrnzWaiABrPdzqsW3ypzWqi4MTNc6MFgJMJvMG6F\n",
       "w92kkdJGE8oty5YhEh0l1ZkcaKELrCBjCasXZIdcBLe6CuZdeq8MT9CN0XA4CjhEfZ5TxofYNWKP\n",
       "sgeNHNRtrO2192CIK3JMW0reGLaGJqvVdXL4eU2tQIJTik2aBQd/mzhzoMd3Mf2u7x/uo2f2SPuA\n",
       "2KOoJ6eGnYeYKe6XhiOarz8JWejREh5Nje1HYetnUylWSxQXXaIld6vxmr/ySvMDQ6DfHY9+aL9F\n",
       "Z+1A2UUSTZyZDqaducM7RDQGiYh145+3NND1WStuENB02F1l71ujie25ruqdFJCXIDpPFiLOliSn\n",
       "QNqb7C802/g/ZVGIOhX42IPKoh6S3b1w6Uwuz84H076TxtYoULX6ec2jSVjjHHzpwhqb9QJ5BR44\n",
       "auOvVFmHLbD2hZPOT4+MaLMKZK+uI3m7U1Oz/YhSoJ4hPR73mrqkh2H1+8Vq94jl7Md3Sc1Zk0FD\n",
       "soKcrORXNJPXLaQygp9dfDSPbtOnD8Y6i9fYAiahFf74iD5MJia2GcSchk2UupnTu2AZ8xd5QMgi\n",
       "X2aZKwhLlNFRK450Tr+DBc8wRKjhar52waBjPCXzNGH8kB8jSfNQmcmfj6z2r43hteroN/H/+o+V\n",
       "XohsWSpKyopFTQA0XZXghXkE+U2yJTXg3o+REur3uzYl7ntQFdarC8sj4eyyB+/Qe9M+GL3p+Kuv\n",
       "BQwspjiKfODfEE6iuTJhydgTbWm+IshuJvwInSWxdNKYJgCnOfo0bqdgFWkhn7sFZ2KDa3Uf+0sO\n",
       "cllqGTQsq6k2MSfbnOjliLK9YMydMUsnjWpY1CrQHf5El95CaaggVP7Ht1xPzdjvMIGNxqN4sypZ\n",
       "W5kuGHK3wG3m+yTjwWAi1kK9Mp4ga7aS511EpaRWfToNaVa6qdqe9NcArnpfBhp/0F4TYGpeytSX\n",
       "Mk7pXHsSAAPSS1oCqimTl0G14USgqJvWm2FrD6rVodVU9nvjKLvMPR5pBYITeqRKoLtw/t6Aqvy2\n",
       "3WQ+/4mOrfDYMCTj7wnNY6BzcKBDXG/pfqxCY769e235bwryDZF++Mi/NqMylp92ZsuM6J19y1Z9\n",
       "XI3zunyA18HeTdmrgunC5wC3q19Fx+zvW8jfFtIEz+deSlp6secBdsYnHhPDOe++ifo0aHU8Dg3f\n",
       "1G8vxqRvtAMadEVXprtpqFsnbmgQ4M7SVuyjs/jC4f6YYzIWhiWIQ4XnsOZaYUkrqKQBr4ns6CAn\n",
       "mg5jSVDB9sjkFab+u5YbTdEuaHWhDNsgWs1dU61HYNkDuea+bIQQsK0bJKR/1uPTpqrXG9rabDEi\n",
       "zeArfCiJPKbuFkVKpflp4+frVRrNLm5VdJBCon1nbw+slKuV4nXExsmVAoDutNzkHMntzRJhDIx3\n",
       "CdIQA48qsAcuVtnyW/dyyjGE7+zrZUg/J7QVrUigRcICYYV8PLcylyCNqY+SCnmCmTSKZTvDxY5b\n",
       "D3cf75iHO/rfXE9paPZEgLtW+buHeRo0nUaapTx1mcTQZQmTdVkyhlgrovuK7v/tJNUM3NzqPyMN\n",
       "QGWosgucjuTkoruhCQ8X08Xm+M2G1xppynxjoBvxx+sy1KUryPvR5ClTMCZixcdgKOMJf79skYq8\n",
       "jkqKeGhzbT5guOIEfl1LRUKeFyng1achJy1a7lUCk6tkDHe4H7N7FJ4mW2YWfanMm3vSBZBaddJR\n",
       "BifjUazLhnC7KcwVk3eSnWoUIlblbS89b3JTDTiksec7HcZUy2QVImW1aeCDEEX1Opq6nw2aCOnT\n",
       "rtOEWwxJa7Sdp0UcvYyQUnYWlCpZPdmLGtscXXwL1U3ZHlgJJKx6ZvrgtOeVv0uLiFHTr8/ihQfp\n",
       "sFFp13GvNHDrT5vQNAAHVFVmBMZWbSyJQzDzrb1OamE5U9aGEcGJAh3gSLw0XtFov6I7jRsDZ4hJ\n",
       "zvjIlVer4XkuR7PQe31Ryr6yd1yRR6hxqg8uU0aFnnIJZ4GT5uGnscAsvqOcmJHz24sMn/SCGbDn\n",
       "Em4PsOS27+J6zsV/Aeqs6NEa6IczSfdi+PJmXpeKtRlQYhI5MNv2q4bhunpG+emp7exbB24T5sLd\n",
       "nU0UXUznvXcnkc91qJolpQlN6tgsXInMglDGqa3HrARpHkYofpNKy80VMENtUSUm8O1Cuv+WKOse\n",
       "UEA3OtVT5YQtH1gtytZnedQvwyGSp5VTNtWGyTSnB1HU/yEh2Hqzf5uK1NFDJGU/nfAAaOwvw6Mp\n",
       "VWSLLGUICCSQ7qvmb0QO47w7gYslQdyuopJHdRfZuMgpbXWsA+pjUnQ3iqYF/wBFQAG30BTEqe1k\n",
       "kr6eNa7/ap++GHwl6xfyyC3nm5alaecykmRqkC9LOo0ywkC6DOuz1+CPQuJsyS+wWIhvnuifrd3/\n",
       "dLXCCuOd0U4S4Dq1jZW6PuxdIV8MGVYM1V8X+OsJdIEnfYbeaAeZYFdKwQ00DlM9UT9Z8uYgmpKN\n",
       "oW9lpQR8+ZHBp67fZoJ7HtQh+5sxQ0H6qyHNt7QDYjrnfJHgrTMP31qKnN+Ey5lg5oW2M156Py3Y\n",
       "pWR/u7LQj4aciUK1lza8pbCuyxAzdZCzvn6fnJ98y6RSVOuetamu3QmUTIQL+5FgWM5HW+T8wzTV\n",
       "+BmFKClusDEoOnt4VW9S9HYS7LwGNysJDwMxzt3GSvOlClPn1hGNzbUjW8I1y+JCmCU2sodWCXwu\n",
       "czHelsHVMzWQWounZdiNaDaLGSqU5pHP2E/vDnT/VmrYMNaXZigTfHbxB6oEm9fuK6elzbuolLy1\n",
       "bFwEt1NU/1c9VJbW1MfL3sfzXq0OqnwjFhT282ww3J5jUBoUPxh73CJPCoJ0wY9kmZKMMR+D8kDQ\n",
       "KasA0HDWPXF1IRE7MU7BpSe5ZNImKsgiMiKiA9iIbw3PuTj7ihMFnEUEGp3r0thxEXjeGSkCiQ7L\n",
       "s2OPP9GYoLex5KNytjEVdqsGkqmON6Y963zZdw8HsuU7LVEnQU+bviCRkfb8OshiSgFSxE+Kz8dZ\n",
       "0LXzqhBscPfkKTt+dkKHUrU33/5NGzGBCy4zLWnm4+Yf2VGRtJkKEDy/QZf8EIqL1hoIFz2kcq4K\n",
       "gQAuPkR5xUQLoOcryXkz6VT1LLhnqn1pldSIHdW/xINYTUiikMjmGb48DwjotWZjEAZQJs0jVhaJ\n",
       "aPJGxbWhJ0izk3fRdMMrImGcYr1V2COz61FuKr30w6AC1U+EZ6IJUEJsx8BMwaEmPsoaApRe0vEc\n",
       "VawR9RM740GppLAHuLNjGn/4JmK4j4zwngaFvYpWIK4DwhKZEmGX0BzG+DbKMfRayxQpx/Utf4yy\n",
       "UYYNLcIbL1wAdvsht/+2D0Or9TWpAgNBYEBjuE1vOsfxf0i5IqqEBHALiBzKgpQkhwBxNhd9gjy8\n",
       "er5a73U8zWBAJG+e/+YxWsrUXRcGwEI2ngDs/Jto51AMNsKmKbe1AmpS+Dh0rYG3Sva/Ojic9/jW\n",
       "zAu1QTD4PyBryxXV7NgZqRFP0ZkoFz7UTp56QjR8i4hAIRVGEWlDGq4CZMr0XFQjcFl2HWtbzkXS\n",
       "hrEFxeuJf3m3SWy4bPmjXNLogZncjryLohe7Jjf3jP6irIO+LqQOfEA+aQEKJbBdyu2dClv4JQRu\n",
       "U1Bqdczbkm5AfmSUwY2ONrivWPEflzaNCzkcn69f1X+GgTOe9geIHZcFBWVksBSDZoGCZI6pVgOO\n",
       "j0tACvIaDNsFYW3QR3AypqnMBRTbfIs1ALIyqPqkMpLLwc0uy5h2cnqwyafD6/mVyZ79D38jvCir\n",
       "gI8NFl38HgZQ60YG7VcxGiFSTxaLvKgv9+bB6LcM/k2JfILH4sO6GdBXYPvlz8uA6DMCtfi/6/Wr\n",
       "YvhsNBbOEhN8XBHbyeuxOcESnXlC/5fFP1GlKBjNWASHmEAvuMsXDnyLrxy/Jg+NFioEn88m7agn\n",
       "ZcccCida1oBUhaMJgVAjDurAliPxssxU7VNIpUn8rEDoUV0twWeBZKjB7sZmHELdzxSe92opPGLB\n",
       "O0ZxjP4+ZWpWtmAeH1KPB0GzfutU4GEsADp8tH8y1lrapM/Sqi6w2o1RZhMUFh13WrQzqh73FJCl\n",
       "ZxCupnMWl2iEOHy872sVHrSGIClfkj6fQwA2PDZvmTNW/8RDoelJhRFDY6eo7mElw3qMdijbxVeK\n",
       "8RZltHv0UGUN3GKmePZ5Ul+oPFF8ofdnex0pSQb3MkA3Hp1X5BhWL5gTaW/pyTXmcSk0h06q8+wy\n",
       "aCxuFLC0YjtW8x4iOWIO1QHOSPXs+IPaSpf81YDe0IlH38yWkFvd1G6HRtWiJVFgWW6ZAP3N/D66\n",
       "TCaPBIM+RGYQav2xFt0IW1Cbn/O9uvxS4ETT3bhCUQ28QOTqQl2Fva3/Whk1QMtVdmK8oEsEgNOA\n",
       "P/N8S9MPxgJaxXml+yG0zREzCO6PMmf7hLN8GLuHmc0JiztTP4Mzm47uqV9h6oGqXgqZWHbjsWeV\n",
       "6AfXFeHN6FEIinkdZxg1JRb1KSzTikCppAMDI2uAtGnfp0yc6cgnbQL1jdGdIIE9fNSeayJFaySh\n",
       "A5Dz8mVNvRo8t7P3v+YgckwxKxN4y9AfXg+d2BnjMlcP9ECLOQ8wFtQ16sojVkXT9ZNs1FXmArdl\n",
       "s/YSp62AUdPCmUPm2sDMkBmP7kJ7qCUPbjw4/jMfP+GBMVvaLYGc7XZjgO/Sps2n8yOP+EAK5BQB\n",
       "oVFG1RKI0NJIaFRhegx4N75UeXvrhzRAE1JZ7aubgOVRJvpbAKnEKrWPKmCJ/X+VHRORMSoq0iXX\n",
       "fqUfL6JMgxCBF8xTP1y1A4jHDWeHvhuHUO3VKPDG+GbP4X131wAeW+kBmiqMW+4pPksNwbAK89ej\n",
       "RDqDKEK84gByvW57UNL2jkdXTMqqUXyyayALyINzc5+5Hw9gFgjRHrNS80Sh5/KK8v1/U0M8OqkZ\n",
       "ND3Tn/OGBDmNqv4TKl0CMRNAq4qofN3F2HDMRBAdGov8uEDrIlo3wKjbBTQTky4zzeW7F7dPVPAU\n",
       "ctFWubSVSYracb5VY8G3p+jDdqUB/rUSqpG4OfgHFnnTQgf9RGWf91ohAAAI2wGepGpD/wAAAwFI\n",
       "SLABtKIb1Wu0PUTk1TVYtZUyq3qzIxsqvqTDVv2NnUJtixMH3CixArfKIySDhlDrGs2YfU+vYB+k\n",
       "fCsqcE2LxeFDThPIBtpf5hMVzIXNLESobKVXYbphMHyrF3Z1URL7JQB4ACy9XmFklN2n9WMWUo6e\n",
       "9MWXOvYGnErJnkLU/nCz3fEEEXEMVFUJeRZx9Wsaukzrn589GUze0b/V9AYObqe9t18xchZkbasd\n",
       "8JZVKy2RalVzyAnGN0LyoubcIubd+PBsYE5lQLQbixn7wf3bcesEv2s0g4d1Rvf0BvpnkX++Adbx\n",
       "vxvV5DTgiRwYerus7FfhuafzaEXTNsKYnLH4woiqlZh+Y8yma5FzUwtNCrrfsiSkG8zyKskVJoAd\n",
       "1j3NLngXwpTB/PQCdyY8+btgEr2UHi0MJ0r/XJqcLIcnvc2pBM2yno6pYi4oVSdPlpB60FT4Qj9H\n",
       "g5ER4FVEPNGtkJ/1ayUY9Bkli48JIo7Wmb79SqDezb89D+oosHO80wMqHk24MQFumIEDQUpqPmld\n",
       "7uSTBUKwD5UvuB5nXd0tqU8WGWuWOjSS92+zvNciIDt/WR4q9oUt0f2vw4nFV+atNivw6MQ7B8Fn\n",
       "d42ObF5Eou4X6tttmr8fNv60HR2kK9Wt/Sp6Z5dF8ZiovL+xGsyNNpjmHMGalGzOa1gRR2Ej1WVs\n",
       "VEkWxrCJmt45kyxkttTHaCI3MW3IIgcUV1XAC9+ihy+HO9AZNZtn76wYnX6M4P+FfNIyEFmKUeXq\n",
       "oxVmDPQVGkdv+s4D9Y2u5LAA6pj/FGbgW1mTUTAz+9dx+/JQ6qGNw6zMcdhstvBx4jsA/s+FQLFC\n",
       "82r/U/gyuutZsQimseKZuoK8D+CrvAHrqwNWJKufbYBPUnQ0SNlTTmaF/30CW2pegy4/efWwTy2F\n",
       "CNDPvKEXNPHqvwnfrg11xLyOzInnG2z172RraxiBeHNu0nq4yvVEpbrxxOMTvI0UhSsuwPxxJXW+\n",
       "z9J+Xz0a0unqFcYrMapYWo9BEPSx23BMQ5+KqmyxryXAK7c74zkbcWNv6C4g2k8PhLu3T4f6ivKX\n",
       "9lvv7msbaiqkPp1/LSkeauCr4KoE/gPVcK7UMs/MrFPA9Pf/NMOfrCwnZZm0oUm8YXAGh86y6hwv\n",
       "0iLSrSJdtYzxvq2umVowBN5yOCAvniIGVj8uS8Jp5XRgBlxRJPzPJ/xoyD/NHP7InZiecT2S9hp2\n",
       "SB5aK0CvwODyFlzvCNi8O/jgU49F3VHL2VZQfvKKCdetYxAxOHzbgCWxQf/fhGxraTvMaEEvup/f\n",
       "zFRXweiSDBvzuu46bX0E3+l3fpS2VUY1pGRAsB+VCabGvEZSkl1CehheVJX1xT0D7OovgcV1fBVC\n",
       "n5N3lPSvYXDonxiKPDKZrKGoN5rbxAmfcPtzKSgqhUJQtZ3LfqYlPNpyqQoEsdMWuHMUwJQsNLnH\n",
       "HZ4rTLOi5ScUkueB9YnZz12tz5+5IC+Ul5G/syri5wy4cw8XdG6l9P45HoF/CWQYMeeHDPmC+gb5\n",
       "iGok+lv79r9xLMVDNX2KpV/PxUc4KdX7iAY5uYQGJCG0Zez5DAp9KrY1apEy2cyAPSGFoHmUJ90A\n",
       "Dn5UYu4gkklblSpi+6kFkGE6EKoOihZt9jU0IeI7R2mr1kvwCJVNP8bKltx3qgKSO77wm09MiP4p\n",
       "0gZqz8EYW6OrKgbHvAgarK7j8dWtAR/wvkQII8sBxRPbQZ3+PAWknFSahjCPT09YuwjNzFIfd8bX\n",
       "Hr2xS5UVTscYAfv99cocrkLlkrZQgds9FYVMqDv8MpQFJ40+9GMQPwHwM0nUU+PRnpkl0solHhm2\n",
       "0nZ11zt0R/PvVZxGxaqUwXpd84CtY5vq4VY/x3c245Sqkww5eRHNkxFm5kjpzKnf6vnJudjpJIyP\n",
       "hVQs07vUz39vID1yGt7zAgAIOuB4un7yQWAOnRgC0OBdU0eVq5sxUT3atjLxJG/GswfpobgZe8eS\n",
       "zAtCs4S/d+Q3iyzviNEPDGv/brQUmbzyy+3MkB7oWATKZ9Zcf195j6muthUlaxt9x8HeX3wLT2UU\n",
       "F+Ek/SX2JV1nQ+TPEFR3c2Bu/Y+dykuRYkxzPfQ7Ht7pmxJUblpYClDm2xs4J66CyQiLeEjaUj41\n",
       "UzZ5c3OVGjcORA6RyuuHQIYffe6YRgnD/+0Lchq2ZXmI+tJ+x74FG1NjeVoY2xHxIIb7GTlNoikg\n",
       "pZNnT3VX16NG+DadKmukltf8mN3peNFtwGmZgfa6nRWT4XsOYLDBxSe9JN+6S/9bHYlkGGyvq18q\n",
       "nD/bGwGpYsfxVKzA0BhRFKs1utqXS/tvFeiKzhuy3sW+zGQwuhQixJ3rPl7mkB+fPynGnG8wRwDV\n",
       "sSYc7M3bI9xFcWr+hm3wi6HyK/gm6WkAAAVqGJVeEP9Dy6cH20+AiN79bjTpTivusSe4rb+NEPwb\n",
       "RVuwoJw4t94BMLrXpEMSKiBloLZoUDl9Gdkea8buzoKJPa7l7dv+NMG1iO1UG5J7jtoQdvD6QX/U\n",
       "HkDOy8fx8AeQytLDddo+efpMmcLLjj4T1nD27L7OeifSRINwzu1D9aj+nr2tPaYZomtZTwXWPg0r\n",
       "Wd4Ma6HzU9zcIfJZNvkK5DDCHnM9dRX6iZYspIoZRWrbBo9Kr8hv1fw02rgmNtGZyGN8On8YOj1e\n",
       "Keu7QOvw2EoyhgpyiGDBlhjJli0Ei5enNCMIiVp2Y7b03fCBS8U8pjRsGKAmrSsrv8+wxKyYvxnr\n",
       "ctSKyw79hYUIr1AH4ykJakpsaulxwIIzRKKr1DnOoqAhGdn0HA7V8tVwWfqVSogJ90RkBF6XIV35\n",
       "V0WDVGfUCwbcsVXC7K2zz5mtp3GhgpTta5D5OrHaozm5vtPrcWf8yZa1Ab6QQ4DgM5mPfFB9d5tG\n",
       "zEVOYzAUqkDW+ITDku4Roh/9pa7/1OqruFDif/+3GwXvSWLowQOakC9F2juDVCHsRLPx17c1++n4\n",
       "FCzsr+30wkJc3z4lIPMInhfGBdp/r7NXgg8qHYjAAGVBAAAQ6kGap0nhDyZTBTwS//61KoAAAHSK\n",
       "0UZ7XbAA7DBG5fBlKfzhz4+6O+QSLns2sD36+8ErIH5ElDSYkCIKhgiZU0zSN3e1GUJP/FjzLRsE\n",
       "4ITBiRT3/QnyzN85A1apFy8ohJiNf9pgZev7michNUufRghnVn/Fvb7+/RVyzbaYxt6Pf3aot/ee\n",
       "WoMyIc3cujABDjTpqhUiv/gIogZxvFW9PEQxOjUyfeQO5kGN72LKCZQj4Fw6wCT87lLUe/wzc7Sb\n",
       "38wPa3S0Q+asJi33nBW4O3dXh22Hcoj+GSv2TedAhzhRaglzpFxmxCkh6UoYcY6sAdtxe+tMlCMH\n",
       "F7+LrMnaPJJvAngNTZLmYn3OiROGgccL+3gjlAVJeMGopv/LCxFwwpR57zMpOdSMHE6ejZGkkX6h\n",
       "uu+0SpQKx0D1hlCizzMB2zJ8Pzw5JgRsK+IufpC3Ok+w9Y6TEwFHVX0Mk0OSyVKEAUDNOesZQ7ti\n",
       "huaDm4tqtTbwphwgQjk/u5UTTQnPi5Ih/Xuq8d+QM+b3/DTfpKj2foVtWeLzD6ryDR84sSmhD4PX\n",
       "/hL4H44/rZlKcMFdD2eUkWYEzjNtEgliMZUhb2v8+0E87etQMfNLrz0qCCPUyFs5o9jm5SE2AEgi\n",
       "CwhierKOlOeYBFYDmIfbYWgEx0hdJ5hedoJn2Qz6/f2+IXlmQf4ZlXQJ3dIuuh2GrZ34o02firpr\n",
       "GOwY3u+Q9GWzEGrYAFvAeubaEojiZrQ7b8o2H5r90vkt6nVR+4ngpPlMeYO5Qm5PSVuZ20VHjkkQ\n",
       "5vnenpiwVZ5089OFRAhpr7PmBVOXd4qRHup5GrRxu51D5YZhMSFpITOfZLT11/EDUd7Ki4EL3Lxf\n",
       "kDqROlbugemNpT6i964KsC5wViwwQjuPR1e+t+RP+6u1vd5aU6zD99VjBtw+J26cMQZ+mtyTsMVi\n",
       "siXpkSWHR5/COPS3f1ZGlfFcDHAOqZD9t5gL9ULWikP66Juj22zsEKVYZk/Q7IhI21kTL4RkZaRq\n",
       "ImHGAyUGZxzmRRg/8WmT2jPW1PWT5wKU5HZhxddxcax2C1bsmmXrzzzP7A/TNb4jOe+iyg8nW3GW\n",
       "k7HoB3xkTzxdKQCu/NMq/Bdx12AvOdNGTVK7wQ98+mSd5WrF9zqIgjv3NiebL7fvAAKGqobPNhcy\n",
       "78KU1e0/uvP76zKX/8EKWD3m66AF0bBEUNCqL89/XRhy6VtRFU6t+eV1ROtJIP7prs+xd/eXs/Cl\n",
       "kOkIbU9fyf0McFqfjpwaQa1snYtnOQOdkSulxK6wfD3rnG5VZ1EFYBtFQkIAFGAumjVsxu5jRgLV\n",
       "EV2NRc/RDPTyCqG/u7t26e48KXpO9nvEezxJ+jqFb9Ltux5RR+tbbzP3TluCFqDatTvzpu/9EBxk\n",
       "ofW24HFk1e7KmwdVWPxZU+GKM7h9z1ox4RGC7nwT3hlclKQl3+x5AgETqKz23/YWsgSD2GQuDtyI\n",
       "BjyaCMs2TaJ5qmbwmmV0omUhNF7XRfHsjpz9BprQZYwLi9nB6HB5eMaM1fLb3TXheclB2QlBhVjM\n",
       "KiOuo7pAR4/zv+vQHDIlhHrZeY8RaGtAnQcgTi5Q69ArMpgFdhdrPOyULWU55XSQrLkdJGUC01rz\n",
       "d7mK/P3ZuJQmQmqAG26S1UvJ+brPfZBw5OWB1pFsZk2n5xqeX8PhNNWC2aVOP/arb46oRKkAhuGi\n",
       "sIx4bzsP1TSV3rpArRYgUH96I4rFFbIEze3wqtFrbsWSpvrh7LNZ84/EuHTKg7G7f3YapeE2Xd13\n",
       "Z4NvpGJz9Ld7CaSXui04etdV1YsRKb4HZGkLMn737I4p/RNqOMg8DYnTBZ46nxt2Kg44nUJzum2k\n",
       "oUCl8oLOfmaP+3Pe+WQ1rzJHChAJ0DiVj34iQkKv5EUqi1SVVDK9jKNW4jK+RewlwC0b0Pm77/tn\n",
       "zoGc4W6FOTOc316RkzdK/cZyaegAb5FADdWtekfIaQWn4dPvqsujeAS0E9QqiRM2f/AbB6mYjDMq\n",
       "8K6v5ncOaXLLCLwQkbPmtKqqwV3mLKmSPVzIuqscbZOA9pWGBCiE/u+Ef08H4e7hPF0dmAsSpCHH\n",
       "+8OZ7646e+xRYrzkL+cKjU6fGcv/8UBRcOH1kRK3DIkxQgsldJSv95bSuRt572pjlWXD38datwmE\n",
       "rgnLEFTPBYEN/OTbQOQBtTKfgy5TBN2miPxE5jiDtVHcW2Do5dfXUnvQT0EU77Yp1iZ/nP3yMhFF\n",
       "m+d6fh9fDO5hT+xlcTCpBdacQ/zcyQVzySBXgiYvaQ1olGrsXGAkgOkl6M3ffIV5BvuPvCNEVgS8\n",
       "7QerVYA2KMyjeZ5MCwhMCg1Tpu/x2lVYf/x3fHwNglRfXGXLPEUEcGhNSfqmJqLbF+jqZiuqI/Yx\n",
       "5COtxKCZIurGTtI5tbt8B8zh+icYLFZb02t7OUtTgm6OvuwCAcdFgDPiokoE8lrjkACkpJ2WYMvi\n",
       "jov9Sjt65dmuIo1HHxtbz7f6rJVT8WJpQm1v2P2XLLuZzJdhi15vzr2osDryfyZpMA9lOwaFs/of\n",
       "p/V/hdP6ZOmA2m7Px81ud8Nx1iwJnU9spf/31P20UAk4+Wxcqy2aYXcP2h/d/oUvRaDqhx4x34Uj\n",
       "5tlV9FP+t1iigbQTjbrq0qcMIiFyHjfkjohu0/fhuVfWJPUhnpWIGyPkBUXZebNxE0zyyBm7SMB/\n",
       "U3LBCtG3v2voWZQuYmob2BY1XEiQmu2t/Xb9cVeeHFi9E8KA264FvOoTnc42POMO377uE6sDJ8WR\n",
       "ew6/jFYLH9crQjgk5r57xYLazQt1pgXg1jyNZAS8yeVoR4FU3TUQ9upgzux/i9Vf5hBMrnZwxoDc\n",
       "mwPosX/r3lRvqWFOa+7hmktkR7Jm0H4hrx5nx/AKy6khKun7sxYKcRO/qcRG2m5cJlXw4Y+hV7yj\n",
       "P807sA3s+zfJBes/ZVfykjhyn7OOCYZc+he8IzukFz1Rc6u34fa63NwUDZJ3xwSuKz2/e0P47cSk\n",
       "0p3LzIH/Q1D91/zmjJJUjkL+5o3MMvPF2zK5PeVR1LQAdDsrTf0FCI9ViDH5+A3YVgI5hJ1TjncH\n",
       "AxBl3LsvXKsQibd3Av///oCUbZu4gsTq1XPglGn53T4XoUlSi1Q8PcyATI01lXJn3vLSi0RNVfHk\n",
       "rFTANKRUQYBzsnn08bdTm5SeFD9ucb5lncZEcITrCiqHZkX1spLbaBCppmvf1F9D231t3b7Z+xbt\n",
       "cflXu5LorHgdIufphbgY88IzA49Afobuf699ZcFm84HTI7TG2Hi+6H1xAK7o5fHqNeyXRUKF14PT\n",
       "38Nl3e1/o38fDsXonPDxwDIIOY45k/OLJL/GcCDt9w8KgZRAwTRgP68mUDHCIBj26dNYodHH/NXq\n",
       "OIW3egih3OFa6TQAS7ftq5EW1jEB9yBj3DtkanpA68Ezmv7Z6CTTh2ecvwv0STKZ1DKs/K03QWjg\n",
       "u4EuyD4TqWclaviNoBKqvnfy0CrSjkGhg5Q+chOlWxk5dL/R8+r0vdIWtpmYLf/e0TbLbRYpeN2a\n",
       "y8f0GKbf8O6rOf3Jr0/ut1dl/4vnDriGHjPIW/n4raJO2lcChZAdDXojTaiWDZ33y5SsvmZFfwI8\n",
       "r9MS0dhmrD4VwmnqueL5C2Okoku6vN1PU6FnKrFR5hoQUtrVue4Q4usGrp/OujgcQzRa61ubecHg\n",
       "iVqNdEd5wZ05PrkffQ4igtMTZiw83VlcdCnI0WwioQgFR+caJIu/v5XF4zH6Z0NfVECapW7iS3g7\n",
       "0J8Rh53ABxhEyjGmDB4nFWpejmZV71jXGt6w/m/Pu/UryEXNNK7MgHV2E12RfRqrr0SlNeGs09TL\n",
       "YKQ87+74FsrAHVG/CuGx6EoJ5A7GS6ByGK9T2KZ92VfmpKrLZnlDYRBNxf+RoepdZ00TyPud2Duy\n",
       "Dp7TjcBpW10pttIoBsIjgZ1XsxQg3gQkYcFcqy+GKtWwvGZrYR1K8pZaPuomorPt5EVn2AvH6PYt\n",
       "yUip5lKsZ3su2uv/1FLM8KemMmDILOESdV2n1+n2493uEQhGveV17SLR3NMUnwe5TIwlR6OI9JHV\n",
       "vwmj1QAbNW5xg8WZmAynZ5+yNXubeqOshxPaMuTguRCxkqbXz0XIlH+Wa3VjEAy3p6msPwmjX434\n",
       "1Fy6KsmKFOxAg5o7BjxTZiwn9/UKLWmtNjujfKY2n0jpZgwEd8jidBg8y5iZiCi1LwXYeZNdI9F9\n",
       "aOnC/3yeUjjJ4y5EFu2svrF/BGaDSdNzKbhmUnCAkU+mmUgHq6aPyRQ540Tpejp9WIL5Q90S6xA+\n",
       "u7kkj6cjinJ9GCHb4ZTsLwgDdKQJQkL8BONu/fIYEzuj3i4ikZm5oUw8tvEc3YLolMLDFip5hnPC\n",
       "IZUL4d2omKNJOARw3q2MhOfn3AaeWFxDYRxTdGZFzXrOx8lBfqJnbU3FJoKa91o7nznxmw4+dzd3\n",
       "Lm/JK9CRCBXkktj3Y3Agj6TpJaffRCQdHV+zzH4eJqtuteb0GNubPghQj0yO7Fj7bRmqhCEAnUY8\n",
       "pkKlxakt9Wr2uBoGmcBGKzeXxD4rpVSfNsNvHyETS2zxF3yjcPkQ5nKIsWuNOWhGiSpv8rLhSOn7\n",
       "ThNy3M5is49iH/U93g9kd4f/ITBh/lpvO95FrDYIKE6/9o1a25QGzsy5iNL1EjhmRWnpnAJKlcWT\n",
       "6zwXvKNSbrFfZ2EwdLM/aNoPTAIgNRLpkaMT9c2Ll7rdpwegFbVdiNdam4mNYVV0//hGksRbetiT\n",
       "PVei7GXXUh25a7me+EqIN9s996X+2T8IQiJ9MB9wC8QX0OoUIszpczionroQpFMq31ng7RkVU81Z\n",
       "N7n+CuHg+RLt8FVhT6mOvOcsw1rVD9XTAb9vwTDeSo8EH2bBVee6tAJj+SDth+u2jq+6iDWJZhnH\n",
       "aI+S57r3S0g2QOAe3t7BhubDfJDqgxEp2tvRVxz7JhsUiy/ndizluRDx4xhj+stMcmYZVG4So0gc\n",
       "cuH1iz37QxOszXZfrv0VR+MqgWXO4lTeeGKUIBJddM6CpFwfb31am/Om+NXX3l5Mq8BXF8mpg81n\n",
       "dVjLffYaV38hzTPXrDZvKKNKyViuMC1WidP17BZ/CYDU4EsP2zC4BdSVvl5jDHUfQLKDxScqycbW\n",
       "ZIDZgG2rEfbFfQW/kX1M0esxCPEhdKD6+QWYdLjvjBr0w3zuUA1IUXxKLt4e+4Zdm6UOpEO13Qxz\n",
       "4xSbJiq/AXg+fIlC7oQpEaa+XOp8LgtbXGnNtFzCGaVypO5gZIcIAba5uxDdzGIpKsJ3tqANUyHG\n",
       "CQi071ePvFbqlj2EMhQlWUR/EBHgsxuZrGzrzokyNGYJ/4zoIEWf+aDB85ZenqWi3t4FGJ3CSPIC\n",
       "Ss26dteX/3ukbnschr9a9rIUFbfkbsx4gWjZk9QpvrbXeV99QZcSPcaGatkkyO9jLne+wu9cW5CL\n",
       "08vexi8UGyha4u5dDqAFbsB0HJv6fb8jBoI4xO9NJJeQ1iX302MpWT4OhN+S2DrurAhEGQUam7iU\n",
       "nfCKmM4liorYw7qi+73KmO9PT/EFjIRAMZd/g84MxYMSuD71gu1qcvBe/0FbXyFOOHCxbu11CRFf\n",
       "3fvtuMGUBCFx/AuKVlouCguc1370Plum0Fd38GVdTmJ5c1FHVc181WGjwM/qayUeQgqULWAJoo3H\n",
       "kcbxi6qlWj95vhNhQojJSsvvF8F8w85hu/keZODBOwfyH1U1esX71OY3avAZSGuODtEUH7sYJIrl\n",
       "cCFXDf2ZzXJxGcq6ZxcU4v16458zpllCbaIMKYq8ufkCS0EAAAlfAZ7GakP/AAADAULZTwP/w2AD\n",
       "aUGTh5HRdkcsQWfJnRd9IIxsbDWkb7kb2y2Vl81OhoFm9vZB7+GHkMmWVf4MVs8/RFiXCbMzuSny\n",
       "TSD/CT2KHC+vvxoqFnQZ2RKDfdZh7wQDNlQwt0tmcUSOg1X/0AhW/otZhv+I2Ucp7k139dK5TAV8\n",
       "Z+1elZxy3G6S6vCi4nL6Zrze/9Ds22Q54Vkim8Pny+GD7EoosJwlbCI0iEuSYEYrGBtoPgsOCxWz\n",
       "4lcE/g6mYfyZyxTY882eu++BbYQAfZvWKQt48WcnQB0ayARSqa+QnGxaXGghZujKq+3jw8zxk2vF\n",
       "0EF1Ifnk5lH8zoJ/ylZc64y5VHGMZimCaVc0QVaRNdf1NMiLL/vmimNrRzbbjh3QYeVMYWQxfDAq\n",
       "aTNnGS8O0BRkRumBdHM+oT9+HyCavv7ItBCFRN7xi5mLghleclm/QnU54Ihj/c9tUL7sKuCnXuyU\n",
       "3TBKtlNvoCgICQi7/1ND4MpYtR8YTofAJXRlIt5jLUCWjjQDwcmGztTwXrfmU5hL/Yu4RFM7OwxJ\n",
       "SjoygYIiMa/eSrAYffQ7YE8tRiqMM3ViGZCavYur/8Nd9X80O88nd1HhSWI7lA/wu57RXzT8hYDZ\n",
       "0mPpLInle7tlZORNJi6JJdOtMDHfuJWKzLBGFwCc30RuIWnaohQAoNNae3MTxgN3UcwyhCaUPMOL\n",
       "Ukl2SorkYmfK+qf6QbTAkVdgyIWIwwEfmrTLHmrNlyte+e4Wka6RXdj6xacUKOdCsgktCTdGm47x\n",
       "fBC3WzP3IZKpPJJhFlAA+Zerke7zFNjfob+J1Z7Hfop91XF86azJzwWXJ35sbM2lr/LAqNGBR8bO\n",
       "9IGBEJFl8HI3IZipFYAOsO8AaCbHLuulbEmiYe1VJaXrPdVwCsrpV2MQrtEy5G2L5HHsr2mtYa2H\n",
       "jClBAZ3szu6xJyD+zv3GQzaaoR95SNLVo6A0Utzbv1g4RBg8cHOsmvH+FTeDAqjMAd0eqVv8kcSQ\n",
       "AJNCofZAPdeYHCcIN00u6Qn5Gyh/aFy0kptyAZ9IYo2TIfMEwjacFeLwSx1akIawr6vlf1Dl2R6e\n",
       "TFVC0H2xI5cIq3ag17ittLpdpB1x5nr4TwWRa16xRSuhXth9E3HUV9XTruOeHT5fjXKnGuDpr41x\n",
       "IZJGwdVroOwfZ9a31tdykpPqyy123YtvALxpdYdoJESC25N45D/+n9FN5VgTNJ8WxV51BZ5bTDVO\n",
       "c6na6/jrS9/uJY5IvLY4hkvUZjbr9EiSApfCUuBfItyUyHMjleRSHLMDvNF7tueiHlevMpcbuclZ\n",
       "LBxPGZXEEyWXpc7aJmcXQYnOAWcZOa5BA33vbusqY7TVhTbwNXOK7YyLik42Fj4vVNvqugfbOXtx\n",
       "Ok/6oL8QRVA0zmS56JbaxKVZnVcE4WfiXb5HHiEOfl95dEb/vyuY415MBAl00a00cqmwTZ++OAsM\n",
       "90ni8xJBg6rEtgQq9nK9U9nlkBiSISQXZkaZdSFsPNNVfTNHzJzA87MlcAU8G64Rs9oe6GWl6xbf\n",
       "QD+FgQ5GLFPmv2r6bcmDZycCw9fW0kmi6HqnbOAUHH4ENABQSLZDInOejPsRQJ/bgPg7Dfr1JsgL\n",
       "FD0oo43UPJoIoB3cyoZ/dLjT96HA2HZKaIzaBxHxoCa8Lyg6cI8bdkbtBPu+5CFACIjVRhN3R1ak\n",
       "wJocwRLYtPaIhykN5KZkEuAOoxypaiG12mQRj/vJHp9DwC4Yj/o3Mi8IjxMeqTxwaaL+Ee86vW8x\n",
       "WL5fpO9QWacnZu9ssP1YoI3JHpMhgxc4B9Uo2UYd5iOnW3SJCEhhjoAYNs/9G3LPqy7mutoSKtjA\n",
       "NqcD3JovF+CuilLbbH3eo6HX37mkGQ+f6z0ZeUeFVpW14rsl/ZPdkMJY7UR9TCZcK55C4SJ2S1Yv\n",
       "eyOQYlQKyXe5rs4dz/hv+CGzaosIbjyVgF9Gjmpn+xvJaaz6woSW1RhY5XFfEw4Qbfy3H/jwFGU3\n",
       "vFDgWAx4XJ1zdC9x62A8GmRS0O7nREVcFxz+1BXBEo4p8Hf1OvOHN/ONsq/LOTxAWR0VcH9KkQmR\n",
       "YyqDPpXrCmDtsL9yoii0ImB019adNeAHXRFDSQ70c+fpS6tRQ9Ynp7aIIJCYiIpEwttweJk3OqyH\n",
       "7xrZAJoBdNmUkrQ02v2orQujfZtpMlHvJKy4KEIwCK0isHY8zC2/uxG+H4vwFYFXP9kUowtb9KG0\n",
       "Q6tKVB0uvyEcgcVJFSM5ewUx3O57gh7ysPjwyof/Ik64borY1guX0lSlaebhTgxXIkLkg+bfXxuz\n",
       "M3ustTSQ9ZraUwenMRppOMEQZJ4rwQ8QwLu1e28QbtQ2EpEsdW4G0EPBiE/15sKjk3MVs1OUJb2G\n",
       "o0qPBfoQTzSr/40IZ8CayiqirS84JNNv2T8Xh2xncHiRFZh8Vk2M7gQTX3mQmnDcK36tUkH3ctd5\n",
       "cLpZFMCF3jen7qwgr+XEXoArENoHUcTWYH/R2wtyeHNw0Bb24TjGH59rpvmuNsjbi3VrDLBNoYYH\n",
       "SnR4yIVFDfPcKy4Y2PTgeCMG+AARrPGHtFXwX4LruyV4nbjJ9cP4F4rubrzB5d6yMkkoVRd6JjEX\n",
       "R5KTN9+jzfkEm8DiRBvjL5p2MpvquqyaisZ+gdurQze+iIw3n3FmUqa3IAjqtM1xajagIMnFxNef\n",
       "Cy+bd2MI5PfSHE845w2VHwIK7Vu9zFYUlKTdXkwUZsZCqMbjydxnikSPKvW1KdJbckoNLY7/G8HT\n",
       "2yrLY4PkhRB+uKiBH43xENmTlANJvL+X/HqR/No4p2LTddtj5pZvyHHKLxeh+kn3cRvBJBbJGr/s\n",
       "MzUhHyRxEJtbD3zBVaiCNwXDZLWSCukDWygMtO9vf1b5W/fVDFGPP67IhHLvzjSBtbRuj/0kxnZ4\n",
       "PjrALIQ38LuPBwB5sRpKVb5IF5ig6UMl7evEytXiD8L41aFU1RvDDb5YQSrAkmWVvbUX2LktdhI8\n",
       "3Bj/oHDilL99RxYSmhj1wVwQAwIz52APYAPzY5xH3Suuyaeygrku36+50e/nu5E6oeRguLnUOvsP\n",
       "ce1QQLuIS2q9S7HEeAueIkovj216b3/sP9j5lqkJypmgqZnSPwKIvkzYCNLXGf0ov1g9uzQO3UbO\n",
       "bIEp3nxaL1P218MT82Se9+qBd6eHw9GablOFMbqkMVS5O87Bh3yX0AAAYUEAAA5YQZrISeEPJlMC\n",
       "CX/+tSqAAAB06wp6HABfRwaXbB/NxBLK9uRph432SBjJ3/bbnRNU957KvdBBp5bs+fPgd9MBmR6D\n",
       "7AfTs0a3x8w0ZpyIWjYszzARgE2uwVpO+3r0bPfYMZShvtaQx/2PK2ls2V3H7Z9Oj9RpMxZYJb0C\n",
       "7n7dF2yca4ZjDaQkwv/WdXqZrcl0qo8FTPKkvwKqxTzS5jS3X+X1N1zjk0tRJ0f4XAAjXgqzI2rD\n",
       "hrgnLBBUkSFIei8MQM8iwgG8o23Aoce8vdZwTYvMI5ln//ccCU11sAV5PrTbg5U5Hk3JtfSuHgTp\n",
       "XrUDiGcU0j/CP9kK7qVZn/37rurxPEFAUw5KobnEOaGnwwdJIdy1Ze9fmLx9TXy5kqbDOejuGHT5\n",
       "FngWmXbDxYliHclgm5bYguxSMli2ru9Tqpw+Qd3ar4lGRMZWPALGqWbciW0K2GaKW/62TCMgodYF\n",
       "lqn2vXVFjMGL0DvB65xb7N212Pkw11uFF4Q6ZnMSp9sKR9FTPz0BQOnKV4KDpOPRw5bSdUstCwwD\n",
       "Wsy+qrHvQx2Al0Pk66eaxdrxmqdiNo2pQAyauTm9/KcwjdHsYkcSdcHyAviSyjRH9JX1UWbyyBiR\n",
       "ODfqKFwE+JIXC8RV+tetZFLolSOQO7IjeVskwJdl88R5npIKEriSJ9nKqizYbqV2NFdUz4ukUcDy\n",
       "ag+RWpeglRHge7TnXWmh+KKvt+CL796UY2AgazPt+V0hxy2xYWERESDCg8jp9AB/F78iSlZiCbkH\n",
       "X9svcvoTYdo8nS8wTlaMyD01/uRBk/v5fW4RhqF2uLv7PgV2cs5n/d1pTLKxrzVnc5EyPawD8Bax\n",
       "79pxgIz4swrfDcR6shmyku5X6HwcadmmE3uT7K1ZKf9mkP72BZCAiQzrIvv3BH6BN3CCv+Fr4/HV\n",
       "UO3S6LRySckNc8ng8tz4bf/IGECHhkKs4UgikAY6zV28Tw4XGNYznvRZ1SbHcsHdbJvKFE3+v2Fd\n",
       "VFB7LagqPd92kjldtfocYltWJL0mZlN//Le+cMI2scwHG3t2ZUL2WW4ap6EARSN+m/oQONQrk87i\n",
       "U+gQJ0/LgJrgqiw530/m86P+4J6Swo/q2MXH+/o2I271T7wwrkCexEElCr3T+NLSaSyn4lIK8VU4\n",
       "a6RPHMHud9jt1wtWUyl6wMToopA1+2FQfSRbJw6Wft942kOt9SGxlCh/wCow4C1+ElnSe1+zXnGd\n",
       "zgmbW3Y+ZyZqQWFUwMDLernZCRi028GgBsnQ52ZIPezl8g5Wtcw76bBkGhl0ina8rWHKuQMtJnMV\n",
       "PhwJzApAnIwkq27GKBzfP1kWifirm3iTIDuaSiiBsBT3fpIm6W4Yi2/sXxuuD3SO916yijuzPGrc\n",
       "hsv0xZgcV7zFux+Vmc4vhz8LoHHrRD7rurEPG0JTh/nBL0BnSAVoeSn4fHSb2J0iTlyeHJNrkX6O\n",
       "IbdJKiQ195vmfY6h1watdZ/qhCUbcOIV8CybzoTgeRqORX6V11Wc+H7y6jzwrVGFBU0s3wDpuX2m\n",
       "wAFFz16ZoS7tOkq71ns+l7l2hOrWOn8wljlvYt+ubl+i6JNuYWg8Kaj4wqgAHX7N6qdOKrLj5PaB\n",
       "NDAvZxQYZ1JLtl9lRZxoHkmjVtM05FT+SaDGDWu/XrM7LAoRrK4/7kaqE8ir43H6eyZFAIhcaD/c\n",
       "eB+y59svjdjy/hSSfEP1ijA2jm8rqy41FluY5b9U4TKEH4VQ58X0VXssp4+ShHJytJRYWzBpfjxD\n",
       "PuzXsfAqamI5AgILsxXRFERzGCeMxor/jf6VczTQMJog5QNnwVwAx695bHOUQZU2MkfHBSLZXwxM\n",
       "yTyDmIGmAYewJLYKcKZ/J1QBk6OwGKa9lfNO7bDpFY6VS7ag9Dv583/gEOyWG6lps0qcK2hEtzHJ\n",
       "QuoAkUqZwlWloyPmtRSsXZKr6RvVmQu/hnFm49XQSDR1VrKOUYQnjtvKUJ+QEGbEBWvoDSNVYT0W\n",
       "3ceMqrvwoyWqJG8AlDfaG40RQI3krq9/IfcrfciA5sg4Y/9Zb1SDMfvYda6GNXfuOMNtUMWvvOzk\n",
       "PIwee0GOVJMHbZvlZZFDba0sbRLuwzn8q34UiGZ9G3cqEd6swe7qJAYBAQIzSmjZ1LfQMpsVB/78\n",
       "mew/uXPlUJ30ngWCFY2YRI62hlRdWK0Ru2NkQ/VOydJGg48bOKIPUMgqh+/nxExf7Y4T4ji3jaWP\n",
       "pY3ROmOeP9noaiCm3zmsFDlM5Zv/lqMcpcqiPqD4WfE5NR1Qtlv+Ej9FGUCQh1I5uQw1BrTARmhU\n",
       "mQm+AbwN/qr9ptawSChcpQ9L/NPbRxxgzrOvmiP7BN/smd7+OnDTuiIS4zdf6HK47/uWwfEcxUfr\n",
       "+UVm7fb38V+ddtJu1zukCUh6diajBc1fSjPr63zQ2wd2S9G2B+/2g7k/ldqLvV+OiwvLSsdr9zDX\n",
       "bPHbasvM2eVwOMSicLmS93dwV+vF/85qCOtmurmHV1f5xj/xTXc9MSi9qaqQP3y3pYVxQ1XWWjKp\n",
       "Ecr1CgI9EtS64vWFCu+39gj83060RcQOCNoK/jZTOyJPAviU0KfZ3t/hO+0n0FUP6/O3Ngyyn89I\n",
       "OHeC9hJH1qXYhzCVfYBUBbMQI5WourOxsNH/KNXG3SVs1PzluaSAL0LYp0UysAQHFeKSmAg8jJtl\n",
       "6oJ/L5UA//0aJxmPiQLTnlpnAgyz3HGaQfGXr+UMCRKB0ukpDV2hW8K0q6fdvH6TErAAqVyFLxf7\n",
       "kDpWlaMwVZ3x9Mm/n4684E4M8AooNK7StqCfZr3SuVpvPs5RX4uwkUSuDl40iMlkc9Vk/QwYMzMs\n",
       "AbNBJj43xvd/m3NayHNvlNczZazlgFgWg2MJFKP1SV28pmhwqBSqHWtNO8RtNjhWkEuGXSd2YdlS\n",
       "gaZR5jRhVSQfbyive8v0radxA7zNU1L+F93/uWtq8/p42Wnx1IlS5VHhnfCyDfzzvwKeqkdh4tmj\n",
       "cRGjVJQpZA5qjjAyRN/6vGXUJt4r7s8ZutxBWNuZI4Px1PEeMeLCoj6ZndnMjkWv4InGm+j9/+48\n",
       "Uf8wR0C2mTZSuL2XttC1aaHzzfDeSnHftatYmJDldwuaF79kLvDOI4/EdVLAojaK6acgQtKXJCBH\n",
       "YT58iuaXXd9QaRdWCVFzXAXAhhsq8dAcfTJy/DKXLoSrnVhz51HK6i3UDwVVUYHT1QLHO2WYzFls\n",
       "x3QZ56YsykiOxEz+N4K5czNQrTXbuZpXkcNFWcQOtXVwm2nOzZiOPDFxbNGPZ/ZOk3VLlAuryDOs\n",
       "z5/gzBW9lcy79+Xu5h6bHe/PISTcyeghVVh3iGszatpXUFlFr86O100m1yui3UC1DnpEyRS26hmu\n",
       "eMpmovn//xSCOSLxApPDayyIOkULWH57cUUbcYQIWH/6o2PkzvA5Apn4cf89w4gpgkFi2Ui4KcRU\n",
       "xOowg7CQHuBjwPQBwjOjAWPk53Uh21trywsV684Sm+/NaIRghLtfqUz+G1GAiYEF6SuD2P2dQ8DX\n",
       "odlwpZ0/vxwWtJwiSZPezCYZkR4oJUmN9LkNJXOyy9W4CJIJmckI9fxLEU6mStayqMTqO0lYsGGH\n",
       "8V3ETzblSL8uNRnpKMVLDv+a7Ihrvz9Ub/0ShgZgON68zZD0/ZlU+M4I2clOW+apknj7UF5R8RQc\n",
       "4FjwGlwGcAbxdze0Q6Bn7RiaUKWs+gSSpilkGYdp7thKV3KbLGmDm9Qh7K26tbVZgUpkUIDFhe3e\n",
       "gBHOim7e1f1LTqr5vAAES/QJI8mFPSqXQcLcveyqreTT0srpYDBVEaaU6DmH1N4oecMcExBwMMDd\n",
       "lSPDlHxdlwx529kVB/nMl22RGiPubgKThwaRBq5puccg3I5rg2bTdBqMccGbeOQim0qRPoBYxI8h\n",
       "KsiIL+ubEHakao1K38sKWQ2YZIg6hClCNLX2i4WWUK1PGhUjjGkVNFMBqumTZnLX5AeRC/R4KMU2\n",
       "fX/U/s4o3NJLE73IO/N47U773wthMFOLHEx/ZyjI2goF2o8/Wj7OUX3SPPypcyM/YIypTKCqG3GC\n",
       "xxTauEDEl58TY3tFqgvBdHBvNkDFGpBrnN75Hdc9a1jkJZk4NRNgkx3ZyArawFlK15h4qWlpxsOL\n",
       "AOPb4iG21R/lccRgHpSnxTIrtM1kqNvLGqC6Qj0advfMCjIiNla6dNmrOLntYiszOP+sCAwG8hOM\n",
       "l/Y1fOzvkBUw804axWW+VTvsNegxt/UW0lqNJRf2k4O2mzrwVyjNFh0wXH9fhoRmv+BdyXSv9GYv\n",
       "DTDG6jgzDjBMCijl62UxRdTLqZ671kuHLxCpv/3P9WyuwwpO1NBiVKqd6oLqUno7aadhVNWU0FTZ\n",
       "+OOJBIQuU395OhQb6BaspfYb5XgLkixUDhpvcUVcOtdLZtDMQviORzlk5y4/sPqBEQ4P4Ygx+ouk\n",
       "99d9AsS3Uy/XvlQruHMcMqH7IyAF3MTfTR/mt0r6Jby55T95gQVIE099eIW/s2ONkKe8Fp+inzET\n",
       "+MlUEhCMW77+NPi1llFCv7JeLD2w3h0zC7KfEelihOlRQgM6/8xp5KR5iNq3Ncw9RNMcKeOXVDKM\n",
       "7+4mKgb66QKfHf0tbYuvY+fWPey2lZPU58/OzJbKokWU9iAudaAfXCPM/4wJ33XSxumaCycgFFMc\n",
       "XpMF4x3qOCqm7MpkJ67/T1u+J0o3XSDe0bd0qxUZKTb9o1s8bnIyP/hhb5FoMbBK3e6dR79YbO7q\n",
       "riv26FUiOjl6EwVpSPLN3TscD9HCByz7GKzW66ZG4APLkJsIY7/p44/dKDKbNKTczlIDQFPIJd0z\n",
       "rxb7ino167CGUI0UlzoVi192raCX3795wPoRZMKtYd4v86dCSvPqwB1HPrk5207P/HoHU6Zf3JED\n",
       "Hv1OG3J07UQUEX6gwEJgAAAPaEGa6UnhDyZTAgn//rUqgAAAdKANYADFB1lwZvE7JbnKP0gf1/e6\n",
       "ARwRX2ERZfT6xf4rjF310OaIATyAsx+TWbPq70gnwDkWp85P62rGRp2SrvFMckod1WlyGWOaKaO2\n",
       "vmTqBUqmjJH6f6m1MGSlS7LOKbgDUD+TCVuTTQpQTzQu20VVGrNhI1HPP2yat3FJFSMzzJCYNBK9\n",
       "6wLz3G6x8gGNuv36xMVv2XXVYjq0bHJzRPQA0+cPOdRDVpVU+aSM5b2OVPAC8OLCqSlUpuIY1KAO\n",
       "B6QZ4xyZZp1rI6xL1bWoEi351LvwZAHe92DF5OR05JRJUJxQT3GH31BLoTz+33Wpu5JZJ7x0TBfU\n",
       "Jf1WpqJIjnFPl7SIg7BoPTthbKADGYqY63VuVe/PS4nGNDzWCdYzwwuaTMpRUDPYrDU6iVOSgC3p\n",
       "x844Lvz6xwRq+mKHD9vByVknK89+xhL45HXwCzO1J4/p0cNuMJbE/7/YA9HzRf9aHUtskWa2YWMj\n",
       "9+A5G9c8gIMOchEDXlCpV86Hh9LmgyPYHmoUr1OmWDF5ItJ3fDnZqk8mibly7REIbv2b67Df8hcA\n",
       "FYAwFPek3sv4KOV1wRNYKAjN23FVZql+U3hRGDF/oj6bDtEdH15f5R+ujqmSBxjgwoE/X5wnciwh\n",
       "vAD08LbaPD4XzcgfzAPIf3VYXSWTPmrgW/LHYJv6VfaFrv+n+SRt3xx1aDUaL6ySJt1iWeHOjImJ\n",
       "55C6Bg6NiSF1je5/SWf71/USNodj90ItVXHPhnn08k2SgWXxE5LrnGKZHzGMrtIzfkGp9gg9dr1b\n",
       "g6Rw6ZLzA6DoCV0TJf75t4gpn5tzs3W1KNqui7+CfKka+G8KbhrqqdDH3QHEeBFILg6v4cwFG5mF\n",
       "QjHqP0iY/c1IEefzX8MJ/uZC5zyGNx6chbYYnQk7KEkbrRSR/eh5LMdEb14i0EtsfUDVof3MV6Th\n",
       "ndB9a49praq5Sq/EdpT7xbIJo5siCpllXFDrKu5YaignC+0279Smq9MGzLUR5HqntuVTfhyXqJaB\n",
       "MA51GV2B8klWqhlPMjdz6PyShqzlaCY7gANunVr5Uiha0tFIeBlaYPiGsUaSrv1HQffVqw2Mtneu\n",
       "lKCe4qz50E8Ax6/F+RKzxQjGZRNfTzZzKcGgTa0kEA9p9CxYBeLAarqWkM06PSXX/57Ak6F5lET/\n",
       "I6qddtZHGQdhkGBZ9PJRwzGC5ZPmOVrot7EAKm8UY1JLzasyyNwMHnudBDbBmbDLF/t2GtSoDHI7\n",
       "zdDQ4eRe/lN0rNqC6C/R5DV3PpEGK5HCwZjoMbSENdnQupCmpSExTHjRyrCqDJc4MB3ZfVZ9Eco1\n",
       "NICq/b/rVx5b/IrDuJLWRRJmg4x8EW87th115qGcdM9euTdEUPlz60+B/e1y36SXtgxfGwlr/UPn\n",
       "e3zGk0dc5kVgqFjVcPkiqNCbDuyZ6RGBq6nd5UOLTx89ZSuhjP2VKlLWp/sUN+SiZq099bOcQjfl\n",
       "cMHtheFIR5xpdlVDklITgZRa7LS2IUhXKVt2Z8O7e5xgJAtwtnabExGlFpc4vbs19Qm2sFDB03Qv\n",
       "7CNRU1OfetAiGggrKDJhwGnRs21LhKDBiOjzvjXU21eHVn8ZN4S+ws3xXAXpfyqX6e/ULl8beCj4\n",
       "daG1JlrtLhEiD9wwOIbi8pLSWsFCaXpZqHiHcOb+2A0N7NxSeaHUNql0ViNjH0uGBrgPJ5uaPXvU\n",
       "XBfYiq771dIpoP72gVpdTy1xJtjyrIukdP5K2RJZjLrZpB56ez2Zxotju42lrRRKVlplcICqhQVf\n",
       "aIUOrefQnkVOjEkiYINWQPvfqsDnTrtG/81AEaNjPOrakaaoBBESg5AYstcsSnFeHZJw0KKSKuIy\n",
       "TSQn+JEqDNwtrt+ZxSebHHtTpMB+BcFnkyymkYD+vlvZGRoc+QHfLSEwCaORH7DVUrhtAvYfaRKo\n",
       "3UTwk7lSczXkKET37FZDiuMXwcj9gCMB1sZq/7/LTj9WcTdc5sybVq6FotAM56z2F4dYiyUM1m05\n",
       "AzvFw/wGfyDK/cP6TCUik24Ll2bXwIcBscuqIw8klxiL01auvQLDuX2lX2K8mbdxAAAm6sge1JDY\n",
       "wknmyTgJbXETqRMNPBWZycy2/lKl2PupmKZen+UDf18cNEMQMkcte8fZ4H6qQfquvMsnVd5Aafan\n",
       "mnHTceRoS8E3kJ4SRR2K2CnRja0jWgzCSwfwAcI3/C83NSCnHG+kqgcWM2wxOXXNcUPNKeGMDsCX\n",
       "e1pMwaR/BKCNxyEKrzpClypuz4BYurvUrS3V6XJ3nKVtniO/zrSHuH0QVoafbwxAzB0irZ3g8Tu3\n",
       "NHvTOAIrLzK9Wzo3LAUAb28yj/LYB4VP57UlVzR5RjoRFcp1skw2mt4aOu1gDqwYcL4EzIX4wDfw\n",
       "itXTU3/BO6Bc67bU97MtwDKp6/dKdiX7dacNoxRqp8I/Zv1T4xSWtyQpjJbN9jYckqixmTwtnJUz\n",
       "vW7M8PloY6+Mmp/JGtGXKmsdyCw34KUzB3ozZmSaPOT9RlL+R2RJQCD+aE6PjDXNELPOMGqaYnwb\n",
       "DLBOV1xZs/MOKjqa5zOgzxqqrU+sp1BZA62iirF/juS+JMk24wa2d5Jq6nG8H8J1ISJ5tJuBlsaf\n",
       "vbb6h7y1AzioYOwsL7ZPI5gzakq4ucMsDSCgVvKQRomZOw80QgktnL1i1n+aTbEa6rpSbkFIk7+p\n",
       "nyrz6hK8xlqBu4BHK6ARc934enVYMzzGXok4agCSXv/1E2blnxhQ0IgUkBX0FACNN8zikF/pI8hq\n",
       "rKx3USc6oRMgMJAkPv6rz+FxIAiIgtCd0CvJiYZVzqiJ1tOARdYWVV+UQXN9YfxdnRwVUse+KXCi\n",
       "HiOJskoMeyB5qYSjU9ev0TNe2gmn/sAgzH2+tpk1O1+OADCu0MuW0r1j3mqfUNhk3lFQAsqzKnWf\n",
       "XEl+rijeS/KzqH7Hxtza0KW3ItB7HFpPDTWQCCtDZ8pk3YftUVzf1RrVnRTclsTPmZDcZ/0h/Q6A\n",
       "hm1VAMX9dFMu8ryrIt9M2m0md6RLeAr2nFtGcU/fO6sDFL7crC2Wqz9o2ErGiF2DjZ+Pe5+QY+zn\n",
       "ykGlEX1X4qZpX7b4e2VrK9/zQHPCuvCK6/g7NE2dEH1bHxXPV1Ln/9nPnzyCxwT9SWuSsobQEdgI\n",
       "0RsnViT7dANut+B160wzOfQ36SdF/VRl3m7BtU5eDXfqqgtmRUuqRp27RfkBmdhsxPmcUZUoHkbi\n",
       "Uf/a0aHcXyu2fpRp27+8zRj1opmeGgs++vZqKJgjbxkQNtjHQPeRPxMmyPCC1gHLDr+ftaRgdL6g\n",
       "d4c/FjNHDitdI7TwzzKY5nWXVGvZ5mDXSGjxrvYBFvQCtez18S+J9l5w3pr4eb/GHjB2eIK1/tJn\n",
       "c9QtY3EpmIhkoE1BuXTLyqz14+8bxCsdvHqcY2risx+WNFgjeWkYR1Wxki7FYzl76WTcfXcpEkuE\n",
       "ZTcj9p0y3elc7oH5WM0kyWEuSNNHbbM95c7GPNan0AHInVD0l0jKd0wonn5An8oexFU2kQK/wCrQ\n",
       "/PpmWHgweq7ZcyPHmNQqTZuw99nlXf6nBq7qNQ7Cta6EOf4Yc0ci8Tlnq2bVJsLxPPsbyvKaw5II\n",
       "MeN/Y6JHFYC1rfs3k6MCj9wTzNoGmUuBbwMxqYiU1N9gD/OeXXPBMdJBK7/rjjN1T4oXjK97FMhq\n",
       "et98/Zw1biW+Alor+lgXo/6X5UJwfZB63BYAPtU7CNPuRRFJ/TMJ83/CTNrNAKI1B9ifHoyH9sTY\n",
       "oo1HrqV/MXKPFjn+3NxAYkmugW0GeQwGEWzRrH0/F6A8yaGqpXIU2uDt5LElSuT3PgmSuw0SBKkB\n",
       "9by9RAcABixURj2ivSk5qSUgpk0p57j0ZVKTF1qPjHV2prC7Bn6SeWX8WP+dLyHcLo2akKji5NED\n",
       "FafZmVZWzCe2RYyf8vYjEzZZzVHqybi0fr97HUui6c57APlVgntQxW2Clr4Nxal/lLel79OtmCSK\n",
       "ZQaOT/QxIPAWvx5Bgw55EpJlJo1YUT8q8XGgpx0/WfDiJnjhl/7EeA8Lo1M52kKmbE4EbJw93uI1\n",
       "TIJgCSdBcFgPd+Zn0q9WkwkgkKukvfBw79qShYuoYSmbGt/TO+AJODT1X/tEjVH5mjFA+48Z5X7B\n",
       "edflHSKXrSgJK7BT38XGuxUeIx8r36mJV18mkEBu5/SZoGV0tLogo+QkjJQ9NWAHj74Kj0ahSx5o\n",
       "q3CvY7dmerAtlnEJ9GdKpDsxu/KT/8lA8Kgf/52+nn3TVITguZv5lJZuxTg2hQM+4qGD8zX811jW\n",
       "mE2f3WBwrPg59ztXY8aChhMh7/j0b1wunR26wwlG8W6PvZIQQLHTMtORiAmGu7A9E66lDNepmRK3\n",
       "k5QagHGpKnKkqC3eIsGNIPqk4I2HQNvPVfsSrDUBPEY9XIL3GoSiYy2H4koLc6mdMrmKAK/ivdv5\n",
       "wv8QaPRIeAaOlX62SYRgM9/BemuMGEdr+OqR4gjj5JSEKzO4x4hWkdtIjcLFgWX8Mf9WeXhkWNdy\n",
       "7QrWaXOHeAFJOCG0Z4p/XdqqUaEhbl9U8Oo5T8kE8qDdeq+Z6n98zgNKDSDbqXw0nGDT0ESKXbBH\n",
       "3zUlbasNdFKS8c2StthfOECx6F14VOHsDY5gi7+a7WQ0DQGmwzOvd72qnDknvYTvu7aYpHFXVn7y\n",
       "i34/iiwGsFW3fHqc32i6HKnQ7sbe3Ptp5/Sfl+KyzJ1rd4hVQxXDrwIpZVkwwl+mG1a35DDr/vnk\n",
       "6b4ccvS2ew7m6zfPezFlmXzmFxEA7otBgTxhs685dOyLL0pJ2CV4iJeclDUdCkBIBes2350zc3/d\n",
       "UkU88zP3AsVqa0bIVp666pf9ZsAWW/nnAPvRcetWSFSK0dVuWv3W/Ap/L7b2IefH3VBwOlhg6e6W\n",
       "uO3vSDSSr59O6BxYXf0UcgTexq4WvfvDzSj83MfFz05HnUh0Zx6p8aNVPMAmKqKbRd8BcN49//pC\n",
       "rytgHK4Cv/OOAwBjGXcPUz/SB3oaqE/F81NI3zNIkyJ5aCUAN9LtdWodBYGS2oJ+0zWnrbsy5m14\n",
       "htpkYs93//mfIQoUZ8MOkn6JFRVfmdSNfk9OT9u8qesiQX8acTT4uK0eP5Ytjo2+95dWCZbPer9o\n",
       "5Zdq/vujSHDLLr/5bLmE15j2cz7wpYyAkn013j0f6wdJ00VZgkvlB8OksL/x47zRERZKGxssuLo3\n",
       "recBzed/PqiSipVFR33gwgSDCT3KlyAcW4HvlQadAAATT0GbC0nhDyZTBRE8E//+tSqAAAB3TkTB\n",
       "uSz1LAEedXh/pIewyBqodyCyUmVTelcTYgV8nK+pMttvMHTLLXc1jq7Nma3eWo8X6MpqctXhRCy1\n",
       "7s7G8Ur+Xl3pyGI16gb2sqQBYFlx9jefWX3R5m5PzjQlyCtY+4u6IvDcOtlJMS4iT9mevAOfBc0g\n",
       "Dw8y1JNAKNVtGLqsgyIleZu2r86RHYcQ2VKF/BfIX9oRcs+jdlv/LmfglAC9t9hiL3lA0Nc81lZF\n",
       "Cbb2Rvf5hhEGNhX90l8CJlJ+fs36Arz/g1P3l66LNkt985+H3iojFFgyKRpMI54vIVOi8yau2tLM\n",
       "kY5wVjNuqH3O98S9LEXltZSYNcUkkezBYeqG+QUGHtS0JlqJAhcVKVhbrrGu5yvTbes+Rq4XdF1X\n",
       "tVE221GWzoszQM4T+wdfRb+0r5wDIjuegBQvCOo4l0Hhk5FRnkNNV2GTWnbYGc4tlruUxbuDrQNf\n",
       "IgaBM36zmrOGnC+75vqRk4oypGLf83+cp9xUSre/8/FjOFJmD0+v3qBoKem9GXlYLSyLF2Uzzklz\n",
       "sjE9SLPfsNnkkMUa1OM+CMoN4QZRZNB9Zu+F0kgbICwwJXBMumGlcb/RORfAnxunDyKKDuTYa47K\n",
       "JOK5NBcRo4GBPa+M3XN60L1TyI8ObuqEk5n+pr/zSML7KzJResYQpd/dUomAgtn9BgVhMVrQVFKd\n",
       "9dWtgITmD++13zWvLlL4XQc1WKo50ENo3tQpnsoVHG5XNvg87pGPoc5CUXvMQDCJfaaKgesQbtTG\n",
       "DlAhZWEQQsn6mb3FVaKRelIDz8qdexK67jiC4WcCHPNG/wKBGrgcoBthJfV1C7NieXdXfVJn7aeS\n",
       "GF4lIQPcEt8fKz3nxTPwWS3jGM0DP+TwcPPTQSDxidAaOZYtUiWcMq1uRoQmLyiUo1++Dk+UHqVE\n",
       "SP8+3G2IeNHBdfxpfEzw0sjuRUrHtQe5s3r/ammk2oUKizpSF5bPqQAwhUE2rExooBKZPSTinYjw\n",
       "cixGDmtBUF2+IHsCyqyKShPaJOvsYgkMVpBRkn3+V31M8Tok/kD9tSNJfRCZupfnHsUjhLLhuy4n\n",
       "59/GB7qwoHijra8TorrrCtGtk/7T5SPGB9yBBTL/+wKIiAMdy03xSto0xkZ7AiHb2QRhe56r5YsJ\n",
       "LG6jVK/dNGN7ErGFkF+4x1e4N4s2s5LSwkmPIqgDhJADsRLP7qRrcqxTyw0p4S4AybupoVFe6Qih\n",
       "rc0i0AGgTL5Lyqh/M5VThtWLQfmEryPKMMVfRIGk3EkvETOmJ1SczFP1Gu8NWeEwJz8Ydjw4Eal6\n",
       "3R1y3kBGOG64yA95WMbk9qkEkKg2H89lFIewxbO3k1R28A8T8I3mIufKAhRoFWJ8HjNEeb7NWKru\n",
       "Eb5h+Tqxt/D52aTDM1Uj9OjieE0xJyOPITwgU8zLhJxgqIlZUAHnbKHMWuX9aAnO+tyJDE18ZKQa\n",
       "RSDQkXGBqsvvZ5YPql95U19TnDeWQBSUGPqA3q4qRv7M0qBEDeGTSnVoDEHNF3UwIgF6+ijaWrnv\n",
       "oFvcJRXVAhXQoeEBpeJcOKTAKGIti5Y645xW5Ncn+H0B/8nmfoNKJN6Y68dv3aIXBpgH7RxqsHdX\n",
       "/QMPYpYFltPQHyEA45Y7VqXIdeVzI5JH9mvPZdTkJAZPpIWzz3X5JUowlXQRtOS9bMeetcx9hn9C\n",
       "rwMFt7mHM/u74PhQqEH2QcWk9BIcg2rihlYMRepY5vDAPEIy0v0QBpGb8m3LiDjGZuH1UXEMaftX\n",
       "WDHcAhQ0eLRCQQZnQlejkNHLYWpEMT1bzcA23D5r8NBqc/QuCnCK1G61LkCMJbOU4nO+6St+lwGe\n",
       "DQ+p6P+qZMHJOXTOFVOmv78f5zuGwwFn6n1ektSt4R8Am4Z64SQhCLL40NW6rokVMT8bfVZP7tTF\n",
       "8g3uuSDvaISLQTilaHydB3malaAbTdRlcw/ZgwnOf6CJeQRGFSlumKvqOqnFBGYEK3Msjp7gjBfb\n",
       "uuIM1FraETqkUUtkA+W/bPvpENKywd53WOpZ2iuKhvo9OjIPvLhvHXQnLP3vh2qs6VfaCGCUabOa\n",
       "B3ejmv+qYBO/8FHm5YT2a2I6/dBXKIXAoaG25kdeE3UfJvmH5RfO4mqj5NbP/DKHjEgHrllAs5Sn\n",
       "cBvfgKtcnd5QisxECj56VzdrEPXlRVjO1eLoP7v/4EBK16QRO8UqNCiphiet3VWQH636p2u8gna+\n",
       "9giQz7Wt9n//n10NMEDYonD5u4ZPfZzV+HcyE62uhvhHMS0U8aLoc98UajwN0bpanWQ4dVTw4Hty\n",
       "qK0XtpzBhUQRR4+aKHlLhmf0W8MfWLAilzkvU/r6fXFISSU7t6fz26O1jgQouhbuMWCamd+vwr43\n",
       "XTrwuebu08TpV/1obj+MhDqf1Hl3+wJMuZbrrGCtrhsf5xJMb0lH7dJyZVCZFj6Gv3YkTsVB90ll\n",
       "Zrp2mIbv5kdviaA00L+pvl2q6CTq5C8pyspNvuj1H+cYVK5PN/fP8/Ek2tmoHM6liTEiqhfue/Tp\n",
       "CTFgO4N6u5BABSseEpDtSz495sZwa6zZXBhmO9A6OpzSe8JHmz30o8qAe7xOra27xZ2jbPeWNmu3\n",
       "Zd02lUx83aq/XlcKzEK6TukIuFWprb/5EskPtPTkkva+o5Up8i5ZfTFAYjiPYEpBII7seVkyn5xg\n",
       "Mp32sxTlD0XUfhn3FeHps7X+RKezEFUktoxwGLaVDL5iNMvLOlmOC7wjFx7egvRSqrXk4oBvxG+9\n",
       "aw0XmH5Zj6MKzJ40ld2AYjik5zHxqvD2W+HFdPfanKDK1Z901vgP/idj7GhVRnsCFGPQLQdc3Uul\n",
       "roL6QlxX50p6J2b3/bvJwNbiuAgaWqAyxzw8v9HRQnq1lYY08oxB7ZMPA7JQfTxufpLo83PEf6u4\n",
       "ZcBKjTqPAOB0jzgdUXQig/Connsi79U8jafMrFdL2pmD3wOu55UpgXIM5/HST/fyXXfy4iASeRGu\n",
       "FYca8fFC/4ZCeUIJfxsTFSD8zlqYW9ey8WbF8mVSm2OS+AM+jxazIoH+VbgqavMROJJehTiTAbG8\n",
       "ZhRTibSFPcq9lHqg4KX96idGeZKGlf+K/ZqDTmBdyz3x+kvqPspb1f+e10dMjVDef9LssPQdO/IV\n",
       "332UuiEAnndsmv1rO9V78DRlU25T071uwS/ZySkkQl78uk8bmYcLf8graqomP3xQxHFleMajEVOO\n",
       "hkP5gZsh2URZQ6BbHrgXwFA5VLraqsVF0NI2lMCKgQLgtmjsW6LlCniwz5V6iomvvmcvrvlNdzpw\n",
       "G/ptxKDinB6oQ6CpW/ngLS2mcQHqRNTscw1N0/VfqpxILpnrj5Ipu53A0oY4YzpNJUY05lDwkjlf\n",
       "IwKjbKcwJ/h9qiWwZgnGktS1YpMpkhdB04jVWYvzWd6WX12gK7yWVseVHvkJC7+TIPN+Wtu/T/DW\n",
       "8Y7haGeUGmQrffvcE0JPA3PkBexaoPZYKPzF/smV+/nH9RswsLRjJyRx1QbpMzNiK9h+Jee/mjtG\n",
       "T/V68zeLEcRr9Jyv7+1qalzgtLWRqY7JuWs0xgWyu2NHRntdi7J7ezizC1abYtTW8JKUu7bRVyHO\n",
       "4ak6Hv+LI/vNMnnTwB3Ygiu3PIPACiFpf6yizGvhBUpLXdkyyqaC1rsbWzuTKe2yhcy4b0Sr+YzW\n",
       "b3K/BTD8Ox3QVE3gRiLcffCRENYvn9lbjroXo+/oSELb8Wi6rJuDfphFS0Eorere2ITd77ZD1svs\n",
       "+jsGvixlgMoVsyIwK3r5dim5Xr0iLf2S80PktBY6qSei+wU4CBxnY4R3PDFBACsJvO+btRygJ3j5\n",
       "JPNAYT8ye9wPVPIEZ2dG6Ory4Je9Zb8LzKzV7dvcaIRWDxjT9iqZZ1bQfAA1pO5OVMM6RZL2G1m9\n",
       "8IW/RH2jBVSILvwDKti9O56Dst6DNusMBWftPxFjCBiiRJiCP7ZuccCPEJIvpGLbkpSZgWfVOJ0E\n",
       "wBnktSo2Vy8YvYbB5Ts6iQ1/SVdbJeUmIfAwsU85gMAKE/5QWcYQilnU3ypgjtHSXHfQBRnjvH2x\n",
       "rMk1wI4vLRTV5aIQK/raUvzIpTgZ2T7l5XnVlBKbgzpgSKNJddrlX5Mo66OfdRf0zZK+jLoohzVs\n",
       "ZdFXZfqYIRyzauamM82/cxHbeUS+WkwkkaB7gmfJfgA++WKZBqNx4xOA4K6qvLHrbKXT4/+SbYU+\n",
       "t0tyPF5GiZpyT/urtgdpwqpUQFW49A3W1rsjyVWiRCQOpSSI2hZVvfzPR9L1QD2NWUYas7qxr2q8\n",
       "si0cFloypxos+5FPsTLn6ZS/xOt1CfNMHwQ3oTnxRwhIbsd7lv7gYkUnixynToarnXHWGzgmcgm3\n",
       "F+ZdheCHwJEtLVjJaq1nxS9Ybxw4ny6XpI6vtcOTF2ZCypW8Ak7jTGqrCNHUv9AdyL07vZcOenFZ\n",
       "Ad4Rr9uoBZLwtYzUQjQEsOr9e3KtT+LseRu7jzAUJb/bpFd+xSfYNxk/NlvHpgGbBU6OeAdEeNyI\n",
       "Uq7wH021ItykHeWgiuXs4XWUGY8D4cMxxcAdviNjpJj4iYJIF5KXAlRzxoX/+uqj6UV01+WcorNl\n",
       "TtpzmNBGsj+dBR3lgcqANZw2mlPnIQnTRnmpzF6QkX7UbrDjeUCMyqNz9UC/RBlcMB5bFEIKvJBS\n",
       "RwJzknaUFR6x9LGb/6v5d/kS/1rsFSvcY5hP8prHQxs9dHdZHJg0U2OAZngvfrI1DQHWItnQ0x+z\n",
       "NXoka7RGeWOP7yO4JdeYUYgjCBeTpTo2oklxEkWcls7BWs4aBHoTAD4z31fIu3JawpCSdVRK9N6a\n",
       "+dk6PXSDjkMY/3Z6eY3EAMdJm/8fNHZT2f77HkT6gyNg2266RBgq0PQKaiOoziCgWiAl3n+taMje\n",
       "0To9kjXXNKdeYmwrgcR6hh9gHYCqlNH04ayeTRt/A0qm4J2wRNVT8vkr3YMYHV7dcMQFl81D6kmU\n",
       "q+2EAZVJIPStJo2ySZvzoliiE79xhqlVQWePCKOkVc9D3IYnzvMssN2xbJnXWe+KzteAArC8/vUp\n",
       "4v1JsGXgUE7C9XOlcwQHIXZfsuOcGmHnX9gcVYLJsy3uMc4g0ZazRrASyVWfhechqam1ErnTQ54W\n",
       "dVbPukZ594rBhzqtyfw1yxnQrUxGpa7He5qy9JAObmueoNRKFl4tNHL0o8f/4fHTrWq2cdzzvCgE\n",
       "WF/xUglUQcwjngewx4rH1/EhpAgo0+ZBudiHEWkQYyvZ9Gui7LoWp1X/gPBCKic9xKwjsNpMW1qb\n",
       "qkESJ1S9c84f4bIA6yO3/Sr0HPxS0rPWdIfLTXqDaBPq7nwxtONGpvWNVIOUS4H2NwlUZ/rEfke1\n",
       "SEtqgE4SoHBRrkYENGdwJDPKjh745cnH7eu+ngb8hI6zrUnxQNyeIBIXBPOfRuPKw1bCItnuHmLr\n",
       "cX1uq9aiUQsl4Z7da0IEDW2Zkh6B4luTvgkKeC1BWG+TjYqNddaEHVMbvQSNQ7olqwwItN9nmHXV\n",
       "VZhXLM8nLsPtrnqq2APU2cgu3fUYO49p9pn+jjO7NZsrgv3QM4ZP1wyQLlBxi8kMypOmIVajvCa4\n",
       "qWQAQMdi1YF8DvizQDKIE/xfkwTnFJuYRVBfAJP5HER6GSWaOnK8xpRX8zI7ui76n6AbanTjPfnJ\n",
       "Ok8MVbqPyLxN99+riHbBcN6Ofh/E/GXY51PLEix8HEryZLJ+nIgxQMT3wkDETJXPldrwve8xhFDR\n",
       "PeOYxbob7x+pKoALn9dTt6HYm0UPPxmv9VsIgfI7um4dlZWacqAdw9CPE3QXVqggHukYik0nqhfU\n",
       "nUqxQ25HLbOCuk8EXHF/98GC8ovZErnDM0kLds5dfwPkjLfVT/AKHqDt6cST+JAwhI38rd1iEA6r\n",
       "A7F5nOfpGQHZlEV7rwnilnzw9dAv8T+VM6wZIeBofXFGl1hsdu4XhQ68VGPRcCPgUkqQfovjzRaV\n",
       "0oW+7Kg//uHlTkNZjhHy0MJevilu1GmFq5Z56lNXTQS59U45kp9UM5UdpSfQ08Qs/cGBxUp+lgAy\n",
       "5dnN3adP12rPQV1YeOPSRO7quV0d9UPNcdZNEG0mFe+cTM0FirarAy7BTeOo6KyIMnGz3vjC9I4h\n",
       "Tw1PpL5QDmSEEEfK/j9UtdMb7s3+Y00fI7W/Z3xZ56wfdJ723asY96wiZLm/H5kVXVaZPfzGR8PH\n",
       "Pfk0Ox8GiOP0siSNtJKMnlIMWV49bgL/T7ZCgxdOD0G+fTyBbUFaS1zSvrxFrx7dGhgXt1jpSrXu\n",
       "lfzCQ/fuBqJEdaKi/dMaHR6aTgX790v3hP5BH3kKgM2VLdOu8q4oDhbBrXyO663iTGfeGmhwkVdy\n",
       "VOiOZ1mWdyE2D4wz1lrOG8JjgTJ/o09L1K6Am0PmUMJudphBiGTk1C17yDm62S7kwTf/N57x01Qz\n",
       "A/3z6N/mQL93/V0IXocgKBPjk+pI9z5K0QJzZnQQMe3mkV0T7PlF8FKiD9HGygHNWsHj/jQiNSCX\n",
       "mIFwDltoGaOrJgHJ/XIQkJdsGZ6QCdNoOD6eFAJsRNDqA44c6qMT80ft4okyt0SdbRT9sJXGszNV\n",
       "/gn5Df3JVipd3ndIJWzyIeCBAAAJdgGfKmpD/wAAAwFQJmqtB4D/6ABqi64UBnPS7skNrXnGVSfs\n",
       "5yVjjQN/8CP9bGAoiTRW8pYeONz0Vc4EKNSn8iyrr6R4t9WZobppmcBTiRunimer/XEBrBLL5xtk\n",
       "z/VKOSHzkgZwaHFJaOaBCUoZ3/KqsbepBfueSnsEVz2II5nkI82LFcyjt3jybGMKroJGy/I8FKRj\n",
       "zPfNKlqbJz9SdGT0CsEuT7MMvBEX7qy5KhrKjPWGbJBuTcXEo6566oM1dF70ilERMkCw6xAF0DYP\n",
       "d2ZoSDli0JE68b8MtWPnkr4vpFD1mw0y/n9KFm7UrdN6n5boSOXG6te0NDlxKyQtaDFu1dQpcuOA\n",
       "yrpsEcv8qfS/4MmZy+IeEjnypaDICeggUcisIGsTdhTqg41lBXUkqXf4bXaGcHkFDWJXlcNDqnTT\n",
       "KO/oco4QuLK3qHLDgrHCQ+DfsTN6HgXr8xoZtYkSEDbcynlKE1cTt1OqAES/b1hV0yiyNYNSdr+z\n",
       "2RnPvFRwX/sOUf0NytBTvkgMcB9k/Rm05O6gQKoL9nh32moXSJV/aQHKVRMZrgSgaXUZlSRBrxTF\n",
       "oPCq1YXnyNu/kdre/BfiQQS5p/2MSFlTfevFKagQPDnOzSM+bVmmWgFvC3oeWkn7sXiE9XN9Et0c\n",
       "T2+rP+vXHkpwTDzRVvbGCOEitLOCdB8qhqJ3tdWULljuWBFJcrC7Jj8LI+d32nZw9q0x4WsKh5AD\n",
       "gBFF+TKhO41xWslTOTR5EJagC+6Wri3EKOei+RCO/lrEkHh1Sl3r68yDkrHJ5oko8HTnVR1+ze+i\n",
       "OFAW1NpLd9eABJt2kDfepHDkr6v4lPohoygE1uJeNj9d7s6JRPltwPXQBLBK+9XTn1UWVJHyKKnn\n",
       "wFnwMoVCIkOFd8tAW2xogOVymFnq4wS/uEPNLMXZ5scYTtgkD8VC50kudoYw/hCBkgM6ZWnCPBPE\n",
       "KJIIlMO/2+9b7O77/A6vgLvbzx0jz2B72mt0eRF6dnbeAm2DGlkXArmrNzSSNE17B/f7tlXPqQaA\n",
       "rqlNeiPoRqmWdneUTQ+aKqewrXamYWSFqVX6Sw4QH8O3NsKF+YXyIrOZ7t4xkoFj3CUMJiSvBZer\n",
       "VDgm4ea/J3/yvyUY7fHcy4XHvfZ+drTBfK/zVsz5ohE12r/Xboahjp44n+kvzZP+zMVWUeHEzUYo\n",
       "8SzU/HwDIZXqYawaHtj/oshBtt3l1Ap5X0DOPkDw1OnciASuHK3SlBVDmZUjvsUF4qUv+O5IecYt\n",
       "pOgCQ4nOEiU+wdVFPdqGDm+yR0lnXN00hx0pvvl4i3Fv1ENd6JIWUkgvLKObhu8X9oDhqJ5GBYiL\n",
       "z/OCzyAeY8p1JdBCKUJXigBRDRlt+fIMp8N7RpLFQm5whi60wsA6refZU5MBD3SCeJgzTVHBEh76\n",
       "fc+lIqj3MBMwKH1aCDWS7eAuFwT/MsWfCHCN6FjN33hLy2QCgWLB84z+ekcf2dRqVIzQS5w3VwyL\n",
       "wVmN1BGR6jG8MHj+2Bo4sGpoHu2zclIPsK4jO7XU4fwuYh5zloFZDWMpkQZ+BoACHfdhh04OQSdr\n",
       "sIorNMeloHBvQqTl6j1tMeCjxhfJD7r6rxeh2uTsTziuRe87vy+hI/zAhTB57Zo/970HyMYx85kQ\n",
       "67GiqTNw6rIOM0iOMZO/3Iheezc9jP5nG6N2q6TexPJWDKwxwPWdPYTDQZHhkLCXYpnhsiXayeD3\n",
       "Dzm7mWue2k40pHKY5h4KlfWV57quVXyssoOfRhyroAcEVagRZZMV6FloPQmMRecDBqfWxufZmy/5\n",
       "1Nud0utaFj//fUBo0YjUaXxIgGfPYipZ8BSZ6ltT65iccAHuFpVoANHEQ4HjJ3oUgWxcef8pMw5I\n",
       "qLZ12nB0pNgwoDMkU0QQtvRXUYt1XbMIEck2yBlfpLvdDEAVCtv99zGzXjCvxCByjwYRVAEHSJP3\n",
       "+SvmaLRnqV8Dte9XR8m3LGxv0SXsc77yBbzOU/29aowgVCTSWCUB2gJVaREdJGxni4XimyGfs9/v\n",
       "rFBu5jKqGyEth+fPNg60rCLl32Hg9Fe2vP8gMpvuHWHJGgqxEUgLOZdBsnqNi+cGP1E2CZ9VPtgP\n",
       "mwMgMse1RcP6p7LN5PIYFs/nx+lvHgAB4iwWNcF4sf7CH7TiXyGFdUxqhnNhUjL4p+GCtVgY1F6y\n",
       "DB1bE+RrRHV0zqPP1MyUhDzPfle8h8AT0TjmVIMBCYUXGJr3S5J0jR5aJi2GfuWzviHQS7iDTMy0\n",
       "XDqeWLCn0xhZ/+eQ8CqoSEjHfBoVv7bI9VptmI6hka9m1c7VV034b8NgwjIpwSGdIrBRyP883Hws\n",
       "Hne3x/pNdiY3xD2bIvO+YXWe/H7baCfemjOT3784nw3jiwkZNGUV4O2/eiOE8fuhzlUfzWwAn6R3\n",
       "37mZerHZbbIZaGljbQ9x+GIM2zRcJOk1j+LN1aaxeTpBUce0EJKpe+0h1DWagcWGF9jIIleIsZfn\n",
       "cDm5lsI/N6IfWnGD67QJt98SWckVfE8L7g+bWOia1Mh5ceUmwGuOdqm0kJA2EmBweTIyL3pvLuTo\n",
       "5kGRSLxQaWLkx1YhqlXsb1ZCHwmpgRRvabk5n41V9yjBcIW3lCfCJSK9FSGNg7gXMtdlDXn0WYZr\n",
       "eimArG7LBGKRwcjcBflZGKJNxTfS09ioW5+Dxh5hnxNEYb+7IoHIJgieMIt/8N9meDxu0/ioIGoQ\n",
       "xhPlU08U+FMH/v7QrXfVJuHzf9t3mlsCKjppyZ+PLnnaOp/oYbppCEkBrUWgDr1EJ5yYkfnOvC8V\n",
       "2Gtjttq7H/bWR8TWUdO2Mk9fQJGip9P3IEoLIZ57/LcaZfFBbSevQb3UFrMrFJCNLeVr7NBVPIMn\n",
       "DNh5sYtD3jXlx4+edUU/Hg4IP5i+5GnsHO/oD+N/sC2Vqq5JPKbIELh3GVFShc9dNTGuEItkAKUD\n",
       "yaoa3Leion//yOYucYxQ71Cld0OZEDlZu9ag+52SupKqJRtJgpx1KWOq8YVng5OXZZV/eRhq16WA\n",
       "VhRn3coEmdFL9QjaXih2qbRXdTMyKtd9Ht8Hmk/nw0PofqNU/afndOh8vL5Gs7hjBy7TTgWjYYOQ\n",
       "keogbT6qKCIiob2yiRaTqhO/I4Yli/cty5N24fhssGnulEtCcs3pBu5cEl2ZtbTA69i3cjKhEyt7\n",
       "b38eKEvjKBRK+Z1zu2WDRWpbKJlzwU7QF18fqx2CpCysMf2VVNoAWisl6EFKm2AABLwAABdiQZsu\n",
       "SeEPJlMCCX/+tSqAAAB087GpfZwAX2pORUInlm8+/r2qs7trdR93V6HQ9kJTTI5jPdGXRPxZUKmO\n",
       "ZSRd4RcDVv7yWZZsLoB+arpnOzVD3/TB+9E1srZXJs1b91eyDVZDld4S3Gh7Xd79owLB3yyzNASn\n",
       "emrV/qMQCeRb+kYNCaGvuMS2n46R95nLv5GescAeWZQaqqs7BM9Dc//c0eBc+GxFBbfwwTd0ccdx\n",
       "LyHcZbqZAVrYzFjUs6ZFqByR4DBdEHLefJu8+QtPzcoPxCUyIruUG+EJ4BHnu3lMD/80BlEkx1ud\n",
       "cbJj8TfLPS2rmTv8vQNglbDF8G1z4RoWCF16JY/+Iu9G1+/b3SuEHVDMwJ5v9Hyhyb/69VWltH+z\n",
       "jGytnQiWAEyiSecrJRcAR2GCED1VOS7Dx2aIVNso8STyFIBODsbaCmC3c/oYas9SLhfPF9WHY20p\n",
       "R4a/t05B8dxvriiMiqldM0f/OTD3ZkW3uJXR0CQtKzy4nMhhiWpawKm9V+SgUIrwK5N39R74iMsT\n",
       "dDnrHCo8tFZHJCOkvkxt6lMZXdeKCrVa1KFL2LHSb9ocvBYBbxxdFGR13QWxtwjcs83j+79125JG\n",
       "fEaTTyGNCiMiFAhWsrl+3IMAlOb2OnhuokZUUWMxWpMTVsb1ZVBUvRr5Lyb3pymxk33sGki79qrX\n",
       "HLPJLVCVn57D5MGurX0ic2q+GJo2+Hc7Uxf3GKENPvSk3j30d7kUVbA6NTki07D5pcnBMnDJ7hM9\n",
       "Z55gy0VGz7Ms23ag9K/VVvUvB0+nlIIk+KE+GrxO3nqlqkyedtsuJNb9HJaomy6xM5LM6mGBvvG7\n",
       "TEyqFkz2kPCLOZSaKoSePEPmZfux5S2N6PiKVVZ7ipzlY8wuy8/hblU+ANXDawTOHawXXGVo5gRX\n",
       "s82RuRas33EoaCgc/u0DIKusVlEEmq1qbckopvrn1AUVuYUulhIHOFfGyVcwwaXIORhH1vqt91gc\n",
       "q3w+LYV/jgEPUZw4nzgxnXZW7tvZcVcPohOLZSQAm9q0rRBHayZD0dhWTE/yEJ4F/26xQfPuv0Uo\n",
       "hPFdCjSdytnmses8fdB28r6JWl/mM8JLM5jpw8ZYl/pi5VTGeqtC/OQQE5fCneVFaQXAKuRa4y+8\n",
       "5ViW9tZY7YN/+nS66ndt/fCDo+WwuaZe9TZ2ruYKLwsJLVQ2Y7rFQRbFq88u6oVcTbsbw5tgfT0Q\n",
       "AIlJyArneLNzZZskADi5/HkOv5LTXE88KoD7fyJjJDEEJCMyLpKklor6ZZzKwReONLRn3aSqwdTn\n",
       "B/XoJGPFh3KsyOT8JFC81qHKAUdgBNcdEnv5HSqrvuqovKulPWcsKnkyiCTaYL31oTwb3ySZDwRE\n",
       "+5coaYPsqbFaqk+dXkB/miNKAb4rhVyWDU1cEFjlb/uq31CnvvehGGM/v2RbExztBmmj9wWDonTp\n",
       "hg1Qywsvv5Pt6VmSHD7gPoRDUK0mPhJ0GX+DS+7WthMzGTmheuQuaih5OS5W6DPO+tx8yy5lWAAw\n",
       "BLUJqggpsAvxBHUCJVRRcYo0hDUu+ynhRI8Kk9FH2tr5GdgvnV2K3H/z+UrS4NT5ShkzGpfvVDWs\n",
       "kMwiSS5YHlepyfj+V4433ADXgeSsmfXdmgnHkqy364YScFX9zZA8GdQ+eYOVeDCijUbKvBUL7GS7\n",
       "HB2iq0tHtQrCePlwFGUt6uMudQllomvc6XPdPdLegL/ID1fk+WmSlvnSuGrHihoYvlgxK9HVSRed\n",
       "qt6dDUl1gHr0vAMVXfVDT/brK3ApELMj6xdH07xMqevqLaVISITPg7Tfvv3bXe248SXvQ/xQ4KrV\n",
       "SUzMjuSADtUX8HrxHhYg+yux+t6L7woarb+lnON+8JQfhVXPgYAZuZNmZmw3nhrZzqeuq7xPaqby\n",
       "GiV3MjZ+miJjHO+2/deMJetODP7qwyYEEiwCX7+DucA7NDeu5M8P7uBC8gYhPySaBFTinigKXYJq\n",
       "AVDo4H72j8B6fn2/IDrffyP9nn4NTCwqb+lWOQiv/Hg4apInmndpg+8AIKWrBOUo+0LLiaDIyjAW\n",
       "NUjqbD95pRvJfdFw/FMaVLzsS8dBUAse482vwdbe2KpaP+NXmfKU4bpgD0iDZf3RSClYltyikX7G\n",
       "IlT1A1g95xJmyE83OoIdOj6Laz05ABRxE682twCnBcsOr6mpWkGi1ED1KIbaj2PsR8fuA6fddco7\n",
       "36xVCApqjgsy7ak9R+/xVnx1HtfTTAPY5IrA9WXVFekZlSNOmgbqmFbdM5fCjqkfXdOQMwuoVFqk\n",
       "Y5rsHt8f8OoswEI/4jkdu1DTlT9LV6SPTY+2mGFDXNadV6z6dEDLci0hMc9ED8WALzwDXbo/Wyzx\n",
       "6Dkd5YPoMClKsfZM2mk8/1wZ0IgqRzI13SeabLm8KOuKF26ttssL1AJ5nnHKrpkc/dBmbh79UNJ9\n",
       "YscrjTjDMOFL8WOuwSq04epIRN9Dm/XsU1oEMLAjUFX03qW1hlSeBab4442pTcQ4ZMlrrLviQJ8n\n",
       "PYr0vB8kMsHeAFiwn+/hDAcqqP2oZ5s1+suB8kc5MWFmfWSlTGXMjxb/NbxoWVAszDSt7fRqelmM\n",
       "BLrWM0T9OnHfe8hMoYt2vorqWu4Ik70kIxuiN9zAwHOzacSabhKUqHsu+UmzZKGthp3ihVeFRdGF\n",
       "yQ8CRFAGcK/nci37sx8lVQWWkGsgFLX/fMF0qfD2ugNrB1yWd0MSZQ1VO7sASslfihoG2BSDKHsj\n",
       "QC/QgQrRsbypG26uUWD10xepFpIVBWf/LvTrzg4vYN+MTGHDoXHQCDwfR1SqE0SwCb2+51Nz2Xi2\n",
       "589SpmgOoKFc8yx/6P/i9s3h4Lf/4scn66bsQ2VoiLlbIQzHI1KoMx8I7nrqlqoJjCRvtCW1tIS0\n",
       "Y7cWYbiQPd7ogZ4Bzy/V4ER8pWo1cL1z//rejozi7fQR0bq+Zo+KHJpEEFzTj34kvZ6W1luG1YSx\n",
       "4RCAhkQtC1LCE16CUcQqFoEllN0mYW+Il421vl8psJ3RA2wZrQgi0XgVCyQLxQVxuV6qdLwv46rL\n",
       "UZ3Xx4TM9RUFToDHdlbxoCy08Eby+CJZ3nX88pkdWW0ig79xtwdp/Pjgx2/Ef1GdAVy3D3AiJ/oq\n",
       "BXUUr4BsTkx8QTWW5S/2lU8/wHJhG7bMtt7AilDzRWZ5b1dwYx5t6NPVSEOF8nHk18tGg3zNLEGm\n",
       "URUsj32fpPMorc8VdAdVMYdQ2HsmqQV8K+xAQPyy9fgSXZPi5FgOWPkObuN+b+3SoGE7dQRPqa5c\n",
       "y/29uwm0/zYgKoID1H2ERsgNkz2GNsWzwMKsUGuIjcfFUiXnugruQkSg2FFGvkb2hx4m81O3HEFo\n",
       "QPAUaeLLpPd4XZNic/UddOVL7GKZWUmuypy87Ci6JqaVtolNstdUJuswn1/5crETKVYtTm4hP+Md\n",
       "pc/sFr5vCQYJuHBtDs1dGOQcCmrBTgv33UZlIPZdjvx57lA+ER1jWn+mqerGCPVfVgOWbVe4UjS8\n",
       "fMrkMZHz0RMjHnuV71J2TWYx01KPFnwjRfI/HtKr4s3VJXTXk38ZrS5NgGjfQJAuyaKOn78bIFcw\n",
       "Wci/ytOGNapL+MIbwTVibCJhDjG5ULiClsddiE8IrzHW1qPUHhsYh0BSQgl2t9IcyPan6ipMvVRX\n",
       "Euv849D3nryF266S21iv9aY0BxJ4h4LLPtoit0MOnbYyvbKbH8RUoh5f9OeI81+0qxzkHkZTNvnn\n",
       "8sY9nv+VN5jn+jE+MOxO6VqXpFkWbAHPIin0puTx9KEB6bRyxLT/z7HbO9+t7zjZ5uq+g33LaJ6G\n",
       "pUqxN/fGer467dKdOKhEJnNoAOqi/74Esvx3xQzW8qbCmNrwk/Xh+mls0eL9tAf0tcCmZUKp9W7v\n",
       "QyP+FoTR+Gf2d1FtTqnGLIZ42IAo7brc1ZiJf5oD2M65ziEcrg8GNAypzgkd4hUV24gKzAiaAyUh\n",
       "QjucbxCECdwD+vFLw5ddjMIGPkcLQ1S2rPNGn+MytyqGtotBWOHUzarJVT0IIzZIXA737FJFp3JH\n",
       "OW0mfNnoDx6Zb1MZ3hFOni6lT9Fin6qlBbmCDWyFLNoothrcZljHkYNjrCo7eTZ3Guwk5xFD3Xuh\n",
       "op8AXT9w7e1GVjwPaSzsx7/8+dKyfMWylpsSc7dHOwVEdKWEP8zADy2ULCepqmWWHI3oaIj7EQ2Z\n",
       "s27MfDluScygVDx43oFWiqRV67Uc1QFhGR8mZgHuQ9hLN+njx4lkUFOo4LmILJ3NtrX1K9ZqCgRb\n",
       "rlw7bEvo2Uqbbd/kjGfm0paXTPS5UGVEfu0GQittp8AnC/ajiWfh2kOjDoajUaKWemfi33l1NpnR\n",
       "09Qt3aBHFZvchLFxSrlLX/UqOKxNAGH40KmhBxD5EO5q0nRKZnORqfEvqAUlE2YM+NYetURSVjlk\n",
       "8aBXgioOViPP5NuzBlg2pEa5re+aDFgECDdfbcuLNZ4B59pPQdXU6qwDZooxiq8Rmogq4yFZLrWp\n",
       "dNSLR9j/t5FLdCIxf0KbKOYo6YeDaWAq/oHdnlBG1oWAwcRqB7e9SkRgotxNIaRbLPZ6/w4jSBRO\n",
       "oj8KBdlScNUqfK0tH+V6tJi/EN0F9NdfI4RQtRXw5U034Ax2iCtWO+pKatCqpUX4W82bHE6wgrYZ\n",
       "58exaHwiuSMuD3VEF3AoMFURNuianOweTnDiecPBL+tV/z36rNjG7kfQ/nn+8lVs7rRbMCNU4pTA\n",
       "y6wxsfnyHQp1X5wzOOm0cvVJPPw3JhTeme/0In5JwAEdql734gQ8AfpwXDq+eLhVd0AcH27hh8Tf\n",
       "lGDxM3DLDB+6ZW14VXOI3zZKI5towNNj3u33EUYJ+3Oi6EG64ZaAOh5f5uGypAHXsi2bM3nmuIND\n",
       "W3hfYgfwd0iI8y0Sl4YjmgH+jWIrBqcWiQcA6jFVA/Q121EpIe2MKsHvsO9adULkkmOWHRbJs8+7\n",
       "UjU5rUbXxoUwb+fs0HEhm3e0LGsV6NEOgqvCz1RAwxx/Rp2eHWVvub3bSHG/aW2O5Qnxerg8eSy1\n",
       "S4gnt/qDnI5DRsEYvYyVzdxBNe3nxiOpUcWx8a14g8YUPzq/ok5+lRLq5ioHUNDh8cNXPOuafnZL\n",
       "MjL8gWu/EeXp+P3iEkzyuVdrq5FBNhNjpCTXVSDdhcGanfExoeEIvNtrgEtzVtnoZxwdqxgd+xAd\n",
       "5+K4LWpiu2Y7fC1rl4ojrRIUsrTwME+4Y8TI2Gni3PGJiqVzEKdjclyLidhMq61t/jgG+tMvM6XZ\n",
       "hW21ZdocIp+Ptb0yEyyAG5+4uPaZ8l4IdAmePuY+Wa5+heD2R2s5wUPDbm4iVV6BJGcw2nGccF1Q\n",
       "ZLl5qbTXK0lVaSEX2gPK7fJd/gLx4MCTbAojUMxzsSYw1iqL8lONu6pS7X8PzGYQFlqlddDP6HsD\n",
       "oIeXFdF+ABl5OffPqkhwcnvIeIheLvjf/kU01nHGARWjuS3T1NuQt/2tVK/y5p4Lr4yKHFgBx2Ue\n",
       "sy+2Ts5Ryx5qSBj2LKrInQye6ZR0xHNP7AUkeTjYF9+H04ys58xrPoDi8WObcQEatXO4FfwgViYv\n",
       "oIp/W2YxrAOvxzwjDkbKhG70P6kVKvvTzfZSPOhmFCOjQATJgXWN0GFk0a4qdksV5fUAachNmutQ\n",
       "m6k1CFPJvp2WB0Jjk2dT3MALAqFTycF++ag3akJZLNgXqERSA3ZmgK9NpcN0VtfRz3i56kOFWKee\n",
       "2FzFOaUeadSHFmZfonNvs9Ane+qPrpoIYJ77JwcYDO5k0Ah8B3xxvfdVfgXGc+QOx/7x9jMUXgul\n",
       "8PodvwaFSJDRzwshfjA9qLdo3fnDR+hfovOAmOzwZAr7aXQSRdowDJD68IiuBOrmb1c8+VkqLjw2\n",
       "ryd6MZ5xdLqKWl49WghnedpeOJWIhlgoVYIFGOaK/wJrbXQ1mkiOSO5YDt1Zc657BhELO1H6Lk4k\n",
       "pd5IWQxSs76rZHns/qxk8cYf975ANfV8A5RT+EtswouM/pVDQNs6kyhEIPrMEDrH1YTid6eQ6ny3\n",
       "HG/rIgah6PIu5NIsZB/e9Av5a8BM4aJr0iC6SQho16fCu277eoq9TlTEmWw2XmlmglX9Cr+P7K4M\n",
       "/Z6lEJlTatsEsALNm/khhmeX0rQgaHzQuiCDx3ojwIqOZ90JhYFdYh/epyTPVddQB1GW/EnOLhoQ\n",
       "3Sys40wSCGw+zjGe7WmL24LNakTIikRHl442xq6bvNej7HnOiNJKV6p6dzeYGFQGj7mjiJiaUAtJ\n",
       "h+HBNTaxBYZFzC5O/Sa7izATjNZoCEW3T8tvhfnu40Ozg2ODrvtQbQD7wDO9dCK5yQOuBqNhUabS\n",
       "cV+DLkGX1fIRsaxAK+eiNZFgzQ9NPjPFFw0H4nTnu5/Z8rV5LIihXg4Us1lS2XKee6QWsg773CXt\n",
       "Ozlw6eYjfMVPqYSwCirmjjDSu1VSY0rdbeS/b8iw+miLSVDE0X+v2NPpzU6N73VDEaxzwBIbk13O\n",
       "vf9cvIL2H5dUNa4UEqrBiHqr04wWZzTqI0ggovhiIHBQoo1B6KWHDaZgwJ03pf2U96zvS7Wfxqaj\n",
       "6oVKXCtduwU4MWI8KqT1LSzVlV5gnMDvfLqqxoj9judpse5xpN3CCzBHAxm6pN0x//74dbFkSvDT\n",
       "X5KuVTxLken8vbWvAZ1GpAjE5kaQZC6s1fL2SgnBZTpcGugAKq17uqQ/1vbE6g62uVvu3riLQpTr\n",
       "6SlideodqZ8KM7ppcqtrmtP6GUhLkQXjC9LfFeDFmhxLm5Kb42ldJuP0RvfZflDwU+4jo8j8YHqM\n",
       "diNe2I5Oa0DSVLMMu/ER2qIQ64FtLVSgAid507YjeXGYkXwRr9PQIdvMDMnkgVYDr4B/8betFNhY\n",
       "4aOTH9byOLc3uQFCJo/fZNGg6WXoZpN1Luz409ZoqEWX9vh2dU9FVsqeR84GAxZA0LqJa9+WJrSm\n",
       "BJfifRyTDug45d5ku+3DG2Q6mb5yc99/sQHqpR5/Jxvym++ORmj6qTT4QsVhFFIS8xmDUiX76psY\n",
       "5lKiOYMNu9UL5pYweWY/dFfgvxdQqSdIzKAOCv1OxHMR059i5J91HQ9I2fy3prWBQlK70/yw0cTh\n",
       "Beh4EqrvBqmnftdzZhLIfOSI5EUPk9apeyB192qEuav5A4Jhap4rY5SvB7Ipgh8+XcqQ5kf5VhoJ\n",
       "UvFNIC8Yr7IPJlkUqoBl3MqMX0vQchBFjEFMvzIBXo4VVK26qY9B/tRuBYB6GSsq26riHAUiQp9j\n",
       "Mb3Qdw8Hz1/lF8ptf05rmghtzJzCzMHCmLe+Q0y7+kQOUxoTQZh3umsdYdYoWKNihsV6vVs6Nkct\n",
       "NWAmL0hdqZR8aZEs3ppXh66PccRzoP6njWNcPlFd7v4qHkb71L3Rz4VxvYZmAbjPyVU7ijfbWNQ2\n",
       "cSF2QIDFln+9yCFgASVC/HyDln6cAUciVNn17KB4ppvT4DUtbGdccVWEMp/Dp61JZLQr2JdQTBbp\n",
       "mqzzXuV3qUwcOsAQ2bLowqY9po5ruTHaU5Xe2DUtnAH7DxD7e71y+J0+KqlpZThVHFC7ZtbuxSOP\n",
       "7PedBZWKB3fIyabAJ5moCUeeOOy8z06I6PkKgcu1PH7Em+27QcbyripagMCtE9VaD9D8WKpjFlU6\n",
       "HEDTPh83ZSyab2SfKkIcRhZuWOiQnI/gZhTR6fdMwn6up3xNULAlzLo+H5WZ2mgQ86JjTgKu6OhF\n",
       "uqtt4xNMCnQq7QT5+EOK2Q/pOWbbt0xlMG7seL3F1lC78ZcPi56WYs2lL6g/aus4QkZxQaUtNoEA\n",
       "tI3TE+pnFohUhzsUZx6NGdocGXqzU660uTJbiDcxKc60WTVjW5unD4rLgg7myhapZ1SZUnMoSjmp\n",
       "3FxDAsno3wZ0lJFl95aSyvvnZVvzhxPIJgXojmIRa2MIM8hx1+ZhoS7kibrdgBA/A+dupLx+h2n9\n",
       "+uklSzK2/kk28GLxCO8hnQvWwRVYxKlMlIatAlkJEQapIiFl1UMPbVKR/v0CELJVNV3bJ+MhHAAA\n",
       "CFhBn0xFETwQ/wAAAwCQ4MKtrS3oAD+ES6NsEHmdsvqw5lQ1F6SiWtOqpoZqtr/0ecYlgDnVb63q\n",
       "6RPZRQq8o9oPB/cRpnYJPVg6++kEZqnVCqzCwwaz5mv+ZIueoKHixTmQdEiV+ngrBLKzD2vLKF9U\n",
       "zn/LHzpa3Di3S+F132VonB+epvEJPWyaFJdDvupsd6LBRXLeTh3Q0vXCPb75kkMfbfvm1SqC5LeF\n",
       "PEfGZF0uPmbf+uO9ykA2LuUwA2ImCdii4++dXXrf55gl68sk4tAalpIhws7v0o1oxgQQJ8lpOElC\n",
       "AcpjuVYmpfOoj1AZePtdy2Qp+SwdWDhYo59DssEPhTQPXN+rK+AKXyIHk0pW+6vDnl0WbRsCzM+4\n",
       "5Pd15HglW8OU68HXhDZ6btyIAEjGHezbx9WApeOE74WJyok55/8xgP6X3e6N0T3wHtdLjyDavutv\n",
       "FTvU87O6XGMdNw/fmork1cZquT2Fnsh6ucz+jOzsAjs5g0IdoTqDWJdif1zzctr4nse2LUTeAcWJ\n",
       "YsSdap/7FO3nu2dWyyFvhFnR1IzmEpPW72JZ1BZG2+k07+1XHp22a1GmDlyXsdBFNE4oxnvi+uir\n",
       "vXavF2peC1R54ta1wgeFu/175D/7ivl2WCAeDQHDGQ3cGhLfiq79B+eRptgIP6wyNw//AABQtDiY\n",
       "gDvstfOxJbUI2xDDucw5p6KyYgXHgX6c10xc8zoDYnMuFHYdomxmB1skKmveKx2HkRUBB501tgxN\n",
       "itK3HW62ii2Bv+/oZM/MbGYw4w2g37ppt03ZGZKpW5sX8lG6ce1rUSJhjvxUWme9VU4boxcaBbiU\n",
       "o54+gFpzl5GN7Zw+Ry/cbNKp8kade8xkB/s2vVPivmmt0Buyi8fnwGd9zA2zgm+C+hz/gM2mJPu6\n",
       "qKKzwR1+W7pj+NkBWJiUnsn5SwX6DxTYRibLHUHvGa5zqJRC7i8RyvS8k9alEKHw4Qo8IZTvBAYI\n",
       "GrUxL1GB2dRyDJldz+Fs5TOoWgfNLPFzwUseP+kHGxnU4NUaQTi5Ff6CGeFdGYyf6bX/dpCZO9tZ\n",
       "BjcfdUwZt5U88kupijIM2ACKUClwDg00o6AhQNSFseLvbKuSFQffFk6yyBxBiyvV6mVUlMpVi4Ze\n",
       "xXOyavaI7JPIQsBvWXxeWvR1b1JofzK7bBPLwfxx1GlKZbP6CKn70cxiWn/kRUDgzoRf1AC3vg63\n",
       "Rm2viT4rOihh7tTnz4lQEIz96w9ZlF3T0fXJEhLkXjQWx9ngwy//8cStILlm8S3xtc+dDmQ/UUOs\n",
       "+gdZrhlhrZwOdKBVOntPCH6pi1XlR6iPhe9xPsVKUkCI0/ySW0x75mj/V8nZp4K7Am0WasviUXYt\n",
       "KOiE1B5ROnONBoahyVIYeuhFuHk10CDk/cdfTQvn287VErUFSIlLpR/nncrLRmKxSP24tWzWSRCK\n",
       "99kQNaSYk7UZZT4LDHyzPlyF8HH2iLXvoeTrPXeJAh7Vz6Wv92LoZfKrvsMFsjrq9kYx4FhFVaWe\n",
       "utjp3u9g2wdLQM3y7DOxEa+cC7rq8A+7FgFfuckxes9VEc6nhdC7r/7OEn9lenCEYt/BcllYehuu\n",
       "oEUdQfs1ud/OiHBbX8lNcdT0foscC6hmDLCCoLDqVdqdt7VD2uOzgSimls4SowioICyT3IzfXWiY\n",
       "3R9SkHRCD4PuQD3lIyrIjw6ZIaSeQvxD2o+AzDvdUq1xpUyhLIxtjAO2GA1nLv9gDL6mElVE7cxP\n",
       "X0dw7CUCdexPBZT1ayrRicjG9SS+eoOvAGdbpj/kypHMazPPdglOacPQfVE1CMWg+NbF7dTfVJdL\n",
       "z936MuGhskj648xNZO58qDeh91zElBx/5phv14vIBdyULzw7iHzd5xDTfbmoM2T2WtrBsTbpEEBG\n",
       "tLGvJRMBvA0l8I+s4RTyo+gFLSq4lLUftVV5sCKBPq/fIeK6D85rnT9aJAKocPYPw13hTizhCKU5\n",
       "POnOcwhC3FvflqLCZhEhaAeitrl27oMk4lnt0e26859ZpdQ6a72ieI1390OusmzmUTBhwdE6gIeO\n",
       "rSSqB6kzJTSt8lIdnq4GuuoMAzqACsqYs6RonOgPV8Sy5KbTJ9JULh1s51adv85/b4mutqd0Rum+\n",
       "S9bKi4nb/gmwPb8rX0bsRCLqqrQebjaA5NM5wMmmqQ5dU2+otxdYLDOWSX+n/apLjyR1//14mdKj\n",
       "O8IQDCZcqt05x39fSY/PPPXhCpl8VARVIlMbRlSaTSNEVZ9IM+r8PT/YaoefPSlHLCDq2GZzlH5b\n",
       "VhQFP3p4tbRrUk1hHyyJ+k8inuAIuJKyFphDzkSwfAeziEGbXVovz2qJnn2JB/nFE3ywCZ8iPyd7\n",
       "5/TgEDQ0aH9zLN/shmiNygFBIG7YVhNGlzj9m4Zf/dwujgyMoGT/E4Fw72lz9zM+uWAaag0zmPBs\n",
       "04FJmbb3wDB6WB/T63LgbM/G26GinYhGQM/BtDz0zuJk9ar3+DlSug1SWawSpHsc3C3eSDrlg5BE\n",
       "a0hbQWo2eNj8XtMdNhdKqyTlwiRarZqVyLEdHaj6Vzq5R/zGsUOBgtyM9aur+qc4a+cx6hMVnmAC\n",
       "f2Nyym8iZWe5bLQR568mKIABA5Yv7RJgcFK66+z2OhjOruvcJ+m8vsRS2RtUM+kKqlrE2pHFtR1k\n",
       "XXJkRswIxJXEP8RM0RA88IvuA8OBdKSZrwqRar4EsMo8rLK3KQy2g6hvli9pbXGuZOLHbfin/Iko\n",
       "iRw2v19xQNzEk+qsJo75SpAJONjIuYJFPQsp//UJTG0P0NqVkjp8Cy4VGdzeUGhgEZ4mfVPfIvIl\n",
       "6XhqlN8ikBW/LOg4icA1Iezb/hMg61qBMAAAEnEAAAkQAZ9takP/AAADAUdJ/sAGz+UoRkanAU/I\n",
       "vCGvuXgsMxeDS9b8ZhnMAIpzVOOypo09zrg1v3ee6qH7n5fzJ5dZOc9MMUfPGNVGr1jRrgqgYGMj\n",
       "SKzJR8zhRaMDhOjFmyKeQE2GeX6eWxT22UiuE6hFC/kGW5/C/03jJ9czCcynnKXH0KzA+HZ46UeI\n",
       "lSGMu6tVJSy6U4orNpusA3MkV+/erAKCddNsF1jxuyBptfds0O9ujdHBE6uS/19hOZzhYSK7y5lQ\n",
       "EbQCc84kufMfS/ylkFj/vdDe81RRZz8IE1NpGa9DWJLuhMyY9bWahugeeLz6+DMRgZyX6kQCDcBu\n",
       "/DxOQIeaAEIhKZQd+NiaKvU69mkhXkcZn+AA/DxwwyFomNQqnfwIL+C3hA9hGBzsyFCW1ryprkNw\n",
       "0AezFASvJjyIdzSTWUGamWkK2iAnBkZFuDYYtNMEqqCIxU40oF93PW7KT9TaUhw6/JwkrlR6Suz1\n",
       "EF56WlzktUTcaGiQGqWQod56SiB53i/SBTU9mIQT+Pn9owGxcNLW9aywTv9GjpGnUIz+Zr/7+ntv\n",
       "tSKtnaHSuZu2EYkfbtRvRMi3lPSGxZUot0q9R3eHzc/+KZ8uccdZwvyli8ZQt0vr8sLalyEbwnBM\n",
       "q1J6zVBXHre/iyc5NvgxVoXft1oqQ315HIqcJq6JVC3/7rhPuGtYlzrsEfGOUSwMOhXcxfxS/O/Z\n",
       "fZWxXrfU0SstNYrPye1M55vqfZqOMzkBdLiztjyn8cZ7GR9goXRH/UssmXninZjCMIAHQCsEOa20\n",
       "MSqzisyPttfEK8DuSccN2iZwTZYLqmkK8TRUiQwekT6i/uKR92KeeUB7Ql+sn52YtAxCtStJxqsH\n",
       "LSUjQ6vWl+i2MgB5yBlnO6Hp0+8HBRxcGyz9QrCSyhfaT7zu5ZoWnjDH0WNkYW9ZSZMHiyraWaEd\n",
       "64hYPhQ+gGSh6jnMKvcra/1QlJSAAbgTNlNc/W/GIu3MMVOHuB4l0YZDhB5otuKz9wDf3tzxk5dF\n",
       "OLTC56v2ev32lb6iNs6l0AnaIlxuUXlCRbriQDUxMvRMcaPuMNuVSPtGsnzbz6Tg7lgCWIpGWKtD\n",
       "+sb86wpNIY6hpJNuRmjjjAjqS6LwLnr7ThDNAZTQSOR1UblaeY1Rkk4alwkx1r1BWuXkSI+4qJxf\n",
       "/aNRISuCnUTWdmwMyE3M8KWdcOPT6Sltw5y1sFbfMqpkWYQwnglNCgK6w6vwj+tNlGV1+5u+dafZ\n",
       "BjiZAKlniaGkIwRJbhDVYaxhs/L5i4tYidWBKF5WvU872m+dgKi90Dh9fXcdvdtXALcOPonzP18f\n",
       "CqoZA8RG1r56DVRNsnPyu8xychj/4kbSzmg9stMtZ6NMcNXL6Fk5ayILk5V7Vl2YTBXFE+pYRAQA\n",
       "vgAfwl8uKn0CvYaJ+JreERF+BkQFvTLcExwWjtUM2bUpwDOwSyna7PnhWZygcJx+LJcII1lkhKgb\n",
       "av3FB+ivoHLfhnb/haKEP4iKW9WJrgoKSXi2/y+ELTPxGMqSWLG0HZp4JczOWQrGJ36islw9QIrt\n",
       "Ltg+TeIFgDz5/Y6Mor/7Z5u+1yM944ps5MkcnAaY1ur4ogiDPnd21G6CZhzGxVkEqShesi3ZHW10\n",
       "UyqYwwqEfzo+JZjnaErd2N4llHP3s37WqmviKnaDuQRKr+8OiF6NNqMEwR8Lo8bFvXhAaPqRuvmJ\n",
       "N7CBmRpGbaIGOTZlvIE7JAkIo9o0cKHLc3QiYPPBxeNFGqqVPNlWQA4LDvw0KoqjMB1BUmXw+EWU\n",
       "4c4CVriybfEWsUQGi20JsNns6nz2ZXsYEEGq2hOmZYgYuSbDvtB24nFgov+/3M9Ipz6+1p4kjdqf\n",
       "wzpgPBkhwbIoXMrIuaGM2zhGGqr4rI6icx+wjwItDLMD8nbYFB51/Nbwo0D/rkhlELcjIxE1gdmV\n",
       "VQf8DCPbqVvXm3JrwjnPVfWCO+a5sgZB6VwZCL5MMrGSFJDLmjsvzOLvY/LoSQZO7e8AaGhMEDY7\n",
       "jCuqxslabpZrb1pPKyM1ThnjUQX4a0az4mOw2rg5OjbzqLlUEQNS0rZ7EzxYvflG5ehbhTP60ZoZ\n",
       "IlJds1z8uyqlrDBEulH6hpc9v17u1wLz7NnHbwQF6GGrCR+oP1dKXSy+aOQt+BmBcMU4DqXsA9as\n",
       "prNjghHXWGoCVtoSZ032afPV0HGUh/MwxYjjBaxX67VOxEGzZDYgVipPB6n2/1HvyydG+PTCW5kM\n",
       "D8FbOhQHw9ChFvaJKvd/jtcCucMY5AY04O7Ljrp61Oh4IWbigJwDjaOzppdJPEYEEALnrmLFYzq7\n",
       "xiBa5XzWLY7JYIlZLkqekfzzaSLU3qcdUdwkoohkuqncQbKlUNm86TvikxHn2Nthg3zYOYmZYQDu\n",
       "KhOKPX53gxxRSmi9D3a8mdcceXaL3d7u+a9r8UhenB6YRF3px+uCk5AlrMUHg0Rg4uZNyT3lE9xJ\n",
       "U0NbrpuTIB/VmxpktxTOwi5ZbBuYUsv58pTRYrz/vjyj/d06HnbjB3cIB8L3wwtDnYfcRcqAmGG5\n",
       "7Q2xtKUFkxv7P620olmylm68oly+k1e1A4FWw3R32CQik3GhbbuvugJhX32cSevskDsFGHV/cx7N\n",
       "OAV3fCALA0O36JRlt0NyL9XeMvIBvd2TBEfFBzSj9X/qfQhPLeiEs/RJd+crTRzZNeUThFqpaNcj\n",
       "9xqUu5poOP5XIuYDildLvxwTVxnA2vdBsayqhNqAkpHMGvVDXvZMi6d8ZPwKDYR7WW5274zla8z4\n",
       "By2Mz/xUJJbsyDj5qd/zJPYVDDOlnrFi5orRVrGf+gqaraODapVeQgV4fuQp6w9eZFWLTeQWGL3x\n",
       "O1666WVPSRXmVldKui6nanD/zoxQ3c+jwDlnpRYxtBBoWrN2PyJoRnpT73GYSZWRQ7/ua//kRXTO\n",
       "vLfmGRBe7oFyX/I+H1nuWA0Ij+aYEVFTmwneROdJ/6IJbuN9w49mupA80ymmLKDjkjBFui8J4Djx\n",
       "CbUsfd7Kliqsu3qbAaKDzK4CeTR/9PrF86R9IQEtD5ChDOnLtpv65/s4S43bflCPUp8l4Rwlx9vV\n",
       "+mr31XNimhpLhmsAAAMDPwAAEwVBm3FJqEFomUwIJf/+tSqAAAB0jCDaZQysqAB2bh+CghfTltJw\n",
       "B5r7QqbeRgSFdTm/OMdPwHNhg+haEkOJ9XpgaaafqVXVGN4uGLS1xLLLKnG8tTsDMj8xV80S47DO\n",
       "sq2fQ4tEzhm0uF1F8+jJ6Jgthbz23Hux5koHnSN+363lh/40NyYmVnnf7ippvI96D7gXf1gPZ1MP\n",
       "3iHOkGxu4/FnmObUGfXQsE2dlnxgWzIlrndN3+rv7243cocDZ1EcXFDDu8aNw+lNpdiIDs4qdlJ3\n",
       "H0GTmbvWuq/c0wwIpukkNTIrRwtlW/vfH/SE0n5G9BwgkjTZYIddvS3JJZPmA9ecAmbpcbm3Ycf3\n",
       "sXgghlwQBElsNWVuxuuI6WCuNg6XWqRqI2NIOMXdebvPZgL5MFHVEw8tYt1Dq7oA6LmXtktN0pMJ\n",
       "bomAU9+uDaoO6+JN88s37cimzVCX2BTiaU/0Mvg9YVgOHm2Yc9xTD3YIfBFGvjmPRECcQDhinAKV\n",
       "X928yPfveVsuxXMNVM/y4IGp/2DTp4Y7slAYl+qnOCZCE6dy5BgNZZ7mIjCkqrPHZNLyMJHf7TXV\n",
       "zvPXI1gaNZfz4E88Dw3ojf7HuqyK2fAyCiUEp+6+gHaipL/VV0MfyUcYgCbkXsgtfhcnNOPQBD5q\n",
       "VlZVGqi9sF8TcKJY5zJJas4U5eUR+DDaiaabCYm+tZbhV4ouZB28DteeN78+2dXw3BJZIs4U+EkO\n",
       "ViBxhdtZ9TAJZeMtSfziwT0dlPN//RpI3gY4yy0/qHhFhPa3cUgTXPbH5pgyki1w7bfGaqwKdfb6\n",
       "4nu7YiQmmwq1IxyG+tIBdwjRF+KFvXMhVDwsw/+7ksXf2fLaRittocG3JnrX/99ioNEmMPbVGGi5\n",
       "UBdhiNjLS815EeORDG6KbtFOoel2eMS5oNp+tbYbWGJrXi+BIh4DjnBiNDjyle9OmSuQbU1lMKtW\n",
       "/6OMiINUfaWvO0LXAru/V2cqW8Hr3xNd8R5Q2UX36BN83U6L2yyUQUlooTuu4B46RgQe/DkJeN01\n",
       "xLza9nxaWUm/OI4ftvZp2+aAWvsPPHENxR+Xm6W091NRuPawrpwfmGqtJDT2DINxLVBL2+vpEr+z\n",
       "70IvY8K51/zLTmp23KSwjlQj0srK1VKvu+eHKPvwkGqALCvV65otHe2uNi4rZCQtthYEJCg/7Rml\n",
       "Xk/8eoqlAp52qb/Q1sGWUrp2BPwafYohZg9+0E7CvWEwLMJKHC+2xJkvkwYE+e+JbwMRmZ1yTmhb\n",
       "Q15FLTuUZX8rkvCzx0tmuJARcyjb8MRiNEf6Bye35rnxrv7QTjG1bPwDNoALc7H1gHwhVwpx2S7f\n",
       "I9mnvmjdj229F4VEdvicxiRnkcHL2AArfaiFFcEVC5f0ez0w/KtKwkIz29GIK19D7vjR5kmz49YY\n",
       "oYVHI9XEubJyejRyqVk6YzeTTm2FYeDusg6mI3mH34N3ABofDndQhJT3RpDjSyIRyya7I7sMVFHF\n",
       "BuGI87abbc16lABBSYx42z9V97zW4Q26qAv0hZoRjagzzh6ZdQtN5RTtYFqw/PtXXzRu3YLxr3Dr\n",
       "P53n3I4NOWALyNtW+Irrwr1qlqOXJIQCa19WJhZZ61crKJCgkXpQLV98r2ONYQSRBbhUvcYGYvSj\n",
       "DXVJPmBf/KRuZTtp1zeQtCZaLmMHQe2Jj6Y7yMG0baPc91GhSv7glPQprkAwVw4YeoXGBPWgM3OR\n",
       "31uTUXG9OAGOcVNJz2hKe73sGCgNls0rW21DZ4Bvhh2Jb/gXLnPIfXahcr6Lhldf66huN2JZlb84\n",
       "+/q3ilNeJ3l4qYt1CnstY1SiHkwZmaov3+DtnlF+BW/GY498edNFTJMppn8Sn/auZrDxmAeLOEfG\n",
       "B3HZYIOSYNfW65o8uRCyq0QuEMEafZVSjhddwVOTeCZLJtqaGu47PJBX57qHn+7W5lazRd8OVt3w\n",
       "smhuvBn5FypgRiHkB6i2S8M3BX/cowN6D3A1o4dgbNbO4qWEoGf30QkHMbIxhM2HzbwrmS3uVuZu\n",
       "nNGRPTf6TwpSclbcX8hrnM6DdAxKSyrhAVm/E+iyyfSGbr0WwLcJBKtbBvdfflW2NVr2rf37Fc9z\n",
       "7DmmNTn18lKsGaIlXvRnxgZzs++55HKBPOoGe4K1x9hLdw3un9YUt1MpqhItw8hnq6Aoo/5XKuUP\n",
       "MSCcoaqOR1KVkrt51LKl5RhfbSbfcMuNxaYBsLnZl3DIwktTCBCpn9gviFvc8HnkPhlfwLJgpU3z\n",
       "YZv/PCK5mJjHUOCjcbl0MV20jqLFIsiUgjYquUHjMZrvHD8RjM50oi4Wx1lAv/rivZ5wiCQi4AL+\n",
       "0nE50iHLl5HnminyDSp+TPwlSoJmbT2huHg/h1VvVv4tO5bEfjnnq6Uc84oJPnU0/cLdG4B5NkRp\n",
       "PVkzErQNLFYaUO+fYWlWTYeGxwNw8kxZydYVIYk8CLTC7k3qy/dyrSqvBHzaVBg+au9NwrzuGzmT\n",
       "IOPKHv4+7lPNjELkr4JqoLykvPbyYzNHvOOh2AR+3pML9ag94SR3H2KdFzDJWPiROeiovFVxRhBv\n",
       "cnbjevBrmLMOqQDgQf9QyZcF8cNWZ/0ek4/aG615dbepEXTGppArk6EK6efm7NfuCmyBTJ/h8uji\n",
       "6TGxepN4gFd/Cpq3U03uesYX3UwQ9yOqvHqHzdUMyXDEVa0Ma+BWkKQBPB1Vco89jDvz+Y29YVDR\n",
       "J+5xgYyX5Ifas/7wJnIXq9BdUghev1No/eW2eqzaqAz3FzhclwEiFowgaxgfD46edUHDagk6Q7mk\n",
       "vdD16+JxRrRhZl1ec1DeQ64p37loEdA4MlaFSA14GtPYj+uqJZ3cR5RNGd0lkvL3ck1gMzM1H+fw\n",
       "E/1T4Po0KUsltcPispWYBOKPTkStR9PQnTnBYQYdJPEtMjS3SR9vVmVcCjdvK5apt5JVr/kNvC+d\n",
       "lsG5e7qH9Lrpn9DRXvQi6eEm4odzX9K2J8+N+kjfoH8na9P14xRw2eg9Rk5wVEHfrWqYdRPLPuvR\n",
       "hThgDQiYmV0jKO4HdLSYJbKteZ0VKz54aO5kW1Ia+aiKDkeujLkILZVv7q8w6GYjzW16Dz0u7xJg\n",
       "xVeuS/4Slk960WeMmWcIR1GhIpQjQ/Gn90pK1rS8vt5GuwxvEOq79DTUvVuMbffZnbjVMuNAHGgz\n",
       "RBNAJi6GzpsQIP0BVuqzyZaEIDAXxMWdsbppyspLFrkwdf4SlvyyXjqBsArFMyugK3Iae16KcnwY\n",
       "UDb+i2e4bPnsF7CNgoauMCiC4qiN+XdAW0E3YmZd6/6lgLuKOsY3G101HYXbm9v8ax6+WtGgcK9H\n",
       "NJsZrESsPjfawxMNA+tutDXIefuY73xdaYy/DHlxFyfZod0AIRVLcHlG/qLpGLSIdlVLNByghF14\n",
       "+sBdvecrhnefAKugy8lCX4jWWQt32aNLhNKi/fLE059hNAwgNayUIKUmshtoDx4USs9xxarAcSZg\n",
       "9Rk+dcqyCn6Q97mMtd9iMGbhZXxuWYOeSVecfaksq2FyOV36TYvYqpJsDMODhhiAxXt8gU5etoC5\n",
       "i60bCtD4TferNw5v7FB8xmIOfOmul0oZfedfxD2/povcYyMDA3jZD8zC70tioIwqrJELpFLUQUOI\n",
       "u2uQ9ld4ID5ovFUiUHWX6HqgCSm7/5ScN9x5F3DkPAX8dM3IM3bCrI2FJN75U0WwwEQtALXT7ai8\n",
       "aSYqtDB1ZN/5m2FyBbAFufOmkJBurzL2phRSIwnpwZB5UFP10lvaqL9J9WHwwobxtDpZ+stb1E6L\n",
       "m8FPXPWWy4qDQtWaM6+EMJOyOEQrOAM2Ywglx7wMM+a8XGCkUbcAZ1My9gyaxNCFRagPlaE4XIhK\n",
       "z8teylmdb3Vqf1gf/+b4Ud7+FcVBJRdGR7o6RRf68NoeHv055GYrYJCtSU/ZRyzZW88UWX3+taUD\n",
       "t76+8kor7NQdgnwg8tJ0o17aigYwhGsU53VWd95kRnl1GMEBjT2rJIysckbirdWewQjFGXoIZTSN\n",
       "nDrAkaDNJg60jMnLJDmLHZVWsxc8L90LthqCIW2wNeFJxZdHCOLYPzOGbenFi2HbQF0D6qRpi7Sn\n",
       "Whhf4ZXgY84uYJuIeavqULeHuWvAu+obQ9PQbxVFJ4MqBPJIrHDto3s9PuyKZ2gzT4VSCu3wUvRU\n",
       "SyImSiuo7GYddBQ/RIARPEgJ6BJS26IvBp6D3bmkmhMN2S9GUqQY2IOSfEOfiziOc5P+3IxCs4ia\n",
       "uAOV17ztstmQAK77RjnQBXfyJ7/iRhNzvlqWziD3OzcO8CrW6tuM5Z37ioKZKuc3c73146DIg9IK\n",
       "Njets0Kllb8icwm9yY7P/6alFkYuRqX8rI0OcYOSHhfKt41Wkm6qdBrucv4iN4ot0c2ccf0tGEvR\n",
       "ICCKlfpiWzpnsNf3c+mDorI7thunCKUOhiy2OlOGwNL0pMyJMZdjPCQbI9xs/GAUWXflFnZ0TwL+\n",
       "XnO6ajNVXVSMqR116a0bvro4bCoD2U7paCepRuhO3YGRWZCTgMtFzB+z7yG22L/UI8nv8s3Gcx4r\n",
       "tbE8wAZnv+N4zK0S+FMbGMO25eFAbizDJYrZ0QP0bnHWkiYFRp2u8nIbAz+AsfOzBiSJCSxBslXP\n",
       "Y+HZ1ZOkaYCZf+ZOCDuhPlXnFkEHq/IvBny7MMSnvrc3V7GeNIXo7ii6/1s9AAhulv+kT/+1YXZl\n",
       "ulC/YaHDFLm1dhtJLkbIs0TUVjmjPe1dokXDHqYGNgZ0KRucE28LDJvLzJmoFBgKO309GnIcAiU9\n",
       "gVj6uMcCQfB/MCDFsyPJjURXs/9rphWVMN3xeX4Fn1Ixx85uElCS8rEzDnOkvilKlG9zYEP8b/Bn\n",
       "GfWnAzpubAr5aLIOgAIIzztbH7kluf0286sKknUN1xsjd0wwzuqTCcSCZ1iB00GP1jQiH0GhYO5X\n",
       "3rH0upPprANdPEl4GLL+NcU85KttaJKyH9Y9GPP9+MVLiZj7Z9gIIqGm7tRiZnhbZdEi6YpANDK8\n",
       "EaGZDRMIL4a9NHQlZwTsPu0eZP1AtvoLsQp5Eogsy03/ggXF7zv8pySOz0E1VjAy6kAB/DdOF102\n",
       "kv35+OX1ThXQc+ZF7j6AsxJVs11/HZfVmu08xcrOI+WM8TfaTYwZY2oToGKwik7tvpVS5xOUi04n\n",
       "2HfK3XDWZFT+AbYfQlEYmIq4G7bSqTKpThLybIJW0Y2GmCaqlHCliLSZlmhgox974Bz+BR8tjsUf\n",
       "qL/er3QuOpzG3YLmaVoBUEdY0V3Vm6Plb0HZ35zMEBiuWhBq5MX2KDU69oM7IgEaDQeB4vc0fK1Z\n",
       "5KpZKiILzPopkkEzFggLAa9D0Ynk510Y+37Hqc+7TpIsz9EzdYX9n27r8DaumBdpoabnXoZVNAWh\n",
       "Cdmz5RhW57Hb8C0OE29ZonfRopyhrAaIfjhxwyjVBiYPmgCzk334hNsQf+euEHnFarBPf9Ng6gvb\n",
       "z6QYQRNJPp+oDHwTap29sMFegnkKj3SLvLAZeMSE2b9nG0jTaN2aH/PxVyFdb5bNkN0aqfS4yVVn\n",
       "6cFjPL4jf9cJjzhNbASSh1cWghgST5FJqhTVu0fXKYBaDxWhC3OrRVWkfDjaFitNGk2cuMGR/l+8\n",
       "ksj36oqDQKVdDgFsH3JrUD9+8mUPMBCpKlqgLu6CLXCh/1UwWIa0lxhYL04Dm53Shwo1EgiMjDZB\n",
       "+4cJ4VIkBPDiMd+jSCqJGJAeevLdPECwNCWAQU6+oE2u6N0ZrYtZy5gte8p/qO79tXsx7CI1hNvj\n",
       "2a2p9reuIKHHKcg7p2DFGkOqT+D+8bKNNvkEPT8+kCkLqCkc6tGQiRc0aIBc9dVrfvq3uzYl1J2E\n",
       "yK+o3hDwrK9jwIlsZ3gV1Uxy55jEW+9HtI4PUeaZMQrQFZFdGNI0gpTeQuhPXCEn+ouqxl5NuFcq\n",
       "6LJd6ag5FVBS8mHIWDiRt+Uw6iGommz7IOMl+caX3yK3BNbxMWMXYt5E3OXqyk1lcwEmTVWz2np+\n",
       "Y2UCia8f1g0wIaUCHCyhotJMiQ2a4Rk2+1+AaEOxByXe/UpTgWMNfF/PzeHCGpkltAnCxnnbMkJM\n",
       "X/UTshs7BVHt542yjVti0RrD/ZRmLdFm4n+ZhWTznnz1vUN7qpNPIXnF1rNN/sdyE5N/Yzl2vqrq\n",
       "iFAXN/2JxUt2wiPfYV3oUn5RGcdksfpvvtDf1FKNbBM686kF+NWTwmPQGMAA4A4H5bxLH/HcRLSD\n",
       "bTflZV09OV+kSCx6aoH1VfZFgK66c6oJ+QfA7yqU911pKiiNQjqtLUkIxu/mPdS1ZWfAbp7DrOxK\n",
       "ZsAaRyYyaaiwppkQ1xj1UJmuCG5PbICcPhP6q1edqeBtQAxjaewa69BE4QL7tiOtLK4t6+ff0kEx\n",
       "lwVpDTA33eJ6fUMXfyUi0t5hw3JIZ0rE24CIw+a9rHaF4FWEWAowsOB3JoaVHYHl1O5V8MDnD/XG\n",
       "r3hcsOKORHZfYHvQTN8AfLeggnDVkbxIgpEz/lxd+bvIaC4Uh5tVdOsfjIkAAAr4QZ+PRREsEP8A\n",
       "AAMAkOFCPlCFBl0wAQ8dgtejzrJsNDALR6v9y6QY62ZyxpN5kew4nMoxuQgXdoFMJs+ivXHrHauJ\n",
       "D0aCFJOrAXZpd6l5ehPG/z3LEpyGPiXm8cqq26chvf7NE5FOruhm/NfWD1elwK0C8pDFkB3/cRfh\n",
       "4gKEZhEBz+2c5+LU3xflTnMtFkl3vfwlingyTH+9ykBMF48o0gSJfSNi7ZGN+ZrmRDTz+wSK5jdq\n",
       "I8yLF8jd32g/Kyb7JvepWpVRDseP54e9WINcAlEzONJA1hkP+L7/uzeNGyPTGOeIMtMF6VDmyTUf\n",
       "chHhLHh0rzZoVNf7mZGjASnqcx2rgUsye9c8deyPNK/lgGipd00k9taPdSWZHFZxkZrfQ37mmuuE\n",
       "7mnsjG/Bcas5X4ygj8R2p645kHMTnHqD5+MRQ9jygoppg+gmEeg6WgBeoTt8HG6ZqWPfvIe2/pKp\n",
       "iNzCag16vtaKrVYb4HiExV6ZmnJrmBgtbd5N6/pAyibr1X0mgH/QXIcje/lkOE1gdQ6Trn8w6xHs\n",
       "N0Fa4sjpqBZML0TG7rYFA6P9k6OkfBpXh315TjPAqQ2MLNA2cqg+DHKjV3I0hbbutLOBvh4x5Ab+\n",
       "hMQds5jlzMLGBNBK9k4x6xOT70jQoBFQgng8CX5VY/5NugxSJFJB+ZrJfDD1BUl+QdrG3f9oCQJl\n",
       "uKRz1QYHFIj5gx9HnrXlG6OotXt7OfwujivjI9E1KDLutEnBBPNgM6biiMx09nmgTPQ1ZgNz742/\n",
       "bGzclG31y/8194jiN+S+Sfk5KJbOYh9xU4T4UkY9FKlkZj1EpIFY2on1aAc3uvOrkqF8yAclr2KK\n",
       "fGKMMZHORdduGhKBI5T2h94ZuijOPfuVMvu5WJGjThzJ4UpA6YX2zZsxrvxYKGv3+VHyBaJuiVvF\n",
       "//O7AqIbxLoNLEi6vxavv6/QlrqxwmawIrfz+e/q5/XuxYtmmwhFae0G70artAUqiEZfIv4anNLW\n",
       "R679wfds/tt1wKHk2gTc9jQdtOfEHw9FPY35DCORF8n1HNWzDUerbvSbwZ0/tHJYPOqGjc8m7zO6\n",
       "tc05IDUzwsPAe5ichM2TWolsO3LcmKjr940p+ocRWQGsELmVgZS4UifuZf7I83h6A/C5LIBOsS9W\n",
       "LkhHCZU/145eS77iIRgoy3vBjX8u+oHZ9hEz9ZRz9SoSpQAx0hocRlfTgGyPSxf/t0EWPmWOHEjL\n",
       "aw6HeTcJk+4dmM1pB0DMk7d5HpGUy+foxGN4Hh7WbWrN7iMqnzBFo2qTlF63VoRmQHLGQkj4TxTQ\n",
       "4alrdmtd8y4nHx69EeW57IEhnTtZIKKW+49AaYvT+5sjYa0jTDelYXnt1CZExh5eXcEEvPS/oR+p\n",
       "LWJtp+8p6Pg0PO+b9+8k6Q07Whug4SeTt2tYVWSifFz5iSC/eV0iVL8PVGDYMKBZ1Pez/UK67oAt\n",
       "ddq4N3UocMllH4152c5Bpc5e+9m5ekKLt5QCQHPdDMbbIBpwQ9xSc0NUZPIcpBkpbzBgnnW2FrJA\n",
       "73w1Ev7teqHqHOZZYwib9uIfgVCmhtgRM3z2Zf2ZgCDB9qkethoaWSMIAKehaFaRec3XJSFJCAjy\n",
       "1G6PYUHjhwypAK8OZPjQihYibekrYEnH3wLSz/CZ5hD1QMTMpuTISQ0Vnuj4LEna6E8YyvXCsWrq\n",
       "/pLEIL/d1Pu7bPQ4HZEGr1pBbrW6ZlFPTm4tBZr+ETu1UJC8lX5VSsVMAGCSlr/wKMHMP4+m7+CP\n",
       "dVlTkY7SB1JfoHmsGbtPD3AA3UJxWzmS3p7EutIJLoJjThj8zbQwTq++7LticLACnAJ2Lut8Rrb2\n",
       "pe9hWBXiE+C1eYNQ/QNylsQD9XS3FFU0IKZtDbUEsOMFdZjAECKo5VFRgN7HHlLjxm8f0mHXy3ip\n",
       "ffGEQL/UrFVg55WGUekr8q9O+4p/71woT22zSJ3Eh873Lxc1CI5FAYgGioecmOryM+u0/tpASh1Z\n",
       "hhvVnw98sur/y205lxwKm7jx4b+rA7XpsINv6NmuLF2e9v4+/OAZZcY3vsxlbmsIlDHwcdJBYFMF\n",
       "FRpjqv99FdEDcLByGnw9U8MeOREMRvVhHMyfniY35RSg6kPxpPbeGN3KsaeweZ+vSM1JCqXxsX6V\n",
       "kiflptJppiriLiY91ko3nurQ31OuYVcE56hgCaA3GfNO2Jq8pvtN1UK2WJ/LnyZ3yMFQlj6G5Io2\n",
       "liOIMvpLnKwPBk3ehp1nREqEd14EpWWKlUGOr9nkhd8JaX7tDLPhX7HVAnhU7VAr5bB1I27U4bP9\n",
       "CxLpDyL3dhhKdFZQ1yACf6KB53DOO0EJKNPF+xvA7AGBU36Dec22E+8lrY9mpc6GbKkBujFfCqlx\n",
       "Pt89j4pcLMXKybIcCeOEh/lQeOCLZalFBrigpJ3vup+ztklEl/vO81P2zqZaOywC9X6+z9gkjCnT\n",
       "dBkZztPr5MdnxTgSvx0/4W2QQQXFfNwOHyH420h3SvvxIL0WVb/HEie0ecxb67PcgkpAFmIfUuKt\n",
       "VT4zfzm9wiH+0V6ofj4gpggCO1Ro/rzJY52vBGm2sHTcXIxe8i8KhHo23/aUiWr77cfp5D64HqKN\n",
       "RM6NhFa0xtt1RUqyK23BgwkDVt7QyvgAGUG4llr2uGuaotad++hlEI4pKmbmYSayBtazyBMhWMFa\n",
       "Npj1C4UcFFmTJxqCw3iWk8sGoKZC/AaOrt7SPxiTvsYGHRZrcQYZp9esy16JRJ1tBHxZ+c7s8BJP\n",
       "guq9WcGkGgp5Z04W756OUrwYQ6/zl6/QR2WzPN/f8bLl3yr1ZvOCfM3GmiFwZ8RcUxIeR75KrHio\n",
       "g2GzH7mm1pwTwJPKWs3yAmUwH7i5SEun4mPvRL6Oj4gXV3195JqDwgGVFQsw0KS/Idys+7Hpzh16\n",
       "MoHSOglnZ0tmd0L82qfB0fbkpCSV78gbb20Oh2Fs3DwfdTmoYb1IeTDtoT4q4oHO4l1pH3XtWtUM\n",
       "7lccR040ZOIHhiErw/NcF9Hk8ngqnd9jX7IU/DotAMgjhwewg3CJFqbSmvLy/8dbzsPpw3mT2wY4\n",
       "4SRY67yfe6URkO6NXa/0OsXiGW9sdfplRj38pka/hvqASR0qwNWrKL/zjHoTgbKVqJNJiBNJPf1b\n",
       "FGrlU1vfW7my2XNuyKqFMp3wBdvDJcoZCxg3G2vnbnSXQkBEFEQODlwXudb7niVUdDopOWljQBmf\n",
       "0XMFEiov+md4QLOKpc/fpjtT97Y1OkWj1RJnRIC67jvyB8Kk5gFTVuS3q5wMfrKrV87h1FuDSITw\n",
       "Eaer4VfYRbPfZa1KWHav59oVrPVT2SLS27+4WPqIoi+0rR/ZXiq507RNUM2wWL6exdj5HP7SkiKR\n",
       "N8cyvKi3ZMNPaf0FW2y9s81YIlystIQK24D4bsM0IKNvDE4XuECGd/RVDErCPgbhkzjLTn1IOdpb\n",
       "bGxwaskq2Hmpd/1Z+Ri+uRCIFdgIQlHgdsFlWGYuBj41S0kDDL0gYD7YpR4Q2VO76HCn9JDwNlw7\n",
       "HmLTXRf6GjiCRz1BAv/EC67pzvGr4i+aA1UWMcfU+b/DYSSHMBRC3Urm5txc71mxKvyCPjQc3naf\n",
       "Bk5TQtBlxBxac7mp3k8MiTJZIvRIszPlaT3ymWNSNWj05IrsEw2ZyX5arRJW+fJxPpz4qu4jLcv3\n",
       "/wPP0YIEu+Gi2HqIywVxEiVe1/GaUcsOJ4mVr5GrgK/qdy1KsyNeFTRNI8CY4pLZLyElNo+dXYLt\n",
       "6TMAAArYAAAKBQGfsGpD/wAAAwFC2uN/7/iwAXuLYWCAKU2qfCytX5z3Iy4d4+nhgZmPqT3I5nYa\n",
       "3i7g2791ENl+oIfGsQiHSDk+PIljU9kRkbyN4JeXX8v/wKNjy1IVxXBJ3vCiSdsz5neB68T34AVI\n",
       "lB5U0nT67J+N/JfyzPxkMYTpDKoUB2hp5gv8RgvFJSlW6ti2UFkx8avdIHGo150TMmjHIujLm++D\n",
       "/UmgYQAXmlyDcQAU54L8sXJLY1Mk/qjqrGp5Ppn63Y/YCwPaKDFCRKxyBSyw5T23e9x1zK2oXc4n\n",
       "WGokXuMDKcT1cPuhfrhAptN3eH7b4++6xRnBEtenvNOEuH1mWbsBv1vb1pdgfz334egSV7bgotyK\n",
       "JXWtrQ4c4LxEi56YqKsy+Nbm8UQN+7SK1o/obUW8lk2rQb5j7ukRz/Tlow968k172ceOi4N//zEW\n",
       "tJOTqLquH645/RU7YuXgRg77g0wmqfZInpAarzWkeVtwAOmt4E8mB+DC/zDFTlKxE8W9ihUYHZH9\n",
       "29fpCIU77RBHFF91TUUqhANnv2E37TQ5IAIVBzsQO0dRH4B71qHvfiorV0BxbAyONj1GLm9tqoGq\n",
       "ucCvAz8Cnx/amupV7oXrc2e1vhb7OWxF+hDxl8LhyQCTUUshFY/ppSNYSjhTuKuQ9fX5eSYtSoYB\n",
       "A8LHmXROog/GP+EZoq5cna5TqperlvicwybnjQlPjayDR8BgAmUvtRSGfl0HY9Rl3E9dkeQI4TYq\n",
       "ZQDKm4HBA6emj6/viRpBabd0jGxa6ZHuOTqiBBsqJ7vTmauRCqEFQfp1BJ3LZDG2e/CMCquZokuA\n",
       "cTVwZjM/nyf2ofCd8mlMqFqUWs0rejDNEulNFPz0AsnQiqVUT/ikrCLzSvVMdtHhEDdeXX3aIkH4\n",
       "rFzTPk06c19jUOHeO1L1OOaJo3TyCcUhyJH1oXk1qLrovj00rmc8ZgmmWoRy/umefWEkymVmsIKB\n",
       "AXNKy4Y4j1hTVPAUCod0ui+AhQagB4WReqTkZKR8pKVJyts842PHdyr7RYsZ8mAiYPNZTuOF5DiX\n",
       "lbnkk3h0QhrQC/xOatOUw2l6zWXZGO6XUfKqdTD5G/r0/0SQtgkrLk2ubAUUD6wJolQ67rfNhVzS\n",
       "zYO4qfiE5EmSWsMf9vM4+f7UZyGFJmYfAIX9/2mLHdMk7v7kxfLfE/KOReoBKfLn3GzdRNGUpVib\n",
       "eR+2nN2lbaZ/9wouzYR9keWivQgeHGLS0CPyNco26T5O4kiGQi7btq6gtQDg9vuTpHKRxAaZ2YX+\n",
       "ouJ1/Jm2DMT/Nf90FmfzVR81S96OZcgKpFHc3OqQ9/N9GVMcCfw09TGx0j2BWF7tDLk1ecMEBQ+7\n",
       "DLfRx3sROOa2Uq18Dq3vEb2ei1gm4MKEuEUnoy1oNwSoeaaNV/nR83EFni7eSBItjsA30i+P4uIu\n",
       "x/alMQGD/k6tdPp81Q2CA7iAjFFmdiP45ACSdZHZy1X34dvrBREeT8c5il/elZEfxJ+7MABb+7Pn\n",
       "YQJxTWWUI0EnOyXAN8jAO9umXVvOQYGUz9fx7oGVQvAZ4R54hOJ9IzZP4NltNFPKh8Ncv9CcWiLF\n",
       "pnO8mQwtERgEof7dJg49FXycV/zLt7E/PNCyciynDEL7ew5RSKLQ0Lo3LhezXa0kfgzkySub4qpg\n",
       "xGAnI4CN+FAneptVHXKE/qoSyQRuBtCL37VgYS33MJMDdSfoChoOjHHH8k8UbI+mjbj/gWox/zf/\n",
       "SafxDI4ED3S/XHCExpyYZOxcKlxkwY22fZS9b18QJmTr3kveZcGbOm4AGGIU/comfj5Ooo6K8UZb\n",
       "eA/wLxL5ZQizFXf7ObR6D7p8SQjM/BxXrXORvoJwVba8FNZCj+TOp+l2qh0WvEXvNJN9JNyh1gzS\n",
       "3L6CrUQoHkfB8tNuKEE/HEDYVaw/XczAn5X20mJsEPovb7zOh/sS6tOoAhSX0TjxCeR6gmggZRNz\n",
       "DX3+sQurrjYV3yx3ZFffDpUvhTGdgXZNF3lRyyu9ZCc3dwoFjsjGaXHHed8TkPxBemkQShvaS911\n",
       "d83frfy+A7vIlo8sO+5VtETLO/Z4da3YFGjuiJafznrG526tDbOLo57o7dMsrGkUHF1y+LkcKZIy\n",
       "jJj0W1ZpcpUIUPoar3uPtKEg8713INCl18Hf0h7ryoM25XIyNttfBWQ7vsZDDwYnaEpmLB0bxpZ8\n",
       "87lzFmshBXGJiVC1SRYBMO/LcLfmXk92D7kY5clATGeW6s0WAKJ2veuqYUspxQdzVKKwCzlMk5G8\n",
       "q6nNe0M/ZPQo1zyU5zvZeAQ30oGlMPgEmrPd7TeVLyJS7KM2725hCvEsmLwd1i1/2L3ryQ2AeZPn\n",
       "KVC8tKvz3oF9YAWfMLdFt4pnUcqE3QaD7x3zgzctECzI1SdCf4/9ePY5xqEa9Rju2v1+taQ6VkuU\n",
       "+I25oXT6kJGS5CX8wjI2AU44gtfRvqsDdEKqQ0Bej3cKrIBmobmv/Q5lU/0jut3fvjbLF3lrcquc\n",
       "PKNiN7bm5DTzDh38PXA7V2pI/nd6ijM/Q/Y9Lu20ccz5hAHLLxIt/qJzdZvb6mSWpwhKkbeIAxTC\n",
       "7uFr8/dcGPtVC3sVBqYBystNMQTFoOK+GRAgJ6Qtn3jAus7luAELsCtc6w7RBCbbPR3xFRylvsGh\n",
       "fUUFj/EhykhGvWr4y6iWEvTSgJtXhAWEy7AfclFvk1X7c4xusuUDFT8iCtDpmnNmSON+IpA1stJB\n",
       "83yCEMjXDd7M76AC/sEZqWildzrkzj9OCV39v5si5UqXMZsxhrwKAfuH7Oa88wNcIuCQF+xFvLo+\n",
       "1xXbYyyZeXuSyMQ+0YjHJF0scnpLNUdFn4zzqdyu4gwUUiy0K2nRNm+sYjtTDYfwCuU9NI/8oW3S\n",
       "J+Wo/u9Srxbu75iRfgch1k438lXEoViaxaQnRemXIYtgT6U/6VC4W4YNHndk9CGqR27SsmEaI1J4\n",
       "QVgRoum/7S4DjwhpZ4iydNDG5PvfI7WcwxdBCGuGcsG2xfNFdsJpN00HK3rcxCAanXMsOMZaksrU\n",
       "izB0IjXaCfWGjnzftIzuJSimesygoCkeBShcLiHDenuQAUyldXd2PHG3gIVFgjSm9ZbzlZzDwEA7\n",
       "FnOYC52+VlvxBFFygnFZDdrs7KFmEC481vJWMYPrUPZrXmuyJwszHlPBKGA9XuVJRPMOvb7in7bG\n",
       "roDZHaWlamfp36P8n9LUlTd0zd+ljl9MxqetwDQM3Oqb6Jf36CmaqVwUg0cxHsX9ihuXfrx0mWJA\n",
       "QyiAPlKmISOI87BNJZBfFzLG2Vr4mxTEmgDoAjlJXoJI1pUV+5JRP01JG6w1F/N5gpHPKd0RcBXt\n",
       "zIqOJApcxH3VAB8ZzhlepJWMmggqkzXCcJAhU1eeFjM6rUvWus0rH4zo1PLPlsNLbKW9zT2704PS\n",
       "ECSXqiguAAA0YAAAEUNBm7JJqEFsmUwIJf/+tSqAAAB0jMllcjk9gAdkYTDvEIr1RIMr5qcpqGDx\n",
       "aPK+tkzlrEVXZ+cSYjSi4w8BYAdI+nmBXNjKGPDmMD80Bz10HtN94tkROEIfz+3qUL8ALSql9xsk\n",
       "b7PmxElsty9WD8gP1MIWEFa4K8wEtRLz0DZsvazAt5SIBFbNqtwNRp8S6u/w57KeAKIVVorT53ka\n",
       "VjM2lIAyr1P+NP8tXDQsiRDCEdUpy6pR74wfgF+kBC1ZSJwqkkD3rkOa4PE80THbZo1qDrh0X95P\n",
       "Grk2DX36Pzjrub3HH5N7po/NE2KO6tGHwwO5Ff380BlQutHmtn3cShHj+SvuhWO217TBQps+8Lpp\n",
       "o2jpFTghUQlfnFuTkQ542DjfhVSCsxspom/HfECVZY5M0K6/uPoU0PTjqrNILn/xupdM2yKvVB7Q\n",
       "EVqVWZ0ZFOraPOv/2WZjUddA8+u1a2XX3UfI1tBIRrZP8NntGabX1FCOQxP2GRk3x/TTccu7x76T\n",
       "xTgCE0Urz0I3wDkShas1P3foNtqOdkeTh3AnTnHc6jdjTwIEtPC3bbVWTYOb9UmGs6HHDLzmkGjM\n",
       "pEyLoHAw1X3zMEk/ChGgdT7spno7tVjS8gK7adfqUvTYiGGYOz17/wDTFu/hTSx0SogDhQBU1+vZ\n",
       "c9i0vPiHUmPN/5wo97gouxVSejEdFgeZ1OjlTq3CU+ZAURvtZxOrHOS/0PVetWwVnjMxyDrCD5zi\n",
       "BSvoU3r2jigtCx3WL90DB3gcq9xwFhZ3tJsmG8QGV76QkhqBThNh3HAGhSRZnAetfhnxZOuJE9ip\n",
       "ytGihwXJS0OIuuXzsvbmfZHFMDwR3D4tiJNKnkuKUi0C+ZcFr7H7/rLAZYiLaPe4etdUlD+HHE8Y\n",
       "tbLWBy/fXcfPs+JZ2uB0Tou5VVhCOH3+XknCTZyff1gXfIyFIaY0sE+I7XNOK3BPA1PsjdhVUrl+\n",
       "DZYV9cQo9ycuNIJ1eXuZP0Pk65opH+jWWF3yavuk9GnRKGJEwWbhQO/4+YkgvWeDbntCXtK/MhX6\n",
       "9VkYF9ol+J3NxXrl+jAS8B17yvnwgPT/wfhE5y42g/YpO0jWuMMAhSRBzIZPXeWRyEit2ZkXjawP\n",
       "66Uu5dm+qg5a1cRi9rOBRzdhuKClAdoRlckrdJghjl5FKC5sZ4Ob/eLEUgHbOlaSt+vSJoidC/AK\n",
       "WKtcbRaiSplNB3kUBbbpZ2PJiDv5yRIbdG1TzCJah7fmgD7NFxqK+u5e7Ro9XunfA9u8jvy5hCnm\n",
       "d/elKGVhNqaRDKeioNVTBNY34tTOLrWnHmHdLeuq4zzaowW6ucYeVu7SoII1eNR9l+5itAWjc2yQ\n",
       "J7hJXyOgR5L74lfrWPNEhhgHi8qEzRPEkkuq+g3dyW3AFJHmszcaP5jCX8DmNkpGArho48bU9b1A\n",
       "n0nVpoWtQgwvUHHKQYhMw8RLm2a2Q5FkL7V2cfIxNylnCJael6uret6kxWpPniAejIGqp5PUHsUW\n",
       "4TJP4sBbzPoXI8PHOVMNPbwjmPuNlDQNOzSZXNjId+Y6zG4TVFR1NM8R7kvaMSRi7/+yKE6vHhAi\n",
       "7Z8NnYbJb/v6F/eJfR7IcAwd/wY47hkxSFNxJq6lQ7IDFvPunuopWWaB85K/jmam5hsclepXkXMm\n",
       "/b1oD2pCvxDLoTrYIWb/z+hOvjSe/P752KpARrjJwFR8Veu6ti7CytT8OOKF5lkFX6sMIgIkjSOB\n",
       "oGXkxbYUGbaHWIQhA0QVTTX66eESUx6MTtBTkbdt5fivw2eataOWvxjwscnZAepU8QwisPsde1mO\n",
       "kzlTeQriBkNNESHIw/8HEY0Xqc2sh6otO7j+Td1TDtvesj/6QNfyCYFFkoHG47v4qne4LSyBmlCy\n",
       "89KHbJuc2aIjfAZ2KPGUIxH6EdE4lzbcg3tp32o5owdJSC2vEn8PVu3g133LaOI1mDqbmPswjlFm\n",
       "Qf6B++UmmO2GRcv2g+MTgvWOdHiMKrvb3FPYMquEW0p/Fs6iDHI/QdS8EY2YnFmg65tsj5OwGkLe\n",
       "5ToPNvaB/FVsF4ar1/2WK+MTmec4wfHexJFH7y2qK+byFCIrzdv/j/10QLsZmKp82Hv7B+w7b05L\n",
       "7OL0uQvndCMZJX7+XFJ0l9I/a8ZIiR2dEEFYXsRZHmd1/ONWKN8FhjsI+gSztfy0IX2n/Z70PDUm\n",
       "ispaPNk+UQkZF9eAxDAgrVORHe/4LVjXpPHaUV+jKfppH/7KdC1M7mbuLV7hReR9Jn8HJbSw2Jwh\n",
       "tMbTJV1zKQzcYdl8owRWJASONGkKJzAraOVzcbjmON91CDwlX1P1VAP5sHzjSQYwYjOMhSst4FD3\n",
       "hO+LTcKCS9IWND4COqQvnvRmaU1HslOXvtlAWcU/Xf/9h0Q+NDKuB4Et1pTooPgNs0HgQ3uvgfl3\n",
       "kDY7nCx3kxlIL6nFkqWSsOhSwbK8+6COjN8t9h+FLUNwlnkSxPctDqA11yVkRWBhhPp6Wdam0lm9\n",
       "8bcj62vikxTyAlRFVbHUEO8VdJhOc57j7FbWSy9bau9jp20OwNDbXjJVlVv+2ICYY9U8Vs9tCTf9\n",
       "2t9BIZhb2Qr7Yk5m3f1qYJWch3037iX+TQmdivwnzky/WB3gCi24BFxuyBGgAkccWXAXHnR67j2Y\n",
       "Y18WQwm/80HqiQHwO9dI5bWV6IYrZ0GfWWRILINwDg8PPmwhO2ZdJqAgRLG5vUJ2J8cgDgAOYf/8\n",
       "oo9p+EHedabTnY7XxoR5uerpRXFvrYw3+RbjHt3A1JwnctTZWSqY1KLi4Th9N4jlqr2PvUgxKLMj\n",
       "sZn1nbWVvS5XPsqVr1AdJLiFiC5KdvPj3mZyqIM1+Mfjj2falIS+TpAuUn8bRbP1rZN/LsRHZ3Xl\n",
       "feBHizXNRVfPvXFCt+BSVAPpm0gaCy0MEJ2D2Ts3JeEOTtGZGI8N539phCmXDcRMAPrb8YJ4+XbP\n",
       "Yu+UeAGwpCPXrgO1ynoPFFL1KCOOvMuKam6H/F6nepZoOcHyaXYb9lUoL9iiRa8iiVBzi9sM+W7Y\n",
       "/+Pe+A0p/oc7anPcHkqr9IbXzii+sBAVWX6Xeiin+x2ht8ItcvRtJQrpC02JRkzlYJGa52/ZCAyA\n",
       "NXSTUXO61xVqIEzLYeYXSapR5lQfVZfmasISS16tyqNB6+m+jln9Jh+RhenyGn6phmnN+AS1gnNV\n",
       "RpStm7BdtB1ThKH5ud+kVf+hmNW6H465LfrHo9SPI9E7e0X0dpeViNbrF+04gY/dryLF4dC07PPT\n",
       "JrMEW+x7k6tDYyV14wy3pc6mtlaX5VkUSDytelQ0PInJGX7ED3IHmW9x7llnvvK7b+4Er/P/F80D\n",
       "DR32FMqSnkha2VZ6M7t2Zsez6LWXGWHCi/U0/kExrBsrJGBt2yNjINSXwWAWF024k9g2HeNLNeP4\n",
       "uVny/K8oiQtOhu7ZP0o0biIiLk9xtIPj7o3kPDoeoFNX9mWi7dlvHeZFnnRVCoBBO9pPb9FuBzJ9\n",
       "asIfYNWjoMB9zCPwAUGEy8XV1smmkF5Wvk4MfmAhc2OgKtA9b6Ke35fYD4xrSKQ42hex/t/RHv8k\n",
       "RZMs4+32PhQLVJZO4WfvfZ3N6O0hWo0vA40S3VAzSvyzaOJUPDODrrUfEnXhqw2Gy4nk+SOT+pIa\n",
       "wlUKzxAr4bJUXAgiTPGPQQI5mijAyuaLDDW/iZr1xz+2FlooQQVIxZAnGHrM46TV9UlvwMCi0MtA\n",
       "BHQJbblBtKfujSyEIUbeKt09m1mdqLsl7DsWoPztgBWYxmDMFlV/GzHhM4WgP5BRayPgzda2BcfF\n",
       "XGNbo48S0Hfe/9g4FC61uHWM9rRf8NIp4LTGh0d6hLMH3OJJjbVQv5SGhX0/5kIivTz5dMlkQQAH\n",
       "iJnIG2pmbTkfaeuFbjB/TA3a4r5lbbwO5H/zfOKfw+0cG4EHtA8vQlxo5//BG5+KjfYuJ3fal5Ub\n",
       "PWc317tFATPJmkhQndlX8VpbD+VDD8+ODhHCh5wEbig92fQuGoO9PTy9jbvVm0kAmh6qKiuY3/UG\n",
       "V+nZ34DjyszTy0r2TDCIStzVjPvFzLF7Rr6C0goxIovDJIk0qu84Ec6TSesnYdKcOFDRuJkHySvc\n",
       "tcH4UHFy8EAOOCsHw5HoiJBU/CRhCiPJl2adHAv0Nef3QtKIXvMmrkP5nt7JPF4ZlhfqPZUWcG89\n",
       "7gBM8Bo1gzbL6IlwxYjzsKzzYMV0MyaBfnczsxvBJ0QuORZobiLGzVn7Vd5LXohAcNv5R8O/kD6n\n",
       "bOjOdEFxw/ZrljVeuIWnS224KXMxySKfppmmyAQ9VzHr+2IdwM+NGbCaEuZFWaQj4+sdHELy7yY/\n",
       "+qhuIgDOMyOQcZXgTuB3ZPwcqRBAyh/YJhyL20qEuc1IAQZyVgJuU8dnWdllRTkfKFt0ZbaRKuRq\n",
       "FS8N7JyJ0NHCtmgwiPIpXFC2ZvSGnv8/H90AXgYBVxih1IPyqZWPKQRcnSwK0/5DcI77XB05gXF6\n",
       "tQIcf8CxnNA8/MGo9crAJNpvl1Hi/RiD+vIdeGNxc9CIsniUi15pDbLl4ktIgJpWzQAqi7f7/RKI\n",
       "wkTk3ISXi3/wVHQM70c8lqrMV1+1eDBRchDJFQHK0TUeGWvO5RkToKR3vvxfHbleB02NCKEENv45\n",
       "dcgSOvcPAZ2f099kK6YXRx4/Qbky3MVsne2bGj2l9sQntvzEZghtxfN/5wyePzwJBDIABKxvJwTY\n",
       "UcSJOHA6MaKNMJgp0famda3XfAQer3zI/hKETYqP4FGCBw8xTu6TQLkHLZ5wToBMDLaIG7Jybm5J\n",
       "Ru9s04Lo+WGrUN5ayR2cZTEU0HmLzv2kDpwcQ+FMHrqgHU6SeZWd1ftQaUp1+yf/YitDzIh722og\n",
       "ju+KUOcZWg+87EdVQsG9aTdOGOMTv5ZfjwZNoF2CeWeauH7b3RgsoUT93PIqSPs//RHpNTgFPMRq\n",
       "Uhw5A5NWaVvvYRC+QTvpLVyG5RRnmGIQ+AyCeN7QCee/NoI06YPc4hLTpTUaKiYkOnLyZtp2X2FO\n",
       "k3lYch7jfCD2gDTTNyrkrTKdsRTS2th4h2aBaqVHL7R9AQHYJ25k7P7qMRZdfl43jTeOYJSalyzE\n",
       "T/MR3qYG5HVDVNY3ehQ5WUubBVx88wRa3VnGvND1DUtSvbb4HGxpi6QZ4xlN5te0tEJ/R0KZwFNd\n",
       "zcc67h7b4QttfFwESH2XWdjImLfH9gH+TNSsxhReT7G+VReohfZBZZwPUx1mkdTQAR7mrzgjnog4\n",
       "maMztUAfNtqbnDR7F70YTzvQvIx60NQKB0aupq/E0exTs01rdepMiNEkewR+np5Sl6i0Unpj/chP\n",
       "MsiK49/J6LkIgNuV+TPKCZkH48gpv8fweWjWiEIJ6XdmCG7w2zOM9S89qBiq4LIWqLhFsWGWC25v\n",
       "xR9/J9FrSdLJvaarQXWyUSrrgdUQxz+z8fVvQyjR3vYJ/PhgKa7kfjHwhKV/BAA7P/fuvNwlDjl3\n",
       "jgLMguGkUNYwshFYj+qvecxz1fGqF5rJ+rvIe9MRwgjBVrET1/fpstFUwxV/oa026RAO2T88PO0O\n",
       "fr0jX0Ui6ibcJfa4P2kJyMCYK8JWy1mMxBOPnL3Hca394WO3Viglxka+y9bvrPnJY8c7vlYgPbjM\n",
       "PdYCepadrvZYXx+ayxBnq7barwMj16P/g3M9ZIp16T4kfHzPI6z5ASjjaRi2+6oWqeJ6rwNKeSX1\n",
       "a21dEVIUyc2AGuPZ/a3ixxl4Iv+tXbjLOPhO7PEIKyr3Xsw0nmKFOvKTKnIBIYVamxvf0XZJlY/N\n",
       "bkGjFk+ZVbwKpIAd5sLZzIAocIuCuACdFx0BPUeBnVHsBTWDuLqCE1DPl7tO/ZZmlEoppZbcKdm+\n",
       "pyXhn6E0nR05XDywNpgfZPpNg59yOgiCFacFI26PhO72BamimZqjNHnDYbsAABBvQZvTSeEKUmUw\n",
       "IJf//rUqgAAAdKAs0ADLBefEXnd/8UhjWO6NilENLDEEpIGMApVkoFEWobM1kR4pMJJL5LO35sZp\n",
       "nkGs1pb02JMlBhdhmX+QTRGjrROQNwdfPUm44xvW8LRHzTLGZuxZHbj8Gp73T2py+W59hvO7AUNt\n",
       "1My+RsF8/Wir5Mr+/Vi6DtXqjgASAymUFI227i7Kb8OlvZUvVEELGDuVcyBEr3k36tDcfNMKdv5R\n",
       "SqkAGnrZaiGCsmb8/wDpbws17UOzS7M0iJzUyljwA0jq59X3u4oXUTYKqrg5KZStOoYMEylPXxbc\n",
       "SD6uwv3x+Qg85vw2jO84LY0yk85eVq5RMMfGCAWA75g8yXqtqPLPE/V3eH3e6c5CB3sKOKN90+pZ\n",
       "T0MCUh2wv6OWX9nkXw1K7RAhFZhBF0+EhfdhaBOXxVjQSed5NF4BMfYcm/Of1CehiNIlW05LhagU\n",
       "VzpQXinQUn/x9S50vkbDbSreZ7PoOJbCm1uNMcNkia1UHofoJCyNt6YBS0G+ujX05PQOp5UDNPPy\n",
       "2duBNOko/LHq21068IXueCxI/FcXuyunszYn7SK3nrFlg2mU1kha8Do9ERz0groHeDJ+mzsafhPj\n",
       "wuhv+xf7nImcmgB5nhf8yUuFIbB3pNMhTpGrWlyT2aTdulHiST7lxjnNDGL7QItEH83Md922c5bj\n",
       "awzICQof+pZDfD2G2nedKZkBarXlHL/X0zlQ19REUClMApj6KiKwFRMNiDzADqNm7bP4ZorF4tBj\n",
       "UmRe7f1cEzq4WFGrLmLYjWRn9L2hwDY6C0YfTzGhhe4D8YX54gMKP0VgAQkRuWFizhsI905nTkTK\n",
       "x5pLtpe47hfYKf6sT4PVr6lzCoWsRZI3PtcTnxjG+tsbmsEyidMNB/qr4VixI9XzsC5FYB+yLiBx\n",
       "EpHS1jS8i75bRuKnQCSIINxHhcnVyvCFRpuidCrEbsm7lrazW+kLI0ql9iRUMUtrd1kLqtmbpe0L\n",
       "dnp658KgDgaXJxOXfKRhZnTp8sdEliNfdmdA7DooPqjHjOKOYmBrZsim4YOvKXNs0SyMg8FotIpG\n",
       "iw0iSkhZi2oc8E72ScIz6KFmSe7Gsfc5WF6EfBHhmnlpwuT6E/lhuoSZO3dXyiOGxYgdMS0NsunS\n",
       "M4CVpZYKderlTMiySsEuAD9H8Anl9Pi0IAzH9q1TZJ51Hj7edHidcMwK5SUg8rT6t21a7if1whF4\n",
       "qKYqJvFGPUAt6PmhARvZmzwx4yANcKxNVR3tI/oIBxriwdUweIzMeSheQatQMS8hxJzWXV0WDFVX\n",
       "reakz5OMETbAPhuHiz+QeNFWwaLDUbCxk0TA6liIooK1p/yreVXm3QhtzbK64YWKP1dlthWMrESM\n",
       "ufzeATQPz+u7RWmgUujjbGrJtNLuFCI60P/Yi8OKQ53RmD1vlk5lZKFzYv9yxiD5c7Ab9yzsIA9I\n",
       "KD6zdrS+ELf+l1MXpk4Ptv/aikpx7ZXpfqJIBFsoEpDhEVi9DXIHXwEL9UeGRU0IMtzT7dtxj2Ew\n",
       "AR+v2DlB7ZkcNDFFWO2Dsc2XXYYad01Tok02Ve4/kyMoM3fKOM5oDRJ47jBqQpx8ar7epKupSb1L\n",
       "qIYWcAn1Ux6wcdbpFenvHCiaOe2BU0E73gKGZgFVmk+2msLmV6jY+EoCBmmvNyQ/ZCuhMR90QCbD\n",
       "vYFGLl8YQp9ABnejoe6uCdqc2k/DOWnxLWChT1mYRY0OdxwEi9/pY4RxksaTQqSOEAxCZOuTcqZU\n",
       "Ja0OAaQXYWhDbrlV5clXXy4XctZsfg3Ak8OQ3tTvREIkZC36Bb/tpYGg6qHryryszzikrwFoe+Po\n",
       "O5U2dzFg4GCWQL0xJsAwmRV/GiWqmDWiRIAMvg2B917ul8KhplG9YSVXpnZccuP+fdY085bZTtGE\n",
       "x51LsjF/qknS3TFFF4CcLnsEmLGVRBuLRdqbqGcINQGldaqa5TaJN0EXrM3mfbgH9UDcCfGDviaA\n",
       "TjCmd3dVFSSvEkqo89g1Y2ZFrKKnGcv85mSOt1O5gZ5LBCPBrGNF7h9ykp6XqPwq9gdkxNKsNm/n\n",
       "B031ffhO4SlO0Wp3bwoZMtqSyguvQCJwczk6LOY0GslLFxeP1gfDDnlT8f0EZ2Dim5v7aEwwlqSi\n",
       "9UbQeietW0wBz9DILjJ27p3GRnk6IjJLZgSxowqC7VeJrvtbtqmbFbA3MN5M7cwnR+fMi1dV9D95\n",
       "a+YkR3vqT8HgMk3x39cniHbAXloTWy2QLWibrn/HjUBXKvD8KzhuzPt/47ke2h09ToSC5coN4SIo\n",
       "3/sF+8lEcPSPq3Oiw/RvFN35b8lCRQAni/sO+Dx5qnJHhtzMt2SzFOWTkrkwvwnvLQzFr0Ozyny3\n",
       "Rcy7XhzYdo3OW8lOZYHu1vppjjkfO75eRhTE4bzOuvrRkGlqVXAVc2x4dAzWDT83/oT+m9CJ1cuw\n",
       "o0QSTdr+IYPj7Q3EWn4qZJEajDd53LQMU7EPPrad5OyXCp2Xdh4+nCC+d5oJdfygUNvvO2Fd/Rzl\n",
       "E120u0Kh1ElDp0Jzl84NEIGKTrMcolQVPLjkTFRNgpHTf1T74oyKKyEUmj/a2LgXXFMTmZP3OvWN\n",
       "TRE4CnkkJaD/d1j0qrbD+qgsDmpZZAa8MLeXDrmnmoVzvwlsJmQu9pAw1oRJEA7ZMswx3w2XPNpm\n",
       "8vrozC7EopyDFWHXve4fgDSwMOX3deLaEurj8Bp2GUwxudSKKI5HImfblc+/XGABcLDeUC/WvtPQ\n",
       "S5/gt2jNkKd0I90GciXJY7cG7rPJc/3H7A3JOglEMidXy5CkI0WKxspeQQD5Mdr2/Fg1Z5ZVzF91\n",
       "z9Ug4UwLQW9pTPmTdjpucwgAj8q3Z3H7X8BNesk2gOKZwxxD5M5y7Tdlh4DekUYs+vtQ02jYBpRj\n",
       "NlYOLtLn225Ffn2+blkh/lX/gpnT5Cztlpje5Bvg/DDrOcmuqqm2jok6rBqgB9000F7Fh/gHIdYm\n",
       "FXf9zwLz/wNWpBPIcuBDSiwNO5Fy0MRQ0/z7NvTfxUc4NDUilNy063qzZYMjgWO4mb0xYlTsmvd5\n",
       "+EXf5YB2qfjzgUxLcibzpMn+Cjh/Z/CKfj7mBe8XxHYI5DEAjfLf+2RmFrcJlPzHrMULkJr4mTsM\n",
       "cqmf+Y70AvZ6Z7TrVa9XfdKKjtW9/E84IDXwG392RsrnZgvvpC7d03XekBD8jdPr7y/itCeUGSv7\n",
       "astOjRd/4a8AslAXe3L4/o7Jyx9Zz77Uuwg/xzHFelEuownZPi3ZZQ53ASBLQDhlD1Q9s4SR/w5k\n",
       "pLzJaHvI0tW+F8W0M8ffyJJ7Nvw8MdV/XUtG3Ox3Z/Iibo7oE8ocGetIPe0OlEqyHK3dBghqkWQU\n",
       "nuEvv0AUTFYt5miZmmHh09U9P8MuqJ7nQ/8V9/5w3gZzbSH8uIHGod7yCy7Q5vQMB/ShqOgFkwzR\n",
       "TrlmWjC0LjnfNwukL3NACI66ddpBhTIgg71DgqCyHfQ8hPKOWNU6AfarzbOsIhprcLt1+dbP02oA\n",
       "bRwGxTuK6uG4ryqEenjoTKdCzRjKvkLRxgXHLMjpiZsS39sDeLxcUA+suCELPL3LcwnVy76UARKI\n",
       "vfCOQfWv1VjzjebVnWJQX67Sf+jBBZZpp15wtUo9nz47LGdhBsRqo6fRPOvCDAZawtl9reufCGy+\n",
       "w1zcZwKm18DWifEB3uV65wIRPz9ysAHEuL3RaDmYUEntaV+dULmp4WcxFawrqWAh2o6ouvIhjBpk\n",
       "cSh8XNsUrwZ/0lyJEf2vSscwKLrfp+piYr40fdyB4H9U5T0Kme4o1+5uY6pfhwA3UDot9cxyOQd0\n",
       "CNIKBJO6nLorB6YLTAFzIm9nJJIeSv7Az0O2wQ0twOTJ2HdY/w/u4qmgcHVKN7fRllAo0o5mH825\n",
       "VgcWm/RQjYDB+UX8urFSQ8jkvfypaXvRgQc3gt0D5WfaIwEvWieIzK7ka80eHjCay+tfJGx5bCkh\n",
       "aNQczDd5c16NadzJnaDIozFzJTf3wOctQIzI/OrpEu5qPg77Ksfy4BEHS3h4Fvd+JV66gWWgUbrk\n",
       "Otxs3ih622RimabM5wSPhSrgOYQqwXZG9X3qc5hpzdUy0nTY7z4WYQTGgiWac3fZrpfTJolTbTwh\n",
       "/xYLOIa/UOycnbea1J6Fbm5zyrb5Dtwl4IyknbYVxM9G9busHIh+RvxSiiWdP0uU+hdWGqcs3GT9\n",
       "fMMJTcten98XuDjBar1pStLIDmYgM9k+H5dIJYsG4+u9H18rl/f56NPRikfHe1LlEqzn0Mg1nz/+\n",
       "2xixi7gJp1UjK727VFlbJAW39+foxx9H12EWsxQfMAxgqxAkgH5+eia7hS8mNFxXiNRbskXMAyp7\n",
       "nHMC7Q2saeh+NmflOn6c9hu073FkgsvRV9EVKIN7nTK50ygCOBZvf4ePyuHditdugUYLarv92Des\n",
       "zrWpVbaASvd4mJ0M59olfm7kAKgViRB5eE4273h2pWCfeu5S72T/ZrLwyLLzl/oSDhu59GYvAfO2\n",
       "atIl8nAfJK0HAneeIzKe9wXzKkG/vkWllp6oG65+ommbRN6p98uJ4TE/RpAMKfX2rm4xcHnwLTQn\n",
       "e2fyxgG2/p3RBeYmHGnmLWtMWgpCpSUzs4dG7pdfSxekPkMmHN+Z7Xdz5V+4Bg02Jz6ixqsgofSv\n",
       "+NpWjF4w2HvE5IMOyUX4DhR9pTG/sxhMHZ0wyYUxSuC2tvA+WPv8bAVTDNRNxWul3OJ7Nj19BBaN\n",
       "kh/m4IJ3ZI+FZsCBC81uEqbl2pp/tspZ6zAtjTCao6FM9U7febxryb1p0DuYzSw5y3KUV9jY8C+V\n",
       "ZQ+HXRYBwqGgA91WFljJEBLUqQn29VKGXsJigIgctre1MYotlKB4quSwmWK55ZYYBlMc8vkCbLjF\n",
       "rL8aK319oniVbgDm+KbH33KyhPvAGjaF7TTkr0lAUK5B/pgab8V5mNZJf/vs0UIzBLXJk2XCoP0u\n",
       "Uz4B3Pr6MYbWarCqQu8ga4rMm1Rn3mrFCPjdswSlfOlJRDN5/IQQhWLvpXA/vLNKr2RvzuKywy13\n",
       "jBHI14OMlzh3V+UV/ZioTNiqtJireNmb/bhwLv6pPfWc2D6rZY5wY8Ogr7gxKV2+fKLMArmRknTZ\n",
       "M753LKN7FMoouwzG7P8K9GDFO0IJ7/2CdqoveCc0+PC+glA9npGeUeb+OIxJwEEEKwgi7fUE9tFJ\n",
       "lBFzs5UZNIPbcoUeDQyavi5IpZHjbITMgrP02U7+NHM3V6YWOopGzbXrAuxgqTUUDSMB8m7oDlvk\n",
       "yvNKBUYH2E1dhI02SEQdlTOX+HRR84AeZoose0mOpz44CZCYI9pC4aptyuSg1UTpWhMktjUhGkOC\n",
       "KiNlWgv+JYOHPVWW1eQoHhoRBmkqvf7nG10Rbh02icr1cGZSqk0h8jb5ccgG5Qx21Ben06YjVDp8\n",
       "Rv+gwVcn8RbqpDmq+Qu7cwrm/mNveQYuw0DQBkrvJgCUMrFWkH9JoZDdaDc/GLioJVMkuXfCOjSf\n",
       "/XkPxfb08QXZSVQWu619vsNuJZbJQzZ9Uq5ISnqz6OXF27vwHhDifowqcaQcveM6+GfdmbKiGdt9\n",
       "soYOcJqHsSyE3JYRk0+a+jb6ZRcL2MphNq/xE/1uh0qazJsdgAAADipBm/RJ4Q6JlMCCX/61KoAA\n",
       "AHezxWV2AFgUF8gINAtSZVHb1+3Fopjx22KgNTQ8KNpwylrNjbbcxKGvJtDUkCdTCB0ZILPgVj5W\n",
       "wxtzVg8A+ChfnhWwzUOubGSTrGS3DfBbTDZYSN+zrYEk3F9N73phc7nk9IKwwhbv9CBzBB7qPnDR\n",
       "uyhwVaSUXJsHfcUarr0jKLHinBVkwnk3WxPUICN9JhvJ1QXQujRvNamKr9sPAC2wJVIm0irCz4PX\n",
       "uOBg/cV3aouZlWBe/YRBi0lDEP9NEUlO8THtk3vJ0ZPalc6R2kAkqIx029SdPRT4C2xsO45a1L0V\n",
       "05DagycPSf1VJlutZeYUFBo25NvRDocHtpB4TNCtkHk+CMI0R4LimdotYjXl+ShWKVMk+b/mjqwc\n",
       "sfq5I6+G0zDhwuIr6WXO9xsZaMHJkKn+cu06CVjvZOtoDwzH0UVBJdba/zMqitTMuM3Vnx9Wv5wL\n",
       "L/aH0Aab0YxkmGHvJRZ3oBdu9pzdsGnocKYM3nHOQt6rALxqBf68jJFIWnx6bGYKr+N3TaP7iTWI\n",
       "SHryyPQcU5dZFbB+b9eJG4MWePdvTdmMzaOgsIf29g3g/9UzoSPxVD8hC5FUmU/iQ5p2zOdDZmc+\n",
       "6ZlK5a730dltRSpGHoWAshqRHJbd9IjLwSGWkmlQKL+ZQqAW5sp2RydhJzEFGMsbfv/jDqmOTR6Q\n",
       "lltalfcWJkySeHyhgpM+KZcgTi5/69ojryB26QmNa7XUGpIJ90n4RyMOWfzxuaJl+yqIG3VerGmo\n",
       "AQFVEKTXgiHojXqB1DdCHdQ7r2OW7Dg6jWbH61AyPC5DUR6xV1V7Z7obpguIhVMssSQe6NSkzkWK\n",
       "VdS0pdMzu8zrr75joZfrS2EG0GzB/EYkDygag4W0QrtjKS+bHNn4ngub8iMgd2N+ZVGGtGYWBRIH\n",
       "HmJhnqIR569tvronW65oUKbh9+LwtStwWVjsp0TC4DhcWOpFqg6FZnRFmNFFo3vOTvV8VYJRuCee\n",
       "PhXgaTOilBW0035Mqbli+lV4Z+Vh5qUEOom47AFVU9427i1BaYZDnGRyZUKjkyXQikUsJFoMFxpQ\n",
       "e6YnmMEDs+FFDGCcd5YStam03hZ070XjATic/hZlSUdUEjzE0HdZIcr0bXi5EMf6QDkXGiHvT8bz\n",
       "uUPpA69YMPrfztr6AA7diuChDwMP7GFcgyFofsoMHqVKfDlbYX2qbWxjmILpbmIGUroILe7SjcQg\n",
       "rZt+ozxVurK9N0rSDzvyWZGi48uy54gO+hf2AcuUhD+sRBZQdUNFZEN0t9LKEpVA5379yvlB9SRT\n",
       "31BXgmLi9foSdlggRdQ0KAwlCEEpKAbDyKhdWNAeORlQRMm0WA3qnXr2MaTXmbr8E/AXuV9kXnfR\n",
       "KcsI34N5GsfogDSXnNfLniRknZ0D/AgDgPJkXlDd26oivq5awJc1MLWd3A5qzVMsqGmAJhX0ink4\n",
       "BtDZKKwEzYcXMGfAALWZIXl6Gc1K5VrX+AhqVnjU+7Y2eUuipjUfAdHgXahkZ7/BlnHXyEvWF5yL\n",
       "Abj61x7XOv7lDBGPn49OLrDlQaH/sB3tIkAcrgqRvI0hFtnJ/1Qi3dHQGxQ+gzCveEXyxxh0ufpk\n",
       "3kp8bLDjBAglXFVkbtsoeF7CtL5Zdnxl1P8gW08A3Fj8xx/OmNDoWBDRYsBKBXM62e3ODZkNf+/Y\n",
       "5vYwXzffd0HKa9Qc2tJS5EBdB8Wgh4a0QW0LpN8972799DUXcV6JoA9NvGI9b6IvOO+b75A1v06T\n",
       "TP2DA3C3VC66dNHQ6F2RdEzBhgiDrJyjQstA+PIcXA2UksFm9tTmSZM4CjJblUL4sCSyoxnjCiYV\n",
       "iuQ+sUJ/eqRCoHf5622u2kqB5v7GNiidbgLsdlOg+fiWxsaHZqIRWRFCpY79l3z3WVKyb0/s2jKh\n",
       "h/eSJYpQ06amO9X80N0tZrv2ClgRuNfu7P5M6QofEw2OpRnl6DcSyV6TCQX5/ArBxRJd2OJnDV7t\n",
       "+fc7/bu1ajEyaw7sNjyXiAFmMNHpIlP5b0WuoS9iJAbBCz7+/IGHolNs+j6E4jvBWCONOOUNw5dp\n",
       "z6mf8ABxfUkMjJFSgkGPH0UhzL8Gn+eeCRYaVV9Y/4z6L5LrkqxfiEcRlCDSnR9n7YXsSjMcMcKX\n",
       "AYYiFB33G5mVFDo4sOeHIawwY8NHrYN1BMtCJ8gx8UMdDV+RbAgrrR8sn0v/Aw7GMWC3Woftn3cX\n",
       "aiSw+/EW/wEkJsh9tojLrPEJBmodkz1vfy/46VtEf4AFsvRB5aXKUf8p7TiSG3oUW9Ea4Ca0T9R7\n",
       "HAgDIpGfeVMmTx03ZLLOFCArD3rQqVluvWT39XXmCTQIJZUiGwn1QfLaD9TCxT0rkPW62hxI41bv\n",
       "Rp9i896OSAVSiuZTAYRNl1QphYiWgFldOYTBmQRPWQMgHt4fx/luu7PUfByk4OcDT4Eo2rmpTT2p\n",
       "+6gHMoz1ujW8KLLQwvT0GcTGDV6AIkuPhQPSt2MuMLf8+uiHd9ba9C5OSzFqSIIAuCbg2U4EgtP2\n",
       "v6UhqVsZfBDUGqXr26x3Rx9rdifdft82Hv8d4KwENV6nRcHNT+EZc6vJEUwX9W9mdxb/+s+9yaid\n",
       "wyXpuiD1RSlmUR2bjGKfuyPadzkM39zU8aG8MUcsz1hBDA+Nti7+OIioEbPalKs9ksZHOpcxVa6c\n",
       "1sYPpjI4RMlWKYNd+hYfAi5od6d2uRT9kCr2VacJOv5/nS0RFUzNETxeDI0Jx5IfNMZw5RHAK2HN\n",
       "5VVsD91+dGiFX9mOpZWjEwTNQbdWlluah6Vpsj4PZr22VRg8mqoQO8bjsCn/t3CKEaHRtfuaqbBI\n",
       "+J2n/pBmvaFnMse4jc/MQHmYleWsiRzdCcUZEdVEJDR1+50cGZs7RSlgLgivs+C4xfuNY3ZoP0LI\n",
       "lOkDmA4JMfl+1wg1R5/2LhLv6fmDaA3X79aZ2oCfNf+EZIj7fl8mTu77i7TJ3zGt+Qq6aRvNdRPc\n",
       "9KTj6Ow1oMHIUi97cJbd5NXQdR/+SV3bRTOKqokMR3GMJpPG3ir0H2h/AuQHbVjOBtsZK3kSIwMd\n",
       "9yeFyeodvT3OHjdq8k+gfQyDdZuxem67f5gtU1Thsrqfphd4KpcI53mRAkA1E0jiyqSjPZ0NA0f4\n",
       "QXcv5RRbadYCFrJEsoW7E0M926A13XqGV53BRUly4et/skgKj1sSjnNVLMlCATZ6JghuHBcOUMeH\n",
       "59VqHTw43+Jn8+NHT3gU/MFQYakHDAiSS7KIs4YQYikGn9DwEnopUCzrTuM6T6WKvpR1YdY5oyRi\n",
       "CDnCfumR66PpuIgWdcpK04icyfSjFoMsmnRuS0EfoHugM9PbOrEfaqjFCWBee5se94gDGZwe/mBo\n",
       "ihOVb1v9MzomvGfLjJdGIixv9/ZUSrtQyUfv3AOnYlTOE4yPw86yUn0vxWs/d4RfjbZi85h7087h\n",
       "4fDESTuXl0u4iyeVMlm6IesNy9CIH+8bDZ1vCjqQggLl0yOeBm3Y/8//Wepz1oDHJY9h2I6zLrLw\n",
       "epshWrD8tfFbslGkfbseeAUx+CLJSvr6jCQQHnOT8b0HtyHH6zpbmNCEC8sELYN5Ijf7J4M1TDhU\n",
       "QBlQ36WigDMJ+6TUaF7pRSG/bj4hpraT4++R5X7lNLmcz53SuH5/eUicVSyv69YVqG7shy6588Qu\n",
       "g09sQHJJQ+QWpKPvgeK8w53wXuSsHQKEVFBezVP/r9QNRahAQ/6FRyE2i0ZC3Y3a3j/wM6oR0rr9\n",
       "a//SAdxtsUWZX7mEGhWZOMM6CRMIoRIns+76S6UYIvcl/Y8mjES8E1RvtN7qozo2OsFlTVdSbxyS\n",
       "Th4mlWhl87dsxacq2FITwPX6FKEou8TLmheWs4VLKHYG61FeT9pWaMrHi98tCS5SOWGLsuOue0uy\n",
       "79mzpzDG3Z7hjjG5XgujUbMyAkkmgLyLMlKBo8oH0hWaVWg29GrGDelSQNLadXGa6C+k3gVC1qWp\n",
       "H95yatjMgFGhL3XMMNyJnAVupKYyxcbKdXyW5ML3ceMKQxztyyqMLxlqLI0LaIutJq2ff3kRhPMN\n",
       "diL4KW9WnjB4Hvgo6lVSx0Ur9vJxCbQbO2dso+CSi97XaSpN7WMarsmtiGczqvegEnBXgFpVCBbP\n",
       "DmN1jNAlnhyko8h7HBlVtQ2bCfF5PpqjryzL1Gop0h2wT4zNGIFgipO/5v+E77WRT/fOK5b1jTIO\n",
       "kAYItnBrn2rT9LMhkU4g21IjG6plcR+Mv5+yDDBL/yCQ87ZzFFNbtk282XuT1Ss6WA7esjBcL5Xf\n",
       "pTf7rh2UvOuG9P9YoIkBLYIi4zB9FgKcy31hgopAJglc8rw+hlEWtNvf5+d753J4N/TS5gNVnQPD\n",
       "UHG08ZnDepakUxUmBvpO3AcukVKkGof9Cn91Ks7RzCzMR87Xv2yDi721w5CWo0V9H0GezPccSrKu\n",
       "h6M8CBmg6x90j8IfYx9hoV3ugiC70gImSWwXh4NWaNfGvoL8DPu6xj86zvO6UwsxD80Z7iHiD5Dp\n",
       "nWOzDxZUIv1D3AtmmncFWFPDQOfWs1VQn5xvcF5CT5IaAFtFQ+m2qHj3YlAFQT3Gj40NMUQc5ijp\n",
       "LGeRJCq42uxihmUWTXqdzjuaOnlnJWWLO48tseEsOagqo8CIGBqYaaHcNkm9A1fs1Ni4q+E1NJT8\n",
       "slHVbYk1t+zsMHfXZ6DbXnCrfCb+lG32mw5feGP9dWJUQ0HayJNyw0qCP7FtxMnq7s4T8S/IwFmL\n",
       "0hHfrPSc216D9zLTLl4TTcqy3ELiiewXwkhe17rOc9COwR3H0HVJoXgO2UepmkHFCyto+xakn42I\n",
       "CJ15ltOQp/2/AIPY5sAW4hGv+QAAC8lBmhVJ4Q8mUwIJf/61KoAAAHSK8VT4ycP2AC+jC3fV49n/\n",
       "TIL9jnBc+Oyzjryqs7l3VFgGo729c3LD+7leyXDq7wYeN7Ix2GCzGQXDtdc4c0VOyxK2FINvn3s6\n",
       "umj4S4406Yo3cCN86alX3X8YVxxjmJSw9UdYVxEGWeBd7vubJ8ffsKfcXn5qA+Q4DNJMLHnZJ/td\n",
       "H/hLM3cgqtDEerzMDVHm6M+z4OLeLXhIyP1mjaum2ba6O6DwTvjAVNRtFzQP23EQnIOlaqTM+FRz\n",
       "zkgs2cheQpTcVxL/dXfsrNonK3aWVvEPdI9EBfJwFD/mFCXC8cnxACIb/m5K1ke+PQY8bNPMl0oP\n",
       "2Ar/XcPo7BYEJwEKffAJDtYNqS2QepBl42epbFqXh3lwqF74yN5H54P/wrUD8OpSdGFlZDZyN4+v\n",
       "/WsbevD6K/k86vcVwH6iesRKhgFXADD9DU3P1Ggzl0mSvuQsq7j7VyrhYacJyx9CHx6LX3tme1NU\n",
       "7SFw6xy5DQG80bDPLx4KzH8fIzcGOUHd1rmx4BIDSiAkk5FuzsqB8wr+y1/HjHIQ7o3Wq4bcFcJ+\n",
       "w+AMXyu62vx++EIs430MSwh0wyHOWhhiCjaSxBr51tYUEd6pTrQHF8u/C0MxZPx62QhASZMZBbDE\n",
       "7AJ99ApwDgyHp6rlG4KePgoM3tBmzOwEBi9B1lmlLpgqyFlYoAPfQZHSiIx4kHsD3OvdmNhXwFOZ\n",
       "qwpLxR6JmMeuwJKBm1gp2vXdoKi770yV6oqiDqsao2QXjxX3iikondb+bAmDk0qltUBtoMl4Tblh\n",
       "Z9Oe1AUk2jWiGWMwiq3pXhYFuoGNgwBWQ1pQOKOeYXUytRYYSNVh2QraiR/xnHpv1raM1EXvoWKo\n",
       "Ojc6O92MfCc0G34Vs44IRg+KV6ypbid/d+Dt5GJCTcFGcM/U+Upx4ecNXJIafwLS4FlayVDY1hD6\n",
       "vBiyA9hu9fha9LL04DUmzhKczsfbYBSQl6HWgIxyrCRkl7thZJm0jqah0GvBDvgctmPYM/VDxH7I\n",
       "/zDZ7HJZBQN54bOLEE8s0aw9SliRUPTdeQCLplX5gS0c4JoYCctMcnJXVebY+wVWSMdsYBtmctMf\n",
       "cG0cOd4x6u2umquFkRaMW8mAo7JH4pvWagKDgzcSOdtgG98EVbyIjKVFbaAXbz8ysQcERmw8+JjZ\n",
       "qNCIc1oY8SK8JbOucggwq5m2NR8v1Se1XPDLccRrhTuVAeGnL8CS/c4wM98iMm9JYY2ft7oa5VZ+\n",
       "kmxm3jgbWOe6oabcL8R/4T9eAbU+f9jePTeuuiMyq/0Qtwf1zr3bi/q/jJhlUN1CZsZUW9PiA8nm\n",
       "HZ0VvLnG1qdGEO3vrZwpfVtBgx4TJnrGi3bMeMf+l49DZD4C4HeUj4dkupx0za0LYC1GZIKvGRj1\n",
       "IEJdFq+wIw7BKseVCH8/5RR2WiTzUbbEkt543k6g6aIuCLbz4J6/U4ZYvdyHMtp4z9mrW7NwZ2sl\n",
       "e0yd5tX7ISjC0t/y8W9X+dZoMGeZxpMjuC7H/V9dv3qKvdPK5lsDj+QJcelQ27SjOECF/TosyfFn\n",
       "Oy0JJxofI2FiJMNXGmS8HdUw3NOuF8K88NO2/FwjyGG+wEo/6IF4Js5Wju84B7gvH+jLAuXeqsOg\n",
       "BciiuDXytVvP/Wy/2cAV4xXqBJYES5vEpyS2/i0akSR1Sq32EDkt2O1wG5tdNrrX9tI040pFLC7c\n",
       "+5H9xwO2fM7InVacXoWAV6oPPNrGHoaCQMYL9evIhw7bqNLV9PlKvXQQcFS1Y9ymh4oxr3ZdyA1t\n",
       "WGwoPFC+ZLwDuFBqNpTzdDO12K7YbURx3E7lM04PGObGBLaTxvj1w/eTUhAhRQ4RxDzR946tlLh5\n",
       "qrJ9p240uIQGmUBMtBQ+14NYLTfFl5RIVRgYYEG7rKUt1dUWt1jvdf6+MDnu7Jz7IY+a0NS2WWSs\n",
       "ksCxdVNjRZltp9aMNHX9edk5MWOksAs/Dl7Fooc6kdVbadOBs8akrvf8fKlwmP0s7LyPasYVvh4y\n",
       "WhKtBCI+WzZ2FnlBy6/lEW4E7N/9oKI72EBeKsQW/zm8Lr6KKCdRbS9tRSiS21ysQGIn/vqa7qAD\n",
       "jsh8UIWMBrRAiDbyHyV91GVYm84jvS+LxPG1Jj13bTU0g4OWaEsIEjjjpr5RbebgYMT01lbdz3w6\n",
       "U43oULsyvReZ+syqulcYhZxnBD9pxWqkgZfrQwYHuF1TjRuYPBCz1xBTvDWwsQdEGpAEwr1SaysC\n",
       "1ts9+8iHbFjPG7/GBLH3eC8t3zYL4c5GSEAANVFnbW0qf5EZQiLQZNxwRVr2A8MhXttcRWHK5k26\n",
       "KQwLjwS7zw64Iy5xx7qcMVB7skJprrlNlNFUdLR0iI/fgOFZt+FxSiwUrXBWy01LOf38A/9dIWsU\n",
       "LamDhpbx7l/Ws1cs5+V+3N7XQ/RVqC5GBWMXZ9Ea6m70wPZ12owWFGm0RqBuTZqr7OxpZryBhgZb\n",
       "GGWk+CnJ6n+CptEGgLLaau4HNhExOJ0S+jBZT/3qAejIHikmEqhiKFCADf3akl5zhWQV0aAzV1sP\n",
       "OVXk+JgAnxj0UEckyusuaRSFW6nv443a5XAKsCLaQ/48iJn93Na4+yhD0PhOd2oudR1StmUXB6TS\n",
       "HhvmpufmHUsUrcPsDMmf6S1OIHGgCnC8HYZ1mnJANqqPmXdG/MWbJUY9zvsp71XKGS4cGuTd7N6L\n",
       "Cqq3nLfN0htGFe5j+ouyGzkfa0YhEo8yLlLj9QTtcjpqpSr3TCC0qZQ9KH/tRNeoSyyKyENxoKSZ\n",
       "TAT4E1sDvC70/nQWeVhKEF/SGtRQXr0HUpGJDHsmLJQ8o/WIPUvikHpsgZKoKK+s1NjmJcv7zHTz\n",
       "i+EUMowjOvwfLNCVdeANR9VR9zqrImiWRU7Jq8fqDgNGzz1KdCj6KqxjMtrT611HFPa/OGYz0c+j\n",
       "qbPwiMAfpGtfaIB4etOAMfbhJuWR3Mgh7Cl+poO3FraH0fWCTPN3oHM5q03WdGqKDhAqag5ZyBvV\n",
       "glEP37vCBPOL1223JLJXAeoe9dM3U6zyYbeVJ6OInpUR/+86WOEoPbfH1NKoaWgUuwtSTe4bLDrt\n",
       "mhLGJz+As3UnEroO6YuEDqROe1D/UqLQK8F7Lpjiq7fydOjDkD+Qm3CmhVujPu0v3xM41bJxLU8y\n",
       "qsClvcEDyXksmY/68H1Ls9M2ezw6ptUdYf/+6O5vffDQf0360bwABMX23dspA8yi+64OXLEkUmfD\n",
       "26IhpWjCjXXqdIoUyxxHLW0ftl7jIIj+jS0j1c1kDlZeSJQEes/tBlnvdbt+/ewwEh8aaGwAsYay\n",
       "5pr7rSDAgJYiuAGqA8DzMt3V2GbMxL66G6jQT6Ih1UOhwxNEzI4ko8hlpyqJHL6RlWSAjf3zuCGs\n",
       "1+a0t6ftC0nSZVWgrKNVHVwCq7MlwbzntGcEGqOZF/hm3+YicyGZGkYSeGUIX0waWBsaOUNfkCSs\n",
       "mmLkmI0m9iw03LNkNh4rmiVbRMwMOfpCjQ3N9pYdcTwhOIIhudSw4b7TUmcYFQA3Q4+0+e5AH2BC\n",
       "dLrwunIUpVwHI8vPQPDOHD2eZYm3EGWma/q5ezoTbvVX58ykwM1wHSxIc6XvKoH6/tegkFxEDbB2\n",
       "+GfeN6qaenmjLr+i1Bf6Vz9E4IQ1/3A3PJe60H7tRx5G2Y4vNbLSt8NC3cLayilLQcfZ2j7Sb+eZ\n",
       "6ot12SIAlJkGmg/3XVcWrjwgi64JytjPxxvL17+3XiVDajmnQ5R3UZm3qG+BB3e9O0PBzyrFZILH\n",
       "kpwKwp8qmh93nxUzQbdasgUl6tV3zJQEZSu6O/oCfz0+QODU7bcKUIpiEjJQ41T+OuVGYZlxXt9Z\n",
       "7PUmLv5bF+Fsyg5BG9/QOV3w9sBtFYf2pBiZpF1jOShSIQ3TFP00X+/QpU/tdXl1oFXidwhLIBUN\n",
       "a0w6Z8mKrS4vpDDPLZiEoRcHmY3Fi60C/y0+NugI6Ci3qbd5cx/wMZWO7eNkKY++cpV0vBzZpXi5\n",
       "kp9TmPj7hkFKV84swu2jJmLmgQAADG5BmjZJ4Q8mUwIJf/61KoAAAHSg0HABfRtJJb/dbPA1rwSH\n",
       "pxJsRtGbWsrUzDmRjJiXRwSNKAdSE5uhs5aTtNTGz4K0z3Vk07/kJ/n6AbAPIIrYzInqCVg+JDtl\n",
       "pOeku7I1P0anumHB2318DWAW0yPxCcAGK42LduAszIb9eKRu0wtEUe7VSjUCoNDy+Qc9+tJqPuJy\n",
       "/23VbRRAIYf+IEG9FVPifynIt4lux9J0ijxqD3AEqLDwRriQngBdkuCkp3cEjXNjdd18RTPUEk1D\n",
       "WkMZ5OzO5HIGXn8jJOU/WoDCGe5WeikL6j4pSNVo0ZZAGW+TwYkLX+ghO+XW2v36iEkqDO70OJ9h\n",
       "8bNU6AgpT8z5nKEJbMFRH5YKx/3le/9nW+SI57aJLgdRSim0vfj9sL57R2uMk7ymxlucD9Bl73bM\n",
       "ORRyg4OLSmncl96VFjZG6rpcE3F/R0c8PZYSY14XY4Lmd8Iw04V11aHBJwBC5DhDS/xIZpcdNeHJ\n",
       "Jv99CSa1cmrh6hXxTfMPZf0Mcsg+bxUI3VAQDGp2rxKUbYWE/dcbOrQAC+IwSxTynEPIU6dXcxY+\n",
       "AmSNZPlSD4KYC3BRdBmmkgjIZUn3KaW+m+lnPkr1BmAerUbBE+kHE0PjV7+OU65GKV/UMnnrUkM2\n",
       "06gPjzy6coITSDbSZmFYlnhHjCOFGAq/FSiY1wu42WOlHJUor1/TajfXkuKZDfZIqGWowPYXGBtm\n",
       "YGarVWnCHmak9uEpJZePDFNmHSnMNPDKSVw46RXnBuPE2FUmGB5MxETKdJosuMlMINlb+ZyTNDHO\n",
       "Coxw+JP59m1NguYDj3PlUjPxHZlsxOpKBs9+v2W/vTUWjvbYlApMPAz5AMzslw3DSy3ygeIUkl/f\n",
       "ojGDpShu8JG+VXIh7dYXxT+N1LqaRdHBCraX43plQ12pb3IjN/Mtm2nr6e6pDT65NgU1PriyIF7a\n",
       "0IaS5895CbH6vWbFGmzqPoN7QE3lelsOp5S4/7MC7eREmqLQS/6DDYepFPuLyQJneSosccnfpl4N\n",
       "l0UP18KLAexnxNsAvndZYJe8O7z/IVJ/r/+L5uGd8H3owtNZgSgsDuhBm+mV2LlqhIFt4cxPa1G3\n",
       "1BEFPQo5E8T+ICBTI/YlpjIksYKraLN9O0Orrb3nnVnBJbrINHIAiL9ZSvRzt8GaM9Bem6OqSrBe\n",
       "kx3BADYcfEQg1WvCX5oSwvaluf6Uo1aDsT1uaUzRjI5fkmnXXq6diwIQeeyHRsOAmeoOlyZB5uRx\n",
       "vbnrZo1tKK2goytZ+qvWlJ3UVObKtSrQQdLU4HacfiRwaSMYhrFUF8klagatVt7zTk+rAoeMBduF\n",
       "HZ6O4/xcRZhxXehika4fVqSKWyzM16A0WgMvakIcayOaqesvVrKP8RhJ8RJBB1Sy1KZgPeoCC7hH\n",
       "8zcW/Hs3sWS1iAU9+BEPAesPn0YToWaoOpph5ua6CsILSi9JpS/zrDhU84CU9aLmlF549MPl8mUl\n",
       "k8gjMvA829aFI99kussQbk7p09NCy9mtVRMLBN6M1kfWKARi6ivmFSsy+oBbjZ71sxp62X1eGQ3n\n",
       "dHrLZbTF6LPIukW+FvqkIp3FbomD2Jxm6JquMdADcy8VMyw/b/+vIa+RK9aXsyfwkPA6AmBKA1hN\n",
       "cvKkGgTk98+2zWOYzO5bJ8ezI4+71Yg3Er7EG6Yt3aTjM1Nk35ZVD3+M3qw1QnOH52wljAn7GXqE\n",
       "/vi9hLLUfJxIiP1UXqzE6pMAPiZhd7T5NRtmewDBbJwbs8LjMNXYO6uZAMUajRCwINiFfGogfB5s\n",
       "H0k3+7hATEHlke1BBEvSWnqSsSSc+eisxVVcxKFfAZXAt6511WLQOe68L/04PRukFoWi5ARkTIwk\n",
       "9V4rsGcv+BWtAETFsRjwG6Gw4t+BVRkCqf2kN7Mt2r5UybMK1SULGMuft67oe+TNAP3U23Y7huu8\n",
       "8szPsMayyY62e6FRkHaO9AL1kXQj2IoPE2AMC4LrJzCbD17gprJ7mYZHedmV8YW2IaEDhxyf/EdZ\n",
       "UHFPD9GF+ZD9R3hQPDZcc8p0roq1Hbcxr6vSbebemVCBuB7+WaBURo8c5HyMPYf+7L8t+44DV9LL\n",
       "1bNbUEhiD3OXy4rPug+gUyYJcXdv0CaZllnh54Fq56JIVKE8ElaDBv25esH+vW2TRnsVjKDGKwbS\n",
       "QCMGgyEUNwoxEBNhcFFqf3KW908o/QszkuS/RHxzPiwzkCPBT+brK4B/V55TtvJhXqfrO0Hzd9yq\n",
       "u086fkCAeE1xJeKvZrzKf1ewqcQCjmxYZAf9b/zurPnLY/4T4qBQ8XIQXaTn4/MHei+PQ0LRGke3\n",
       "QlhIyqsZvahpwfKYUe0H3OJ3etwiP1n0sEqL+wOHDgcKEWJe6XGf/xdIhNMi6pBFdAZYjNGm6ZAz\n",
       "cqBvRRRK5rZ0TLWynJmTUrOPAmibkvxulugDKlpVxSum9Qg9g6RAVfgHA9b2ImOaVEQCSJwgVvvm\n",
       "58oAFWWzOE19rvSWSxv2h+Xs3/dy+FcO0nBOlUWFX1rU01nqaIhH7VIsjHvbNygrg6GGK9EVlKRn\n",
       "i8j+mw5nSvZ1DECsOQ+TLhjdtbnUbYvfbyjz5atrSmsH/HYRcnsMB59/wf1WpzkRkBt/2msErNvA\n",
       "g8bd21QK7Aa25OgDeB5tHzl4ObIZRUUBQMz8biv+fvbGGaUieSOoi67S3pvuMHCEuDVvhDUf2rAh\n",
       "rYCdAcTfs8rs7GcZcDSM6IdTPcKuwmbtseL3ol8vZGdF+wNRovnG0R8bne3qWImIjlyT0eUoAB3M\n",
       "rgC6jV9Dg2v6hqUIsj9lg1Eugp0sQU567D9TxdTPA5cPb5Ku9R/d7/0zvTbAY3hhgW5aQgQoVwjS\n",
       "/0xa7cDf5cW6CcPxK2RpQprTDvSJsZwdDwNs564li3nI3A+L1PJducTWmw74JV25ge8+2EADYCSe\n",
       "4rOtmA8IsDst8CLnZ5TpOcYl76o1H6gmcEgkjKrFx4ip7bVNNVcr9Ryz7yB7gfpUvtZGfr4GaYvm\n",
       "Jz0aHl9pRzOLbOyNmoe+4rSoXQBWQlyeTZCiKfzNgZpWLrLHoXppdsw8EODqWnCGeZBH4lztEnIr\n",
       "ndkCEUmSJFD9m1ST/X31uhIetKS703FZv3mkUxkW6nnzDFO5xVaf0sd3tjcACa2H22V4n6tJQ8JX\n",
       "odTH0YWNEb2FkqC+nsf4mvThbvdU2ULruO1LtWZYqHNRmhUQCTn9d2daAG2GFovFwhMRbGVY30IH\n",
       "/AdGKo1YzUFPRIBSJV/OjdgzIf8f8mzwkBFBEhKV1/8GCJlw1jZD4ImDynKw2TSZgZxPYAnddyNZ\n",
       "TsdHkBaPPi3z6irXFyqjHS8r6/mEhI7IPM2/1ivZiGjy+6tTOzyumDPANtAA8UxdnzJfE3wUIoru\n",
       "aZ7W4vjrb41t1QPO2+JD5XJMDW00YrFmLj8w2MjIVVE5K8zxXIoYpjbJc5JeIp/fchknehvOm46K\n",
       "vf25Y8ocpu2IB/jy7yXsqb9OUKYq6Dp5Nfc4ZWw7vX7uIPZ3FTEw96kCx6IoH55JAp2F1g1oaOjO\n",
       "ikbHE28e+4DyESXI4ZGYBzrgBFCnb46vhEOA5WwAx/AaIMW386SBzyUIlqR1MBLE4UN9jziFDG2g\n",
       "3dldhBz3KZD1HAwYEEbpghGXcQGrUiPQT0pT4ALEnlTZkA3m9Om+/FDQTpuJb3UCQH58aqThVBT7\n",
       "noOfj5XscSFr4L3ksieuj7FUT9DVzlF3y1OTF5Uy6uFL7UrLVGVN1+8myBb302rZMicStfsNTMaq\n",
       "EIMcWT6Vow238Euz5A2whl98BbMtVJchZYTHxyHYzqTyQ6ocwoz5KTmGU48rsT6Q7Go5u9dR9p85\n",
       "VqScERFBofiDJHMt/jMfScXUZigh+ipemKvA7vm190a+DZVx7/unIxYX/6HY5ZRtE62DJfNw6KFT\n",
       "uuO0sRKLr0fO/SF6W7HFfNvfOazB+f+UhQHBHzM/D6zMNiVH3tM+92oDC9EJC3aZ/4812U3c1+VP\n",
       "bCJ6iwF2stavuK11ZajksW7dNm2LxTa1kf6MwUrBvjbMKmbMiihJZR9Jyy3YFizdoPp/YUHA1dr6\n",
       "fUXKXVbcKKimn486zvBbJEnbKNqGv1a7/+hhonFbsqEKEB7oqWHx7qiCATDOCu3llIPy2wVrgBqh\n",
       "E06oK+dkwKNlyL68o5lL092ScUrupK5zgI0nrqR34K7trRdA6BgLcdkMJ4B7C+cIIuDix/90KAFX\n",
       "zwUPM3VfMrYJRPvsQAAADedBmldJ4Q8mUwIJf/61KoAAAHSg0HABUatCz3UR7zFMTibW+LQogR4/\n",
       "C6zj6KWzSMilxIqK3dXpi/tix82+IuUwnrc2/kkU3TA9VZ5YLzxsrxU7MxzywetwMrJJemJsF4xN\n",
       "JBAhuGBIdp5P0uuUGdmW3pliQHiIb551p0m5nMT1j/Ga3qvwcMT05t5bRXXCFBVhvG7oL8SXGMp6\n",
       "n/8yAp19ugTHnQRAoYsdA+sFF8LcYKxAQoxQv74HsWE/2WS4mfSmm7DU/9Zvkfavlt03+4itOQPt\n",
       "LHWK1dAcBnUCybgZE2eGZm8MMmvun+Gzs7ksPb06ZSghFzWwdha5pY2J2h9TmtovRQpqNM+VonYw\n",
       "zpvR56zv37Ar37QIaHKF9LVCEuYMaRYDoH6X7yw4zqOoO+GB//xdnD7PcUy07j84C6BKf68kkDF1\n",
       "gRGcAWHENe3y+7GEuhxBeZqGAsqki/wINh4EIjnrPJbuPZ1Wxx5wIIvadfT1n1pFPZcUieWZ0kfo\n",
       "LI6nYtruBrdhnxlPnJW848DHGtwS7nT3ZMOm5qI5uC2yEQs0YVpAwdI3YOt4FP9ATV/As6bK1j15\n",
       "NIsavozZwL5OgYtpxjD4V5oQ9L7nC6G2eziaqryANqwHoVWRuYbwUDFysuaI5rZFm6apEOa4kSrY\n",
       "IsOT4wJCaIkIVzbG4RWehxRlUM/1bdoKmWl0prz9UzdYLCVVw8vTqhdrKoEg7i0nxFBd7KHUWlOW\n",
       "TH4vryg6oy+oHzzgFYjAHWQ9LHss/whk9pMYLqWittEIOY6rBCyRaU0sTbLp7hXf4uII07CyFRVc\n",
       "ib9uhn7ObezEZ6X/5vmIbMrrs5G1kwjrRtNf6JTgHffIXVNjras2s5wGRp8C+UL05ed1eEu5ha0v\n",
       "k/B4dkAAYvd8T07ny18pG8V9GDAY+XFq//6HclTqfOqVE6Mmf9hEvR/djT2qKqQR/hApC0EZrJG/\n",
       "gjUW+2GVZUwAnRQk717jQ4JOiDh/8Znpku5szFyHP6XNQDTp1QjHQg7k2chIs2LxfHUgDjvsrE7d\n",
       "8oM9j2zKAko6LS5Cw/ZS1bz3pCxmfs1OyWtSLn5O5pzZ+uU3yZ+rv9Ec22aB0LRYXLNzFwgEbsCG\n",
       "7wXhS06D+RgIA2MAK6lv0a4PmWJTT1FcnAUm2YbMzYbZXJzrAEWXpa6ZXzuRu4ZvZS+oG2p5sAjK\n",
       "H+BaBYI2gZ8QL8E5hpebtrz5GZjXUaAbrykAtZNaQZv1PnZ6ttjnvvpQJCFqdSForPz5kZdOtgnq\n",
       "WSvLY+D8dCrLcPNGtGT9qkyWwUt3na35tjXLo9N6TNlQfhTHQ7tItTW4eWclFgwiUSUBknNr7VgB\n",
       "IMTCEvIooIdIKX5g0kXs5r732/HCPh0/4//tNZwgXtC/FwecSBJxUOtZSeI48Hc0CTjj10MkwM/+\n",
       "AOJsZYpSgOgTCGVbdNCJlCatxkMth9IALbyWf10z1xDe6VLn20EWZZYRZGQhk+WxH/GvOlhaGaAq\n",
       "DfT0jNlZFZTOEC0xwLlETUzAsgTY5ywoExqTp7nROp7mKkMw/DZuDME5Hprtc3Gn9EGybgNFnN5e\n",
       "k+E4COnXHVtMlLcDgP2YEvh1ECE9Ion9P9Qq8PNK8fYF/GzF/niAef2qBtggXOT2bAlyyXh56MCJ\n",
       "DGXS2bgenwjcvoXrRTIzTXzuR/Qo7a4oteLtUwc22rvFN5lnZ11pInU7veqDqPxbs1moJII5ck4c\n",
       "9qaU9U/FiIrwTe9lNgFsOB4sO1lxTWpnnxsVPkZf+rxkfRu6CIVFbv+mLhg5QPYKjnwdundbY1TA\n",
       "qn5ck18ZnT4r6vygiJbzawdv2jLiFJOtBHJdwwHxsVrNiIIQ4WjIK86+7+saaI8kjrzevulbnltz\n",
       "ot+r5eNGFXtaujQG15IqcjWZH3b36PfYYNuqWjL7lEc7OVzK5TO25tOzqZK8boXJopZcKdTqHQ/e\n",
       "Bv2hpZiOD6j4OAZbup1U6l4/0gWddEmTEeuZokKDTy3dVFqvt2iZ7ulLISPAfSGxi26z9WeRBmP9\n",
       "aHJw3NJOjm3zjaXLjFgmh81N/5BY23/me+FGgcWhCBVg4iKVffyeiwRbqkxJous/yFSMX3e5AVtJ\n",
       "YurhAlEwfI/avD8YJ/OOtuaTRO2m1/xw+22popZ/8efyYvhnhilZBUjl61RG23QixfcrHSpZweST\n",
       "Ez1I6gFrtXikLjzCdxqus/kTFd0BuAf0GHbWLrWUScz1WNPXLJywm90zB0FTlIbJ7s2aNZ59Glk1\n",
       "WqqQfvbmIH7Hrl2XYalvUYY3FszPnNgDO0fHcCC3u7wHfDTWwTkfwx+BONt2PLPi7hulFQVtK1Tx\n",
       "47i/Lz7rafRp3rH6mB3Fhhk3K3+vFp/5wjk0lfSSNdfJOjydU1V4+SjAgzWJJjpTFDyhdrbya+2k\n",
       "bHlAgFm8pIF/AZivJRrl/HiawPcIAgmadiLAFDHQfsMFlSd/NxtZAVR/p8m2rkgcrQefwPd7gnUV\n",
       "a2sUYbarjv8Xp4GfYduLOy2U9gkvsN558cBS6GOJpKVf+g9Alv2xlFf1dnrJk6spJZzy5oudWms3\n",
       "+olbVdEUkhUn/JBLcQzf3tUt7ATLcE9WeNpffu2NX/MKerjKGJeqymkKj10zMC7yv64mpzGI/kVW\n",
       "B+jengZ8TE85QTpg0w46qdZ4AIyR3W+nSuLrV8jHSmxD5eZ5KIAepBVWqMaQtSy5ETK1UNaLL1r+\n",
       "WLsyv/ojPNqZf7PDdMwVJF9IXsaLiGSf5wfvibaiDJPd9ey5E02tAyyl7E/eHWmKHhuWHec03oin\n",
       "hXmI1Mhzx3L4YjfvrjWtj7BmesPW4idOHoK/W5m9Hl6orBVu0NZtv58dKY5cUUaGIpUWum6LqGpl\n",
       "EMnJx0r/HwW0mgd/XGLq8Q1Z4dfhfOcaABZ1PtPXiqFPArgq/JQzGejpga23e6EZxKnMkbcXGZxp\n",
       "mnFyV7tw0VoCCvT50pqmnyv/snuWuWe2+PBkyM4E6A3EgW3QxHVrIa9/3GqwdU/1g5IoPu92dvdI\n",
       "0Ol3//PhEgMC/ZGgrA/8KZQ3bSLmt1qTlAoxXwWgcmSrP2IFDIBYcFvPH2ywEuFYskFTAE1nZYLl\n",
       "mg9IsUFEgaWg94FYFA6Jrykb3V4uM5s9ccgc2+WuuHC0t87eVNNhLvi4eWEbxwk6fpXAgiRJJIqX\n",
       "Ebqgcx/frCpTVVu41JYRE544O0ilmlwCSfpZigHKFyobe4vF8z43BJc0kiIdyw1nTRaJOpDloa4F\n",
       "BUjZP767fEkeAonzJFe5Ze/PeWBmPEBwiSNAdS9v2rQ7nfxd9BGWJnsfyLT6AlYaJqyTzyMof1MF\n",
       "OnZ0vnFked0ht0GBAxhlhgbowqNrVvk2mL7L1ox2G47mB2AR2CDylnVLiACO0LdLNpZ+qnuDXsPl\n",
       "m29hMQnzlSJRuGyOY701APpBAm4M1bfoDd3/aL9VLngzFOhlmivrqDxyHSp+xpMrvtP7fv/+LndD\n",
       "2SMX8pDP4tz8XPgpYbon4rd+98e4Epaug3G+TopXOQVX9y/SJ1ozXxfkJVXt1X+gxI4XYAHIbHCL\n",
       "wtn+Q8F1OMtQty2vvyLLg2UPGEB6dhk5ZueU+FKNYPr4NXaZ6DEwwG6GxDzSRJCyN33iBd4EuIMx\n",
       "EoHBABvBb3batVmwNbzmz+Czn/xE/M+mXgK4K979mwAOHTX9S3UKisq7+DU9tjr2PbikQ72i6RoT\n",
       "VarG9zzh8NJPNmtN+d8PizHJRjqKWEg3DfHtrzGVWqVXnFLHC5NzT1GGFRBhvO5sjOskqgC7379b\n",
       "08v84xG90qq9Lr/PzC18fJh5BteA0Km7Hb1FhG7UQmE44EIlL63+zqKbRpfnb59QyAm8bsrmJBWt\n",
       "vHVqoKcwCeLOMF3ruEmFhU/edGG1uo+kh4f5kgoS/UrSZzwg9bQHcsAjsTKcLd4ph2yuSrraOe/F\n",
       "KIP838h2q4ZOomszP0mbYFks5CPIbgR6d7kaTwXsevCZ3FKbUYoueKy/H7q2UmFi9/qxhOpHantp\n",
       "0qEBQYENp7EBANuagGCmwkafmLfjZJs3ySNECYRTu/hGHp16bs/d4+dkZkj993qhO799Tzple317\n",
       "m6LURf7hvXwAa2Jy7QibqTvL3G0Hp/FG296H8i1DAJt0f1FMtw4In3Zol/Erzx6PDaVX/xK3lAzn\n",
       "egdfEGx370bZLsP3B4GDZ0mSJjib71o7OkfJEPVfkpiNXfFOT8GiXNzcGTDE5nWafP1lZoaXexwA\n",
       "e+kjvloxrTsGzjjGXV/6vdsnYkwBL3OzMxVJsPG8bChQQnnNXqRTxQlRYsXt5YRd54vdwlbQWzm7\n",
       "Y5BgE/uNWHhi1o65uDwwH203pd1XQMXYVhbO538XKchbHa8mz9qWy2YJybKwWNFpU5W9IUhrcIvJ\n",
       "oqolFUF2exbSCE+ucjbIGtR2bUYPq5XN7leR+V3QoZIOOVGs/Wv9GKyFF+Ytaq/l3gkqU47hZy63\n",
       "tXkCYCD+/JC7vvrlEYJWOjTrp6SXKcQziMLzFjLCs3PeOClwBReamk+tOk5noCTEshOaABDslEJG\n",
       "J8yPFc7ZLVA+vKO3ijw/scMtFFMdA6fN5+DsqkbtPGHubNy0X+fVF3x23/xDYXs6iAveNmKTgGyh\n",
       "DYbTS0Vl0joifQyVja5UWXYp32MfYCuXWhpph4L+roo19c1vv7NkKauLJXUfwm2U/ecUKmxJMyLr\n",
       "vcvVfHWMcmdlqxtm1Bqca5mbgSZvK7qm3UtSvMel/mgLjSJnnAKONOtxAAAOgEGaeEnhDyZTAgl/\n",
       "/rUqgAAAdOZEtYd2AB2m8NY9CiZ+HNjkq+eCZ0z6D+R6v9AbnMMcKD7vI3T585/zZVar/hspTxAH\n",
       "ncyDRDmnG+ne0H6HVA8H/9Z2rSvARNG2+MmlJpcN1MdcOubUr4CrHoUPrC2eJLN6PffAOh7ruvwA\n",
       "loRQVqhX0AxcDC6vVQrcXpHuWWELwZj4CqLTNyq0voCWGI6Ris61P2us/sdH2CT3Wq55IWkOPk0Q\n",
       "ne3i39FssA64XRtvJvZT+jiQ6eXxp+654sJgHQxAb08Dp3+iTX3/KjCAjb0k6kKRvAHlJEzYtm6Q\n",
       "UQ9sDlNPq2yHpgkSs6IJrrLKla89nzFuStDAaxbsPmKEGQoHbXp/tOLGoFJ6vdkZRaj6MJ8PYzWe\n",
       "3lD0szmsNiGYDZ/doM+gzlQmPxiEHwHCteV6BMvVWv/Y7VL5Le1NAnqaaRwBHlXf/YgUFAMfLgYZ\n",
       "R+SNgntNS2q7suYTlh1OJQvO/yBbAY0Uyng67q+UsQ5CGrzvRbJT8H9LpmpEmp4F78FCx9YzXXAv\n",
       "AiGK9aLFfnoAF8e9qcS+1Vasnv/x76uoRjZ1qladjxymBbzvMCazeszmrzQQF04FC/NTdqsT2f1k\n",
       "gAF9JdfLf3/6+7ZIhZx9k2T2hu0ee7jZKeQhSdn4RMgsmBJavibLUCROePwQg9yYqNXip4BLnXI4\n",
       "yYr8yreqEngX6ZszpB0I4HV9Hn8xjFP/iE9C1x3zIBKEdaPK2eYPySaTE9GXbI8zGw7UtMZ9aL2o\n",
       "1dx7KnmdZ0H0KNkOBVwwLvptFhjm9iZrMg1tlwfGE323fhp8QBp2ElIPNmJNcnZSZSgZ3GgBjpjZ\n",
       "+XW9htDW6pNlhj32EvAs6IicSFHX2Ke3TL1WR97321iXhiycsBLGVBIjGAKJ3MfVkEkG3694sTvm\n",
       "8+BXETKMxN8B2PXxyZ6jAiMhfYHZx4Z/FiLa327SCpwWxgfoK+Tn82/jy+VA8sjZvfFN4Z1efZXh\n",
       "KnGT5SY2lIgXXvu+qTgkflBUvd6anGohW4M6eyJO14c3cMbp1Jq1IG0AogGGZNSBBXaOERvJDolO\n",
       "Hxyjvcirph4VjeywH2vp+QnhOXHJjzHaH1reqEZrktnOfQpL7gMKVIjryoMS07T5nwnWBO83sypP\n",
       "q/dsWgejWoXe5qaXCv/wbwZ0fcrfrNbyJFUxcY39UF8A6qzWOPlRLB3vtNWbD05xD08/oQgT7MWG\n",
       "s0C8XGWlcNro1mET/nx1OUf/YEk2ukZl0/Ke03Sg0cBGCdLE//UkXXpLWxOgr28/BEoZmkFFnE6Y\n",
       "Op/2RsJaV4E8EUcKVz02YtAv/hdtyQi1spcJcErcz0SFo9QLZwXWpBZMIRnjLKXUBbXKpT02G6sW\n",
       "rOnAxp3QGYhGCTrZVcDQ9lqLH+uxeLlcPlzGvu/WmuGorHBNuF1DodwQk4ciyG9JhlOwE2Ki6X/M\n",
       "57K6cEqqWlH/BIL6G8Vle5noGB0b7oYfJAoq2CmCMl7iAWdFQXUO2vxF0V2Kox4zhmW9n+MC7Pp1\n",
       "29FPj0d0u33XctR8BcJ++ZHbsbjq0wo1FkZm8lfK76fsyyg2jXdJVpR90Rtkf82NO+3hVtAr4Itm\n",
       "hb5ipp5i3kGx710OF9tBdlZvkPP9nQI4jlHZiwPeDqkLIsgauXTWIFYJCmuV7+f07Z9wQRS1/MvD\n",
       "iKa4ANWmYLcjiMfkHBvvWvfBp8K9Lp95sxvUN/mCiCKisYqspYFMlE7nXx/26RpMbWocfcH+15IZ\n",
       "LtkYsFU58EIW85kMltUA9t01532Z6LTg09MAGXeO++skaiMNL/aY1fQm7n3FkDxw8Fn3ZBJk2j+2\n",
       "Te/z37wNYhj8MPW0ui5n0X1Ve+O+mxdXINzzppuq9bVw6K+8Nkhzrj/N+9XeV2NjttfHbs6LWJ2R\n",
       "qNeDKM7JsnMMXyuWev5JWlRwqPF0SlJMJ9qO11TQbXEsoJ7HTUK6LaYkbk6wuqenlEed1+Hrr03n\n",
       "/P8zT07QHY9SNmNgHlgP0oVp+oFtP0gLjqDsumyLHXezEvycNN4lGSty039ZYnW1RNSQa9HoXU1a\n",
       "8q7ZEumOgtFHts8nPRo0HVpuOZX3hhjGWpjVeYAgqEQqWLB525Kobtu+xDJ9qBydOO3kgJY1UTr3\n",
       "72LWGL7zpxbDSOeDFWSIRPGay3LfvJzoU9OQ7cF9hgXRgpGoijRe8haeBjAGjME/1XUUzKwKXVcQ\n",
       "XSZwBp/JacbDrn0Vv9l325WS4dWTxolHuZl7FNetoDNVx9mhisJU/ZxGyLowDXwfKyDQY62+R04l\n",
       "Obqp+KxwqaQv+H9GvbssFAWFTx5/mvEoImNGe0LLQ3SyvJQw88Yvozs3XdLkwA0aOPVrnyQKoKSM\n",
       "eaGuno221X9hRlkzjSdwB3EBTfwcirg9IUsOiFHWJmfYwAg3KhisHDapn4YkSDgwZCb8Qj/vB55Y\n",
       "rDYf8lt1v0u6YR2l7pKevmh6oufkjKpykKwA/owHWAN5bNjQr1VcAbS+zWveEIXOyW173m5hg+Sl\n",
       "38p61qzPH+qv7fj/gGGGwXig6jyH2qWtvN8tAi1ENy/ZzCHXSwZYtDXxznlwAj9gUDKtTYL90Q+m\n",
       "8LZ4nOUbrfo1RgBrV8GjsqFFSOI+kGRAGFElKdi56zJceCbPwYYfkTh5ZnO8DbX40mYZFDb8YSy2\n",
       "11mJ6RubUJyTC+cL3SKW8FqwtX9aI1yX6N6tFhogcJrqEeNP8CMsDuY72y8UOXWhK4y8MyQkmrtG\n",
       "mAPF3XqETpmSoZkuJ8/mMSQDaMNZan5dME933tfBHX1o+zwR+21g8BybtHnj+11jqh7oFneU+cMW\n",
       "BPIkxx7ryIGUZ9oKcrxwoFJDrtw759wDEjqBQJP/5jykKfRKWMA3diB35YxShukqBBVzNenF1SGl\n",
       "F4HjgjEH7305MarwsrAjI1rNTvhHWaXfFRdwV2b6vSYV7RwH27NE1XlyMBg2J6NJBMN8iwDMdHIg\n",
       "33ZxjVQYbEs/adRXi+TdxzgKq/p/tjicfhg14ucnX3R2BdTsUgQZwjbBD8JdsAYxWfoQkVb/IRgL\n",
       "t7mAEyN9JIopvJ+cUk5IBGyz724I5Ef3uSUi2VmtvA4cIWT1lD+5UXtcl8q5TBPO1BUz0Wfj0l4I\n",
       "hiQcR54S3/WNbu8DwE6zLa5C+g1yXlI4PxtXZzJu48gaMf6C6Gb9GeH8Lk4dA1t15b4FifB7/Aa4\n",
       "lBg6fAF8C+rbfu7Z2Nvkl20c5HMaKbkvcHoJXOsuD/fv2O5eaZZTZ7htCo2AXQAQHPa7Mqys0W7O\n",
       "aGGlTETzGZ7ipyytR8kynOVxqti18kY2+FCe3CZShEsME62rvNFbh9xJZ45OewWar1IZ9P/eU9Ce\n",
       "rL6j4OWcodKV9KqJ+PHcVXBeHTQNBym8ZbkWseLqMff6vy/64dJsE9vdaZENlgdcX4vjSjumcVFa\n",
       "NmCsaFolwf0uPD4hFbfCET6C2eJvcRqr1MNLXiyKQoKkgimimF1UyKrYWtxRfIaY0ijyD2Nfc8Da\n",
       "1iFoicxVierlssHfmz9F5aHw2dEy8lLTaVSQVW4WM85jsQ/a4l4lMLD8nYyvivizBKRDfHM47k1J\n",
       "WxPuY2oEjm6136TaiRlRVXjv1qnvFbKSC2qA2xWZyQBZzuWKIlyECHpktOXQHhSp8hUVEFb4YwY/\n",
       "gYJIz8rXeJvaxR+uipwLcZzRUMUF6iEFEgTmj19+MNs/7F8GfdQS3mLNWGkD9aenIubBxkR3uNvK\n",
       "id7V+x2M6mc9ZcU5Vt19nOsq5JPZ3B25GGAzlcD7+ID6A/KWr66QtGH5pMH0zeq1upCkmTmgVJL0\n",
       "UwzvdoXPImvzwZ8dXIqZbldokmomRlLWdmZeJOVOixSTTHwP8l7ZDgiqTmZiaxzapDpOG1uco6tx\n",
       "ZCip8noe5VNotvVrwNDipQ7/1LIG70xdcH/4NJuIhJEkhLfDthRvpCCJk7rM1Exw19lFFSNvY+RL\n",
       "GAvyTAelM2db/v/V4RetFygRQQ/CuofLCaiegy4psKyiTybbkBnvNdt1QsbJ93TrnV7Yig0s/+Ok\n",
       "jYeg8VifB9j5YVu87XaL1qSVY3h3wnIS1DPks2CFv5sWfmPSdVt4fiZ1mCEx7FEVcr8dqfJhboFv\n",
       "AJ3Ue7bFUWaSbwHFAoSPCH67O4SN49VEmCMHscCAUxKGj1bbVOvJSuDjRnCAF/pxnMJrx2/y1/qm\n",
       "Q6zEf3Klf2YcBj9BqNeawP/t8tHjyQUtEs3QcYjbRrDEUdL2mHvSHuFIUYBXMF9EH46m/N7F2qII\n",
       "e426hjsWiiRc5byKMwF10nMqxb/fDNIkSc7x+/2WB2Zi7HVqawWZGczQP0FAivDjVF5FGSCsmYr7\n",
       "5OAJjHnV3Jeanq8dCPYwIa05QCsBNfzspmUXIeJvTX+G6Y7XaPcOfieu/rRN0LicJx59ck+rQub8\n",
       "KNL7L8B7ooywsB4/3irjvOfmEU0swAuMRpcrOW46rqGufTgFF+qMe0Fi0F4+JxXur+F0O+LGGi2o\n",
       "uWFFQB4Sva2vhX5x0j8jvFVgP7EzPhR1CxMcqxbsGwijLQK0Gtfv6Grm5Xuqo3VO8aiSZ0ze5hld\n",
       "DtjzaT6NHzbNfIsZcKutys5WWeHQJ466cNyq5+OD6lnbYtUVsaphrbVD0QSPYo68xarTWXavoFfO\n",
       "xRzfaEQ2iSc5Rxdn05JzYZ2eRRcS0MLr3O07HkZNl6xdDwzPrUjNsEPu3K2zWlIoQKD4142ryVJn\n",
       "T1ysMf65XwPDvTOob40XS6MfkqhinGInRjDzkJ92b6hJGbf25NHi6LKvPopYoNRbRlqBez7nudFJ\n",
       "Je6wugyTIxXJ1oBQQollraYargH+2luGsskODFCxQKlWOrZxQ0nvBU759JI3DC9EcUOhBRUnd9hn\n",
       "IJ/xvepGHJtAbIQJyh/sbxSq951FVFEeYp74wsUYP4d/l8++wSNyQMPpYlnCyum4td9LaTkAAAq2\n",
       "QZqZSeEPJlMCCX/+tSqAAAB0jA23phZv2AC+jAzbkbvaAq417klylTf75ctBpY93KZatAXA9Mw09\n",
       "JD6OadXs1h6uYPMlFSavMlXt045JsRp58TwVmmPFXaEmv4i3xvxkExtGM8H9zOYnr//ClabJbx/Z\n",
       "luatRFQOmGc2FRRdgAInd6AEOvdr4J1NS16N1p0NzTyeeZVMsNp2Q5bpAzrS4VtIgsTBN36alB9P\n",
       "UN/GW7WyWCc9l4XNRHmAWTniURhh33FhmJkKrlmhvg1yOtZbY6r6/KAMPaDEWgeruJYl5wk06XhI\n",
       "Mb5/u6huktIJLMk4spWNlQXb1unQAbysorSDK4/SbI4mxw61Ve5SOcS7TWho9VGQR8l28ECsuFiJ\n",
       "6ONoDD5ZNdS/72BNiVVcJEOtK+10ogE1ah3Cqzz23421Vh2ZjD179/y2wwMK4+8ImHRfUbG6Q2I0\n",
       "DSZLqLBcE1/8te7iHlB71X+jEv0loJLMQiGZqLZeQCt2sfR0I+CmXmL9b9ZimF2657iLlvHGdcI1\n",
       "xNcqKGXp4KQOb5RjwYFY/Ma00QdFP23Xo8z8ewkuRCH99oZOwueLloLXafh1Xc7uYF4hFO/BDkbv\n",
       "Qu64yTIoXqkLuNCwCosqtTazEqMQ8cawwX85xVn8q3f5oU5hhF3Sr3/ElXz6nnP72elcuPAUrbBO\n",
       "/xNN3whbWy/TJdjJ41ToM6Ux1VJ82X84O+Fnu04IaS2QHhpG/tRXtnuLGQ0IrHIVetRD+4mPSDbZ\n",
       "5YNbuLvnuPvJJRi1x3cZNNP45B4QLLHXVPUExPQd5OYUZ/QvzQQr6o5I7INEer4FCTGOTVPWfbdL\n",
       "uzOkHm1agoRMHNmxeL7iHnxcezFqudpLwmqVal4MXDb3rbDzp1VwMPTnp7AckpArNy0JwBSLM6eC\n",
       "2jYBwjCZaxANWYWWSxcqKdbwybSIZL1WDiO80qt506fWOpM6BGs0/fCRSXzMQqkzsOB9TY/r5bxU\n",
       "duRC2k8o68PJHMV7vscG2boZDVCAdy4unuSqLiOPURihrxAz6g1bfyfLdbwyBPDW7bFr80CsvbUv\n",
       "HX+JAnWyjtjGThYSYz4QwfNqdT65p1pGXpSBfxJTpC5RYhVYVvt7UQLRZSkN9M4U1EHgC2afc7Ql\n",
       "hQvrMNk5WLu3Zk2PSzaa1l7mGHn/BCe4XN0CB0gqa+ulLte1ygrLo0hyBeam2NUeAJIW7Dehv6bU\n",
       "Oy3VSFjLxoAALlF/AFI4z9jImN/qnFXPOWZY7NNtGsM39oATF/zMEdlNSQD0CbtVZ383xXOlgrhV\n",
       "qmG5giswcBlomm/pg2jFfOuOLml/xSHr/eL/C2uVq5XcrmpDyDlF4jt1YE9ZAk6YQC97nJlS/kkb\n",
       "KNAoASj7Xd3SjP+54eadDGbwiBSdGvY5AbbylFdYKw3K6Ej9Fmg2ZHdW3Z2TYydYYxD1vyDO+z25\n",
       "s/F50DokAw+Mv0HZjVLOSsdxP8A8BNLbfV4FI8T92ava1jW8CWunA1UjyxMWQUZHOp4+t0fS5X4r\n",
       "6OpRST1/7BC7p7ZexehkhoZq+1vGugAfQ7LVSTTUmKl8KkVr7+yBKL1XwAaXFNrqTD0RrHk9qaJn\n",
       "eRy4Y+NIg/Syuj5Om066beB5zU2CQ9/G2wphoSKjR8K8RgbRr4hE5uG3JCPiKY0iBqfhpmhwOyT+\n",
       "UxAk5AC5wYlPvIm9y0Et/FSedfd1HYwZ1Tq6nZ6nBHICMTvFoA3trhNobqcR8+0abV8llzGTEQ1f\n",
       "WnTJcCzLCHSObuO+l6/xTyRmybITe2/uudhakEUWPezo4D9vIamR/sDjNDWSy6HZtzjmXe6o3/8c\n",
       "n1BopVqSvMvuWxqP+Tpi4FLNcLVXgjPGTx/AgyALFOr+CAvp7t3x3G680f3qk+3pQpw0s8Rq5sp4\n",
       "IXj7gpLmivFzCuqPWFigFyIKq5JiD6vNckM5TdOeJ48AL/Lfiqvz9T+AFwtzKwy3FZC9K4Iwmw35\n",
       "a7PkcjzFDznnwnkm0RXhtv0TcLx7ZY4iTYD4/np78828xfBxRivjYeAV/I5WmdW8cptbCkzwSWc1\n",
       "m97Js6H92ikSIajHpbzTkipQH/QvJoCUMugx3UbT1LuhQYr3PAb76arfaKU2/uzlQII94KL3w3za\n",
       "/I+acVey0jLeT6sQ8yFcIGyCWZFT8KC1vSIy95kCD8iRsxvMHkGmYfuryMevZDyM+EuvxyrSqQTG\n",
       "Z62Qeh5rFC44fjw0i5NuYzahQzgq1HefuOJxc4NO03FLSH2YCtikbsyUV78CEUPCpC9a8H9dsAp4\n",
       "cFeL0JS169sQqjeU0p5k2O+UXp2h9mR7A7rXSmvcDABy2biFu+IxGNEem+8Nik1+Zgpm7dU9lYT1\n",
       "TSAwp1Tms+pcV3EWromKUVA7BlpKH3zuh5tx985OMxq9JyjDjKpqqde78hYN7HHWfoF25856/s3j\n",
       "vEPEkZuoSD51GWxATri8xhrYdwEbPWvGQtzQ0LW4sio4WwFBN8n1/ZKtCwhbs7PhEu3/kgcd+KSW\n",
       "9NfRr54CP6japDX+NwG6Vi50jdLtfQ7+d+fRZrxn62yRe+cZUEQOEdrs4e8YmTd+smpga5tPq5Qa\n",
       "zOkd/FKn7kBDI1x3lSbIwCGh4CDGZaEiH+3RgcGjtJefcdcg7ggCV6v832MYVcKGuKpfa7ZsVOUA\n",
       "Y1f9patJ507pFz3SBSgqVdRDdZWnrWcEhup802oFogCq64rUNXsZMwDHD/0tWQ2HDZ4J4vV29W6B\n",
       "31d5CsEDNusZ3soM9ZItvbwd7NvphxNQveRvz4hPuodi+lzjixL7p384Zm6PlRhHuNyL+rjElrOQ\n",
       "ZefSSlmIlv7sVe8tYc7jky0+EldbeBWfpDpADQkKLnzORSNM1py+ydwX5gcfJSpkExfueOuONj+w\n",
       "Ov1joKtNbxHr0jJVTt5Z3Zlv63M5dUPh5ZGUc+FocPcXTsELdHCC4MagXPPzljiAQFbFUUTALqom\n",
       "QpSXFWWNmflgdootPrX/OcKsexPIyr4XG3zeiRZsqcRQzXwCBT0h2+y3lzMzjV+JB6luQmUAoeLE\n",
       "sdqIEDXiN8/7zQvzpIh//8ifkZjY3YDuRNxxJQkp/bwjFXh7UQWbJCempXTONZyKSYaqGNkPbgzO\n",
       "5QBrAa7qDhOdAyqdjcd2yYELCFc3G1aSWcckZbPYLe+SvdXdrXwLYc4q402UB/Wot61B9khUbHis\n",
       "NqVJktGYRTRyrzw27jXqk7n4A1/XF4cyfw+ki9jAGgBjnp+utAdkfXuSKOQAv3E62xXF+adHsWmK\n",
       "KnaYBWce2Mu1Wxeix3dcb1p8pZTE1zsqhf+nZOL4EgoGpPU2x06lo7lrZ6wG6qY+OUJMDiyrWvcC\n",
       "+YR4PO8V+Glx/NmorDu/zxbPZEy4OUOVbmOvUDBLptKoyM7/5cZRmtmVtPRIYiF03pYVUGw5DXNy\n",
       "lVKl6T0hxSwebLOtPGfiUb5yVeiq+820bztc3xJx7Y0Nxo6wtmJABRMfUt96r8rHZjIsPFyz72ko\n",
       "h4h58D6vPK+S04/5xWhdI+VJhoNgex5/JKf41ywOWGIPjupk2C+JkXrF163szd/j0NuK8Jum2UJ8\n",
       "K3qCBTS/huTh8skBnd4LNVn5vg0yF+qh/htg77szBHys6PrU5gmjOtX07203Y4njTjqwAoOJEaIh\n",
       "njHvcdN2AAAQw0Gau0nhDyZTBRE8Ev/+tSqAAAB0isB0y+x12ADZ1pMaZEb9FtV873oc9FOzrXIm\n",
       "Y6xP5Cq5fCCs4IV4xQsjdnXildzOkVWHayNe9vScHobwbOYXZ0ccvDBCn2BpVc933l30i6MuET/s\n",
       "jDfybifaYy8vIrt+8qhYbPkJ1ANy40Rod2RJ1DhCI0hD0E0vU2N8g/UgjofcyxjIXpuCY7s1RKXS\n",
       "hUvFzv4xL63OfsN6Vc9r3OIAk5dJT4i5FDBGBwIBpsb8FqMde3IKuX6EbcEBGC6geVsBQQgW3+Di\n",
       "dtnVMMgxucGxpHhAA1V1GnPiAEk+C5gXw4PTR1EM/4zpG2NlXdl+2EFvFcTQpcfgWfHVriijDIr1\n",
       "s7FM+q9vd0O0/bHitrBuoPvGWV/tByPwBhwC0hd93tG194TqavPnpMG9M5VCeLY2rSFtCBX5Y5ai\n",
       "BmYToF+iuRmIRTNN+y61SN1Irdu2GgxkizRedzrVdFBc21xBoWvu8CqQoIzeZE+Bp6YdMy9AZLjg\n",
       "UpZ2c6ZndMs2daEerFIrN6aEFleyfVO33FoNrJNw3NkON7TQTBhiXuV8EH7l3MSqFzMAAgqZ/iBq\n",
       "4VR0ygJzZyWsancSm79Sht2FvAS344xlb7j5Yg89jE2QxoFxaxXItJBIzd74tJGVlwpl3geIQNEK\n",
       "HCjIywJCwHhRJ8lMAdvXbpuUTdvsIw/6rp6d3LeZJKDqnE19ny7kiGU8XZO5J0k4xf4IYDFi4k7a\n",
       "2A+u6IW6KXijF6gYudBnQ+YCeZih4n/PcgaEtKmeSUa+ElzhXuf2jshg08d1PNbwnLzhRlPilnIt\n",
       "qQvQz8RNT0fj1+V9vsMCTXDT4O5vMf3Lh1eAAAzQwxy4VABfPh2qrJvy8gxkiNt1zXUvJGuSorp6\n",
       "yr1mWhu0T772QjV2gnzEnyba0Zu6Vu4h0wH+a7ztzdYeuoAZtuz1GkuC68yhe30YMd2Jh8rL2VHi\n",
       "MKiKDmKvZRBg0m8WAMhYYd7ox88p4zd1Hr3Hnt+p+V3TQx+KnYxK2uOk4SERbqBZZiO5EFzJILqK\n",
       "ZFZ0TiCcqCnYUXkagfVmefxjnvusVHaDne/qjd7Zcp6H+Y1hj/wS0UjLMEw6FVZoqV6VeRQ8fOWd\n",
       "tbNuIRCpOqeJtQUbszJ+J18EMwWLn5WP81aZxN53G/1AV7eLeGUpMXlGnRKMAcMrH3R1cyLdL3fV\n",
       "Q5fekLp0WTgVICQ0PoNTT10Zl5mzGZWB/I63+tWjNjltjsMHtaujcbwy4sECCFvh/H2YspdRZK63\n",
       "zyze/MwZcnrRPJ6LpL9SMSBaC68Nxhe3cDIviGBy5jyR/rU4e7/irUy78gZIJFjfbSa/6v7wP+Ds\n",
       "QIKsduBcZHCjZxWGgMfvL4mJfjRF2B/y4H1HovnthlYwHoXqJs9axIczahWg88czqctVz4w1cDKI\n",
       "KEO/V7J95z+zm9dDXJwz/HfWT30AqaUPNg6C6NEyiPsTuuyly0V1aH9uQHiQ3lQTOSTvkmckD7Gs\n",
       "0fOHBCGrn8tf5An3mJHZicOLSVtN8ahAduvO6kc7a9zS7QadO/5U+H160YBElB0yo8guqqNFU0Pq\n",
       "zf975dE+R+8+GE0UCghoZVHmeZZP42bOq6Lgr2Zshsa8NaE6akM1zC7csbsUlVqdEZ1YsqEhIpCg\n",
       "mffOUQdkWdGCDPe4c8Tmui4ddMiJoqDg+FTKQG27KIiAoXyAcnPUQxjayj57quTxbdagDRmA2P/W\n",
       "F7gE1CFskypVZaikdihnosoXefj3aiiIhRaG8EcxKMn57kP0gumnSnonn0WLSiwbsfLVY9fJhnum\n",
       "jcePmndM/SKCPEuClPgDoiVRG1e8or2tfVWv1RRpZKrWf6e40e004OsN9SO2Y7fBEnybQGDMwNxO\n",
       "HKtXWZWAXZEJw9tCs4mOWT1LF/h38pNL00CuyM14BU9KH6LF/zAPUcnAKPy2zOpkT/FfG1eFAEap\n",
       "vruv9DU699wZn/zOotQUMT+3YzHzkjL4ckf4LJW83fDOBK9Q6rVGJFFOEd7Db8p00WLRnyF+l5W+\n",
       "a50hTr6EfsEDvvzlO5BDW8F7RAN6q7FOuYLxc1mNMf4gRo5nDQ0YNlR3U4OUdn43nfewOcgzMljV\n",
       "QPtJ7vc987mwpsBppn7pu5VOKFhKIvYJB/UTyr7pfZZ1rqV5xQQZ92O1eP/L65axXj7ljH/ogXRY\n",
       "7vWalxUijMSfgVrQ65ORNT68OCdAHOnfb4mtZMNDR/n68iRa98ADKsePdT0iGRuDHuNv9O36Mfn6\n",
       "sB7YiiBY2gEL44VUF4k3N/hu63zbIICbl47xP7PXhbqXfndE+1Izi8xUmtxmycVx/PjYIjYr+QBF\n",
       "cUw3bl2ShCPOthZ4EHAiXbtdAHJsKOqgOElmL/J05NObQAXMWUT7CixSiQ3U76kGiriWFClfsBZ4\n",
       "Nl4ZSD3VjwWGVMQIJy3VFTt09ecvPEefICIVy151DXnE2tlFGtZpFXkkAHtId7mf23Jx5JPuaArm\n",
       "5S4E3dMbL6P9vE0UXnm3DFiirAKf9GWqP7hZnGxH7kPTy62w2Hq13dqjTuo3IWfWA4ZDEmMMBRC1\n",
       "LX1hjFZdt8qiG+UO/ODOhsZJ2N/ir3gzz4HDOuhYxRwIKqVwpSxszQh6OcRgqSdqmwdSujkY35Oq\n",
       "rPBmgGmzz6Iyw+QYTL8q2Nc7h9I6DTaZP4Hw/QKh1BV+G76JV9n+Sxa95o57+to64kMquC5+k8WL\n",
       "+uv+DMKMYhFST5/Vpbs1eUvsvJiR+5TwWJq+U9NUj0reKJRc0PFcilze8O+AlKT7PcHccAPhhw8Z\n",
       "guhc0Ij2N3X4P59GfFb05bojY2TaXDF+wvwYND04bz1y54/xRQSaUI+i3/Jv1DXAu3xKLIodAzaz\n",
       "SU46VI+Dmk/bMFSwJqaV+5+BVFDRdAssLrU1hQj9LurvwHayEHUOIndLPZQHY4OXNJqV+oKvmZdG\n",
       "ed1UQ7WyzktTLMCXHWVK0BayTigHx1J/vQiQFchKt2SIa8u7AB28S9xq4YzSj13O3WCjSGaSlfdp\n",
       "4dfl0b34oypw/dwBuPunbpGZYMMPieMXxWqzF+2lsT0YW89STKHFGZqo08ZNKPJMqK3Saof3A21V\n",
       "EQiwZlTyMNufo4pSrye/z9C6+Qbx/6gt75IvR+eRP+xc0Adveyc+33cn/23o4S7DeD6AvrNnhJSL\n",
       "dp4ZWby2i6EI64l6OX183ToyJl83kJiPPDKHIaryZaH9teJT0z964KPGQW9IfObHlufitjeDgM4n\n",
       "G2qmn5nAglEDpY0GCBjiZGcbVcQfh6e3MQ64D64CCarbvnP2WC0dtn0wZUUf/+5FstHTY0FeM4pD\n",
       "keQ9/xV3UuACxzcoLcmWh8eoG9H69QcPqIDQir+Wl4D9tvgtRd6aVTDjTR2+HOcBQeVZRa29MRiU\n",
       "Ma8HLfKdYpjmU5CEVQOt9SH3XKEuc9MPp7G4BOB1O/9mIGtPZshUSQjJCfKIlYMbxXaxtUVBc0F2\n",
       "q2MkrQPPNb+AskpYjXSbSvY7CkRnxMy/Tatf36CJn7xAL87y7q0B3mMHGvWNZI78Q18g+Lne5B3n\n",
       "SEN5dFViwDqxkC5tCN2+K1GixmIfAlFIDeWVjswjn28/BN+9mkURAbTeSJSeOY2ew4CLqg+riTii\n",
       "Z+IXrpnK42svjR0iP1aqGTssWw6Um54Ej44zFT1Xyn11zF3FBO7l8H6ojQVl3fuz0hbhoGsfPJKr\n",
       "MkLG/xQyT7S+D9vQOby9hfA9vpwqx16qLC12u1hSQWtJDUxZhrP+f3NtzlABJRgRcJ5zlgpWeQft\n",
       "VK5bKHkBJ6WOQkVX6ya1MRcoKjuwRg0kf3gi5/JM8UaoDrJezeGnNuJyctW46b9zE9lSBAoRLMPs\n",
       "SwvXiZEjzw00cQg5ZiIzLo3ltD2qL6yVj4qcNPsdQZmfZnkjuJy1esRZEf2fMMaAXIdnnmf2jY8T\n",
       "YH+f6CZQ1jM/7k123NmCydIO0UD2xim3/pw0xLqSpIuLC68EGKE9WnbYGk8eGZQKwwvkK3T+BQUZ\n",
       "eDxLNV06KrCbXqq8f020UQozrprnQYth6v71lCbe2ccpGlbDANRKCpXht90oD2GT0TnNxTolYfRk\n",
       "hRI8dTcr1xDmjrEBlyd9zibsGpilUSLDiRjE7Dy7s8La4NeRREhxIccye63qGUmvxMkQuwG2hEC4\n",
       "mCIwtAMpg/VWV5kH7M/sFFC5vdu1UAfztvKNEsl0pHfMAvc1Wd9nmquRXJcTsz6SDS9LyPB3rWGe\n",
       "FDZtDK4LKEGrPWBVWz//9va54r0alNE3sLGZGhRG7uyCeZPv1tErH4YuR8xoDCz3bITK90dfEMaU\n",
       "iNsMRogRX1hTt25prLdY16Ub6u2AzIB3yaYLs5DYQ2pkObU+2bykp+Bl1LzFKxXrR3Xe8qMPBs9J\n",
       "kD/LXoYeYie/gAZFS6Y/1dQGJXdyuCs/YbAyJtyeU4mMGpqi2kdppW3hFG3QgyVDx00Ikk+pl+II\n",
       "5tv0CSCq5OQH5mzs01Xd0+yyO4rQQsCwe+QeztlwYPuGiUAXHsp+KUN4YRUPulVTwAcQfATSHnFQ\n",
       "r9ccHkvZEDBHHjmrDyONpOzyV3mpw0FylObALS+Y0hQ21OFqF+MGhuzmkiFHGIs+IUBuK0PcJd86\n",
       "S8s0HkexRKov13JN54Iue0kHlFFfTwkfEWxep6m5YYuCfKD0SD7Qku1HjCmQ1LApJ3GnxrdwPtgS\n",
       "Xch6e/0rFFjUashBKUYHkKK/vbCkvxPwLVjOh+t9/iPjXH/ogOoFS24NP8XGMoT3uL1cWLZWASJW\n",
       "6S2+zxHIMc98LDuoi7wdXiwiWWpPnlYXWsoVtB+u2L3Wim63/jQKfs2HOJ11nrv0hQ9yuU7LosXP\n",
       "UTgEtoAwuH8H+HkFGSlHXsxB49DlAdZWTpy2PcemlGdJahEAPwl/YkreaI5Q3aPZ0aszjB/9qTBz\n",
       "h9JXRIRzmsgPlhHEGuZfEnJHeIaQV3Gq3xYPbFgWr2bs97lajBSVn5IZFOouUuhtKght61+G5PAS\n",
       "d1fS/jPGSakf9Suz061o5OrcAZgbEQAIQRsYKII+3IcgkrjfhXohrB7PNSfz1BTQhgkvsciCT+Fg\n",
       "TLAg05uVBGR+JcO61yzxP3ORDQsAMkh8kQjbAzNBBfjn2Lqpx+p509dkdjYki9m9tWETGpYeayLP\n",
       "A8n9wtRBKtWt869gSsiZ0nI6d3D4rqJx9Ws1PjJWbIjNXMLRtdtmV6R7ISeOdLVZwoPYixYDIAX3\n",
       "RAmRUD7t3CNHqxI8enZMXv+Z7mMhLJYRmJmeT67XmLgcVAT83p/ETT3MAdKf6d8aHoOETgNKAPWu\n",
       "DYoKLAkXhRL2OHghkUI7GKQEYjMGASuWnbUfYgNbgYEWNLCgAjNiKr2EiraagHrPGQ7Z7n6xIcSZ\n",
       "h4sxHngGZukzLNVazNphpGqmuFxs3R2PJLBtrK3P+c4SpYrKrhyD1bBSY1L9jt9xdA0QB81RPDkA\n",
       "YDZU8Tldz/MSVCJ6Rp9OclORkvU2vfxridbQMS+uXXvy8vLHulixxGtUbZj27DPqZJv7VWsZoSd8\n",
       "m+/jU78qNAdk6lsa1OJ/We1DhvUdv5yYx2T9cQ18j8wvUyl8o6x5vYEbv/zXR8pQRSDDcyUz7Q4I\n",
       "lplnGlZgi3uetiH87XDdcPGFmu9EqFjy4F+EMxnJ2aTuZ4TgsfiEzpHIR6cXJy1cEoaqH9+n+iDt\n",
       "33ikUV/X3GQw9Zkx9sdFzfZYMqqsPW0hk5kAAAiaAZ7aakP/AAADAULYub4Yfj0LksAEJ2U+xfKT\n",
       "2RZTggXnoYrX/qy0qJMKV/F5zXxy9ly9c4liZfYlPGrFh1WCzmzczJz7D3DyfLHC7OggcA4Z8sz/\n",
       "vem5Yd0Bf5yhjTZro/Tir+xVFIoybtsTj7IaarkzQzH3/EbNWkXdUQBiqUVodG9NpnWkv3ZwYzmy\n",
       "RXps6vaCYEqIejASOOc7wUffDsEtN6miOHDSLLRfbHTPbetP0E4FlU/NwdcwONHg/t4lJK/24iEK\n",
       "/eXbjXsuH5wBjMetD7bEdZam2dfUPqYxcrnS96QIjZxAB++Pd0JLcoGbeILOj+nRoBe71VVpcEXn\n",
       "30PwojQrjD5fmmSGzJzWWWfgrW6+W9x7hw46+eWcSUkM7QaSm9JdejGAWWeuhxjN/QgMdJpiioCJ\n",
       "DQ9Gcpj0pZlQexpm5bqMPsaBOKfZtPUyeVSP5mAZyXMZgdhNrcCeiwRE7CVv9DYQjAYzGnAibAIw\n",
       "e4TJWtWGkR+mOKtA0e3A7ZUdjaxqOjUtE8MPjsl3HXcU8yW6KS+Nv27GnVCaxFmNwL1qtKC08+V1\n",
       "NJc38qMG+Sv5+TgL4+U3i4XPZD3/zo32MtKPGezTIVWQ093d+kJl3xXGgVwlY3XRyd1rm0bxlvqi\n",
       "fyhTgxsV477N2oj0KkuBtAlDd95R8u7aq49/NqCBs7cAsW5E/QmecbMHbGo0c7y5Bq3tiQwLTuQu\n",
       "10p4KVT3n5AfI/Q1xgCpwmGtvnPGRTXLsJGNHWkfOYSMCcjdZSeohHiZOG/GSr84tbnuMIXDkFKn\n",
       "19RemlhAgijXR2XkL9/ZVgdZAR8INpXqr0RukXqWLcqSlkXvK1vBo/hGVZsg10RcdMeX2hri6oYf\n",
       "QmM8OeaZZvb1TN5C28f8d8yEf0oQAhnIrFcI4R2rtSgmWx5HMKJvyDGW7vVtirm27++2GAVxYqwB\n",
       "99w6jUcTUXixAbXc3pXUanvTIsHNTukiu3MFPtxC60kWfTYJdFVvmCOQa2sY1QI5FoAllIu4aEjK\n",
       "kUYXWaVm4KflXg9go1kZ4TMZ71NagjUeljye3aYTY4lwCWQMwj+zEpCUFNMCN+HVHBO6w7i8jF73\n",
       "AOkrE2NNT2YguyAD6D0DXS0JKUGZOeKMfgNHqlfyC78x8gSl+iBSt7jSTyM7j37SPDZ3OztUGFuF\n",
       "KL7eMTmXA26KCHpKR4juNCZ+FD+CEl7UHEeOZUHrIRB96W8Aslxw9Aqxm39IKKmwcDhcyuSa8xh0\n",
       "giB9RHSDr2YuHV6Zbs4GvPIJ48NvmmtkHNrR9PcYM1b8OOujGvEGxl90mJIEHQ9KEiCfSyhswaxr\n",
       "UORtatIoVYVdS7m4Uz5aebG4lH8gKRM+kKtrqkaQZ8xdM9JvyRr3Kv3GKwgOhee8b21Fwf57xTVm\n",
       "/9XlbP2uxMxGpZE7ZMhtH2k6tAeBqExhLwGp4Eow0f6lwyzPb/o90zOX8vc6eZubLeX0DyGddkKz\n",
       "1tYfOTYROPhRV0yOg2v8slnZQbfbzTrQ1Vy8Rho3xxilg2i9wY6idbcd/DJv99zgxnFxLuxCfNcG\n",
       "3wzXy/tavzuOwjmnz9rtwwpp4YFFk9nJJnSvidE4orBBsEaSCid1xUPILYrSHMWRRek3uf4ekHql\n",
       "eYfpEHrt5zj9m1YqyazEz9Er3SU8PePMCLfGXer+iIcGs+YYDpo0Lad/ZFwqdWh5z4yJRXHpY8B7\n",
       "vTLXGwlvT6LWIA8HbvO81Gk4ccbr9HV8onGGxV4wMRmrV7VQGfpFO0yrbx46V+tLWov1G9TYmwnH\n",
       "OuTEqZkz9EVcIoOJ3evS+fH8A9cFgfKn9Spabz7YrX35kJkgYPwpFCKlinzKVCZR2jzKUBOr8j/R\n",
       "KKWgvur0ixCDeTqGvbMPjLvH5tE8ijRfTAEx2s9H7OCH/rUl0jSoh5KMeAg02H2Ddge04FrmEYOd\n",
       "AwsLC22Gg2N/CunwlBzpqN2bHYC0U77cUQdnfz2lD0qXi9sfYqGtfGBhkq1kSIQcPbOi2PILX7P8\n",
       "q7c1T8+FrjtuaXeoMZIkiv0XXZ/3bKTmPNn7bHVQKBQ7QLAAp75otJfsVclkG78zMEIL4wUSl7ZW\n",
       "zRCGn0VD9h7VlNX8aaR8UFIwVSDZq16yH4F8a5ByQgKhJ3ajnp1nuJhAH//4LB5T/+n8w62qV0Kv\n",
       "LVi65uvjXiGUnMVH6gGk1fRm6IwDM9Qelv4V6zylLaaSWe6/E9bJJNYq99v28dZNLiG2NeN9Oi/Z\n",
       "h+yuD92UMG3T6bnmkYyJSjaC3HO+hRJZExYTdaCrhWGA2H93aSrx0ZaofLOxRsQBHNlxY91xvqk5\n",
       "qE6L1NzmDMRKovuP4BYvfVGgiontvgMZgjwxfhQr0/4tQKZBQL8MAF6/aPA8CTll+RNiHhe7oqDO\n",
       "Pq4r2OODEP0u9pPqQQKKEzjo7umtUARbPG+LUpPU7341qyfiTg06GudmkhfiWXuwR5j77mPY5BSq\n",
       "9bY9iDrgWQOcwTda0/MKNjKl6Dx19yNGvmfv7PWwUmRhg1GY3s8D6miI4by0dmueA2NK+W6942Qs\n",
       "dBze3oRK5bW4O1QDfo0jyyTxW23+9xKrCYA/DFRTRzwruwAzZcaE1q27W0NPGwrFuwaSSZOyUJ9W\n",
       "N8/ZohCox/oFyZEvjv5cEgFHjMpqWb79igfKb1PiGNapXRmHFDnLnafPr7iArOs6g6thrLmTMoC0\n",
       "y8NA8ypbjoa2C0R5d8/qyeZpL3FXf04KBJ/WNf0baxmvjZN2WIyfYtu06ONR7vdV9V/MD49WVN4W\n",
       "eccjPDLf97E5urTOuP8FSXAxaEM1XATqhS7YFseJCbTHC5/npr86Y69JcioDkjk9AWqZpjHlaXyB\n",
       "EZ7X0ab+Gw1TM4dLZcY54T+jyJdhj7bXMDVT9GqwVAhCkNOw0qUDb/6Z/lOusRvbsG1XBhiKh3MW\n",
       "yhH6AAADAIOAAAARUEGa3UnhDyZTBTwS//61KoAAAHSM4pbXIh8YKACH/oSC3iD4ElKWcJLmVT0G\n",
       "3xNPT/kXkFyHgl6LV8sfCp30EaomxtsfJc5CxGuhvgal+RL8ZGvuBRav3Yx52lCi8MkLElp12eln\n",
       "fW3QldS67FgW4y46AAnEYTu0G5Pr38iWzaFou5MGQnZY8Gw9NCnusPEOWdRBf5xNje6dojtc1Y2p\n",
       "+ncKPAFc/Zd6t8W5os3FUbZvCXOQW4im6CRnpjnl7gp2pqjpMHJekicBwzp6UpMeXfLB8eZnrtXv\n",
       "GNgpH1gV1/vBbaEVdTOvuunfynQyxdiqHvga9SkLU9ehP7Nn06sfxDS5gJipY+UOVvSi8zwOOmoy\n",
       "Lc9EBqOhqW8iFPWjsDD2gSeWvEKwgDde5xhgNAg0lN0lJFIrKFkoVwAVIB5x3pO6ELdw9Orhej8E\n",
       "ERcvYE0lc6DA1ucSDZej/IIPosT7MI1S7qnn61yfmWNx7yTqQSzLUYEvu+KVkmYsdt3KS6kV+jra\n",
       "K4404yNvgS+quR1PZ5Ee+JNs46EnJfsbYNJPQCPQ++3sJ0Hi4/x/WTY9piWc3gGYwB1SjIela1Q4\n",
       "vvNSmezRegT+UcdNHh4q0hUd/9U0vdaNP8xwXxDje9L0U8b3ItND6jB8NkJSGIHT7KMHKEXgeHsw\n",
       "gTcBEkjhsxiZs+8qK37WRvjkWDpcIKxTRLdBUWT+mZtK+FR6zKGJN5v5901IU00EqQAvXyZ6y6a1\n",
       "ZjiygKFr15HqxpOVxRhi2VHN/Dgagqo5s515N5G5HreWCdA6wbCrDb0p1T2vU+NY278ojTsTudwr\n",
       "pMmQ88tZY/3pL6RQE9V9dhHHnni0oG+jNWyYhiKLjO/agYu0Y/XyjigFTtT4oZ6r7lOigcJ455SZ\n",
       "qBh3H+Gp5vLna7OfO9aadTfBC4OAW1eFl5cFHQTdAk+AuIrfVgg2f2L5luK6XOV62BoUjKIyp0uD\n",
       "b3bWEyCFsLQ9u+duZqQRKL2wOVHAyMIY8qGzapMNhIXQIHq6veL3ZDoWp3CKuZoiO+mFM10h5Q7A\n",
       "3qy5x1e2mgl2Z/O1dyCps9/Br7YblesKYXFzgFNJbxbKNI/LNrRkbAf197f2Q6kQykXaU0j2QUFl\n",
       "WiuGXnbiNVHxw9u4KzauUUGG8qKRKvQbM7NW1aNaOsmwESJH+UIIw0zlsMU2f1aytdjr8UOeMNlx\n",
       "FRl/bsCSysa4M7WRfQv1tHV6Hj+U3jo13zy86+9rJEMDxirGspCdgZ+xFr7qD3Qn+XgakgTBQ0g5\n",
       "1qHhM9go5xa6MYR2XxIaiNDcMbNvT/kba7VjuL9BtLL/ojCuvQky6ZkNAh+CQVpTPMHQjhlOx+Gu\n",
       "yLNAAxn/rJwynfzfRzLMmylUo2dpIYrYxdJjyepb1xY7+JZFdx24+C3+jwMpsYmuzL1O4y1bAClC\n",
       "zeOACp7ohJ5JGAKd3B3P1MLNEpmLWN1diGco+Vv2/M7cAlz2bDjPJ+Ba7/ZjZ8W8SMi++Axk3yPV\n",
       "noaFaVJufDD3XVLCIR62wq9MZqp4IfhqrhNEl5tQz/rTtSe6+RvsxBeWxzNChjbbv8YwS1hvWtl/\n",
       "aAEaWvIR9jLheqDKWPLn0iGXq60WeU8rO1H+oNlB3QX4x7cOZpWUJmK/smUzl22HTdTyW8pwvCrV\n",
       "02kKkDDrc0qdT61QoEx8t32LVI2IDb1AI68wZUyozz3jHTJ2gE/fLBITavyYQ+8E9YZuBIJ9K0Fy\n",
       "/hCk5bgnalTlumX/q7nvUqm+3+N5vonEkAU5MXNtCTv2UJEp6YIiWIGmAGKYvtHT2nDrYwp3lm85\n",
       "+G9kW8s1cBwZkN3b3RqGAVgj8asSV+LhKdQPSn1wanzstMmQME5nUqpgX8q9qf//Puh34MdI5a4e\n",
       "JcwSDAMQHm3acnkvvs+WQrfuNnAE4txIVqfE9ikrE+a+InNY6MbE4OlJq/C+3KGjOB1MTACeRCOw\n",
       "oBLDRvcR8A+mBvrDgWezXxJDp7gX2lq4SnADd7NNOKzi/KrgMqv4CjSJU/04ueejUXkMBtIKhrVl\n",
       "Gg3DKZgeiS+xf6lrgtAeckb13voMYr0+BYaJb0oJsVoVqSovEqWtbPkINK/H2qqlWdp9gfW2mKo0\n",
       "d26IYtO5fozp8ma55HJLJTDgH3LPJxhM/hzQIlTuyz5GO/p9m90v8eEmnB/ogAI2f/cf0+4eNCPA\n",
       "T9DIdS6dAc5Gs6ffOCP13F0T9w6BSEQuxmIe8g6EDnbR3UdA6L6k8HrIlzaPAxpAJ59g6e9q49Fw\n",
       "WwO7fBOL7QZCzz58911Avq5ge6W422R38tLJ7jonDxor/u0HrQDf/er3S99pewhXrE6IFuGxeawW\n",
       "WQLekq25K4tGP76lddV+xmDYFlLEEhRsX5CqjSDQuIJvuNLeDOqFEssN0O1PL+s4dwrAk0671TH6\n",
       "OB4t4LeO3X36xM6D+tn9U41jFRbBHncSBcdtFI8Pz/YILQ/3szckVNfzdooz7SWDmZIlWlLwS0S9\n",
       "Tp1xUn55x9RXKtL0avmJUlyGlEoP1OsO7DVaMsB1xgZJJ1x896sN2FtPXcyPfoqBzm1UHt2OoT1P\n",
       "jsdZNT0pC0wGqkmjrladn1wcQcfMCfPZLyda7fLg5lkaeatOYzNQlLA56sck8tzyI4RavtyyjYcK\n",
       "E/wzFGiHWIZ3zcAWNf/8wlU7J0zer01Ozjca2jmn+P2dfxnmAWjYd5ZkOdhL288je+u2N4PFJ2MR\n",
       "5ypHBSPDYU5qSKhM330fDOI0rNbz5ebUAOFXn3J4iNQiOZ+Wp2kaQBkhyrUz/CNDBbE/Seyp+RJk\n",
       "XwHi+gKD+DV6Y0oPFcxOfkl+N6ex3u1MJiU6dRBnDRlrep0536HST5p/Of/89ziggS4xMZY/QyRj\n",
       "kD1nX6NmvhZno5Pl3uSufBB7HGNOoloGef9J/QOvfK2xgNDqukIzEBJKow8u9WiT82tEfQRZk/TY\n",
       "v2mikS27yQYAF4+S4+hanYv0BOZKBrZyI1hHHyDBnk3dofPjLbPoyV0gVbn+HaGy+b2XETWkW+eQ\n",
       "ZArfOhUGh/+q0kzIGhvay0K8kxzc5u4QM5YLmSGzhJ0gH6vUXEImaW6QATTLPLbl5R1Tr7p7IMtj\n",
       "GXTx+mT8414Af6rGLb1N2ja32o2LMfrfSOd1162zSDap7T781swVHbqQW0RUN+K3cZ262sKwQP/j\n",
       "nD8eG6v////+r0//Z//5FkMnx9uyhULIbrJP8TXxdHpS3Och3jk9y4pjtSjLrgtdOxaojI2YvY7p\n",
       "w+HM/N652re4/7OtBneDZnwwgJnm228UPwKTKVeXaE8X/KY9dfb9TICgRmqYsfzf4OYtV1Cds6QZ\n",
       "ls0rqAnomD7WE8exZc7rYiZwbAMtvYhpViIXecxhJJw9amUsF5rv86E+kkK3FLpcUZp9X5iHkYd2\n",
       "Zp8jR/6ji14gog5uYp2zzWfCJ6JWwmn3xazEzJLpNyw1aZB4H4NvIRHad1qFV8pMo3BXsmcCwuL7\n",
       "q71U9Lg3tdxrNOyJ77CyDLDcl09rzH3AhryF+aKhKntpMsAFUkxMvgO2ySwAXL+VFFQg8vzNiQNk\n",
       "klZsLHfLikU5/dTq01MkGnsUzWsXx0DUPV6tTl0c70IF/Aks/51/vnP2aLBQiNaGfgqk7+S6ry6C\n",
       "C0ardc7udFj2fAPD2vBIBarhnFEz4qI6F0xvk8/VKiAyyyokOo9b29FNabk/lWT16Vr4l4pgqfmd\n",
       "q8zK5z9jZ6yMeNx3cDRmsBMoL7l5ApS0x54b25R1QEUJ7+kVV0ONXKh6nlf4s4hlPOMVQYKiuPPQ\n",
       "/lciTvimz1+xZUpS77jUJFKa3Grsd/To3Mu9OJ+qka4uDSkxN0Cd70wFrpiLoIWWSOzUwprblTYK\n",
       "FYbkP2hlW52RnuT5uIF93xJbSsSyEBleBMHxRsfVrw5O9Q8TRGwNgvtCtAf86ZIBBi69BhwVR2DG\n",
       "cURuE3s4lzWjlUQzkPIacCZ/RbGTcxtumP7qbDoPI6zWukgJsWtZIrxwK2G8CWm91mhp57FOR14q\n",
       "fDBCFQWH+WAoo3ZjDuDbyJPS2CnS35NdaL2xDjFzra6GByRHgGb9LlDJEpFHGIAooYXBSTxPB8uo\n",
       "HpK7Rr6xrcpzUMfEIiAywrRHbMbgzqPYN23vhhJnMRnf08+xtLAt4L/v38MU3DRORLxj6GRyoD4w\n",
       "PP+55gq5zJAq2HAtaNahE+Gdo+7Ic3vozbBpOaquLn1UEeT5qbDvK5OfOgB2Bq45izH1ZSqICSpy\n",
       "pGcp2Chbu/o3WLWwNbs6HIsRIICwy9rLzK5SmGvmpW7o8ZsDAlXL5ixewJw66yQBY88aVMDRebuQ\n",
       "QtEaaGb61aOgHlOM9pLJo+VfigPc2mlPpWNnr5BS9W4Lm+M0cpin0KUS2QRcpAJsMbL4//np/frb\n",
       "2s7wcK9YzL0yqB2g1nSXrWFWy0gJb33nINBy1s9/Z5Gq82uyPOvOKsO5lRjD3XB3rDujaBFL91F8\n",
       "uu4lnXZf4CJBvkkXXzpQ2uISO/NgkB10n23PXzi52++gGCtuBoq6S62WEAMNyG88B7WQZ7SnUtPt\n",
       "4p5bK3djtRKjafIM7h+NvQTk9UPEiXNWGejDMYFoA1Er1M2nCfEOdH/xMUFjAwEaHM2M01iAnQmR\n",
       "xJPi8szHlI1Nyc6LmtHrJdzp+ZlETE2dwH1hnvHN1Cd36yEkmHspGFRYjWq4wc/fHQkCBOgsn/2f\n",
       "ixSutwH9LWKAfgEk5dFZT7aH9FFIGoveHJejkkAKKmh4Nk6zF9I+CdFO7c/1gPuA9pXBd5M3v0y7\n",
       "FdT0bBOsN5BWKJEKKhSbpW74lNsGRhEBOiMzc6PEEBrv614p76/kuX1PdtB62AO1jgksfhmz60Us\n",
       "8Csh7zyVhAbTrud5/9wQ1240+2a+9+CBcwQu+YUgGkRIdgdsmbHCU02uUAsko2kJHI5hcr0nssvc\n",
       "oFrW8dfRbpZYdWBGN/4YMhn3nCjgXiR+ROZv9s7eYG7dxadNxX7aZzqgDur27xAYtucp6mb9xNhg\n",
       "ApVdFLVk8PrEZfcuXIbxO6F6ADRNttA+6N6zTWe6eTno+UB8aXE2ut080OnP/Xfc65ZNzY6ABEhQ\n",
       "a8PSXWjGZPzejpnZ0CmqEQHUIhFDF/Gt2D8f/teqMD4OAmdAwPynEs+yOWAn1KiGZFf+LKeY5G2A\n",
       "UhQa7Wr9MeoldNp0DG7bOGzK5N4QyBFfzP5dxTIEwg/JW5c79unizjZ2ABbCG4Jys7YD6vj7xF3L\n",
       "nQa791REtzD0cMfY68wDxaiidp1SQHPmFADEpj49J0xeDO/GwDwRPB0eKOq4kobRzxI5VVMgRTrZ\n",
       "yCMFXKeupgWbA/Iuio3tutjYkIKUDLf/hC9U+xdnAINZCf0W6Uu5WCaGgClgeArnwkiO4gVPXHqw\n",
       "P+2/dY0kTqkZFG7U1kCOk3rHWBAJyA5RSnitaIGBP9e5ak9c8NosGQLCcMlZ9nQPATd4nl2EsFWX\n",
       "ow8O6rTX2dgEY4zrOmQyaGTh+hGiuU9QrU8wvAuxpaVCScHfTEToaE+qaKpXdgTGJJLkQ4NsVg03\n",
       "GZIlbevE+1+xv39IOo3TMxqVmsYq9JslsWb/KBvPAyWaIcWl96YnA2gMau0kJjv9NlVqENR2wemY\n",
       "F47mqpvPucpjTnfdUGLEhpwNPgfkA6qEExuLl95sPNTpoGFP+AnIpDkAl2D+DIzhhgaSM0p2ck85\n",
       "tFEaCyEZy8M1A9oLC1Rgu3Hw3ktuuDkNzuhkvpTsULaeszXZRDe462reA2JvD7DDxmBbGFsfncuf\n",
       "jDMKxRfj9Z7Vo06USWRbylGqNA3dMIwUgG/pqYy/TsZVATbFTorHvFFeDLw5NtHgUN4A/xe14k3H\n",
       "1LpQCc8FKU5mC6M+G5Obq2z6+knG5KgD3dmTyptLevhdlWYKOVz65//3x9fbhwLCYwo0Zum2q0kA\n",
       "AAmZAZ78akP/AAADAULawrU/pF8wAB+3jkV8vHPVgxefTGQOUf/iqkl150NKUBbliEftlgXbZbgc\n",
       "FKhHJttBCZgm6i2N93H1ZJiLiuzPoV6Q+sNB/SU1PBdJvejyLX64HSpfLCqeYclcWWcLXRJwp/gW\n",
       "EBKAFvUYincQxWb+JWe24s1Iug++aCCLDp+TrXljpzi/jdcUR9/M3do9g8kKxd+DqHvwkEnvmMLV\n",
       "0SmsBMG4bbM5dsUYsGF0XZ4DuUm7xEuONREtHxGVVExptyXtUp/mjFsj2C/y4FaOI9+WRwrqz4Pc\n",
       "AWx89P1DTR3GCxN71/RJf65sfxCUHv58/z+Y8Iic2DePqEsWOcCv69Tdj1HX7JsAsfIhCEP4xLSy\n",
       "QHbcQ07KWSJQ4SFNvKUT01UkKW8D0unX4OSqatVNzY0e0pgHwLP6EKu0fchc0Fv3ZtaJrOAjSK0Z\n",
       "XDtvZxTsoN8i05v0tLQbusS+SnigaFwV5WQ9IlOX7uuJXB0xK6ZijoS481w5DWoAyzgmd5F28kIp\n",
       "TPt93LWpf6oVDqoYyt4PgOKgPQ5YBMFS6wFpGB8EFNWsB7OZ8VBPXdxKW9Yn3jpau3JrlXuMY4q0\n",
       "UjTzBkFM7XFe6OqYFjyjC0srex3dlyPv6hBoMYWn0PKGbrejF8n1dik0spCzPfuAsaEVLTrNxdEE\n",
       "/hViX2c+FO/JtoDhQW5Nt2KYbntrAZBNpIvCfTYSJCNyJWQ2GKFF4rsqUbrMD/8YTLtjYQhFLYrP\n",
       "ax8hQw8llURdtRFnzhBeK6CbHHg8whAA5SBbfZPSGYItAFmTj05HsgXdzpuFNskD8M3EJiU2b/Q4\n",
       "NGpaN8+RVEYmjEoAoxUAwi/tutzWOMW/lONuyjlpgfiaNE8Asz80PP+i9WA7OKLLXNb3/gqY0nst\n",
       "UBQOR9n6pVE367Tbw/HFCj0nt0H4taKMCxhizjZyRRT+9YXQQd1yQ6LLYr2MnA146EBoo7piNF0N\n",
       "wxsWLFicJwu3/Md7PJRXyJyizhB9E4hGu/iptyoqQ8ygCutUJwgfA29Z4dtO47zQr9oBUelgo3Lf\n",
       "dGlfSR+Ln7xrM4BSTv62iX79WX8jPyoIGCb+uhI+GTNGuVT11Az9OddOybE/eFIzuYUUE5V+PSKE\n",
       "iZssazoWMz/R+vrxxePDRDmymfGnenuOutOJ2AYSHTtwfhLP6v6O2jFZ/T7a2JEi+h4IjQDCEOkX\n",
       "WxqxQZSU9sZ2sVBw0072gyjUWm2QeJcji3yW1HeU8CXcH2MjbMAVbeX6fotpn9BxkuRaXfpWN1wG\n",
       "kI8ABquPjpbg0ACygSkmCSwvc+pFCMRRxnhY07+evElqeoa28u1fDqYMkrzWtkLSu+pILTreEJO8\n",
       "0UcYGE70h+jp+CPMobTQ9yTGP6BMqkW5fAbGm03ZyzYTe8SHYJ1bQDMEDbSKg+GhJ8mlPbVB9fSG\n",
       "kIFEyH8dBNYEWBcnhjChSniqf3cIhX3yxcsThjR7x1JfHuLp/WwUDp10POJCOTl+01LHRTehz9GF\n",
       "eudZlPZaLrSGzXeVe3fWzLqS7vAL4IEqcRAut11IDUi54PAdKHbjyntgGTShrQ0sWmN/pnOyeiDG\n",
       "gkVzfyc3MRSEUtZbTOfpbtIdRiP6Z2fSS/Y92MExnCOkoBVVIedJv8svAkxtvnX3/4Epo7gt8C6A\n",
       "sN1GFVwriS6+nmIjk7wZ39/fHeECbQYAxwzxgg55LCkHcclpT7QSHcaHYT5nieG5v31ot3AgecOf\n",
       "UtazX3oj8BrXkmojtFXO9X/78/k9dx3XWF+uo39TTYCcIieGBvbR7vCoksFiE8dGMW0a1yL8xkde\n",
       "hY2O3dQsi1QsQ89spvA79WGRJA6dgpGjFnNfSHH7Sk6nURTnoqzFcnXz9nVPlszjKKe8OAe9mhuA\n",
       "DIg0pNqgyxfBbI+b+wUe6W6Yx0c0NvHq//pPHBZZvebf3+K6SDJ7fYvOlR2sgtmaA9kRA30MIoHS\n",
       "tRnK0eN5m8Ven/n0UlTSqKdZkBEAnBIOZObp2u6e/WLkZUWcN4JMVznVj9JwhbN3esa5WV7+m9R8\n",
       "+JcRENp6B5JgY0Rj2zWgBZOnWreQFAwzKRu8tbNBvxMEjEyXPc3urxbSRYzVNHtgbfs3myZA0enb\n",
       "/mO9BRyyq+NHIiLLzeLonV7p2Kboyc5FiSPLGOEXPeyJYeb+m+pQTe9eTkPuFrkacAUs7RKwGrK+\n",
       "cGvtzIArrHrjJBoIzqt+8y9QcxtGFvZCFAbQh9x3bKY6GKyUqBfPi2eIt+3O2ZY6X0iUPE9h5diX\n",
       "odPiNuqqrS+LPYtoOHXX236LwWyRtL/9vACFFaBpX+gzJh0hQkGMrhmsV3qtKrny5AQG4qhXz/mY\n",
       "h18ig9p13JL/sWR6EZ4vbkjBv2GEkM9aRt3Zz53/HfmszheSr+pOssHIb1OFHA5FjjOq3zZKhK5n\n",
       "yGDP87FsCJy1in2nf388qZt4ichqquPTqRr+gGRpN4WEcGCmX6y75eyreQGiqjOHxwFFuqY5D/yj\n",
       "5LP6E2bQ7gr9jPWK6KPa2L29Q/KUMVnTf9TYcrNgDhlv0ThNyQTMy1i99iF5IM/BOH4AN2pXAGHT\n",
       "HTEHNhq+wJlZflrZpZPxkP6YwCU5zRK7wcVYlgAYPFpYI1gepNTcChK+pXZva7R3z2uhA7cfApUL\n",
       "xRrO/qkHtnLXFnTNwAzCDk84ZnCXt9K3w5AV607F1mMyKMhfmhw3a3cDwshMV8MBkk5k7ZVzhvAn\n",
       "pJR5vtLbUGuX79BFyIyql1Kch/ndR5tU7WLZ1yKvJC+D1PJ8f5SmW8CAs7D4KMpokeA1Wwa3BOFE\n",
       "6wUHdYaleWw2HUzt/yODg0vgtJmajJw6bDmq7KMt1vOoRDiYewBE6newkDjtl4G7/yJYqXRmF0+M\n",
       "2NAtCV6+8qrTAOPHbZitU4mGNWT0YjfJ/KijkBJVuJk3aMSCs52teoA/a77x7DmGEvrUj5nQkg4O\n",
       "VbcTJZ1S6Wuctsz8T5pt9b+Q4vqVG5dFz+Uvwn//AHLkAJ3im9nCOysFGkJ4K2MRWk5OrdOdm0uj\n",
       "1yQjXHzMij0DkMvkVNGXdsc5NaHa9BWMvUgzzm/8rYh9WOzyN75+TwqunkIlTFo3zCiW3APP6JP/\n",
       "6c+49raRajczvZwdavyBKdNTozqku3dWFYuDn01Ir+lqe34mKd/ifkeLCLxasHFiG+ITRd3IXnaT\n",
       "XEddr3pFw9YWEYzSe8y/1uOCXNipYec+zlNb46lOuL3o6vvH9yJ9o9C3YueSYnVmmocYmwPD23t1\n",
       "N5TM1/lMAAEfAAANi0Ga/knhDyZTAgn//rUqgAAAd2C4sAOIMJVeYj/EKHP852CJVa+shSudXTbw\n",
       "fe1bGOapRxOxUC1gEFRxzdBIZxr8NqCxXK2nO9zhyqmGYhPBZxdqGYiBt74y6BMJtQ+WnAWTvKQs\n",
       "j4vnjJTSHWhcXxgE+sM7DakKAFEiSvKDMeJiRhNpWzA/Z2eQWhD4/vIMnjwLtVeNsgWXEydKLtH1\n",
       "VK7oqvKc3KHWmXOJZcomQuX9c8IkLiMDd1YKKFLHezl3i/LQapBf0oCOuld9jwkGrO+o7Ljsz547\n",
       "NivriRqJKxWUFWNgckV5isDkjyDKwQNN2C6pJB4ty29FzJlic3Mw7SIf5oWBb6/rBRV3ELXxvX2R\n",
       "bK9Q+d2tCJpwffy/BToZAlvzdULdH84fxHRENsMEh3FiJua6QNv/pdm3ca2bkk93q2RLcMoW5sOY\n",
       "rnX/kWvedEJN4xcml82LlWmNGvamrCdQ7WKScyAcPIoEUi+moAHSbpZMvL0/moJGsWth5gOCJ2nd\n",
       "3v8jzS9+l0Eb9hG3v0lYViCH6SciUSxxzA3rOev/YryaqWbuGIvf+4/jUcJee44kQnOQS8yv+F2J\n",
       "g/gNtnHli+YfESjw9qAGea20cvTInf1Pp5kU8tlwZJR5I/L9aCmazKwOt4QvaKLRYP6NNiDP7sWc\n",
       "xUXU45UGzBlK9Tst74mc0PvGNKTSOftGTaG43ZUgaYWjPakSCGR/34+eJbiujibHRd/s/C7YiR2I\n",
       "NpVnxdKWkQX1BRfwU6xfA4GKI3nyg+IXFiFRUP8c0fDec0sO9Qx/Py/ZADg2CpfAoW6ZBQO6w/Jb\n",
       "xPHw8SjPFHhxiaPbVREqYlqOhTpPs4OAL46w549n52nEHtQzGQF9IgwZDm2DvWyqw+eIyGzsb6+I\n",
       "++ohqtFhuBTczusHwMsHfy86mxFSMBVbTVedkYs6qUCAGusmeL9865r2JNV6KXw6wiS6px9x/um9\n",
       "zgViGRy9kkLCE0t9mQv/zAyPBmbPBI37syHMdDfTmIzXy9WOKU3O64vy0hCzxnoC0+RqcvIJ/eiU\n",
       "WNa+XjFDI/LzD0xnyyEjTl1EhWV/UjcWn1U2pHcNBYCmmjv59rjf6A6+Ed857lEayXwN8CQ7okHY\n",
       "jbigIXMbXroIdrvJsjBHp9Ow5BQfNno86TxfA28lQzZqIFA2RvuSGDEFgM/b66BDeqJ4VSkC1WrS\n",
       "q50TAXtJyNgazdNRhaWtBd01rNkw4w74aBjg8x4qZFLHoIFVpOlolIFKlY8Vi/Iso4IUkNLkf8Ru\n",
       "FIT7Qk2JV+HPX+5ll7e9445xRiD6XMpdIb7/9IywkJN5qlSbxxPPUS7TQaxExM6cD2Elgjx+1ra1\n",
       "Nzi0UXc1EjFFqB2J6Au1PjSHI68/UUcyMqHGzaDkodPYltJSMqD5wxq1Tzb6J6I22Aadpe2mcVJp\n",
       "DHs7TcHMWgZH37wiWidw8OHqIqtq5Fv/1sRm4+4ydcWZGsueHrwcUN5EZbyVS1HGuNRui/lrNvgq\n",
       "VEjKTmm5xYojsHjyKytrEM4q/Ay3CQcKXW5HHtw0mq42HquRF/53L/4siuRFQmwocxuRqUaIY0qi\n",
       "15Ff405z2gfzrfyGBVsPg03iomNRPlKuTnrStD/OYU9TPb1mnLHI0zPSKrAKpaaHwA1Jgv2+i5R5\n",
       "IX0E3Ev3NYBQEYeQfdSqO6AzJsEEX2Zzgd+AhTeOoYXtrFT3gXLL+zV6QwMP0UAqiSKEVcM1UT+R\n",
       "76kYRaneBaY6pHtzPc7XDfxKeckRaxj4hrqM5toRtYkBjVkBsu4T6IL+gLcFqwxdDxUW4WCNXrkA\n",
       "I/nkDOgxiKsNB+lzMpm4bIpgaR1ZQ0NFIFHI6gUp5wR6X+SsySKtr1hitsPLMzS3tV/FfQhFWd6/\n",
       "DvygVolukxebmfikzdKA66IQGzSg41LYKLBUnlXrw/WFYe8AUbUM2biVrs5TS+aTZ6Mf2iaPBt7z\n",
       "eDToNMpjgkxO041KpEN+mlvH6ELdx6MTurvi+FhR4hVP0ETpWqo/hgHF4j/oXImsdTog1SYNuqQ9\n",
       "q5kFaELWlMh3vrlw2b7Y5gDW6VPMrhL1bp1Ls/LhVrAJEu7EMbbdOjiUBuJryJCBEVW0dlr3aC6I\n",
       "MB4QKCcy2jMB1XmnNCPJhP/7PVs12RGWCcrn1khD9XDryAFvaOGH3WoAI0tBczQeLcq5fAl7CXjo\n",
       "GGilsVUsKs7qiDTpYypp3yqCHPUQzEaaDU1TyksZfLeX41Bo9tg0xZ8VaIHgpFJQmO5J63c6EqzW\n",
       "9u7ZAWQz79EK/FQgACdvyxa3Paa1hAL2qN4XE6SO8MXw8ptSmbNvOFxh/iGCI9aRqdJtfBofcrfA\n",
       "sHaXTVtgjtmGMb8JzbCH3EkkA/Pc5jgwo9SrERJtME3otKeb/0/Bn50HUx0/1MHacLY/kL6O90Bz\n",
       "iG0fPEMDIFpiFIaugwTU7UBoS1wbav0tZzo93sQrMtHgq/WiTrTn+0xW7lKBOpJ3Uxi3vaujnbW7\n",
       "nzggI2au3tNqbtmVwA/SUHhjETTv1sPS7Mr7wz+mBAY/eOPRVDTKRNzZI42Dx7qd7rnDsMucj9xy\n",
       "IK5H5iVAKmZIFH7VIphgVgAYLJ47Oc3V1PRjy1V3avqVeiG6Q9rsutsXjk1JNrLT+qV4jtZ/PrQU\n",
       "da5Jm0V6/p1EwHq0NTJzrFsc2txbpMXz8h5fkCAgXfjKy6svuZORhXSuezhsvEK0fdZ1kJqQ9FuX\n",
       "2rDjwHC43n6vzVgd3SzWhxWG4LN6qXhLSnplUq2vNQM9CshB11x42YWSq8021vEwRDIsKwnNpBJW\n",
       "mlB4UFEJXIuRYjB1dgwhUN3eT6C9tLp+DbuU8e3sLnJ2l7rc6PPSAUd/tHTVRNd3EkjX6nRPb8m/\n",
       "NR9YiXFKYgwZYZbe7jkW9zYzB7YLJ3UZA2n21S/XurKr9fxgWGoeIaTBEhlJWiIFlMDyYddUj4En\n",
       "53rVXPizoGI/gb/6Aep3B6uYCDhkDSU8lO59iYwLP0n/514g37HE5IhypRjPbPqOyUHn1iSjSbDJ\n",
       "1MV42B9VhrXFFAXtOoWzL0kHqlK5batusNelQ+o9r8LN7hFaP+NsTSE0En1MnFW6FiJKK0Qsbd6r\n",
       "QgDPAYKYDDz55PEqyTxTNobFnmNSOwf3oeYPVzCinaMv/xltfW/iI2L/H6EO5HPB0uV7NjxuzN8e\n",
       "+MfVFR0Mwu7mIIDKPydezbSWwSsQNT/iD/eQ62EcDzcU3YmlWk//N2lMFUQuPLFphnrH6gnYCp3C\n",
       "Cvx9opoYKiD1re5iPEGKPSdBy/4FwdG49DghjprtTfOd5Ps2ZPYi74MN6uTXWU55hWENKQP2nKLI\n",
       "a7LYXR8y5T1PidepHsVaM9E9GMhIbMF6jbDatOXgpenfdrJfpHZbYh4C+Vu2GET0YOHv4yO70Zkv\n",
       "J27rjXSFpZdlu4FeVfgkECEhBcpY3/0dqpg8C8U6v/vIse0Z3x4DXJyqqZaNeikLCbNRbA6mE1Fz\n",
       "vdLbptqG6ubZNE/aS0NVYCc2Yf7f2RBmQYObXpFonDF1HPA+3VfS5BxS/2ScAQT0oFFI1+csGeFq\n",
       "ydjTGzGLU1vI3SaHAE/EWfygcEvIzMeRjladH8xNY/PlUH7WdYTHbabvLgredbTg1rJUU3EqA28V\n",
       "fjYt/WNxT6qvjmdDNaMycBzZkOkakCNCt+BnYlObCqqQ61PgFeD/8NupDn+qrItilhV1x+yPRi0U\n",
       "3GYmzyfAUYwPG4PI2uoUywkpEd1OdI10ckDR7UKfiD6aOO5vrYPMdlCKmq5ywSoYrEtEm90ajoB7\n",
       "9SF788b6/8Kn1b+cvojKPjLYQ35Uy38urp505nvw69sL7v8lsTvxsm3rnooK3xr3sBF1AvYstGpD\n",
       "SZ98wXix3TU1fZ5Jiq11D9YCGp34O8a0ZtHZ3vh//nncJargGFVd96tPXsg7VS8hHXMztbJhzE2o\n",
       "4mqXNSWPDhHCBs2ayx8UdXRqmOoSxi2I5WesxwgBYUluByQNnYPmpkzSeBfCMxiOuUczwnrCjtZt\n",
       "6yPid9ZoVJkzXXRt4yNWNDkqX+VM+Wc6hNLj9gQF/CIx+2HzpRAOseYwWQfnzXUeW6jMKb2d5RVF\n",
       "tlm0XJ0cG0fouRHV0QDijtjfnOCfAF7eNDpTE6xk+myOS05BqtV6G0LGTHfsIdpu/di8QvfFlF4g\n",
       "Ud30Qc1pj7po7UTf8Z0u/vf5dxVo/VXpyfGPJKXio2behUJRgmQQiwO9j2d6K5ufP6Rh7ZhM8qR/\n",
       "gyaTG8ItKM1CNclZ1sLgPUbIoJVfWJgoHv6LOpAoZ8+5Cr5qGFM3xV0kST95YPoIj1YV05ebQEFb\n",
       "DD65BmpFvnK9pRfbhwdmXEYx7luUq/Gjfhu+bqiaUp+rb/MavfAAZJWBH/WkRT7GBg2nlTr1k0cz\n",
       "QuxhcPH0a02DEG1umEjJq2lC9JxWLe6DpRA4gswewDI0aPZ/hB6YfIYyis5t7Yeo8fjhy0egTxQc\n",
       "mPKUHxI8pwZkbLfxstwbcJTEUf1XOAlSnOO1Jjp8YeEyoGsTKZ3KvHL8SkKtH6h22H3xOel4VqPh\n",
       "QMyCMJu4R+4UDGkg8Tq7bQ8RK2eh5/ocAK8oeE5JlhI8+5LaBdv6fAAMk1Z9UHF5EqylHYdxr1Nz\n",
       "qubgAAAREUGbAEnhDyZTBRE8E//+tSqAAAB0jLv+N7dgAIUNrysHsJU+xcaKUSgWjUqDoMij0rYP\n",
       "LK2avy/TVCrEI+wC0h3hXa0J1GGCpERE6+0KpMcXua/qmt8XboLTpDdhV7tNYA6GJUMR7uyogo+H\n",
       "S8a71A2fD5j53VFAyTgW2fHvd42B+Id6AStJleREkrm/5//hwmjAk/YXq48afzIyQOfhtf04WmpU\n",
       "d+qYJSB/yTzeYnZ63AoIDETRMpeyfytkff9I1JrhmTlJLcTpNEFoUg54Dh/8BP32NvRuR1O57Vs+\n",
       "aj+EKc2M8CsozuZYaGuz512UxpBurLfs7mNfPQjfpobrr3lBs1QBqgVneNPmVKWCoZuhnWvL2gbh\n",
       "3D5yDMKElWHS16+pE9Qzv+zn/8JoMK3n0wQT7a2A89K6vRjZlzFUqg0IZXE1Z0sy8r060UuThD2y\n",
       "VW27c3Ovpxg6cekcZCZeJk5cP6zZORJ8JF1eXry24Zi8aiQozXnpSIGjtLi1wevxV8+ULGZ1m8kS\n",
       "6EJI/Bm8DizgAcetVJpKOeDLF2lQ+KBzeiHzGJqbY7NiPtvqOVz8GDOrC1tnF9i/oMJJ8zxe9vOH\n",
       "gveyZNREH8zJH+MA0WwzdPMi3fZXUWpgIkeqm/Axm81NxqeGdqpTRXWosP0VJHC1Vu7esOwU2B5g\n",
       "FM+99cY6QeF60THy73Hr7Ud48YsaTyOqpVkDjoVMV1OASGFHqgui7yuoyuL7T8gaK2NMFVuw9OTZ\n",
       "ec/IdoO0BoIYf93g9/y3rmgxTQzv4FMeFUgOsfUOWatUeJYKHmjzAef26AVTCXPsuIlRIelQ3rmP\n",
       "YreFZMZMm4q+wKF1mA//75tGzkxAdAMItZYhREGXr0QbrShraRUVbJpp57VZbxUoGmToSG3jm2PQ\n",
       "6do7k2FmUlJfcJucV8AUUeGy1z9fUvB5jusiwncFsMByo7bGZi9Ga48SFnnEwQ5HrJlq77+4HTq8\n",
       "BZ5/vTUsRuiuQu0pTMhziCcrJaMt8k/KN0jCQcCTU1JgCMGxdhiXOANjbCLUNiVxJxIRB4j0fu7x\n",
       "jraCcdMqSuG2hCoRFQmSOXHr/dfpN2K1RKcKewuNupI73OXPvqLms2uRh2OS/Jy+Gl+bbmQGSSB6\n",
       "czR5lLyrTRv+xz65cky2q+DPv85tpRMgkB/B2uWkbbmnmAMeyiw+V/8zNOqi8PAJYf+gY+9Ao1jd\n",
       "xJoQlZR1k9MG4A2jCEbLiW9jTZgrFv3taEEVWIjWsVIOQCYIiqHGzpZome6TkF/5LIWyKhKLeFC5\n",
       "kY37eLubyzdRbXYoJo7XI/nb+sS34mUn9fegHQlwy1iLatdU3d+npbmeOgGB6QrzINnBTMCNl6eM\n",
       "kDS0v0AZvxWjxBDlvSYIFJzCH9SdDF6nHXBoYJlvizj94rkuMby9sWzeTe1LZWjxsjjVQO6EqiQ5\n",
       "Q//FI+gPmhmSTRarzA1jQnNi7JA6VXamImrfcpB+QVb4c/s6Co2I4vgqxvCr0SS1Qiq79faaH4gz\n",
       "w6JykqCi3mA7shfVRBOlqVJtK49eYnSNJF+KPo83arBOJZBziGMHTJ2WaEeRtEYez98aJqR7WiX2\n",
       "z34ccg+/+ogAAUlk4aVxbVAkbQakywTXU68Ye3d7Hd5idL+Io3jo4WueHTwglq8tlohn0Lz7KojY\n",
       "5spZMi766DXBZeegU+1RtgmUFF0PjwntinW/na1a7wfzAfZlSSPaJkvpts5hampmPUhv2CnrF9Mv\n",
       "wCrTX9b21W3QQUuWHqvi0opc/rqg+g855oRXe5//MxpiVx7YVvOnZSOMB87AtSoUl10ibcpvg67s\n",
       "S3mnwpMUNsUn7o3Wao6ReWRQ3YnAYtpMulmqD3d67JzTUxj12KT/17+JxeDMmKQNF55PROSTPkPA\n",
       "gWuytcmKo4s0vYv2jjJ3UvBwx2mwU3bbziOtiDehgDmtwIsmZVSNN9qi4TTt7kR6bJi4rpzv7sdH\n",
       "RHWzeOezjthxej6K8qlc4qEmOQJWs7C9SzzLXqvAzRflFp6/QLmWqnLAoiD8Z404jybZNKjxuRvF\n",
       "fFe3G1wkfoDs16OytVGRdR71raAAjvUgU9WrnkwdKqIAtKb+j9aMIf03sAOYy2+LbUJsFfnd3zyy\n",
       "qsB+m3QuEW0yG2efJHFmuIZz1rzyQIibdwf9gXlJ6be/fGEA5cAaUxzqZwYqCr7gZt9FS+2njG6l\n",
       "EuYJ+E7rnjkfYIr/eGTqmvAnUODmRq/nJA+NfN1KVOSAQImYXCt3LaABWbA2+wiIpWvX9hyMr4a6\n",
       "szZKrgcE4IpkjDsc2NcxCzNRZkSEhxFQPmmbn6DnK309gkt6A6kbpBASgiIHK6b9TrkFQwpCNXQ1\n",
       "Kk4MOcxUb6nJRhqXSqVerDNbXRdnRUqvv+Bny91HoUy6Ly2txoj6y3rQtK/ZToc2+CkJhWWhElLh\n",
       "+/ZnUKa/Lso9Yds8yAXK0OoGlc9wAi/6fkbNGiljPe73sfgK3moeureGdoDz6+ot7Ziq0QwZoJp2\n",
       "/5APqMquaaCInv/XKRwciRhpuQxGk4lCXYrXuc7sTJDmvjvzsnSt/GmNg35G0yAz+avMR6tt7k03\n",
       "MhVcrIYeJf/xn/zwARTGTWCetQBqJectN6KaFI6fzfW/mi9s+Oq2rP5Eo2Ul5eL8MzQZutZrmTQr\n",
       "BpbAuhrxwZXg7s1cCw3NGrgG7rwkjmXlj2yVWgjQ0hUV3BLSs0ruKCoCNp/mmfbxVYRuz4AXeE5R\n",
       "WGxRFZwC9CaPwoOk6lgQ2YvadnH61tSeJPXQRMxy5obrBncP1i6WzlLwpDQQh1bQSeprGmxEaRl4\n",
       "iH/Um4jS+vdcZKarCYTVGXuvSxXYX/lfoqtjhRW86QGJZUcOrxhRa8EWUOQzEAhUUHgkx4QW/Efy\n",
       "SE4NPVy4jSfIZoyhbpt/kOv1yIXMkNRmvgFkGyt+a5Fw+MTwM+ZZtPhAxVH6xRlLgQoq11z0XKrk\n",
       "BPZmMHgszlpUe+p7m7B8/x9ik2z5YnKOXJHqD3OURWPNqAAgNd/IsVTlp0P4YbSrYFjmsZ6NDPu9\n",
       "rxwy4gpdFq9a4Ozkv1ZNoXwfuQzU2x+UfNjiA1mP8XygYc7okWvIjoync81jmQh6S4CueBCQjQm3\n",
       "bVhfe9z3iTNSsdaoMtLrqC79fAImIWPnHMCuadgXG920HLcILpiFtHnNvVyT9Tnrqk3hFa+0azBK\n",
       "0OKbjPWhSAPs6un4+eTVZmoLT78HGIPV0TW0jW5WCu8ehdd6vh8mnaTedC4/JxHMHiLxPXeoHC2E\n",
       "xFqImDVdMZsQ8D/A/kb4sbsqGUxOoTx0vq6hNgWBrJNnuhp3NSuLm9ji+6Gn8Sm9qSpT+U24SIr0\n",
       "ZzDBmZyR0PKs1PsnJU0y5FHlBGXuPaB9xnckI3CV1vL7mQkUOBTlFKIsyAAq9W3Bpp52cLAqEVwK\n",
       "fczHaDGYWvcDBTERjp48EWGFmEqHcNwhlPTyyue4DQeMDThKupwLjMT/t8RIOjAPpisIHzNxdqqj\n",
       "cVFsAEFoXYgE4YxCDjcWW6QpKOOO4PO5ioCE5sU9+5Bi6Cq0Dtku7OlBtAGBovybZ/51HoKxfbXn\n",
       "BjsqPY1VtadMDBb8gzoZG6pOfdJnfsCna83Scd0lCSFZXIXCOpkXhGqLIPtJwEAzf4qoRnUNq8Z2\n",
       "etYiZAc7uWHSgvnhQriFYDm0KhKG3Oda9EYbtnYjtYqDTtAZ/4gAlanj6TFeNkEbYX40MTj7tB7S\n",
       "uQEGFcVVGhhRLhPn6lwSWsE1Rn1soW91vSkQVdB83QfJrWiSeC8mx76bVrWRzZlLqPTEIOtPb5vN\n",
       "PYgosa6RBg9OBfJxo7jW8Yt0OtM8/Lw0BM9toxIlZoAPSMatmM62uaWzIpGBrrveXiAg7/yC5FlF\n",
       "QhjejeiLXI9ZVBVBHtGVatHvrj7QI06EAgBcI+9RWLKGOS5U7+NLMIeiW40M+5qGzJh0EVrrV1f5\n",
       "tBCsYHkI9zHfNaBGvY13iv88GIIEexx6sOtRqevmBvAZjRrT45ZVnzKiCAxzoT5ywtWlpIBLkLBg\n",
       "7qap0r3ROKLY/WEKAzXEyktocR0tpvwfpK8YbIaXGOAyfyuaV+4pECHgxiiLq0sBx5z1RCxIWjuQ\n",
       "Zb9PLtgwL++wN0JumUytEcWLSvCeam3lSPp8jz4cH26J2OBl/TOgUAruzcmrQ/8/eznLb0W4NSAm\n",
       "/oziFlPvHL3vB/p0E9tvFesDsuY5osq0v9keoDYQlCZmyw8kvA+FQHUM3e3oGKTuKZWBljhjRc7B\n",
       "9ZcOLybVp3Dfg1eb0h1wt2njdPtW+P9XnlxmkiqJwK4SdT90sSbE3eSzVf55no3Ri9RkV/ORuYV8\n",
       "ghwBtcZ2DIFGsDeUkgPBj9annnknu/DIfdkEmXcp4turPBkc6DuBGkES9re25/uiK1Dqf801Ib9s\n",
       "Eie/cyH5YtSjjEvBwl7EoDyy5UP9PsK4TfqE4xnn8Jl2RuHmmD2EpTslSn/l9028hXjt/yWaGg/P\n",
       "r7vEvAo52cNFjfB4HR1jcZuxiRkhYXOU0jySmEB75LDxia0tcqmMkN/9UQFhInYhzn4K0fgl7oCf\n",
       "AGd1D8VYd9+fNdtVHXkqncxXEkdJMjDyzlPTWhDhlNOOVcRioGYCZQ4AGSS3hZkOIwFFvRwJ8aLI\n",
       "Sy+2AHULQjija0tB319CcNW4vsM7wDo8TwAabFn3z1tu2TcJliv3KVKWTcCaJWp43mchNZAxg492\n",
       "tN42OVmbkH66wsKXECXb+OSTQVAHjwj2XyB/xYr9ObTiaDS2eTsRGtToUv+SjIiuXvWXon78wZN+\n",
       "10T/GB7jmnKvXJE7GKSKkvV5rRp+2Q1iyYt/t8KQaIQcScAmhRfyuTg/V/4mJSRWJQ9b62WkhgFS\n",
       "nQCHQr74V4t1En/RSbsyfwbVyq83TMI3mwl7hxdSZawNT4MU9MeYjvUGBCojVPnaMYrAgP3+q1UQ\n",
       "aKe0po9CsJU9TIp5e32n7+2POrVk7+F0yAjR41hRa+kjh2OcceSNl3kW/OalkhN2FzmGZAkEzjKK\n",
       "tePmbQ7W08kY7Ge1pbh+TZCrpBfHuT2OKvitzTroH4niZOliwnTC1mGXSKsJbIZcOygWGT8HHenc\n",
       "wOwlKPw73qLN1vi3YdRVdAQvgVPZZhpNg4kB+3Cf4n9FoIMsUg8PNjDzMoqqbTU2dt1+7wygfOP5\n",
       "KmTrg1GiXfvShEHllfaFmoFzsHRpIULOtP2X31hg+SCluDR1MD+kgXpaqbEVLMgrmPndrNSdf7gE\n",
       "CgZoo1d9jWls2x+Julm43FITm3/iRqrtkiRPVZSKm5g7K5FkijUZp8dCJdaMh++rJ4LxJeqfMg9k\n",
       "ohxNIFpyAg7I8J1yKdLxl7cSVeuC3uUG3KUNLZJupZqPPQjoSu3tZ6ec/PJ4Vmxyc0IbzRxBZkuJ\n",
       "SNxaKFYKDZ/LFzfUiJHdDgyEYyIRCMLEzaL1OD9egNoWC0AJTAEvGWUgbbpqoB+MQl6Ju5a67S8E\n",
       "sgk/yLlkhxCNCzlkvuPCN8HYEdMziPDHZ8W2dTP9LN05C8X3VoQyuIaYxhjYMOx9EkHKN44lNX2D\n",
       "jsEmn/745BViQywgFCh8ot7lSpWuTehA0vmeQtKg+diIhPB7Dirq8/1KDo4diTWXzFlzFsIVBHXD\n",
       "7StAH5cpgeG4Cbm7uY79WCBEXR41N7u6UTOflA0BzWj/wOeCZQ/fBIiW8i1ew4ccACiANnnLptbZ\n",
       "z/EOWRFvnbJxNZt62abZSckvG/bHH59To6zbesjOuN/WgoV4oGKNKbusMTTwfCcbXcCyA3+/Voue\n",
       "CkLQOkrQZXQt/4QL9CYpPqgDtznX8ea3C/rJ/KfBZVOLlUQMRWwyp5OsYpwAAAfCAZ8/akP/AAAO\n",
       "Auj2w6lACSkmTABsu8lUsrZwP5ZwzWIUf/Cil4hHJagobMGc5HBQMYBkIsNU0Twkk1MoYVQNgAZV\n",
       "6AmF+76qdLNblUJ6gUGXS8o15av/9qw1cMduDvesL9oJU4O/qdZKujUIZJfGJNQgSbDVMJDA5Ngh\n",
       "74wp4LPDlxbMVvSFUETNoKtiTzDTZ5KefIGjOpLYCC1hOHly2EyEMpYQQTA2FYcjTWQCeUXOaQMW\n",
       "HwykyJDBNHWbYG9338lVGwV0LfoyWiqVIBaOWOJUY+bN7AWaIahowEy4VKdLN2OukA/mk4Z6Yg72\n",
       "w+GRGZsoGNpHVIXSPpTwVKmzfr0ihnmwCL0xuBmIUh81Hhjx07Rc0Zr1b2GUVmJ3/lIrI6mUuWEy\n",
       "UdcfPnucKnDiWhOVSR9VGvqgpP0E9rKMLpkD+0CYg37eaygIE0fkcXYSmarQ/xRpxICzpD//Kov2\n",
       "ZuMcAX4YCJhieSxW8GIe/9iKUWGC+Wh+fNUIKqn0xIGykXFdR2s/mPbeFthH1OgTLqtxUzoaCVv4\n",
       "1zqFDsfIaZ2bD7tGEaTlkGcDTSYOHFs95cgnqaAeddZCCJmJWXB++XrIKpu6EFT3hgdDGhcqZGZ+\n",
       "/Vi7kVq4UTl8Ju45ZLNRlIPVoN1lm9652Tb37UOkGHpt9eLAgueXpxhz8qZOYM2xfFQiu7eobx5y\n",
       "Zh1Rs2dEyjNtL+9/+9Vf8xxwrE1xX0nFcMXMPUevTeTTeq9CYUJ9vdQP7AX022T17Ibtq5E8vNI0\n",
       "0GUYhsSON38y8CH/8J6bLFvOZEL1kwLlvK2gAvUSHF73o0g1hM2dx0LUqivpVJY7lKYG0VuRsvCk\n",
       "UZzMdpPpmCi5qsayY9OlDFlP+tXM1FS34D3KgsIwFJSFwlPbcd8ImKaDeguXWPBFpi1fUl/MJNfS\n",
       "+8Zi06LgBlpwSlYoqX8Rg4+ztHS0Gd+WNsdoVHGMvhUNq3LaQaN5rlvyCknkrKlDu6UeB/X1n7ll\n",
       "TpSmE4+GKfVL9R91GDjiYttU21aBT2Vg17RFfaXHhVb3wWsYDKNk8GEYW0ztZ/TiZGUX6VU5+cv/\n",
       "nIOXdeBfcyCbfAEoTRpCd1dy+Sm1qhKwlzvDXA4WVozlyNpUf8KARFfZ64oruW6GA+iF4iouEnDW\n",
       "deCPJIhFpdOoMwnb6w6W/EP/dHZdjfYgQeoloeo6DvfaRk2IATW86aJj4UOLkyEzAN6Kb6YaF+2t\n",
       "DFkx2Oxov6aO5Cb80Y0aQ1mgxCqaON7TH51/MRKvkzCCyB/f7c3QQkO+fZniSHuOVYvwGeT6I4zc\n",
       "t7T+pvhHuX/cMTm0idYZMntuDPYFxni50wiVb/j604UAiweqic2OnYnxWbAofEKf7tpoHHtkXOmq\n",
       "O35G4bUqk4QUGVscm1pWGZcahvwaOS4kzhTJNyPi9SeUu/96U5EY+b01r5nCNxjFiddKDQh1RKF9\n",
       "sXNVBKebD3n+2/AmNXIVP6h+maeLGUhwsg/bo9AEdv7rKbWv/gV/420tyoCL6Q16xfP3Q8LJd09b\n",
       "a7hZtuzMN1KdAl9MJ1tgF6CgMp5Q7LLj69yktn+Q5JZtGVynLxnyhtuZEaIn10ugZG9zH5U4S+Zc\n",
       "f8qQtLoNK/adu48FCJiahVXAR2ePNCdTU4Zt1eDx9EcLoco6rlEW79LfMr6+25uj5XuHxaWW9dgO\n",
       "W2vtJfH9Z7kZFWhJyaHWvxu8PUZMOC5OT9tcFEPJlRqIyIvlL+7Ym1dM+NMzjdLQGO3uqO/64aQ1\n",
       "4bGq0unT/FDhtrFvNjBT1CZ2F+dw36JiJ65fwkS1r+MUdHtSJ599eaDNs9fh5yTZoEbPxjPSuAPr\n",
       "Ga04Mqtx21cKjPxckjOkqTy/YKW8C8XujABaNWPXQ4V5JtTdklwtealOidOEtEe1ug6lsKFmlRB1\n",
       "VWyMeHPZXNRXh4jFJMWYfcxTfN1EiYHk1ekFAfu1MoERvx9hcN1M0KgVcygnv1RUyy01xM/rPvZb\n",
       "4PuxtIGag1DXbnyijkY516j3sxbHNfEAvMwFJc2+c0uVn9yxAV1Jn5D9iiAHpAif74bh3pB32vq2\n",
       "nIJe3yT71GGp8s+33DFU6Bc5JxmotvitHeTehtsvWiZmVmDdfY+ykVFJFVmwpAVvjxEZgmvGCmpG\n",
       "bMJ5t/YAJgmUI04PMqr8spVEXqpYK3C7dz7EddOrOtwStBZQhH6gwoT8TWK3xf2mFGGjwCrWMOAx\n",
       "50l8+2oNhuN4I/4Bn2phPVHibpKpThNmy4EaC5sqRqszgJLbjFCkn+vPO0O8ikhDxH9a+Qc9edOt\n",
       "b9J3cawX+Z08yCHxTk4JbPkNn+xhprLcLwXZ1CUnmOYNYRx2tXsCxwRRnJX6N6yuIzxR9o0ZstA+\n",
       "FCymu1Sec6gAJw0thvBrU4kjXDDkP089l3VvKjsid6PxY2KISCXkDY3EEwFE2Dz24UwE77ow0JTm\n",
       "t1vdMwOOrSxWNldzS1+Y7PJGP5lq7Vwwvkf2uyiOQnGD89ywKP7STZJWjv5SoP3fmfmTTwaNcClk\n",
       "w8k85/hsVjuBLn+3H0vnDbIvO1rJbEzotw2LlT+XkJLezBEkWfEE9JV5Sn+5ae7p97JTz3nZb6+2\n",
       "p6/8Nuz4aI3UwRI7zfisKN3oXD0aTtdlBCAfdqi0lVCgxfy4AAGXAAAbd0GbJEnhDyZTAgl//rUq\n",
       "gAAAdIq/oTafUADoiwyMrwhAfdDfnM7xmS3TUpU8/EeW2OTyOpGIqPJwogWs8e6DGH24ONfN/IMb\n",
       "5AKEsGS4kO+2578F4IwRMpUoWXa8UG9Mi6w8+okbdu1Q0AACJOEWETN+Prm9r8jmr5y/gzaUDNE4\n",
       "+05JRFdTCKlzDK0nt0DYUlqU47uDdI1fPVQTOHcFWXPgfqUyFDZ3oHkLPYbF4qEUeqpyRDOaiT41\n",
       "uK54zTjjMh0hZqWUoA/7DRjp3CWqKlgI/tSOvWtSeFwHfYiSddfjdsRAijaHCkbwCj09BwwskGxR\n",
       "buyF9iUEWKq7dPVA0cs2eUYNNCIob8sMepF9rb3VQfAaVn/LDG+iLrj8DmQTJzKJoPO4eAP2nNZV\n",
       "B24WrUyyELwJT+4NvBUrAEW9Yr7/oBSPPvUeQJ9b7q2hJBbtRp6LA2LXke5zQYswBLh7r5ZDpwcX\n",
       "0Y8mRsF+jhZ7UL3HK5TKk0U1qZorYtObYBcrPkvCfu71o2TJiPq9/A2Tof+F4sMOEsxjsKX8pUgK\n",
       "PHI0VdowfCsZ3WWtrQsSNgWHf1hXOkLtMJVpZpTrcKc2wdCrtjfAyd7HyQPi5oU1YMRkZ+L8bA8j\n",
       "4W91Jn735sFWcTCYeBoLDmr2Ylvs32UfBJS3oQe5z7B3rIYUtLInPIR/39g1UgioJ6uoeipzi/9N\n",
       "phnzHNQ962v/wAWPMerZHmC8Gx8pfCQsCM9FH/O+qQjShWwTVM7YPG2ZxF/pXqiJYKdqJfo0gLWn\n",
       "rLyB0Q2ajoyZGhwCP2HPvUegVeQlpHZhOXaLYw8ghE6kogih3hfYb2EwR76nSh2mvfX0ZiS5X7wv\n",
       "BlOvnqTVlXm9pITTP0kdrwJm1Jzamn4FBPOpFu3sEldgAH2X0Vw4mMINVKN5wn+QeuaIKxeGBG9Q\n",
       "OOZyTy/9PSEW9/SzdPm/Ycvu2HdZlqsaaaN6veAvuZQfMbxMYheTcl4Swt58Vx4EhXBayW2XLJsw\n",
       "cTTzOtPP/o9oB+GcEsqCN/Kfi4yY7UkFFMPFBe9p3NRJkKOYBECYSUJdQLneyPnNoL6hNMi6/6fA\n",
       "/+ZhMQT2Q/AIVZO7HuuHzxMldfjEz37dSfJ7XFB78pCDBA0YUzeWoJalejzfc4x/Db5OM57NBKOo\n",
       "dt4ahCm8oahnTgYfRS8tKs4bgl8IY/sWkIfAkQAQeq+cgxT0Ggsx1Bh5qoz8T1V5BurYHMrPRpgP\n",
       "0R2zkAK6j9VrMtol7L+qjOfmK7Wbexqy395rT23w9bIGHmjLgUhfYF51s+cQvsYC28CWYkzR7G5I\n",
       "XH+T4wRHECjheSTR8a/zp/R6vEAF3qhIS+MejccMe6yIVkLpE9rBYD/MSDXDqHLFgYix7V8dcFsB\n",
       "MTabnwAY2z1celj0+TJ6rSgvJl+7ntq2y+PcE4cfjPz4vQxhWZ974LXPnK1uLneGgCao6df2qFAv\n",
       "paHHVhUYtc999UOD4CZLQzB84jAjSI7SoHuIAhSsfs/MNc2N2A7qbIqijnhLB185nnGgtaTgyBOD\n",
       "XeDHLfvQOjneeuVQBt3Ht2F9gguOVHeQu4YavYw7Y8QXYJiUTLdgqL0kA9944Uxu1W5EzCa3oBzP\n",
       "wHuCQLlScfJX+NqAiEd4jPfV1iDqhEOOhfFx+jmn55JUqJuW5a6P4yS008tsg3sMGOQrtpsy6Ini\n",
       "2p4+P3ETkHr/2d6uSdQ0vc+Iq8hwY4/d4aIAABCoy1ST3P8Y8SwOF+G63banbwCBZaHRYatNJA1o\n",
       "W4jt7AYKME4Vk0i2cWFPNb8efnN1SqZV1cbxIvNWRARTLQlKoEFdNs7lk4rPmDPD9f5otxfC06qj\n",
       "jwxrGpHQydaPrk5mTukNywg4uwxfLZY/XduMjM9My+2Fabwx/RkkkufCYs4u9sTNtHoaTywlMOfV\n",
       "+w3J6xIG5JtP6Y9txDDguevA1JpU7YCC/W0ijPTyZ6/wtqCB+otX5qUZH76DoYJXFTDOy6CDKCaG\n",
       "a2cjPTwGgWeLjniNbpN3VB275hMwvWGurY70NUJKZXVSYFU5wc9HqvSD6XwxuW++lLq1EDtADP2/\n",
       "dl9hrkG9IjJstBUjOSCegkNqT54JHjWOSCWWuB/OMOwj/EtwU8LvsmGF1UQwOs5+Xudm/PmtTmFl\n",
       "dFLMcl6H/LQ3UbA9o66RKbVGS39ApYelsO45f3AWZ5hC6VSzIF4AzFfhUytg7FXIARBZwwv3WjaQ\n",
       "+bScOxmUDQApW8KWOQ1Zo3cfm70nPvef1oU8OxuQ/pmZd8/FBCQDz9xntQzOtEylTa7WhhVqd5NA\n",
       "Hl6Fw4HpMBDEJb0x6ngRdi0crMQTlRtuNfirieGPj87Pv6hVqWnhVX1QnAJ7TbufPqsCR/IrvQc1\n",
       "XxaKA9K290CrIB1WZUp2D+s+yQPXwiwR4NsG0ciSj7tzTHnMu9OUv2whTc/fvB93RrrNHwpTsZvv\n",
       "IVYxCbuaJw1KgkarZuYPa4M10MJOrTzT9wFteGzu/EXDg+6JE9HX6AiyiEV37OY0eEYJ1+epqQ8g\n",
       "PcmlyQqRD1S6tM02lBFbzf3EwS6yOhcQSTLh3s/TBBfy2Mwxg+o+mrhIM2L9tWCwKFpBaefeT/tT\n",
       "0yralvN9YnnDnM6PSvxAH24cYwph8zfDZOqwmWjlhK3pYdAaQi/YAgL1k7tljIjvirN9+DTmMRsv\n",
       "sBJSocZJ2rIP2ZAP2cJiNeDVrEowxU2+PwNQPSRb1v0AsnukS29Tihw3nTExDwBpJEHw94R7arHZ\n",
       "BXlxtDflCny2nCh+iuHWAkNG4zj7/gxp5zn3PtSxjNeZCFu1xtzcSfYuSgoKRquMYe2QB+K8HW+/\n",
       "Xp9tFS+2lZJ7C4jJxetLpoTNjaYJXX2hR5pSAq/sTZdISzXi8/vnkRXWUxnq8gszBAFRSzbaXUot\n",
       "O78W79FMB8kr5QHY8ojgWS5yBgJjzfgLDRUVsAsD0gt+M1X41Iszg7sdcye5j2AP6NAlss6X0ogl\n",
       "l3tsvt8xW0DUxDkIhkh1R4sXtO55j9EPvogSsRHnmyBT4IumsvsRVOLFxo1zebbZe05/VBbL7mfN\n",
       "iGDgi1lP5tkFqwtfAg07Sqqgo4TL4hk8+8attrSsGNdlRaAK4zpJYPvNeKAly7ywYbCmdxdi1mXe\n",
       "EZbkyHzt4GdFQ6Jfj39CuBS/+abVnmaRsb4TmUW6EWikGAMslx26o5vY6njGbezdmUHEsAYv+3D4\n",
       "7P+ErMveuFpGiF1di5u0q36K/mMDTlIWk23E8i9aI/wgitMPJ9VMEJ9F+ywX5Vt45UrchU7BguRo\n",
       "D9KnvtBf6ELMMUXeATWULstGeADnKszpCiAnz0MoX+//AK7IRXhWZ/Z7StfPbgGZl029yj9w1tmZ\n",
       "vhvmGjvNoPQHDmEaK6vnqwK0ooTpAldu85QRHXgBOXsw0vrTmkbdc1Wli30JSHfjco/XpUF8lCZD\n",
       "QC4OpPpqEGjY3Fnagv4601RJqEZgg67CvseSIvUDPmFOrBI1WqasmAuFfSqpydI6aqT0665s1638\n",
       "ht+2De6lVm4M9pmvoEwIyQqNzEqbBXEFHfDs/CSf8RsM5GaASK6pbguU/XTbkCDyYgxNkZzK8giz\n",
       "jMt/NGAUApqSSY9upwccyOKSiB95wTVuf149o+3XJ55Zi8UjEeLD2c6XbKLgi+DKUvOT/0KbR6Kc\n",
       "W5kz0EmtNqzSEYLcWjQCzlGrq+hfyXIXf1Pi3XFOSbySvSrVwudnVgxe2IMBF/RbD/pe8X/gOmsu\n",
       "zd41NvKsVms8HNC49/nxoSyrAVLBpV5QRKkoLmVYyplzBfjOfl89eBugaFfLNZdAOxiA0cGWo+PP\n",
       "gIk4igJpi9BZEeAIufy84x9MM33Tx/ihIjXQtrMeTtgSYyP+CmgWtUtiKb0VDMzcLfXRtn6ZzGbb\n",
       "XQvLrptlL/ukglVHy3L1tPYPkRGCocu/D0HwORQI8b5cS8V+CY0o+5xMpWZfTSljkeMLop2ND7Yi\n",
       "+sgLcB0maSPqMaKVI5TKINsgGv79ikf3gwNrbZQXJvz/LgskFGpdFjBAKrZ83fFHvdR4+R1+Qfai\n",
       "ozZo/xHtqW/WIXx0V3AJ28LwofFB89/0cguy6NwcubJ+Q73qyf5n3DBgBxsh6M9Rscs5KvCps3tG\n",
       "2Ltdw1diwx9Yt6FC5shzp6iNJLZ0FIp92wLktEJSPcpcXpkBVgC5Pz+wZ3/ro0lhJVrEP6aaKa+s\n",
       "tnt2dFZ008Qoi+C+rWLVzwRwMz0VN3+DNt/8D9gMbQSVlWhTV9GUQhHaJpwbIMa+cIX6tU+5NAGm\n",
       "Ivgz45i+epjq4Jr4bHDnQ08N84fczVctcaqJvKMR0kJw+VyKYyb8lZQXJz++qeyBqORoIAnk0bNI\n",
       "3fvxdlPe+H57Qlk4uAYnbsr4LVtS28LVDcbSUkTAK1HiYGC/DMm5IuuW9OOqkjN78TBZE17Xv7Rl\n",
       "Nc0GpaCC4CjJmswDNPxE+CrTNg7XW8jEsI7xtLi15v6WvbNiNKM7TKMK0S8yOZY5E8DsvnBZ98cg\n",
       "Xb84x87jahcsiV0FEv4m+xwS7FCAC7+ARrW55820KqqdOP9i8ClfGfxufGR/IhM+4kdlH37GW95/\n",
       "MiiPlPDk9qclKXHRnGOt4oXKHGSSpbejZY/6euC//NecaQWhfo9LCrwuoeTnqD75gKakTw9vLUZo\n",
       "XgcxcAAfh0ofwx1nci4uj0gYF9TfD7uy7VUTBu+O8gA5r9jTrXFCornYiyPdfKKITe8AbJLJtS2o\n",
       "3GrMiBhObpIiDUpKcpDw/3Umv5PUXbzFi0WAP+P7j2weZlDdUWwGv/L2uQ+FwiZzN8YOr4V9IyE9\n",
       "0+G/HhZD3fNMXfw5ps6gciXlu6DlAsKjkeFkKy/ezVV/tzWqnWXKG/BMOY5dDZ4l/psLXYaliTsy\n",
       "q3wJDzLsrgT/92+6hSDJQ8yZqqMUayaaB6wA3KeTd4QskxIw8tLApz5WMBw0//RgF9myt3xTMXp9\n",
       "zBADh9tLjKeuPCcZv9HKFyZGNjz8YhVNNc+IHfsy3cVcqsQgZvPNIHMzDpglpaaVSf6Krty+0rkp\n",
       "R0fQEAdPQ4POVl5/XWgmbJvjPusj2nFpRCg2CfxD3TMZdrQNdJkFZluhVIqHSzA3AIJAqfZ9QK0A\n",
       "yB+YpERhzM7Wtv71lZq8rICn4aFU9PJ/18kM0+ZEQJDWn51UhN7rDAbOFk03EOX3J4SiAk+QkJl+\n",
       "onnUyqoGIm0xJ5vVL6PSX6VL9Oq+nJ7+N011EGdb6wxN9uZoRHZG/ez2Li4/RW/wh9+6ocr+wDPS\n",
       "0e6QRmym8pWXXQnDgfEBFMG9+rxR1iMzaBAKl7dnhJCL1kSnl8z8sMcrT6Aa9feJtliAOjNGcphD\n",
       "b/RAaN0yY0lZXIZ7cD7pxlX++juZlHa0Aw9HhIU7/9YdQ/0YHx6HT0d40QDOyH7c4LGwzHeOjjf5\n",
       "HExBooqpvcM4rgIPCdNK2aPlQK4p1bzpOUGKB39ffWaf9/yPsMi17DgEa7HL1irq/+ar0SCfH2oi\n",
       "qHtbmYAiJRjd4UsHyttf/Ra2+ooReXX1zHn3EZl+/6d3CzKVv7YvPAEgDritMET3wbF5S/TACQwL\n",
       "NDpX7IcFRMP7jQ99m0LIOn8L1B6x4eocJDYh2MrmpGi++DwsGQCiE6fp5dxGhFLc52PSKM1Anu8V\n",
       "//vViqiud4g+NapYLBmutWiw99dBW7MA1RiaK2NoI+eTUVu/GO4rbx7fKXTzj+sVPT4kRYzRSOhb\n",
       "lfZX9swYQAhRDuEiZsgRq6bQGxb66DNgzZQ76grV4n/ez0sXQ0JE8vORLRWFDQR5M2DZZHNKoej7\n",
       "QktmJwQGz3htoXbsgOy8i1u6MkgAACS+ZPVXteezqtvKKaxozFRuZlSrFPFiSDqHSj+aaSjkvPli\n",
       "M+z+BZ0NZN0rNIRsPgyRG8aVMbjr5YBZRxWsL8164PtSbhgqsy38aBJkoif5OtNKNBIbnjkTm1A3\n",
       "UeqXrhSOglhwRysHep+9pOfNOEirgzFJ808XpZ6BnVw/F2YtLp+QXQ1p2qJOQV6E7DNsKWD2MA2y\n",
       "D5KoVIIK4i5x0jejCwqE224vDEnk6zmFPl919DWusFr9WD5xoFYKT1FdSWxV0/+WV+evFYjGuZLD\n",
       "wBNhgfpMnbdbaYppDgKQVgJzsJ/nPRQ05lWn3FmxM9cqzvOYIMTUYyHr7+SZgrQ9AUoEFdLvrix/\n",
       "LZkes2m6pRsX1yu6RmfxVYae+9gn3bvqxR8yVZ0IlnSz6mWnyE0bJPnQ31iVYysRNQGRRwoadRf2\n",
       "6ZeVSTxss++SYETYpU+o1PnVIAmO4UWQtPElw/IaqxtuYY+ukCMu77/zLk6NQdGIRRc6j2wzwqDQ\n",
       "El0PqycbQN62CPygcklg/RJZeofBMfDW+TUoIG4M4O1BFEXSuLJD38wFF1fDTOHf4nsz6Dw/yJx1\n",
       "pm3PqeZXFnKbYedS6FY735+ywHO8bOTVb6vPjwTGgcKGl6KIrMa/8PWTz7qZulKGkzPqEwHOGBkk\n",
       "h4pVS6E03PahCFCmvkMk/559e6hVhr8HD+EyxduHVJ6MejZ+qIaVWNsGhk5SGmVVSEFcGwCdpYZE\n",
       "792OWBYWzQbrRD3HFeXaaBn2vBMXcz8CIY1I8XZqwMZs11bEpJG84Ukq7Nh1LyAJiDlZDKBKD8pN\n",
       "wbeuoagIpEjXOd/16n6WBFnUW7Pelhkh9xrIUSymAYCYnYRSzXaK46xqDWLBKDIAhkO7RggN+pFl\n",
       "v0XpiXLgqTUYdKkNOTPedSMmY0tZ2xGC3adb7JLwVOvuhy+1IuLGX/Br13nrLXs7n1H7+c/rlLSp\n",
       "MlpGhnbBXeA+kgg9fB9LPHWtMWkC4tv8yV0SX1IBfk5CO5GwHR8tjIKpUxzxi9xV2NjMV/Fa31Wp\n",
       "g49BYqWOa52ePDk9YapW7oMvFGpeT16lT3JmxLC1+BWFPgUxfdRWgC5hH1nH0CfqAd0TUZwtXlpB\n",
       "bJi5RFrvN8BUeG7xROdtgW79XvHABNbsxkhFLq3tddild68A9bmKeihKbH7yrYAxNJ73dg6sLtUS\n",
       "xk8POyNZc+he+3mAFBs/GAYUWibgL/PTf/g8T0zAaKvWjm14o/cmyU5GTyGFqLEgaLHmDCETLwIQ\n",
       "icLuaCONVn8YK//rjCHWno5GxeWXbA+1igJXBmCoHWda8bTradhNdovXYNCvhSG/LVMGSYLY+acr\n",
       "IkpDcA2neKDCErEDvXerNzZUpgEkWX+xoXShaeQ/BX+qbboKpu0vfg9N8stamIvyp3fx9hfr16UK\n",
       "JClF/M4lT9Lnb1g5SXU23EC46BR8M0PjmmG1qeISmf3fEycObQMWLTP+V1kd2S3xRoA8Bvjb9kuf\n",
       "sI/C+Vocvfx/bDm7InVp3pzJ0zz1MCq5EQvAJH7Pb5Hs28n4m9AcDCExkAqusUdWrIwoE6XTNC3/\n",
       "mtkOFDyFo9jrzimPaghjbWIujSdqxcTyii0q9W5DBLwTcRJuXKjwzeK/QkAsJlwrQNWq0/sAysFU\n",
       "rakj5/GtiiQQz8tz8jl62e6MEKam0K3vMGwxKMq1Cn+uoQ4AsARbL2q5waO0HX73u7EhUVmQvz5G\n",
       "ir+n0ueOcODpydqGH/5WvEGEAFRImf8ytIv2kab4Zs5s1R8Sm16fj01kvarCrog0DP7fS/QfSuVB\n",
       "zNcEU8gxcqhHJTLZu8Kxv4+jIW4bIy2TZ5FWt5g4Q8HIr0dd4kAPO7ogtF7g2ZCZ4xBlCi3eq+AS\n",
       "w25I38cLsLgxuW4xTUiMatFgL3fLTv+M5k1IUP5t3ljSTBhjFlA2xBmtMvuFTJ8Tkkyahi9yBxwg\n",
       "1h1F9vEM4/oFuJFrR+eLOFZ7wWQudk3Fn6oCHDhe4V1orHaWIMqSnA+MqwTPwLs5OEflxG9UAfDW\n",
       "AeX9qDebxtzNrKtXoxz3elaiDtiEc1n7eR7Q2aVRs9d6ystl11UkvKYfQgbvgEXfibsgBbKyZuZv\n",
       "T93o/jI+v1t+n3K8H+kzsFYIh6n7561YOvgMbzgN5EQzYitD6uOxADTPfxsDKKuUU2A2PvtraUNG\n",
       "8VUvg52c6dRCn7jxWZKZ7L4JAip7zvbhBct/+C/7Uokp83QdjXO0NAPKpa/VVRtcoRt/D4oNeb5X\n",
       "Xy9h56PG+wyY3/+9hP7c/9dD4zaQX92MAKlYXw2GOsZeje2+28Hy/WhP8z1PH31aec5AtogoTuH5\n",
       "oyk5U1g73NJwNRxHOw+RzT76FmXac5g/d+EriyfXtO5pSXNZ8ECykzSn5Pg6B+VGkRTRV5BfWNkM\n",
       "qEOmp7t1GTrgL6B+hnF6NhPK4IdIRxujNUQ74OHq45ItTANvZiNVCiU5dsC4Yawff390x92qbLYu\n",
       "y8xzSACn8nntOSzc5G+wPtfzEp+MmHZ8Y2fFthTm85Efohuwlnngd0naXG5T3FskTAdcbsuUHD1q\n",
       "jD/vnnkJsfV4yACw1V9IgPTAmabhoODnlNS1G9OVJZcVWWLTD2JgwtWHv3wTmQhJwpUQ5r51Hcrk\n",
       "n24AKRmUWT5vHBY0tCaXAJdm+hLPeM5Z0bIb12NcrO3N3/o5gqE6Q4ifBhJZYzOb3IfbNNcJa6Ja\n",
       "aCTP1Dz1t1E5P6yNt1v19ILtO/2dr6zqSZwEXaQqWlMNQEuYl1Ojiv6oBQXHNW67Ar6u4KaAjaJp\n",
       "Rq8CWaGrorrwNe2kl/5eQY9FVMSh7kZaTfMNquLG5r3zqJU/vPKUBrax0Cyzei2SgT3Ykb/pHxJz\n",
       "CVAomYq+bt0fu9zrf8ofXVtxApYBh+Z2QLiziH87fGg1RDsBUWQUofX1iZxmvtfkkKdNzxNyvDuj\n",
       "4b3mXGVMtMJ+Kcr63NoSIt1o63TZZCWWUPfdmDEVIg/79HatHNFc4WLplWN1BkUVKbahRNC4P+fq\n",
       "hkEIaS1N7zBy5MDmVcvV/XByfx5IwoyihaP1H75I6WBsTn0qOGkSp8xwMdoEGApSo29ckAuWp47J\n",
       "+w8yAGC8XTC4TxqLSZbOK6boKX4KZX+l1nXvZGWcvcDnOQJLte8UIzPqbyhaxmJaTYWnYaeDv1yW\n",
       "DB9995/27RC5xTZIrvvO4nDX0oxOa2lZ78kfBd21shCrEUsSReNa5TapcWfNjNA327viTE0CZMCI\n",
       "LH1BaTMo5Pj9AhtH8l2YoOh8E8fqqYvVsYQgCt2tCarBtWjGZKtrOedWw+CgQz4Dk65p5+smo8ld\n",
       "QdjeOrhgOfATP8CIR3V3Q/b3oL7Zw/7vDgKmtKsXTIgeiyYjmazCcWg43uQhhE9qSNXMSq+4Iaia\n",
       "WFRV1pm2n6CjHPwGLY73Avzoe9Hqq1gzmatJw1qeSlbhjvoveJ0OC9UVYa1l2DPXCMtFQyly0xDb\n",
       "b9LSIcwCCt8PPU98NlZ90Jnc8oKwFbprJjCmRInEGf3Cu+CybV/5dpMaazEtbn1WNigmOlWam0Gh\n",
       "isn3UlrAAAALiUGfQkURPBD/AAAGYCe7RXWwrpnnOEdmACIH9vNj0/T3GUuPucoV3PIfCZLfsLNX\n",
       "I24ejlds6s8IJ0DwW83iVnLeXDIuhpec4Tklfzf/QO9yn+51So16Rpq0I0OZwCQucmVe0nZdPjzG\n",
       "1fLYQrsDJH+Tod/9uRDPKDMhK3v+/lqHwfi3GvzuXIYyNk0eCdkYo+3NxSfMiv1pkkPhXwXAicnB\n",
       "sUzWhulQ6at2uY+QJqIAIHKiLfU8FOwaLjVyrxJV1/rPKEelTkTp+NAvPqTInb526bN4IhBYt5W6\n",
       "8cuRBq/IL33PnbKFGJbqCFcb2Ief+BLL2LD7JPTxDGf8hwnSnykL3qf06uPanp/9B5IM1ppWP5S0\n",
       "xZGMn6H9aIeXNnhtgZeZlZYOIwZ7Xyy8YbL2PqOPqOGEQnPFrDLD5Cq8ZLIuLrQ99qq3u3ccUaGT\n",
       "SkdAzBMjakgB0IFvsmavO5aKwQtyXKDhL3RegOKicYfqH+eK5d5gTLU4tQ1iko1P9zabHChvlKxT\n",
       "GVKUj11ImjWxrv2nanBHKmiuqydjcKoAjdbypPKMGZq6Vgpyo8+l5eMR1skrWbc7ZYf8Yqn6Qu2j\n",
       "eJ/vGh24mMnRqACZcgej1OAT7D6KglgnNUdEDtxwd4bpGVpX5s9n/VSyMPo2qg/ZURMxuYGvXedB\n",
       "/6/HXC78RqA2lTuomxmVur6LSoTh0Md7XLw+asuYDVoFDd/azjMq7UDPYsqHwpZrygIRYvzR4RoG\n",
       "py1sPt2ifrxETci1myl3Fw2a2hkMvCsARer7XU7LKGKZLHLKKio5L9wz5Yn7QiF95nocDYpdGBPG\n",
       "vnOZzceubffDzxOmn2NBx2RTkf7WY6KDDDidGJXLLhYugJWV8ioXqBke+LtTWCW0sVXZTuRAQw7X\n",
       "/mSFR+UhcAB0hQFvRqnCvTZBYHpVVy1RZ6WgoKBJwP9Oh+WVyxt7chTtACDLY+uJg2Qj5Yrag+dZ\n",
       "MCfqNS7G33BdhxDP9C6GiBJcKKci9kU2UcEFVsRjJjEfmaoJGh918GZ29fNITstAasF9BrLu8w8Q\n",
       "0yVLh0ea+I+msd51vjZIyesNQ2KiCRfa/5rpEcoK1fwfcCsoPO5ks7h2/873p+v/1natO4d/LsSQ\n",
       "T+6gAg5sCbg2IRODgtZEIBQDcu4OjNzgoavOjeBfFtfBSYmyn0Am5MVkxcKytHOB6nab/yaBeBxW\n",
       "6n9DautpBzBZKk/89BncZanX5xsdRz0NcXv6KVHiSi2ysNg4FHH8AcjIqSZ8aA061NsEm8iomHfq\n",
       "W3G/rCvpI0GmvZsJYVWVjCvKlODw/vqeu4vRTvzKKmeOD1uv8rfoLf+XIAJY7nYP2ZCN+GkVqjCN\n",
       "3jXS2WO9AT8r6Xxx2X1y/n6UIgB3NKRbgBHIeE5IQqckawQTkLDOnQ8cOQk79xDSc7iTvoEzmfop\n",
       "GHyWAIdCuutCYqnZBEmxJHPrHmSHDWUcIdubkV9OzyeVJ2dwE9f9o+vYwrMJlyeZpBxdhOBzquQT\n",
       "nnVqs9znskDvOqbQ1uaoMYyD8D13WMhbZhBP/P23NbWxNJ3ZK68/eP4ByRx19dliEnN2pzmGL25j\n",
       "3kHQ5/LnkCI9xDUjMBeROwEFRBY0WVP70sUSkiEyvvNCN30vtT5ZbvAW82PvUj/q4Me4loudNFPk\n",
       "24+ABUXBNxo3yW9KgCSdWehju5V5hufvzP+q0Wj5q8h7b3x3M3zO6O7MLFDmriNzwKg6zwrxazTh\n",
       "hci34IQfMSfrUiHU+sgqXwAUZwbJ194fYxnocTQZrRRHJjdkOwK/I88zSC3SI4qLlUSGVNCKsJ7r\n",
       "Vd6cyqyxYn4IqWqnZoQUvPQzhB5DGxJTB/rRNalG1mev4dP/UpQYXcG9arSoQ+tqvIE+Q+odNuc0\n",
       "HvES/7TyGnCF7tRrNe8dFYnHlbrabfbqpx+wTiTsxMU6mhYphYObwDA3AxhUjcBJb/mzmdiXwXmU\n",
       "KrmZ8d9uG6/tMzu7SHsaNHevnW2Jlzj/4+TGo5+rxYWrfqsBDz6p4J0PZaDJDUKzislt2/5PwZct\n",
       "G4QEQs6d22F7uklihMIo95gxgOuhoT33iayFAhtICjU2epqKjVJPiGS4kYN42JAmKG8cf+prvHDH\n",
       "6wZT0WE9tC7kDlx93c9IWl8r0fubo0V1YtVsVL/C/PZPwjo4hULJC6Ly5aL8gcrYN6lOowTtewvD\n",
       "otnqppze5gy6fP7n4h8GEgQDDxDr32tGZtnOkSm8RF/qSuVo2Jd/ZUEepr5p8obnV+41YvRDdTgz\n",
       "uHdQstPaJjs5TmeZKcj53tQ8wBoG8bvEhAhlVQIXK1in8E6IG8VWMG5k1y02zT3Rkt1jvaLdutKB\n",
       "MaVWGOovhM3qKRl4GMw9LlRp92fcGz5HfHGtJCZKgHX4ICipQpLFS1lQRjnfHA2S/u+tBhAcsFcj\n",
       "37udSSHvicUBHBCf/lU/gRd1MtSzHeun9M4nVLLd40C/NdsN7TWUeCg2MmMsTJxUpI5Xe/3j4d5t\n",
       "l485637gTQJF0Yk57iXma116vRjPL0wYxw7Z3u+NUJjZUUCtfu7OsTzxuEn6FCvMZ6b2YJXpxgm7\n",
       "XIIiL/EwDrsSSjqDC0ycTPj9/pXsjPMCmA+H/JqG6VU9Inzk2xIgz9+oz+QUzcK3sqc4dvLVRV4D\n",
       "Clxs/sr8shPAj4oJOLbp+tE3nYLodWY7TxF5VxxWFdeV/wvDCqV58yhzVlBZ0tXTQDYEQ23YLvHY\n",
       "N53TixZE5Rtfl3FLGtWJZx2f9INDJtbips5/AeppmN1GRxSvYtI2/i8Xdt94MpNYIgTHpOlib+qO\n",
       "DTLgTW9Tc72s7aHThWUDD22ML5/tkcXC9vAYrvXsuzug4kqEjJXnTFh22atr26i7ALe1KuNcltz/\n",
       "wUOB/q/6sFxI44heeEdt8/eXnbEn1147lkH9HQcZEycfgOhp6zZTr3yAm/lcF39Y+DPj/Sbf/5xD\n",
       "2lhf/baOyWsekPvPcbGs6VEYXSmBvbL95W/ThOM/0vRFK376BNZuRIrVJoalpCe1mQq6ibxn/zG7\n",
       "9KwVMrU1EUIibhPnXH6jbI26yffZh3k0/qEry954QAV7i9GJ4Jjg5oBAlZmX9bFZDK9yf9IzO0dD\n",
       "qXdYmdPt/qWS2hkP13+PGv1JgdgbuqOslzDngqgQkNXUUFBYDgt097E4LTti2p3EtyRqShGrsdsj\n",
       "/9hwWNHjEeX0t+CaBFYb9HD6SA5/TGgms12GUAEldcE3AshK+IdWOqy1uF9rewDA7WXiRY9fvEq2\n",
       "ABv7fuzXlFcIwI6GnAjb2LuRXa7zilxfYZDpAtasAy3rzvBZcjIqGzGBZFSaoMeoRRZhbNCt8rbI\n",
       "1nJjjQVd7BH+idfFu/IQKSfTGesrv1bb8LIiLp66NUSfZeG/BRvj351OA4Hj3oo5k+syA/PUCySN\n",
       "e0dGIHWdPBsBdgjubI4AqOmC9mCArcw1gWP20TiPNf0dYXzFYw9RmRJSL25vQAVkufUK0hbSUBmT\n",
       "KVK0fbgdD+M8qwMYumEk8Qv4XwbCsePGR/zIjHn2dOtIW3ukEdC4my8tMkfKx55x0En86yDSY0Y5\n",
       "T79E7t3b8biexhgT87Por0fhfu3QlIm0g8V5ldt7A/kD4UZge2MJfeFKEgHUNKcMvENiuuHSPRom\n",
       "lXyM63jYNf2eXfCiG2+dZi1E5w8j3QptZXC/OrmeGqLvvtwxapZ1R6EyjC+9V/4ieKZLiZysvZYy\n",
       "eZFmhSOcPUijeCOz/1CrNPPRzq3oWddpueqf1LWuMye5M+Kk7mIcrzALq83kEZeuBBXK3epj0EfU\n",
       "f6zjorSz4vvwzaVDhuMWZm0n0fi6G7YSMlvUFxVM+TzI682BIxsjBaht/fU2s+0FNXQTOq0lcPAQ\n",
       "0Nzg6rRWJpc+yJRpDkD5hYIbsAGVyGyX19x+K3Pqcnl+t3J43VVDYwtZQ+Z7/6LftuelIAAAbMEA\n",
       "AAprAZ9hdEP/AAADAUdWHYAISjqZLHW2HGjRkpDfjXHFC+AYW7siRWyx3y/evMpB8/3WjuzwMKTW\n",
       "BBJt/rJlnEIEcdnl3eHCUFx7GJ3K9TVtuYXX6Qva5rj51E8SLhHhftIJbaeNCYnEAGQdWuw3Zhf4\n",
       "yIsMYFvm1eOwI7E+YQlIhEQlJrwy1EPBzqh9yxFZCg0MxsX1rxc/DEsK8IDenilZ5V2X4Cu8piuH\n",
       "y4fSEBmkqRWDFXn2GIre1tppqG6c4WyCTpNMIvJ9y0/CGl3M+3SwRg74h2lzKxVnI7ux8wNWOdZC\n",
       "FOcp3SRo2aWKknLbfXjegkSzcipoM1YwnhXmQr1XVEnk5YtIZdRp+gXKaryckd8o1UieI7DsWMsD\n",
       "c9RY2m+OCA2caJ0qFXitPRaAKkhagYd8tOOfKsIrb2ufGbOTnQufcqJ3R/xX4PYwgmzZvNR+XiAo\n",
       "zGSvgT2MEUIUJpPfJ8IsAVB+hQzdDxXHP6qEenJu10NcZ+vn3/9aSws5Rh7I5DpiQx8IOMtLdZ97\n",
       "fnK9rxc5p1fZWTdZMnLYhIF5nCzDehrolMhxy2nDT18F22qVqtolsGqkXEYPlsqg99XKH34mnvFM\n",
       "KZHgpo7gA2A/tuastrdxT37+ZztlENvmSkOlasEQEXWnNVtMsYIPNygYkkWUX2bLsscA4JyLQYH3\n",
       "x8nlWvwBrlAtCHEartgtxjmtJ2uaWDMR80Sa4aYMQ+hXwEgV87JD6TddmeB1UPQzBeAInvl0RB+4\n",
       "sX4nZ5SOPGTu6auPKDTIwvCus83ou5h+vV+nbdAAJbiZNDfWqDYn5cvL5WtudZuxZB1O+O4AzYjY\n",
       "nPNrNNabZCMUQEnKLe9YELhQg/I2pkl3CJVMcV2QqaT47Lps/k1Tvavcb5ATU2VtVcahA4xtSPj1\n",
       "arDsyI4yOH14tkRp/bdoiXo7madBD3Ll0Snl30WyW8lRB9LHaDwBQgQZcjEDB9eiKkWEYip5uBIK\n",
       "nGpIJmOV30LkQytxE367NUu75Ys3klmGzmnn5re25Yytde+1yUMLEzse00KeNLH4fPgKuhPnVp9W\n",
       "JbL3B/g81rvvi7OhHshz9Mik8XqWyntdY0NIQid2me2TBAY+lS9dSB8t3t+oACCIj3cLig+KI37J\n",
       "oHZHsr5dHY35iQP5ptHsWqVujM3R828+AoVAJNzRfJc5Y8BrrkD7uS52pdJAi3WGBfUCWjQfKEAo\n",
       "CRRZIxVAa53I9JcTO0T107LQyLg+87jiYEx3XkXPI04TTHgritIAO5jMB/DYc6Vc5XsggdzBEV/R\n",
       "xnH3fbWhrTLL36WF4FugnGTMsYyC/I3wCq4vZPSrxM7k0KeiVxHNlzzjZzoU9jNfo60To60CiSa1\n",
       "yoksEQMJ1XuWdI5mgaav7YX6G9X1BYnkIc4Is8BrNuoUMLx9dspL7TutzclnhUtpdVKhtW+011t+\n",
       "qgSYkeRfkLZ2i3Tybc5OhKzH9JCUIQpIqxbySdW+7OMHuQtGsgig5L8C4ChO1Pdc39vvOlCnd8mA\n",
       "3hS2kDqaUDrYuAMBySLibnogodIVf4SOsWE4IHeWI4yg7sFl1cy1oC8lNjSBK4gpoe6ZIu5hwZKP\n",
       "vaVTJdMahYwNswAM2e42VqQTe44glbbEpocOt/FQzNl4ZkXxguw0XoD2PqUbwydXRR31Gn5fN2TT\n",
       "Ll9MrNntYLwlAgXMXr2Ga8A17xy3lP1h6EuXALWxKffnqq/l618ikzfTvfe0QRZt9Fcw7Vlo8DUn\n",
       "SnKVANftu6emzzv79mp/1fGTkkBwW4oXFYX52UAcwhMo/HT0zUjc2FZN9XiMBQBEAt3oFpqVR9IO\n",
       "/Tf8iQeOfXceIPs3Ius2pjq+c13cwk3XRkoWdGkuGODOooiTRtr6H6yH6qBGq08QvtQbuaZ6UQGV\n",
       "dAMI9xuHPVuAGVO1pIfamjVzDfAdbgAkNW/MFgiumW0jXhgGlhzeP5eKuJOzHbBi4TulSl4OuQ5Z\n",
       "aGRbCdfg4vq2EntWeXuYXTxcDRbg0IsktfYX/GBBAMWcu48WgHkQtJJg6XyhgCqKlF/j0WLxCQo4\n",
       "BmdbZ1o4PKExDkGmvF77rgc/d9pquB82EbQemh5JSeaXRhygPKFJ9GbpATS/NF7Z8dMuvhpYI/+B\n",
       "TO0q8/sHwOR7nBSJgJTH/9C/IMWLYvuZepD55FHKDLorzEtF9WZ6HQkogIP6EP7y/qP1ybFrgry3\n",
       "FaflKFspPHgqUfHM77QE/gt642iYYdZY9IgDr460GPLuTCdlhW2Jh2KmL4iQjCWgpZINWSw0jNX1\n",
       "Sh3FemhqvSUTtwoDZ/mKQDQu7bIh6NxwWZ/orT8YKhChFKglG4mCdhcaEjhEVZW+LVlwUrLY+qCy\n",
       "qj7DQei35f69swVn6Zry+MpAchdXBLS7lQiBFFcmEsqivP5EW5kcGRckZOoHXewboRhOoRGHCtmW\n",
       "Shj/nYdiQGH5LBdjFTpDfetZfa8gVoYWZqdTyuaMRgjWADcr3W8lzlmCyttRODNsYwjPtgSgcpIV\n",
       "jFuMbO84OzBBxoe7qd1axpBAHRKy60TGxQogqIY/mzdnNzKfgUS7Xev98PE+QfR4SWFMpNTA18bD\n",
       "L4K95FiJhBGTI/J0nRQ1gWGMrh02EPI0YNnu3ep8cV4oPAvJ4OBv9Zyi85PeXZEQS57KG2n+wOIG\n",
       "jcqCvisTOPKbyXGOlG+9xQCv2nKImXJ/UFOPZW1wpD//vz3658L0apnxFOYuPyvwm72gIcGP4zy/\n",
       "/qpCObDkClZMCS1CPqc5Opp4ASZEBhZXVzfRqL0YxgdglHO31zR0nWm/08B5ItR7a0Zuk/qeoQ5d\n",
       "HvOwsFN2BzbDtrADxDdAAci6yS0vZLMq44mFOfT1KzN7rC79UC0uxBwyxRWJRPDPEHafbhhTsxNh\n",
       "mf421xq788frZ5eDZhezefduCwFStfID91aktc2f6KJyDz8Uzl2C27HGUF0Y6yKlTGTF2zVo1S2H\n",
       "JBj5hlcREW2MIOoC5tD3n3ZXVWCvMEkbiQgMx2ceDK5iy+k8siZxxeqtw1WIjsfgncYSkEDf5E78\n",
       "nSes7dNy5nX59SXs98dgluCkZLAEYV/3AUGBH8z13fkpODncoYh0zgeRh34I/FFtfMMFBGCksrNt\n",
       "W0+UXd3PmWPR6Dxm683UcbGWRH8nSaafFp+6XPBHth6dn86ayvgOR0WjSKijO9dzWggW4H1TZjAB\n",
       "0YXopPlhS2tLYEder9o/uEDZCUQwblAtBVZK2jtSiwwvJSU8deS30qRRdKtf/mPhm6siKwbCpzs2\n",
       "Y0eVS/LgkoOSGuh9UUREQNFcaVK2DZs8vJq/5IleN4D0ETHGazWpPdHoU/D1NuauXXX55whBqpg3\n",
       "PsMaQ1zk9D52oM4Q8O6FbmjEK0ArcQ9+GvH2GJiHFG7w7D+FFhyFm4Ookfspc97C/++hoZFC16Se\n",
       "ZwDRHhXhJC6D2OLz+lwucVwxT1Iw2KWr1leg428Znr0d1n+8d3F9hHN4lZpBHnLBdwL13I6mql+Q\n",
       "4eu3n5uZTFjSC1/qGlxXANvo5dsElP+shELmh6zb798/scWefOKwIbj2gIr4AAZ8AAAHewGfY2pD\n",
       "/wAAAwFC2ObqgTywAXzapFV1ZFRYWK0CrgIQi0WKxCAF8KjuyT7jvVoUJjYJH/hzYoXuMuSZ7TqI\n",
       "QFFX1LDTfLzIYp4bFx/Aq1MpxF97BbvQsKT6Ha29XakxIJvdzYwnAZJEcw3NbdqIFtUpxj+RFoMD\n",
       "+MiLJrzYTSlItEjm+LA4xBCgxy0zMNJEP8ey/hDDQWCo306tfrVQzCIoF/Xl+L5ovnwx7NMuuzt3\n",
       "DZiK2iChbIsfV1Oi961eNmwkpbR6FNUrP+cdtIQyadzmHyib+5eRd03AO2W8WaRGtMVYs56UaWJb\n",
       "icK2E/deQ5HRzR+yzmdQFt301jxGgIY4FX9pdsIABzgmQbW4acH63PD1UA1AgBXuObRg7npk9Ztm\n",
       "h8Xn+BEGm6k/oUMm770t/gINSBaciRqkzum/DLDzYIhMghD9QtJC8mbxJo6WfQwdP6ZxHkutMKt3\n",
       "qFd72nQZBEap9sZDBWxff6zaBQ7Aq7U0Uey0fHpct4FYi8WmOLlJAdi+eW6d7f/eQ3114Lhr2ni7\n",
       "RxpAkbp1HIsI6aWPPImND0UTrPbk+lAh/sTEqf/dh1D/qr6IvTxY3KJ1zgoYMiikNn1WQkmft3lb\n",
       "6GmX5eH/MpYUEW0CSAZecX0hnm3PntQfmQzs0J/H49rVu9zdtKDhKkptwbBct5Co83Ya5CEl9qWq\n",
       "WqeVor/IN3qD6dR+g3ah0WgSqcIR9WvRC7L/aVHQqA83T2OeipKXauY/7V8+F4tlP/ukqiootKLj\n",
       "lLg7CnaSbp/1U/+gX2YpD+IzCoYDNo6wWQOUcFAlyasY8dxfiofW7962oJpWmQtsAGZjbq7qh4mD\n",
       "4MrDIWnjzl4TKMNMNnc+GRWi/ik8KGCVg1DTY4ZOnyzD0PPJGyMFj6IvXJxEXf0hlLHM/hankyOj\n",
       "UhUYC0hXVccTldSCR/nwBgs/kAwb5R02jQatxCdTiMRNCn4Jzc+DY5fVYo/A8x85NRJmpwbHJrdD\n",
       "Pb1qPIbIBudrUTeeznfZhBQ37BmwCQFhGQ9wAcP6E2YCSZa2HAFaVhyV/LzHVcS3xvXK/63xmjx5\n",
       "nVkYvWQ8wMpc1QjHx1S8XqRTbFcBLnlINp30DT/jjrdqouY9QGS46g5jZoMp04gteXjQMUeykDcy\n",
       "gIbxWuFmU8fCkK8yfG2IUikGIudAu5aV08JCuuC1jEu8YVJZLiKgwhSjGwvQz46nMtg/ETI1/th2\n",
       "8dRchPM0IVpe/3x+8UT7LQcUc8Nt9a6GeRSjhiUEuOBA8Mdu3w0145ZF9IMJONpgn+juwGpscN/3\n",
       "Mz15AM8XROKToKTSwEsBvb+hGmOxYMDw68rzVnKa1EA5xgK+Eb/w9xOOAZQIxTw3i3guxt2TH8z4\n",
       "5iewnmdxsCaH/+MMH9wmOKyROlm58q4A39Gcur9SzQTBfhB/rPoXMuqiyPVNGCLc5Ph5m4qeSBcJ\n",
       "v3AmBoKcUu6U2ZXhJUIWMBvNw87hM7vu7CaJEXkUVaN4fEr4YCv87/gO79+VzWZUj/9L0WKu7Ix5\n",
       "qRBZ0xKP/GqA7Fl+izlUDrdC1CwMAEPqAXR1/Sxg9Ya+g+M/N9yLu2xKdivWTeZyH6TDsB5sNHlO\n",
       "5KuwFDxgmSAEJ8aagQ3oNxuq9Aa8uABzxYu/awG875cvtKDXGNo4m6kXF+V0gM7hlMe/AHftLlVe\n",
       "IwtCrny0PbLh5BCnQK9tNOXMH0suNUJE3Wqx6v6bv9U62ugTWf9B1DcDN6DS6+zfvGjqqKrfXWYL\n",
       "+Q4cad47Od5nYZfcNSAuJiW1N0ZyUlE513yQnNv5rWEgEFy+P9yS+EJ2GREdmGxO71jWotmaoVdS\n",
       "/vswJP0hCqmM58py/BwfG3YrmIlvmImM1AG1rqWOZhQq6UsS0/CAArOX5HT2DTJD06RJnBmYIXgv\n",
       "2cnkUbjbOY8UVSHhhsGWH7rNPQo5xvWgW550EyYwJ/BC/WENtpToA7jD15O+Mjq/bIaFXYp7UZ/e\n",
       "MjWpcNH4zA7HvX6MdHNeJubfXs/4FDgwJjL9h1Ify+GtfX7knZekxNBy4A5I5VcfICrNyYZuxrAh\n",
       "kzc6qT0cqMhCklOigXsz3QEgKH+YvQwPMc8I/bAGyg/NMHR2VFF86TE6vVxKwyZE6yZkUCA/98N8\n",
       "Q4+WDghPbw+7fmFkcZxCV2JtS8i4oilpH1M4w747MIW37sw5UbMiQTe+rjKAOOa0SX1a/WB2lf/j\n",
       "dpo7oiTwO0VvgPtzzEy/cMNm0q2bw1r046BVxPQfXuERobLQKwXEp5beltj9DqwsP3xZsqfXX3d+\n",
       "xvm1wjj0Urh4zrkFdvFqVWMvOqk0RViv1itadHm+4YoVYZX4m4X/XxsevdNj6wOC74syIzVRWk/B\n",
       "nQqp0mRDM+SUDhkbpZs4X48cYzADoRjpAmIwr6DRppQjjIprTB6+nv1Pwi1lujqx7pJ/s9C6SRIZ\n",
       "gVhNuXe6NUcL5Bn6ST0nqWvjyIu8H9/FSSfxMg77CtV4ub6oIA1LZPjo/AC0Q8HrLWT8vlUiV50S\n",
       "QvWtHFhgalUJP9paWUqx2vxYOrcKFRUUP4AApIEAABQVQZtmSahBaJlMFPBL//61KoAAAHSK8R8B\n",
       "f2AB2TtQpPqQVMul3uvf4X7s9pW7xxAQJSbZCg3KOepWyIjCO0LBWvbvV8PlvcDK7oqQ+WeEKB7e\n",
       "65Jq4HDLdCCUNWVt8n2wqaCIkugiU2CzlqbsBBOr37x/3y1mHDrWogMAtXsWSbrhirrPv/7V6vHh\n",
       "VXXphOoJ1AhtwbLnd03uJ29AbpLgAwddB3Fc1b2d+rgkAWvwQFg1Y9hGPCDODM9UE0Jy/W3wgBXu\n",
       "3jNyL5Iuq7At4nkO4NpynlFWzHUDbj35yTvbKQOL4T9iFtrbQ5B7B2yQ1VmrXrFdn4GB58oPLNPK\n",
       "L2K3XRBamsi4pkacwNRgAuTSFFAwNNfulzmF/9SrX4eiPm8rXid+/LIt0ooCec2CW9OUvr+WnWHL\n",
       "7E8Bhh0QGMC7As2YgOz0wFO3XiIuGosz3Vn0es6nCwRMQ8ZDS8jRZ2tMATjYdlbEU1rCzD+l5DJ2\n",
       "To3dyhjnedLElhF9StoEI7cpLhseKbZq/AzGDwpOJg5OECbKhsyo6SBQtLjbNWwymUQgh70hcePA\n",
       "uKSQXSZPRA9C726kkxkocaOoPQC1obfNv+FTISgzFhIv1jtT1jK+1kLVfrtIbbU4oAhnkVh02Ibj\n",
       "xEbczMJ06tm6wX24+jRE9rbXP2hJyy4Uxau2J8VnpDqkqZuLxtk1WbQympoxXZwTPlk++OfUtqb7\n",
       "Ijdh2QrAmsghO5IfulsF8owf+4+TCQgsRwtLbM5Utg8LyiveRUG0lVACXofd3PfyXwO83/nn+Knp\n",
       "QBCRLpYQkwwEiNkV3ZUfrcFUBMl4eK4zfISSKodeQc1gx1vYDF+ouXpvhzr4JzsDyyvWNoY0CckB\n",
       "PWxLjZnmhVLioZKdIwRknkwAXzSeoIJiIdgFswdZ4364RYCVTawAvgfLPRq6LqF20p5yu/A4BsJa\n",
       "7i9Jd7jvJZfKjiSDdRE0fVPGfoILvX5ynVayp7axEeyHlW4NbKurHu5V2aZqGtfSvcU9Mf8um3Uu\n",
       "ij0kGOZqPjAPcYdz6Ivk98fEMIlE6q9iLxmlFsxtGU1tZW8qfyD4n1ioY0d8ktG16tr0rrjolMBa\n",
       "LlIVQs3Z6BhnQ7VL3QrZ8EONrT++vy7f/rcWXa68eSi9RTPwmj/eHVQqHf2qxh3+cFL6efymez1t\n",
       "Lm/hLqUmnN1zB+xgzzML1doXIA1OlClsKPcsPTeaTiwwKDs9aEhkflA+nNByXpSG7+3Tg2R9iSVc\n",
       "SI4OXxE3VaZCKTx8OCrLczCzlrxlIP8omPJa1ILbcMbZOmJaRuDcJvM89Iop5qzlsoMbA9mzrz+u\n",
       "CCJuSHFTiIlQBx0Kq335mh+YWh2282BUjsn4QQwC/RmS6PW1Cf7WboQYR0+zarHJm0c5N3bwXXKH\n",
       "Ln/vvbij5HLANz7reWjKqQgjriAwW9hdw47Hyl6F2/r7HLQ8BtkuSfehIt/36CS2AjYjRnPJvDPZ\n",
       "w8jM5eUjd1a5BXEPVbJYjeiFj4v8YqRaivUBa/SFIE4KmNH6JmQ87y0l0HolEDL0TiZiIHsdYck9\n",
       "+IphHlM2IC/kK8bEJAtSQyIAeemsmduuseIB4IYnlAq5bkAoIPUhgudKRXIBWLz+3Ib3H27oi9Sb\n",
       "ZBmB00LcebNMVkVC8u2jY64GLncdp3rPaIr9DSPPwSwXRPSldo2M8gUGOs2QS00Vr9Ht217wxpNF\n",
       "NhaH4KHCthG1IoCjaligHQbaobOEEiFaAvtKzP0HoNPLhaJA5l6gzcMWsz2l2Oh7+XHAiHXemxy/\n",
       "lDtKxswkND/8Mz/PLGYrEBFwoDwz/sv0b+kqT4mefy9zwSqezTr76osvWybZgvHOgxzdJq10IDJG\n",
       "8iEQJ67KXxkS/nWNxzTgV9VhjL8PeHtQnLHhi5MPIw+bUVTJ7+L5gMtPSH8nQ9Wayfkr0+PLXPoR\n",
       "Y/kaac9MeeMrubguJwp3qYLLNXlZqvg/oQGMcs02Iy+/k8U7j7cPMZ8eWFyUJJ59hqqJjgg/jx0x\n",
       "E0MZnRfAbmyo0GFqBe7sbhK2sKdUPFaIg0bPr1d+RObMrM0wnG4wspjdaVo7ipg18Ol1KwSgfnoO\n",
       "OOmNSrZqyNoDg7GUfXKV06IhY59rNu2UI+OrcMtPzCfjK1NuP8EDWu1HRqGSpQmf1z9pWzAJVS/Y\n",
       "tAiD/q1d19Tzgt1rsdhrhx9UMUqxEKGhvC1w+VTZZhIcKiJ1qB7aEjCOvSCNCJuL0jt3fOJlTvDJ\n",
       "8b78S4M6GGViles474g/hOPHRDe2eWyiEai5248MKOgM/oMk4mHN+Bf2oqEJq7N7YmBtUFoe9rgJ\n",
       "CuRRRYaBfAf72vMfmRzNTJ7dedUnL2wWYz4AC05kPpjP3sI2dxTMXrahApFC45lCTQIS814+E5mb\n",
       "FUQNf7YC/g17P9svpt1KesRaatWPdeOAB3NFv8bjYBQrXsjX0uBvuHHQZdwOtFGe5q+6k3wkzuzT\n",
       "jGt1dvQMUUvTlO85zvee9Bf4kAF5s/fDTCFfB1DBbXJQWnXcy6dHp93BC7I/JLGQZhtpeBrI5/4S\n",
       "JqnoQO+CjnoEkpKcKW/yBfGzp3Tc632ZuPSvBFQOhkROIJSG+y1cyCyaT8Eb98TK+eCOUDWLX2J5\n",
       "zM5kBrCZYiahzG+YOmv0V35+hZwx2eGWF4bmN/zs8yNoqAfJwqgq57+wKEacVRvvCaQk/s463/Bx\n",
       "HoAUS1VqagwZt4UVCTtpQxgZLlaATPJnpGNlH9spWYbgw/2YhCDnsBEJgL742lP1K109bFpwU9z/\n",
       "fxJo0U9Zd4iEYpk5fpgARXIudu0+T2YgovPN/mtT3MSnAC2qAfYImKWYyhXWWm4Kjw7N0IOSu9Rg\n",
       "y2uMuWK4L1Iy6SeXwYwBDAMbmcL6q/P0lBtTp3deKe+EkxWFibk0VL9/NtoTSIJtTeREcn65CzlA\n",
       "q2HbnpxFIdTsH9odmt7DMwvq8hHSyjZP5wVIU41Jpb0IK9rAC+oUSk7vCmOKVEJ9Wy5Ao8EBGhVM\n",
       "Cwqf2P9S/8u25HiI7LwAX+Dq07Py/XLbw6a7/lo51sW3gbouSbSJAZmeNnA6ficpc9amUDC4JeXB\n",
       "D0FlgfVUd7+Aqum3UXzd0sO8vioJXxmVLERffA1PmeCCrmY0Xd/ONgQVbRYT6dh+mkF5rojKxNPW\n",
       "GvXukGCcx3th1hW4CQ4NJNPkmFIkjyPpWAEaVFhxeA2dwRnmwVef0asDYo1UO1cZHeSJWWhGzQL0\n",
       "TLTEw9W/vkfpxxPwPtBj/iBIiWipEjiK5RHubVTOOao5k8U0qhB29neM/F8Hyi9heoIM+gLwgccD\n",
       "hqv0gKCXQ2O0ufryGrDG9omJ18eKUp5a2NXsphP8egIztnyvKkwNuyZFURVNRqfMjj/fo4eejQrQ\n",
       "R9nnaqsD5o7k3cA+37WezfTYo/OA2yGnpTlJSxRyybAmreFYrWAYDLkH4xVZC8eRHfmh8vXwp43G\n",
       "JzwVHs1duWStRgsKzHjImIroG40RvgpBbG45BQw9hRJ+0f3u8qA14CUGnhCIOsKgMOGzJATAgX2f\n",
       "Y4mz3xMjybn94J2c7fzemPBhOL4NYyCVObFbw6frE4VI+SFvhyttvn4nGV3uWsJzw2yr/EmdyKMi\n",
       "7hTRn6EU2QpSunz4+6evG8rkzAEMVqyLpA2tWB/OwVFWTNFTHfp6VRADwigjncuPu5Q3qSZkNTyH\n",
       "Gk0e/0YGm9sN+luwypTthoaoMCMIGT7Q/rZoAbvCmt+q5HvBjGYwOK8nK6hTzUkvzrJw2CPENpgs\n",
       "C4jIjxaHHaxxl4CVkUV00Bm2+4WQLOAT8bXhhf6uAbb19prhS/agqoUetp+EjRLIncYHs4joOSG+\n",
       "fHTlLe1PMjumAlEeHh73+KZnBG6PL3kQYW2dUP8A14eZawcSrtsOx00gMYElzIJQ2PtCEBhwxMHT\n",
       "Z1u2wwDxvsTxogezQ6pKfMXV3/KSEmJbeqAMXd/5Wn0Gxe+u6bcWbqVQmpmojVX06Kv5kIAFcAgX\n",
       "bb0GXNJvv7OhRV3kM9k0vrFNHp7nJ3FrQIpiHrTPAhDWDqZds5c9Hwy3YndF2RrJj+BAOGxbqv45\n",
       "7Pj1w0wB1bpf4T5SsRkdiccnZgZWR4QVN3PfnGeXoCTEUc4s/WL5DHxKkp6G5C1zLvMOBzwaVAf2\n",
       "itu9bQynIgaAqvF8SMyof9uMo1qq43YWYHUOxiz/sV22cl86P6o1bcC+F5D3sVROnAkYMTS2odiY\n",
       "UWy14sKwBdtG6dCky1aHREJAWzLrV7nwxsAL2gpIPO4MyWjj5SdoSxfGlrCTw9b8YhEp9rd7qiK9\n",
       "/aJP/HMIVgmu9PhVTPjMGgDvUL4JkU04rzAMflNi9Yw+jFfw0+Co/LrTg5IU3+8/4T+MNKVCP+Vc\n",
       "dFxziY8k8FWiBsXMKWm5wN+CCVgxPFf9lslzBwyCPN/q8se7ZAOsuGdkFaKvoH8+ah8nyigkiVhI\n",
       "f8B0t6fXVaKF53ICBNFubXukWKyZEyADnH/6wZuKrwdboBL7ByCmx72DNn1bzLgChSm20jSPRsQ9\n",
       "EdqMX3nNor9Bh15U1hYMUGcMVmVfD9FJcjJkRn+2gmfB18NQiKOpZ0zUO9Q3BcEOSwFvn0+d/Iq6\n",
       "gsC4qh7PfR7NxKCazGcIR5DDj3DDIkrfP/ivq0QEv7WUnstncw5Nw+MSKWAL+kTf3vxyNj7dqax6\n",
       "aIeOjYOSgWr5xO0taFzLlqNoMRx5hdDfkS+FKd1x8/7hqMRkM2QnqbenM9ZeYHSbvazh0TW0AvQB\n",
       "7Qo6h+ZTVx+oinRSeGrekC1RMQpd2ZtA8s9eKG30cUQRtH592uMOR6Rl+PehkY4/71OZv08qrSre\n",
       "/Z144V/UGzWwmXG/mbpd9AkGhfMMdPNndl0diY30Cbqt+aACCIEsoRHsKpfYTYWXK5qIXXLhIRBo\n",
       "v1Y8D2fhTw3Vd2XC/09uirmGYGcumRS7KFRRAJ7cN0n5Naz5PWF44RxknBt8Jp9nighPN25xamQQ\n",
       "VZSznsgoqs6HOeJhy7GWoxtB01fkAvwKfEsuF0EAtkJ5Botzjg0n1wS+sexqBCdINIz9GqSkRQw+\n",
       "Jkac9yGMbwcLhx68pemRea7W4sVkPBtnM38v4JyEMUN/5CIlMXw09Vn7Mzs5IIIZWaADt62C8FgK\n",
       "8x6Z/VN2ZyfUR5+bIW7eD/2bCVkYaeL5lc/i9VbXt3ZqheELT3nTvUJ4/3GXL7GYU2W0WKUhVzXu\n",
       "N41vQXG4NJ8exZRQsvPth6VWAGVZI2E6egAiNavIsOBnd3lOCl1oIxBwXenzxvr7mhMlYqww12Cs\n",
       "s0Qxb32LXUBOKgP2TvrnF8qgpuxBihCav8eegzaJNEV8GEGOyPeB9e1uX02VUwYjxERkcu4uIe40\n",
       "jXp+vebGBT3JJuvOg9O2qwvhethlzEfdx3OQ1X6SOOSk3+pu7pOk4SjZWKrG5KA4lE9DHeV4iH/n\n",
       "b7iY9NqEWRzHqJhnMq6wSAbUNj4jy6FY/K+LN3yZXKAxaM+p06PrjZgJdoQ95GZOjtzQ2c/XSjzA\n",
       "hOMaXSvhWECHxMqQX4kQj6OZ/NKvAphmBpfU2XrC/p63/4c+BY/JwtHMhcALYC4GfReN2261lT/G\n",
       "N5s2DIdjur/s+7lpfUKyTTqMVAlRvPkDhXtFbaE6JFjp4PzIfTEoIb1d13r9OXBHBaIap5jhFEHb\n",
       "RECIIHoNUVuN56voz0AYczjE5/x5pOYflfYqCwerVbdWMY77s/3P5effmMl8wfmOhKSNp3VTcJBW\n",
       "9JqyZ1lpNwg/VElnZm58xaCZ1h/+jRwXcJZBoSp9PA0aLHJv+CDkZY4F/cXzsnNGucmL/s+UJumy\n",
       "IDgZDeDdw+G8+2LqGIe+Yj9F8E/yqfp1LeWGWsxvBm83U2gZro6Fc70nXdSDmvb7/vIhmbIXx++A\n",
       "YEozQ5QeomEc+xTSuf33lHKSjDTSojjk1hlqcaONuUWLU9MWFQgw4jZXy6bGoY6mqrmTPlMbmZ6T\n",
       "cDJn5D8Aup4Dlr9mqC2KYZpiFuJfTIup5L9zeL2fKuEdCKQ9xT2Jeg92gNdmswlhVOkvmFeK6yam\n",
       "LeD0R2RQYiJZB/Z45L13EvtCGL0sWGNf2pYH8EC1lUiP1VoV4HpuZqhnWFMfkiPrg9l//ea2ynJZ\n",
       "4AN2DHcIqwU9RXSvaltM1SczzYYb2+1JwjdBZNfm0jtCmxOOj80XQ2pfqNQpp3+tKVn+9P2mO6dL\n",
       "TICetwa3JpNVudaNW7p7LJ8vk5gmefBFz+YOLvpH22Y0yoz6VLJFnzZ38kY4IXb1efzM/+LzASTW\n",
       "3wSiebzyOJ5aAMsOupMAidZZo2TZKiXtU9BR9WyJiN4e07J77wYtQgO4rMmnCufobtfJkfEYbbva\n",
       "PQdA6671eGRCST4W8WsS3QfI7sc5/N9vSmTveobaFvKgWr+z0Jw10vtCssBdj0WTowqjm7qf+Efy\n",
       "A5vDVvQ+Htwx+uP2th7LWwGIA0EgluJPYiKDAAawjQ+vtb/AuVUe5Dwtntnl6PJWw/tPtmGzkUH0\n",
       "gJUKdPvpgMGXabuDqea05GyNce8/jMAAkyp58XtvSOx/d9f3/MeNphzfkrMVpdnhx/kSrc3GEyB2\n",
       "KaC2IMOm+Epm9co9sHYFP+Xr5ffXTQbzPNLTexqzIUjNcLhev3gAEm4HHazoZkG8JAQ1+h222Ffs\n",
       "/rBt4gsj+J1Y60KkyQbs0GuZXr/TJK11S3r3TMkPYrlFkr5D9i85uof3xFUAU0Zf/NIs1aqsSaKN\n",
       "C/bazWtmlkucjoWfi3eSjVm5BsRbbHxsa7WtdGJAa2/sA9K/+PkVbqIh8/MK/pGG1ShRJTzjQKMu\n",
       "fnSLguXQCNkFP/t5CCdc7g/+FpbWgM0oKUis5cAYoKvY3HRMrbsVliVm6+EAAAoaAZ+FakP/AAAO\n",
       "KF9kuGvMKVXSGqADaUQcKN05ABg8KPI89dMVyiU4H5dzFQOtxQOfY8HN9PfmzfGV1QSxpkZKlpCS\n",
       "baneYovjqCDjXaHxQUiRSpRtySMeZc0opAGfulvXHxgMdIttbMLR+5IUEQb4oB2mHkPS0so/PEBj\n",
       "uXpg1gGnmEmNlNxKk2U1uoqnxKRiAbnX1wG6uWX5hQmbWnvkNTch2o/CLaSoWgK1I0WCVXvrNJDV\n",
       "s75bJkcOAHzQskBBo7OukFQ1oX3j5/Iov1uNuFu0TpgVHO76zi1Gl+m79qhsOKGDdXiofZkZSyAL\n",
       "9rGBUa9nc5R3/eD4UL6gXcDrN479+ywez7icSiZ5vM6WxeJB7gXrFN/jppj32Z3c/a3G8A+UvWgZ\n",
       "RLJZPy363eBfchh/vTV28EzFa1xvTinmb2Lh5WdAscor97Aa8g5qwAp0dEr8c+WUGzJ74Bk0BeRR\n",
       "HekDKS4C2QjjBQBh1FT/bmPzn2NjEXKt742FQ+hgrSCo6HaFUXhFjCykqLJF5A3bx4gDG5Z6oOiJ\n",
       "qLx/sMfJlUK1nPuBf2AT5f22qhmbV3XjCBKlghUii7uzWn9UO+edn1YgIljXeFnAwaz4XZsfR/ih\n",
       "L2JD3+hJ8oxtP5jjMjdtG3CH74zaSEkA2IyySOUt8XQ8Z+R8CVLcEaU486VY27zaFqEOAh92gwy4\n",
       "LiOeBYxvTKaTeISGaWaakzPLnvKNWkZ6+X6PcKLJallQVhgJZDAxeYYykZdausGGdvY8aZoXJQZa\n",
       "cpLyS/s/e6trFYuh9Wu/L1/fuQRY4WyGUHPS21WgrxOh0NOs6eG4TXd24Gs+ET6PHLzZk6BvX6Dn\n",
       "84Y1htQmKRBlQJSZAwSOy2BRZPWjLeLGrjeHqrUIK5frTnQ0VdwBsCotDsm0Db1nv3pFObAC6lE/\n",
       "QBfMigfo5SKC+Bj/0MJIz2o+weOPh8Q1cwq8uKDha+jaLGYUGSX3a7tXx9FFprK5yvA9Dei8g7zr\n",
       "pY9uLQk+y+9G+Ha5su4DPPVhIv8DPECr97fCeLCPE53/YmegBYlIdwiaCzc5tDwizUkkLa0QOJev\n",
       "AbtC9pNt7rTPEKe6NHC+AEK02NJGCmR1xG2wTbfAQDLDHMIklN9QuJ0sI1KzWuiYc2XH0CaY+8vk\n",
       "VT8laL9qpKpJJepWwrA8HRPHqYRQsGUdqK4jUDHLMR6uuzlXAoYYqvBCRZvKCl0Fq6qiKv3BiOgR\n",
       "Ae4fOsMK74M9fM9iDDdOAp8bBxoXBs18hMIB3eLy8SVYyzyf1rrKMWqBHTAi9v0ILZJ8zYCI8ech\n",
       "nWfDsngs0NESf+jLtM2QxN4UgJH531dew4Rbfaj3/FXy2tc0lI1hKvkkJ82XSg0N1wYbr1QMcENH\n",
       "62+ixX+ZrXp2aZBhYR84Fyi4ImabiH4Fx7UnC4x6DLhP2HgBXWdR9epYE4bSyspcsQcPUS/vUUf/\n",
       "Ee53We8YMy6zlntmbx2qynzrm0XX/foPBc4GkURn8+OqwltdS/sS4hVT6KqIQ+2GJViT3UbSz8Lq\n",
       "EsohtjgF+6TMSdQgBGEtpJtDDSzNdMw7fyUd4+lwUWh4xRKJ1PUjxGPUMxHp00JGTi9kl5hG+d5J\n",
       "HL1t4BImgzv4ZHmSDoAazpPWnTn+lm1uIrkP1Z+amX7MMwf+bbEPZrLEFdH/yaLumFxtFFasnYE1\n",
       "ZC0X1fCCA1SXIjoG9mVikKqYnTKyfwWudx1SMh0DPw49rEHMjFsd/oi+H7CLuMF4OTLS1fywycGN\n",
       "WHDlgIMIBa46DUWJoXWfa/5bvaXPGDAKdaUfFNg4ZJNQSWZgRQsIy5A2I4OkiqPiKV0nMKg7IaIq\n",
       "yEtC4+1wgvm1KMzDVt7J4RTktwj5ra/YfrpLgjAo+LlKjSeqqg+dO/8ugHfpUGPZ447Cm51mOXty\n",
       "jt0laR5FSOyGOEojR0fTVN3G5QgqTejjuid52Avd1MsT3fuH2ywtG39DvlZrZcm5kS7dPYfv8D0w\n",
       "CwHMPJyevU12mTSd3w1n1+5vvBI/8LlSKLwvdJA+kNet/LmdgILAr4qH/Xd1d68dNe6SZVwBf5G2\n",
       "tTPF4QKa/YPwNpzDwt8NBR2eXQd9jtJ7jDkD53JB0EowytDGokXhlSMEp+vLvNojdY6Qwfz1SpUd\n",
       "kvgyJhOI3kkXaASlB7775WrRSzFB2OPzFRkt3SodP+c/3/rJ5A9fZKic9tXkDg1iVeUSrpgbr8zA\n",
       "J1epd4QZgm5+MPvVMY11/hUTOfZu0FM5d1CIh/QjMZLzQd07lrrxXzovCU5bTYznu7i4kvHKTckX\n",
       "0XPDyX/KHMmlIMDFIMR0UCM21j6h+D3TjnXRh5rCqL2VMCehjtDo1mqBXN0Aw32l7gvFRUZd/GXW\n",
       "al3I+70ts5lk2SOdgY0SQKNmM8Ox8njlGUQSZfHzf02WCYN/jXLdB4HN8aof/gbnsNHs8WFWMxCc\n",
       "D8LwpZMtjLiqGNNixFA1uodv2OoIQmhLI1A3sPejCRu2aWenf1ac59InH+ZzJeM7MvU4iP4PZa8r\n",
       "3PSeKjVugljLyfNXvPbAr4rP/P+vpVfGob376SXwri7jzu3ZDZhJzhJxOcqntyvNBOWc35ght2uh\n",
       "313soHTwUzbJXMLJkqWPwLVN3dEa8B9fByENRZy67CyrQYbwnpwfaubvdMJcuSsOWoDX+jCwe9ZE\n",
       "J/MXTCPazbS/9D/TQYzWhHsVcTn3HfWyLYStz+oBNqOptcpeWy/crukDfJMrF0TdT1DlU/0pJ4Xc\n",
       "UKPZYFBuVsC8FHApVMe43RGQNo7eCCIJryCf2EtXVY8SZMBxJH/dhQNNmzEeCkD+jQETFauDHiWC\n",
       "K5cMsGt6Lv3qzPMayxdiEq3WDZCnVAeRbyYBFC1YBkcbwLbp5/goANZDxLFw4SkO85og34V91TfQ\n",
       "NEe9+4k0bSUioscW+Y2sgeSMzBU9vi76qbcdqOHUvsjg+S9lcPH/TlewT31EOhouBvx7R0bXRQoX\n",
       "rTQk2bQ8K/PuP9wCVBShwT+miDTz1Al2qx2YPpxJIermwIz5hJ9zPTJOtdrgq9NbZdhl5PGGwCkt\n",
       "w/nMweAOg5n5KoP10QrJ3ajDvhQFCHPVrlbjoLzuYe6EJtOG1w/5gIqDVn07h+UNJUjLupnywnPh\n",
       "Qc23abMaVNs/8NdDEEFPmsoN3OioE9///bBykIrmUJ52G/P4hOmNQZIRdgY0/m3pIfnjqBj5JB+I\n",
       "WigsLnH1G284zXdKEhh9g4P6TSfBQMruYR1LxFP43+tJDVAYjzuLRPQIC29nRlAaCKOfMIb/wHGk\n",
       "THyaa++5jZFhJJyA4N2D225/xVgSHVOitexu0WSFotgesVjcSz8cvBZM/1y5yRbxalQUa15ZOmmc\n",
       "len0btvGyWqa4MgVlkaeMvOZos27KX2BEaGVFsK4zYZf9D7JWLDZemVPXX9GXJigPnGUhyXy9Ar7\n",
       "Aw1Cu0lJlsgAAHHBAAARYkGbh0nhClJlMCCX//61KoAAAHSg0HABfWLaLlQt+Rm8TL6WkkXb8u+M\n",
       "43qxYAEc+3EyvITjiWxLQvmVSujiykj1dNXhCfFY0kWpoCVzmt7/KLPIB7l27a/YSOwgcbWDG8Oh\n",
       "W8+XONiEs9Sz6FjDCf5rLqZukEFg98cNvhH0hbtfzx9SoQtNpDCO6JSPhElY4n43aTsqmRH7xdDA\n",
       "fM5qXib2HGVdvFw3vZx7/tqZb6Kl8/xIIol1AdS5qTPAAjyGs5/QZwKNdxaRig4XqBPVieoe0VTS\n",
       "QVc2HozHb5/OA8/v1q5zhMPC5RkpH+mEGWhdno2oARTFcF//fd+IaNJW3DUKI3DmEt7Mbjg4ozVP\n",
       "5CkrSrPDEL6t31n81lHFpeujTXVpkmhfLeGgqVqPjHxRnkHIb///BtQeAJNBzk2Wwl06SggQN4d2\n",
       "ksxTqovAir4Z3LUGHoGEq3N56VqCIgHOg6Y3+AaXqaqmBqB/muxsWkGGNokWjkSimNti47wXNTyp\n",
       "kflp56+bwgq0wheErZWqwNxi4BE1MJ4OkvOoJutInQIFwhPkd+fR3SqAG4fNQGj8B8sXR7jq6twO\n",
       "s0RVQ4k0KF5vKOktB56/xr7j8cob6QCbJTyETRjHu2WkckSDQyGiKZCMySsEk8uvIb2ULOgJaaCj\n",
       "hrO4Zb07glC0grIM6zR+o+YdLJI1q0WJrkLaEspB1uy9bdVgk6LVRJmbWRA5lL7UNLOnlHCQBtIH\n",
       "5zSa10mWYwJ0J99iR+kdMC4JJ8I+Qa4lWOprq49VbSeEr0sJjJv1sGHztU5q+IBfIks52zomB87S\n",
       "7nfZIIduKr4VAx2iw22q7vvBNTzS0UolW/0kzdsnnM0dbuOU9tAVwp4aaYq8oWRwleTty9IjhTK9\n",
       "bXU14oeZTh9IwI6TMBGZNiUD6HZoGaHqqgCou/0/aLn+IRzbH0vCmoWSt1FMqIKogYSUy5Jwasof\n",
       "pACxNpPik5DD9uJJuBEOl8KFooOvFJw/twNhUaRT5snPn46CqDwwcLu3SvhLSg27hjfpgeX59WZI\n",
       "49V48vB+OdTphu5m2RadfkCEzBRTVYLBSo4WNFrqEBdkVMsmFwZpyVzrN1mEHse2z5fGGHc8cs2s\n",
       "aoZWZBbOF+hWDm5nyyLHwW+ZMNjn8bU7IVJ667Yed2dI4JIJGYrjBcZmG4fZYeA3BDJR82LgqZTB\n",
       "nsCskJY7r1E6kTKjkckC78TLKAMYyNDgV4cQlvA7Tf1ke5IQ6NLUncCrriUFwOq7KLgV/xOB+dag\n",
       "7CsaoI0628XzfRhcdzKBlFGtCqtSyDUBOQyz30JE1isMmqwp/8ASSbjFOaSSdmVXGb0ULlLi4i2X\n",
       "hg6/Af2gQcQxnSJgUteD8K8D3BGJx2RZq1vcHGjUdDjS9ZjuecXYnfyzg1BkFZhXJ8qre8khPz9L\n",
       "7rH9qiT6fKMi9qH9ya+xWbj4926zF3AAIonbpMVDLyeK2xObXRX0SfHzFb9ztVCLlVn+F21/xWPw\n",
       "hgJxAMndDDW0LgwEQUPguRucU/Iq2edlxTXT6rufiIdey3zzHWuFJ+VpJ3qfoGWRTpFcZUSAVZPz\n",
       "ZGKnkFo5KaOVxruPvCUOh9Uj5L/XSuIBkZ8h1pbKg6OA/ZP2npDE+n12te+5kr3ksOj6x/5Ywh4v\n",
       "7doRFnbGa4cUpGkPR/WpdnAPqlsDsVP+Hl7oCbcliA2MiOFLRvGOZdPPxV7hMrKhg9zzZKw3RPZe\n",
       "ApumekkkyNXS5ioo/WJ84INwXp4FDyRMhMwnfOtdC7beb6USlrVRFVgSM8QaC2OEwP8nSGi6n23i\n",
       "9wJ46SSvyhHDn8iuR/6SKxbCkioTcJgjvDBcGd/EoBnsP1+Py72yEZ/VvN48xKNHqg3dbIgKwlDa\n",
       "svB3VmEw/PJ1pYhe6NMSDdcMFg15K3BKcLYQ2PasminHBCAeUJfqfHdGPGT03SYem9OigGKLOk9i\n",
       "DCloALcTJIJl8sGl8LE9cKy2jbC+MNEeIU3y/LuMAGiMt/ezbrXGVoxf56XlV4oQcT5QjsoVLeKj\n",
       "zklMhSqtO7n9vzYQBxbA6oAhsgwYJ5glGBLWMyF8oAWMXfyNof3R1qoNq+85iEJyIewxeUbBJIry\n",
       "6SQxKrF5JkHFwoOMfQAKW21RgULOxoEtfgUkUJkslgobWn0lh1pE1c5IWha+N7VTjHTXSP3QHkWu\n",
       "n5HtZbExIQUorHGCtMBo+WKhE9MJ1ou+Alg6xuBcZKcca4Ho+DkgBiBC+AAlhUoptFmyWxXJjDr7\n",
       "k4k/hhUhkUCahVClvZpzurixu4w/c3vCXvEq9yz+Rslo99sV+/GuKgRTZ65l8EALYpBXVXIJj6Yb\n",
       "jNQn7CO7P3COXeQXhVt3ORqKbz5I0da9OQlXozAo3UR5Y9ULXghwgNxAC3V7nHT2v7AcI+rNxVyq\n",
       "A/hcDc47cBOtrK0RoTKFUxaXWDwq8GKyg8j3Raa0UdXZu+7RGIQd0ecXWSTGQsrFmxfsDjlUmZoB\n",
       "kxaCcHGs+74cOywxGPKRNoXd5/HK/SlocK+jLhvsOX6TiEaqVE0tRFcHqQ6ft77A22Rv1erTv1uO\n",
       "hQaeilXaawmPjbVHF4AUTzb1jYqEmp1vHzXTI8M2J8a9tRmIzzgKcITyhzpPtHrJOHlzTcKBVWTV\n",
       "yBLWDWvRDzlzKCg1+SRcNWEHMRmjYu8VOYAPXCZC1uPyAOZvmyQzofXBMmq5hT36GtppgRY7Mb28\n",
       "P/Kj5hwYjzQMHCP/weXGZqzNT3qyt35ifxTvsZwSNN7S3XicN5mk5u00Xmt/273LoDU0Srdr8/bZ\n",
       "kdbCSbnf1mA0N/7E3XTTypQbWTnT2zmYn4b/plViAE1y4xMTYDBvhlnHrO7Hd1UQAeB7MGnVY17Q\n",
       "q+AU31hWX8dcTurrAHcmxSZS2sA9MxhgiWrPfl+TokHXIlm8JnSA8F+43DpBmM+qYnB+cef93mXL\n",
       "zNBZclvwU729zM2xbNfLVg2qJ+ZQCrizHfffHl3Zn8g5Uthhiih58kBhrNl+z+p7i/z7Wn0LexLQ\n",
       "2jafCUjWJdrj7VsRUWc9VF2nWcDILigrO6noIFJ42sBQ5YJg/p1jFt4RdLy1ARxX1BatNCtV1pE0\n",
       "ELyJ6DtIlw0UfcitlLytLG54KCkw5kNDhGHsNPD9F3yqujojJbdKYKQZMt4EkPKD7IxR6bxCFPre\n",
       "r1ccStKj0nH5gfgaJSAQKZUdXphp401pZYYLwoCw71w++qknJtPjKZyChN4y9QUj5t06nntAeEcS\n",
       "deOCO9LqoKCpL9nzZNlNyQgZLbbMuRp0j+5aGlyE5zfhxVReZ9wryteS4Oz4hjY+89YIXYSfIs8S\n",
       "mH/cjh/Hd8F1Wo6RkDOxPHDzGzBrqn9HtnmPNFrHqr2l2sLUpSKOSCPrJtDAs7IhkQYho1CV44w7\n",
       "lfPNavFiCLZz3Kec2TO4ncUqCaqqejvIEfJFY3Cj68c3pUeomPB27ZzEhPJjMz3mvS5qdhqaC9b+\n",
       "VZrI2sZ1602+IXYrzir3MvWGNms2isOxgf7Z537uu+O+D+sRVCj6LAXUyoG4brVNcNBrcLgKAj8L\n",
       "m1ZSxwMs7KM33Z92+VrfNbJjfkzS3eM6ciwGc+Wb0EKLFST0sdMLjqJxHwaM9JV14d8VnXm8lQiy\n",
       "BtQvhlbr5IwR2f6TZDwRyBdsxnzuRkHb90w4qEVIuh4lgAa/Z9Gn7OWClR1bd62JCD9VDhkRVE6B\n",
       "2YHoNYtSkIJ5UPhQuhG7SgKscp0NEeLutKMv6KlmVsKolQ3gxyUy85VdtcxGjy9QGKTtF6X8vBhg\n",
       "aHhQySjuTz5Z5ugZfsufgvFUs2+qArSzTIR2ktDmiJOwZTVU00S9a0iHRf2Sy/emIyPguZ61xkpr\n",
       "iTClTgMHNjcR+yL78qRCqWuwCqXqJRnBJ9VvjEc2PYzf6HOR2wvUDAqoAS9oJBlHuamytN4GXxtm\n",
       "7rnfKr2NwAw+JWNXW0DIQ+s/JAnAwCjJ16u0xfERpKF7UnMHTOBHlpmjdGvO8X0g8qg3bRLHopGp\n",
       "I9vqCbFDR0q0Y2QIMSygT2T9Zhx1b23vxCDOgqTGsVwgNdsKxbhm6erlZ9RbV8VSrkzg76RuPDbw\n",
       "r1dtMn+EUNYfWypGp5rOirV0Cde2q97V6AHbFVohmsEQ+qAg9ok441OvFsgSq50T7CGWHskhvoPO\n",
       "ka5ZyGfp/Lw0VFn2/xYS3ISNTFNDqtqmYaDrU7gLE7PtymNiKtp1B6ERLKq6pJnXgVUpUzOUB+MS\n",
       "f4r5sMwIOhJHv5hU122x02YJSDk0FMLfuRgLlaXPcSyaNnKz+Ow3DGif3AJnfCIS/CFQybCNnidh\n",
       "YutYutdbj0eHqHTxyBA9z5mUoQnUkXQI/YXIXp9RQngiPaMrZ89UuInVJKUuzwyVSrfcfe5JrQBR\n",
       "nMpiXt6R5IQfx2o9Wl135uqBHYGZ9HC1F3c31QuFsUSwW2/V7KbeSP/7F11mry4tJZXbT9ZSjQOe\n",
       "/EXLfdfnurO508im3BhOEpo2f+ljx4guvEHTJKNTa9BHGDFKgzvehKqicWlP3UDE+5IfCmtLXdAw\n",
       "C09iM6l8HGYNfXHcc/69+B3rZ8jqGCglNeZqb1eQqSS4dyWclzB4N6loi7ph6jAHxEECJb7P8Ye0\n",
       "Jsus+BlLDVYedgxOudanpGwS0asKC0+Zfb5w4KWeUtsKzu3tGAVtrbu7bk/VgnX2e28xNjZI5suG\n",
       "cVrJFizbFEnIA0Z4//cNd/WRs9BgPofemYl38I69l1bEnD/+q1/QAFUu4osWQwg9pb7xx1Tisixu\n",
       "wBfyI7HjwYWE+z/wiHTjCgwFLfvdDFRmUm2nvoKtE6rBWkS3LB94BjsdT63DXxhGzlyo/4EeKJbB\n",
       "SpTOakfI37Ggk4l4Dpzc3eg6to7JpBJ4uUJRpZYh+b8SRAS3I/rWI3CfuIBM9ZPSsLWKlkqHpZ4p\n",
       "51joQ6jez2msvgdgvKqidlhUXThFS0Rm/jVlXYlGsnsfs9Af9drb0pSkVbGouRl1TgtO43E9VtA3\n",
       "AOdvQR663/1UzfdmohLmqq4aCLc7JjagK/5Q1e1qbXYW+ATLn3npLS3xNAIzJTFNbDE8nZRYBZPu\n",
       "G4ovCRLoXp4PbSJ5lIh3xiu5MRk6knr5MdamgrhTEAJxaLzX+6cCwRIYAvsQyEqv2vB95Q4x55ES\n",
       "fGI1aQOp5FgWJbzwAKcrRG3J1Jgl0HGD2xATRndoDzw1cdBDcBkI+A+38ERP2mR+sYZ+I/Lorp2F\n",
       "iY7po0J1Kbq4kqkWtUolo93rlQFB/CyqCH3YBFPO1XBMx39VuUNtT+TpJNp77BxkhOhsomNQXs4c\n",
       "Dwj751bPKpup0SUEDT3d1CbBloYuJtJjh1NZGlMBX9BQJSGAMU9N76BfdgeCG9OxBsGYMGUWCipL\n",
       "IkYph/A2q2JgX3WAGKQIIIE1pLzsOKRaHutLGI6IO8T2gF0YJmZoiksZ20UKG0AKt3RjLwIXaroI\n",
       "Ehl+/dPxQ1S2kiUhMxg42Xj0AG7rRuUfVjr2lYR8ex3n0b/V+WNCua3Fzhds+Nkyk8965ZpnFo+W\n",
       "HHJD9jXqCENZ0ZqerS3BVrK5XJS5poBQsqtKWJNeSGZFa+mTaYWC1mXYxdKi3pPVz4rBcNlkuNk+\n",
       "wPhDqHKSfSnhH0AHMWDeuTTGxNGk10DWiD+LvuBdJ4sWKk6j2+RIKhhP1fgjTc3hxu3IieM5HDsg\n",
       "v/vPpfdEEpqLalYh+kIxTS9wnbuLu9Thb5HxyWmHc+u4w+r6rcl4zHkBQuRQayujSOLW16Utm4oQ\n",
       "j2ZpbMsFlhFHaCsjSxbCM6JRnBPbXi4yVQcH4UuiWoMlEChj+3ETB36VzQ4DByZSCl8Cwjpel43s\n",
       "WbglYf0Zjmg2RorbBESJiTwaHfRILyv6YHr2kIa2bFqNzECYh6cIGgs3LUoDHqsIplHOzGEBwNrp\n",
       "C/sKbAuG43+ZXbMEHjSe3x/tzIEAAAxXQZuoSeEOiZTAgl/+tSqAAAB9Ws70XFsAUAY8B5g0DEAn\n",
       "OR5AGZaTW8jVpUThahvdRjZlkrOR1/8nagpSK4ieBGKLzR+wNWlnkTqLfJ9ZGZ7j3Sdjm/r3GcxH\n",
       "wNSnqaXPm5dVM3M1XyyyyrN/9e/sf5CWRgYqtlwErtX6+P9XFinBFbHHMWgB0bQJMI3iFtjr5qIa\n",
       "7B9UiazrzM8nv4+zc+vjOev8QErqaIGiTcYmokwM7v1EUPyBsa+eTUnPGUwiGtETegSM9ylkC32l\n",
       "wvpjMkGXo3KVGW9ezq1YRjsHJczwbOwtH+TJjfHZs/W0lAEUpNT8luxAjt8eZk1nqOSloW6lVMub\n",
       "62nn3Igq9I9KQHOWv11U7yTmEtY3Ja+JvBkF+CuFLBqj1UZ3yUgRtUBGo752tKlfwWiz0qnfZtir\n",
       "NblshmEIYV2fvyRDauLp9sE1HSJEqXSAP/F389M6rcRDE+zehG39vpjs0Q4wHwBv1ipTHW6Yn4t1\n",
       "CNZvgEJNJYkP8g6aLfTY3DzXxRWMg/va2o42iCDY/YONxLzl+LOxRKLcmParSkxPZXD7sL6yLiC9\n",
       "tvAei5kIxyFJRAQicAdsaRbxpsidvA3oTmET7tiFedvg/e4R5y+idoskwhBZKxX7jzTNUuLHEcZ9\n",
       "89LAPzzHmuL0dxXdefNMXUb50hnChp05u682IKnIzLvxenD1DkwUrj6a80ZILuFn9xpabF6Gw118\n",
       "o5OminJM8Ln7hoYVSAxAH9LHwVdYhm4ISbWKUWDbhQgwZefoT9yy5nsRrhKVwnKTwivHPg8b2F0q\n",
       "oBt3ClDt3gvgJMNveejh+o6fSjY89zT0e2nce+gC2a83ITMyvyjOs+Vx/cLoDRLIXrxCi8HCvUQ7\n",
       "PvKlMEoxATEr/vV9TlLXHG5FV3ff/X/tAzuHxpuV8ORbv7kCKwsFGfxMqXyUFJodjsDo6kKqlRDu\n",
       "uLfHKZbn9M6cYu3iM5yKI7w65sE/Gi+8hiFL/SJNk6K3iXcWHLQM2gwgPE0zLDy/PiVL9S9T2UGy\n",
       "6nu3RGkJlucIpz9fOzYYoPp7F0iSS0WCHUrAY0N5TlmjB5Ccdgy1xjRmh23aar4G2hEDf+UBtrpV\n",
       "4Mq6d9HcPDwckLhec3868/qB4SSJSusydqmiVeV2G99zqUUqOUrLo+1eGAdRkkXYuyQLPivMucD0\n",
       "CKa6FQC2SekmyJdOvPEAmgxhgFY7ndfv4OtQTCxOoR/Wdm/pa5aKPEQ/9QGH4cnHdxB4sPY7yWbd\n",
       "H6Abt7rL09D/A4w9+vg6PI+u+zNMmunQFmfwzswy/sk1xjfmf+fvdnC2JGhGq4P8lP5ULHFH4y2F\n",
       "gGrvfwHkVcjR2D98pxUwD+9OL2R1ObCkBYNaT17088VxuLqV3ciSrXfKVAH/o9lzRU3luc+M348R\n",
       "UOrszkHb0oIE/Me7ApMrh5ERIKDNdOQMNlPoW/nZtu9nimpyz00Rtey3M8nuUBgLs/PAe1b78g/k\n",
       "uUVY6+pzln0w/iuVDnOMjTPwW9qeNExuQ/ZnuJPVGBrBb64BmU17vsvoBgFYquW5O/ZDmeeBN9Qw\n",
       "B1/h01bW1rfEc8hXnqx/J5OmL8TZjK6v21HF2Fq6vVm0dXbVu1+0eHpzhxypUA0DhW0h5bTXjHJq\n",
       "oRPUnBEBQltX/RLns58sNGrFLVDQqn57BGApti9T0UUScvCsh22rkN3yR1a6FmnVLwmp1sEJ+PtC\n",
       "P318L8EwiyFYUe+0s7no6lgoY6CU4JxlBxi4T+JS5JBUOKqef53uRzwxHFR3lPmHsVMMGdB6IQR1\n",
       "ltD2H1cZZvTNCPOCSRObhcGPYWOPrTe7sR3k8rz9hOZEmKF2fwZ5bv97QoaWtNcKCT393b3wHJt/\n",
       "b51niTSzfXegRH+JrKNuzRSZFRRwtZ2TIZzuCKiZH/O0lKTr4Ho2PXBr3XkzxygVfHkwEz7UfKro\n",
       "pVXqxgOhPdAuV6buNkzza+8HgKz/vSKalfnutUQ5X9B7nKbhCi+is2jaDyvBOaCKjAH1dBMpXcK1\n",
       "wyMfUUOrTH/VJf9m9BLqJfQu4b4+BdjP3S1CRraIeYxpey+OeugMLFnGR8pKXIvNyPUeev/OmbOY\n",
       "Ob+z6WeuY8U5z5yN8rfowgroLsfXiIqwDUxlgdSxeMD03zXGy0Hn3DeWTLCmE57pIZVVlbIoF8qC\n",
       "6L2/5Ks77d8wAdsKnKC3Ilb69N4/wi9mbX8tVS34/1ERFFhjcXBmgHJ1paFo2WnHT8x+ax1CVVjk\n",
       "QUurETkt5u505E++2C3sh5fF5mV+68nwx5HFjUgz3Bcbh5zmFTlBTM8pFC3zucj1Czu2oT4BSfVS\n",
       "sVpk/eG5UvFi1jQvCbHv7G0ZAsOTAxbeMflj/M6ehNUiLEqT/NOWSjj1hlN4Vwq7Agph55PBJ07F\n",
       "uKW6Dcm/u9mFf5/hewE5YsGyT+whmMcLfdbnINQ8FT2SkrqKjknEessgKLBo1CjaIfVWxNRqSzEV\n",
       "Np2KXJHDFl718DzV+nb2aiLO2hIhoPTvbOYrBbnefaUPaJwGg5A4GSGB2MWeCFwaOdAaMkv2CFpE\n",
       "M1SuQ3q7gD2+5dNOp8+qxLAFp+M4Dh7hpEy7xNcT4m/DGCpmaBjLHbyhpLCI1LsHqrvb3OJjVn+M\n",
       "qnh3sePTmQvpjMJPbdThI6ZL9To1YARIAAfijVrdLfNlliRhO9JGhaxjWgDFo/mnbUJUyxbuagrb\n",
       "5O9xvfSQ9Qu/OVViDDbOLs9R4EIrZmXibz8XsRt/MM1aUjpMttzDKxJHgZobf8al2YGb6bkT3KQM\n",
       "+98P0qqE7CfCbqGWpwC0z0EaMl0MhmGKUkopE//ZWcIw9McRXh7v9LMQB5KsuqVtdg2s4L7+YhKj\n",
       "TLLRJSa6HYJcCMcbiqNOaFkfyftBKuLevM1/CYJ9GBNmKryCNpSDqbuG4qfYmlqYCOrZSEnJez1Y\n",
       "EUbIGYvXq4syHuh3KBLc1v7JIaNjocimU1ahC37yo5CCKpRlftTSCjPD4sx512TJEY8L2tj3yzpH\n",
       "bUUZ9gURRs/IrUJmPnvbIlOu420QciZB7astOlTOSK/fLbIfqLlK/czOhCjBUtCuN94JZVvWcq3u\n",
       "6rnjwmCYV2bQ4tnzDMkU4MQ1mKYx8QPzhFxcjNqjmLTw6Cu+lS4HbPz6zVWWYlbgu3PebxH1KSC+\n",
       "O3dkavnA0VJo2hnkziVPh7Ww5inDjQI9GTsnD8Mtm+La0KgBKi/tXQ38FicjQrvFcR5opzzqdRKj\n",
       "C9matS51DhPxpYjWmxHH0pak46mXNlAh9Rbdrkop3GlO+MmbI6eLUhc76alo232HwAIkhmT4C2iX\n",
       "qmKTOBPn7sv9ZEVEo9pIXd0GWB5DWxZdiDx915MxJ524s5g/hlK5YamgDxw9GZnvo7T6xuEO5dsw\n",
       "zKw7wXnIvAh15kn4gloc4bjyUVO9oMePRjHCFbIQsUDZ0D//ajbq3JFCwVSr0+XE6RfM8AR3Z//S\n",
       "GxQ2kw1JRZMOA8HCsNusPAzdOoikgkswz40jmqdbS+kGUMeVwLR8+fi66UeAIQheLCfiSNf/+wZr\n",
       "YIfEN6f+jFdYAB0Wn0lMvo5O3yku+pIYW12TS5Km/UPJykQ9O1Iid2ZEORnlVUcJRFfM2XuRNjgw\n",
       "kwdYtU7WS8xOH8Dcf96wGciqleBnrKur/+zzA4dn2hbWNsxitWQ6QJGRY9InEohzPTFfOwhwjhS5\n",
       "7/3xsm12f/RxdjeQf9ogoEM4aayWNFt8TnW40dnjooyb5LouC69zmhMkiDtHkq3ZVQF3XY7bUjjw\n",
       "65o2/dTyaRN4AZR9xvQXoLcvGDC5KA3d9uXmoJi2yfI5gnkcxiLjxiUBqIJgAH/A9zbSw/IALLCh\n",
       "2/mi+BwHZwDY5wjo40OCv5uW7CQXTvk7BkuwWTFA/VPRDclbaOeCxTfutBP565ila5S9p5bM2CSO\n",
       "L7MHGQ0zZeo2EwX7BEGUTsy0WuadIi2/3YPogIces+hBTdHsrnandCxYQehWG6EkwywEfsRctldn\n",
       "2Hh37u7EO0VNMf/sVFeppgGy4mnNKlVtWZWgWu/+DRH6gm7YsTzdd3/nFJ+3Srlinsornjo7BGEn\n",
       "YNETxtLCk18tBYtETZW0B83Mce8wlZagc7q6sWNjL+YyIEm6/3i+bznO0vcqiT8cyyiRX2JyIhIU\n",
       "IUhhetcAa9KHoNovMuMzgdh406SoTfgAwgFHS3+94GkWKJy04FSJ0EIcknoQsZekAAANAEGbyUnh\n",
       "DyZTAgn//rUqgAAAdI7i6IXM0AWAC+jjZMknw8G4+WKa2Zjx+YuPSPyHD8rC+F1oMSKzOLpmK9Lm\n",
       "2yjcql6GZfOw3m06zhZj8VSWgQY64aJ+f+c1PB41MAJUW14vo4XsV1kUCnyaPYFBEkSyPglSCDK2\n",
       "E+9kq2e//2AfLHTp2MOn8dDgXj+5fpnUEQt4OfsqShT7oD74kCNRnOoq45RhBdFlWzGY0EkGXUtF\n",
       "LDVbzc7SLOOFcwYPvZNPa32fwPBDNf3gmvZyQzOR6LcGKokud7HfNGAiqEZIALqF+YbQfJ1+6Fhx\n",
       "gWjKPqtAJpn1wnNTTblEkZP7NewO2e49tcpHM7WOHm9bMQQ83vQE0YWr76QD3JrsAjH8nAuY42EP\n",
       "1EHxwMHBbCQXQU+HpuOzNl97bdA5OI/NsIBf3Vi4JsxgEvoM8oKPVLhCfXYfCLFKI9UGr/y09/Q0\n",
       "ixKlQL70ItIXr/EXso2f0xsd/lL7Q81sCBiGE4jfM5yZ4eBFbfK3i0ytJv4XAHqf+GFxNHtbAmnO\n",
       "7UcOvuVnXyVli5pF02MLjVLwABoXLDKeNuyHaRvB7hth8qikh+i/lEJjWV5QmYu9RCZMrFIdNim7\n",
       "yP9JMjHp9dFUNn7qAoSJwW6Ue2LtM5tTC4nsb6XpWmwNFzrHXOxZnYxzOnabFMATBNrq93lsSNTG\n",
       "ymMT5tutP6n1Gbr4IMnYfDlT0iq34tno5J7KT4BTG5hvrGW9R0bX+mDJEHNIfOca7PXdwofJ6BM1\n",
       "0nRKmv10jaHR/RY6999pbiHHgKAK+/Qw1TxrhYK04Y428kf9sPXgmP/Q17M4BzISyH3DwpkANH9Q\n",
       "yUg4JGzdXEPqTUNHDH0aK2Sy7KGeouHTF13hf9PhQkLrZX7gXXNmTRHqlwX5ZQBaJTdH6ppAoDKc\n",
       "aGeqz2l/Nk6jaaq2hSjVlKwlOgjOguoIPjJoXqcKQd+7RKQ8rUD/sX7Gvs9D4m4c2Or6rG7vbyIR\n",
       "FjgMz4lXwyhwa7xuNflhmHD2wkL5mW/4b6Om0LvV6hOGe+87przBbYc56pwa/A8fmIawDNUpZTE1\n",
       "au0X/Y2V/GDdxvKXnpJSs0HiaHPc8m/+sRiByaUc9wBVVwxPnnO98N8/Tmur4JZjAAFB8dJ+hH0Z\n",
       "AmgGK3RehuRVPWgybNLJh4AVQLqTmPSqHbOOpQF3uxRAJU27XaKw3AQQcM4xRMXFZnBDArUw6s/t\n",
       "23fpdnVNkq1pEeHF73N8iSNDdRPV08kbzFoVR7OF6Kmi+kUhpcSAF0zGv6KbqvhXU8jObcT7hWyn\n",
       "tNfABSroGrMvd2vJGlQaDT3oLMrL2Cv9trJ8XiPS+fu0W3RXrmNKVjouZWZB2yUC4AXdyUnCNs0y\n",
       "EI9giQ1h8E0bpUC2XWJB0s/OqrXeNoAZX6ynC8O1L0LZF14lu8LTKuBON4HvuaMbJ99O6ghvx2rJ\n",
       "n9uVYZyWbrlEXm4PPnGaT4QmUDhhJGI1cg2+XAdMJuPEC7AyAwlWOKst4cvO4KEyLS6w/BVZ8t8K\n",
       "mXMQ/Gef9ao5SnRCBrmvo18jyAmMV3W55Kam6+70f//1U4SIguofXpJ7ENSt+7nqtttU7FXoMN5x\n",
       "U7r9FI1sIU47sUKD+wKhJPs9+e+GlbaYLjI9Rc8D/hueTSjb6oGOcKZ2hjxhFeYn9AvXhKrrvqkN\n",
       "hFtd0sEpOr14URERLZRuwbHLaEt4UjNXwJ4gQJJwzEFEPxMjUrhKPe/mkODA0MU92ymvKpDzpNHP\n",
       "fHmRkOHchOIrtJca/aZDUtH2Dc+ZYFTyhG6GaY/g38p1qMqrC22gvy1fLX7R1OXZ2l3M5WxDLA1E\n",
       "dGcc9V2o5LSsL65F6yEr096miFJvQwIXop+fvmn6zJQS5WnunrBWp1UIXGEx5seIis3Z0qYS9Ynl\n",
       "ejpCOeyw4nTnJpJN5h9zVdeoBJkE2y0q2fi7uiUIQCJkuhD6XKuJTGTP7EH7BtrHVhKDA9ZFJ2vs\n",
       "dj1rYF3lzqpNElKDwAM3ly/xuHuabT1lAPZr3qxNM+N5YJ+n+xoP1zjcmgO/lewnNjo2t2qAlVkI\n",
       "hyeodPBVhardehfNw2ZoEpwXAVYwOqZeWNqBC8cjxeH8hV1XmxxO5dOJZTyUIf9FLMQrCrQQzf43\n",
       "szuHBgxeMjPjrSGgfszpTsZJgSdqNKOP0mmYGiyF8hFC5+Wt4QnotOC7fUrvV+4DglMSVRwAJ04a\n",
       "VF67ES7xPlPWr1IhPWxBI2re0TfG6I80OdS5maAU+/p85NnSItEUAShw1/KozPK9A40MA/4aUDgm\n",
       "ekiKgX0BrhFpaR9uUqOw7Py86Ea2WSy1NlGmghNMN9k2BUeVwHOm1GDrrLfJMZBa4l2trZIAtJHw\n",
       "hzc013d/UorgNyLQWpxWoXcHvdJH9I4AMBSbzxZWXkGTHWOvhGIb77t5QwYMRPet5LzMuRrJJ6q6\n",
       "xP/izykjL9/UjlKeGYsK8AUiVyBWXZ+XZloe2w8Nw1tzMtD2/GmDCoKjT/WpE07uPQH1E3/HXfOa\n",
       "NlbBm/rH6dZo7Rfb5nD/qS33m7cfpMIXXJ4huD98/+P3M701YsJ/0JHEuolRjPd6uELeTjHbNCkP\n",
       "d/dYjm4x9Zrt99G2fXSxSjE46LM4lD4T1ZrY//0D9UdY9pZThsMleqYnYiao4aBJgpkmrqJ0wE8s\n",
       "/ISbuiVj2LuPuCKBoZRxk7WUk4ZpFn9ZK/8XXFU+FcZrxKDwZeXmUNTjQp/UN9bigDxp34PEo9hv\n",
       "ZDsZiFN2Cnl2KH8IzR1asRIUeUwPglyX5obAr19lDUwo/L+vdaQKcVDtvw22UUMCTJ1Xs0pAGRmN\n",
       "CqRpxKb9QKurM6nXRqtMTX3oRZ4cqFqYNWTOkn9ysfU8+JjSeF3WeMTVzuihxiVQ3XvSARHxe86h\n",
       "Z3ju9E+KiQqJfR89i4Uufj0AJu+DTSdvEHREwpSR9KlR30Axgyfn1SsB9nitMpFYunp/fbJk7I1o\n",
       "szvWstbVfIbLTwEx8+MirYy5GS/j/FuZOf60sifs61J8jUPZmuT5xbJyb0VLNZ5CGuempRcBiTqx\n",
       "7D52HB9HzMW153jBi/mQOleDoguBgcbHFVNBLHPkjYNXILrBqHi3EaEA89J04pOQMiUPDC8d6Jf5\n",
       "7GmgEpMJkb+cMrS901I8sFrxCshhg5laLavo9jrI4WTvWM1JltHTCtXBE1sNRKoPt5GCvnDEKHMq\n",
       "euDIkqwFjVJDojvwo0oNbXHc1TJbWLZ2b4Eyvp1lfHchoo26IO0rvKz3zDJbcMLmtnfuKiSG+ux+\n",
       "kMmQdRminrSX6A2fHZQ4wpYGPQ84E0WBkeaOmWAfR+ikBvJ1T7+fYlbK6ywLrivbY1Zp2gBFOxuq\n",
       "AF3m/iwg8dGRZj7DwvIdFEtTUwBWoZXwzyqx/ecfuMkT0ENdDbIAmdJQrT7EUrVZoArX2Py0Y4B4\n",
       "1f3k+8pe7N8hh1XmGB5jU4na+kQtfkrgNKwvtWt3zN4i9xNpxpMngK5XblXedfOlWQAR7gXWghec\n",
       "QXkxzG4i5lE4P4ieONIhgTPLIVrTQFMwm+xXtRcyKraMshD1sV5Hr92gMw6HlkWkbXXt0olm0eBU\n",
       "zHFiZu76qSyn0OZg6bvqNcls3sMgBFscAnehznH2da0v1U/FLrPMnU06D4v+GIl8Aa5JXutgq3lO\n",
       "F0I5Cs0Qaqu3w5mkdHwrJaIkyo2HHjCrPRok/cJspXiXvNyP1WaNrd+BPTvE8uRE+9NnML9JE4Kp\n",
       "V36Kb1dBMFBLbnypz+PUxdG8SgFjZeiVzagY0kqc1EKv+trgvakne72NdnaWGh+5m0YRkQya4DuJ\n",
       "zZXPMr2yX2fdmWSOZcnMI2//qY4cn7fP0oHNtHpdBrte8Y4WHAAUMQmqzg2G80MAah08ozAXB9XY\n",
       "WfHJdbFh5dJcqmcNbXYabgAUUbVcElTUFino1yv3LLjb8c3vhSuqxPcGDGZDNZ8cU9RUMRK9WgC2\n",
       "TiWg0tymDlUT4Yk/B7sUTl58J5suq8A+AKYLNulq+cU5tWEHAaahrpDyM2r3OyuHqXZVm79YrY1p\n",
       "9Az3eq3E/Siv6AENthhak0Ya+qw1DUK/xzykIMaOC1i7F00CsmaYm3bcaLqziwQWpnlahp4/Fn70\n",
       "P+hlnZ0s/NPvDSeFllV7GVKMur5ac5KhHDmJ0GYc3kpiCdFevdV0hWUelVOAU2qclKOxKtg8+2ey\n",
       "J5zEy38UpVhGnAo2AYY871CpMGOdAkBlHhXp1H4Aw1AemIZm6UvV/awwqEZ/PcIqayqGQtA+thH0\n",
       "o2BI307KAjN/d82bx0k5rxB1XYhCHVQVjBeJExTh6ib9zEJgx9nwokVAbz83RILXb9ycBloVfnQL\n",
       "wrxAxn33KY7UgSuMoykNcp/nqPln00cpVu3JXgKQanR4EKwserLhQyv/Qex85RkZp3sVFfHjwj4I\n",
       "tG+TX1TUcoNNOJr2SexuioAAAA8HQZvrSeEPJlMFETwT//61KoAAAHSguLABfP1cb55qlFNJMeFs\n",
       "J9VLMYsgsPaPJ4XWF3I4DI8dX2h0OfqN10JI8Urf/kIuD2pKAxaXsAFj9P46Jx2Qrn9wzYBoHluu\n",
       "sYyokUYOnn7F7WtN8oJP/uGnbfZrpiDixQXa1UamXzL88rWkb5tReXAfTmraQ8ErwyJXcXKvfVjf\n",
       "lF+nuRv2acldHgv3rFVURM9MuQ/GCjBGf2n2M26W1FjZsExWBnEH1OvYS1P3jAfHynCrpo5xoQ5/\n",
       "cq3dnQlHC51F9+B63tVZqNmaCpkk8cpZS0mACf7XyLhUIJ5WyfPY45qqjw5asPMSrodQroxa0UEX\n",
       "sVQtcVSYLkA2/eiHAmDXJ/CtLzJJGGdHb8YwtByYgBfmv8gbw84LXARQ+GW5o3iL+5Y4flV8LbDD\n",
       "46JhRIGYdIZHIYXFqwTWTQ60w3hxeYmuI5t19a6nytPil7h0v5aB4Z3yjEW9QQl8qmgkfc633W59\n",
       "AcmXRqYrg0xeCZDkCRs7O2sdJyFUOmxZz0pCUe+w+PEdH/LAtoctMzH6SQDr/UB1NmiubRXKSt5N\n",
       "CjryVN+6YS9IravzL1RGc3u8DpvQPbhdgCklcmPww1rNpRDVP+nf6iH8fb5ElDN0i4h623o3x86q\n",
       "46ZYPJwGfQK69ryuRmcMI7weq+paAlWZdN6rUnVRR7YdfXQiagOQeeg/EN8IMvQohyDBOyz+z+jL\n",
       "gyQ0f3K9JH4U8AmHpWiTJ6y4YhoA4UWtfTciS8gYl+eOqouzGIUiaxUytQXRO3Fv6JH0LwAxMg1H\n",
       "Z1xR9of+hkCPtkMucW4Yep1t0mHWPCyX0h3745I7L2ryuNW/4f340lo1xqQSQ3yMAWaVlZXpRopj\n",
       "AW5tBjZ7Z0TKbYPbVpQFj9gKpmaWAM1MgXiwn+o9lp9WRmRfTb4Y+dqtfnmxOf8uZYu+SonQvcQ3\n",
       "+OM9EuLk5SoVGgIg9qpMr/9pjoJc1qY1WZjgBla9nlK/siNDafwX0AS79HHA0+g+wkXiH7rmEevD\n",
       "TM8zMZYWKCm5MUSZjrDNazYRYvxtxwbSYHRB0M4G1t/TwH3lyW3sYb150uTzv8XVvCC/cOBF5jf5\n",
       "vUTFfiRsJ/hcfe73xFX5PsSWQ0mLXBl640E3D4YandkYXRPLriKHtHTpZ4fOTnlBTNKCKiV5MIYe\n",
       "zDkqPtVbYzjCHVtQl3+JTQ7qO1kH7QLFogn6C/YHP/SIv3ZaFK+vgkqmwzWHFeuPrk6V+qN7qgNf\n",
       "xPxlAumwWx1sGpgni33zBDuM14T5haexnTn7/vrPzcB6IqnLSDec3Wn2mRt2R2HYG28oOWLHiJJ0\n",
       "m0tzCZZY4lFlD0Vaibr3YTSUxS8+J+kLsAFDQ4Hmhlmz8BR+/NOX0bz73PlCWQQypeI5zBM0G0RJ\n",
       "Vw4yDGTzOZ+K6QW9MLGO+bmahlF6Mq5tnPRa7TgOlDDpku2CPi+taeon9w+Uq5Kh7rQqTDRWH8x7\n",
       "2kQIf/a6D+v50P95vk82oU9M3DD9T/oNHKhGFqAB8q7HGKJ1RMcnFc0Lf3Vh6GNeF2WC9k5Zo4v2\n",
       "g6u1Y8L8r8wGIe6gZFzWgnl+/PE+2uNqCCTIznlxfbJXIYA2Z961eSyltSobKTVpl5X5pUeicwDi\n",
       "/43PUufO9mw7Sha/BwXp0cd1/Fg5mpTr3+wz4UOqjR5LmnvocTfza0KkaaTVLl4gcNlVyO+TGCVu\n",
       "9Vue99EoajsR3jB++cg8mKPjwtiOa1EPPlVEXgHG7LyDwyDQ9H/BvfB3T6w2+pWHrwlRBaN9xDFn\n",
       "Kumfy5GRY2n9ZJ/bvfciiszxbpzRpn+LNZ5HosoqgXzKvSf1zznGzBKtWyr/gG5hWJr8kuYJPhZO\n",
       "LEXxEknukmxCpTydGCfTjmdTz8ZxgSYsmsWpcIYiV/AlV0GDEHYeMcvpkR1U2isFPAkJUF9qLVus\n",
       "EBoYHLrrKB1KrSYat6CX7HeKLtR+L1EsVDP2pDhldhFE40G6OYxQfLiXP7mxGo1gmV/i2BwtuHAs\n",
       "u5JnYVckIUjXXDepM8K9HpTLP9WWwB4625YGzTFbNZXjvxiaysHDJS4UvrZA1Ra7wi9+lW/dv0Y1\n",
       "rZ3OCMVC3lC2HRtpsHflRrbcuGqqQ6EzO4LCO8ia0eZ3jpbL35dqZ3664Cq5LxCTo0Ne42K3NskR\n",
       "BHpCn0RdrD47C+k16sMvcAMpzfBthYgv2fmtsLjA3Y1R2ncbjpnehcnBKY6rpy8SzFiZDyuomdlt\n",
       "is9xeWLCfFJHkU+fMEkpvSmTIZDQf/cRi6dGWIWOkwfiCyeNmwJBlKru0GoGiWIY9pPEiD7LiyYc\n",
       "pQ2qTISBzhjhuh+YrCs3z9YZTkLZQgyEhVJrzDOkqvHzq/eai61RIm+kq7EqAoJhJOPK+E9kZg1M\n",
       "YGYOt/AJh4f6nsNT8cSunXNBR9xXFokZYpyAAXQXZZ6k7SE0FSJOjIa3qh+DlqGMYguohJa19QE0\n",
       "JvXS+kb7wZQf82KDQ70E+b5hWEBvU6sLm402zoyyi2mdsag1w3S7jeUaBOlv6kZcxN713GuEWdSu\n",
       "WIbiubWZdGwpHpSXWm5epJBO8UxwJkcAbW6r2qqyeZ3Oo76vgo2eZPy7DWBAtY75kS9docwvqXBk\n",
       "ngXeLjClR5a1admdJ8OXNVJbu94scSrIS+sGzp52E8viq+nwGTAPx0i7uFDuj1MRsJgG43aub285\n",
       "GlFJDD++pCfK6EZ5jnket0wICqhyurOMcCvZzrBJEotVv36Qqt+ruzf7gEjSjGWiaL95PkTa5msX\n",
       "VFlvt+E1YAKHt2IL8Pvrt9xIHhZ41CZOellJkdVXLBQnRr930+aGyuL/G/yuXyzGNAFop6wJ0wAP\n",
       "5RgfDcjPfyXhlxmdWSyZaFQF5eVWTDdgG+qCSZ/YITV3lyUyyUaDxVP0ApbgwD1kqLRANUNVUXbI\n",
       "40d9UnL9IxTrMkg3EvNLvRd+rsnBAYilFJYTIBgu+pK+XhYQHGy935mzTL53DE59NRc0rdKxRr18\n",
       "PledwqlCD/bxriYztnkh7ioP2e73aKmb7P+Vn4IvVk3lxS0sJk23rckizfGLmkV1G9+QzTJph3Lq\n",
       "dZJc+mJ2pKAZM4VGe9z9eXS9WirJE2GTlM4oKINWWchLWZ5eBRHTAfaO17FAvwE8SA6UBhRLbRNV\n",
       "jqp6/pws1nX1/yO2Qn5RTmZD43lqgGFn9RBuWYqwi1esUYZWdse2Nrg82bcxHm/EHBKMRZjgLRFR\n",
       "dvVavUM4Gvbv+ZpW5aqik5rIGpOoWu7em57PBPyN2wptm9XGz3r339RTdB1KQWvRr5ItLwIfMljw\n",
       "A2YK0MBZr5ImDRThOjNHc2Y7BPFpL45dELNCnIiIym3w8puAzZwkZ1j6k/g/TGJ98iYrhcTTBMfV\n",
       "jjGmontnFTg9XUGDJywJ0cDNjyqsf+pI4kCOpf6fijSO2P7wSJJLIAH1RJD03fibdEk1nzHxPYEk\n",
       "QJC4e4oHE2fc36um47S5Bj+4nkRWVxmNVuxK+soMn+bU8SbMAKfUEIgVwNT5cck1TLyQ2Iv57en/\n",
       "7ig2uJjhrJvQ37h73zO4322kzjssL9BLgZIa0CrWSwnLnsKIv8/2uDwHxRbmyiUwmpV0RoNKEMf0\n",
       "bjcbgRqSsHPNXtATilwnngSK9bFop/3npvrmi3HDNsHMybQedPruF2U8iO84hbaRka/SOUEzwHIf\n",
       "miLcNJvFapvxmSuZltm0qp0NIrwEXiESbixvydhVVw9RaZ6PaII7+T/YBeNtE4Uckhisdtn4e+fC\n",
       "7WyoBGrNifFEFI8sQwvYIYsgnCbkV760E8md8/WpcgEo4fCf8lag3lz4pSuhQ6CwozW0NuYuGMhD\n",
       "FD6MWKQj06WC3K8Dzqe3zQ7x6CP9uPB89XkvNOSBNjw3fCe1NjL+cnluO7tQSFjXyLGCs2i+IZSw\n",
       "5Pbeuss2D14Qb5zroCNf6Yog/shMbrOcTN1dNEuBvRGE4Wl8C92kv8o4Z4GqnOuYKmpOai4Sv+M8\n",
       "WWLJ/lpeE0lCxCAIWZtR2clZ5tPbHaZEXRWcYh+Vn9UHDh0TbCA0NT1d5QOSyq6vhkLHXQdnxxAC\n",
       "hiWuNZgR3gM8U4mRtbShxDTS+g4zkPXpYkkwVIqdROI+0UYy/H1MZOMLBDuUOVqFahFaxQDvvM60\n",
       "O2QhgS1R/fl7mOaiJNrD7qSI/+Ms2ocSfMNoGT2RSLKGSfKdCn1Jv6UmTXm/uMmOHzjVguMsn5Jo\n",
       "9n4g4ZBuo75sDQIuyD8h+5+KdyFNDvubTjLbPA/RdMkpPFkn5Okp7o45MWyhEH++Wofkr2utJ4zA\n",
       "T2XkEIMRol6pDLHccvmfOO4xrJivwk77n74zamsUYRL8vVNY415AorZpx0Xn8vDodTodr+qKY2OM\n",
       "9UVKt7kZHhPUg3JihWFDYibjda/pIIy4RBwINV1Mk4Gzpfll3limTYAiUJJssV9r6JsjKK6TFNku\n",
       "ygclbt+7Cl/cZRvPxaiOj/Kctco/JASyvGGST1Txujyu49Afsrrf8Ihe0U6vaFrUfCvdpEiTGKNc\n",
       "qr6S+o0Lf4gIZYExpZ8smnQJt6o1U8F8bkxMbudlAPa66R6Bdz9ZO938sYbH/Ah+uefBU8KioSVP\n",
       "mxkq7dwFqAdvQv9F/HUPgIBnKuoL+s/YDytskLs0M/6m3ehNgAXfEgJbaKFsdGmigL4B71iGC6JM\n",
       "AohrxXYhGOpBFmyP86LDOvrT+qaLJsz8Hnkg3gp1APovUjhFNXPof5F3ew2JJq8g6HRLb0hkGY/T\n",
       "3MhWzmpii8vre+slXcfYOI/zQI+MnNCDr/QPJT7gdZUe0pbR9nrJwigiuztV7tD9ZXHsvicYnx9n\n",
       "z77YD+iGGnkrAhwIN7DM9LGyvuJy+bsLaCh6GlAQvDtxKD3JosWYmVNuD2uCktAB4ykZwhQEtPGP\n",
       "MtNhAzsSfRg8V5PZpsTQwRD8weQmYO635BCNYVZPPVFd80lz30hdHABZDq90r8bm66Y9T6V2Kd0v\n",
       "OyMVlaDorZD55n1Fny0JxwHtdOSYVK0X1LsZzmMNBOoxRqXYZPvvoCZ6pv7lGmOdlpYV7JHDoJHg\n",
       "wIzTejgly1ek9q15i/NyrabjxtTfYPjBoPU8RYJHqTMGOiVZ9G4VFiICld9NTHpZ9wAACgUBngpq\n",
       "Q/8AAA4C6PmuELAAQ+Bba0zVtR6ot+PzfBJB/W5pV+CVq+ILlOcnyvekJba1kXhJg2/2pK4o1OtV\n",
       "f+AIOwE/Wu0byeChyW0PdcB4EjwkXk67uTLPVE+0lZbxHUAt2Te7KcVzZSue3CldD+fwfh2zRYbS\n",
       "p775s6wg7WYF9JvrsVsXaRgre1hOASwyOufNWgvYP5aLA1IyGFAAOAOXAir3JlLFgwfZ79k4ZbRr\n",
       "u4WxeheiJtKfie66bJWqYYS8QkUeSzxQY7EPopc7TE77XdvWByF8icEOTEqiCFJbt+Rxg4XkNBkb\n",
       "O9BcXKWszt+AXS+s1atgvxZC/AKqr3XOHjgzjDVwwx64c0poOQt4qyB5eI5zBo8qPm2bBW8mgVRa\n",
       "BW6NueTLM/dqOjMyslzQnxNb+EC23fhDJgyR6+8HkXf77t+SeZtxgcNFB/GjkZrmmf40To5C980C\n",
       "/SrgFGb7nPBZQDl+0YBMu05BmfZvD8m0UBS0pZMO/l/4tEUov3k6tYHAt/lfj6RieksIkvj6iX0V\n",
       "1iSp2bB2WtAo6ftA3gX2uWluhS8zjKcmgciuyXGOtDtD1WxkfYby0PepBW3DWK1r0bLJsNd7LEc1\n",
       "Ygz17MdySQ6dfOXa/3UpIET36yyQnsCUE6VQAg8LGp+uvYc5FhlbDIJ8JW0GmO6tguX1dkMHoPIL\n",
       "cD0c+V5vJb247AZ2yJnzRfz5+VsZ/siaBt9aIIJwELs2o6UfB4bTd0MZ4dszhDX6o6rj2OMrEuwK\n",
       "tsakF6CJ/SwX/KJD2XOyS49nNouQoW7C2szE6tdKC49eZJxxxVu5cb4k4MzwZSSLOcKMHBtRvspJ\n",
       "GxDlRuzrjUGOc7mLmn2oWA/3YNO9CF0m+NTWjUYc6MGNMKwi4jxzhY8TihGkdvIJ0eahqXJuqsxx\n",
       "I0SUY9Av17JhUur/doj+mAa+4mJg5FDRiv+ayiMABaOhHmEfi/7zUe3BajayyA02eVgL3kboyDxe\n",
       "72B8XOEOKhPIkzYnPTrVEtURe07o8H+cvI9ZbcLwPNKIeGVvN5RZgh0Eh75ToAY1ZvHFD84MRxMG\n",
       "hZAcLf5Lv/Ib1zaRgwNHHRKTXT/K2ohYfWrC7bosTry4bYfWKq2isdHobdyPiWgsfsQoUr1qP0oq\n",
       "yS0IGnT6u3Ebe2xC4757ajuO0I5IsROoRol1pba/hebLIxg6/5bet2BUTtX9dKClsKC47wEWr3VX\n",
       "QDPqBlKA/nH+7L7ZaCZCzRnh8OWdbrzjTUagfJ7ypisBNudfZZSiWTTC/zI4WAydpsQ3fUsV/7Ay\n",
       "cc98L9l6URd1aRkWTh71iJHyQAxs7EKRBmuubkFEr5QIUj9oWKao4ZJc+nrhrbqy9fVsSZnIpUbz\n",
       "jHwVWwiDxrtPaQykY66zXmCbt9UetYGNfxBjLhMWEJ/1gn/g0DbdWh5JMzkXi13wm6TowCGrjGDj\n",
       "oHYOl5Gu0U/9zkD04Dz8MC651D4ajuoc+hMrYW52wmaDkjCYehWVKBZQGEIeqjc+hrKD+887aIBV\n",
       "rGYYJ5WbXOhyygd16IoEJyLs+MsNhqR/32vohnjfMstkGn2Jl/cEDaiRgTOzb3FDWujvfnTmfCmF\n",
       "51XN71POPmv5c4zKUYeiCN5+Vtm80Sen0h4Wqwv0smWBZqau7z40QwZ86jshbM1AHhvbJqTtROnd\n",
       "E+Yzk70pZUXE/zOsL7UMaEPeN3/JceMEmnvw7u3QSvOL/9maihb1BLiZdiAjw1c5v6pjUVd7fUYi\n",
       "tA7CifNL88mEgFbsTLBRWKQZxfZgaytSRrmZ3UB1yg5uYuDsBaFLZMapfgoh2klRb+rV68FfqhlH\n",
       "85g+2iRb4iIr4A7oGadBLpvNrwVroHW4wPOXd5tKMSpOqesRcQ51ZUUQ7SbJTYZhE1yIMSI3yW/3\n",
       "yV0Ic6zgE38kmhCC/PW1p3MBUa3hf8XFAr2eM0tmYRgc0Uezi2pVA5PQ4PP+dF1WL5cEAPeRcjmn\n",
       "aAcdJbveRyGfFqWPaTqG/tjBxyFuOjHR6HcxnEoUBeF5E0lEOPib7HGBRZroFwLX5aswRKvA+iH9\n",
       "5EmALu+ArHD9zpkmLfVUDB1uRtQUTXtDEzNfKcXy5cIa8TCwyDwsoBhVPkc86JeVu0YomWSKLCo9\n",
       "mxjrnasjsUqVCaCMrybH/56f2CB4PNUa+pftfGU5jqJTPqo2iwAKX+B3v9KCtmFvUfjKFOEU1DlU\n",
       "KFFLIWpWPNZ6+A9/X2sayWv+YdW2gxqEGKA6Hx6+CNaQ3yl2eQ5CENFM3xXnXvmI0u2Z/WRigt1i\n",
       "3/B1J2MdzCc0u4G2PHV6tyeUfFjzEFJRFfuRwhl8gbWHdjxOyI16BMq+7QM+h9f71EioPcezKuMB\n",
       "HzRfneUoj953PlTUIvgObcpTJE8xcBpoIIEpGRVRv4uvcGgLvr9mEX+3M+0rIokRGEkMEOc23NP4\n",
       "hgBFV+H/xRYP386U1zsk+NwmZdGQAJ7ayt4CDdxsktWTcxwvSiYl2FOS+dns4Ck4cDXxc//88JWA\n",
       "O8dRmcKTakJt5p0HYpWjKlacTB91zlRQ9Y0iRKJSaZojzRotQkLarnrCst4Y58PkHcklfUqEuiP4\n",
       "xkF2lcDXCnWMu6NTrmzTU4ibifxLjkLMEgBRkn+Cy13IDamqik8xfAe4mGNaYqxTBX/XqMiokQgM\n",
       "sXDL53OYzzF8Pj3wTbToUfnmh8nLyzsn10awed/hbir2Xyb3KMlUfI1OFDvm/RcWhCpTIKNYXZER\n",
       "3sm9zq+gOCPA6kO0WnM/4Aejnpt8eGZRRJhz7id1mBh0EHO03PmXvE4nvTFTTjuW7Z3b463u10uL\n",
       "TrCrGOSxOBgA6Z0sMbPz8s4l8M4c7GFE4pVS3KeZKfAryF65odED4hFVVszYG/IQeoam+iQhqW3Q\n",
       "eWSVr0bDk1Ex6oWPhA5iYtB/2oOOEf4wqngNMkeM9cyK0v6CC7/cS6SaaceSjLCb7O+n9ViH0Prc\n",
       "+SsFtEaNtq6rX5Dd+Ll3Z9CMRXTPpE8ktQM1Hql6h6O6NB75gAgIJpZd7Dnpivap9f4dIjvdQJGi\n",
       "la5kdgj1yW8aLw5PqMdjCP+KKxeWDx0Nf4DUIw9hduxHpVBPMDIKpIkhIJPOGi/6aOGiHeVY3XgF\n",
       "n0VCvQWp07uikH4TC6zT+y2zQhc46y4ObpB4a3NQ+rjgzlGeMuNYwY7859DJSWtvoiJyzfR2fQhF\n",
       "1pOFai0Mk6Snc8SgeqsY9amiKBfMoSgcglysJ5Gx3pRBOgm3wW0kLynnVGdzhMmkNSAry/p985uy\n",
       "J/Zti6VDkiHNLWXCQE7ZmqeI1JUhohdGyABXXpcGWop2u/X3yyzP5q/f/Yh//8s5jvc/kKxp+AT2\n",
       "RWfw9Fw2O/CUkkvNOVJpZlGocG8ywZbDVRSMrhbJLm8miu54jJ4x47Af3gZjcPQABAAAf4AAABGx\n",
       "QZoNSeEPJlMFPBP//rUqgAAAdN5YjkADReUQ9CnVeAHMwAKFIzFMd+ZqIVGkQM2awx1GQfaWr2UB\n",
       "OZYxfHSsNy11Lwyhjt9ExBJXmgG65Uxfbyx/VM3c/rICfCf8wntW12r+vQCCkcQH+HeBKn/mc3ab\n",
       "QcDLsxdFGQmdpAKPGLly4QyP4KaUV43ZHDSWFclZTgXtmN1xWjtKuwQ6qJYWz5I8E9SyoOT63jIj\n",
       "/8ix3E19FMewg7RyxZy9NdUikdyAzOZo9xpdZ8Xysa6+F29hVyr3PxCk864aJFTvMxaspQRfp8DA\n",
       "Mhd7yMWkQc1Z0xOepMMDh+kbL6nPQAM15v9qWliQCardlSmGHUPmHR2V6SuLeOR74Trju2nP3pED\n",
       "LcVVsm/Ic88fRrVu1L0BFNeZ9fEW1WmMtgu7UXHkA8V1CiiV2hG4SEAsBRL5Z/XAkXn9/LaKEa9I\n",
       "0IiDweG2HigMsbMgBUMpguIfWlBu3F6idVVWJTbe+u1NAUxoPYKwzqJ9iR4xzTmckQZ0rqTtgPXo\n",
       "DiXK0pLsRs+b1/1Eco1sHoczixyTJysl/uAJbG0pddubT3DQSv5NROwiyTxMUJ9lzoLDrCXLFRhS\n",
       "Ex4f8KlMvVbVrbvC4PAi+tLl3OR2Dmtnxy60l2iDK/qWrwhK0OsoUk1Bd8YvsVa4i3+8lVAUHDTM\n",
       "99jEd9jgRtXpjEFyBgE1IUTCWYi5BC11HQnMpaWxM4P5U+VHOO+MmgmSGXbP/TD3ykmp0gyfQ5po\n",
       "zbDbV4b1jJ1S99iwXyPmWZciBtd6nvQlXuMlIqWDlmpmwVvlTttnm9NdQ3sQxJx99KFzOkRzN3V7\n",
       "3+LBQsRNoBqzjzW5Qyn4J/WlDRXwvdQGuybGh5MyNoFD15DEh9fS5LDDLsNfeje5sLOr/ibI6ugX\n",
       "ojCM2SKVMwvoMSmi43FvGILmLeWOwHVViQvNGgy/MdnOcmOK43FqzuiEd7DUw8yeYIn6cKnCE3wM\n",
       "daqz1WNjmgrdjh4pWQzkfT4ESIwBtfppJpaDAwtvNlyzFF6cWPm/tIPUKFzJ9U8y63tRKy9O1nn8\n",
       "EXaSlwBFN7ZBqrKK+U+bIwrhs/525dWKD6UigKvyi29BuCLdBwmcNqReTu6E84a1xGDT9BNOiR7r\n",
       "Gi+GR5bmBNJVCrWtyA8yzgawIsOfthN0XklS7Xz3asLWehYByMuX+xZy28sOpzPki97862bttraW\n",
       "iNSrfXiWm1rJK+D5+DlXVSs7nv6r495RPTcdCHNbLw+JmheV2G+//IcV+9u+lFZIlJmpbqXZtxaw\n",
       "ak8oCx5WKc5k+UBt6Y7cNyS0eA4589LI4xRQgC9Al0GzVGWUEw2e2ul3PBDnuxQz+uZfg4wslelY\n",
       "Wni1INKHjYTr1PWkw6dBYbJ+U08vlYMPWg1Sy7aIq9XFWb8/TUj4iJomW8e31Rr2KfdItEyAfaCs\n",
       "VFymCBrGaCjTdDGDyas3QmvsSi2Ps8lnnir8D4wKAn7pUq+JZIFDQ6vlEDkoMWmBgHFbi5U7qkdJ\n",
       "5CY9Q+xDvrepBrEAy8TqC9WuCkAPy+sOnEOijJp7/5Vh1WifaE89Gmn3mbtWSE9EQCNx5M/tN1NE\n",
       "hBqmHP26C0Eh/SvYNBTku3v8Y67Z9QF3xDd3R1zEalcXmFbrz11I8g03tAlMBUJe7MGfSTZEAZkn\n",
       "I4ObHyVMRXERmQsY2tSkJI0aWJW7VtLzygli2A/A2Z1oBnkAi1qvxg7LIhhC+EWOawdF2GgqRd3w\n",
       "F2eLa0r8Tc1JnFkY7PHLU40XX/N0dXd2b1LLMQPL05pTwPXtrMGzyKpQGVR6lOZnGGr+fqKEeD4H\n",
       "d0Ux0RU7gAqr4HIfipIcggeKSx1rTDPStQ18/vGnipC37cCB3GSTICNtQdTtJMSac0oJ5UYPCbLz\n",
       "iO8SM2oYRUj8+Ps59TlFQekdZPZPu11u5Yv+FFj0VDcPtTcX3aD3J5R0xkgn5bW71Ay+vHcOVA1w\n",
       "3OGdfOQZ4+hGfmSQjRvPv68mvW1f2MbnOyc+c8v3cevw7dMvdkOQrwdpGmqP3/KjdAg6RyEzmC5b\n",
       "F/ME4kUNf2afZ5xprkYb2l7J8aDPFfSBvEkNv0gJhS1/ZYfi+T1mblzFrQHp1q5LSbFcB/2F/6or\n",
       "5NqVbI/8DJ/rWcfcBLWxkL+v5ImYpynfP8Tek5oMVuyxUsA5Nzofw1M/ITSgdlnckzliDtUaFSHE\n",
       "b8KAoKVBiqA7ePPl3eDd3IPZPWyoLeQ64Y08b88WdS8ntEwCdWYtaDtH1j+oxyfJFRs0+mkgkpF6\n",
       "HZWnt8cMn/2ffgabCo4Hwl3TjkeqgHKzt34LagE4RLskq5ZK+HJJZQkLI9+y64fTH+onIhC/hiTL\n",
       "NlU6ZwgN2kj4Qju1WSVUe9dC0Nsaq7nCrOilWS37SV54JAhGQPrSslL5FM07MuPUagWzR8MsKt/m\n",
       "fu8YxFzRyfYaCtwCbXUr7n3upPTzMi5fZPm2bigfRCb4UQvyCQjyxT0mp40tX0IH4wT6355R476E\n",
       "B6nMjF+TulzIDKASzkdtu9JM4p0ADfiHYURLPmzrDvgAY7ZnI3kqejPNhXZpUbkdeGrem1F95cmk\n",
       "WEG8u3J9CUIPPapaWp5Qgn5k7D7OC1V8VN/WDbho182+O92ny6V4iLR/IT2RbCZgYp7SzYU/4z2R\n",
       "pnIf49qKMp0eKyfzZov6n+EJpNzd6urvA8e6cCMJZXwP8gNeNKg/EirmljjnWetWmyyKfW3+hv8M\n",
       "+hug/MBNcBkBZG2G15/32HDq4yh4ml2wyUAw8pE8GHoXLRee60ItKbgk2anPVYajZdJEhCuz0Tlj\n",
       "GxoA5GGs3TDduadM7c5OnvhsWZkb7k72+JC5xyipRqoEtV3YjzdganbQHdExVIt4PovMOJI4hL1F\n",
       "kE/Q3QxdgDTCDyjEkzLXnQwzuYqUqvR7DILf+PsCR9MYU/eld2smSApXG1sgX/0CMSKgiJeIklz2\n",
       "ei5yPVLCXCX3F3xWBDL1iRdiOTUH3zhHSNDAJsKC+c5u2fT8ROPefRkwdruNTdF/tSeWsgvKseLF\n",
       "fuMJbx72dSCetGO+lljbMCs1kh0FOqYicOAEfCsoIGOnnHwChFbPzN64p0Ofcx1/KY6nz22PXWfk\n",
       "VF92s95NBtpomJ0LwjvE5qQwcKwLOodikbZOrst/N+R+7T1DsSxu643R/f56MNm+a7uH1dOOuWkC\n",
       "UCCD0D4HyYY/6SL57rhql1vxZzo6SsJ0mjzgvmFcyr6UNSXLrQ/aTk9MTI/HvyVbapQdmF6C67bE\n",
       "Da+Mv9ko1qMhaA6QRGc8qvTuVUpMJQC/0yii335y79/hdvpHWp2q6UB3X3qNiNbIJi5BhHfV8Mvf\n",
       "7URkDe02pE8iNEDQckZM6aEAgy36iRRByhhEFu6f6wKOdtbYC6EbrozsTvlwxm/DXSoFOUNrVgtj\n",
       "cVN0Fs7lvJnX0Bues7xnXrJMcfrtlFVRuajHejJdMfDAx1sBtq9v9+MzM3vF6ohikCbDvCCRPk03\n",
       "fKShsr7YmaNrcQjPKrtU/pFYpOwKxD8VqdjUK1iZ01hG567QH+ugnJ/6PSF2rnygT3wqGSh0JBYz\n",
       "wJJvqxlAIHmZ/YeQiEcl6rtDKZFkuyDXlrVLINnXmmJ1E3dPf5WiS49MTQpXda2wLp8graczTAmB\n",
       "Wiunfgr3MG+RKQXsIzibJ8DhiEKAYOBcqlCvpkX6/qijdR6pS7r2IJTA3jtZ0T2qesvwyHDeN83N\n",
       "EkT1WbIV3IN6YsqnFIsGstx0+Hyip5eGAvWGcJdL6QXFAhc/P1WQ3+zu12jhcUrr7r9sKE4H0bN3\n",
       "aD3/6ZA3Df/atKFaQBO6pXEt/LYrHOi5hm5ie6aPpobvcE8CtF33gEvIhVu5sSPuT7RZ/+bvkex/\n",
       "VQdTUdXLlrSyJlmlqvUoIkJTK1SjWwi2JpqMcMuk4QTm4oehz6Nexxgf4/KZsJOHIJizMxH2yQVz\n",
       "6uLn7gJEs9i0beeV4cR0Egu/QZDfo5Rk72TaeT4qESBPFcCpM32DXDWPzBSUKcB1PjSf9Ej5Gi/4\n",
       "8x0tuKZziHRZVlNHOZeZn7NendqmaI8i6k2QBg/sPrM8qPl7ZXyVv0NCK0z1dlORndeMVu/RwTmR\n",
       "DHlTqaTXTsYRkJPaFoWdi7nTwg4w2ct24cdicaMULbEG6n1NEAI5SZqQQYtz6NCAamqgKgaLIlqL\n",
       "bcMdqDQBmPJY3/AfsflU1Q0OaJCmTPYnT/ye7anpxA5dl+ucvIIqvInYki/jdB0ce9HVKYv/RJ/X\n",
       "/8kxSeOz/fqiHDw9W34pz+lhHuo9LZU9rSE9+uZi54zosrxOvyiFk0hd5tPqikp3BCYZtR55Omwb\n",
       "rBvMRTGJ64/8Zu1+gkE6KZqHsBIJMKNw1YXEBo+2EXGG7dMf9bGjelrB5td2y/TIpClvWoz4Ytdp\n",
       "3VeS//sEsT5oHRCOEC1jeKkpwhXSDoDYVjdN26F49nkLbt1YgZpWgIwLJNnePUzKDasLpnolIRqx\n",
       "LpoggDEypytW2zZyCxhy7T04KjHpB3H5VdiA4rtfaH0kyl56pSWqY210lKP7OjW8i27Tnf6RR928\n",
       "K54poapoSqoyHCYQ6XRqvczlTeSEhhDOBvUt7WRfss13AuuGprbCmdLDVoAXNNRZcU/qpOGDhxpO\n",
       "qOKqwRJV9E9kpeD14SIXnS/5x65nTeYVqtf5WNXktJuZpJJZ5zlRHFeJKXMiJbmZAT7tQntZ94XX\n",
       "mqhVTa3q0euIt3qFUtX8tcljhSQ80cH0HsRWfzR+3qf3VxvYEty4/MhhGujVuQv5iSq6kXfrMd5P\n",
       "b6gs1y40NixDBUQeuDkFtQo2b99HIfreeVRjP15aLKkQkAWM0TkkxMvk9cbyI0FVajC0zNLRrple\n",
       "ngzeL3ufCubw8r9b0/Af8Kec8QXVxjpkaKr5D5NqqU1hqzAzOqKxqHw1z7vmMF7moTGtm3sa2MVT\n",
       "vJa9BRx8fJOuGB4PUHqOXJzckPG7R3a2JaZ+d9T7orG/wRhlRZDYNzwf4GC5rcl6t6pSQHpx/dwo\n",
       "VarzSoKCWqjXYFqk+RZ70ONrrWL1Uk8R1i5AsfVgEF/n8Sqh+K9Ulf3FvG2rolmju60wE3hHD6Z6\n",
       "euxlj5gZr0IxxZ+Rx7vn03QyHP/cPKJP4a9WBXGwjBqaIhs1F8uxKKZVbyaKhlaHfGusH6OsQZ1N\n",
       "aekF/zGxcVJEqIwjyTf3X8tI3idflM8zc07bf+BYpZK6BhE1A/sheUOiJ9RohPDJZ0RaZ2hZtvvk\n",
       "JHlQBwmIhCwxEY1VozmhFMQTHPDbA+LbwYf4Fmg5BFhfYIghYhjAKMJl673TGpT0oPlXLunm+Jb3\n",
       "esNvyKZ6Sg+W8TA+qQGjyBNyuTb9LLPu9RVO4SZDBiSZIzlgIiEFpF08iiFNLKK91u3GPjH94A5B\n",
       "j1awIuvNRVP5Ef42WY1Qa9KF9mCREPZDlfX3/d5BeqFiVsMh3PNk2WmXtchielIQw/h/bzWHTULU\n",
       "cJtcHQ+I5rQ42Ev9g1lcY7EDG4nNglL1MLfyiP8Ih0qO0YuiT3+zFPf2lcThjwY6jLmKyqt63RvB\n",
       "EVuK2rnBgW8U97cPWaYOYXG+oC9zamFLAnrpqngF+YVg+uC3qjJU6t9h5aXTdcgUUGsUFs5O0jDq\n",
       "gezdAPuc6Hcy0r6yPP3nVnvL2fZghtGJT2syBtiYnZJDSnOv9tdf/ajNVMqVp2Jj4uyj9qGWKafQ\n",
       "CzImIRL75vqGzuO71OA8I4S+5MbMZoDfVToynEYkAJUran7FSileHV0WtMFGvdRer3LxnnzvCuF9\n",
       "Vjd/ubNeQnrNoctAG4MNBo5uUfBeS/5G32OShM6rgITOaSkdySdrHea4sQVjCLXd3rWbm1SVP1xL\n",
       "5RjPL1UTvneDZI+KBqeAPHJDhewAXRY7Bx6kc3nRsiqXMaBsBLLmfLnOrS7naMi6mumdm4WjrCgP\n",
       "YaHhDyQVQMlQfgNSzSnO+3ZxOTmSNPfjh913BcdC2YQpodWmxxqngUEdLeeFjhUaVCIaOVdjo0HK\n",
       "5lzhLZv0bsMWzBbh+TP98WaFB/yupcGE4U0AAAgiAZ4sakP/AAAOJQc7lbJlUT0imwAhT5DdGLA0\n",
       "HCNDDvyCMS8dvkTgBROjw+uas/1GNloDu4oVD7wcn2ciXsb7lTQiPUBesHyK4D+P7wFaIZpuiJk2\n",
       "fy6FEquy6ArwuPgta9ktqRm+YO0YU3tJWeqwKzVhgrtslV98p/H95V+BQTfbnuJzAU478wyQMzN2\n",
       "kfnQqHqb19akh2HXiWmUNU8hKmQUYx0Hnq0RWknIZdJMrXDT0S3tPhJVEajCWzQ9Ql3UIuVzmniB\n",
       "8nOoXo/R90XSkDctZ1tdp4ZxpU00oMVig7pBHHNgVXPMkMUlxnD62qpYhGq9jFDHs63+uqdNro2F\n",
       "gtUiUqWBc9SQGQ57UIa7id5YtGh4pCiwzfR0Uf+5aEVW/WFDkH4gi72q78Kaez7ctShTrdXiUq78\n",
       "VLrAhojkc457U30JmjB4EPXxVpYLL2i4Akjnzbi/Z0cli2CnkDH967iucPREZijOA6EK5rtzvaf5\n",
       "bzp1PwZIbVTlgMkTe692lqdhRirkgxg1icGPc0lzBvCGjbYB+vefucU4ffHrEbb8iI4LcVlNnE0G\n",
       "sjIQpHCcBqaPreg+t9EDgykvaC9pRZLQcg5HSCqj9ymseKMmSdV3GzFJVAP3c+IQ6oqprbO0T3hW\n",
       "4Urow2DqpWKnckJQBXfcl8Jp0XAKmEaeFkQ3f60+fgzFQangPHW8RYUGiK5HvuLPlUH+wtRF+Hvs\n",
       "ILTczY7XbfPjCmjJaHMchJHVQyPid9VM0qYEfBxSy6S3n0oZjRw2Q5WhKEcuC7ZK0QLVELexlXOL\n",
       "jOApzMb6R3WlU5uQf2zp0+MwAXh2DnLSeP9n3tk2xCZlv8ssRLJdoB56o7DRl1VXhI8JMIZ8O7Jx\n",
       "dAkns+2tpbvklPLn4nQpolfw6z9QGcRzxSUxlHeQZrm5+fnqjEsVoufjIRsWzirGfVoOiITBX3Wa\n",
       "UoJjVq/2X8u6dfibpRgOOH1yxiwnb2LcQTJ/EW4ngA+0eELT/EZ5VNOUAkM4g9ap2SDVXdjilHxq\n",
       "znWLkTPW3yybnTQlBIOpoz2NeYHIzKN24+uG1b4/2G2fartQ1xVy8Yz+4Jyrk0xXwKyDjMC5ONn6\n",
       "yC5hPinnwt9w9QvTy0Uw+O8xBndLDcQKyXN3H3vlcffiGkhqg8tgo3QDtMBcyEZhZHz2WA3JW8Za\n",
       "j40+kRqkxllblni8CsYyafPCqJTEzkk4WgYq4iY7114woFmfHgKIR5iI9NMTA+vKGFqDh9OzZVW7\n",
       "AK1GTP+qRPnW1lHWSkIDgSHNHttPD3qhMxbhDVHxTt95YaiPN9vfdnKvdU1njOyK+6t0Bj3shcW9\n",
       "zHoaM44SwhZEROk+kNggERhxa1vhJ9CQe8rCEQ+2JbuiNFK1gdAtY29s7YjxeYrXiYlAXkiMCdIZ\n",
       "+whrEP41giOSy2g6ae4PVZtThIu+Gm5OfWq5L3xX4+7AUTDEtsveA4lE9/CYEgOK7leYkoGo0b74\n",
       "EFfr332yrTq0uSEWX+1Ih18y1qbxsf4Czzbws1d1Y3Fk9lKxwPjVuo3SUxSSygiHbBI9NksqBC0E\n",
       "LXcg0bSL3Yo4o304+hNB38XpB06foVp5AM1nrrjf/GbxWF4l+q/BeJIn9woQmREunIKVu3/uEOnv\n",
       "AhA/aiR/+Gz6/WWup0Fsh+SPanwDxdOrPj1leMHqfTKEc9CvhWSjq+JSc7XONNpUCe4ekjT6oWKe\n",
       "Cm3pU6Y8o8Wpo0ftVVFcV/Fv/JKjk88Ztnjaj1jNo4ZMSo6pSkEjtcdi+U/tI1puLnB7RYUzZSdG\n",
       "soco6tTE9XuEDRnpbMU9dhcq/jDquHxYldYT3JOwuNJ0s5HgByklTJlUY23p5Mzy2sgYm7DL/bfl\n",
       "0gNwMLn4KvI8dHv8jdtFBTvFt508VXiFV6jEBA6AgTTKnikD957f4z0ph90Wop5xrn4W95wSMQ8g\n",
       "Uh/iIamee7m5Xzxlq7qu4e080PRT2xbBkMgFXmuzquMxdLIJ0249s96tPk9YoecgZgdlQmsHp/Kz\n",
       "h1gAzDH5Ck7Y+A9CQX6B7YoJM9xuccXKj9kfWnjsTGdQH8lMAgvvtNJw6qikiZdmjlo+kUfeECDU\n",
       "++noEsi6+SLz8wLYNMH7vLU05Fdwj4kteercA+I5Rkcvjxd829tv0AclR+HoLzdj/6mPRCW8D4L9\n",
       "YYPwtKTqomZxZzzQINnEfbW9xs71DMO1kxWxIYRz1FupRHdIst8Hcx3gtwkmnHFAezEWZKAHik6r\n",
       "SQjUW6D+O0wcpVtWZqQxvdnIzrexBCEor1dAI3nwV/exBuQlk4MO1CN/DAon7STmEyxXD+9MezpF\n",
       "6MA0MKUH5EpJhaAcQgW34KmQc3vAlu9SXMZvha7eD/9omSO7y0QrQqbW0WjfGbMF6/Yepsy8JlEw\n",
       "b1UcVSUlMzgyDXmTHH8wz7parkYgGD67w1aiTHQSJxw7UHmsjgLO4ICHm8pp/4BRO1BvVEc0QQNX\n",
       "PYLfne9Kcz4PFyfMdp0A2CL9Dqc7ppphcWtXkbDCm2yIjN9I2og+NCX5cp7DF2JDE3Gl45uDOlix\n",
       "uTfr1ZVsO4rHYV+9Zk8DV4oU2IVhnrHH7/GzzS6AN3Ce/wzOs5+xksHpGuxWuHlos3gaZj/HYjTp\n",
       "/umcuhn1O+OMqOTppkWtQoSEh/mI8WUD0wx1kysSZeS9q2aCnYQS5bWNCu8FCuLDvEsfgGPr0D+w\n",
       "ptUkzqZPHDyKYG5krUnPCl60aXfjE+DpNvPqJITR+MXM88AgDC8cycwYHZE6KlMvDZaX28lFStfQ\n",
       "AAMDAAAVqkGaMUnhDyZTAgl//rUqgAAFL+iRJ/6RruAC1H6qxy9beyIq0QtfytrfFsyH+7Ul/hQC\n",
       "1amkU7y3baoPm8Q6+27Mi+1uocNDQdEBmD+GPA0NI9Di5YIuTKzR/sg//uEnlOrpOa4maUt+98eG\n",
       "BoPkXVl+rCypciQAEQx427TGWif3TO1NiBsQ2BGi7YGhhg5l6Zv/fNaZmAL5CRgQY0K1iRISw4GT\n",
       "vujULeTA1+exnHo/T7sB85cBMWXmuycKANdgpYc51gTFxs7vJx9tLeKCQZrY06njGJgancTDNRz5\n",
       "7uUDMvNGCTA2BAKctbncE6nAS0wHaDOhjljkmm/NjRml2q+JRNc61Yjw22ou+xjLOOLl9/VE/t3o\n",
       "7gXjJUVVRP4VKkI3a6w35LiuoGX1ezpHTNTB6fCnJUqT0HdcvtGnnHAICcufeHBkPXXV8i7FzxXT\n",
       "CTYA4b2+0uJXWw3mC85iHK1W6DUQQNoXL9NZl3LTBE7EZ7rRsJeMpz77VnO21n/4WzFZ++KchQJ1\n",
       "joerB1moi4PKM0XZtXg+p2ZMmmx8UdduCyCRR0gcDknt4QiuQye9X4H4osPGjDyUtz7JuvCdYMrn\n",
       "SBJcG+KciENMcFxzUMshyl8ss2D7D28MhkS+CppGwsdPXbaCcyBBuO1QVHdrIlw3BLiKfN2jHS57\n",
       "UVtylp1+t6uxYKrjXE8E2TRBcFCOZCs/5SMoRAG1kgj11qH1KwvTqA/PtF3j5lRUB7R89m3rxqeX\n",
       "a7+sswcMEC4186AJDOG375VdbihpzxPaKBg4rL4Lv73wvhRaUs6rQHafNaVFEl1pof3TaB/fy3vm\n",
       "6gNXAquy/9j2JAYqb9/I9a0ztzPNZes17hbwu0HK12FgU/Xx2qU4uzVxqufOIvk+DNF+5LWAqbHe\n",
       "DTsW7r3609J6vh/KyPdxZX6IqT0NKQj7zWDshjtyR3U/rDWH2Hj2ClVc7QfBCDv/6Qz/l6L5NtqG\n",
       "wPTmfTAAzDtgnQUBEXUyCYrqrZLmIvoH5mjHJfOtkfW+FQEHVQ+jZ83ovzEl0mL0+Z0c4LrfaumV\n",
       "Pfz7L/R0DfvlOI1xX11wBhNBef2/uKjyAcu1OCVMyiWH/ZbKGOUt+SEuBLoDRCQWqvp89a2vrRb2\n",
       "QFL/jGuENaDHN1+jMUwVoK9NKVqHZr+tfv6e23faQePTkK56HLqBW5gt55qcASQFmo3Po0//8wWN\n",
       "MwGxRLkE31V61CrQN2p8MJDeVmTYY7JowJ6LuXwv/jneeyqlajAgxC8eOITn1P1wTU9cdRVL21vy\n",
       "qdHIowqn/quFPGHZHajlpuR1s22JBAf4t02dsgff1N7KtWjRAT6OxKieM4zrekM3VUHkPNhMBq04\n",
       "USwF6aip278Vz1XKaEGgxRAAxRoLmKOpbl6Bq8jPWf1kRQVR5iytH8cR+E3ILMDLv6K9ermK3/7c\n",
       "X16xoxOG7VxXsYzZD2bVcU6gfxb1iqebtbg72uiLLlq80jRCLOjl071Fo1BPiaODSuiSkTaYbbxG\n",
       "PHylzydZQ970kk3e7FTmzcBrv0DDnmTEQwdW9I47yDrPjWi5HAqnDHVwfo04sAQWjB6DjOeEZhwb\n",
       "nqMqQ/u69JDtRg2JAX7JGmRV1ry9UqARrB93XsAIHGaJzGemysIm7zKZ9pKVqs5/oXbN6CZ+6rcb\n",
       "c4oAYwQTDDBKSyoPxafga6xi4spHCnG4KN6AUeRkC6eZ8ZlUQpM1MghhwVKDrcet18pp0f82Gydv\n",
       "eEEhNWD+58BWg8d9T6ZXdDyuZREmIr79vHnK8vuGgfWkktSWLh+fSLM8G9yKPfXUUmK0JJJXCYYi\n",
       "NFrf61zkNh+LjN1n89KNJYh53/MlVSCj5B4gz4ufjSei4AOMFz9vGAoONNKnEac4wLn5vKbIfrlS\n",
       "UMAI/4MC90dfB2NBG06aEzIXSqidwl7FS5MNzDgJUX2Qbq8KwpgYYGuKOQR0jAQHd8XC9AsqXGmE\n",
       "Ew7ZjunS+NjfImyK7Hiz64wZL5EcAT0GfO9cCiCt+QjaQ81/W7TePQltb21Qyn9nAq+2zs1aNcUw\n",
       "IRaiwtoQjoFLLZjzolT7sxTQM3xPQ9TrN0lQpIf3qRB364ZFLWimvJ2AUjgf0jhkXWXXc6fwQ1Xc\n",
       "hq2MBSq3VxMQhnOjZmlwt5cRF1NGw/SZKAvO1ITfUtpqoOO/jHMcFhOn4GVX7Hv4eL1Tx5N3Y1cJ\n",
       "auTahbQE8b6IPL3u6Fv82d+oEIrt/3w8Mb6Yz7VostefxOLuUqUPuWXyQDv85f0MqM0lA3qw9jvK\n",
       "5vDug7UPl1ICpMuad1G0uqqq2Rm5pDbjc/H8+Lfek//62K0D+lfgrEAqXslT/XVUAReZK6ODjL1N\n",
       "UzV42N0GJh50SXTxZ9665DsBQHsDVX3B94p9x6PqBTPZOeYjaFs0FvXkbaotrFTXMpN4pLWMbMsC\n",
       "dq85GSslQUT8Ss5GnHjq9DLkqFJGDy89nEScWuhIiD2ew6wENbt5NREVKuWnsvYmr2SlTBEL9xKK\n",
       "pBot0WhkZgM0BElXO/Ubrs8xtuWc/4j5fi8cBxHdBU5aqfUXyDnRTX3uW0nr0/gLU0oxTGVPihOG\n",
       "xU0Sd3LRDLYAIh7Zs4OO2hVNc1aPdmuOB+Un85Ch1utYRWTchomngjaow3qX9Yp8oxXy5nPlfwmi\n",
       "h5SRc4BPSKjGWT/S+E3WeT7rfyUZI0aOBeLl1RkFtuAZK+mERGX3sV50UK+NzizlfNTThPSBQcFw\n",
       "lZmf1y1TIZ2bLNM+Mnq1Wj5r7upGaeAXY/3YXww+x03prxJg1RNNCC8YSAbDzlomo3QY4C3AIQ68\n",
       "EsyDqiMl8IADyEUdv9yu+q/YkeyxXT3/DJ7YbJ7WnbQDX/ITRZZ0iKqgeIJfLEu6TdkEE23CWyIh\n",
       "tDYxlNV9+OQozIh8Ee32rmvvypaNBottF5J1hf6GD1BP7It/fhF0MdNE7v+tuA7zTwfgOmyJoaRU\n",
       "2SyLfr/kJsNdQqSnPtbhtdc3YkYcnMqsjn2ZOc9gFayUgul/an3BwToMqEaqblSVlMoj/chAo6L2\n",
       "ImqH6BXIYggegA94fmv/TQMJb+xpKgW9NJwrBMLTlwwgBWCEsJ91DyrQavoftPJgKbojMFFPMqa7\n",
       "SZQNWGlz7tzBOnDBXaWMVXlOJyhj0Xj+/XVZyBbsdDHNSIc8B8xOQ4plL59YMgoOYo9Ge7sB+Wss\n",
       "P/OHb+7nHEaiikZDq2Tp/Vk3p2Ye9yfoanRVY40u/Rx2SGtF31N2pRpug36Od1JxluWIZRxcbKt3\n",
       "2r3y21VcsI8SJ04hXuu/zRsEWdoGVWhE1J8E8SBxWGIc01L+n327bjDOd/nqZp+BYf5+1gPON0MT\n",
       "7Nfzh/skM5GMD9ZDJ+lOZAv6Gzr6E4oicRAb4n6JwTJeT5nyLeVp0JfeJQKhudLetRYD9bqKHFTw\n",
       "9WJwkSUu37YgJmYpKQbgkZ/VZ038IQTIvlNz7N4qZidXLWfHIdiXqECZYMdJVwUuohBe2Nf+e53M\n",
       "vK0R0r8FGzj8qz18EJqR9XREcFi+Rxh8l0+YqEny8Km7TdD2sWpEpUOXrbsYtmcRRekWTwyZXzG8\n",
       "1LXrgVDbzb81NcGOyLQE1g6Rx3HLFUshvml5hinvh0NC9GyFby35DulZo9317NOvOLFkXzPj5m6w\n",
       "53ywn7gp9dqkr0YKRb4zEwsygXpZt4Ep+2KncNR+KwRQQqOsQfpwsO4yJyyWaGBuPPlXrmYdNo23\n",
       "ttc2cOfWnBVKfV78TQGc2fs1VtfAbUzgsqnYDbJWJTfK/oFmCdYY9NTD5i93ncW5aI8NmjH4VWWh\n",
       "2rksjgWifz7Yg/5DUomXq9WQH1Sz2BcMbTpk3TnLYp/ZESNjgPQjnCMTb+otBm14CIabcQ/lJoIC\n",
       "Ilu3bzSsoN0LnZnsKZ28XQs6imp9yC1vghXv26WzgqqFkLmG9TJPiFcVzLZ9U3r2NLx2fgOMNzR0\n",
       "u2Vyy7g+grOozJ9lWNHSyY2HuNlCgbvBHwrWPsoAHBtW86S92AyLpDt9cwIbZVPCcppvTXw99pB4\n",
       "8loakeDcOdlI20nza+CbI3I+7XCZK2PpJm4J+s+Ov525eGSqiJUmwEIIDk5gQxFv0r7+bRpLLV6p\n",
       "oD+GCMCAlJNFvv8hFezplKIbA59zPfSmhRUOGEL1PNcezm4hPUC3WjJHAVD3xjaAdUTqYAqD0/bs\n",
       "0/rkgLvR0j8RW1s96wthbmbt3OJLEqX7XtUjw+Mi1LPo76IxUqBO6u3fg45kHJmoH6lZC2wKZ7ZA\n",
       "sMwdgFMm401B/ri49xi0rfY7ta88FSV+usKBP142khjatU5HF+xAkD1Z2sZbW4t6qvwArNAJxJfB\n",
       "ichc6WK0kvwyItovmkrkbKzbyy7+KlYBnzZWYHzBJf3lU94VRVPaTHlLNTzS0/1vSvSWNxPtuhfm\n",
       "1LdD/kYvqLe5fuHy0Jw63JI6w3BN5WdzzF6Y1wMXDvr+q7ruaq0v75JPQuXuSiAq3OG33b+sLMTL\n",
       "DN87+YBs6rRJgu16NQ/yz2cExStDOEjTr2CCUz82EcjFCMYyBea6KWnNNWDdhiRYe1ROmbqvqPeZ\n",
       "sBq3CQmnN+thDr+4RfUVD0jrruIUCCseNnqadMlGh+S32icqC88e+Sbf0GXbSbGqEkabVsn6GsTJ\n",
       "fsamEo2t+JDZqs9Jt16705tOlTs15WUHvXOiETWtrfnBbnVdBQj6Nliqwy+/VgYAFLuJ8hy8hF64\n",
       "QGPHnXK/kO6QV0tJUCLq8nm7zc0zpUAlce1rtuCASFpo5Cr714StiFvqdnefycHOQTJHpxmnXsre\n",
       "Ueghkf+QwonSv3DSlrMNUqB4Caf7YlP7XYePOgaEEepcTOgZG8chY2S3vuOzOQahO6wSUnSMyM8U\n",
       "mWnPmLJsR7J3F4jPY8VleascBk8TwSDbdKzhyUj5pR45gLgBkDZ9Ap+pourKTgyNhH8kUthHKo78\n",
       "3rC+LDJAPboIrjzq9xQW8RLyiQSW6Wi2aDvXzFcq2nefZI1QDqRiHrhW5gmFmYAOvZFPSAYh42Eb\n",
       "uVQTQ1lw1XXRfiB6QNElzb/iaXyxNB2j0cc31S6+hAbLmBO5cngL3pveAWyEm25rLTLT2Ip9kfOU\n",
       "glyptR52/BBaTvrG4K8vmBHKk6UlFmXnCcxW6WB8a1eYl1kuAxgjRrzIjkL7UKXqDBsVCER3AuqK\n",
       "IOn+SxA2mirkt6rbU8poFpvjWkpoqZ1/8m6VauV3CZP1Fhlkk3f+nxn9K2hN7RmHJu9zXUdxepik\n",
       "AtIzVcIDBSzNg80cuVMNQofwU0rQhPSl1frBceOpvGLlk8lsMsXk7vAk3sWXGhejYohH97d28JKB\n",
       "2W9gXLzSFcaOXrZvUvJ4rmgoSMprkGutZ/JJhgErX41EBnvhhRPgKE5V6ahnSn/qMdQ5S3awP1yl\n",
       "CXCagbek+fsLTwqOyVlXFqgGdPrLP189nnvo0tbIdVtXVRUnX8Tb3nV4169hePsghWEscl0JFubm\n",
       "79eeXEwZ4tB/hf26+7ncW7sfB4fFvVpKMrOYCSPSLzXxp8S0HFE+jCE6Wq0h6eszFR0Z6KiI1DYG\n",
       "QDnXb1ApD9yphmigc99pe+foz7XAMv9cT1cGsKca+riCv3F5JU6opPz6EyqCIodj0z93hXWBOE/C\n",
       "DTinPBW3+vT5kUC3RV/qMMmvqDnkmPwMIeE848x4sF7qzwvHc7oRge5ipvAEjNI8g7JvyFhWZomK\n",
       "L3Ekv9RZ7VtV1QaE0JWT6uQxStP+Y09KrtD47lbkAxeMXHuF6LirrQ/cC74eNGzdF+lNt9wpfW2v\n",
       "L249ZaBUByc8pgeFvEMtDEO48qA2VPgZqvotykUvMqGOm9OQ8nUlRT6ZtG0AKLhn87DAhGNKsPAB\n",
       "XJ9GTUSlHZ9QLTdirAwyn1ZRSYiBr0lUVE8b6YGIijIe0jHWi/PuHZjQBIo0u3007/PgX7Ed10lS\n",
       "W9KPqolD+Bs4We1J0SMl9RMtF7Q3/pCjqQ6ow4CPU78Ifh+S9chw6sl5kgpnSbOWJZHTOnc6YDiA\n",
       "OBbe5C9/7PWvsH8Ukbwrw/jKjfTZUF1EWrhHkdIGDvUMT46qaA4I3ySaERLXT/lkgezdxnlapAk3\n",
       "1Otq+E2345kV+bedl7EjkIxtRniu8nf5yLH2hOLQ/FZwgubN0Xp4V4L6WgA/waQhoYP7bmC2kgNs\n",
       "WpxvYzbB6Xfdcjms+UTzUJW96a+sp59iCMSg3Kd2UEBmpFYx6p9PIKBoEw2quA7An+9Dq4pEfUUY\n",
       "g5IiIbzhMKQUbtYJ4LJCRqMBB7JoLjB61nZPxwKwOhtCcbBeaEWo4wnNuHho/wgls7D4BTq+dEwo\n",
       "VdmWoaBcA66Sf3d+5sAT65tiMc0yCcHgj+VHuZ90GTdvbsAqyNTC5l3is/lm0b0x2W4eILor552o\n",
       "4jvhNiqN7k4e6p5ytSD1FTjhr1l2bgNb1ei7bImrEccfR7b7cFYKfwkPUgHu4Po7TDVMQK6meWzS\n",
       "bH78jm76kDDoep/q/ghMIDO2nb+BasUrblQ+lvL/TceKW6V0tPC+vueW3ScQqWuCC0lfbrCq8pVC\n",
       "M1Dp0LOl4gT06di9Wz/G30p+vgf+WYdyO6vxFadbPdgLIz0mvg52H3YSiawzwBN66l7uAHGEwyxd\n",
       "vflmqbvcy10oBMROj/gzkMex3s83ZBrAF7fHqr72mcyLRFxAHEftrnZaadlk+NdoF7ka4bTJe9X4\n",
       "dQStcYXkrGEuKgvz6ScOH09DOkjOeMOwR8TuP6RpN4erN7VAoEi0aP/I4u1H2IGJ2FOATDL37upU\n",
       "s/4gIoP7y2XekBTVMsuFNVJAdmpKBN+ida5FlChW69WXEOup5O8xe/nV2kT7QS5P3mmxsUsAnIqt\n",
       "aphpsKSOZJshAo3/lZSlKeityYkrzW/yonXlx+oJO8U0y9dH+FeGW/rOKJ6DufaPgSvMp4UsZoRY\n",
       "zq+Ulp8wxkcel5gdiwK+5CknlilUo1fPh455Xze5VNXFGpBN198UIlPNBYeY8Os/hfASnkTsKW7n\n",
       "bvJJdtJGLtzqooyL+V+/8MWnMcDFzz0emJtTk+ZBD1moJMgDz3SSvym7pRQPEhYja/LrYChI7TgJ\n",
       "Yw0jrNpqOlLReSXZMHeBCxXbW7FalHzAmtbRbNpr2d9LQrU142iELZQrNd4+Odiq6hsYoXubJwUY\n",
       "SQPtnu9WrYNsUPjfjH2PnFtE3IVmIe8ykXGAQnU418i6pm/6T/NDgvTbOZw7hJMgcIiUmZLhazHA\n",
       "fQLF6Z21HZ1fVYtQqDohhN00w1S+H1wLe8dIOReX0duuq+XUuheAO8WmaedHaf6OpXLOcCqzrv4n\n",
       "3BwsqvxX0z5G5ctEI+wwzRWacdwxmP7RWVb58hOG249NRakpTSdGklljTH1prxweZK14H5frxOQp\n",
       "DrNvIBfMaHV5GtC0Ln2VT1ec608lOCjxAAAKa0GeT0URPBD/AAADAJDguQmdLOgAL3UJzQhcFQkh\n",
       "rsdeOgW2Q3KjkZvYgyJVOaFhp2H4WVIV7so9HmsH5a90216xTFSilrBonKluKHJlgdwV1t9XTv9k\n",
       "dS6qVmF5ERICn+iZApopy5GkZuU5vPWFkdZh5QZAOqHTdywVeU/HPBcN5V3S0QKKmAL3DtRV1LJI\n",
       "o6DY6J3Gz+s1ObtC51PEF/7T6Ibql3ns6Ghy3Lb+GSxw2If8ED1rdjcwJcEn7tnO+muNZMM8S+dH\n",
       "h8v2Xy7oFnypdDmn4JUqS83LQz4P5RZPPcyBX2er1NtaosgcZMyJke/ehElU5HQZ1BW29YTqh2QG\n",
       "9TiH1lpP8WbgrvY1p4QU+NgxnbM8DdNH5G+h7Pjwp23ML8Mv9ZFEgpYKauyrVDTA8m7vJjQ7BhTR\n",
       "VK/eQSJ69JO9es/+eecUc2Hw3o5FdBIstMSOtgzFq8FGVDg4EuLVzpaPHzYlyUxXc+WtJWkGKRWo\n",
       "hqe5l2sC+pqROBH/WawcFXizOeeBZy4ucu8StVwp1U7AT7wkGwJWh+hIiDSGKmnL72ZQBx8FcR53\n",
       "aiexiQreUeqyfmzgw/a98rdmDE8gLw5xCV1K1kdwsTckvzjTLTxZUXmWfCnzoxACo0AMwqIGCkXF\n",
       "7ILNsAz0HvfY6j4eUtpSkdabqRsIioaID7S/v6AxPNq+XxaDa1asM6bB74kzCBIlSeDaZFAQ4u9q\n",
       "MDnr8Bo2sM3g0LCnLLsZWOxDEyzsdkyxx9kZrzVSutuDbbCItzKa19jHVwliVIl3RDJ6YSvj9K0v\n",
       "/43wNpE8SQET0XLzLvLAcw+GQ337K8oRzrjiZTE5t8WhbAou7PuYxXx2d2wbDlvV5rtf/4cjZISV\n",
       "vzHFuWGUnTbCx1j1uVcijNBWdX0hsYs0P4EdFVhoqpRU6OhoFsVOgM4r9pUKJ4ajaomtjgZ+I9Nt\n",
       "YsJW3h/GdSFMJA+NYC4sB1+Hnv2MgYtdI3AEghr7RM/v7o4ZSFrKVz0+iyh9ENUiKddhAsnUOsUp\n",
       "u9o6quiw1+4RMKqhdzAtbsxLfAFwaq/vCkvgpovZ29NrH9ENpFRTAYiCCAX91p1veqoqxBk+yF0p\n",
       "H7HC3CoxEMGgnNmxsEjq3SiJF78E3tLLZxBVrqkSLxxMPx7++A6Y6ktOdzoWzjyJu/lsVoJJ3UHN\n",
       "hz3dtB/LYY1f+qF2iBl81gmlWyjD7xfo2Du7mILHC5AJMcuZ6OPuUvMzQVJ1UG7cfVrlqZdiDwmt\n",
       "YcYVBbtA7cUBmeHRPcD2BBO+SywuqB0/SDXfpEzSXzQJ2GYfczNZoQiuz1Qp0foXhCinUAHjvaQq\n",
       "fSZyW/obxX1xn141sua3X/cz8cxtAQgfIHKfn/guVKw/4nm/S6gr32JryeIvT1fWtyD9QkpvKAQT\n",
       "/JQQf0SvAzTZN2Yeft/vdzLiqCNi7dB+84qzt5x4i7oXiyVGqBDF+xZSrKlL9g8ip89zLbf5jDUh\n",
       "63j51dR5x/9dMdPi3q3ceRuoM8OZX4drxB3Hxlr6oE5Ffh9ybR4okcMopDkxTYMioWAIDbwn/OOi\n",
       "KtkMjfQHB/4e52ljMGL1t8S/r9PRE3bjBHrBlU8DljBbL5PDe30eZ/P9uc95sRj/vsrnhCmh6i/n\n",
       "wd1hlGC9T2IvNFp1BJdpIgmoEkOAcMTkp6WAQZn9iZvhIcoKlGcbZU97hGNPVvYj+AcTMgWtDVkd\n",
       "eYKC7MPYMc7oGYmmdG6F2gAqKJ9ssJgdV+hrbFcTqorb0VI47qKGEzq85iIj39vcwOyOFgs4ninE\n",
       "1XVuzve5rYR+uXoVD01YYh0P2Uxu+YFXKZ+Td6jnt4rA1qLzJ3wB92yB2j0tMISOI+quRaEVfa2R\n",
       "jp1YsJ3Nz8ZZDqt7s074uAEEMGKbsEnJIsvbAW9gRHAdnbHeMYAioLV2hzNNlDub1/L9Z21BCJL7\n",
       "sOKFgajBPouadwzWqdQBHo6hxJt0gcgjKs19VcWRTjDEWArgWGLHMuNFrZmFo0YF2mxgRG6DV3R/\n",
       "wECZNhpBjmt6QPOcQi+BtwJ4tm9sHKkoHHoYXdrGY38T5Wa4dk2MbYZWCTIy8lfWVYAKTwPEMwHa\n",
       "MbszDFTXA8wo9XGkR36IOCxWr4T2MLHF3FPG4OzQ47piYsXBsGcRQR9xjLg6UZ4tpJcVa20TGKbW\n",
       "HX1RmFQPMqpYXmONlvdNyCPQY7DkICBsOkiMOOMAYj/NIY7d/F6vTTmiw1LQlnWw6WqsBPlYa5Ks\n",
       "W9LQkv8/uz4BB1UCnXDg937roRJFWVFWDydFk5yhz+3+VveUA7iz0Jtg8r0kP19p83QbHDzcqT99\n",
       "9D93E5oUyX/p66EJYPKnKie9wtuc/TT48s29F6lEDfIf6rmS8BgMnK+a2VFyOX9jWUhAUQ1X0CHt\n",
       "5X/FIDOQUevy89fjzhSLY0V8vKl9nk6W5FD5/6hQ2UoLzxNGh/kgn9yfpB2clj+n41YDWZahnluo\n",
       "udC/WmU82AC8oGdQHB5gJRUtZU9fL61E1kHhueRhfoHGIic9Zai1OVVRxSUgZ6Mrx3uYtTmJyMDL\n",
       "cHdoUgkYTLFH4kAzxwmwp0dl7or//w3z/CwFKbqO1ZzO/jmKJ2ZcyAnOdwOLMuN7TB7xNKGpk11e\n",
       "vktTWEnnEBiC83lGy3Tu4tYOQ1U8B/flwdD2E+HcJofi0eFcnsqwMDdOSt6h2hZHF3q46+X3kSIf\n",
       "royhI6Rwc8dUjEFxQLKD31h4djvaERGqokuTVmhMxYyvgNKlQogPzLhYJKOmSkkBgfx/OsFLoKax\n",
       "Hcu0iUhZuShAyXl9uksv6OWrI8Ufda6dPmO8Ki+Z7VQEzYahAqqmVlS4zKruSillWqy283bDt/Nl\n",
       "IxH1tOL1VMaVlxzz0l+moldEGIjGbWbk8d0hxHz2ogV9xsvBz3TOxwGQ03LE61j+P0UQ/Uln98v4\n",
       "9y73sRFf9Ljp3JryOu+AbeY1lfeLjE6ZUFWyoeLeqQstf0M8lMN5fzCLXCrrdy3Ds0Xj36NhtPNg\n",
       "npU896JI+PM3f7ybwYKhJpmSKEtTVIfxo1295VS5WxDuOV/9qO/0WYpcjjLxo6rC2YpLDGO+5vr8\n",
       "vcELv2OxuS6GWHJDn0zu8IThlPIzz0tu8W2rZ+6LYHVD9skuZMPdDXueiWlvyqD3Q1ss6j79nYVr\n",
       "x8rax1YO71L33JZeNjfopuDzgcU6BVKWZo5XpBu05ar2EG4oXcF5/Czh+0f5Q4nhRTN2YcGVCJl7\n",
       "gIMECwfs4GzkKhMUXD8BD2r8mPfMjX0ONhgzbI+gVil6T4szFK7CMXZJshHTIYrN3VtEKB0lyZlm\n",
       "7+z7A+og8/Zysp0OxHTXeOGApVGM4vRbVJvKtWMvMa77dzgEa3t6xOVdwyo4udWyAEUfqb6D/uQz\n",
       "wNKTBH9kyJERDmwpg5RT3mhq92frSg61qEXtEMu5W4TPaa5GjLVGbNPKP4yhUMoh4nnWTSJLzw5r\n",
       "/56kJh+R29ZmLMqcGndkXmV3YOv24PX83sFgaBB+KkDPnSKWEYVJfYev7EtTvKoO72XuGt/JWzXZ\n",
       "GcvJc6gf3DfTIG9OtAAB3QAACBYBnm50Q/8AAA4muRzju4yzeTjagA2qv2leDno3vu454hCtxxcL\n",
       "qF8nmmMWN6de6o2E05FVVf9HWrppQSDXRKKumfadcPdnf73ABXjGxOHL54imunt217uVvDRoz7zh\n",
       "Nt2bLcCPscA8x/3ezpRKHlIX1oyf8ndbMRHplEFS4/rF8J/XJMHRGOLWjuJQ9lvzkDjV697Z2vRB\n",
       "mWbpWO+Qjz/tMFBopLMVvdMzmlqfZazTnenRxF+OpXG2jZ4wv0G55jFTVkBYUaDM5YAPBs6eHrV9\n",
       "NH1Rn3tl5RoYz1h1EKW5gOo6PX2TIAZmdxRmjnktaXXIlje97EUppOD4M5lBENaI12XV88BCt14Z\n",
       "2+ww8Madgw1OHwTd6HJS1KOmCr9yVreH+eZwH3hqXi/hcnKQyIIwapHZCzya1qBkwsfvUbgfhkLS\n",
       "ztXzCmWwYa+I8x6vbygtO0ItO+flSHwdsJrq15w6R6pXTcRTgwF8wi6dXyW7Q5Io28LGnyR7laE9\n",
       "hFudeDHrqiNPgcpWaDWZYaHh78TEzW4k2hzfO1wOMDUZvO+opKijq85vlcWc1INgXd/R9R9xUWb4\n",
       "rJ8nmVfvbdNQG6ALIxDKwfLnt0FCEMA8jq9+u1gnWOWVmnTUKZH90ayBZYCHtQ/XvJFAUff9D6iB\n",
       "385Navr8179yGdkbOSoo8yzrulZjW6zVbtCAtGwzonsqAf+OJS2LaD5sa3qMpqog3UASiAKHPIf4\n",
       "4FOB9qu5suJ0e2yCr42CsJ2K+bze7YnP5nlWvu8bHB/uToxr/yMQJs3bRpfjcWABCmj9ycYDKdsG\n",
       "WzZ/2O1B3aOC54e6ZJga7YzznpAmBvlRSDC8vzou6AnZqaezOsV6alq4JIyOxa89g9xj37KE2bdW\n",
       "NC2vD2CmAMdNRB5DYxMoTMCxdxw7Xaa4s4GaMlkJtyArd+hIn4eoXXcevuskLFdNMLY1J2UcISOF\n",
       "Wiyu2a1YDSRW3nOH32Q/5C/PEV3s35WcqpGAv8JWo8LbzBlSaQhnpe3DUrFn7rzaffOrnUCTJ+4z\n",
       "EHZIlB8SpOnyW7DYMQluKuyh7wHeAryQmeywLh5aPvQoUPMdJy/anw6sRKfunfJobKoYEGW6zsC+\n",
       "lQcC3ipeKQD0axTXbcoc2AAngl0ZTycSmouvBQotaktA7YDCAcmNloi73pGYUZ+/ZSdPbuAVr1WG\n",
       "ft5S+rwxaoGObm9iPBMnl1ogzkroHN956GSo2A/BVy8lHI6KyY5vR3/EnvdAWgSaGutjxxLnUa05\n",
       "wi8LDWsaRVWJ04sKSTQ+D/pisOp4U9C/79Wh0NTGnh1FYoNeY89HRSPKv05A4JGE3gDLqHa1Xw/3\n",
       "6sg2cgw3Vc0H/hlcp5i15c6YF4oew0k85oNJONth8KPMCBVWDKoSY7ji26dexithRW7gwyuWHcjx\n",
       "LWp/jp+FHY7s9S5FZxClyoRwWOn/0SeielpIW8N1oMHnex53ubH7XwmkmPnqZ+J2Yt9x2mNrAjLK\n",
       "PQ1VB+E8sMPWYrAuj+GejSfxBjags/rAGA+6/2ZeD2qTo+n6Fquui8wMX1llLSAMxGzMAGHlwZHP\n",
       "sIeyVJLz7kjzvG67iGln/wSnGBYiSE4WwCCRAAqG/9GaIkeieAsb0lKVBS4mKePXHaJUTv6127Yo\n",
       "gl3mlKSqZ7+DEAZem1k3LNd4UC/DQUQJ/cjv8ixMTsf0GXGZvRQhyA8Q8Yehn7LekHfB+vp/JLzA\n",
       "0BBG/RQ81CpDaBDX3mrsenQO9SuCyA/uSIPea2kSsSk8c2iCiy6ZRfJAQIfIIRNKtwJ2lvZet+x/\n",
       "iCLb25D9155reTvQInVuDULhC/9RlvS9u+Phbs/LSYuh48JBwGsviFKAQ8b9GieKUZTdh0e4ECyB\n",
       "0gEN0PwE/NhDOACmRHtYY+zT5d6Fv02URVPH1EAbKGdsiSTDO9krvR0HG3hKA3D1DulfPLMpZWwS\n",
       "S2HJr36u8p/PP/3MEFb4AUPY8yd0gBtgAWpvV4qbKpAc49oBwwnjDH1VcfQlpUVP+MvEM48g9RnW\n",
       "zoStHKIGJ0oDl/4FqDhhGepGYrsuE7Jq2jo0zO+N89E23N8y3jHl45txW9uPoYgaIXCHfrTycbqA\n",
       "EVQpjXH/BUUJNeUjsQgs/yQ4DKjEjoxV0iXBqfW90i9Jdkv8eTlQnMukESG6cRtabe2ERdx0WrHJ\n",
       "zViNQU3cXuO79Y4UJzJEMvL7mAfpNnN3Y+cdDAF2u2n79cmJkHD4ulVyYN40v/UPizhnhb6trPcw\n",
       "kfCCTuShsv5kuO8NXLV2oYztFRJdeIM9yvnlT8aY0OPOHlhAmfLXyK2EHFL/bGAbE6KXvSg4c9LH\n",
       "Caq7o8jwdyBmhLSv4FLmJow3kP1OLzmwYdIaoKrJPobgwiWyF2ZFCU+/r/5BfkDUiK3NH00+42qr\n",
       "nGlIE5uca8kiLTSKg3lEacSXWX8Qmry5ep25R8f5bCjizVFPtQxPRJs4WZN9P7H2CJACccol+j/t\n",
       "H2zoO91LN4qv/aeq5jAs/2f/zpKk8npEdIYtk3ZhcwPvzcLwczZbgfShGByI0PNT91s+/RDXRZep\n",
       "qdA8X8CjQMSLnldk1uP7Vor1u6yWNVXhF5u9oeD/Q7dRDrYW3yiGsSxpJdZoWhQTmgdKXLck0G/y\n",
       "3fHiTeMV44tKB/r/JuUkFtTLZKdW3FY6zyqdbwOADcPnZuRB0oOVfQAZdOX/CslFdLlkvpeEitc6\n",
       "KyQHL2g4AHK5akP52Z1NKUNkp3ZjHQSs3ohGWiF4aBIMYywAAxYAAAofAZ5wakP/AAADAULawq0F\n",
       "c2t0AGb9kRSsyUGsSWIQm4FQFuSNzFZcaKpb8qAp43tVLvzzQpBm6I8XFM8iDSUA//MYGy9Fd+P8\n",
       "zTfMT43Hs1JQy8rjo5BgsnErj2PEG1zHSIRUBuztaSf9hjYd4F7B0u8V7guDmnb6tsiCd2OR98CS\n",
       "q3zyhdqOxGo03xruPufbR/4HNa5sLOFMf1qz8IIPOlF226CHBh1v76G/+qbRjzdniLozsT8VSP9W\n",
       "+WjpF4x/cX5z+H/4GI3hFw/oFjn4HPzQ3K4mTzW7vf971aND1H0T+rAgXVQ8PRBLx/h/KJ+YxjOx\n",
       "Ps1jCQGkmHP7Qby3MGreWnZ36YUNmhYAPbY3ErE9JpmEteh6W8LJpl417MKEOLyHagilye53EbaJ\n",
       "qDO+JKOhSieGbNYI/mVXaa5VX+brWpkvCNoJ2MrJuBUjG+o1N7gc8XlofFB8HfnFcX32csfVT7ek\n",
       "dqbT9+1WPVllrAXbGrtW21aPqIOBD8UDu6E47ytJ1L3XGSiv7J7lTG0fJQR9TACWvqq5/3sVR55o\n",
       "galXaPG2zj9zKMBmzaHVEu/lYLwRXKCz+j/QTtUNfmXg3kVQzSQmVWc/t6sfWmMtyEsfo17m9G8a\n",
       "3dxPS2wCl0UdX520cZwp1l8zFvUAGcYixdYcQtwQqrAZWmRcaBOuDBWh1fnp4CIKg0R6F6ZH716D\n",
       "XfWx/4mDv2bLO7YXnS1YGdOk5e5iQIgvWl00AwTJXrRdqBIABDYYEpqUodiIAbKcMK290a6BM40K\n",
       "hFQRO6F+6D2N1Z2YeuigvnjdY4eqKZDGmlejAV3bePJY6mymxZCeMpXWdYyjSLG9+sra7U5JYyuS\n",
       "KsNX2ynssCDaJx1HICF1JXbOFWQoLTN1ac4Qz/fGgtWzEOy9iTVdxSiLsWoh3wLjBRnt3gEb019x\n",
       "wNlKXOC0jKdwasKtTR2WrlsPEoXFAA0cinXh06PX1qIpR2AIt2TCfxJD/jnUhhRYafm21dDpVQuE\n",
       "/tDxte2hiFu84EJ4Z16gzrXCx5U9AIOuGrK4dZpvSSz1sgqmwEgT9K9n1jJKruvqT/VAmceY8t4S\n",
       "a0C9WLCfudWql+qfcISXzPHYIZsmexHS1PLCqCKm0O5JYtjnTBpyOaQg220gTxQBPhw5nOyo6f3U\n",
       "NQioTVRiB+fciuAbkKTeIVy9qYxWQqxvQF7M/iQI4pjVw93d7s4l8pqc+Bhz2IY0jHx+lvQSUKC1\n",
       "S0gQPGO54pTZBZAFYOkJsusuj1QiTmAkr7tix7Lx7wxoJrVbLAVbL+K9F0++BO4/Yx3guWq29HeG\n",
       "0bA5yy6GBLujDc1Sz4qDppc9j7APUOpg0EqQRCVFxLBMlgE2tBL/zENX7Vu6FqajtcELn7N1fC07\n",
       "1+em2PVXzdx78Nz+L+dy6jgdOzsllsOuNpl7Aulyy10FXUSDP95zpwgQQOEM+658laVWGEBZZsi8\n",
       "oRvEcNRzIZcg8dQgmxNrkH4Ftj+lCMhSHRzPqAAHsP3rcqMkm/Yb1uB+EIf2HB40xWxQILmnmk/x\n",
       "1RECSz6D/NniR48gLXn80AeGHsZgscpsayqwtXntMIWdQeBjbQdPA+37EzPy8ZVFgq0TvaZMwA9e\n",
       "qRfr31qoFZDVzg112Uo0tbgqIdOqOn6Z3rk9cLbZQ60BPMJwusXWjQiKl4BbwJTSzJvTUJeUzeWf\n",
       "7jLmcieE2eAwDhHyr0VERHyxboDgOVz1Gyo8R7yk4mB+QXtLk1+rNyRYOqnMwrh/hMqBXYCx3rFM\n",
       "jUpMLqZEzJoYfdO6zZ+X5SJ3fVxgzWt0uzDvZ6nPfpJK/1fKwWC7l2+1RQvfklQY3UjJP7HnI0kZ\n",
       "H2IfypRKvBmLZXfN7LJf0V5VAsmlw3uvZuQVMqjezNa0dIacffYxI8MPFIbY5/BGNATR6ZdAr3SP\n",
       "B1hNu8zqfBZTucUqWU6Lt++jYxbRO5My7wcuH4TaVRjvjBCZke09uTz0iDeIQROlyHl/A5XziMKY\n",
       "UHQEAo6mMPx5k2IUB73HD932iNDBlqk50disCmG56l6DbNlGF1KQHmXqzdYXfVI9JvUch/7YKCZr\n",
       "XM3Ge3Z02jEXAW0jps3wws/gDFCp+D4/kSsFluEpZSwvrsDvtGtM7C6y9x4LoNz0+tGXwnVGUPnY\n",
       "x9q5Bbc9niPyuQNxR4FDXixnKxxl/mXrLRhxyz4DpttBJpYF6Upa0h7n6yAeF0+cVp5kYsJ9yhM1\n",
       "jeiimP/3vc5cK4oKTc8Ql60KyIQQJDMsFo5uRQvnhhJn7INWSfDdsjyI9UqMlXwl6+g0//lYovby\n",
       "2B8ONlsg/yGU9EkRXK6ccXuJZ2aaFgX+1/bEV048p13F/77Bx1Afe69Cp/oGEz8e8hIYUCF5WMmW\n",
       "eBGIWUpWyUg72Mw9indJDuKA5vAAL9s7BL51/G8G1K0DeXrLRZ/7NqzhEOaLD32HPvmrcnm8Nji6\n",
       "2Du6KWbiJ0rv7XjSJnPS4SWTTQFhSp5Xm6zjYftGcBw7vBDPumlX38DVAi8pablgC6yArXgzInZg\n",
       "+Dh0mdi7weqi0ZIuaWl+ED+GfGrjhSjqEJWqZCyKeC1QAuFXPyNJtAP/2MUwfxshicI4gRwNn5zj\n",
       "ooSPFThtHBhFvsUUocCQKup78Br0puwuEeWaN5m9Z1qjbcKxFf87eEQuNecIWjcojmsPzqGJzk7t\n",
       "Iwci6FiuSNoBGHVGfAAoD7itYd2ivBNeaDX+nUU57SzMGBdD9WeP1NsTq8ABkDv/ohNYlddzI5eL\n",
       "3FMqDU+b8M6u3Qj+8UXnIeKRhU3OTuG7JhC8OwhbfmU0/8TqHuwuEFP/E4qfkc3v7resz4aV0Sij\n",
       "d0fbnf71U6Smn0gzdMwHlC6j1Lg7VIA+UwI818YO4aBM0wN1uzlAXPawvoCgUFHnzSmKey6mfInH\n",
       "amE7hHMylXAMD2yYpd08M0mKTMUEDrnEU4wCs4VGIS8BQPrs62YtNC2a1Mv7hbXC6h5a7HeDvhJA\n",
       "wSWsV/MqoI2uGkzZajCNkKqwPRppPBajZk/r780/yLHG2fvtLK++t++ZWFDnXTscP0Rb9ojspcQK\n",
       "7Pg8gA8tqmXy1/HDaMh88UEsBtZvCGC+MrdqC62Ai+w632AHL6cL4uspviJBvmk7jJD/vrt6Je88\n",
       "9RqTW55SuX9NDOojP3tYLhrrCtml8G9GRHUmeFMel8zwrnGumuCS9lCumhEtThaPu1QsItO6k524\n",
       "d0Wh35PbaLv/07ajctubhVdb97T/PBx2JcTJHC+TTb23kFhSrQBtscg5B+62MZxJVwXFFzXu0prq\n",
       "tthrbZZbe1lYxiyJSwzMK/h3ZsQglj3opTGVjFgscwALXL5HzFu9LvUDUYEdiPATwKX4jN0ODrXl\n",
       "faUTV62iKnlSABeLRde59LrXMCNzCbUGtEAZCQ3397Af2nWpfP19oXtEnlKeDRQhTKArk7P3hTD1\n",
       "shIihmwV3FQAAUEAAAzgQZpySahBaJlMCCX//rUqgAAAd0rxPeSh4fsALY/SxgCNkyYf0qkHv0jb\n",
       "T+OtWtUyUoe+kK7MbP0xJM7OpPYEP3tjKf4UX9/jMglJmeGmqzi/ruhvv1eW2IDXqLTsE+QiRzbg\n",
       "Jr978QcHAU+q60JLko2qECJeQ1Rk+81jqFeFSqN6C1KqCtGIXMBCpnHqhsjIF8ReuMBMLOy6ZEDX\n",
       "UGxA5lQobnzHU4m4vuZkXhw//7nZe3F/3//vKOOUZPv+NWXRt//30XndMN9djtgGpYncQ6xTKPAy\n",
       "s5ektaGW12Klvycc1hrMctYWcXIp7TT51V4VjKAHiFwSDK2xaQFLGZBlb38Cp4rFXW2X3DGtGxDO\n",
       "Lc9isLcOgl6a12bFxAe/Jck/1xJownC0U6JrgGxF6exvfkTYj1WKb5O9uFDyPuPc7mYHDuvb0DhF\n",
       "w+ao2Cu4c5aOiq3gU5q6RMfQFA+VUHuv4xfGfXFxJXL6gYCeejMD6St1u88rjOn7uq7pmK0AYXXB\n",
       "VLLT/OEXRoA3/45j3jmDFz1YcHyRSe7ZCDMITCbJN/MPxf6L6I0FgoVFd9J8qOkMueNZ7uNbtujw\n",
       "NRqk8epkgycIAGzM0d+Cq/N5/n9HdvtUwN8MhOIrFg19PZjoaNv+dwn7fS5UP4XyupLU/qUWNslr\n",
       "dTs0i1j5GIqwz4w8UN/zogD+CKwYgRaNQmMl2aOxEICEkmvXq3G8mN+Zkc3taQh4OGTWrvvfike8\n",
       "rG/dQVtv3Q6WQxctvjpMDsjvphR2bjSP0r14bU5XQp79LDUk8H5cYEzHUuh7OOp/5tcRYye9FD7S\n",
       "7KfuR5XgHro+NdTe+SYzDyWC8ysfKJw54RSWQNMhZw1YjAQRGIVl4p4OM2VRI33CyIFfvFRnPEiT\n",
       "82j3kKvtDI1dtoXzm2yhNNGHgIjGRwZdDSUBbiSgF0jB9ZsWqbTvgM50IO4lRzSl6uWU9MEXXAa9\n",
       "OSNC72POaFgkxASxxokH8Uoep+jTEAtxGAHJ9GO5azkqTguZMJqqlIYaQt6NuXSWX1qwBrFMDzLX\n",
       "upLueBVWJVRJUdbk6/Yaciq4RJjso6mQFe59ENYuy4+MBtV46Ty2Nt0irHFVP1/zy5wTCzaIE4K5\n",
       "XtJp6s44oCM+8SszMIS2V8IxHedvtbDzGrfp3UOtCFAR2+bCp0OF/9rd9j+7ry00T4popk2uVY3o\n",
       "5TkcY8wk58GErfyJVulB/bRS+x+6IqFWZ8bP9eq96KP9FApy3yQXt3UnijN9XhUZRJ97sP0w5412\n",
       "KjrqCn16o3pcKZHvhemXVKUbVD5imfD4D0wxjPOC6gW7gpxQkJ3odPFFPZ5GnT4ciNlNuGLdBP01\n",
       "QVq+m9zrc6+F6rXYPRaqPuDhxZ/QCwnliOq2ZI2rQhbeKKQwAe2QexESBGSLH7nH9LFvqnCWrCpN\n",
       "8lI33IuuId4uG3OUFCtzcUctrOFAn+gtK1acjkW/jmPXNbulhpZJdygApEYJQh93jshaxj/OX2Cy\n",
       "07BbWDv3ot1kDqdp4+oRN/I0r+gc3qOwNZdhW2jiH//FsFKtwK66IyLYMKy6AX/rq3hvCCkQI03V\n",
       "jg4ZJTxgjaJdlVTyP8DpNc/ELzSkhXI4AkfdG78zml6LitrbXGCnVSo4f608aF+q2Xus7DiY7GpJ\n",
       "2yM0azc3dmdO159A360l+9JwHsejcsWwXc+Hs5RJ+NKmnBay7vz7gBtTs+YRaIbJR2nDFpSMZP4w\n",
       "Cm2cQat7GLeihh7N1eEfoIrSWh93D1AbjfqQHawANRiQlSvUwObbk2dPSNXyrvpSDqR4JcEecjlV\n",
       "1WObel3gIWPqGdJBmWdqK3vwVduFs0fdUZszdNmM0a6CjXmKU0Fx6Axu1TVtZTGEp3KsrnJeKSPx\n",
       "VY5NDryV6kmSIW72UEmapLlF2xXAIUNo7II6ZvEfEXQiCbKWERFr6eniEoc+oms5oRIFgPBcnqLP\n",
       "4AEgck2ysGjmVMaMCU+WOwB1B5IpOfcjz2MU/0ShcImpZ4blPBcW6JBNBiGJN1ImEvsMwkne+QKQ\n",
       "tu9TYNAm3/utIEVS+zWYZG2UPKGDRGpoIn5sMzPm4jlmDEv4zz0csz3erxPV3wOTHUj/xxqLTQVv\n",
       "l0YLbmanYjr1x95mUXc8qRIVMidh4tsQgHUpJmNepHIz2JftpWsOdVT1ErUinuRzmIDpP1MuAnAz\n",
       "omYEMFapLGghW7LfRrK4bjr0wXJMEi0gDat0TdPS/Pq+aKSzAw34W9rHJTIAA5TlaGGKwVzaXkGF\n",
       "a8db13jmr/j3YYl2RGVXr/j/4vD14bejTvulIoEDSrNIod3Xum0gr25QKP/IJ9ImL/94RVZWFWCT\n",
       "0f/OxEufofpaDHoVU8gdYELm+HjWzgModN3U8rcAwRhzORqvSvYADPsNbU1sZ3Ed+zZ56vOJW2f9\n",
       "UL1DnzSebxOF6IwXK+Oo4BNnbZCOZh4GVq5lX33HKs94lVc1pBfOQEgCgb4CwS7l0fNTulSW79kA\n",
       "00xiq53J6hmJCDdFd9t6Lu8u4JSbRTya1wtPyETPazOR44Cred2kTl2MYXIOS0gfMCZmWUujZEu+\n",
       "LijKaKDwH7mPeY8f2fCqZ+UDEOh0uExqHdsQznMbw7aMnjG7fP2iFSCysgoypnfyhu+01XTg62Cx\n",
       "wHqu2Be+GHlI75qdDC4xjtX7gejDiIf8GalkKJ8XOMr220n86L3B19c9cE3DM58r+63a8o6tUxNP\n",
       "hq89rdHeSnuyBKZpuf1U71GfxpiFGEJUrGkegQs6o8HlrN6sW3YLOGeOlg9O1Nm6PwHgNXltKUxw\n",
       "LkkiLb94HBKWGRIctRftD+g/weliLU81/QFwci74X0Va6kvgcz2uBWtYf7H5HgBdmS3hV0Xrxkt1\n",
       "Gk9I0idn3WeVscd8jlPcvONkUKdUt7zFRZnMMn6zqn6Pbr7ZNJ1htVXfnfMw1bAddNAk1dVUNKR2\n",
       "6RNvzRQpuQvEoI7jD+E0gSux/w53l1YL/AceknB+5C/8/o/ywCScE9XXlIna5D8Xq3BMJkedwGTW\n",
       "+Ur1BvjsYnHaRlHEsxIPBBk6fjZkQ2W9oTQMR0vRX5ye+9c5CMkI6QAlcBHpqLKvhkTMGC8vJ4Ut\n",
       "9NyWY50KwcrRsD63u6TdoNNKEEeme0NmizE16kyPS/EeHLJKdcYv5HYOqGOPmCZDCLRPt06YxMzS\n",
       "xV5DdIV3Zf1G4kA22JP2SXgmLareDBI0KhqGapfgiertPBRmdoPV7NVMMg4W58z0tJVnR2bP3sYf\n",
       "9VZL0S3O6ayfi4CY8d998ChkRX0vQtoCKKi0uifFkeMGS+erhvPhb/oANLJ4VbPikI2Yjum7d98m\n",
       "dOEmrV/GZaf5S86uy0C6THrAqMRZzkJfLVZJr6uMb/zpJ+/GdWYUZwctllJAIcIo/ixnPlN0TddP\n",
       "kyP7d95espdNiTXgwvCh31h2mfK1EmbfVR++5rI1FLSRd0HZ1/WW0Abl0o37UIJw504/pVFxnA4H\n",
       "mUlErelrrjTRqA3JUkMXIPbqvlGuFrRdPaEo54rOHtoPpox++V6grydrsOS8oqPJLj8YSUIlT3t4\n",
       "/r61ads8+BGOBhHti+lFwPO5D2uSJ4GJC2rfr0tGCRG1b4CH+sBHyFAt8GL+Dca8UuDPJ03cnmMs\n",
       "othV8fdIlTEkeTeN9idVU/moUd78Iir9WqVcOikIMG57suc0M2FhfYEwJuMUDm+Mppg4B4lnwD2m\n",
       "aVlJQCJCpFeOqxKVoOJkRtKPXfcJee5TojHgaYG3lUS4qWkb5OCJRCEOLlZeVBAiDFSstvQDJZrM\n",
       "NcZA+lVTNOYozSc7FQqWNoiplGJSpghmds2OGo2Rxbh2KZZ7HzCZIJfUECr4edRh16YOAZxaAw24\n",
       "y0+j/sMN5YZOP+14+9lGBT4BYnNtNmNpLkHPNy5GofUO6XDKQzTPQcE2dEC5mZKjJ1zHR6tyfulb\n",
       "n5UN74qHRlo08La9yq4NbS91BQcNNiEvYCI8zJs1oZIJ+zDDI+pd9DtYv4zS22a81Zfj/bkIIwXw\n",
       "/26kW3yJCWCi+TKcwOEYlZUwMXOParFXWA+xK/mV5LDHKPhspm49HSKvbRguei9w2YJlHWHZjfVC\n",
       "bIrZLn3HoMUw7XC3qq99LN6jwMzXmVzfdz8mekGEMDhbwJ32+KIIpiLHv8QzX7vi04/9DfvYVt0V\n",
       "u1Ezl/B0e2Wkx01kB/GNbEdOw6gSEQrNON7wVfSrdP3EyXd7Z58S5BaJ0KfqXo+kOfSCfsDvxAac\n",
       "Ta05sknOoWjPAdVcFV+Oj+cj6sl89a/pC1uDxDhMyDfb87kgekLewcysTRFz69FM2Dl8tFjExGXl\n",
       "vglcfeU4IWWZEwMvv8NNHcyGa9dit9JZ5SPn/9+0OvYdu1lv60UQSq/VA3l1qgpghtfI+lNNLUR5\n",
       "Su12hQ8AAA2PQZqUSeEKUmUwURLBL/61KoAAAHSKik2zZvtsAEPqX3nb1WDRtyWC8bvVCpMbvotn\n",
       "MSLmrQKnUFVVIfHblVCmByNsTvewteSR9nxcQxm8T57b2LBtuIgqqp8i9i39lxLbYQ0sV2ACm/J5\n",
       "O+eue0gz3mB/MswElTomJ1p9+4hGOpYXp2wjFt+3HvkkPAJdBFFWKxUQ//51DXjUNy/KshMBLmxO\n",
       "P6Mvvx9++YeGYlTy8rDFZvUYnwKqdyqBuYhtb3aED8x5EK0OgXEFMhtLxqxnxKxxNVf9xRX8ZP/y\n",
       "UELcvwe32IdZIATSp8MUNUP+nWubISk5YRA9jO5x9QlFJXx/kvmy1/ZzCFJixhDnkbYpYdzq9i8R\n",
       "28HBoapBmGfXlrB+UYmzva+1Gqzpf7Xz8kc23cUYQs3MFD529j7JGmf7yWwqvtW1Y4xSVOjeRsB2\n",
       "OHEwG7WaQdyxHOnOTxcpeCf+2yNFvYKqNehjcibSltJgaiePyB5B3g2vqJ9afalobtxiEkB2LY5i\n",
       "l6XREC7YmcsLqli8bnocMbsQbvlANa+cljBlEbGGYqWe1l0oaqlJ4u1pQ9AO9iH+jzX7XOU8mNVv\n",
       "qvv2Ld9WH15Xf94SQCIhQndnMtQJGrLp4Fx5YFxT15YqaV6Kntavhkpa73RlyMD179JxTn2XQSC0\n",
       "OrVZaLoaGkm1jhvD7f+qW7OR+Kq1N/7tFEhIcZ+yUa7CV5nTyYsanBb7+64qrcM1/HMNXnNrn3+h\n",
       "duvjrqFthwfJzUYitMbOJROo5l/modwFjFY44uo4M/4M3XtJ3gvJjmb4Erguf3V2yEPOBi85iFR4\n",
       "wvpAbvHqaQ8Av7IJxJzzb1qZBgZyWG3YfgnXHQjUGSl0WovkxzhDEgEL0IiUNG7FhB8okbjOCQtE\n",
       "lQxcN2R1X/CcqRzzfayXyzeSQTGGj901S12jXj/2Q5rJ1BagdCMkvkQFc48RR6FqNXeXVpGoCitK\n",
       "3JD+eGOnTA4R85YWJnPBn0ajE1w1VOz//FZOTok4BVxUALvlN4O7zkg7RH2Tk7fCMQxDVMsADdPy\n",
       "cYhqSHpGdr1evRHfOGRhl6xuOZnXl6krSzcaBOm/kKYMOncqlI5JMqQndvJLG3XfY9cYfX581gt2\n",
       "h1kF6b9dYMwOr9Km1ggBGh6tOYQkkAUQKheRi4X731yMwUwctKg98lltMXvv7M6xvlzFOCHIjeOw\n",
       "mTkA8TJLNTMbIcugr7U5wopDjsGznGi8MFjdBBCiIZnqa+gdZI9hib4LeOdZHkMEyWcPVbbdbnsH\n",
       "chk9pOrzt97TQsymY63aki77lOt8nV00d3q8Ymx7hRM2NF52Ja2HsU1PVmhhd20XNFEX/6Al0fn+\n",
       "KOr/dT/hD+E7XDmU6ip8Ahk0tmvDrliEuOuH504uCuBoCD83LWObS9WCcW2z780IkJ1pc9orVj4K\n",
       "qUjkGtnHmcp9vXsPZQLJfMnfKGmgtogJrObn2zRwmQGj6xlKwFbESKqkjoN/ynJQqJ9KomgY3MqT\n",
       "hENypLaQuAfGy5wpG4f/w4DQ3cSs82h3nPn2VMFls6g9sFAfgjI0ynKbJQzrOxM5aRVhKvTWhV8F\n",
       "lrkYU078KY25ykcv2bjTUDWjVA1SPIXFM1+R1e0XeTnlnhtHwPDpldDE0HAQcU9PpUmrGAiMGxTf\n",
       "LUkkpqF0IR5XveWKFPkp0ni8qWWs1HG9W8tWtW+I5MzwE+1daDy+25nbOPSUGKvQkDOco2xj/wLI\n",
       "AiJcOrq+e8pDbRdYTKkqeHWXVA8doLfdzYRb7Vn0kvMwjuDcXvxLUQCB9fQh3/dfCslA1RBtt52c\n",
       "eORmh7RbJLqOhFTS4rTQg0FbpBThxvLAgo1qrYQpwcjqbR8gmkTV+7FMq1PiziOM09HiexWdRifE\n",
       "YglZ2yT4mVx8K4ejhh6sUO4EvoKnDLp213PSnrdSWsiITkBN2X7B3x7LXmqKCGYgX5mFmscKGXiD\n",
       "6iakcxQ1+jvkrxBG/tcWVM3FuNaOahXTKE/g3wMe5ItBulPMcA+G+ZlfEowwp5Zdv9vynuRfH7PK\n",
       "aGWl8tXvwdUD99FcdWuch9v8ZAVch+j5+kjN4oSluv6uDv5DV6pYUAfHrD57gf2KH2leznddgAfV\n",
       "1FGYJEhoywcRIQsdqDVLbEhguPvy6dF+5eQYCNH1ymqj200R2AKfMWwXO2YwQl4FmgjTjU9kaB0j\n",
       "qiGQE5j8e847NLbMnOy8eq00m9Hc6Z55fI4v/2Zyw95coj3ohYOWxM3fd7a7qf2wE2d5ooR7WAsK\n",
       "GmooEyaHBuo9VJy+9UHND5WDLO0Pl2CbHm8VRz2nzdEF/jd76jK3XT875Lxj0GCdTn7HOlqcKHac\n",
       "nWGlzHAjXX8TNWLv/RuNmYBOMfTwQoRL6TaN9DHr+bFHsHdxRcxYecg1BARHXyMDGtCFmKzRgnvB\n",
       "WWN12f3WyNma4Zv7zte5Wqwot23N4QXEFQYR1Kv0dcYBVdmkW2GSLhsnsDIj6MDLWbdJQjyO8OHS\n",
       "4QqnPZRkw6sd5aQTGuIOFa53XrM7FLfkfqfm2gfSt+otdIUx0iE2Tgr310ZMawky09pNwZMK8lhS\n",
       "NBYcSkhME/4F5K03p9wVPDKJSbNGoGkKJ2V+c0TRClF7JZG8ic2TYZph/AiMjhPTmyqUNkuXEHdb\n",
       "sapYoTCrvGcc5K1dR9PZNGBkxXmbkoSS0qg4SFvdw7KWdHFcyJH/5pOmwQIwLX3pug0z93PfX6Az\n",
       "R5QaxnVTum7vRUmXOyecvRPSiGQT//h9Y8qgYGccz7WtM1uZNad2NkjnGkhf5KX6exID21XYo4Gn\n",
       "uwElvEMhQq5ZlOpgrjfKnGw5uj1CCJU2VIVj3ICWC3Zm2ZM80LbwCG6GP6lVelUAu7Lju3LjmZCH\n",
       "thUSSbiuyez4KgKZ5RDf6m5+ILRWElvZR4diZ+gjXB1WrdyrPs/FthTHTBWYTJasA+Oquv4jkA7Q\n",
       "ZL+Mzd/wUIz6HaaIKfnY1oubIH8Mpl78ZaEBuCMHsFx6OhXPJArhrObqmbW9MAlzFMQkfvQU1RaO\n",
       "1kdhoM36TjgmVLXIz5ZKT5t6PsEsxbzNQkSW4lVjogEqDh5MBttx+2cuFb9GqzfJwgmVnGXEm0bc\n",
       "9JOgCySFplm1VNIU9vS6lncZtCmnQQD9WP++d6APJa+JzJCfOvE3XCpNbmfYdMoadvaN+3Q0Qq3M\n",
       "7nqDWq8vGh2qPYkhWKGsQtthHGQ49EY0utfgvY4hA0RdO4CFK6yduR83d8UcD61RGBxEtOMH4vr7\n",
       "Fwl9JcSd2ESyfwrbsh7zRL1W3Rkj186IDW7P3I9LokTrwz9fs/2TCaWWCjOH49NaprA/VtqJXBWt\n",
       "Hl78b/Sh1seXMhq3AT5m5L5e8yjGUfrcLE4C5tfp/jYkKSTPJNpnuTl/Fi24EK3lrPOeXJD/pQk5\n",
       "YFBUkrkaypTIyz7x4IJHYtP3wJKHUcknvDLsUbyMi4SrOQYbhBYDDvdqnnpxZmgyony9icL3MRSV\n",
       "ONDz8mtnHTobM+M1uUIzMqYmjE/ml54V4eG9CgnsA59/q4Rlt1og4J4UUaYlRHhPYLIyw13GFG7x\n",
       "mke2Pv5ybb2cpguLYE0Eig5N0Smp9zz8LzHibt8NACJxex7Z5yG3ZgUKha2fCL8AR5t6/nYzft3f\n",
       "hq5YfYuS7YJNg4w+1fyMYPtp1vTe86Fc8+LJnJGQsR/0lDuwzjzKAbvlnwehWLAcGJcVwa+xK9BR\n",
       "jBWtqhf9wkXDEAIAQAUvUOS4M9lJR3FL8gbBeVyQMce6Q/Esf/v2z+nCXih4dBrP8RSdlJSOt03a\n",
       "BIG34NhBx7i3A+ZlmrV+JLruHdUi1uZGvQxEpCetFPfXFZYfJQ+RPbRwJsvXQeHnSBzyPvf9aczt\n",
       "PFjTi906IaZLvuK/MS8bjal9kfHL0/9ikaliz5dPcviWYIB/G3+2w5Z8JrWlADd8yfGNSL/mH1z+\n",
       "KHpXCo58Lw2yQifUe8m1c9UARndfRbXb9CudpVkcsfuC5s+UoMcf6FQGRxcRqPtU7BtUGyoJeMNx\n",
       "yO51XQ4zP6uZUX0+b/fKk38ogSvBhE+My2Ld4T76XBNDNhfIyOt/koXJnSQ1m9QwfsDEfu+i2GeD\n",
       "7QQs9VqGXLeedjnbs0ChI2/ReSTDqEjy1riIsMIFNlzzVwHzyO7/xpQKkUq5byKhItkCvQN04ayp\n",
       "VbBxFSE1A5VQvJ9jPpJ/EJ88+ysXvVD/GDgoqQsj1Fmjc4rdjVyONvcUty9e/8bSA6qrv/Fqzhio\n",
       "sffCTUKfHylipAHYi5l9Uo1kzig8A7eGu9UGQ4ZZ1G1bMh+v88qAvYFzUpw6I0zDW3hC9BzhB5vR\n",
       "5/1eubcne+21eB4TRDG46ljdGyPKxe4Nxmuxi2rzL3sdLByNkJ1GKmg/Hl78f2vPWu+qt2vdBprQ\n",
       "w+izGQHpB/vxVefQPzbSw5US/KwKx7FGy71Fh92rEoX06Jqm010LKteayPdRK8Kgtf6jx4BvPb16\n",
       "PsQKEgMhvXfd4cJmrum+SBX7SS4+GwL1Z3LNna0LPdN8ZTWOXaJRdb05O6nblUFVhgQs9oOQIoz4\n",
       "xCVjqffsgJFvramkd1+kZ3vkZe6BGJrMl+6vfASNKercgHBx5RbD31r9j3OxluB/bMhXqYjcVx+W\n",
       "fxOAAAAIYAGes2pD/wAAAwFC2uPPuVJMmADaH4OHYi8NaZx7AhxrJYO0cUo5QjA2NmY9NsuC2opP\n",
       "ZfIn6QWVS1PYDF/D6WMQqy1XP3U2m7K4SaCg2Nwmk3qqP/j+iNl/juozKSJ9E/+86EmgJcqtNbp8\n",
       "gVAf9//UaZ6JtgpVm0s6KVZYPGyECEnzgCAZQtIh//rpol7YPqrXPh8ItjF3Wnx2fNEvjEiD+ule\n",
       "pSNg0Jtx3ZVQBHeLdS9J+yiH/gumnQBnQd5kNFkspk8sR8reUJlu4lGn8mI4pD8FAKg/5FBjZrSu\n",
       "T/deanl8+ndqyMPgYESlKeFQSg7pjvlyts87SrgtD5Aqain4uEUzhNjr03y8o7q7bGVAqkv0wZJp\n",
       "n42JE7JeqkcpkIASYfjW0sSu1fQ0gl8Qtn4kElQXYvL7bbWAZZy8Asxu097YYarmNrtVaWYqMP7+\n",
       "rJjulwHRPhoUT2Anpn09D1GLx5d7V8rOjWDEJlQ9SwzV9XjVaQ0FHIV7d/seEoPwPy5vlg7GIIzk\n",
       "62jPQzq/HgvAS+ZtfKEGALh3EhKAWl0dn/OzYkSV4ByCnF6SP3JyD4auHdUkDh20Ju0wD1UTqwWc\n",
       "0pqo+SBYBKXYL08OaxJDbw8+fsFz3n1C7ioUuaA21/oijQweXMW0NMK5hYM8ZiTQAf/aaA+g7Om3\n",
       "oWaFKo7gfkS657Mt02NmDeGl5Ol6fB0gdrDXdn9/Ld5Y7FUx2aqV+9NErElevG9FAbuaV8fM8mOG\n",
       "txTGwuCEkgkvkHPLk0lnf+1bUqwGsEo0+mtf91qyz5Ga87vn7WV4e+3gdFRn+ny5LbE1q+Z1vO7b\n",
       "2ePwW7CGlRD7WQMkioJVIo75Sbn18b6v0r3SEgNRrs7trMkSu+W6dcoXrBCVdqrOAJEacaQP6cDS\n",
       "Gp8Zskvr+jlJawUzh7H2JGvoOPswEj8Tc+7F9Pnj0K/vedL3OKKDIYuD1ERzMjsadZRUYAnv38yr\n",
       "rFg21WKdtAbXHp04BAVQ92JayvH4ntnhHGP7wLnJt7TMNQY42Bntn81eZIxdQpAXYJbEP2Kw8H2V\n",
       "8CdW9TGSrZ8JTLeYjteUTCZE9VaPe3u0fCZS+G+FSPiBaygbEfR41HLd9YRuBO9TUkAlXGc3TQLl\n",
       "Obrdu45fwzJyZihc5BRH+mBkDrZoYOvYETMJcHjKiApphrI6y8NWZeSaR6YR85FV1/CYmZ22yjP/\n",
       "n2hYK2OxXA4lNaqmEry5rMAdk676+SU4DP6C8/rbIMMh3Vr4jiXNE3xg54Qf+CfPlc4dGZC1Y565\n",
       "Gu4BrFB/VOfjrMHZUv4M2TLa0/+sr2JtgHHv1JfDnKXn/9DnWhvoJSOdYB6ExChEjjEWTiYZ99V2\n",
       "XV340ohY2gCW9lrO3ypWduxnjQ1g5BYVhtwxuvXJ9clkT+siDgGl4DJbWTRAdLOGZdFQ2aBth5oP\n",
       "L05A+JljD3blhsEHPLukYET6qA+uLwYNGBlzZZxjoT/nGXJ5EhIojUfzgNVRGUONMK4qiubZfkn6\n",
       "mskwa6avmTJQFww6JJQ6bo37AjGP7chEQ6Jc7g5EcvikSx+YF0jB1iyoGZiiGaB92svRTUjLbed6\n",
       "rE1/tUPiPahZ5PWWd/yyoh4s/Ft0kwYmVd/hGnUaBZCPsaqdXGklisG4rtYMW5MMFKPjHx3YZxqf\n",
       "D2q6F8ZKCXAm//JGPkO8r0M3LRb3QeKB5bARwIEIxRITlbHWeHuGLhge8MFN3+sP7d/X4008Fg/i\n",
       "mDbzNubWey+Ekjam9/Tyk6y+O52ImnMbTqCh9UV1oHDqQDNDXr1SXm6R7VqvOPu9Ksxbff5yowvh\n",
       "7pjxAZ85wDpyi1gsj/xho8h8wrNDqHPuvsjj31hIrWH3xkg6+dyJHe7V2GiHoq64Bd0KHu1lfHK9\n",
       "L2FRtx+SLMLCftEoWKEyWFe7K+O/e7Awqovo3BUfXRzLnevY86ebnGBZGo0/7wJAdQ4FHM+RsyQi\n",
       "Xt2VKru+v7tjVTq6vFQ2L969O5GEhpUlv9ABa6WrPfNvfMZTobv6E+AWsawrx86Igwja282PVafl\n",
       "WAu/hPeqB9yS1QwjDtlsTuuVWhrYjuIqTxBj9PWpaPowgLNORCsPC5nW+g8Lxpv+s1K5suie1A/e\n",
       "lZfebDRpUnWxcMhQmW/une30tyLDL6OYUgtA2Pj6zn05rE/YCpgc+r+XQFCpchBWztS/88lS0pQ/\n",
       "kbWdp1jR3TMTkJwkM9ABKadOOXIfqX5yAjBuTCXMImVg1hqiLMpH0IqNQxo3cRnMJTllFlPn9hQt\n",
       "iXvKM8mws1AWSqceKzJW1m8Zd3uq6HutvgxGQezdkoCct8oEGwfDQOfkMCOMDt6vuU3ZTAOhcuZD\n",
       "nAj99agLhEhRQmnKekSqyyJDXix+d4UVuqQlUKkZxrSfYGRvs3DzpYUtP37s93BRULlRU6oFasI1\n",
       "UFcHcnn0/awcpGPLNqxO66UgPsDAsCo/tJ4oPccDfbo4GvcjL6yQjqWyO3f+Kl+2+TYoRWnNTV01\n",
       "nTRFpJ3CbQW+zavdqUAiWz8U4aTBH1Yx69vWnn0wi0l05LNHMSz+bKP1uAVPXAB3DQMKXiL0kH1j\n",
       "K84bw5ygEBoey5bRc1UTHdnEtei+ZfNnKn7xei+EcZQb3pGQ2+4Nn7ET89F5yw7knJWtt9ucEKlq\n",
       "2i0RQX/EhlJ9SuwLwzFb2ag5txNfdPQ8VDhFBwlK3lJUE+yk84LuNHH94FYqpWJ6tfnO/7aoGAyl\n",
       "HNiFSHNwIhRKAegDb9gMPen7CDcRLGpBL/XJ8qCIIXf9jbZZUPWuuRcqBid3eYX+E29kBPiYMZXZ\n",
       "xQOZNOE+xqlCDgVNXjHSeEGqV9tCXXNugNUujUq8QiUgz56M0F+gAOmAAAAMzEGatUnhDomUwIJf\n",
       "/rUqgAAAdKDQcAFRq0HpwrXp8hBRQ/+lXpF+c4dR3dEA4jY2qhZns+H5GIyw5kfxJTvw6MCTJb0g\n",
       "4fJWfrqCkM30f4PtKhDnHhZIyobnwas436O7WOIN/+RPvON0DfGs5I0PejHCfkVN/+OevB6clHfP\n",
       "KGjItajAYuZzm4Xt7jziZAJwJEuE9LXM6KYGc2NhNWgtFvYvGTBt5Wzgu6HiE7QIvgiOX0VKvo9R\n",
       "YH9aaC62u0D8Bmd3c1zrY83Xg45WrJ5KQUCRpkm5qrNtaMysx605xZNMHDbXjXt64CDHloQ7QM9F\n",
       "ivupNgfDHTFRgNbsFWnHyo8xeSbkbmPGnzYg6vb3g3peF9fKOj2oy2dcLAihc87gOZxtfggZy9M9\n",
       "v122tN6e7Bqaqs9HPAdoy3eUL+fwiJPm0brOjAjh68OliJJvS6ThCLChW9e7/u6/tuzVI6WHbd2F\n",
       "rs9BzSZ2YRPN9OvHqSHJT7g2GLjD5Q8nZ2JsKAjkFvsJ2daqnkF0rza8/228+Z5awn2Yb2XvCkeN\n",
       "97qj9uLO8ebfSCpG0Tl0AyujtR5TuU8v8hEumKmN91sR9NQ1c1uzyNf5NMd86QBJz7OEOgeCvdLQ\n",
       "s4QXvutHThdXIWRnGP02inw2wMlTNo3/q0lMAxZGO27/8qXEdXEAREm+unoD8Rjo0OTFQI6/pfBO\n",
       "nbcGlTfDeWzDfYJrk7CiBqTbpqbBlI6J6nSG6fBMo6692TAo/BoOSpnuNZHc4ehaGPjD9ii3xugU\n",
       "eg/1vkfCvlwBm+PICwhbNbd9bTqxWPohSWwyRbP8TFsNP12ZE+4A4jxOKoFV7k5xrO/gVTdBMxOd\n",
       "AStgWVf4cRqzUP8QNy8bYmT5eBlwOBBwVw3QTHz+o78qSw7J6Fo615qfOkSafGLGkbyk3HmcrXsW\n",
       "3+FNOG3FWOtOUhfkBwrJrIkVYrHEFgt6f6zye4j049id475s8yGNwOW4bUHJ6yaktDXNHk+G2D9d\n",
       "L40VHGssc556fRvP5IlFTI0YLdN7gxqEPnx0usjcqBAiNlgTobZ1hZ4uY8QSHLhNlBfXk4jZ+e5Z\n",
       "IO46E7nxsxk2IWvLa8g8ms9/NUkwnSk+57Da0Fh2l1gbbEP/oXLzk44jd2wCg/gHMCRDyHlUoPm3\n",
       "VfIRvMoIuPa1dfRU/nMGF5v1XtJD8lTx559g2iBpeS3dLh89STmOSv8x0OpmRaQ5EPcivZ1UB+be\n",
       "Nlc9nyK+tsu9lICXPY1wgIbu82GDBJqvJ1ViLIJ05RDp4CS+o8e/jADLH28sy0DPslvjFAkbd1jK\n",
       "LwU07GEvEdH+WbFlpVR/XrkexbD+Cp+BjD7ULy4VvcHL5Cmlk+G4XOVva8yoVkbzazlY7lXoHaon\n",
       "6VlMF7SochI+xBnfQ/77R0bqYk4eJ4on5VwF7OXiEXWQNuIxmGL1y1G2AeCLxiZ8FCtzSsSbBWfV\n",
       "fA3emmwHKcnIdkpKoSI0ImOsV1IMIzFLC1azaSczsD95fNrPPNf/WR6BrV3dwd4GyuuM6pzafbGl\n",
       "S9DVKuaJHIeVg5vps60MzbZPLG+Ghd1FKZz7ae34378Q4fxP9q/MP1veEC/aeLSD0o1QLIHZgIMJ\n",
       "OdJ18kBideCmjhaxh4tt2Psh9chJXvfumg1wH6qX0LOniT8wO/9D57aSjSoMIjAmcwkDpExrHCz2\n",
       "UbxFxczeVchn2qt3Yed9j7SazT3G50DADswAMQq2rvRDweR6eOr+oG13eT2gjIYFyZPixvluKpiW\n",
       "1KfGqJs3gICaV5dLMLCvADFztFVcSbIDDQ7I197TK2OIp4OHIl5TDIWadCIbbmaCF0T0AMQFzka9\n",
       "zKXAAc88JAXGLZXZFGmnVhoo93DQX1g897DpRJbwp9A/LwL3+2ML9edzqNY7k0BeXz2TRYsSTIhv\n",
       "+7gp/pLoldFhDDWaA6kt8NAijk03yXFPsOS4HGAITueSKGQ/C9CGCAO5Iu/husjWc0GERcBoI0GJ\n",
       "SeOyxvTIcLapqBe8LIkiv/6OSHNKfMizlfOX8F/Y+FWIb1fBsAoHB0BbDBU9mtCGPX6JzJHMTtl9\n",
       "yxb9Ubulzwj0NbuUuDsTsvQBhGHXXaf7BE92AxDvCSqmMngV6jf2ye5YtvD1t5Z1RRCQ8UjcGHde\n",
       "d72xl8gPzYk5XZiVU7efHVmsHIFNZMyKE9wy5w2UiZa9mVRvQQYtmtoY/0M1ewq/dr9kdmiWh8WA\n",
       "EA9gCphBfsf2TbhgH3qtV0TWF25FP8+GNE/ovY1Gsm+fv/q0KgmwobFyP4rRZkEo7UzfEq12iwpm\n",
       "r3WO77sl3YcAYR51dzmbet00+oPP7Y21Vy+QdGt+k5kXcwKOydxEQ+QuR+WvWU74j3sCsWsMK8bF\n",
       "L+59IalOHbP95gOQoYYYSGM6lY4q6yZMMxMLT9kIkzTdniTTFhlWQuSBQifsexA7YoMGEyTUjs4t\n",
       "NkodQTNYdZwVV5s1pwUpZmOuTiohmhPqRBOoR2lui+7ils35nRqW+umn5USKB/IYQ+d9R7WpOr89\n",
       "zcyxwep5AwrYSDHXBX8HuZwT3U9fPFeMUswPKJryZTt+8+uRiP2U0JNEnUqtObVMzqdaD6gfxf+u\n",
       "XUo7+ZHJlwF0RpshI3y6Uf3NdVz9jUm3sFQc1COYj+HGZyF68ypTmdjydFRX8KTAhyBHU6iVTJvj\n",
       "64MCpwUqmsw9on0ukMOJvHeaKEby+IZ/ce7J5qpW1ZGmkMUPbxooxYpL7xOVEvUbQCez+YJUCYWl\n",
       "91Lr4CisE4H0gamvdXh2S7BTTcvyL2sIQTVIJUQFJqtP75Oiqfv5R+thHh5lPpEgW06h9w4ZQCKi\n",
       "UTOxmF/PjQkB7CfdcKiRF2BNIfir9CxcSj0KqD+QamMObkuR2wmslASyOo8MZv21+6+oLgInpqZ6\n",
       "G7kfdWtfoZFr29M5v2/MpFkH7Y9tyY3hghYsfPy2DIueAlE3rvmoxjJ1iYldm8avlr6lMypvVOsT\n",
       "RLkUP9a0Q7v9ZE5jJs4bIdOz3Z97DmVNu4JxsxQgpg93bjNUqJ82KZsVTBV2aBTWuV/WeabP568i\n",
       "X3Esf/8sVaD229liW7ce3ca6jesWJrImw09OgchZ0Aelqd8Yzbq1ZNFI9C2ZSSf2279SQ59bx/Mp\n",
       "IbzKz0qVuYmiEzyzCkwbgpd/a0FcJRY3QZWKiLxmLo8ALfz7amJZ1MdlVS4HB8xUtyppDbmNil+T\n",
       "UNA2sXhXKX7QOZO6qAbXMQknUyiGIxR8sk9XIh6Kckt/oX/5SwiiGdKxv5s6V5R2BTcA8AIQEKet\n",
       "HNrfJJFXGbl9h1VeFtAzN0zsXiMrRlyv1yiOQZXYQ/eND/iznhvd6qu3BWPFioNTm8LQu2qrs2o8\n",
       "/8sINCC7e940/0rDzjaWPZo14FLBl+dqgtQHP2zcfG994H/IUJ5P2kkRJQ6xIPuqhFRkqcyJ6ljc\n",
       "RxgNpT4fftxOrixbv32D03nMlLaexwIhAqcmOCAY9krLje0+PvmW4RzIKjkiIq4GB9pg8VevgdfD\n",
       "Pvm9BRFuO6QOBdA+ClV/k8FGIukOnjVfQIA7AeWofTeNAcP6yqbvMttoYkmtMsfpdTINbyAf1P52\n",
       "adOGc7EbEfjz9CjqOvu3CWVFt06OK4dUvw4N/BLbk+AktEADSr5Rp97HCLNhmoKdlOXszEj16MjA\n",
       "xAzDVroIR1AI2F9E73OvxJKdGEOVHLpCOQ1XeaX8glvp5vaxm/SVK8cRT4HJnZ8OVluqmJc98A5N\n",
       "NK9NwJuZHq90g0tYiCPpL0OrrxO1sqL2gyC/9+v6bkvp4dmj74vYMwIIApixAbYptqTFKDqFKppT\n",
       "zXckugm+5FcNYmHnem/mQx/oUVpKDNLy9UQbBFo4uwZ4KaGRGAVAoaRkSx9clDLwivmyEMA14Vay\n",
       "WmFkjXCWsw0IVjlDbMU4LECg2j6ZnYw76eiMTIybJZrPPiOnedQWlCVhRsEQucjtROdXyRVSPtgW\n",
       "xYRdIxJ/ihnwrh0pk0KI9EwfPuBBOEXq8c3m7VdBCvM7H+pRrMGtp6zI3l2uW7kn5WqvTmC6D5+9\n",
       "at+hmIZ2P6AnAofYTgGEKhtNULHSdHTLM3Yf0Dv4wqUOPyr1ID96bUZcW/dYsD8YBwJ+7w7xlFd4\n",
       "9t6vlBZp56W1PUkfXhdrKqoRaK9De68cF9sghyDbJ/JVB0B+30jETDreE4ViRt8n828OXUk3CE4M\n",
       "P0/p+8bCBVZNL9J+fa48ovHNSWhCD6si7l9fa2c4tIzVwkIT7etk7iQfDdS9WqjmsVDfUn0xTpE3\n",
       "/CYNNUsEmr9mSuMNiGnnS+0dc4bkmF9p2Yd0l4eA0bDM+DVu/7z/C0n/WeOz5S2ffZJHJ+cZ+cEB\n",
       "cq1N0A5KmP9iabPMFvRj0QAAEEVBmthJ4Q8mUwII//61KoAAAHSJRsfbRPJAAYlo22FpZJCh463/\n",
       "CrpJskGDuZHcpuKbkmD6BIONINM30+j1vLxXNEjxrGQwGNEn9MVGxdiBZCUxIqCURicoCZdPZs0u\n",
       "7XdSOiqdMkKkoVwHnFkx9WkhQqMJFSwEp7Ly9bBTTBCsSoRQ05AitYzUNW3mTJeHMPmd9vkTiUWQ\n",
       "Ev6FNzZVKpKLQhGyOyz8SPrIFv8dAVf6epLWPTlBkYyhTyrcfmichBhIsgAHxuZDWElGcCyz1URk\n",
       "u9tmJ8JoA+meyaJaEIJrrB3/bfW9ZTkU0kGtOniqJxp2WNDymiKqEMCaFrWoNJ/oZsZqd1k75voS\n",
       "0KNQ57T07E36b9hlbVEk4+8bw/pnGxRhaQf/ju2J0Ngr8FBFdPerrxLtR/slPa2h+PL0RFppw18M\n",
       "/vOd9HpkkI6SQb19wU/0sOEheUAOYxzdV7MMA1JZTldr19ZDsqlxrXrGmW6k+T6b+vKQE+CXES3V\n",
       "yE55fAWrdf0jehiS/dF5aMdFouXTUkZxLbG0WS2OPV2O9eyd43RAl3j1e+Ua1nCpQ9cAWCEVZv79\n",
       "lBq9VwjlHNfWXF7qyOHWcRk0xONPiimG59cbUz1av2CE4Wd3Xaf8yWzam9K8UbL47P71bdiLQMXL\n",
       "vcn3ucninBBB8VX9bkuZ4XkuBFQLgIbmQBe8FNPKl3qp+zcVMkawm7/8TJaD/5VD8NRrcxwfqf0D\n",
       "FZpglpYoxb07/+K98x/jaNnVgls3AW/Ok53WNmcqSoitLCd5x+r2Cu9hlLnJBDfGjHfYrBAbAWaI\n",
       "LS7J1zCMp2NNnwEbOTKOYVB/M+infgOXofP9jPTgo3766t6H5xRbgVJOLPqLkflipJ0H0q3VwMWS\n",
       "t0ufH6hzLWyv90Q0tj1fOPFx9vAPJQaneLPs69OQP+ctm74CnJr5L+RSoAAezRlathkGTo0BmHoJ\n",
       "S2zgnyFDfQe7ca1rnNEdwygrLBTp/vZwP4Q1OlRR/246P02xdnmO/USLNWEEY1TpcFluwoUYoBwI\n",
       "JQP4OBPWDlMal9TEn5CdlCUCcuEn+6g+tHvQKR4AmWk133nmU0/dDLAf3JelPZ7nZDu3A5kwUbcW\n",
       "LL0YAS0Dv1gqG0Gt8XtvrssL7GDTw9Sv6Z/ENGlSwfVL68Lz2vj3jbCA3wCRPnuVcXsE9iRzJLPO\n",
       "pyIpnqEaovdn8AH1jwZjcuQJwrdmn34noarZ1dJfgQwCnuaWh2wCAUzNce2u4j8UO/Tc96v/SjxT\n",
       "hk4wMhaDEskwq9mlNRbcvWzEsUwVt47N2zuyQbuyJI1URXpMupoBAmOH2YzIDgdcvAteEHjRWgnG\n",
       "3U46rVXZJyNq9h91UVQGShC1EpcPdk4/ICqplh//bMwPksgNVuMUQbYO1KkfwZwzRqPF8PrJRyxq\n",
       "8k/2skiA89y761NvYfjK2nvou64OHaZpy90bl+9LpzP0o3Fggy+zHJ9BOvJOOt7mEmmFRZQ4n5zf\n",
       "g+/HVgkZE8j7dJnXnxMeQVnNvktQhaTYxKaXAJ85CjgBtWLilF5CnqSlBpX5+y9mf59bF63CkL1M\n",
       "+rvkZceQa/XAPWK9bNTvF03zagNCoFJw22NnN/o4noorRXLATCzUq/d3o64JJoxpKYie+st4tgHd\n",
       "Jv8NBvaBQCWn7u2A8VJsM5u1G7rlYRApeb4Bv2mhqjdxXS8+b6BWHgPXh+d/lyGtVGrkjklyF5Iz\n",
       "Bqg8ak4wu8qCSYpwX3arMte5RyqtuZvOMnQJq5F0jd6HeFvar+zu0g5OJhQnpNbQImEIr4SahKex\n",
       "h5LKSBTN5cE63Bvq94b8yfqJAA90X4khXrJYuTJYzJn5CPqODT1F4n4BFXMK5egIpXOFweErvkZS\n",
       "n6UdTosTH4OvnC5wuJjMwEcEEyOJK+/oYahvWTrwbKHZttZGNurA9VLljfgrjQRjcmmkLPX42bsW\n",
       "RIl/+PkdBMGips3HcqN/9mLwITlQwDKRPItj++360RGMS8nfMC83U4+naOV0IVbb6gRNRCLzkm6z\n",
       "4DCYr8lrV2IhDifa/u51Yzq1jWgcnNV+BlPKH9zRTtdYGnVkA3NfT/mlVNp/B1m42GvEM74nNb2Y\n",
       "9rfLBlFd64gJF5CSs37tPzkt8JWxtrZi5o43gya1D9+xS+mpmXK7LY2XyM7pnb5taAjfwdqCy+wR\n",
       "p+YsXFsxtGNrz7yloqoRs++BkTlC6v1N9yK/ZrtWahHwU5h0FnnllSG2RLvtvZheWCr3Cl1PB7Yn\n",
       "QJ69VcEUGM/78IZaPJ0XbwuulU+D3dzB/kn8iVucm3xYuOLkcs5iNvQnKWpNwyNsV/oyCaKwHNoz\n",
       "KG3Bizbc7tewq9c/j7oEK+KcNtGEbajt4lUo4ARMd74uluNAYqTMXrbverQYl8sIO5Bho4tudXL8\n",
       "ScYiYuByfm9no1sXH2ZNaf6zNW0grI1npyWn+GzX9rhnIHeoptMulKqZnsA2bd0OFNKNUzd9U7fY\n",
       "jxz4Hy4Y4o0M01BfBLyd6QP5L/b0KApZ8PrwDqGt1sDLlYAEjSI/u99RVmRNF3/682cWFMzP1Tkj\n",
       "1ItIfqiirmGcRFyOVM/kGJI80XrvlJHJZLgtluyIzr0OnUNG9RL5V9o4BelTUslidH/+pC8kMUat\n",
       "vpCZkCXuUuV6FD6DLsIYbK4E8ooAYT5ZW/2BYUyO5wEj6JXyjZpgaeQWJaltthuf1lSa4GgPlRXY\n",
       "OVXaq6uNkP6V2dgZvnm/SUw5NEMq9oB1qbvChyOkxPsFrIyN87pKDOa+75n4OB9A3H8LlasuudrE\n",
       "xpGKE1GWo4rL+VyJgMXRjVNCg9nyuZS3Y/97dFj9gdjqXPrM+3OB9naSHjm4t77OEosftJ8SNKzt\n",
       "q6LRHhEIB8GNx3SuNkjG4uVtbkJCZjFpZjNJvpewjWvMMQOiKJxgk2DrCdrHFZtcGxcmnI77vUDV\n",
       "mRz+iKkkbvmnHbzwrZ1qvfKpsLfgIy6062h/VzhJ5ZLntEcJ8nJ51PPQa+keuX9pIPgjlbCdEbER\n",
       "wqWWE0mtQPUjZazwiehMLWpalTtf1X6sote6EO4A03xJfhcHPGz/dbvzGa0YTujzbprCy8mtKqQh\n",
       "LIjcnRA4+zdCy2plbFqRSOelNaVN2yzODdGIra9AbjmIQxOiWNWHTc0vlX4oIjuZv/RfLmoAAKMF\n",
       "8TKU9gChL56mmlUQaLuj961cOy/kFK/LPP601ThdYEp+VRAPM5aAUyRPzqe7f0ZXH1dV4fFr0vhz\n",
       "n9KhrwYx7BZO/5e0l6R8x9SGgcipQwchtLkPcjt/fTAeX4yYno1N7W25ZslTWoJzBZZ52s2Q+qpn\n",
       "99+gXlyLv2Pgxub073VNhxbZz89UinKjbIwWdIAjxovQnNMVmkGwKgrvjUjfirtGK0jxfTd4+9qQ\n",
       "8TjzFJ7HP8ir83xTvdWaW1x7gmcwilQyCJKM+v1ihYu0EaMVJk6I/FBae5xs+gJHj3MsF8ry4D6y\n",
       "3t8eTK6s/lroYvHSsC8ftstFxHYj+Ait2iq2FuAtvLDYvBjkiVWyCUB9N5ncBnLu+NDIqGhdP6Ux\n",
       "r0L4TQDyv2yJSn9ysFv7U8OMwCuEQ4r+POjNMrL3QoHs5mpCv6E9/Uo8AjxREqWODstL2hVxwOPy\n",
       "hdSvs9a05ac2OA3CnFH0U8XhmDVrl8fmfQgg52btJKkyEu76k64ygMxUKv05aMqFbL5HC88AKCFK\n",
       "TH1cohSVM/0qss2qfc2FQaKoBdOIQrcvSK41IxxInPs8d4IiO4tM0L7DppaGTy3ti2lg9H6BqrKW\n",
       "zQV94yn8C/cHOG9zBa/V5KpwrH+0SFO/eOi7rYEDAF9H+R8+d5cDqi3OtqNSnraZP97kpvW9r3/Q\n",
       "mkpCi+3ztPwExS6f7g9TfwujSByxdCHo/YofgwFpdHykEYNXX+dnpZN4xtUNGMUmFlZNGFonePvO\n",
       "ChA7IkTKBeUGpwUNTcs2s72SB+Zoi2Fbgw1T2QpVHkZiF9rr++EbH3ed6DZjgZMZWwRJXyl73HtJ\n",
       "76RABv0CoFlQiEb8y6eR0P6k2mVk/MMvOD4iWPUhDMH/UAp8egte9WPm8OWOHTM+JcLPiO6f4axx\n",
       "icz/9s15FwhKHsjwX3KYvlTi+cVf7iGE98kOuwOYqAaCldBcg3vWhii+iIbEKn+A0IcKH1AoL6cz\n",
       "xRfH39PsZ5JeX0rYfuA2QSUSFlRNxw5uy9sOgwbjQ8UxwNhE2dkwUBmkTL6aEZAYfIC2LoFaydou\n",
       "spPmg8Y/Rv4p/fsI1KEmZsVHzdUqMvn4x3nDXOeoTRAjvTKF+ZoWnescOrj3e2ZlnD3r6mro69jC\n",
       "LkyTQykLz1wlXnf56eFwksCfd01SByHS9wiGY6pW+aWqYxACj/SwF7MV6NfF0io52Rc01pP/NpbM\n",
       "mnqLQstpT7/FdoWQZFBWrwhqhJsiSnW/et88/64TJPpP6iQNDiu2rioABO79hdv2TqZEGR00ezHM\n",
       "PuKOf0dxMFefc6bUAFy6TH8Kg1l46wB35GCLjHVEagbv64SWlFHhfCx3+IITWPp0lQHIeMbBPbyY\n",
       "WqcRdvUj8oEbEbigzAqFyGIC1pJywVneO2DTEiNSw8sRH+19Y3KhYqVSgPVx0Ll+BVn8y8hf9Nrl\n",
       "exINkxplbKrmlBchJ/gT9VNp+gLx4ax86I2VWLKTPD3q+iHWWcWrwc8F23EFII+fdQwOdw6wsHPS\n",
       "WR9V8TIad21KRLhFaN0xtfCD/5JiuXJpHEL6iUJSDTtN5jiRbpa3lSniaLWkn1GublOWHVgMQQty\n",
       "39Wpujke8SYD+fOSmzv0YXUBJ7UUUVYxqUm3+kgSc4HghQYyRPCaZmIcLNOueQffObyxCiGHqOzE\n",
       "m5uWr7W2812QGGSM9jZj6m1P39suJgWpYuuYYsdQxePIQYGj0F/y9hBxCvYRGDNWhrK+SOTTi/1e\n",
       "3wtpxA0FzoifrOCCm+nxTyxv6ckOnL4O5yBSmWVq0rU65twG5EenhdUGg2u7YFOg932UzbeMEkZA\n",
       "hkU/iqjULMjYYIEUp2KAK2bNVJltopVfP3YdTEBNcoeH+9++QKtnegCwXtcxRbBbAgM8zGa8BINc\n",
       "XJStXsanVSaLVFIcy9VMzPV6iVeI4uJs+J/nnfkCQxso5NUHnt0lY5V6ZuJomwiUKb0HcgK1eokw\n",
       "eZ8yPSRqwaPo5vMXXvHL+zA3Ydp6v5e7P0xxl2i18dFTt7M9ZT8ju6lqMJwUv2mKc55f+Ieea55U\n",
       "hxsZCQwxcoB0mzaYuAlVf//JBnnZCXCbn3Tw4jBIhTxSuv38ZuDuKmNF68lZG4jVn6Qx7aAMF9DU\n",
       "JgonfUYZUtId61GORqH6pJD442JTx+5qB7UE32X07EDR/O4t4Uki0JMFNFcbyRRf8cWK+2aGA0Fs\n",
       "ZGH/JiuheTXkOAXgt/3yx2ychVljV+Xc1YcO31ovb4+8ZZ5c4k1R/L0uhBhowgCo2A7MmNHGYXzy\n",
       "4msC+FW7WFE7AFY1R+b2XJAir2TlafPbwwKXqHyiMFgGToQbQCqONrktmMQudXGvRM1gZUZouMTP\n",
       "4EWovMFIPbMEND2QkhXx/XxyZIv2srugAAAJfkGe9kURPBD/AAADAJFU6r1/NfCoANpPDKcz5vJN\n",
       "bCSJaKLS8yGgRP7M6vnNDp9W0XGLOgJGN7UUhS628mPv4MTtfnSMI345OwMqI0Svbn0sY9XM0t2y\n",
       "oP2XTuR2Dt6ZePANjGZ7Dcv1SvI8eCiYrwVFYbW2nXGR1Ayf/jwLUOpcVKGBb+8I8ySAD8ikWIUi\n",
       "mJ8vUzKgK0c2It20QFQUhIpg3xb3P4jiRtvWzwXpYyLmppu70xaLr8cNEdFhF1WMU0175IpXH4yh\n",
       "SKSrp3QDMDvBOKEwKMBlpfCZhu2lRScfcaiaEgPFQNHZacnD5JvXE04zuQmPTpFtCA0KBlnN+bpi\n",
       "Eb4Ci8E5to0PIRA6tY5nes9/RDNEsYtRE20+4kmlGxPPFkQ96zV7GOmWcu9OOJwKyTKw3Om6LN+f\n",
       "Mo0oKDifZP1yr6QHrWw13sVs/6DaGhDYdCwNYsJbxmemBE4saHHqZNQxNUgm+WVJ5GA/d6VuHTWH\n",
       "hfgfN/d2WyxvUvnGQ19r6Zp//gYXWoknYkDIu0c7Lepi8cz4ZedHDigM0UslOg4TWnbTY/zp28Ne\n",
       "9/r6IXZhh+2ls9aAcRt/Ub0eyfPp/swpAnjOyLAOWzOpNFBYHcPD/7X9VnmHoFgMR8gV1csu14Fc\n",
       "yKs7viGfZFKYlGS1Hjl+g1vHAHFkCfRFLmix4Ev/NU1qZXAcxAMAZuZofI9DAIje9pfZzRJjB2Uk\n",
       "SIu0Bq41Et9VWO/c/A6jhTq3H2B2nj+bnKOYlN4e3ctxoc+O2Cj2tkT+ritL3epsYl8Tlf2FwnHg\n",
       "vkcb/kh1vCb5oLkMMink57of+NoGD3ABk8rUTK0wMSwW0TYIYbSc99VQvfR1zOM1ZCvb83hjCaLw\n",
       "Lva1J/XiRUMbvnqMdTnhyFhYIv0zQ6ob4v+O4KcWqCwi8GbEYbCA6ugGkV4Ez8Ork3CTjyxX7R3u\n",
       "1Uuha/iE0DFbYmlCS2kdhaDr8MaJCXUQfQ8X8RUJ/E/xB993m47nushNJQUK4nq0LwD5MKpmd/ih\n",
       "KRofXUlcQAYvz5pJwv2nGNXafo2s08ZcvJ0GOGxzYT++Fc1VIRb0K+vZje6apiuaHrKUDN+9gYN+\n",
       "BkySlVa7/IsPKgJqnlxVcddm4jKm+PJ+AOvECaalg3wHYhTLQwaAz2mBL6IYe0ISpadrFAyVseWq\n",
       "hdapSSTpHTw5CnI0h7acofqNGk5Kbpnvi1vdaX7o9cP0XOBTBMSMrtep+R2ZjQy9RTE0fobO7cBK\n",
       "YX6FUS7G/33Aqz6Xr/UwL7dxCs2LNVn42vccJn/MPsE83c8chUM8miz/kXp3rCFSIemJTV4GsPT9\n",
       "FkrU34s59DPX+oMIM5CGvl1+Q4wVTRdJgKuDMLui6HUIIdo3dwoayR/GgOPaB5bNQp0O/HF8+GCy\n",
       "974uhlrhzwpeNt30uu9RpJweAOT51oO2FoSQtV/I3DSP176QwmTUJNwhERUg7oLRqugArqbYg8NA\n",
       "dKxrP02LjUFJwVortq4mhMa9E3as3XnFc/ruqZL5OSUrUqxM+IW15gqcdF9eMoVRVKq3uMFMMlkM\n",
       "7Zcr8dToFkiwau3R4QY2Tl8SA5Zhoz0yxeLBidp4o1Hjb+IU0IQ9/PBgrbRohYSJ0VgLbzYEMb2I\n",
       "Wb3ltZ4ZE4+5OUoZNix8ZZBdTAjF2tD3tMyxA5bEIrTmzc69X4yuNO7Rr3xQtHgfmuZajfyYlOUS\n",
       "gkwoZqjW1Ic/NXwflaNnWErkFblL2sCkHsb0/5qxVOotneA/acntc/kZ5Q/rKBevRtruUMEqAxcs\n",
       "6lXOmTOcwgyxx/P0I6larzyEgxwcXEUkPIPolfXZ7OMqpPrYYMbw8h/wxiWuNDd4Vdvqy33VnYix\n",
       "f30r3InSHIEMGo1bQSYuZ2nqO05ohvog/Gy1j4YKFvhtWbwBHiqt471telrBn/xamnCOrftG8cv5\n",
       "kHWhe12hrdA2izWEznac5cZGDgEyhdHX58/CxzU5HKjtri7/c1JVX+w3ylLysjtH532V5wO1xQEE\n",
       "HdbFra31xgV9SvU11YF1L3/ggDirX4MF7qo0LcdFjBd1MJ9Q0hgflXHMnfzwXprWBZ4IvrDP/Lcb\n",
       "tBvTliOhfpcto1RRTaXzFAWU186zgj1E1lBL7WDdPwNVEbh/EzYthU8S3+tYBTQutlDGOh5qPm//\n",
       "vd+FnsIDg/y6NY2P+0sb7Sg2ZC/NKrH62ClUSJwLvJr/xYqxlna3sZ7/8DvsUxW8M0HBSFea8bG8\n",
       "wookee4dk8sO7h+xdUiPSUhofurAmA0L854LGV8KVXhYkTl01R3IbRk0fJxiUPEa6sC1KevPNiRL\n",
       "bPf17gABza8VN24d7gNjliFhWn9PZJsQ3jmOJvTWl6j1D+xTnuwJeI9OZos3qTUTMEFElsw0GVvR\n",
       "nXB/sbur5Vt3bB0H5meaZthGy/CY38MiIfojWCDEmfwxuCGDYQneJ2OHpqQkB31IT11UhnK5k5IY\n",
       "meRgfMQMXrJGixxoiFBVMjlr7hDCvdxtxEeILHS/EfwEs+/xUzDmP8OH0KrYIMB9rvB08c27sGW8\n",
       "vuDgk4J3g5eKeYP/MuKQSivoe+ty/4k9fGzEBuNcqb0ldB13+J80BpYpUYLKL8tCYDSb5ZKz9aPb\n",
       "t6LtM8m2ez03BcJ026pB9nPjwsFNl5ICosqs8fdyMxxogqztX1KKAhp3DdDs5p04MuNdZh6uQfMU\n",
       "pvEB+ENQlS6OjiwS0hrFPXSdUtbZ/7UgGhaqYgXa2hR0P40Rhu9DAbJ7gBJzwhT1pO1HCN4rva6r\n",
       "4gQHopATgDv1euRHA45kuKGZAusJh4naMl43Umue3FD8Dj/rNsLSSriCJnGfOTymGN1JRtlw0kvE\n",
       "42IAIvHdzy37r8S8BLU2meQvLLmgqR83LkVtzZNfJaVffhVcV/z0+AuDXVcstbVeZL4dmn+rqK6X\n",
       "FRtPVMKjIvopeNQkMcc3Hr0LAaZwvEZIK1s9jCVxjRieStobhxmNndvm4Zw8IvP89lkXjuQssH4u\n",
       "AVy45ZjOLQ5VMYs6qc4WC3c0waOluClh6KMKaEgGH/K6e7L7Fel9hDRmynMeaNShldr+TrphuKlB\n",
       "ZGg7Sp74I1zWYhPhygVIsPRrmKrv7wVXm9JI83kR9lyLhuDKkIdRzLI0HoNIyF4UD/8Mc3pRFoOl\n",
       "LvYnUAcT2k2O+8BFUA3KwPhgGYJGyG8HkRpjpBh8f146v4hcK4/OkDo+iHgOvwtTKm2aY1HxCvTr\n",
       "J3Z9QAAwIQAACBUBnxdqQ/8AAAMBRvqGnQ2ADaTTn7BZkH5wLvoxlL+r/hp5wCXCCQ76zhx+DTJZ\n",
       "BL0yi+GvtoJgX0AfkUwS27zkg/dJB5irXXlTRuXFd5c95ZwA/3Iu6HQ/jIvDFOxTgFpp3RXC5X2C\n",
       "08fA9KYYlzUAOF9ERhlWsdQtN8lVUUuaWMLgsGcAeWy9+TddTHpXXypcKA29RNVp+yEQrXxSMj2d\n",
       "jzaOOFcqxWjFjZAo9OZQsb4+F0b+h3YjWJuEjkEROvqdvqwz3pTC8TvBoQkB5OnyqX0QtU0GlDA+\n",
       "04Um9YPW1KpjOBxSO5qWfVqm2rqhbzE8ycXn65kQBvmf0yrR0/9AUi6UKQdd+561Vokiwl9I2UDZ\n",
       "PWm8O9Ycn30/8CD6rvit1dqQMxli2687J/WkHQP/wqQ7+UCa78CIZSkced02KdfRCgC22XGsZt/O\n",
       "82T1c3Sdg5TiB8ChJMNIU0Pq/bSwQS8RrWTJXQaO5yhDUuenSQuMkPLumblYduEQIvtiJYLrxzPU\n",
       "lhz/wsGDeYvU41n+8BbR24ZYHUtoVED2oxBrWeQEW8iRrAeZWyH3wuKJDgzPRhG5ujCExmqMOUv3\n",
       "J++9AwpAuSLqJtsl1HG7u7aDuLzx0QcO7IsQgk2Ck/3aaSphjyiXYLaad7uiO3QPBSK1Qf3+4Gx5\n",
       "vN012v27dWw4q90VJh3See5V7Mpzsb/flqz7EzdeQXJY8ysKqtKfze7EtkmD0fMjEB6oegamLSQ0\n",
       "6sSDR2yQyWxF5wuZlP2/6HWBEbT2kKSYZQlGEyXZh8eU7+Eh8IQCcZcMlj6JfF0SRnX5n4g2zSMY\n",
       "Axg7VGXHDFg3SsM6GTxAEwV743n59K48+1lYI/mwezHWPhKf9ekQdBXIXOxa0oPS1ClzBDBeyVlV\n",
       "nowzb6ARP2k18wzFN7e9yBJi9icuiDOhccQWkcp7Xgz/L+JjQamsm1wATa2znBcaeG2mFu0MDKvb\n",
       "XFW1wBJHpORHMDJOCp17obebReaujqIJ44285HMaaV5cAtfJOKMPzwQjrD6EXJ0HJLJX9xa85sTO\n",
       "zL68NuM6rZYDcvdrZAqCrfVkB9Y1RUP/Z31jLiT2zumlq6nyBtNXNHCfP/eDgXXZuYGyBrfFaDIP\n",
       "MoXFbqXVa9BFTTkl1aOfE0AVZP2FOSXse/Jl8tBzuEDGVQbVCw790e8t6GDsnPiFrbFKJdcvrYxa\n",
       "GPDEYRBBAxfEIq2qdbQ/9GiyBBnJ5a1ik/3FlkXBx9wVZ2Y5RpkB7e9BHMof4vb7puBU5x33lhp2\n",
       "gq2JVFD9rW5MFKbFalkV0oGb/8dM9VQ35r8BKwGhXp5S7DDFolUUnuJd3j/pzxIxI8z/jfM1Rq/Z\n",
       "46UJE0rdjsEisiFdvnznG0tneiufa+71/1HbIQCuR+/uqzCLoUZfuszSdtybd9PXnycSuS/jKrmm\n",
       "FtYGsJjK2EvxeGA4a7ZAne1xxNABU0l3we4v1ynfBtXvCIlrHfaBGfAu4kcxRxbS0p6LjQJWKOp5\n",
       "qR/q12mfPF0KnNF8EitmP55RpoT549Gq5hdoMYlOQv0RR7Lkymc38k1vJD8AqTmM/7HYNg0IZkYA\n",
       "kUDC7ABgznx60VcIBAbtRg2CNJQIv2NG0g17UxsTDWIs/ZmZAzLvTN4OiRRnSo9jFSphUsfIpMzB\n",
       "qhIZUXtQLlzQM3at/jZ2jRLq3DrFDCnO+LY7/5IP1GHFqLcut14q9wI9NOeZNZPQo+xxZbmVMFyQ\n",
       "SnOBJ3Zv6/Tjdgwt1R/YoX7TTiifzF5IXkYQmdY+/6n/ohF8AgKfgJqmrHHxqr7PVHEZuAT4apdK\n",
       "pIhuaVkYgvfhnNwi9zvPib6DDnuTgFuV3328l7cH0rfBffh1vqAuDFioegDW9VRG/qTRwRmngzZD\n",
       "nmXcgiif9bxZKaCfkBHuGTn33u9BNCutm4LpONTQzilnEzwnDvcQpgei7/xki+RUj6UloZPZJ4QR\n",
       "Awzf1gI/eqN0ibkKO+kgI306jqq9GpeOYo2lP/CbbFK5qRVZdduAC9qDblrMuppjxWmQCTyMk8Fm\n",
       "K4uvoiuoJalIYhkwyfGPDqBAXWNnrvq9LyKh2AXsnuqA4pqH88EhF7o65YzdiuTllpL3BbKkiDXZ\n",
       "hSGZTRiv5HLb9wSZ76EzEQ5d0f7W+enNaMS7qSSd/F0G1bSdBdVLO9goj8DzwC4BWZY5Ntaw3j/0\n",
       "iVLOFugbqsDpQkk8/BbaGUHCRJ/BQZrFlYuRow5/Wa6tFTRvMMVc7MIHhu1y7pMk7+r9XUgOXy8q\n",
       "FvAueLJSnoLQKJPI+NmP2qxk/dYbQQfNPgCY45AqKzhuAnmuo9NMCpxFgAzHvsd/GUq5rQ4nSzBn\n",
       "/MYmbvqCY3k1eFYr53kC1y6J2qMYU7MkiAsURaxnd27MjcFhDmk7pSOhR2JkNvxT7LuDt9SBO8I3\n",
       "SqqVJbpzVH7sSwVMo/Rj9f9O4cbhXYMm8QEm48vLZymFSmkANOjag+h3IKFQorwYb3jYS3sNfMrq\n",
       "HMvQqpyHx3hen7kx8EnmmaG35Jl6jhmD+o6fIi34wzqUTGxhVmOqHMLN5Ou+BZjGfuh52Ivm7QIV\n",
       "ks1LQBJ7+bv7o8uTF/8FiiLAX7Yf7t+GqxKNCLGlBgi13frRQW9CmZAMuvHCCNzpPiPcGpoQJHZa\n",
       "eFk1FFObZCIVIQ2fPHocMPyV+9HEUbIhaq5SW1jTZ+lNxW+fbdNsrQl1m4nBasEmDUYxsrIy1jTd\n",
       "ba2zcZiDGpujnJpNyidFCI6cXUUlR0W8WAAQ8QAADoNBmxlJqEFomUwII//+tSqAAAB0hQeZaqJm\n",
       "oGAEPozePROGz+rGBFVKiZWxplxuihd/15HlBEiF/8mDOw4pUH7z3Mp4WsAL7scBq/dw9smqPnp4\n",
       "eKktsI7JZFLBJSA3S3GaAo+af1CFpmY+hIVsvUmFla+0+r/V6hs+dVHUYif5qanAeggAGLBJQ1km\n",
       "Xhuv9dBjp/DpwsmtMzTw2ncRHkrG+oNDUAQO29zUgK3hhAAm7m1WoQ8sVebA9WsybbzooHJO/EXt\n",
       "wSRG24B39ADsGnDp7vU11Rg3eJPIF7kLqNwmTi44oiuT9j3vQuIFWN9t1M9qMvZJtjKY8esAVwf9\n",
       "FBV8H8b/tOcwb28DARXwNeuNVYtyvwMC/kAumAg80/Ql8kIeV4r1SL6wxUxMUSLNBNGdI9F6QOi4\n",
       "9MnOJIpYPb+gKyQlV8k7leNy5q0LTiqdSNWGVEAjpdovykvf5BJs6m0pSB8SNDcXPuLJ8T+dO1II\n",
       "Ljkt95rqj79XUmhnYqGHyL1cTkJObMFfGkuneIJg/kZQnR3O6ILv6XGqnsbNijxPjQIsQViaORmm\n",
       "r8MXPw7LnTl5CePRKxd+eHpoYBwGDuXvC5HeWFM94K12UrEt4E9lapHMUzDFw2b+TCvzF5o3nGUu\n",
       "sdhFPZbjUMj+jyxhOddzDn9AXpCEl6+32RSfSLND0DkcjaQ432Y6tnJqaeMGZEmNvsgpYKwsAjCZ\n",
       "0XexrZmUPNRVbNKk/zNIEzY4NWas0SK0ZT1ijmL7NxptqPpk+iSQKC/zWZEYu803rBpGpNR4EK3T\n",
       "PkpL5/GG/PQIBxJWKBnNX18bDcDVudSnJQBZ445Cd5bvf73uuFFhLQD3enva825QsdCexi08qmLH\n",
       "8G2ICKFTEb0FOTm21c5371WTB/iqgCCkFgklQqkb3NTow6q71J9X6E9pAI28OLxWtqGBKvm22FjQ\n",
       "tn8KpwviwTmqJqr8gISitbnp6AgoVHY79xJHpjif4njpESJwoo974Eonpt+z3PcIgoHuhACppVuO\n",
       "xTkVI3ersachxf1rTCHWO/eAzng27nlI4rqWqZ4BOWSRCZt3lAq0M02drUY12QcVdE1+pkjTX05M\n",
       "8UFNpWuvEhsbStqQzgOluTDRkoziDZ0/wI+zA/jSKryejeK8VspHSi8KtzM+GaxPIj+4fYlH7Rh4\n",
       "MrHn/8a+4jQgIkzz4OB1ULsQfYvMVwQPYaBW+3W5Ua5Q7k6uLdjjKqNklw4w+2/GkAqcyVjZodwE\n",
       "3o7hpx2D/LfdvJxRemGaoVD6pKThMnoQH9W6OO003haqxzmUaB9yxTPUzFnc9DKjMuORvjkvsgiL\n",
       "l/19XhVujMtzTm+cKqP6VqdM2upO1NIWiH/dfegvISz0sFx7y6y3znDcYxFUzGJlzjMFTUhWXKmb\n",
       "OxtiR8mK2QjjT3QwL4qGio5C/wdyeGaYQfWM/Pjsz2VNls2n+hDvSWeKgg1CkRr9Y6vU3Xycj+iO\n",
       "oqXhzg0NWUw6MgoQuCWk3KLTZsg2JsPqwBh6zd9MnrbrTfl7fzAxt3E9m/wX1Lvly/LM1nxHPL6V\n",
       "328ybSWCBbuNG7gvTapnWrJ6skXG4M4V6JWLD79Xj70OecYk7me2PvUQy8VdZwJGco0QFkdxUOIv\n",
       "0I1RQgcowal9655pQHRdWChYEpRyUC/jVdjvCeHtQgGJIYzBX2+OHaCbL2WH4bY91x+2uPuiYYVH\n",
       "WGjLXetho23x62BjzSLvFABNy9lEfbHBTRurab0yHtg5/d301FT1ItWLWkUdrIGF4dLEsOzlXogg\n",
       "p/E9EG7H3PDqAJkArSrMc8LSl7kV2Xruc7uI/2K3VDoWBfuylMwDUAj693G+WQ5BIVFDLPEK1/Yy\n",
       "qDWYJPjPLOGIoPevI0FDKB/oHFHQVW7gs7nTlJQKzYITS2U4o3yhIjYdZUhk1RY+C5PywWgnIjuT\n",
       "E61ZJajxFQ6Z0RwekimeDAFyHWH7GRHCMq/JJ5UkQBRThWwGZPjVlPL5OsQXtI6VzDYOr91Zaz22\n",
       "7+UKPfQEs83cfu4i9V7nLj/NJ4/Y8KtYlz62ubUPsq6j4lPcV3nTXPU3uYq7nZ0PTsEGpk5g+SGT\n",
       "YiechzGZKbsWN5HoSHZCWV+PV0pu08CG/6TjywJSslwjSnKZwuEmo7cxBKOfJxmugEWuskc+bbLI\n",
       "ktBKie3fjwOdIS9WM4Zj/JGPEFDT0sYjh/YOn+n8wwQaEEkZVDGvXXypPgTDHgLbusAM3J17DnCc\n",
       "loXs4wi60+IKv8gGgZt9F8t4+mBtfUEl9u2jYnTrOFhDR5NnKYrrEfP0czEMoLAb2yvxE78DL4JI\n",
       "yqi6EYCSS4OaKxIu7BTmVgw9rFH6Fc7eZ4M7acJ0oIDN1zhSJ/kIyKiB67O9AZz/tj3tBQAa3ThV\n",
       "OXSHYitBe71fSdpHSSv+TKdvuNjOjJcefaiidk8plxSw01z3R82N6tuNxrsXSSq58PjSJjih0BOY\n",
       "JGyFFrUwRsWf5ksl9rHzOYqPqLPVgmn3tEYjbYZTBpTePNEqWoMBgbwtw2ebHllS/JX0UZ52lwbk\n",
       "Oq/SJNr019HqnPJ9KA7M92M1vFEF6X8FSvHxvOL8CE931TNllhCUifC1Cuc4jsJnobAj7glz4rzK\n",
       "4GnLDSnJCxjEpe561VvDpLB3+H6JP/uFDlRl6/V5Ba8zg8GwgO3VTXVCD85H1xzCnLD9KonRw+PF\n",
       "OawK5jrkmURK81veFIVp+tAV731uhC717KZj0qXxfI+VSLoLBNzC5bddq9NYQ5Ca55/aIT0u9ZAp\n",
       "qphYHjbwTfG97M99qFiX+I4c4CVmHMRl4Bs9PBEFtpItmvnLYUuTIWp8MXt7Owd0KrN359ENm8vx\n",
       "HMgSXw2jBSaU54h5w8p9tPtg4/r3wU3PKpPk824LF/3sIze2pEHd26FMeoXelkHD5bvKhlrpbOPI\n",
       "t/9jPtVOF1YY+CKD7cn8s64PTXiMMI0YlamgGVjFa4GaIOdTtjfL5qo6rkT4cSrti1t0rtZHq32N\n",
       "M4ZOGAm+GB9ATQEji/Fdxp187meRZUnzdCTM5y8Y2+crUCfAVd6m0F4Kp2YMcLxcXBOozBSbQ/Ca\n",
       "nSpQhIv1yI7x2A3t11/xZRNrLsoCJ5aFYbIbkroBLfMy45BCqGHuMAXvDv88ESVc8kgfO3Te7Bd3\n",
       "I/HxoImBCqfLxYpppu4Cz5dm/sFy9VdvPwCwoAignNPunzDrHkzvLwmlJgmju0YcuJJ7DB6JyQVY\n",
       "bXW5D20u6xxv/SYFPR/mjvJWZvVCLF+rUYBhF76aLtpRhJXX8WqF6bd8V51Dhf5BIaYEWhOWzTNA\n",
       "w1xoKlDwPNn6VznAekQLZPJLSAQQX95yoQXko9XOi38Qfqd/OIAf+z+F/oIxfbQK1to5+MYPs3MW\n",
       "9OeUpJ9CCzzfj6uyo9Vl7yWO4pV9QSfuy8FZj2lQBF2ztvKTbhCS7N+Wq5rfpzZTdagObSl2js9F\n",
       "ldjEH8M77+bXRYmAFHtLfQfBAjskEliIQ7JI9PnsK60r5Yap0ag4jnuv+raq0qiClzh1/Xb9asWT\n",
       "plnAtMLJXwBkThudZTcRBq6FDgggKO4CcVMiR3S10NXk6ZslU04FzGaD7UJ2blH/sB594xyPdSMm\n",
       "MPg++9R+X7DLVTSV6ziQPqNAp6P/zg1K/++gSAPT2KHhQ5LTiNloKwfAZuJpQq/C7uOiuLFXDNx1\n",
       "lzKpPQbwFr3VClMuJO0LVYmfJI0VirmquRIWuuX6MyaymdbVSU5SrLKimlCqdaYSY1nHC9eSD4lu\n",
       "RkVILlSP4fj4dy9pRe2otnPVQlfkE2QWal0513vLn+5Zv2gZn0lQXRvWSAIFUFdbxtZv+cqih95t\n",
       "uNqDhxKaMszBMjvCFaVaqywHVopghJlyTar+7mdrAsMKEd7drdwuFlRwoDl4NP2D78Pjynlh4Apy\n",
       "+ACRsfJC5t56MSUHHCOaxWJj5gTNOcyz6BtnS2ddlg7zWw0de71Pb6SUd6AeWcliEqBB6Z1Ye9R0\n",
       "zV2C23l4Wsz9Dv/sDMkYc7PYjiVhbqps2rlKN165lBD/irrgCUCvBQ19RGjWMqoXQ/65n9vf8mu9\n",
       "qlY3JbYxrVTvNnt9eO/aQvK/kgPjytlzJGQ1SK+Xg5ipAx4L0+G9UyTpn9LUrCTC0l+KADwqem6g\n",
       "uwu+pUo9zjcj7fFfJFBgbkMsgUjCIq8PuwlFFGlZaJyGx/bPAvyX3XqKGEvFl/LxEh0nNKlU7OWx\n",
       "xIkL1A2HR4QUGut94nZRRGIJ6z21T4kKFMk2LI17ddSBuE+A2SE0tvzPC10+2c1EzlHg+gqiwegt\n",
       "Gv2SoMja5bshppN8D/04KdMvW6mpBcvpjwUPcFv8viB+cObtyZP1iT1UZ6p28CdLdSL0rFX4Fl69\n",
       "rrH/DQ4Yiylqo+y2D32LXqNP/+I1Bbe82wlRKeMn6lkkKXvHL5+BEBTYIBDSu6N5tFh2iFKc0e2t\n",
       "6CxqjcthokMK3egv+yt+hPeU70dVl2NKgbNyiNDUpb9OKZZ5yW0nREKlSLiKxQhRY16rystUoqsE\n",
       "tesBJXiIHlGCaHQueHIrI66WkM7aekYlQab0OCTPtnJe+c1ZqlSBcgWaaQO9KohCu3hjaS4uC8H9\n",
       "RAm8Pm8tbSrZ9b+xHYIiPR+u+P9XqjaIVBg+5Y/wFjqLjhqMuyOELy82008KfzITyYkUZTKV7S5M\n",
       "mwCVVmWwMC3gvpOBFXuRYYPrSWMcXlhuzFixOsBGpKrs7ypkkD63Qr6WpfswSQw1kYU2MMEHEeqP\n",
       "lBIVgpR6hYS6yu9IsJzxSnIs/OB22d0lADB7bkf2xId/FQ0AKn91Al+QHFTXeRDscpFO1igeSd8O\n",
       "sMdJeIMZZUrm0bAu9iyoaxDt5+Dwy9qXTjlXgJA3ExbDxqftFf8Q8XP5IZZt0emd4tow7NkH1PVl\n",
       "ao8RqGFIYPEpMdog0/VF+GKIS7bSPETHlqbsJbLAGgoJFLlTfnNENy0gAAALcUGbOknhClJlMCCP\n",
       "//61KoAAAHSI8wTIAKABA4F8QDTp0440yBEY9v7Iq3YPhNIZq/zLdl07xCr5k2PuSKdVetDzoPSg\n",
       "fT/pubNFqxPVoY1KjqHSAGjrEO4LNehVHto1CZQZMAZMkUnTWGLWbbsD1F/XzRH1zjx0PgCKWLDh\n",
       "b3IdqkU9FyrAAO0SF6kLdJxcf953stx/afV+hkzXgzwa0eI3IV9D1l6yALiUlcRvs+aMWv7zcYKX\n",
       "Q8lAmsy2048bXEMIoHNwx8Z7CjRWtgwY9T2xjUvzWUbqiq+FdN+hTSPZx9worGpJsbvCkC1x/hZV\n",
       "xO9aWCjEF1VVDOlkl9kpDsemAqHas0Jo1oSul27S2dpNQCOD+w8930W1k9Do8CMWN/n6fYCnBHli\n",
       "NfGxkqBu5d+9QQJMbLXvt/4FMvMd/YvYn64922gDq7gpP2b+Z6v5icTkZf69I//EeOkHoswZxv3K\n",
       "fJtSPtsGwtJmyek3MPW2eA1Q7sSLG+ttOnlg0EVrmUNY2PqU6sCSmCbk3u06e1Z0tcwlpi7Zr8ih\n",
       "BZvmsc7ZaIUs5B12eh2c1uB5h1LtsdTVC38fUQ19WFuCN526XCgHSE5fKEyEC9AbpCbxkhXJPiZD\n",
       "b8iJKWoTKlNR9Iw0mcGsmZJIaGI2MUd5y59Gq7NcTSNGAX1fx66Hm9uHcOh0kdVICwu90zMFfY1X\n",
       "7hBfXLgWjNPtmdRXuOWxWCgXkrAJYZWPUTg/BhJS6+X9BlAkVcj8HOWcMyGvpZXrQo3PcKFXTmtW\n",
       "wN4BoM/QEo72WBqS5qM8viUke1MrtHoYaxrllUyYpWPTUpIeYaAUILuR8ZjL6zT8Cs17V1DKMS/C\n",
       "A4qRsohfypWG1Fz3XqGGSkPI2/U/gh5XOjg5DeeI457GU7D05xynAthk58X1XSMhcDlN+C83fr0V\n",
       "eVx6rLH3eckVdFGK1k12u+kXy+5rjHiasld4V92EKiHzP642E68cKK3L/zQMGfa7tCR4Btb0T0O1\n",
       "rJtHtuYlnLpXvhY/8Q8s+GtyW6reMNFSaDnUq2p4prdu1Kwl809NRUSxHq0+k2LKZqZ2D7Q8Qlu/\n",
       "ScvX0C6uZ5KlmMVnQltD/AJnz+P64DS9W4gBnIKAcqZDEtZT1t4owgCFrQvb3KmTuTZV/KAQEl72\n",
       "olGPKaJ48kh6EHpbs742p+zxLAha0Ljm54De8T/3Da708JnbST7sqDukbYgfouBUZ4mLeAyYbnvw\n",
       "fMI9Q1Z0IXQHG99yyYEU+ITyatoYBpL4c2cSo3kmEJAE1ovl1vpwPASPLUCuPkXSNAYziOfgEGae\n",
       "YOueFbs9oueGa4P3N5Akh7rteucusByLhH6JxP/XQ2Wb887THGWTpqhhVQ5cTYlq+totJgbzY1zm\n",
       "Tk7rTb+nYSfY9QkKBOVIHAJdVh9duI+LYCKgVwotdz28iVyyeXcN7t5b+e/6hWOwM1q14ANzneCa\n",
       "U33r6dXEvZOOVnHa9t90zqhDZHRTVj+/+427hQhPpGscZBRD0LYPE7OHtTE4AlkP76+dIzxb68MD\n",
       "ZhbrenLLjCjFNXjmQaxke/Ii141qsrep7A3EPZ0sZXmBe7cfXL793Ej0fczhimg7ln/Bl0dN03mK\n",
       "k74dhwA+AxVUDkZy8dFdRHTfcaNXFvurMcS7oQskvZeQCMToWIVhv8pVnaLEJr3zYPnB0fTk6iVF\n",
       "BMsnNV96yh2YZodJ//8uxBL9s60RcUXjapA7UV32JFnexwRYs2dwA0UhPZEl1UlRDfJFzgAoCmx5\n",
       "kXHG2pAJl2YC7JiqWrR2l8qcCdJKQlGzkimeVUoSDH8J3Ke2atjUclBNZuajZpPmHISCNIGjD/Vq\n",
       "TsJkgNbUeV4Xj+P03URnxxn6mQjE9F3TbPZ4Yu75pHNa/KoPc31BC7QxaJ1GwPE9UUT4JTsBmJ7P\n",
       "hSOeJryD0dw9wQ3OoW84nZRGVRJsmV45ySxEZnydDvQQ3CbiQCp+V/mf8uu+Ct9Zr4rEQTOrpj4z\n",
       "eHt3jhK3dWDse0S8aWpmWGucWFpbI7FU/gpjH8+/a+ihQ3FSgzFvgtU4+MuuFE/qd8U8/SbHGB1I\n",
       "1NQUDE9PaQZAsixUuQZLf95W+wjsAEKN+4itdeYmqH1LIk6NMREnBk6eOz/SjZNaZc9fr/6npgsY\n",
       "uZsqvUWl4UGQz1ncH12rthYAPxjgsjkTucNyAZB8cF8OM6aS7ZYDw37IuizjoTflzD2PqLuxXMVM\n",
       "xXUW9aDHRpj5vKhUbNnOeg52slXPv150XGBE0ss99kusemE+bowJZMlD7bsW4nKYQc1w/G2ZtE36\n",
       "Xc55Rg3CYomdP+gnOkJCDsooajfsdQZOUOvkUjtYwi0y9/LrY5Gl+tK1sCKs2HPwJNYBqseqMMHj\n",
       "e28G2SXlOZUJWGVENy293FlDtIO+ki46NkLEcudSPRYM5SVnldm0EyQ589us4r6VzrHNiJ1LD7rr\n",
       "BMxB0pHfyw+6yeRNagdD6plIZrrxv474WGty3oT7EkWiksMC3s79E+qzxdJ7Vldw1VDjluveLXbF\n",
       "uT1duRw32hmbxBe628uFSmUeGtfVDCNXs2t7FbCBIxjMLg95rowXvzByaCR63KIshqzfal4ZeSou\n",
       "cFORONytvHeGc5zq/dqY2KsoLVcN/IP4/MccdOqiDX0WRoqze7HlHkXIFk2OVd3l+YNEVBBphYGt\n",
       "lAtIrjXUuzCww+oYivPaPXY425xadEObd1l0m9PXGv+zqELG1Ct3PRVRF3UiUgVt9Wu2m2CY24FK\n",
       "ZPfu98YJZzplPGpqryWVFEO0aocSGVF2CjRgzm6iP+iwQO+8xQLMeLYt4N9r7lOFE4OvEsiycKNv\n",
       "2pADeXozMlShZVGVhHUa3b7cMQP1nOwB8YZHOGgtysweyG79uEXOvVDUQE9xa9NKS/taEDZss0zB\n",
       "2BGQkzsmiDWeKAr6BJuI0R+Pzby4dxHAW97cWHtGquDbEOXVolDVD4jvq5z5Qu3WebJ55soDRZ6Z\n",
       "0QJC/DUMc3jkg7MP0CLwbZ5W8042G+I/04paeuu055EpLjn7z898OgsOLKjNcXs7J9J2BKb/YMu4\n",
       "H3anxqYjK2WnMCU1V4I68i5/gqtBSCw+4aCJlqjXg9g3E9FAAxNDjOXQMW/BDkuCQokXzjZfZWlR\n",
       "B+Bt1M4KNYaVNT/gJ/mEeGaDsuJ1Yy3k42B0nwXqSj8T6xuseP/r5X4fs799Vq3yzZAacQL0Ztpp\n",
       "pKGQcXEEq+wSAntjsN9joil8EsZlVC0RIkeAP6u1+K1EoFRuaab9+hjPRA2ioMKn7o2c4tJB1Aie\n",
       "XTeC0nHqjSaA1i0fi162zUWgNvfNGymfXwWj9jTO07v/pQlaXuhNxbpVU3mgZoLkFGekI+60V3tX\n",
       "zxfc3vMfnJamRBl0rsvOiPW8bG8QOuS5OuFs9sBEAj5r/7r0UG0tzv0J7N5TPVR5rASs4GuDaQcd\n",
       "ixmqcKNuKI7xUTjf1TKzKAtTIK7vjj43baslseun6NbhbKWTpkwwELchaKcOXLJh25Ufeb9TUm/p\n",
       "+4Kw/eNXupayP5IaJ0Je0XARRxMaTQeebR2aCtLsdEQUe7mW011OkcGv8igYiXrKnh7Q11cDFwzu\n",
       "LVvajNWI8LgKzsGYP8OTOkHIFdBqGVCm34uXFsnAFEadoJj9GOjk0ygvH5b3wlTNkwyKKXP8k+Zz\n",
       "PUtURQHe1UWFTICx7tShHWYl3SfYS0ah+S35VoUUJ1P+/PrxocC04N/AAJPw1AgHyWYlQ7+Kl5qK\n",
       "OEX6Pn0+px69gqWAT3UO4pc5AiC9im8+BXNCl2K/UVwXrYmMBcLAwj7TeIXMsy4DpOx48iVXfjPI\n",
       "CuuVRRX38GgZZP4HayFr/zCM8skeKuVhZ9PCz088cSaXo70SKTPM7T49/x9jUoqgC8kK6dNfvMTj\n",
       "+PSIi/jdDM4PhbEAAAw4QZtbSeEOiZTAgj/+tSqAAAB0n1JAAf2YzNg2ioQr/CQqBQz1esVIHVXq\n",
       "Z/INPTVPH7vrh0mDWiXExK74NYxhslfMzswKs00LlmaCJTe9FuFGXIDc7NzNq9UzAl2ACz+0zyhZ\n",
       "QF8jPCHkj7swIg5y1WUX4Lfc0MskSUwiqrq0LDYiPGbg+TA1ZvvfXz/JN6BPTp8u91wpAl6M0Uz0\n",
       "IyxZZewWFRH4GEgASkr9uzbpyB+cTsAWCAX8jx1GMS35+dMURVfSO594/pIKy1hO6TDYLdNNnXc1\n",
       "0vlXVS4CVuFIaCdbtDBmy5JBlvFrx76prLfF15sH6LwO8tRR3LdJJ+PvM7k4DD+VnvSMmn020hKL\n",
       "DKfcR91KB1xXFcAwCcS7HBzi+U68YdlmMLSoH8n3+WHyqrA4cnjw8L3SByBVWdqrvezIONxKjOsY\n",
       "6yX9/x9MZBg3ZnMYW1VvJW1o6HnUuN8I1zxi+t3Cxe3XtIPTQ6+OOPzp8uhoAIli4Id3pwSpj7IF\n",
       "GaoCe/8E7SnXHce0Fn4TWokBOXMWK2iK4Vb9MBmdMW8kVixyeLGIMMw+iU6gxSTcXMe3ecYf4hfe\n",
       "j/kGgKMflN310tTa0W/oqFApYdAjpNJAAtCBWpnLxhcXZzjEEqoiu3kwXEnJSSYfcC8i4kfdnZOI\n",
       "gXZATOQeouNgG2oAtyrheyA3t0/4LFJ/VpLPuHq7+CK99APiuy3n5LF05Ek0F5ybHdKs5AnxivqE\n",
       "lgHG+qufkPOlcpk5a6fH9DVuFLRUShOsRPgiyEsvrx+Z+wxCna/sQucvdrCHf9VUQctyqbAG2BZH\n",
       "aVVHkOWLAUe77l14cgLhFZbYjgdt+zv91K7AD7PejmsWLgo78CxGBS9W32lhn74utRIrDo54DY12\n",
       "MPYmh4p9sSnnz4dFTA7ekKORR2CzbuagbfcSEVYDj2P52621meQ/wS1aNUbbrtB8P5bpPaEHZ9TI\n",
       "xYA9l1Jk+AItdausJc0mGyu/2l4S1/t1L9tcE7YZxE6AQ7ZjNOkWk0CPXf8nKNVgT6ovvTzk58zv\n",
       "SpZruDWFKmRdNBqJ707oeEAtmQMnRuFZoZGiH4olQXDBrBf6knbrtAGbKXJhpQfVmGZ1ZqDbSK9i\n",
       "2l/jPHWEPSL0XFkM+oDmsSuSSljyIptOpULK7sMyp/nsAua0YA7tLQ1dpNvRAqqOcCxcDRo7t5AW\n",
       "KLH1FW4FTPfljJY0d2uxqn6lPRemNRSEmb7C9szyWeAj357VArGp9jw3cLXXnyXDtBxwIOYVE3mF\n",
       "wzMoSbuwR6MkSeLrDTAmSiQJb/lvVLXaPBPfoL7hCpPYtZjnWhroGbKNtC4vfOErUZfp2j5eoH9z\n",
       "SscieljG1POagm95N6p00/nFlvtqCk9i/7H2S1xmug6fVihAT6Q1RBrFslxxHcaX3wmJd8vUs/Tf\n",
       "xu3n4lgxvtCaH6CpX/ggPAw96q2CIam6fuHmy5XZHGSUvH4Brkrr60nIMVeXXnT5/XSI3V+T183a\n",
       "JQxziSBIHAVj1RRxvQ5yc9kJIkJA4kZhsnDZKgy6K6jmiYTkJn76VhM5jBvhafK8dG5wfDRo5rCI\n",
       "Kyf8wHN+7aKgaAP6qHh4lhYDiXPZ9dxW1leHFucThWm7lG6gTwwqW59+Ovui4CgaSe9LU28b/jFK\n",
       "8EmARNdGsbfx+zaTPYv+5yYZ4AHlMg2Z+iqnwaiE9STXtcMbXHhouLwxBZTlP2uHe2RDsRC1bvgv\n",
       "TqFRLFumbUeG/19ZfsqEmHqo+cYx2PlaIj7lBQZzqN91T/yBx4imu9+E4F7lT3KhAJzSDF0w7lxI\n",
       "MyB+EwURQhSxyTKIp9xJ/RFVrW6r26NU/EaXptrSplRbltgmw4P5s9fhuc3EENuq3j8lSzFWrLhn\n",
       "/wZAkyGlzvXWHjmmMK4vXp2GFQi/jpdAMH8dnf6CvZZL8SudvR5BFmDG71gBPQTZcvniWyTHts76\n",
       "t6tQwChXUFIFwW88CeTiqizhzqAyHdudm6EH+ruGBV0qu7RCXBXt005x83otQsbOaxhlxuivV2yo\n",
       "7IGPo1mtirYTN8MrPFbScQchvmtRb2PVPnW6x9k1M4pVEBLehrMEV+vDzklFo6K9fqyuYav8OWsb\n",
       "u6Ha67tNwBjxhId1yh7q0ezz3L6tJqZrrUHO6lpCRD5TxLhNSIZyctVxAwdt/NT/TIZlNqk2VyXx\n",
       "DtfX3a1a6ioWJhrDBAO1vHdYdF3C/EJDCWqonPZwtw1BPK26Z5OGpSrxgg5pC5JXRV1NafoogLtC\n",
       "1cOLbUJtwIGZiFKqRT7EKTCa6X9u6bCboRF6F5FrciOc3d0y46JB/zgRpaKJm5rfd+crvlY1WPLK\n",
       "TMb2OjZ0W623rPUqs0jucX51UqnZamOO72sWuZONWvrPA/VNLcOSCzhv9HRY3K3PrKLfQmpnKt7A\n",
       "S1Mc15VaH34A01dWRw+VjyWND5/7YXFTKBrZGMnTPsAkMOVq22elwlf5tyqsc6KURwJ0f3t/9Pk0\n",
       "20iEFxJTthdE4UhWzgMqAn+vaC9JHKFqm5RtIauSBF5KrgLWOYZAiz4pRtXAXDtF4/D4OmkI7XrV\n",
       "DyDFs9gbR9nqa6zyQb6jg+tHHkI1txib3HYZarufaPsa/L+tnfHXdD/Pqvt6H4HtEdnUjZjC9U+B\n",
       "6pMCzU+yIMvhldHucL+tu58qEOphia0fVe+ru1lanJAvSJBK2qypwrawv5AoR7OJ6SX9Db4szw0j\n",
       "AOYFykIxcf9FcYCmlalF3Bq8PmG9IcicFEgFPQQ+BfPUhXU00y756Acu20LuwYSxXYp/NMakQ9z9\n",
       "73ncI3FKR/r2JRisuQCcIRQngDFDoIcgSSEhbGFxhg1gpCzKsyG1AyRMbpEVej3VYKyMmgKQPpJc\n",
       "X+Fmh+GiLfUGHOBfDaXUdx+CYq/sQXtCyiArVXxiPRsb6+w836uAijcO2/FKLvlSVsCZ8Bi59DVE\n",
       "0nQ2I6p1AVo5nqHmXZ2kDEwXtA9JIW1L126PIMLHL6kNIOIKUBDRP3iUyvojlYoQQJtJD0xsdtcp\n",
       "JKVDMuqfzPFd8nO+N63N9iGSTeBQEJ61uIix+0do6UQT3D2uUY/HYhr4IJsiWSmmVa4jp8+IoxVn\n",
       "gI0Y2W8egLMOSDIoQ2hfegOK6dlG9JgyFTUVgZR3OYslq0RDkdE7Jwx5W04E3HGlB9lPAgPtHYOE\n",
       "DWexhQx3B0KYsuchXWYr8/DKuvk9ff35o684No+WePIOhn5AhLJz8b7ozU1qzWC5zmXqaC0zaCZA\n",
       "YJJiC4Cj+vmdu+O6cQrbiCwMcnRbPzx9Hz6J5FVe35hLw552yc7giHmWQGcOxTeiykecYPM0N82V\n",
       "8omifqkVSjXiviMPUAXX95pjb6Vi0Vn4vJdwICXH71cx5lwQDH2w2o8S4XgT2+hzqzkIt4MRyQL2\n",
       "Di6WYSI3FUvt6HHqJdoluW159EFFWb1xR9HOFF/JrQ/zHAl/GutgrVErWo3lv1rH9sXw0W/EkECC\n",
       "q4BpNhNdRbsS8xcNJmUR2TfKxb3WEQvUsXq/8EEIZgxodtBYWq09pHGCrp0X5JdLOKPGvL2QZfmg\n",
       "bCNalVkel2it8qV3jcnz0fYwdLsna/9zDiMwA7nJy0iAwMSI+zU27a25EW8p84uVaKeQnixhf/PQ\n",
       "I9Qy/BacWW9LsKqiQR0aW2ZEciPuy0BR7BEy1Kn5nnb2+yGvfvlTvHb5qA6fn9ymhcgv6cC/PH8b\n",
       "0uBtyw0vVrvZLLpD5nvfLZS5olkLQOoMXkgQMyVbnz3+jsgin+kJ2/uj2dCN1/quXG2J62Ju2grP\n",
       "FESPf68EIK+uR94s84JIjIKsUXenANzmOiq27ZDSn0TrbF1pZElXTXQOr6H3nBJebkHRGTi7G+91\n",
       "pLMn9u6wKCQkgheM+9W7q3/NAJiepF07e5St06+/yFd2mbFzKMCWiz+1+y6sisJTLCfFbtK8nEnN\n",
       "4nwyybcehbYfUdaqQ+EGVCKV/m0jlpy5gONyieIecc7wLYMzA33dccVjZyELCI3HkbJWbxJKThEU\n",
       "7CWZG6asAb6QMHehVA75lgJr0+eO0KrvFdwq4xejCt8xwDHSuRb9oUCp4489SrSVemw3ndAvZCRU\n",
       "sCSFIZowAX2LTD3LJXbYOEx8KWu+jkyMnnXjH0VWkTdZkjIKc8LIrZQcangQQEn23gfp+uUVNX8o\n",
       "EYIYZDWZrcAAAAo0QZt8SeEPJlMCCH/+qlUAAAMA7qF1AAfwizE/7UqVEd94gg97g6H+hmLj1CDU\n",
       "KRgQwkrxC+Mfq9XWCXc7SAcIaqNF7IE7he/DbhVH77L33Af1xm+Wp4W6NhQzlcx14SXyw+iL7P+2\n",
       "1G+hg+2QMmEzxBiQCTYNlWoGLEkzABnpNodB9/7BS8O31ZjGIdW1tX9X8MrFOLDk4xYOcPD3ymc9\n",
       "CIf8I1afD/60GzW5QduOAmxCYHlEptGi1k3tqURHPHPZr9AU7BmO9h0e63kRITPVls7Yobfjp0zk\n",
       "j+lhnqVbtcrdEHzkV9JGEV5bdOHaHUp6rgPqiGJIr0et4X/Eg2sDQoL4JRKgTwcbQ8hD3wf3+fER\n",
       "aGG2zyTkT1msU8KqhiL2C28dx5YATxqTQ6Gg6yIrv0drmgFzhnZzqYkw6IHufAGvfyUs4l9Z1j+1\n",
       "Jpf7eFRDDJQkY5evmpgXGCFAcX+TC5vlVMxdDCxTS40NyBNn84yRsFQEWeKbfoQzNWgbBZ9WBJbs\n",
       "0UB2nOVpA+TDY249j/ylcvr9NEpp75JKadgnZzViwcl5P7lKdCkWZ8Uc29qLSsldVddkG5pZLFLd\n",
       "ZudEvoM2WOt62yHccZXlWsLK81ywGf0/UCiow6UFEn6AfB8kUc/fHw2I7w71k/hqin4MeeI/TjhX\n",
       "GZXLItugCKIKa8liFxVcH6Jcj4qwiiPpPxDyek+jJIdZN6VvvKhmEvc3sVNPg3WR2apSLfR+PwfA\n",
       "p8ktHVSWETbz8WeBPP898+QdcinLmiF1pUwfS6+JxR945I6Aculm3pnJcJuTvAC1FWWFBkmwXrWT\n",
       "aVNSqGn+OxaltSzj8sIlOJ6TfdJgOfB4Ye1flTRwFJSUr64oBkW8CF0DKk2517rrsFfYha8KxX27\n",
       "v6udf+ngdR7ZvMT1K65BAnMMg9r88FusDHsL/G+bbYvxdLhCU7yRvj/1GbiFgPTyShAKC9zVAe2M\n",
       "tl49Bv7yJLSRytkoKh+9klG2tVisx0iTlKkU7ihPMlpHMI8w3DTv2IzmRUJMDXK+5Q9SQnk9Z3fS\n",
       "BoScit2OKG+NhtWZZlC/mVTz4+MVi40bwnbvfPNrUAA3QMVV3/Has1D+6Vr8MUgJOgDgsRKfZ9CH\n",
       "4+EvqEC5N4Z3cwf7GbQgEethd31ZJbvk1yAJbvYmfGh1O26a4IInxiqaI82B5IwWTyu1BPO+kyiV\n",
       "LUopHzHTfg0v2bMMvC+vvqhyGg1quM0ETKEEOLGTdMN6zcmOmLG+JeToAGyPxn8lVXRUpayp98zw\n",
       "5U/YFKIYEA0akzH8Uu/evAMydHAfko2VXAH3veXYzqeSeYaVc4kAJsCmGfqgtAt/efcz1RjlMbFX\n",
       "sLHZ/H1zhaknlP1WE5w+dAP76IB4jDGhppnQCClvqFBa4qyM4rznfiV9yMkv/vT6Fz/cRcdfcZsS\n",
       "NAcAg4B5aaHqRU3dyY4W2gQv0Ke2MHGYZHdJjI3itgfCX/+CeJSkAzGxSuSLV+FEULvHrDdppwFJ\n",
       "prROi0ysp3K+7OM3P8r/Z3vujaoo80295aHQM9PeXN9Tr389buwI7eu5V3ZkmLfSfsszyW3WFWaB\n",
       "n64f8vrzdysq856GQAinBlib1/CgOSOjmSLjpFW58gaAjQKfsXz0vELLYX34Yv3aDvX/y2Kn2U3/\n",
       "n/47c63jHXUwawAv41VnVTZ1J08Ouxea3u0tVblxkvpihfnqg1ZczleKNxvbWi7xx351oiVTi6f+\n",
       "LblxSE1dmD+jjW7ivKgJF/gf9cFR5khLwvvGtaGQBUhydCb0W9DjGoB6TJJpSpTinGB61NRo7/6h\n",
       "Ro0RoBds2aJXX6H18C8ss6JYdIOuQWIfPMH7bq7HMrGhF5/JAjPgOOj+MuVRk8hNhqN+aUdoLxqT\n",
       "O5mhciLUVo9JK2btIjBrbKr5A86RfAntOFET84tiIyzqym/I1V6mUHQS/I/K/5dm1r+ue+ZGe0i9\n",
       "bw72IUU73CZ+ABjeEGkd/nb6m7QX1ziL32JUJTYTePf2hVoO/rwrQb8K6JlZWGUdyexYx/AAnh4D\n",
       "ktDBv3lNQatNamNwM7F0Zr0GM124XHc2+1FbHL3Fhkv3bjl1UDBky+jmMf+syjifNEp6SIfXo59L\n",
       "9oPJ2qomMg2loRJLMYoqtFCi9dak6EvuLDAftWepTmp7bc3tBG9SbZEJmVv2E95nDleGYzDuKMYU\n",
       "tg5W4cSW9Z7+YjG409YkgJrgHGSMLOXdEfe9QpkfBFAFJt2dYcREkQmwG45pVALgtds/7phOMvto\n",
       "hIFydeAfH2d37axhPMx49onHDRd6EcvAYJcTY/ylokuNc6kq64Ajq09bUrMhUkTUMttg76loN1kg\n",
       "E47Oz3yunlcr3acQXeTiqGTHGvWh9k9KNLG5Swp9k5YgfFxyQ5kkq4ETz1q8GS0CsiAiaI/CcXzu\n",
       "kyC7J76caPN5XXZ+mgxM7b+4iHfl9Gfa5iiud9gCwK4csr/TRG0Yc7bug9IluscLHksD1xfVvlra\n",
       "PcDHUC5WUq77ok5odDQA11XyiY7coIV2EqeEVY0ND9+rFyLCw/NB8zRyPTWj5aRqiX/RJVjd4/fp\n",
       "iYLUoIQP0lxIbj9mcm9izmiKX+izNIl5Fmi0rI2qVrqFjZZT6wtrmTC+n7v3/7+Gq8x1XOjw+5pV\n",
       "VcwkTvfM/M/d5bz+YB5JwW+ypCn8ynfqaQnoOOWc02/4AhwjYWkHHzFjKXrLd7K05MZRsRJSlBww\n",
       "1rQhrtvPLAVyG6/43PIQtsj9e5xgUuEE29G/Ny+oABe/eFewNt0xx9oB7c2R1nR4+sQMxBLcNAaf\n",
       "aWpBoM+nR7MG4LTgp9VGOmofyhKXwl7nsaHCbvMsaDDJAfs6pRvZdANLa7lnz3y8t9KR+Hc0KmJ9\n",
       "RdoidVk0c5zdazurj0QfejKqWvR+zzeJHtsLN9b8JoQFAC8VxFuDVaZGj4f5g44Huc1TyoP3ay7+\n",
       "6KGPPohUvMjsykH0lDYJjEUCQAdbDPy3j/bH+V58MjFvIbDHwSoAUgqg7OEr1U8eI3bUhUp2/g0e\n",
       "tOrcUBXgtLjj/wsw1f+kKtwbOi4jCFwoE3YJ75X9YKVjnz+9vMhJjprsAnFOIkFCRTTAIxD3KhZB\n",
       "jWnoZKDDWBeXMstiarZO2nRsKcixumgK9brITydz035qM14/0Oa69NpbwxFLTQ7gY1LTL6kw8jy2\n",
       "k4IlxYv9CCVR2jGunacf2XJd5ckQc3KaHwqZBdprTKeuMlYJe2o/XbPhFcW23234NyrYFn9iOGsM\n",
       "6dFaI3cOVwRLKuE5R3bquD9QbyBzK7jfzoyKjGK/b8oVDDjokBGrIz5ypZz9GMTxjVp5VowQpoIt\n",
       "XfiC8RYTdaIjf392gdlwh5SEz4jpatxwYgq+whWB75Rx/AgL+fmMGTJ1C2zFDkGxX2s7LV/WjWT+\n",
       "nZ9+/sEUo8ehMcG3yZVr7efTvng7mgGQyNu5s2j1G0EVy45quduiH9Q83/aCM5ha1XEkMk/Z6LDz\n",
       "WQcAAAsvQZudSeEPJlMCH//+qZYAAAMDjdaeTTlbbYAIfqo3uPteErVH56xpK7Q4QHvaM+OsM+vb\n",
       "s4TObXODtnvQx5Lg8ldliJf6ZH/v9LqtRipohHxNroLSTqXDEDzTqFtHx7oSmk4f03/2rCRagd9f\n",
       "ql2u1cfVUX93iEIUQNTTWzamoYSkkg3pxTlXQBR1aOdBiGhGC+h+l/CE0+7KBTXK+w1+8FhUr97x\n",
       "oEUbamG5kmygMtUi+TeEyti3c0AXBr3p5qMl/xeYdRaCt4A5wUlWhkXOEdEMt2F/UBeWGSS6ub0f\n",
       "ylnd4HtJjFdHv/TlUiVxfctQ5Z23oiocqdCVVoMhc94HEIaPWCMJEqQAhUfkH+Ges3APdun4MiQY\n",
       "8ZGwZk+znhuyeUIlCQgydqPyWa4S9l3LEag/VjRo5NDCOPT3Qnka9tq5BZ+jHu01vnMnyaLYRrHH\n",
       "DEBCgl7IKeueN0gnjIjOcjzZtUJ5T/MgO/sTctTiGz22Mjqn8QK38CEtWNC/sHtHiu4Btarcjgqq\n",
       "sesvQ6xzrWejdCtMJYDJPcn8w0BCfgdOalk4Ay0QfrbJoxJe6yVCrG8fXxPIQuF4WEKp+lmWkn9Y\n",
       "BZM9SmkQbKuO6R3wGk8KQd3hFY9waoDAM+Ahd+g4EGXXo2xewb5JZrhyRGy5rVtDXHDkrLDxdkS6\n",
       "rg/r3DC6Em/OjdVXdm269knaQXkHZiP5Np8mMZeThIM189BKt3gWqqoD59+mvD+R+NrQBXha5w1A\n",
       "yOhFDbnxolC8QNLk/rgIdZWdKzH+q7xliHYNFr3H9gEYt33cVWfV133O3ht0OyzEXujR/OVqIAGG\n",
       "frqA7GzwBeErPzrnn+CAkljP3FgbOv25DBSq883N/wLH4nVbsUevKWlOrZp2SVJ8p3QG8foJA82X\n",
       "KOcsjw1AABRtf5LNdPP056yxXpLqxLorzI8C1EKvWTbbJp/9GZYiipzBxIk/8/aYwr7WH5FVuEdd\n",
       "pnkaVLByCEn8XWN8a9gC5++ns7r4TcLN9QFwonfY2FElrPI/gZRFELibvwUvUsGcLGL/aJykdA5P\n",
       "ht0HX5sfNoqBH2k/i3iSqr4aP2/DYNFVcFh3+wnoRDOPAp0oyVZDHaSDEbuGCguEuwmcrdEX9kkA\n",
       "WzLsPW/4BMcaZfbIZ3vd8silxEkuLQ0WGFmVxD+e9eba4IfcBMC+qUZW9+vgNeSZlTj+bR7YJcJ3\n",
       "C6/WvnAx+iHY8LrSgkQ3hCweIqvBwTuFM/6jYqjiNIMTwe7YHT6OHopuAg8MjQscCQOPfWaZ866X\n",
       "HNKweVaJfSGu/KgMOCsMWq1BJM6p/akL5HvYzfJy9g91CabzMmt6/NoNJ2YkuYwkCw7LzBFBYSt+\n",
       "DthrF4+xdNeTW60FKi9nzr3Zo+53bqJMsZEUVkiMBd4UvWlIbuPzXURDhksD1QyLbKovxl2D+lM6\n",
       "gbxne6x9p6/adXOtDQBF4y/4u8lCA57jzVUMIImkgkRgzDRoDtIzl30oymM9qPdukDfb3S/09USj\n",
       "i+8UW++8XQ62mblg2sP/+F16cyTviFsYvCpRsxsAvg/7fS7q7LVNR2jGXskobDRPbAViG97rw1L5\n",
       "YRO4MYG3NLgm3pYLCB4DTESpL4p/iRsrVciz3qff6prC3Ftrf4HVzmlgWKOqB7/OrtUN5cCRF+Y8\n",
       "gkvq9S68cT8mwwNFWxMX64eOug1uYxdE2Fgi3+kPLRRfO1E1X3mBy2zR/51gq2ZeSSiAdUmlth/x\n",
       "r16CThaVJHEn0z9vZhQ8A3eXecbmtutiHzGxAYxdI/9mMs9bHW35mywV7prxPuJ4YD2CMmFF43Nt\n",
       "eloaJLrvk8lsWv3GvSkw2/vG52XSjDW1d99jORiPYr6nbz6k9xIgNZ6yYA4iAnngKl+Ti6rDJG6r\n",
       "IPPGFsKBeKXLnw5Q7izEtd0G6y6ImjXbV1RyT9nQ4xfcwrMq1eoKoG8ohsbafFrYi6mUKdfgK38C\n",
       "no3MFzEl3bUn7MMWPfV4F10ckcZIqGYpWiEkWMX1dq6nCkcZLA8+WKUPKK9OW8Cxjjvqj0bSNeBU\n",
       "dI8lvIMz8a1ASXYfwncGogo9TEWIyF8p2xzCKfVcnIqe7Pf+52sj7p57wBtfD5uR0csft2gF4DDf\n",
       "tupnifo5YJfZWwXNPq+Nz0IlHcT+tjegaLbadTdLilbSypu/achM+4ut7osPJjW8qW3aGUSvMHJP\n",
       "cCh+rd132xuZUlT/ggrDNnW9AIdWyyJvESs2Xp9WzubdeHmV83AJNmutKEOGVGm1TP+lP3+IBKSO\n",
       "v849Tdc6jZHZDPXkRuOtCNeJTozV5k5yv6cWjFHp+pZm5Hlnsczt+mIvFUtGJ/zJpcC7mqfaMJlv\n",
       "a41Mk3fesbx2M7VRCG7oTP4hvDVGte0axJVJ2QpYAI/2X4nzXFAmVviqLKZCCigteM9/ZFluo29q\n",
       "WzNI6oxxgTGsZvGV0VcqqC51tASXJNwIv8JXVa9Qd7hm1Jy0TejNGUUhWmC44tg7zt9z8RfBWoZW\n",
       "LwzbACsLyepVDnd7X529XKM332UDFFSlNtZUKub3ypbmy0DMg7auzcSefq9o/HulqRH+gBoVpTdu\n",
       "TUBiWAUlzAZ85vDavNQFezjs4AAgpMxPJYMhh7N69uD0gExjazt0n/X6m222n/tO9OroTpjjOtMa\n",
       "TRE3H6jZRPVL43j3b6XIVcj+HlOFhtiEiO0VJ5Kk7D8Pw4Rfsm3BF4RUkxJFdQRAaYzLOt1xQk8F\n",
       "RUwuZffrzDgtsRmZa0gkO87rPcV3u43P49RD8tKhf60vwTOl3DThPJtojR7/28wnZUwPI1yC3KIs\n",
       "XncalcqQSKgyuSxtNswoKs5579k00Sf4pnh62HWgWGWEaoh7gUh+Bxm9NEVDfA/0mxyE5YLALXSq\n",
       "NybSuQhqPToH+DlpfV5I9SZchtTcmXi4KLOZHgRC6trOsa1tKCdpLWwbu1LSOYqTp7aPXlxpdo3V\n",
       "xYk/WNwzwTXreM/ewppjFTbE4Qf+TKB7WTSMbZDL8qaRGjvn3/SCchHDi77c3+/OQzStLXZvcg/j\n",
       "TI/hF00eLdSeXr8Q6UqKkWlMq1ClFEIz1BNMGcl23JEqJzUUBpuXmLEDP0QgbXDFnhgugR0CK5fO\n",
       "F5b0vxeOvgYQ/nZmtvAfRvFeBi/1xM4rrpRljOuzVi9DvQGCl6EEBK4MbLxzuhQLFURf/dcTeFae\n",
       "QSoPwEInQ2nEDyb/1alBV9HBxjE9xkcsqI1fDot+tqdk3h880xXnZn4C8SPliMe9uW4iVej5a8VJ\n",
       "9ytNnxySjgDWXgQDCz7QHwlWUW0tcK9EXkcZhdoadkD8AmHqQwIoWuPJUku5w9SuuPDqFNckqq3N\n",
       "qlxUeNVQviRizlRyCaRTl/asqG31kIR8Ym6CXDc1MoAh9IA8Oxq9QiiE5odL8rJpr3BLpPvuNQXt\n",
       "BTRZ5J7+QtN0hZ325stl7UYFxAwiVdnDNKu8SFSKVpKW6DDUrjGLa7Du8bgvGAdtFpoR0EygaHio\n",
       "bA30X66kODr92dFgcaSnQiag3oheEU6Dp5wee0AytZCMGUrwEMiwvcFS/slazmO7Ej+F2Mj0wwGL\n",
       "WfenbcOmOIacNow62IxmHIcbcAhtYI0yah6t2EZO3RvUwrCOVxgWuoXneV+SekuOhH4sSTc14IMP\n",
       "NEXaGhu6vkZvTS2E49WpeN734t/VhnaM+CuYLp+dcA4ily9pD7p37QeltiAg/LUhhlVTaG/jx9WT\n",
       "CdBCNqdl4HGn/52ugo3TWHX+qI/49bWXRujb/LS1qe5PmwNHzacvPZzglO3PzemoeCmfRkt3Pbx6\n",
       "jx+1JAhAnhkKeL1Gb9Bqnbfy2QAABXxtb292AAAAbG12aGQAAAAAAAAAAAAAAAAAAAPoAAAwcAAB\n",
       "AAABAAAAAAAAAAAAAAAAAQAAAAAAAAAAAAAAAAAAAAEAAAAAAAAAAAAAAAAAAEAAAAAAAAAAAAAA\n",
       "AAAAAAAAAAAAAAAAAAAAAAAAAAACAAAEpnRyYWsAAABcdGtoZAAAAAMAAAAAAAAAAAAAAAEAAAAA\n",
       "AAAwcAAAAAAAAAAAAAAAAAAAAAAAAQAAAAAAAAAAAAAAAAAAAAEAAAAAAAAAAAAAAAAAAEAAAAAF\n",
       "3AAAAyAAAAAAACRlZHRzAAAAHGVsc3QAAAAAAAAAAQAAMHAAABAAAAEAAAAABB5tZGlhAAAAIG1k\n",
       "aGQAAAAAAAAAAAAAAAAAACgAAAHwAFXEAAAAAAAtaGRscgAAAAAAAAAAdmlkZQAAAAAAAAAAAAAA\n",
       "AFZpZGVvSGFuZGxlcgAAAAPJbWluZgAAABR2bWhkAAAAAQAAAAAAAAAAAAAAJGRpbmYAAAAcZHJl\n",
       "ZgAAAAAAAAABAAAADHVybCAAAAABAAADiXN0YmwAAAC5c3RzZAAAAAAAAAABAAAAqWF2YzEAAAAA\n",
       "AAAAAQAAAAAAAAAAAAAAAAAAAAAF3AMgAEgAAABIAAAAAAAAAAEAAAAAAAAAAAAAAAAAAAAAAAAA\n",
       "AAAAAAAAAAAAAAAAAAAY//8AAAA3YXZjQwFkACD/4QAaZ2QAIKzZQF4GXvhAAAADAEAAAAMCg8YM\n",
       "ZYABAAZo6+PLIsD9+PgAAAAAHHV1aWRraEDyXyRPxbo5pRvPAyPzAAAAAAAAABhzdHRzAAAAAAAA\n",
       "AAEAAAA+AAAIAAAAABRzdHNzAAAAAAAAAAEAAAABAAABYGN0dHMAAAAAAAAAKgAAAAQAABAAAAAA\n",
       "AQAAGAAAAAABAAAIAAAAAAEAABgAAAAAAQAACAAAAAACAAAQAAAAAAEAABgAAAAAAQAACAAAAAAB\n",
       "AAAgAAAAAAIAAAgAAAAAAQAAIAAAAAACAAAIAAAAAAgAABAAAAAAAQAAGAAAAAABAAAIAAAAAAEA\n",
       "ABgAAAAAAQAACAAAAAABAAAQAAAAAAEAABgAAAAAAQAACAAAAAABAAAoAAAAAAEAABAAAAAAAQAA\n",
       "AAAAAAABAAAIAAAAAAEAABgAAAAAAQAACAAAAAADAAAQAAAAAAEAABgAAAAAAQAACAAAAAABAAAY\n",
       "AAAAAAEAAAgAAAAAAQAAKAAAAAABAAAQAAAAAAEAAAAAAAAAAQAACAAAAAABAAAQAAAAAAEAABgA\n",
       "AAAAAQAACAAAAAABAAAQAAAAAAEAACAAAAAAAgAACAAAAAAFAAAQAAAAABxzdHNjAAAAAAAAAAEA\n",
       "AAABAAAAPgAAAAEAAAEMc3RzegAAAAAAAAAAAAAAPgAAaK8AABPmAAAPfgAADicAABFrAAAI3wAA\n",
       "EO4AAAljAAAOXAAAD2wAABNTAAAJegAAF2YAAAhcAAAJFAAAEwkAAAr8AAAKCQAAEUcAABBzAAAO\n",
       "LgAAC80AAAxyAAAN6wAADoQAAAq6AAAQxwAACJ4AABFUAAAJnQAADY8AABEVAAAHxgAAG3sAAAuN\n",
       "AAAKbwAAB38AABQZAAAKHgAAEWYAAAxbAAANBAAADwsAAAoJAAARtQAACCYAABWuAAAKbwAACBoA\n",
       "AAojAAAM5AAADZMAAAhkAAAM0AAAEEkAAAmCAAAIGQAADocAAAt1AAAMPAAACjgAAAszAAAAFHN0\n",
       "Y28AAAAAAAAAAQAAADAAAABidWR0YQAAAFptZXRhAAAAAAAAACFoZGxyAAAAAAAAAABtZGlyYXBw\n",
       "bAAAAAAAAAAAAAAAAC1pbHN0AAAAJal0b28AAAAdZGF0YQAAAAEAAAAATGF2ZjU4Ljc2LjEwMA==\n",
       "\">\n",
       "  Your browser does not support the video tag.\n",
       "</video>"
      ],
      "text/plain": [
       "<IPython.core.display.HTML object>"
      ]
     },
     "execution_count": 9,
     "metadata": {},
     "output_type": "execute_result"
    },
    {
     "data": {
      "image/png": "[encoded data removed]",
      "text/plain": [
       "<Figure size 1500x800 with 1 Axes>"
      ]
     },
     "metadata": {},
     "output_type": "display_data"
    }
   ],
   "source": [
    "import pandas as pd\n",
    "import matplotlib.pyplot as plt\n",
    "from matplotlib.animation import FuncAnimation, PillowWriter\n",
    "from IPython.display import HTML\n",
    "\n",
    "## creating sample dataframes to run the function\n",
    "age_ranges = []\n",
    "for i in range (0, 80, 5):\n",
    "    age_ranges.append(f'{i:02d}' + f'{i+4:02d}')\n",
    "age_ranges.append(\"80UP\")\n",
    "\n",
    "male_variables = {\"SP.POP.\"+age_range+\".MA\":\"Males \"+age_range for age_range in age_ranges}\n",
    "female_variables = {\"SP.POP.\"+age_range+\".FE\":\"Females \"+age_range for age_range in age_ranges}\n",
    "variables = male_variables\n",
    "variables.update(female_variables)\n",
    "\n",
    "df = wbdata.get_dataframe(variables,country=\"FIN\")\n",
    "df.index = df.index.astype(int)\n",
    "df.reset_index (inplace = True)\n",
    "\n",
    "def animated_population_pyramid (df):\n",
    "    fig, ax = plt.subplots(figsize = (15,8))\n",
    "    def animate(year):\n",
    "        ax.clear()\n",
    "        filtered_men = df[df['date'] == year].filter(regex=\"Male\").values[0]\n",
    "        filtered_women = -df[df['date'] == year].filter(regex=\"Female\").values[0]\n",
    "        age = [int(s[:2])+1 for s in age_ranges]\n",
    "        male = plt.barh (y=age, width = filtered_men, color = '#00008B')\n",
    "        female = plt.barh (y=age, width = filtered_women, color = '#FFD1D6')\n",
    "        \n",
    "        # pass in labels and set limits for scaled visualization\n",
    "        ax.set_xlim(-500_000, 500_000)\n",
    "        ax.bar_label(male, padding = 3, labels = [f'{round(values, -3):,}' for values in filtered_men])\n",
    "        ax.bar_label(female, padding = 3, labels = [f'{-1* round(values, -3):,}' for values in filtered_women])\n",
    "        #loop over the edge, move tick marks and clean up generally\n",
    "        for edge in ['top', 'right', 'bottom', 'left']:\n",
    "            ax.spines[edge].set_visible(False)\n",
    "        ax.tick_params(left = False)\n",
    "        ax.get_xaxis().set_visible(False)\n",
    "        ax.set_ylabel(\"Age Range\")\n",
    "        ax.legend([male,female],['Males', 'Females'])\n",
    "        ax.set_title(f'Population of Finland in {year}', size = 18)\n",
    "        #animate using FuncAnimation imports by implemeting the animate function\n",
    "    animation = FuncAnimation(fig, animate, frames = range(df['date'].min(),df['date'].max()+1))\n",
    "    #implemeted HTML due to jupyter notebook limitation of visualizing gif file\n",
    "    return HTML(animation.to_html5_video())\n",
    "animated_population_pyramid (df)\n"
   ]
  },
  {
   "cell_type": "markdown",
   "id": "9911f158",
   "metadata": {},
   "source": [
    "## Project Description: comparative analysis of GDP vs. Average Years of Total Schooling in Finalnd and Colombia\n",
    "\n",
    "### These graphs are interactive methods in order to compare GDP Per Capita or Total Years of Schooling between Columbia and Finland."
   ]
  },
  {
   "cell_type": "markdown",
   "id": "8723b6eb",
   "metadata": {},
   "source": [
    "#### 1. We created an interactive plot that takes in a list of countries and compares their GDP per capita from 1960 to 2020."
   ]
  },
  {
   "cell_type": "code",
   "execution_count": 10,
   "id": "2058439b",
   "metadata": {},
   "outputs": [
    {
     "data": {
      "application/vnd.plotly.v1+json": {
       "config": {
        "linkText": "Export to plot.ly",
        "plotlyServerURL": "https://plot.ly",
        "showLink": true
       },
       "data": [
        {
         "line": {
          "color": "rgba(255, 153, 51, 1.0)",
          "dash": "solid",
          "shape": "linear",
          "width": 1.3
         },
         "mode": "lines",
         "name": "('GDP per capita', 'Colombia')",
         "text": "",
         "type": "scatter",
         "x": [
          "1960",
          "1961",
          "1962",
          "1963",
          "1964",
          "1965",
          "1966",
          "1967",
          "1968",
          "1969",
          "1970",
          "1971",
          "1972",
          "1973",
          "1974",
          "1975",
          "1976",
          "1977",
          "1978",
          "1979",
          "1980",
          "1981",
          "1982",
          "1983",
          "1984",
          "1985",
          "1986",
          "1987",
          "1988",
          "1989",
          "1990",
          "1991",
          "1992",
          "1993",
          "1994",
          "1995",
          "1996",
          "1997",
          "1998",
          "1999",
          "2000",
          "2001",
          "2002",
          "2003",
          "2004",
          "2005",
          "2006",
          "2007",
          "2008",
          "2009",
          "2010",
          "2011",
          "2012",
          "2013",
          "2014",
          "2015",
          "2016",
          "2017",
          "2018",
          "2019",
          "2020",
          "2021"
         ],
         "y": [
          256.962847338565,
          280.579137401505,
          296.894148895734,
          280.993494299019,
          336.722068787801,
          315.212329517137,
          288.575890071302,
          301.136382485833,
          299.922605075449,
          316.305007317933,
          344.332599843029,
          365.345951070262,
          395.98762231097,
          460.600711257064,
          540.226188873276,
          559.681441470476,
          641.550720418532,
          796.556192288003,
          930.406202098949,
          1092.30456373975,
          1275.99659324238,
          1358.48545216789,
          1421.92168833937,
          1381.12004825276,
          1333.37091115403,
          1189.86912589546,
          1166.30079731611,
          1188.5517771004,
          1254.53154613477,
          1238.60336697052,
          1467.54743608627,
          1477.95857637291,
          1721.29167957045,
          1919.61038565151,
          2314.84441713444,
          2571.78258640527,
          2652.28733121773,
          2860.12181480835,
          2594.41982530463,
          2233.66813460464,
          2547.14352840369,
          2465.2858516059,
          2421.58705506087,
          2305.08305772858,
          2811.19787141394,
          3448.98036486383,
          3778.52665981682,
          4760.98121037755,
          5527.44995277183,
          5244.353266184,
          6394.19870546282,
          7392.45236079278,
          8101.82909177914,
          8264.1268955859,
          8164.71449537797,
          6228.4262990412,
          5938.46385585875,
          6450.31958548124,
          6782.03792033195,
          6438.06018290435,
          5307.21522798919,
          6104.1367093039
         ]
        },
        {
         "line": {
          "color": "rgba(55, 128, 191, 1.0)",
          "dash": "solid",
          "shape": "linear",
          "width": 1.3
         },
         "mode": "lines",
         "name": "('GDP per capita', 'Finland')",
         "text": "",
         "type": "scatter",
         "x": [
          "1960",
          "1961",
          "1962",
          "1963",
          "1964",
          "1965",
          "1966",
          "1967",
          "1968",
          "1969",
          "1970",
          "1971",
          "1972",
          "1973",
          "1974",
          "1975",
          "1976",
          "1977",
          "1978",
          "1979",
          "1980",
          "1981",
          "1982",
          "1983",
          "1984",
          "1985",
          "1986",
          "1987",
          "1988",
          "1989",
          "1990",
          "1991",
          "1992",
          "1993",
          "1994",
          "1995",
          "1996",
          "1997",
          "1998",
          "1999",
          "2000",
          "2001",
          "2002",
          "2003",
          "2004",
          "2005",
          "2006",
          "2007",
          "2008",
          "2009",
          "2010",
          "2011",
          "2012",
          "2013",
          "2014",
          "2015",
          "2016",
          "2017",
          "2018",
          "2019",
          "2020",
          "2021"
         ],
         "y": [
          1179.35301099994,
          1327.427224366,
          1411.70239818044,
          1522.3192420995,
          1707.50393824701,
          1882.08685764849,
          2010.21345619725,
          2034.18904965478,
          1907.07727217667,
          2178.03525044982,
          2465.64481862422,
          2716.19009222861,
          3177.64570093734,
          4173.17304749428,
          5297.60781739462,
          6255.54464076423,
          6739.69071253255,
          7069.10573825616,
          7628.81571424906,
          9332.24526383769,
          11223.937563528,
          10926.817966566,
          10938.122061411,
          10497.479996566,
          10833.8662886935,
          11398.1059531509,
          14951.0467852887,
          18571.0599253579,
          22047.7933222595,
          23973.2394840041,
          28364.6450765922,
          25484.7392935746,
          22319.059460246,
          17608.8123902264,
          20301.333085866,
          26271.5998141691,
          25783.4504878611,
          24691.8728133698,
          26009.2694886182,
          26186.1900105755,
          24345.9148217032,
          24967.7925153182,
          26997.7529897788,
          32927.6802919408,
          37772.1781110398,
          39054.8504423825,
          41222.6020004611,
          48476.3927287052,
          53772.7942390019,
          47481.4845364339,
          46505.3031791811,
          51148.9316365833,
          47708.0612784469,
          49892.2233632732,
          50327.2402902632,
          42801.9081167285,
          43814.0265056965,
          46412.1364777169,
          49987.6261584968,
          48629.8582283032,
          49170.7521512441,
          53654.7502964259
         ]
        }
       ],
       "layout": {
        "legend": {
         "bgcolor": "#F5F6F9",
         "font": {
          "color": "#4D5663"
         }
        },
        "paper_bgcolor": "#F5F6F9",
        "plot_bgcolor": "#F5F6F9",
        "template": {
         "data": {
          "bar": [
           {
            "error_x": {
             "color": "#2a3f5f"
            },
            "error_y": {
             "color": "#2a3f5f"
            },
            "marker": {
             "line": {
              "color": "#E5ECF6",
              "width": 0.5
             },
             "pattern": {
              "fillmode": "overlay",
              "size": 10,
              "solidity": 0.2
             }
            },
            "type": "bar"
           }
          ],
          "barpolar": [
           {
            "marker": {
             "line": {
              "color": "#E5ECF6",
              "width": 0.5
             },
             "pattern": {
              "fillmode": "overlay",
              "size": 10,
              "solidity": 0.2
             }
            },
            "type": "barpolar"
           }
          ],
          "carpet": [
           {
            "aaxis": {
             "endlinecolor": "#2a3f5f",
             "gridcolor": "white",
             "linecolor": "white",
             "minorgridcolor": "white",
             "startlinecolor": "#2a3f5f"
            },
            "baxis": {
             "endlinecolor": "#2a3f5f",
             "gridcolor": "white",
             "linecolor": "white",
             "minorgridcolor": "white",
             "startlinecolor": "#2a3f5f"
            },
            "type": "carpet"
           }
          ],
          "choropleth": [
           {
            "colorbar": {
             "outlinewidth": 0,
             "ticks": ""
            },
            "type": "choropleth"
           }
          ],
          "contour": [
           {
            "colorbar": {
             "outlinewidth": 0,
             "ticks": ""
            },
            "colorscale": [
             [
              0,
              "#0d0887"
             ],
             [
              0.1111111111111111,
              "#46039f"
             ],
             [
              0.2222222222222222,
              "#7201a8"
             ],
             [
              0.3333333333333333,
              "#9c179e"
             ],
             [
              0.4444444444444444,
              "#bd3786"
             ],
             [
              0.5555555555555556,
              "#d8576b"
             ],
             [
              0.6666666666666666,
              "#ed7953"
             ],
             [
              0.7777777777777778,
              "#fb9f3a"
             ],
             [
              0.8888888888888888,
              "#fdca26"
             ],
             [
              1,
              "#f0f921"
             ]
            ],
            "type": "contour"
           }
          ],
          "contourcarpet": [
           {
            "colorbar": {
             "outlinewidth": 0,
             "ticks": ""
            },
            "type": "contourcarpet"
           }
          ],
          "heatmap": [
           {
            "colorbar": {
             "outlinewidth": 0,
             "ticks": ""
            },
            "colorscale": [
             [
              0,
              "#0d0887"
             ],
             [
              0.1111111111111111,
              "#46039f"
             ],
             [
              0.2222222222222222,
              "#7201a8"
             ],
             [
              0.3333333333333333,
              "#9c179e"
             ],
             [
              0.4444444444444444,
              "#bd3786"
             ],
             [
              0.5555555555555556,
              "#d8576b"
             ],
             [
              0.6666666666666666,
              "#ed7953"
             ],
             [
              0.7777777777777778,
              "#fb9f3a"
             ],
             [
              0.8888888888888888,
              "#fdca26"
             ],
             [
              1,
              "#f0f921"
             ]
            ],
            "type": "heatmap"
           }
          ],
          "heatmapgl": [
           {
            "colorbar": {
             "outlinewidth": 0,
             "ticks": ""
            },
            "colorscale": [
             [
              0,
              "#0d0887"
             ],
             [
              0.1111111111111111,
              "#46039f"
             ],
             [
              0.2222222222222222,
              "#7201a8"
             ],
             [
              0.3333333333333333,
              "#9c179e"
             ],
             [
              0.4444444444444444,
              "#bd3786"
             ],
             [
              0.5555555555555556,
              "#d8576b"
             ],
             [
              0.6666666666666666,
              "#ed7953"
             ],
             [
              0.7777777777777778,
              "#fb9f3a"
             ],
             [
              0.8888888888888888,
              "#fdca26"
             ],
             [
              1,
              "#f0f921"
             ]
            ],
            "type": "heatmapgl"
           }
          ],
          "histogram": [
           {
            "marker": {
             "pattern": {
              "fillmode": "overlay",
              "size": 10,
              "solidity": 0.2
             }
            },
            "type": "histogram"
           }
          ],
          "histogram2d": [
           {
            "colorbar": {
             "outlinewidth": 0,
             "ticks": ""
            },
            "colorscale": [
             [
              0,
              "#0d0887"
             ],
             [
              0.1111111111111111,
              "#46039f"
             ],
             [
              0.2222222222222222,
              "#7201a8"
             ],
             [
              0.3333333333333333,
              "#9c179e"
             ],
             [
              0.4444444444444444,
              "#bd3786"
             ],
             [
              0.5555555555555556,
              "#d8576b"
             ],
             [
              0.6666666666666666,
              "#ed7953"
             ],
             [
              0.7777777777777778,
              "#fb9f3a"
             ],
             [
              0.8888888888888888,
              "#fdca26"
             ],
             [
              1,
              "#f0f921"
             ]
            ],
            "type": "histogram2d"
           }
          ],
          "histogram2dcontour": [
           {
            "colorbar": {
             "outlinewidth": 0,
             "ticks": ""
            },
            "colorscale": [
             [
              0,
              "#0d0887"
             ],
             [
              0.1111111111111111,
              "#46039f"
             ],
             [
              0.2222222222222222,
              "#7201a8"
             ],
             [
              0.3333333333333333,
              "#9c179e"
             ],
             [
              0.4444444444444444,
              "#bd3786"
             ],
             [
              0.5555555555555556,
              "#d8576b"
             ],
             [
              0.6666666666666666,
              "#ed7953"
             ],
             [
              0.7777777777777778,
              "#fb9f3a"
             ],
             [
              0.8888888888888888,
              "#fdca26"
             ],
             [
              1,
              "#f0f921"
             ]
            ],
            "type": "histogram2dcontour"
           }
          ],
          "mesh3d": [
           {
            "colorbar": {
             "outlinewidth": 0,
             "ticks": ""
            },
            "type": "mesh3d"
           }
          ],
          "parcoords": [
           {
            "line": {
             "colorbar": {
              "outlinewidth": 0,
              "ticks": ""
             }
            },
            "type": "parcoords"
           }
          ],
          "pie": [
           {
            "automargin": true,
            "type": "pie"
           }
          ],
          "scatter": [
           {
            "marker": {
             "colorbar": {
              "outlinewidth": 0,
              "ticks": ""
             }
            },
            "type": "scatter"
           }
          ],
          "scatter3d": [
           {
            "line": {
             "colorbar": {
              "outlinewidth": 0,
              "ticks": ""
             }
            },
            "marker": {
             "colorbar": {
              "outlinewidth": 0,
              "ticks": ""
             }
            },
            "type": "scatter3d"
           }
          ],
          "scattercarpet": [
           {
            "marker": {
             "colorbar": {
              "outlinewidth": 0,
              "ticks": ""
             }
            },
            "type": "scattercarpet"
           }
          ],
          "scattergeo": [
           {
            "marker": {
             "colorbar": {
              "outlinewidth": 0,
              "ticks": ""
             }
            },
            "type": "scattergeo"
           }
          ],
          "scattergl": [
           {
            "marker": {
             "colorbar": {
              "outlinewidth": 0,
              "ticks": ""
             }
            },
            "type": "scattergl"
           }
          ],
          "scattermapbox": [
           {
            "marker": {
             "colorbar": {
              "outlinewidth": 0,
              "ticks": ""
             }
            },
            "type": "scattermapbox"
           }
          ],
          "scatterpolar": [
           {
            "marker": {
             "colorbar": {
              "outlinewidth": 0,
              "ticks": ""
             }
            },
            "type": "scatterpolar"
           }
          ],
          "scatterpolargl": [
           {
            "marker": {
             "colorbar": {
              "outlinewidth": 0,
              "ticks": ""
             }
            },
            "type": "scatterpolargl"
           }
          ],
          "scatterternary": [
           {
            "marker": {
             "colorbar": {
              "outlinewidth": 0,
              "ticks": ""
             }
            },
            "type": "scatterternary"
           }
          ],
          "surface": [
           {
            "colorbar": {
             "outlinewidth": 0,
             "ticks": ""
            },
            "colorscale": [
             [
              0,
              "#0d0887"
             ],
             [
              0.1111111111111111,
              "#46039f"
             ],
             [
              0.2222222222222222,
              "#7201a8"
             ],
             [
              0.3333333333333333,
              "#9c179e"
             ],
             [
              0.4444444444444444,
              "#bd3786"
             ],
             [
              0.5555555555555556,
              "#d8576b"
             ],
             [
              0.6666666666666666,
              "#ed7953"
             ],
             [
              0.7777777777777778,
              "#fb9f3a"
             ],
             [
              0.8888888888888888,
              "#fdca26"
             ],
             [
              1,
              "#f0f921"
             ]
            ],
            "type": "surface"
           }
          ],
          "table": [
           {
            "cells": {
             "fill": {
              "color": "#EBF0F8"
             },
             "line": {
              "color": "white"
             }
            },
            "header": {
             "fill": {
              "color": "#C8D4E3"
             },
             "line": {
              "color": "white"
             }
            },
            "type": "table"
           }
          ]
         },
         "layout": {
          "annotationdefaults": {
           "arrowcolor": "#2a3f5f",
           "arrowhead": 0,
           "arrowwidth": 1
          },
          "autotypenumbers": "strict",
          "coloraxis": {
           "colorbar": {
            "outlinewidth": 0,
            "ticks": ""
           }
          },
          "colorscale": {
           "diverging": [
            [
             0,
             "#8e0152"
            ],
            [
             0.1,
             "#c51b7d"
            ],
            [
             0.2,
             "#de77ae"
            ],
            [
             0.3,
             "#f1b6da"
            ],
            [
             0.4,
             "#fde0ef"
            ],
            [
             0.5,
             "#f7f7f7"
            ],
            [
             0.6,
             "#e6f5d0"
            ],
            [
             0.7,
             "#b8e186"
            ],
            [
             0.8,
             "#7fbc41"
            ],
            [
             0.9,
             "#4d9221"
            ],
            [
             1,
             "#276419"
            ]
           ],
           "sequential": [
            [
             0,
             "#0d0887"
            ],
            [
             0.1111111111111111,
             "#46039f"
            ],
            [
             0.2222222222222222,
             "#7201a8"
            ],
            [
             0.3333333333333333,
             "#9c179e"
            ],
            [
             0.4444444444444444,
             "#bd3786"
            ],
            [
             0.5555555555555556,
             "#d8576b"
            ],
            [
             0.6666666666666666,
             "#ed7953"
            ],
            [
             0.7777777777777778,
             "#fb9f3a"
            ],
            [
             0.8888888888888888,
             "#fdca26"
            ],
            [
             1,
             "#f0f921"
            ]
           ],
           "sequentialminus": [
            [
             0,
             "#0d0887"
            ],
            [
             0.1111111111111111,
             "#46039f"
            ],
            [
             0.2222222222222222,
             "#7201a8"
            ],
            [
             0.3333333333333333,
             "#9c179e"
            ],
            [
             0.4444444444444444,
             "#bd3786"
            ],
            [
             0.5555555555555556,
             "#d8576b"
            ],
            [
             0.6666666666666666,
             "#ed7953"
            ],
            [
             0.7777777777777778,
             "#fb9f3a"
            ],
            [
             0.8888888888888888,
             "#fdca26"
            ],
            [
             1,
             "#f0f921"
            ]
           ]
          },
          "colorway": [
           "#636efa",
           "#EF553B",
           "#00cc96",
           "#ab63fa",
           "#FFA15A",
           "#19d3f3",
           "#FF6692",
           "#B6E880",
           "#FF97FF",
           "#FECB52"
          ],
          "font": {
           "color": "#2a3f5f"
          },
          "geo": {
           "bgcolor": "white",
           "lakecolor": "white",
           "landcolor": "#E5ECF6",
           "showlakes": true,
           "showland": true,
           "subunitcolor": "white"
          },
          "hoverlabel": {
           "align": "left"
          },
          "hovermode": "closest",
          "mapbox": {
           "style": "light"
          },
          "paper_bgcolor": "white",
          "plot_bgcolor": "#E5ECF6",
          "polar": {
           "angularaxis": {
            "gridcolor": "white",
            "linecolor": "white",
            "ticks": ""
           },
           "bgcolor": "#E5ECF6",
           "radialaxis": {
            "gridcolor": "white",
            "linecolor": "white",
            "ticks": ""
           }
          },
          "scene": {
           "xaxis": {
            "backgroundcolor": "#E5ECF6",
            "gridcolor": "white",
            "gridwidth": 2,
            "linecolor": "white",
            "showbackground": true,
            "ticks": "",
            "zerolinecolor": "white"
           },
           "yaxis": {
            "backgroundcolor": "#E5ECF6",
            "gridcolor": "white",
            "gridwidth": 2,
            "linecolor": "white",
            "showbackground": true,
            "ticks": "",
            "zerolinecolor": "white"
           },
           "zaxis": {
            "backgroundcolor": "#E5ECF6",
            "gridcolor": "white",
            "gridwidth": 2,
            "linecolor": "white",
            "showbackground": true,
            "ticks": "",
            "zerolinecolor": "white"
           }
          },
          "shapedefaults": {
           "line": {
            "color": "#2a3f5f"
           }
          },
          "ternary": {
           "aaxis": {
            "gridcolor": "white",
            "linecolor": "white",
            "ticks": ""
           },
           "baxis": {
            "gridcolor": "white",
            "linecolor": "white",
            "ticks": ""
           },
           "bgcolor": "#E5ECF6",
           "caxis": {
            "gridcolor": "white",
            "linecolor": "white",
            "ticks": ""
           }
          },
          "title": {
           "x": 0.05
          },
          "xaxis": {
           "automargin": true,
           "gridcolor": "white",
           "linecolor": "white",
           "ticks": "",
           "title": {
            "standoff": 15
           },
           "zerolinecolor": "white",
           "zerolinewidth": 2
          },
          "yaxis": {
           "automargin": true,
           "gridcolor": "white",
           "linecolor": "white",
           "ticks": "",
           "title": {
            "standoff": 15
           },
           "zerolinecolor": "white",
           "zerolinewidth": 2
          }
         }
        },
        "title": {
         "font": {
          "color": "#4D5663"
         },
         "text": "GDP Per Capita Per Country Over Time"
        },
        "xaxis": {
         "gridcolor": "#E1E5ED",
         "showgrid": true,
         "tickfont": {
          "color": "#4D5663"
         },
         "title": {
          "font": {
           "color": "#4D5663"
          },
          "text": "Date"
         },
         "zerolinecolor": "#E1E5ED"
        },
        "yaxis": {
         "gridcolor": "#E1E5ED",
         "showgrid": true,
         "tickfont": {
          "color": "#4D5663"
         },
         "title": {
          "font": {
           "color": "#4D5663"
          },
          "text": "GDP Per Capita"
         },
         "zerolinecolor": "#E1E5ED"
        }
       }
      },
      "text/html": [
       "<div>                            <div id=\"fbe6b364-8df7-4da7-b18c-eec01c2d55c6\" class=\"plotly-graph-div\" style=\"height:525px; width:100%;\"></div>            <script type=\"text/javascript\">                require([\"plotly\"], function(Plotly) {                    window.PLOTLYENV=window.PLOTLYENV || {};\n",
       "                    window.PLOTLYENV.BASE_URL='https://plot.ly';                                    if (document.getElementById(\"fbe6b364-8df7-4da7-b18c-eec01c2d55c6\")) {                    Plotly.newPlot(                        \"fbe6b364-8df7-4da7-b18c-eec01c2d55c6\",                        [{\"line\":{\"color\":\"rgba(255, 153, 51, 1.0)\",\"dash\":\"solid\",\"shape\":\"linear\",\"width\":1.3},\"mode\":\"lines\",\"name\":\"('GDP per capita', 'Colombia')\",\"text\":\"\",\"type\":\"scatter\",\"x\":[\"1960\",\"1961\",\"1962\",\"1963\",\"1964\",\"1965\",\"1966\",\"1967\",\"1968\",\"1969\",\"1970\",\"1971\",\"1972\",\"1973\",\"1974\",\"1975\",\"1976\",\"1977\",\"1978\",\"1979\",\"1980\",\"1981\",\"1982\",\"1983\",\"1984\",\"1985\",\"1986\",\"1987\",\"1988\",\"1989\",\"1990\",\"1991\",\"1992\",\"1993\",\"1994\",\"1995\",\"1996\",\"1997\",\"1998\",\"1999\",\"2000\",\"2001\",\"2002\",\"2003\",\"2004\",\"2005\",\"2006\",\"2007\",\"2008\",\"2009\",\"2010\",\"2011\",\"2012\",\"2013\",\"2014\",\"2015\",\"2016\",\"2017\",\"2018\",\"2019\",\"2020\",\"2021\"],\"y\":[256.962847338565,280.579137401505,296.894148895734,280.993494299019,336.722068787801,315.212329517137,288.575890071302,301.136382485833,299.922605075449,316.305007317933,344.332599843029,365.345951070262,395.98762231097,460.600711257064,540.226188873276,559.681441470476,641.550720418532,796.556192288003,930.406202098949,1092.30456373975,1275.99659324238,1358.48545216789,1421.92168833937,1381.12004825276,1333.37091115403,1189.86912589546,1166.30079731611,1188.5517771004,1254.53154613477,1238.60336697052,1467.54743608627,1477.95857637291,1721.29167957045,1919.61038565151,2314.84441713444,2571.78258640527,2652.28733121773,2860.12181480835,2594.41982530463,2233.66813460464,2547.14352840369,2465.2858516059,2421.58705506087,2305.08305772858,2811.19787141394,3448.98036486383,3778.52665981682,4760.98121037755,5527.44995277183,5244.353266184,6394.19870546282,7392.45236079278,8101.82909177914,8264.1268955859,8164.71449537797,6228.4262990412,5938.46385585875,6450.31958548124,6782.03792033195,6438.06018290435,5307.21522798919,6104.1367093039]},{\"line\":{\"color\":\"rgba(55, 128, 191, 1.0)\",\"dash\":\"solid\",\"shape\":\"linear\",\"width\":1.3},\"mode\":\"lines\",\"name\":\"('GDP per capita', 'Finland')\",\"text\":\"\",\"type\":\"scatter\",\"x\":[\"1960\",\"1961\",\"1962\",\"1963\",\"1964\",\"1965\",\"1966\",\"1967\",\"1968\",\"1969\",\"1970\",\"1971\",\"1972\",\"1973\",\"1974\",\"1975\",\"1976\",\"1977\",\"1978\",\"1979\",\"1980\",\"1981\",\"1982\",\"1983\",\"1984\",\"1985\",\"1986\",\"1987\",\"1988\",\"1989\",\"1990\",\"1991\",\"1992\",\"1993\",\"1994\",\"1995\",\"1996\",\"1997\",\"1998\",\"1999\",\"2000\",\"2001\",\"2002\",\"2003\",\"2004\",\"2005\",\"2006\",\"2007\",\"2008\",\"2009\",\"2010\",\"2011\",\"2012\",\"2013\",\"2014\",\"2015\",\"2016\",\"2017\",\"2018\",\"2019\",\"2020\",\"2021\"],\"y\":[1179.35301099994,1327.427224366,1411.70239818044,1522.3192420995,1707.50393824701,1882.08685764849,2010.21345619725,2034.18904965478,1907.07727217667,2178.03525044982,2465.64481862422,2716.19009222861,3177.64570093734,4173.17304749428,5297.60781739462,6255.54464076423,6739.69071253255,7069.10573825616,7628.81571424906,9332.24526383769,11223.937563528,10926.817966566,10938.122061411,10497.479996566,10833.8662886935,11398.1059531509,14951.0467852887,18571.0599253579,22047.7933222595,23973.2394840041,28364.6450765922,25484.7392935746,22319.059460246,17608.8123902264,20301.333085866,26271.5998141691,25783.4504878611,24691.8728133698,26009.2694886182,26186.1900105755,24345.9148217032,24967.7925153182,26997.7529897788,32927.6802919408,37772.1781110398,39054.8504423825,41222.6020004611,48476.3927287052,53772.7942390019,47481.4845364339,46505.3031791811,51148.9316365833,47708.0612784469,49892.2233632732,50327.2402902632,42801.9081167285,43814.0265056965,46412.1364777169,49987.6261584968,48629.8582283032,49170.7521512441,53654.7502964259]}],                        {\"legend\":{\"bgcolor\":\"#F5F6F9\",\"font\":{\"color\":\"#4D5663\"}},\"paper_bgcolor\":\"#F5F6F9\",\"plot_bgcolor\":\"#F5F6F9\",\"template\":{\"data\":{\"bar\":[{\"error_x\":{\"color\":\"#2a3f5f\"},\"error_y\":{\"color\":\"#2a3f5f\"},\"marker\":{\"line\":{\"color\":\"#E5ECF6\",\"width\":0.5},\"pattern\":{\"fillmode\":\"overlay\",\"size\":10,\"solidity\":0.2}},\"type\":\"bar\"}],\"barpolar\":[{\"marker\":{\"line\":{\"color\":\"#E5ECF6\",\"width\":0.5},\"pattern\":{\"fillmode\":\"overlay\",\"size\":10,\"solidity\":0.2}},\"type\":\"barpolar\"}],\"carpet\":[{\"aaxis\":{\"endlinecolor\":\"#2a3f5f\",\"gridcolor\":\"white\",\"linecolor\":\"white\",\"minorgridcolor\":\"white\",\"startlinecolor\":\"#2a3f5f\"},\"baxis\":{\"endlinecolor\":\"#2a3f5f\",\"gridcolor\":\"white\",\"linecolor\":\"white\",\"minorgridcolor\":\"white\",\"startlinecolor\":\"#2a3f5f\"},\"type\":\"carpet\"}],\"choropleth\":[{\"colorbar\":{\"outlinewidth\":0,\"ticks\":\"\"},\"type\":\"choropleth\"}],\"contour\":[{\"colorbar\":{\"outlinewidth\":0,\"ticks\":\"\"},\"colorscale\":[[0.0,\"#0d0887\"],[0.1111111111111111,\"#46039f\"],[0.2222222222222222,\"#7201a8\"],[0.3333333333333333,\"#9c179e\"],[0.4444444444444444,\"#bd3786\"],[0.5555555555555556,\"#d8576b\"],[0.6666666666666666,\"#ed7953\"],[0.7777777777777778,\"#fb9f3a\"],[0.8888888888888888,\"#fdca26\"],[1.0,\"#f0f921\"]],\"type\":\"contour\"}],\"contourcarpet\":[{\"colorbar\":{\"outlinewidth\":0,\"ticks\":\"\"},\"type\":\"contourcarpet\"}],\"heatmap\":[{\"colorbar\":{\"outlinewidth\":0,\"ticks\":\"\"},\"colorscale\":[[0.0,\"#0d0887\"],[0.1111111111111111,\"#46039f\"],[0.2222222222222222,\"#7201a8\"],[0.3333333333333333,\"#9c179e\"],[0.4444444444444444,\"#bd3786\"],[0.5555555555555556,\"#d8576b\"],[0.6666666666666666,\"#ed7953\"],[0.7777777777777778,\"#fb9f3a\"],[0.8888888888888888,\"#fdca26\"],[1.0,\"#f0f921\"]],\"type\":\"heatmap\"}],\"heatmapgl\":[{\"colorbar\":{\"outlinewidth\":0,\"ticks\":\"\"},\"colorscale\":[[0.0,\"#0d0887\"],[0.1111111111111111,\"#46039f\"],[0.2222222222222222,\"#7201a8\"],[0.3333333333333333,\"#9c179e\"],[0.4444444444444444,\"#bd3786\"],[0.5555555555555556,\"#d8576b\"],[0.6666666666666666,\"#ed7953\"],[0.7777777777777778,\"#fb9f3a\"],[0.8888888888888888,\"#fdca26\"],[1.0,\"#f0f921\"]],\"type\":\"heatmapgl\"}],\"histogram\":[{\"marker\":{\"pattern\":{\"fillmode\":\"overlay\",\"size\":10,\"solidity\":0.2}},\"type\":\"histogram\"}],\"histogram2d\":[{\"colorbar\":{\"outlinewidth\":0,\"ticks\":\"\"},\"colorscale\":[[0.0,\"#0d0887\"],[0.1111111111111111,\"#46039f\"],[0.2222222222222222,\"#7201a8\"],[0.3333333333333333,\"#9c179e\"],[0.4444444444444444,\"#bd3786\"],[0.5555555555555556,\"#d8576b\"],[0.6666666666666666,\"#ed7953\"],[0.7777777777777778,\"#fb9f3a\"],[0.8888888888888888,\"#fdca26\"],[1.0,\"#f0f921\"]],\"type\":\"histogram2d\"}],\"histogram2dcontour\":[{\"colorbar\":{\"outlinewidth\":0,\"ticks\":\"\"},\"colorscale\":[[0.0,\"#0d0887\"],[0.1111111111111111,\"#46039f\"],[0.2222222222222222,\"#7201a8\"],[0.3333333333333333,\"#9c179e\"],[0.4444444444444444,\"#bd3786\"],[0.5555555555555556,\"#d8576b\"],[0.6666666666666666,\"#ed7953\"],[0.7777777777777778,\"#fb9f3a\"],[0.8888888888888888,\"#fdca26\"],[1.0,\"#f0f921\"]],\"type\":\"histogram2dcontour\"}],\"mesh3d\":[{\"colorbar\":{\"outlinewidth\":0,\"ticks\":\"\"},\"type\":\"mesh3d\"}],\"parcoords\":[{\"line\":{\"colorbar\":{\"outlinewidth\":0,\"ticks\":\"\"}},\"type\":\"parcoords\"}],\"pie\":[{\"automargin\":true,\"type\":\"pie\"}],\"scatter\":[{\"marker\":{\"colorbar\":{\"outlinewidth\":0,\"ticks\":\"\"}},\"type\":\"scatter\"}],\"scatter3d\":[{\"line\":{\"colorbar\":{\"outlinewidth\":0,\"ticks\":\"\"}},\"marker\":{\"colorbar\":{\"outlinewidth\":0,\"ticks\":\"\"}},\"type\":\"scatter3d\"}],\"scattercarpet\":[{\"marker\":{\"colorbar\":{\"outlinewidth\":0,\"ticks\":\"\"}},\"type\":\"scattercarpet\"}],\"scattergeo\":[{\"marker\":{\"colorbar\":{\"outlinewidth\":0,\"ticks\":\"\"}},\"type\":\"scattergeo\"}],\"scattergl\":[{\"marker\":{\"colorbar\":{\"outlinewidth\":0,\"ticks\":\"\"}},\"type\":\"scattergl\"}],\"scattermapbox\":[{\"marker\":{\"colorbar\":{\"outlinewidth\":0,\"ticks\":\"\"}},\"type\":\"scattermapbox\"}],\"scatterpolar\":[{\"marker\":{\"colorbar\":{\"outlinewidth\":0,\"ticks\":\"\"}},\"type\":\"scatterpolar\"}],\"scatterpolargl\":[{\"marker\":{\"colorbar\":{\"outlinewidth\":0,\"ticks\":\"\"}},\"type\":\"scatterpolargl\"}],\"scatterternary\":[{\"marker\":{\"colorbar\":{\"outlinewidth\":0,\"ticks\":\"\"}},\"type\":\"scatterternary\"}],\"surface\":[{\"colorbar\":{\"outlinewidth\":0,\"ticks\":\"\"},\"colorscale\":[[0.0,\"#0d0887\"],[0.1111111111111111,\"#46039f\"],[0.2222222222222222,\"#7201a8\"],[0.3333333333333333,\"#9c179e\"],[0.4444444444444444,\"#bd3786\"],[0.5555555555555556,\"#d8576b\"],[0.6666666666666666,\"#ed7953\"],[0.7777777777777778,\"#fb9f3a\"],[0.8888888888888888,\"#fdca26\"],[1.0,\"#f0f921\"]],\"type\":\"surface\"}],\"table\":[{\"cells\":{\"fill\":{\"color\":\"#EBF0F8\"},\"line\":{\"color\":\"white\"}},\"header\":{\"fill\":{\"color\":\"#C8D4E3\"},\"line\":{\"color\":\"white\"}},\"type\":\"table\"}]},\"layout\":{\"annotationdefaults\":{\"arrowcolor\":\"#2a3f5f\",\"arrowhead\":0,\"arrowwidth\":1},\"autotypenumbers\":\"strict\",\"coloraxis\":{\"colorbar\":{\"outlinewidth\":0,\"ticks\":\"\"}},\"colorscale\":{\"diverging\":[[0,\"#8e0152\"],[0.1,\"#c51b7d\"],[0.2,\"#de77ae\"],[0.3,\"#f1b6da\"],[0.4,\"#fde0ef\"],[0.5,\"#f7f7f7\"],[0.6,\"#e6f5d0\"],[0.7,\"#b8e186\"],[0.8,\"#7fbc41\"],[0.9,\"#4d9221\"],[1,\"#276419\"]],\"sequential\":[[0.0,\"#0d0887\"],[0.1111111111111111,\"#46039f\"],[0.2222222222222222,\"#7201a8\"],[0.3333333333333333,\"#9c179e\"],[0.4444444444444444,\"#bd3786\"],[0.5555555555555556,\"#d8576b\"],[0.6666666666666666,\"#ed7953\"],[0.7777777777777778,\"#fb9f3a\"],[0.8888888888888888,\"#fdca26\"],[1.0,\"#f0f921\"]],\"sequentialminus\":[[0.0,\"#0d0887\"],[0.1111111111111111,\"#46039f\"],[0.2222222222222222,\"#7201a8\"],[0.3333333333333333,\"#9c179e\"],[0.4444444444444444,\"#bd3786\"],[0.5555555555555556,\"#d8576b\"],[0.6666666666666666,\"#ed7953\"],[0.7777777777777778,\"#fb9f3a\"],[0.8888888888888888,\"#fdca26\"],[1.0,\"#f0f921\"]]},\"colorway\":[\"#636efa\",\"#EF553B\",\"#00cc96\",\"#ab63fa\",\"#FFA15A\",\"#19d3f3\",\"#FF6692\",\"#B6E880\",\"#FF97FF\",\"#FECB52\"],\"font\":{\"color\":\"#2a3f5f\"},\"geo\":{\"bgcolor\":\"white\",\"lakecolor\":\"white\",\"landcolor\":\"#E5ECF6\",\"showlakes\":true,\"showland\":true,\"subunitcolor\":\"white\"},\"hoverlabel\":{\"align\":\"left\"},\"hovermode\":\"closest\",\"mapbox\":{\"style\":\"light\"},\"paper_bgcolor\":\"white\",\"plot_bgcolor\":\"#E5ECF6\",\"polar\":{\"angularaxis\":{\"gridcolor\":\"white\",\"linecolor\":\"white\",\"ticks\":\"\"},\"bgcolor\":\"#E5ECF6\",\"radialaxis\":{\"gridcolor\":\"white\",\"linecolor\":\"white\",\"ticks\":\"\"}},\"scene\":{\"xaxis\":{\"backgroundcolor\":\"#E5ECF6\",\"gridcolor\":\"white\",\"gridwidth\":2,\"linecolor\":\"white\",\"showbackground\":true,\"ticks\":\"\",\"zerolinecolor\":\"white\"},\"yaxis\":{\"backgroundcolor\":\"#E5ECF6\",\"gridcolor\":\"white\",\"gridwidth\":2,\"linecolor\":\"white\",\"showbackground\":true,\"ticks\":\"\",\"zerolinecolor\":\"white\"},\"zaxis\":{\"backgroundcolor\":\"#E5ECF6\",\"gridcolor\":\"white\",\"gridwidth\":2,\"linecolor\":\"white\",\"showbackground\":true,\"ticks\":\"\",\"zerolinecolor\":\"white\"}},\"shapedefaults\":{\"line\":{\"color\":\"#2a3f5f\"}},\"ternary\":{\"aaxis\":{\"gridcolor\":\"white\",\"linecolor\":\"white\",\"ticks\":\"\"},\"baxis\":{\"gridcolor\":\"white\",\"linecolor\":\"white\",\"ticks\":\"\"},\"bgcolor\":\"#E5ECF6\",\"caxis\":{\"gridcolor\":\"white\",\"linecolor\":\"white\",\"ticks\":\"\"}},\"title\":{\"x\":0.05},\"xaxis\":{\"automargin\":true,\"gridcolor\":\"white\",\"linecolor\":\"white\",\"ticks\":\"\",\"title\":{\"standoff\":15},\"zerolinecolor\":\"white\",\"zerolinewidth\":2},\"yaxis\":{\"automargin\":true,\"gridcolor\":\"white\",\"linecolor\":\"white\",\"ticks\":\"\",\"title\":{\"standoff\":15},\"zerolinecolor\":\"white\",\"zerolinewidth\":2}}},\"title\":{\"font\":{\"color\":\"#4D5663\"},\"text\":\"GDP Per Capita Per Country Over Time\"},\"xaxis\":{\"gridcolor\":\"#E1E5ED\",\"showgrid\":true,\"tickfont\":{\"color\":\"#4D5663\"},\"title\":{\"font\":{\"color\":\"#4D5663\"},\"text\":\"Date\"},\"zerolinecolor\":\"#E1E5ED\"},\"yaxis\":{\"gridcolor\":\"#E1E5ED\",\"showgrid\":true,\"tickfont\":{\"color\":\"#4D5663\"},\"title\":{\"font\":{\"color\":\"#4D5663\"},\"text\":\"GDP Per Capita\"},\"zerolinecolor\":\"#E1E5ED\"}},                        {\"showLink\": true, \"linkText\": \"Export to plot.ly\", \"plotlyServerURL\": \"https://plot.ly\", \"responsive\": true}                    ).then(function(){\n",
       "                            \n",
       "var gd = document.getElementById('fbe6b364-8df7-4da7-b18c-eec01c2d55c6');\n",
       "var x = new MutationObserver(function (mutations, observer) {{\n",
       "        var display = window.getComputedStyle(gd).display;\n",
       "        if (!display || display === 'none') {{\n",
       "            console.log([gd, 'removed!']);\n",
       "            Plotly.purge(gd);\n",
       "            observer.disconnect();\n",
       "        }}\n",
       "}});\n",
       "\n",
       "// Listen for the removal of the full notebook cells\n",
       "var notebookContainer = gd.closest('#notebook-container');\n",
       "if (notebookContainer) {{\n",
       "    x.observe(notebookContainer, {childList: true});\n",
       "}}\n",
       "\n",
       "// Listen for the clearing of the current output cell\n",
       "var outputEl = gd.closest('.output');\n",
       "if (outputEl) {{\n",
       "    x.observe(outputEl, {childList: true});\n",
       "}}\n",
       "\n",
       "                        })                };                });            </script>        </div>"
      ]
     },
     "metadata": {},
     "output_type": "display_data"
    }
   ],
   "source": [
    "#GDP per capital by country\n",
    "GDP_indicators = {\"NY.GDP.PCAP.CD\": \"GDP per capita\"}\n",
    "GDP_data = wbdata.get_dataframe(GDP_indicators, \n",
    "                                country = ['FIN', 'COL']).sort_values('date', ascending = True)\n",
    "GDP_data = GDP_data.unstack('country')\n",
    "GDP_data.head()\n",
    "GDP_data.iplot(xTitle=\"Date\",\n",
    "               yTitle=\"GDP Per Capita\",\n",
    "               title=\"GDP Per Capita Per Country Over Time\")"
   ]
  },
  {
   "cell_type": "markdown",
   "id": "271baf67",
   "metadata": {},
   "source": [
    "#### 2. This code chunk similarly compares average years of total schooling between Columbia and Finland. One country only took data points every 5 years so we dropped all other information for a uniform x-axis."
   ]
  },
  {
   "cell_type": "code",
   "execution_count": 11,
   "id": "ad389938",
   "metadata": {},
   "outputs": [
    {
     "data": {
      "application/vnd.plotly.v1+json": {
       "config": {
        "linkText": "Export to plot.ly",
        "plotlyServerURL": "https://plot.ly",
        "showLink": true
       },
       "data": [
        {
         "line": {
          "color": "rgba(255, 153, 51, 1.0)",
          "dash": "solid",
          "shape": "linear",
          "width": 1.3
         },
         "mode": "lines",
         "name": "('Average years of total schooling (Total)', 'Colombia')",
         "text": "",
         "type": "scatter",
         "x": [
          "1970",
          "1975",
          "1980",
          "1985",
          "1990",
          "1995",
          "2000",
          "2005",
          "2010"
         ],
         "y": [
          4.59,
          5.19,
          5.77,
          6.32,
          6.63,
          7.08,
          7.3,
          7.57,
          9.95
         ]
        },
        {
         "line": {
          "color": "rgba(55, 128, 191, 1.0)",
          "dash": "solid",
          "shape": "linear",
          "width": 1.3
         },
         "mode": "lines",
         "name": "('Average years of total schooling (Total)', 'Finland')",
         "text": "",
         "type": "scatter",
         "x": [
          "1970",
          "1975",
          "1980",
          "1985",
          "1990",
          "1995",
          "2000",
          "2005",
          "2010"
         ],
         "y": [
          6.13,
          6.12,
          6.27,
          6.31,
          6.2,
          6.3,
          6.27,
          7.29,
          9.4
         ]
        }
       ],
       "layout": {
        "legend": {
         "bgcolor": "#F5F6F9",
         "font": {
          "color": "#4D5663"
         }
        },
        "paper_bgcolor": "#F5F6F9",
        "plot_bgcolor": "#F5F6F9",
        "template": {
         "data": {
          "bar": [
           {
            "error_x": {
             "color": "#2a3f5f"
            },
            "error_y": {
             "color": "#2a3f5f"
            },
            "marker": {
             "line": {
              "color": "#E5ECF6",
              "width": 0.5
             },
             "pattern": {
              "fillmode": "overlay",
              "size": 10,
              "solidity": 0.2
             }
            },
            "type": "bar"
           }
          ],
          "barpolar": [
           {
            "marker": {
             "line": {
              "color": "#E5ECF6",
              "width": 0.5
             },
             "pattern": {
              "fillmode": "overlay",
              "size": 10,
              "solidity": 0.2
             }
            },
            "type": "barpolar"
           }
          ],
          "carpet": [
           {
            "aaxis": {
             "endlinecolor": "#2a3f5f",
             "gridcolor": "white",
             "linecolor": "white",
             "minorgridcolor": "white",
             "startlinecolor": "#2a3f5f"
            },
            "baxis": {
             "endlinecolor": "#2a3f5f",
             "gridcolor": "white",
             "linecolor": "white",
             "minorgridcolor": "white",
             "startlinecolor": "#2a3f5f"
            },
            "type": "carpet"
           }
          ],
          "choropleth": [
           {
            "colorbar": {
             "outlinewidth": 0,
             "ticks": ""
            },
            "type": "choropleth"
           }
          ],
          "contour": [
           {
            "colorbar": {
             "outlinewidth": 0,
             "ticks": ""
            },
            "colorscale": [
             [
              0,
              "#0d0887"
             ],
             [
              0.1111111111111111,
              "#46039f"
             ],
             [
              0.2222222222222222,
              "#7201a8"
             ],
             [
              0.3333333333333333,
              "#9c179e"
             ],
             [
              0.4444444444444444,
              "#bd3786"
             ],
             [
              0.5555555555555556,
              "#d8576b"
             ],
             [
              0.6666666666666666,
              "#ed7953"
             ],
             [
              0.7777777777777778,
              "#fb9f3a"
             ],
             [
              0.8888888888888888,
              "#fdca26"
             ],
             [
              1,
              "#f0f921"
             ]
            ],
            "type": "contour"
           }
          ],
          "contourcarpet": [
           {
            "colorbar": {
             "outlinewidth": 0,
             "ticks": ""
            },
            "type": "contourcarpet"
           }
          ],
          "heatmap": [
           {
            "colorbar": {
             "outlinewidth": 0,
             "ticks": ""
            },
            "colorscale": [
             [
              0,
              "#0d0887"
             ],
             [
              0.1111111111111111,
              "#46039f"
             ],
             [
              0.2222222222222222,
              "#7201a8"
             ],
             [
              0.3333333333333333,
              "#9c179e"
             ],
             [
              0.4444444444444444,
              "#bd3786"
             ],
             [
              0.5555555555555556,
              "#d8576b"
             ],
             [
              0.6666666666666666,
              "#ed7953"
             ],
             [
              0.7777777777777778,
              "#fb9f3a"
             ],
             [
              0.8888888888888888,
              "#fdca26"
             ],
             [
              1,
              "#f0f921"
             ]
            ],
            "type": "heatmap"
           }
          ],
          "heatmapgl": [
           {
            "colorbar": {
             "outlinewidth": 0,
             "ticks": ""
            },
            "colorscale": [
             [
              0,
              "#0d0887"
             ],
             [
              0.1111111111111111,
              "#46039f"
             ],
             [
              0.2222222222222222,
              "#7201a8"
             ],
             [
              0.3333333333333333,
              "#9c179e"
             ],
             [
              0.4444444444444444,
              "#bd3786"
             ],
             [
              0.5555555555555556,
              "#d8576b"
             ],
             [
              0.6666666666666666,
              "#ed7953"
             ],
             [
              0.7777777777777778,
              "#fb9f3a"
             ],
             [
              0.8888888888888888,
              "#fdca26"
             ],
             [
              1,
              "#f0f921"
             ]
            ],
            "type": "heatmapgl"
           }
          ],
          "histogram": [
           {
            "marker": {
             "pattern": {
              "fillmode": "overlay",
              "size": 10,
              "solidity": 0.2
             }
            },
            "type": "histogram"
           }
          ],
          "histogram2d": [
           {
            "colorbar": {
             "outlinewidth": 0,
             "ticks": ""
            },
            "colorscale": [
             [
              0,
              "#0d0887"
             ],
             [
              0.1111111111111111,
              "#46039f"
             ],
             [
              0.2222222222222222,
              "#7201a8"
             ],
             [
              0.3333333333333333,
              "#9c179e"
             ],
             [
              0.4444444444444444,
              "#bd3786"
             ],
             [
              0.5555555555555556,
              "#d8576b"
             ],
             [
              0.6666666666666666,
              "#ed7953"
             ],
             [
              0.7777777777777778,
              "#fb9f3a"
             ],
             [
              0.8888888888888888,
              "#fdca26"
             ],
             [
              1,
              "#f0f921"
             ]
            ],
            "type": "histogram2d"
           }
          ],
          "histogram2dcontour": [
           {
            "colorbar": {
             "outlinewidth": 0,
             "ticks": ""
            },
            "colorscale": [
             [
              0,
              "#0d0887"
             ],
             [
              0.1111111111111111,
              "#46039f"
             ],
             [
              0.2222222222222222,
              "#7201a8"
             ],
             [
              0.3333333333333333,
              "#9c179e"
             ],
             [
              0.4444444444444444,
              "#bd3786"
             ],
             [
              0.5555555555555556,
              "#d8576b"
             ],
             [
              0.6666666666666666,
              "#ed7953"
             ],
             [
              0.7777777777777778,
              "#fb9f3a"
             ],
             [
              0.8888888888888888,
              "#fdca26"
             ],
             [
              1,
              "#f0f921"
             ]
            ],
            "type": "histogram2dcontour"
           }
          ],
          "mesh3d": [
           {
            "colorbar": {
             "outlinewidth": 0,
             "ticks": ""
            },
            "type": "mesh3d"
           }
          ],
          "parcoords": [
           {
            "line": {
             "colorbar": {
              "outlinewidth": 0,
              "ticks": ""
             }
            },
            "type": "parcoords"
           }
          ],
          "pie": [
           {
            "automargin": true,
            "type": "pie"
           }
          ],
          "scatter": [
           {
            "marker": {
             "colorbar": {
              "outlinewidth": 0,
              "ticks": ""
             }
            },
            "type": "scatter"
           }
          ],
          "scatter3d": [
           {
            "line": {
             "colorbar": {
              "outlinewidth": 0,
              "ticks": ""
             }
            },
            "marker": {
             "colorbar": {
              "outlinewidth": 0,
              "ticks": ""
             }
            },
            "type": "scatter3d"
           }
          ],
          "scattercarpet": [
           {
            "marker": {
             "colorbar": {
              "outlinewidth": 0,
              "ticks": ""
             }
            },
            "type": "scattercarpet"
           }
          ],
          "scattergeo": [
           {
            "marker": {
             "colorbar": {
              "outlinewidth": 0,
              "ticks": ""
             }
            },
            "type": "scattergeo"
           }
          ],
          "scattergl": [
           {
            "marker": {
             "colorbar": {
              "outlinewidth": 0,
              "ticks": ""
             }
            },
            "type": "scattergl"
           }
          ],
          "scattermapbox": [
           {
            "marker": {
             "colorbar": {
              "outlinewidth": 0,
              "ticks": ""
             }
            },
            "type": "scattermapbox"
           }
          ],
          "scatterpolar": [
           {
            "marker": {
             "colorbar": {
              "outlinewidth": 0,
              "ticks": ""
             }
            },
            "type": "scatterpolar"
           }
          ],
          "scatterpolargl": [
           {
            "marker": {
             "colorbar": {
              "outlinewidth": 0,
              "ticks": ""
             }
            },
            "type": "scatterpolargl"
           }
          ],
          "scatterternary": [
           {
            "marker": {
             "colorbar": {
              "outlinewidth": 0,
              "ticks": ""
             }
            },
            "type": "scatterternary"
           }
          ],
          "surface": [
           {
            "colorbar": {
             "outlinewidth": 0,
             "ticks": ""
            },
            "colorscale": [
             [
              0,
              "#0d0887"
             ],
             [
              0.1111111111111111,
              "#46039f"
             ],
             [
              0.2222222222222222,
              "#7201a8"
             ],
             [
              0.3333333333333333,
              "#9c179e"
             ],
             [
              0.4444444444444444,
              "#bd3786"
             ],
             [
              0.5555555555555556,
              "#d8576b"
             ],
             [
              0.6666666666666666,
              "#ed7953"
             ],
             [
              0.7777777777777778,
              "#fb9f3a"
             ],
             [
              0.8888888888888888,
              "#fdca26"
             ],
             [
              1,
              "#f0f921"
             ]
            ],
            "type": "surface"
           }
          ],
          "table": [
           {
            "cells": {
             "fill": {
              "color": "#EBF0F8"
             },
             "line": {
              "color": "white"
             }
            },
            "header": {
             "fill": {
              "color": "#C8D4E3"
             },
             "line": {
              "color": "white"
             }
            },
            "type": "table"
           }
          ]
         },
         "layout": {
          "annotationdefaults": {
           "arrowcolor": "#2a3f5f",
           "arrowhead": 0,
           "arrowwidth": 1
          },
          "autotypenumbers": "strict",
          "coloraxis": {
           "colorbar": {
            "outlinewidth": 0,
            "ticks": ""
           }
          },
          "colorscale": {
           "diverging": [
            [
             0,
             "#8e0152"
            ],
            [
             0.1,
             "#c51b7d"
            ],
            [
             0.2,
             "#de77ae"
            ],
            [
             0.3,
             "#f1b6da"
            ],
            [
             0.4,
             "#fde0ef"
            ],
            [
             0.5,
             "#f7f7f7"
            ],
            [
             0.6,
             "#e6f5d0"
            ],
            [
             0.7,
             "#b8e186"
            ],
            [
             0.8,
             "#7fbc41"
            ],
            [
             0.9,
             "#4d9221"
            ],
            [
             1,
             "#276419"
            ]
           ],
           "sequential": [
            [
             0,
             "#0d0887"
            ],
            [
             0.1111111111111111,
             "#46039f"
            ],
            [
             0.2222222222222222,
             "#7201a8"
            ],
            [
             0.3333333333333333,
             "#9c179e"
            ],
            [
             0.4444444444444444,
             "#bd3786"
            ],
            [
             0.5555555555555556,
             "#d8576b"
            ],
            [
             0.6666666666666666,
             "#ed7953"
            ],
            [
             0.7777777777777778,
             "#fb9f3a"
            ],
            [
             0.8888888888888888,
             "#fdca26"
            ],
            [
             1,
             "#f0f921"
            ]
           ],
           "sequentialminus": [
            [
             0,
             "#0d0887"
            ],
            [
             0.1111111111111111,
             "#46039f"
            ],
            [
             0.2222222222222222,
             "#7201a8"
            ],
            [
             0.3333333333333333,
             "#9c179e"
            ],
            [
             0.4444444444444444,
             "#bd3786"
            ],
            [
             0.5555555555555556,
             "#d8576b"
            ],
            [
             0.6666666666666666,
             "#ed7953"
            ],
            [
             0.7777777777777778,
             "#fb9f3a"
            ],
            [
             0.8888888888888888,
             "#fdca26"
            ],
            [
             1,
             "#f0f921"
            ]
           ]
          },
          "colorway": [
           "#636efa",
           "#EF553B",
           "#00cc96",
           "#ab63fa",
           "#FFA15A",
           "#19d3f3",
           "#FF6692",
           "#B6E880",
           "#FF97FF",
           "#FECB52"
          ],
          "font": {
           "color": "#2a3f5f"
          },
          "geo": {
           "bgcolor": "white",
           "lakecolor": "white",
           "landcolor": "#E5ECF6",
           "showlakes": true,
           "showland": true,
           "subunitcolor": "white"
          },
          "hoverlabel": {
           "align": "left"
          },
          "hovermode": "closest",
          "mapbox": {
           "style": "light"
          },
          "paper_bgcolor": "white",
          "plot_bgcolor": "#E5ECF6",
          "polar": {
           "angularaxis": {
            "gridcolor": "white",
            "linecolor": "white",
            "ticks": ""
           },
           "bgcolor": "#E5ECF6",
           "radialaxis": {
            "gridcolor": "white",
            "linecolor": "white",
            "ticks": ""
           }
          },
          "scene": {
           "xaxis": {
            "backgroundcolor": "#E5ECF6",
            "gridcolor": "white",
            "gridwidth": 2,
            "linecolor": "white",
            "showbackground": true,
            "ticks": "",
            "zerolinecolor": "white"
           },
           "yaxis": {
            "backgroundcolor": "#E5ECF6",
            "gridcolor": "white",
            "gridwidth": 2,
            "linecolor": "white",
            "showbackground": true,
            "ticks": "",
            "zerolinecolor": "white"
           },
           "zaxis": {
            "backgroundcolor": "#E5ECF6",
            "gridcolor": "white",
            "gridwidth": 2,
            "linecolor": "white",
            "showbackground": true,
            "ticks": "",
            "zerolinecolor": "white"
           }
          },
          "shapedefaults": {
           "line": {
            "color": "#2a3f5f"
           }
          },
          "ternary": {
           "aaxis": {
            "gridcolor": "white",
            "linecolor": "white",
            "ticks": ""
           },
           "baxis": {
            "gridcolor": "white",
            "linecolor": "white",
            "ticks": ""
           },
           "bgcolor": "#E5ECF6",
           "caxis": {
            "gridcolor": "white",
            "linecolor": "white",
            "ticks": ""
           }
          },
          "title": {
           "x": 0.05
          },
          "xaxis": {
           "automargin": true,
           "gridcolor": "white",
           "linecolor": "white",
           "ticks": "",
           "title": {
            "standoff": 15
           },
           "zerolinecolor": "white",
           "zerolinewidth": 2
          },
          "yaxis": {
           "automargin": true,
           "gridcolor": "white",
           "linecolor": "white",
           "ticks": "",
           "title": {
            "standoff": 15
           },
           "zerolinecolor": "white",
           "zerolinewidth": 2
          }
         }
        },
        "title": {
         "font": {
          "color": "#4D5663"
         },
         "text": "Total Years of Schooling Segmented by Gender"
        },
        "xaxis": {
         "gridcolor": "#E1E5ED",
         "showgrid": true,
         "tickfont": {
          "color": "#4D5663"
         },
         "title": {
          "font": {
           "color": "#4D5663"
          },
          "text": "Date"
         },
         "zerolinecolor": "#E1E5ED"
        },
        "yaxis": {
         "gridcolor": "#E1E5ED",
         "showgrid": true,
         "tickfont": {
          "color": "#4D5663"
         },
         "title": {
          "font": {
           "color": "#4D5663"
          },
          "text": "Years of Schooling"
         },
         "zerolinecolor": "#E1E5ED"
        }
       }
      },
      "text/html": [
       "<div>                            <div id=\"17422317-2bce-46db-b60e-28d358838445\" class=\"plotly-graph-div\" style=\"height:525px; width:100%;\"></div>            <script type=\"text/javascript\">                require([\"plotly\"], function(Plotly) {                    window.PLOTLYENV=window.PLOTLYENV || {};\n",
       "                    window.PLOTLYENV.BASE_URL='https://plot.ly';                                    if (document.getElementById(\"17422317-2bce-46db-b60e-28d358838445\")) {                    Plotly.newPlot(                        \"17422317-2bce-46db-b60e-28d358838445\",                        [{\"line\":{\"color\":\"rgba(255, 153, 51, 1.0)\",\"dash\":\"solid\",\"shape\":\"linear\",\"width\":1.3},\"mode\":\"lines\",\"name\":\"('Average years of total schooling (Total)', 'Colombia')\",\"text\":\"\",\"type\":\"scatter\",\"x\":[\"1970\",\"1975\",\"1980\",\"1985\",\"1990\",\"1995\",\"2000\",\"2005\",\"2010\"],\"y\":[4.59,5.19,5.77,6.32,6.63,7.08,7.3,7.57,9.95]},{\"line\":{\"color\":\"rgba(55, 128, 191, 1.0)\",\"dash\":\"solid\",\"shape\":\"linear\",\"width\":1.3},\"mode\":\"lines\",\"name\":\"('Average years of total schooling (Total)', 'Finland')\",\"text\":\"\",\"type\":\"scatter\",\"x\":[\"1970\",\"1975\",\"1980\",\"1985\",\"1990\",\"1995\",\"2000\",\"2005\",\"2010\"],\"y\":[6.13,6.12,6.27,6.31,6.2,6.3,6.27,7.29,9.4]}],                        {\"legend\":{\"bgcolor\":\"#F5F6F9\",\"font\":{\"color\":\"#4D5663\"}},\"paper_bgcolor\":\"#F5F6F9\",\"plot_bgcolor\":\"#F5F6F9\",\"template\":{\"data\":{\"bar\":[{\"error_x\":{\"color\":\"#2a3f5f\"},\"error_y\":{\"color\":\"#2a3f5f\"},\"marker\":{\"line\":{\"color\":\"#E5ECF6\",\"width\":0.5},\"pattern\":{\"fillmode\":\"overlay\",\"size\":10,\"solidity\":0.2}},\"type\":\"bar\"}],\"barpolar\":[{\"marker\":{\"line\":{\"color\":\"#E5ECF6\",\"width\":0.5},\"pattern\":{\"fillmode\":\"overlay\",\"size\":10,\"solidity\":0.2}},\"type\":\"barpolar\"}],\"carpet\":[{\"aaxis\":{\"endlinecolor\":\"#2a3f5f\",\"gridcolor\":\"white\",\"linecolor\":\"white\",\"minorgridcolor\":\"white\",\"startlinecolor\":\"#2a3f5f\"},\"baxis\":{\"endlinecolor\":\"#2a3f5f\",\"gridcolor\":\"white\",\"linecolor\":\"white\",\"minorgridcolor\":\"white\",\"startlinecolor\":\"#2a3f5f\"},\"type\":\"carpet\"}],\"choropleth\":[{\"colorbar\":{\"outlinewidth\":0,\"ticks\":\"\"},\"type\":\"choropleth\"}],\"contour\":[{\"colorbar\":{\"outlinewidth\":0,\"ticks\":\"\"},\"colorscale\":[[0.0,\"#0d0887\"],[0.1111111111111111,\"#46039f\"],[0.2222222222222222,\"#7201a8\"],[0.3333333333333333,\"#9c179e\"],[0.4444444444444444,\"#bd3786\"],[0.5555555555555556,\"#d8576b\"],[0.6666666666666666,\"#ed7953\"],[0.7777777777777778,\"#fb9f3a\"],[0.8888888888888888,\"#fdca26\"],[1.0,\"#f0f921\"]],\"type\":\"contour\"}],\"contourcarpet\":[{\"colorbar\":{\"outlinewidth\":0,\"ticks\":\"\"},\"type\":\"contourcarpet\"}],\"heatmap\":[{\"colorbar\":{\"outlinewidth\":0,\"ticks\":\"\"},\"colorscale\":[[0.0,\"#0d0887\"],[0.1111111111111111,\"#46039f\"],[0.2222222222222222,\"#7201a8\"],[0.3333333333333333,\"#9c179e\"],[0.4444444444444444,\"#bd3786\"],[0.5555555555555556,\"#d8576b\"],[0.6666666666666666,\"#ed7953\"],[0.7777777777777778,\"#fb9f3a\"],[0.8888888888888888,\"#fdca26\"],[1.0,\"#f0f921\"]],\"type\":\"heatmap\"}],\"heatmapgl\":[{\"colorbar\":{\"outlinewidth\":0,\"ticks\":\"\"},\"colorscale\":[[0.0,\"#0d0887\"],[0.1111111111111111,\"#46039f\"],[0.2222222222222222,\"#7201a8\"],[0.3333333333333333,\"#9c179e\"],[0.4444444444444444,\"#bd3786\"],[0.5555555555555556,\"#d8576b\"],[0.6666666666666666,\"#ed7953\"],[0.7777777777777778,\"#fb9f3a\"],[0.8888888888888888,\"#fdca26\"],[1.0,\"#f0f921\"]],\"type\":\"heatmapgl\"}],\"histogram\":[{\"marker\":{\"pattern\":{\"fillmode\":\"overlay\",\"size\":10,\"solidity\":0.2}},\"type\":\"histogram\"}],\"histogram2d\":[{\"colorbar\":{\"outlinewidth\":0,\"ticks\":\"\"},\"colorscale\":[[0.0,\"#0d0887\"],[0.1111111111111111,\"#46039f\"],[0.2222222222222222,\"#7201a8\"],[0.3333333333333333,\"#9c179e\"],[0.4444444444444444,\"#bd3786\"],[0.5555555555555556,\"#d8576b\"],[0.6666666666666666,\"#ed7953\"],[0.7777777777777778,\"#fb9f3a\"],[0.8888888888888888,\"#fdca26\"],[1.0,\"#f0f921\"]],\"type\":\"histogram2d\"}],\"histogram2dcontour\":[{\"colorbar\":{\"outlinewidth\":0,\"ticks\":\"\"},\"colorscale\":[[0.0,\"#0d0887\"],[0.1111111111111111,\"#46039f\"],[0.2222222222222222,\"#7201a8\"],[0.3333333333333333,\"#9c179e\"],[0.4444444444444444,\"#bd3786\"],[0.5555555555555556,\"#d8576b\"],[0.6666666666666666,\"#ed7953\"],[0.7777777777777778,\"#fb9f3a\"],[0.8888888888888888,\"#fdca26\"],[1.0,\"#f0f921\"]],\"type\":\"histogram2dcontour\"}],\"mesh3d\":[{\"colorbar\":{\"outlinewidth\":0,\"ticks\":\"\"},\"type\":\"mesh3d\"}],\"parcoords\":[{\"line\":{\"colorbar\":{\"outlinewidth\":0,\"ticks\":\"\"}},\"type\":\"parcoords\"}],\"pie\":[{\"automargin\":true,\"type\":\"pie\"}],\"scatter\":[{\"marker\":{\"colorbar\":{\"outlinewidth\":0,\"ticks\":\"\"}},\"type\":\"scatter\"}],\"scatter3d\":[{\"line\":{\"colorbar\":{\"outlinewidth\":0,\"ticks\":\"\"}},\"marker\":{\"colorbar\":{\"outlinewidth\":0,\"ticks\":\"\"}},\"type\":\"scatter3d\"}],\"scattercarpet\":[{\"marker\":{\"colorbar\":{\"outlinewidth\":0,\"ticks\":\"\"}},\"type\":\"scattercarpet\"}],\"scattergeo\":[{\"marker\":{\"colorbar\":{\"outlinewidth\":0,\"ticks\":\"\"}},\"type\":\"scattergeo\"}],\"scattergl\":[{\"marker\":{\"colorbar\":{\"outlinewidth\":0,\"ticks\":\"\"}},\"type\":\"scattergl\"}],\"scattermapbox\":[{\"marker\":{\"colorbar\":{\"outlinewidth\":0,\"ticks\":\"\"}},\"type\":\"scattermapbox\"}],\"scatterpolar\":[{\"marker\":{\"colorbar\":{\"outlinewidth\":0,\"ticks\":\"\"}},\"type\":\"scatterpolar\"}],\"scatterpolargl\":[{\"marker\":{\"colorbar\":{\"outlinewidth\":0,\"ticks\":\"\"}},\"type\":\"scatterpolargl\"}],\"scatterternary\":[{\"marker\":{\"colorbar\":{\"outlinewidth\":0,\"ticks\":\"\"}},\"type\":\"scatterternary\"}],\"surface\":[{\"colorbar\":{\"outlinewidth\":0,\"ticks\":\"\"},\"colorscale\":[[0.0,\"#0d0887\"],[0.1111111111111111,\"#46039f\"],[0.2222222222222222,\"#7201a8\"],[0.3333333333333333,\"#9c179e\"],[0.4444444444444444,\"#bd3786\"],[0.5555555555555556,\"#d8576b\"],[0.6666666666666666,\"#ed7953\"],[0.7777777777777778,\"#fb9f3a\"],[0.8888888888888888,\"#fdca26\"],[1.0,\"#f0f921\"]],\"type\":\"surface\"}],\"table\":[{\"cells\":{\"fill\":{\"color\":\"#EBF0F8\"},\"line\":{\"color\":\"white\"}},\"header\":{\"fill\":{\"color\":\"#C8D4E3\"},\"line\":{\"color\":\"white\"}},\"type\":\"table\"}]},\"layout\":{\"annotationdefaults\":{\"arrowcolor\":\"#2a3f5f\",\"arrowhead\":0,\"arrowwidth\":1},\"autotypenumbers\":\"strict\",\"coloraxis\":{\"colorbar\":{\"outlinewidth\":0,\"ticks\":\"\"}},\"colorscale\":{\"diverging\":[[0,\"#8e0152\"],[0.1,\"#c51b7d\"],[0.2,\"#de77ae\"],[0.3,\"#f1b6da\"],[0.4,\"#fde0ef\"],[0.5,\"#f7f7f7\"],[0.6,\"#e6f5d0\"],[0.7,\"#b8e186\"],[0.8,\"#7fbc41\"],[0.9,\"#4d9221\"],[1,\"#276419\"]],\"sequential\":[[0.0,\"#0d0887\"],[0.1111111111111111,\"#46039f\"],[0.2222222222222222,\"#7201a8\"],[0.3333333333333333,\"#9c179e\"],[0.4444444444444444,\"#bd3786\"],[0.5555555555555556,\"#d8576b\"],[0.6666666666666666,\"#ed7953\"],[0.7777777777777778,\"#fb9f3a\"],[0.8888888888888888,\"#fdca26\"],[1.0,\"#f0f921\"]],\"sequentialminus\":[[0.0,\"#0d0887\"],[0.1111111111111111,\"#46039f\"],[0.2222222222222222,\"#7201a8\"],[0.3333333333333333,\"#9c179e\"],[0.4444444444444444,\"#bd3786\"],[0.5555555555555556,\"#d8576b\"],[0.6666666666666666,\"#ed7953\"],[0.7777777777777778,\"#fb9f3a\"],[0.8888888888888888,\"#fdca26\"],[1.0,\"#f0f921\"]]},\"colorway\":[\"#636efa\",\"#EF553B\",\"#00cc96\",\"#ab63fa\",\"#FFA15A\",\"#19d3f3\",\"#FF6692\",\"#B6E880\",\"#FF97FF\",\"#FECB52\"],\"font\":{\"color\":\"#2a3f5f\"},\"geo\":{\"bgcolor\":\"white\",\"lakecolor\":\"white\",\"landcolor\":\"#E5ECF6\",\"showlakes\":true,\"showland\":true,\"subunitcolor\":\"white\"},\"hoverlabel\":{\"align\":\"left\"},\"hovermode\":\"closest\",\"mapbox\":{\"style\":\"light\"},\"paper_bgcolor\":\"white\",\"plot_bgcolor\":\"#E5ECF6\",\"polar\":{\"angularaxis\":{\"gridcolor\":\"white\",\"linecolor\":\"white\",\"ticks\":\"\"},\"bgcolor\":\"#E5ECF6\",\"radialaxis\":{\"gridcolor\":\"white\",\"linecolor\":\"white\",\"ticks\":\"\"}},\"scene\":{\"xaxis\":{\"backgroundcolor\":\"#E5ECF6\",\"gridcolor\":\"white\",\"gridwidth\":2,\"linecolor\":\"white\",\"showbackground\":true,\"ticks\":\"\",\"zerolinecolor\":\"white\"},\"yaxis\":{\"backgroundcolor\":\"#E5ECF6\",\"gridcolor\":\"white\",\"gridwidth\":2,\"linecolor\":\"white\",\"showbackground\":true,\"ticks\":\"\",\"zerolinecolor\":\"white\"},\"zaxis\":{\"backgroundcolor\":\"#E5ECF6\",\"gridcolor\":\"white\",\"gridwidth\":2,\"linecolor\":\"white\",\"showbackground\":true,\"ticks\":\"\",\"zerolinecolor\":\"white\"}},\"shapedefaults\":{\"line\":{\"color\":\"#2a3f5f\"}},\"ternary\":{\"aaxis\":{\"gridcolor\":\"white\",\"linecolor\":\"white\",\"ticks\":\"\"},\"baxis\":{\"gridcolor\":\"white\",\"linecolor\":\"white\",\"ticks\":\"\"},\"bgcolor\":\"#E5ECF6\",\"caxis\":{\"gridcolor\":\"white\",\"linecolor\":\"white\",\"ticks\":\"\"}},\"title\":{\"x\":0.05},\"xaxis\":{\"automargin\":true,\"gridcolor\":\"white\",\"linecolor\":\"white\",\"ticks\":\"\",\"title\":{\"standoff\":15},\"zerolinecolor\":\"white\",\"zerolinewidth\":2},\"yaxis\":{\"automargin\":true,\"gridcolor\":\"white\",\"linecolor\":\"white\",\"ticks\":\"\",\"title\":{\"standoff\":15},\"zerolinecolor\":\"white\",\"zerolinewidth\":2}}},\"title\":{\"font\":{\"color\":\"#4D5663\"},\"text\":\"Total Years of Schooling Segmented by Gender\"},\"xaxis\":{\"gridcolor\":\"#E1E5ED\",\"showgrid\":true,\"tickfont\":{\"color\":\"#4D5663\"},\"title\":{\"font\":{\"color\":\"#4D5663\"},\"text\":\"Date\"},\"zerolinecolor\":\"#E1E5ED\"},\"yaxis\":{\"gridcolor\":\"#E1E5ED\",\"showgrid\":true,\"tickfont\":{\"color\":\"#4D5663\"},\"title\":{\"font\":{\"color\":\"#4D5663\"},\"text\":\"Years of Schooling\"},\"zerolinecolor\":\"#E1E5ED\"}},                        {\"showLink\": true, \"linkText\": \"Export to plot.ly\", \"plotlyServerURL\": \"https://plot.ly\", \"responsive\": true}                    ).then(function(){\n",
       "                            \n",
       "var gd = document.getElementById('17422317-2bce-46db-b60e-28d358838445');\n",
       "var x = new MutationObserver(function (mutations, observer) {{\n",
       "        var display = window.getComputedStyle(gd).display;\n",
       "        if (!display || display === 'none') {{\n",
       "            console.log([gd, 'removed!']);\n",
       "            Plotly.purge(gd);\n",
       "            observer.disconnect();\n",
       "        }}\n",
       "}});\n",
       "\n",
       "// Listen for the removal of the full notebook cells\n",
       "var notebookContainer = gd.closest('#notebook-container');\n",
       "if (notebookContainer) {{\n",
       "    x.observe(notebookContainer, {childList: true});\n",
       "}}\n",
       "\n",
       "// Listen for the clearing of the current output cell\n",
       "var outputEl = gd.closest('.output');\n",
       "if (outputEl) {{\n",
       "    x.observe(outputEl, {childList: true});\n",
       "}}\n",
       "\n",
       "                        })                };                });            </script>        </div>"
      ]
     },
     "metadata": {},
     "output_type": "display_data"
    }
   ],
   "source": [
    "#Average years of schooling by country\n",
    "pd.options.plotting.backend = 'plotly'\n",
    "school_label = {\"BAR.SCHL.1519\" : \"Average years of total schooling (Total)\"}\n",
    "\n",
    "\n",
    "school_enrollment = wbdata.get_dataframe(school_label, country = ['FIN', 'COL'])\n",
    "school_enrollment = school_enrollment.unstack('country').dropna(how='all')\n",
    "school_enrollment.iplot(xTitle=\"Date\",\n",
    "                        yTitle=\"Years of Schooling\",\n",
    "                        title=\"Total Years of Schooling Segmented by Gender\")"
   ]
  },
  {
   "cell_type": "markdown",
   "id": "0355df47",
   "metadata": {},
   "source": [
    "#### 3. Since we observed the overall trend of GDP and average years of school for both countries, we now want to see the the correlation between them in each of the country."
   ]
  },
  {
   "cell_type": "code",
   "execution_count": 12,
   "id": "31b87582",
   "metadata": {},
   "outputs": [],
   "source": [
    "#Finland and Colombia School_Enrollment\n",
    "school_label = {\"BAR.SCHL.1519\" : \"Average years of total schooling (Total)\",\n",
    "        \"BAR.SCHL.1519.FE\" : \"Average years of total schooling (Female)\"\n",
    "        }\n",
    "\n",
    "finland_school_enrollment = wbdata.get_dataframe(school_label, country = \"FIN\")\n",
    "finland_school_enrollment.reset_index(inplace=True)\n",
    "finland_school_enrollment = finland_school_enrollment.groupby(\"date\").sum().replace(0,np.nan).dropna(how=\"any\")\n",
    "\n",
    "colombia_school_enrollment = wbdata.get_dataframe(school_label, country = \"COL\")\n",
    "colombia_school_enrollment.reset_index(inplace=True)\n",
    "colombia_school_enrollment = colombia_school_enrollment.groupby(\"date\").sum().replace(0,np.nan).dropna(how=\"any\")\n"
   ]
  },
  {
   "cell_type": "code",
   "execution_count": 13,
   "id": "ebf877cf",
   "metadata": {},
   "outputs": [],
   "source": [
    "#Finaland and Colombia GDP\n",
    "GDP_indicators = {\"NY.GDP.PCAP.CD\": \"GDP per capita\"}\n",
    "\n",
    "finland_GDP_data = wbdata.get_dataframe(GDP_indicators, country = \"FIN\")\n",
    "finland_GDP_data.reset_index(inplace=True)\n",
    "\n",
    "colombia_GDP_data = wbdata.get_dataframe(GDP_indicators, country = \"COL\")\n",
    "colombia_GDP_data.reset_index(inplace=True)"
   ]
  },
  {
   "cell_type": "code",
   "execution_count": 14,
   "id": "39a02393",
   "metadata": {},
   "outputs": [],
   "source": [
    "#combined dataframe of school enrollment and GDP for respective country\n",
    "fin_education_GDP= finland_school_enrollment.join(finland_GDP_data.set_index('date'), on='date')\n",
    "col_education_GDP= colombia_school_enrollment.join(colombia_GDP_data.set_index('date'), on='date')"
   ]
  },
  {
   "cell_type": "code",
   "execution_count": 15,
   "id": "ed083b14",
   "metadata": {},
   "outputs": [
    {
     "data": {
      "text/plain": [
       "Text(0, 0.5, 'Average years of Schooling (Total)')"
      ]
     },
     "execution_count": 15,
     "metadata": {},
     "output_type": "execute_result"
    },
    {
     "data": {
      "image/png": "[encoded data removed]",
      "text/plain": [
       "<Figure size 1500x800 with 2 Axes>"
      ]
     },
     "metadata": {},
     "output_type": "display_data"
    }
   ],
   "source": [
    "#Finland correlation between GDP and Average years of Schooling (Total)\n",
    "import matplotlib.pyplot as plt\n",
    "fig,finGDP = plt.subplots(figsize = (15,8))\n",
    "finGDP.set_xlabel('Years', fontsize = 13)\n",
    "finGDP.plot(fin_education_GDP[\"GDP per capita\"], color = 'red')\n",
    "finGDP.set_ylabel('GDP per capita', fontsize = 13)\n",
    "finschool = finGDP.twinx()\n",
    "finschool.plot(fin_education_GDP[\"Average years of total schooling (Total)\"], color = 'green')\n",
    "finschool.set_title(\"Finland\", fontsize = 18)\n",
    "finschool.set_ylabel('Average years of Schooling (Total)', fontsize = 13)\n"
   ]
  },
  {
   "cell_type": "code",
   "execution_count": 16,
   "id": "b63cece2",
   "metadata": {},
   "outputs": [
    {
     "data": {
      "text/plain": [
       "Text(0, 0.5, 'Average years of schooling (Total)')"
      ]
     },
     "execution_count": 16,
     "metadata": {},
     "output_type": "execute_result"
    },
    {
     "data": {
      "image/png": "[encoded data removed]",
      "text/plain": [
       "<Figure size 1500x800 with 2 Axes>"
      ]
     },
     "metadata": {},
     "output_type": "display_data"
    }
   ],
   "source": [
    "#Colombia correlation between GDP and Average years of Schooling (Total)\n",
    "import matplotlib.pyplot as plt\n",
    "fig,colGDP = plt.subplots(figsize = (15,8))\n",
    "colGDP.plot(col_education_GDP[\"GDP per capita\"], color = 'red')\n",
    "colGDP.set_ylabel('GDP per capita', fontsize = 13)\n",
    "colGDP.set_xlabel('Years', fontsize = 13)\n",
    "col_school = colGDP.twinx()\n",
    "col_school.plot(col_education_GDP[\"Average years of total schooling (Total)\"], color = 'green')\n",
    "col_school.set_title(\"Colombia\", fontsize = 18)\n",
    "col_school.set_ylabel(\"Average years of schooling (Total)\", fontsize = 13)"
   ]
  },
  {
   "cell_type": "code",
   "execution_count": 17,
   "id": "f38b1b81",
   "metadata": {},
   "outputs": [
    {
     "data": {
      "text/plain": [
       "Text(0, 0.5, 'Average years of schooling (Total)')"
      ]
     },
     "execution_count": 17,
     "metadata": {},
     "output_type": "execute_result"
    },
    {
     "data": {
      "image/png": "[encoded data removed]",
      "text/plain": [
       "<Figure size 2300x800 with 4 Axes>"
      ]
     },
     "metadata": {},
     "output_type": "display_data"
    }
   ],
   "source": [
    "#Comparative analysis between Finland and Colombia's correlation between GDP and Average years of Schooling (Total)\n",
    "import matplotlib.pyplot as plt\n",
    "fig,(finGDP,colGDP) = plt.subplots(1,2, figsize = (23,8))\n",
    "fig.suptitle('GDP and Average years of schooling in Finland and Colombia', fontsize = 20)\n",
    "finGDP.set_xlabel('Years', fontsize = 13)\n",
    "finGDP.plot(fin_education_GDP[\"GDP per capita\"], color = 'red')\n",
    "finGDP.set_ylabel('GDP per capita', fontsize = 13)\n",
    "finschool = finGDP.twinx()\n",
    "finschool.plot(fin_education_GDP[\"Average years of total schooling (Total)\"], color = 'green')\n",
    "finschool.set_title(\"Finland\", fontsize = 18)\n",
    "finschool.set_ylabel('Average years of Schooling (Total)', fontsize = 13)\n",
    "\n",
    "colGDP.plot(col_education_GDP[\"GDP per capita\"], color = 'red')\n",
    "colGDP.set_ylabel('GDP per capita', fontsize = 13)\n",
    "colGDP.set_xlabel('Years', fontsize = 13)\n",
    "col_school = colGDP.twinx()\n",
    "col_school.plot(col_education_GDP[\"Average years of total schooling (Total)\"], color = 'green')\n",
    "col_school.set_title(\"Colombia\", fontsize = 18)\n",
    "col_school.set_ylabel(\"Average years of schooling (Total)\", fontsize = 13)"
   ]
  },
  {
   "cell_type": "code",
   "execution_count": null,
   "id": "b949f0ac",
   "metadata": {},
   "outputs": [],
   "source": []
  }
 ],
 "metadata": {
  "kernelspec": {
   "display_name": "Python 3 (ipykernel)",
   "language": "python",
   "name": "python3"
  },
  "language_info": {
   "codemirror_mode": {
    "name": "ipython",
    "version": 3
   },
   "file_extension": ".py",
   "mimetype": "text/x-python",
   "name": "python",
   "nbconvert_exporter": "python",
   "pygments_lexer": "ipython3",
   "version": "3.9.15"
  }
 },
 "nbformat": 4,
 "nbformat_minor": 5
}
